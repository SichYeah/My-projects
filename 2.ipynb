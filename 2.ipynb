{
 "cells": [
  {
   "cell_type": "markdown",
   "id": "4194f34f",
   "metadata": {
    "deletable": false,
    "editable": false,
    "id": "c81daeeb"
   },
   "source": [
    "# Исследование надежности заемщиков"
   ]
  },
  {
   "cell_type": "markdown",
   "id": "7c2921e6",
   "metadata": {
    "deletable": false,
    "editable": false,
    "id": "-G3EJWzf62s6"
   },
   "source": [
    "Это первая часть проекта, она будет проверена автоматически. Вторую часть проверит ревьюер. "
   ]
  },
  {
   "cell_type": "markdown",
   "id": "b742c573",
   "metadata": {
    "deletable": false,
    "editable": false,
    "id": "744d7639"
   },
   "source": [
    "## Откройте таблицу и изучите общую информацию о данных"
   ]
  },
  {
   "cell_type": "markdown",
   "id": "611dedf7",
   "metadata": {
    "deletable": false,
    "editable": false,
    "id": "e7a14c31",
    "tags": [
     "start_task"
    ]
   },
   "source": [
    "**Задание 1. Импортируйте библиотеку pandas. Считайте данные из csv-файла в датафрейм и сохраните в переменную `data`. Путь к файлу:**\n",
    "\n",
    "`/datasets/data.csv`"
   ]
  },
  {
   "cell_type": "code",
   "execution_count": 1,
   "id": "e3c42b0a",
   "metadata": {
    "id": "7bcf75c9"
   },
   "outputs": [],
   "source": [
    "import pandas as pd\n"
   ]
  },
  {
   "cell_type": "code",
   "execution_count": 2,
   "id": "30e0b144",
   "metadata": {
    "id": "4d240ee2"
   },
   "outputs": [],
   "source": [
    "data = pd.read_csv(\"/datasets/data.csv\")"
   ]
  },
  {
   "cell_type": "markdown",
   "id": "86c69458",
   "metadata": {
    "deletable": false,
    "editable": false,
    "id": "b8038fe3",
    "tags": [
     "start_task"
    ]
   },
   "source": [
    "**Задание 2. Выведите первые 20 строчек датафрейма `data` на экран.**"
   ]
  },
  {
   "cell_type": "code",
   "execution_count": 3,
   "id": "e01f21d8",
   "metadata": {
    "id": "2a7cab99"
   },
   "outputs": [
    {
     "data": {
      "text/html": [
       "<div>\n",
       "<style scoped>\n",
       "    .dataframe tbody tr th:only-of-type {\n",
       "        vertical-align: middle;\n",
       "    }\n",
       "\n",
       "    .dataframe tbody tr th {\n",
       "        vertical-align: top;\n",
       "    }\n",
       "\n",
       "    .dataframe thead th {\n",
       "        text-align: right;\n",
       "    }\n",
       "</style>\n",
       "<table border=\"1\" class=\"dataframe\">\n",
       "  <thead>\n",
       "    <tr style=\"text-align: right;\">\n",
       "      <th></th>\n",
       "      <th>children</th>\n",
       "      <th>days_employed</th>\n",
       "      <th>dob_years</th>\n",
       "      <th>education</th>\n",
       "      <th>education_id</th>\n",
       "      <th>family_status</th>\n",
       "      <th>family_status_id</th>\n",
       "      <th>gender</th>\n",
       "      <th>income_type</th>\n",
       "      <th>debt</th>\n",
       "      <th>total_income</th>\n",
       "      <th>purpose</th>\n",
       "    </tr>\n",
       "  </thead>\n",
       "  <tbody>\n",
       "    <tr>\n",
       "      <th>0</th>\n",
       "      <td>1</td>\n",
       "      <td>-8437.673028</td>\n",
       "      <td>42</td>\n",
       "      <td>высшее</td>\n",
       "      <td>0</td>\n",
       "      <td>женат / замужем</td>\n",
       "      <td>0</td>\n",
       "      <td>F</td>\n",
       "      <td>сотрудник</td>\n",
       "      <td>0</td>\n",
       "      <td>253875.639453</td>\n",
       "      <td>покупка жилья</td>\n",
       "    </tr>\n",
       "    <tr>\n",
       "      <th>1</th>\n",
       "      <td>1</td>\n",
       "      <td>-4024.803754</td>\n",
       "      <td>36</td>\n",
       "      <td>среднее</td>\n",
       "      <td>1</td>\n",
       "      <td>женат / замужем</td>\n",
       "      <td>0</td>\n",
       "      <td>F</td>\n",
       "      <td>сотрудник</td>\n",
       "      <td>0</td>\n",
       "      <td>112080.014102</td>\n",
       "      <td>приобретение автомобиля</td>\n",
       "    </tr>\n",
       "    <tr>\n",
       "      <th>2</th>\n",
       "      <td>0</td>\n",
       "      <td>-5623.422610</td>\n",
       "      <td>33</td>\n",
       "      <td>Среднее</td>\n",
       "      <td>1</td>\n",
       "      <td>женат / замужем</td>\n",
       "      <td>0</td>\n",
       "      <td>M</td>\n",
       "      <td>сотрудник</td>\n",
       "      <td>0</td>\n",
       "      <td>145885.952297</td>\n",
       "      <td>покупка жилья</td>\n",
       "    </tr>\n",
       "    <tr>\n",
       "      <th>3</th>\n",
       "      <td>3</td>\n",
       "      <td>-4124.747207</td>\n",
       "      <td>32</td>\n",
       "      <td>среднее</td>\n",
       "      <td>1</td>\n",
       "      <td>женат / замужем</td>\n",
       "      <td>0</td>\n",
       "      <td>M</td>\n",
       "      <td>сотрудник</td>\n",
       "      <td>0</td>\n",
       "      <td>267628.550329</td>\n",
       "      <td>дополнительное образование</td>\n",
       "    </tr>\n",
       "    <tr>\n",
       "      <th>4</th>\n",
       "      <td>0</td>\n",
       "      <td>340266.072047</td>\n",
       "      <td>53</td>\n",
       "      <td>среднее</td>\n",
       "      <td>1</td>\n",
       "      <td>гражданский брак</td>\n",
       "      <td>1</td>\n",
       "      <td>F</td>\n",
       "      <td>пенсионер</td>\n",
       "      <td>0</td>\n",
       "      <td>158616.077870</td>\n",
       "      <td>сыграть свадьбу</td>\n",
       "    </tr>\n",
       "    <tr>\n",
       "      <th>5</th>\n",
       "      <td>0</td>\n",
       "      <td>-926.185831</td>\n",
       "      <td>27</td>\n",
       "      <td>высшее</td>\n",
       "      <td>0</td>\n",
       "      <td>гражданский брак</td>\n",
       "      <td>1</td>\n",
       "      <td>M</td>\n",
       "      <td>компаньон</td>\n",
       "      <td>0</td>\n",
       "      <td>255763.565419</td>\n",
       "      <td>покупка жилья</td>\n",
       "    </tr>\n",
       "    <tr>\n",
       "      <th>6</th>\n",
       "      <td>0</td>\n",
       "      <td>-2879.202052</td>\n",
       "      <td>43</td>\n",
       "      <td>высшее</td>\n",
       "      <td>0</td>\n",
       "      <td>женат / замужем</td>\n",
       "      <td>0</td>\n",
       "      <td>F</td>\n",
       "      <td>компаньон</td>\n",
       "      <td>0</td>\n",
       "      <td>240525.971920</td>\n",
       "      <td>операции с жильем</td>\n",
       "    </tr>\n",
       "    <tr>\n",
       "      <th>7</th>\n",
       "      <td>0</td>\n",
       "      <td>-152.779569</td>\n",
       "      <td>50</td>\n",
       "      <td>СРЕДНЕЕ</td>\n",
       "      <td>1</td>\n",
       "      <td>женат / замужем</td>\n",
       "      <td>0</td>\n",
       "      <td>M</td>\n",
       "      <td>сотрудник</td>\n",
       "      <td>0</td>\n",
       "      <td>135823.934197</td>\n",
       "      <td>образование</td>\n",
       "    </tr>\n",
       "    <tr>\n",
       "      <th>8</th>\n",
       "      <td>2</td>\n",
       "      <td>-6929.865299</td>\n",
       "      <td>35</td>\n",
       "      <td>ВЫСШЕЕ</td>\n",
       "      <td>0</td>\n",
       "      <td>гражданский брак</td>\n",
       "      <td>1</td>\n",
       "      <td>F</td>\n",
       "      <td>сотрудник</td>\n",
       "      <td>0</td>\n",
       "      <td>95856.832424</td>\n",
       "      <td>на проведение свадьбы</td>\n",
       "    </tr>\n",
       "    <tr>\n",
       "      <th>9</th>\n",
       "      <td>0</td>\n",
       "      <td>-2188.756445</td>\n",
       "      <td>41</td>\n",
       "      <td>среднее</td>\n",
       "      <td>1</td>\n",
       "      <td>женат / замужем</td>\n",
       "      <td>0</td>\n",
       "      <td>M</td>\n",
       "      <td>сотрудник</td>\n",
       "      <td>0</td>\n",
       "      <td>144425.938277</td>\n",
       "      <td>покупка жилья для семьи</td>\n",
       "    </tr>\n",
       "    <tr>\n",
       "      <th>10</th>\n",
       "      <td>2</td>\n",
       "      <td>-4171.483647</td>\n",
       "      <td>36</td>\n",
       "      <td>высшее</td>\n",
       "      <td>0</td>\n",
       "      <td>женат / замужем</td>\n",
       "      <td>0</td>\n",
       "      <td>M</td>\n",
       "      <td>компаньон</td>\n",
       "      <td>0</td>\n",
       "      <td>113943.491460</td>\n",
       "      <td>покупка недвижимости</td>\n",
       "    </tr>\n",
       "    <tr>\n",
       "      <th>11</th>\n",
       "      <td>0</td>\n",
       "      <td>-792.701887</td>\n",
       "      <td>40</td>\n",
       "      <td>среднее</td>\n",
       "      <td>1</td>\n",
       "      <td>женат / замужем</td>\n",
       "      <td>0</td>\n",
       "      <td>F</td>\n",
       "      <td>сотрудник</td>\n",
       "      <td>0</td>\n",
       "      <td>77069.234271</td>\n",
       "      <td>покупка коммерческой недвижимости</td>\n",
       "    </tr>\n",
       "    <tr>\n",
       "      <th>12</th>\n",
       "      <td>0</td>\n",
       "      <td>NaN</td>\n",
       "      <td>65</td>\n",
       "      <td>среднее</td>\n",
       "      <td>1</td>\n",
       "      <td>гражданский брак</td>\n",
       "      <td>1</td>\n",
       "      <td>M</td>\n",
       "      <td>пенсионер</td>\n",
       "      <td>0</td>\n",
       "      <td>NaN</td>\n",
       "      <td>сыграть свадьбу</td>\n",
       "    </tr>\n",
       "    <tr>\n",
       "      <th>13</th>\n",
       "      <td>0</td>\n",
       "      <td>-1846.641941</td>\n",
       "      <td>54</td>\n",
       "      <td>неоконченное высшее</td>\n",
       "      <td>2</td>\n",
       "      <td>женат / замужем</td>\n",
       "      <td>0</td>\n",
       "      <td>F</td>\n",
       "      <td>сотрудник</td>\n",
       "      <td>0</td>\n",
       "      <td>130458.228857</td>\n",
       "      <td>приобретение автомобиля</td>\n",
       "    </tr>\n",
       "    <tr>\n",
       "      <th>14</th>\n",
       "      <td>0</td>\n",
       "      <td>-1844.956182</td>\n",
       "      <td>56</td>\n",
       "      <td>высшее</td>\n",
       "      <td>0</td>\n",
       "      <td>гражданский брак</td>\n",
       "      <td>1</td>\n",
       "      <td>F</td>\n",
       "      <td>компаньон</td>\n",
       "      <td>1</td>\n",
       "      <td>165127.911772</td>\n",
       "      <td>покупка жилой недвижимости</td>\n",
       "    </tr>\n",
       "    <tr>\n",
       "      <th>15</th>\n",
       "      <td>1</td>\n",
       "      <td>-972.364419</td>\n",
       "      <td>26</td>\n",
       "      <td>среднее</td>\n",
       "      <td>1</td>\n",
       "      <td>женат / замужем</td>\n",
       "      <td>0</td>\n",
       "      <td>F</td>\n",
       "      <td>сотрудник</td>\n",
       "      <td>0</td>\n",
       "      <td>116820.904450</td>\n",
       "      <td>строительство собственной недвижимости</td>\n",
       "    </tr>\n",
       "    <tr>\n",
       "      <th>16</th>\n",
       "      <td>0</td>\n",
       "      <td>-1719.934226</td>\n",
       "      <td>35</td>\n",
       "      <td>среднее</td>\n",
       "      <td>1</td>\n",
       "      <td>женат / замужем</td>\n",
       "      <td>0</td>\n",
       "      <td>F</td>\n",
       "      <td>сотрудник</td>\n",
       "      <td>0</td>\n",
       "      <td>289202.704229</td>\n",
       "      <td>недвижимость</td>\n",
       "    </tr>\n",
       "    <tr>\n",
       "      <th>17</th>\n",
       "      <td>0</td>\n",
       "      <td>-2369.999720</td>\n",
       "      <td>33</td>\n",
       "      <td>высшее</td>\n",
       "      <td>0</td>\n",
       "      <td>гражданский брак</td>\n",
       "      <td>1</td>\n",
       "      <td>M</td>\n",
       "      <td>сотрудник</td>\n",
       "      <td>0</td>\n",
       "      <td>90410.586745</td>\n",
       "      <td>строительство недвижимости</td>\n",
       "    </tr>\n",
       "    <tr>\n",
       "      <th>18</th>\n",
       "      <td>0</td>\n",
       "      <td>400281.136913</td>\n",
       "      <td>53</td>\n",
       "      <td>среднее</td>\n",
       "      <td>1</td>\n",
       "      <td>вдовец / вдова</td>\n",
       "      <td>2</td>\n",
       "      <td>F</td>\n",
       "      <td>пенсионер</td>\n",
       "      <td>0</td>\n",
       "      <td>56823.777243</td>\n",
       "      <td>на покупку подержанного автомобиля</td>\n",
       "    </tr>\n",
       "    <tr>\n",
       "      <th>19</th>\n",
       "      <td>0</td>\n",
       "      <td>-10038.818549</td>\n",
       "      <td>48</td>\n",
       "      <td>СРЕДНЕЕ</td>\n",
       "      <td>1</td>\n",
       "      <td>в разводе</td>\n",
       "      <td>3</td>\n",
       "      <td>F</td>\n",
       "      <td>сотрудник</td>\n",
       "      <td>0</td>\n",
       "      <td>242831.107982</td>\n",
       "      <td>на покупку своего автомобиля</td>\n",
       "    </tr>\n",
       "  </tbody>\n",
       "</table>\n",
       "</div>"
      ],
      "text/plain": [
       "    children  days_employed  dob_years            education  education_id  \\\n",
       "0          1   -8437.673028         42               высшее             0   \n",
       "1          1   -4024.803754         36              среднее             1   \n",
       "2          0   -5623.422610         33              Среднее             1   \n",
       "3          3   -4124.747207         32              среднее             1   \n",
       "4          0  340266.072047         53              среднее             1   \n",
       "5          0    -926.185831         27               высшее             0   \n",
       "6          0   -2879.202052         43               высшее             0   \n",
       "7          0    -152.779569         50              СРЕДНЕЕ             1   \n",
       "8          2   -6929.865299         35               ВЫСШЕЕ             0   \n",
       "9          0   -2188.756445         41              среднее             1   \n",
       "10         2   -4171.483647         36               высшее             0   \n",
       "11         0    -792.701887         40              среднее             1   \n",
       "12         0            NaN         65              среднее             1   \n",
       "13         0   -1846.641941         54  неоконченное высшее             2   \n",
       "14         0   -1844.956182         56               высшее             0   \n",
       "15         1    -972.364419         26              среднее             1   \n",
       "16         0   -1719.934226         35              среднее             1   \n",
       "17         0   -2369.999720         33               высшее             0   \n",
       "18         0  400281.136913         53              среднее             1   \n",
       "19         0  -10038.818549         48              СРЕДНЕЕ             1   \n",
       "\n",
       "       family_status  family_status_id gender income_type  debt  \\\n",
       "0    женат / замужем                 0      F   сотрудник     0   \n",
       "1    женат / замужем                 0      F   сотрудник     0   \n",
       "2    женат / замужем                 0      M   сотрудник     0   \n",
       "3    женат / замужем                 0      M   сотрудник     0   \n",
       "4   гражданский брак                 1      F   пенсионер     0   \n",
       "5   гражданский брак                 1      M   компаньон     0   \n",
       "6    женат / замужем                 0      F   компаньон     0   \n",
       "7    женат / замужем                 0      M   сотрудник     0   \n",
       "8   гражданский брак                 1      F   сотрудник     0   \n",
       "9    женат / замужем                 0      M   сотрудник     0   \n",
       "10   женат / замужем                 0      M   компаньон     0   \n",
       "11   женат / замужем                 0      F   сотрудник     0   \n",
       "12  гражданский брак                 1      M   пенсионер     0   \n",
       "13   женат / замужем                 0      F   сотрудник     0   \n",
       "14  гражданский брак                 1      F   компаньон     1   \n",
       "15   женат / замужем                 0      F   сотрудник     0   \n",
       "16   женат / замужем                 0      F   сотрудник     0   \n",
       "17  гражданский брак                 1      M   сотрудник     0   \n",
       "18    вдовец / вдова                 2      F   пенсионер     0   \n",
       "19         в разводе                 3      F   сотрудник     0   \n",
       "\n",
       "     total_income                                 purpose  \n",
       "0   253875.639453                           покупка жилья  \n",
       "1   112080.014102                 приобретение автомобиля  \n",
       "2   145885.952297                           покупка жилья  \n",
       "3   267628.550329              дополнительное образование  \n",
       "4   158616.077870                         сыграть свадьбу  \n",
       "5   255763.565419                           покупка жилья  \n",
       "6   240525.971920                       операции с жильем  \n",
       "7   135823.934197                             образование  \n",
       "8    95856.832424                   на проведение свадьбы  \n",
       "9   144425.938277                 покупка жилья для семьи  \n",
       "10  113943.491460                    покупка недвижимости  \n",
       "11   77069.234271       покупка коммерческой недвижимости  \n",
       "12            NaN                         сыграть свадьбу  \n",
       "13  130458.228857                 приобретение автомобиля  \n",
       "14  165127.911772              покупка жилой недвижимости  \n",
       "15  116820.904450  строительство собственной недвижимости  \n",
       "16  289202.704229                            недвижимость  \n",
       "17   90410.586745              строительство недвижимости  \n",
       "18   56823.777243      на покупку подержанного автомобиля  \n",
       "19  242831.107982            на покупку своего автомобиля  "
      ]
     },
     "execution_count": 3,
     "metadata": {},
     "output_type": "execute_result"
    }
   ],
   "source": [
    "data.head(20)"
   ]
  },
  {
   "cell_type": "markdown",
   "id": "dea307e9",
   "metadata": {
    "deletable": false,
    "editable": false,
    "id": "1c12e233",
    "tags": [
     "start_task"
    ]
   },
   "source": [
    "**Задание 3. Выведите основную информацию о датафрейме с помощью метода `info()`.**"
   ]
  },
  {
   "cell_type": "code",
   "execution_count": 4,
   "id": "03e257c8",
   "metadata": {
    "id": "2b757bca"
   },
   "outputs": [
    {
     "name": "stdout",
     "output_type": "stream",
     "text": [
      "<class 'pandas.core.frame.DataFrame'>\n",
      "RangeIndex: 21525 entries, 0 to 21524\n",
      "Data columns (total 12 columns):\n",
      " #   Column            Non-Null Count  Dtype  \n",
      "---  ------            --------------  -----  \n",
      " 0   children          21525 non-null  int64  \n",
      " 1   days_employed     19351 non-null  float64\n",
      " 2   dob_years         21525 non-null  int64  \n",
      " 3   education         21525 non-null  object \n",
      " 4   education_id      21525 non-null  int64  \n",
      " 5   family_status     21525 non-null  object \n",
      " 6   family_status_id  21525 non-null  int64  \n",
      " 7   gender            21525 non-null  object \n",
      " 8   income_type       21525 non-null  object \n",
      " 9   debt              21525 non-null  int64  \n",
      " 10  total_income      19351 non-null  float64\n",
      " 11  purpose           21525 non-null  object \n",
      "dtypes: float64(2), int64(5), object(5)\n",
      "memory usage: 2.0+ MB\n"
     ]
    }
   ],
   "source": [
    "data.info()"
   ]
  },
  {
   "cell_type": "markdown",
   "id": "03395bb1",
   "metadata": {
    "deletable": false,
    "editable": false,
    "id": "333ec665"
   },
   "source": [
    "## Предобработка данных"
   ]
  },
  {
   "cell_type": "markdown",
   "id": "6e9d4ac8",
   "metadata": {
    "deletable": false,
    "editable": false,
    "id": "02d92d53"
   },
   "source": [
    "### Удаление пропусков"
   ]
  },
  {
   "cell_type": "markdown",
   "id": "d03c7bd0",
   "metadata": {
    "deletable": false,
    "editable": false,
    "id": "cd84967c",
    "tags": [
     "start_task"
    ]
   },
   "source": [
    "**Задание 4. Выведите количество пропущенных значений для каждого столбца. Используйте комбинацию двух методов.**"
   ]
  },
  {
   "cell_type": "code",
   "execution_count": 5,
   "id": "5ea3e73d",
   "metadata": {
    "id": "7f9b2309"
   },
   "outputs": [
    {
     "data": {
      "text/plain": [
       "children               0\n",
       "days_employed       2174\n",
       "dob_years              0\n",
       "education              0\n",
       "education_id           0\n",
       "family_status          0\n",
       "family_status_id       0\n",
       "gender                 0\n",
       "income_type            0\n",
       "debt                   0\n",
       "total_income        2174\n",
       "purpose                0\n",
       "dtype: int64"
      ]
     },
     "execution_count": 5,
     "metadata": {},
     "output_type": "execute_result"
    }
   ],
   "source": [
    "data.isna().sum()"
   ]
  },
  {
   "cell_type": "markdown",
   "id": "706de112",
   "metadata": {
    "deletable": false,
    "editable": false,
    "id": "db86e27b",
    "tags": [
     "start_task"
    ]
   },
   "source": [
    "**Задание 5. В двух столбцах есть пропущенные значения. Один из них — `days_employed`. Пропуски в этом столбце вы обработаете на следующем этапе. Другой столбец с пропущенными значениями — `total_income` — хранит данные о доходах. На сумму дохода сильнее всего влияет тип занятости, поэтому заполнить пропуски в этом столбце нужно медианным значением по каждому типу из столбца `income_type`. Например, у человека с типом занятости `сотрудник` пропуск в столбце `total_income` должен быть заполнен медианным доходом среди всех записей с тем же типом.**"
   ]
  },
  {
   "cell_type": "code",
   "execution_count": 6,
   "id": "ef9dfd2b",
   "metadata": {
    "id": "42006a93"
   },
   "outputs": [],
   "source": [
    "grouped_income_type = data.groupby('income_type')['total_income'].median()\n",
    "for value in grouped_income_type.index:\n",
    "    data.loc[(data['income_type'] == value) & (data['total_income'].isna()), 'total_income'] = grouped_income_type[value]"
   ]
  },
  {
   "cell_type": "markdown",
   "id": "5106adaa",
   "metadata": {
    "deletable": false,
    "editable": false,
    "id": "89da5ece"
   },
   "source": [
    "### Обработка аномальных значений"
   ]
  },
  {
   "cell_type": "markdown",
   "id": "417da3b8",
   "metadata": {
    "deletable": false,
    "editable": false,
    "id": "57964554",
    "tags": [
     "start_task"
    ]
   },
   "source": [
    "**Задание 6. В данных могут встречаться артефакты (аномалии) — значения, которые не отражают действительность и появились по какой-то ошибке. Таким артефактом будет отрицательное количество дней трудового стажа в столбце `days_employed`. Для реальных данных это нормально. Обработайте значения в этом столбце: замените все отрицательные значения положительными с помощью метода `abs()`.**"
   ]
  },
  {
   "cell_type": "code",
   "execution_count": 7,
   "id": "39d41a91",
   "metadata": {
    "id": "f6f055bf"
   },
   "outputs": [],
   "source": [
    "data['days_employed'] = data['days_employed'].abs()"
   ]
  },
  {
   "cell_type": "markdown",
   "id": "fe7cf723",
   "metadata": {
    "deletable": false,
    "editable": false,
    "id": "6107dd2f",
    "tags": [
     "start_task"
    ]
   },
   "source": [
    "**Задание 7. Для каждого типа занятости выведите медианное значение трудового стажа `days_employed` в днях.**"
   ]
  },
  {
   "cell_type": "code",
   "execution_count": 8,
   "id": "e2f1894e",
   "metadata": {
    "id": "85a5faf6"
   },
   "outputs": [
    {
     "data": {
      "text/plain": [
       "income_type\n",
       "безработный        366413.652744\n",
       "в декрете            3296.759962\n",
       "госслужащий          2689.368353\n",
       "компаньон            1547.382223\n",
       "пенсионер          365213.306266\n",
       "предприниматель       520.848083\n",
       "сотрудник            1574.202821\n",
       "студент               578.751554\n",
       "Name: days_employed, dtype: float64"
      ]
     },
     "execution_count": 8,
     "metadata": {},
     "output_type": "execute_result"
    }
   ],
   "source": [
    "data.groupby('income_type')['days_employed'].agg('median')"
   ]
  },
  {
   "cell_type": "markdown",
   "id": "664d6ca7",
   "metadata": {
    "deletable": false,
    "editable": false,
    "id": "38d1a030"
   },
   "source": [
    "У двух типов (безработные и пенсионеры) получатся аномально большие значения. Исправить такие значения сложно, поэтому оставьте их как есть. Тем более этот столбец не понадобится вам для исследования."
   ]
  },
  {
   "cell_type": "markdown",
   "id": "deea99a8",
   "metadata": {
    "deletable": false,
    "editable": false,
    "id": "d8a9f147",
    "tags": [
     "start_task"
    ]
   },
   "source": [
    "**Задание 8. Выведите перечень уникальных значений столбца `children`.**"
   ]
  },
  {
   "cell_type": "code",
   "execution_count": 9,
   "id": "cbed8748",
   "metadata": {
    "id": "ef5056eb"
   },
   "outputs": [
    {
     "name": "stdout",
     "output_type": "stream",
     "text": [
      "[ 1  0  3  2 -1  4 20  5]\n"
     ]
    }
   ],
   "source": [
    "print(data[\"children\"].unique())"
   ]
  },
  {
   "cell_type": "markdown",
   "id": "bd395716",
   "metadata": {
    "deletable": false,
    "editable": false,
    "id": "40b9ebf2",
    "tags": [
     "start_task"
    ]
   },
   "source": [
    "**Задание 9. В столбце `children` есть два аномальных значения. Удалите строки, в которых встречаются такие аномальные значения из датафрейма `data`.**"
   ]
  },
  {
   "cell_type": "code",
   "execution_count": 10,
   "id": "ffc1f033",
   "metadata": {
    "id": "3ff9801d"
   },
   "outputs": [],
   "source": [
    "data = data[(data['children'] != -1) & (data['children'] != 20)]"
   ]
  },
  {
   "cell_type": "markdown",
   "id": "82d43bb4",
   "metadata": {
    "deletable": false,
    "editable": false,
    "id": "bbc4d0ce",
    "tags": [
     "start_task"
    ]
   },
   "source": [
    "**Задание 10. Ещё раз выведите перечень уникальных значений столбца `children`, чтобы убедиться, что артефакты удалены.**"
   ]
  },
  {
   "cell_type": "code",
   "execution_count": 11,
   "id": "51d19459",
   "metadata": {
    "id": "ad4fa8b7"
   },
   "outputs": [
    {
     "name": "stdout",
     "output_type": "stream",
     "text": [
      "[1 0 3 2 4 5]\n"
     ]
    }
   ],
   "source": [
    "print(data[\"children\"].unique())"
   ]
  },
  {
   "cell_type": "markdown",
   "id": "4b8ea695",
   "metadata": {
    "deletable": false,
    "editable": false,
    "id": "75440b63"
   },
   "source": [
    "### Удаление пропусков (продолжение)"
   ]
  },
  {
   "cell_type": "markdown",
   "id": "acbf4d2c",
   "metadata": {
    "deletable": false,
    "editable": false,
    "id": "f4ea573f",
    "tags": [
     "start_task"
    ]
   },
   "source": [
    "**Задание 11. Заполните пропуски в столбце `days_employed` медианными значениями по каждому типу занятости `income_type`.**"
   ]
  },
  {
   "cell_type": "code",
   "execution_count": 12,
   "id": "b9a5eb65",
   "metadata": {
    "id": "af6b1a7e"
   },
   "outputs": [],
   "source": [
    "days_employed_grouped_median = data.groupby('income_type')['days_employed'].median()\n",
    "for value in days_employed_grouped_median.index:\n",
    "    data.loc[((data['days_employed'].isna()) & (data['income_type'] == value)), 'days_employed'] = days_employed_grouped_median[value]"
   ]
  },
  {
   "cell_type": "markdown",
   "id": "3cb60b7c",
   "metadata": {
    "deletable": false,
    "editable": false,
    "id": "2753f40d",
    "tags": [
     "start_task"
    ]
   },
   "source": [
    "**Задание 12. Убедитесь, что все пропуски заполнены. Проверьте себя и ещё раз выведите количество пропущенных значений для каждого столбца с помощью двух методов.**"
   ]
  },
  {
   "cell_type": "code",
   "execution_count": 13,
   "id": "fcbbb088",
   "metadata": {
    "id": "55f78bc2"
   },
   "outputs": [],
   "source": [
    "data.isna().sum()"
   ]
  },
  {
   "cell_type": "markdown",
   "id": "0e9cff20",
   "metadata": {
    "deletable": false,
    "editable": false,
    "id": "ddc81e43"
   },
   "source": [
    "### Изменение типов данных"
   ]
  },
  {
   "cell_type": "markdown",
   "id": "ba693d34",
   "metadata": {
    "deletable": false,
    "editable": false,
    "id": "42d19d24",
    "tags": [
     "start_task"
    ]
   },
   "source": [
    "**Задание 13. Замените вещественный тип данных в столбце `total_income` на целочисленный с помощью метода `astype()`.**"
   ]
  },
  {
   "cell_type": "code",
   "execution_count": 14,
   "id": "251906cc",
   "metadata": {
    "id": "920b65ad"
   },
   "outputs": [],
   "source": [
    "data['total_income'] = data[\"total_income\"].astype(\"int\")"
   ]
  },
  {
   "cell_type": "markdown",
   "id": "50f30ffb",
   "metadata": {
    "deletable": false,
    "editable": false,
    "id": "80c420ba"
   },
   "source": [
    "### Обработка дубликатов"
   ]
  },
  {
   "cell_type": "markdown",
   "id": "bcda917e",
   "metadata": {
    "deletable": false,
    "editable": false,
    "tags": [
     "start_task"
    ]
   },
   "source": [
    "**Задание 14. Обработайте неявные дубликаты в столбце `education`. В этом столбце есть одни и те же значения, но записанные по-разному: с использованием заглавных и строчных букв. Приведите их к нижнему регистру. Проверьте остальные столбцы.**"
   ]
  },
  {
   "cell_type": "code",
   "execution_count": 15,
   "id": "a3ed9ed8",
   "metadata": {},
   "outputs": [],
   "source": [
    "data['education'] = data['education'].str.lower()"
   ]
  },
  {
   "cell_type": "markdown",
   "id": "915b0726",
   "metadata": {
    "deletable": false,
    "editable": false,
    "id": "dc587695",
    "tags": [
     "start_task"
    ]
   },
   "source": [
    "**Задание 15. Выведите на экран количество строк-дубликатов в данных. Если такие строки присутствуют, удалите их.**"
   ]
  },
  {
   "cell_type": "code",
   "execution_count": 16,
   "id": "bb9ac012",
   "metadata": {
    "id": "3ee445e4"
   },
   "outputs": [],
   "source": [
    "print(data.duplicated().sum())"
   ]
  },
  {
   "cell_type": "code",
   "execution_count": 17,
   "id": "9cb4dad6",
   "metadata": {
    "id": "8575fe05"
   },
   "outputs": [],
   "source": [
    "data = data.drop_duplicates().reset_index(drop=True)\n"
   ]
  },
  {
   "cell_type": "markdown",
   "id": "e523655f",
   "metadata": {
    "deletable": false,
    "editable": false,
    "id": "9904cf55"
   },
   "source": [
    "### Категоризация данных"
   ]
  },
  {
   "cell_type": "markdown",
   "id": "ba115942",
   "metadata": {
    "deletable": false,
    "editable": false,
    "id": "72fcc8a2",
    "tags": [
     "start_task"
    ]
   },
   "source": [
    "**Задание 16. На основании диапазонов, указанных ниже, создайте в датафрейме `data` столбец `total_income_category` с категориями:**\n",
    "\n",
    "- 0–30000 — `'E'`;\n",
    "- 30001–50000 — `'D'`;\n",
    "- 50001–200000 — `'C'`;\n",
    "- 200001–1000000 — `'B'`;\n",
    "- 1000001 и выше — `'A'`.\n",
    "\n",
    "\n",
    "**Например, кредитополучателю с доходом 25000 нужно назначить категорию `'E'`, а клиенту, получающему 235000, — `'B'`. Используйте собственную функцию с именем `categorize_income()` и метод `apply()`.**"
   ]
  },
  {
   "cell_type": "code",
   "execution_count": 18,
   "id": "2be1a6e1",
   "metadata": {
    "id": "e1771346"
   },
   "outputs": [],
   "source": [
    "def categorize_income(total_income):\n",
    "    if 0 <= total_income <=30000:\n",
    "        return \"E\"\n",
    "    elif 30001 <= total_income <=50000:\n",
    "        return \"D\"\n",
    "    elif 50001 <= total_income <=200000:\n",
    "        return \"C\"\n",
    "    elif 200001 <= total_income <=1000000:\n",
    "        return \"B\"\n",
    "    else:\n",
    "        return \"A\""
   ]
  },
  {
   "cell_type": "code",
   "execution_count": 19,
   "id": "8b8ebb77",
   "metadata": {
    "id": "d5f3586d"
   },
   "outputs": [],
   "source": [
    "data[\"total_income_category\"] = data [\"total_income\"].apply(categorize_income)"
   ]
  },
  {
   "cell_type": "markdown",
   "id": "c994fd5e",
   "metadata": {
    "deletable": false,
    "editable": false,
    "id": "dde49b5c",
    "tags": [
     "start_task"
    ]
   },
   "source": [
    "**Задание 17. Выведите на экран перечень уникальных целей взятия кредита из столбца `purpose`.**"
   ]
  },
  {
   "cell_type": "code",
   "execution_count": 20,
   "id": "ba5eb557",
   "metadata": {
    "id": "f67ce9b3"
   },
   "outputs": [],
   "source": [
    "data['purpose'].unique()"
   ]
  },
  {
   "cell_type": "markdown",
   "id": "7c681d84",
   "metadata": {
    "deletable": false,
    "editable": false,
    "id": "85d0aef0",
    "tags": [
     "start_task"
    ]
   },
   "source": [
    "**Задание 18. Создайте функцию, которая на основании данных из столбца `purpose` сформирует новый столбец `purpose_category`, в который войдут следующие категории:**\n",
    "\n",
    "- `'операции с автомобилем'`,\n",
    "- `'операции с недвижимостью'`,\n",
    "- `'проведение свадьбы'`,\n",
    "- `'получение образования'`.\n",
    "\n",
    "**Например, если в столбце `purpose` находится подстрока `'на покупку автомобиля'`, то в столбце `purpose_category` должна появиться строка `'операции с автомобилем'`.**\n",
    "\n",
    "**Используйте собственную функцию с именем `categorize_purpose()` и метод `apply()`. Изучите данные в столбце `purpose` и определите, какие подстроки помогут вам правильно определить категорию.**"
   ]
  },
  {
   "cell_type": "code",
   "execution_count": 21,
   "id": "5917640d",
   "metadata": {
    "id": "e149fab4"
   },
   "outputs": [],
   "source": [
    "def categorize_purpose(row):\n",
    "    purpose = row\n",
    "    if 'автомоб' in row:\n",
    "        return 'операции с автомобилем'\n",
    "    elif ('жил' in row) or ('недвижим' in row):\n",
    "        return 'операции с недвижимостью'\n",
    "    elif 'свадьб' in row:\n",
    "        return 'проведение свадьбы'\n",
    "    elif 'образов' in row:\n",
    "        return 'получение образования'\n"
   ]
  },
  {
   "cell_type": "code",
   "execution_count": 22,
   "id": "8813cee1",
   "metadata": {
    "id": "bf36e69b"
   },
   "outputs": [],
   "source": [
    "data['purpose_category'] = data['purpose'].apply(categorize_purpose)"
   ]
  }
 ],
 "metadata": {
  "ExecuteTimeLog": [
   {
    "duration": 422,
    "start_time": "2022-07-26T21:12:35.755Z"
   },
   {
    "duration": 71,
    "start_time": "2022-07-26T21:12:38.287Z"
   },
   {
    "duration": 55,
    "start_time": "2022-07-26T21:13:30.175Z"
   },
   {
    "duration": 7,
    "start_time": "2022-07-26T21:13:41.183Z"
   },
   {
    "duration": 386,
    "start_time": "2022-07-26T21:13:47.217Z"
   },
   {
    "duration": 281,
    "start_time": "2022-07-26T21:13:47.606Z"
   },
   {
    "duration": 21,
    "start_time": "2022-07-26T21:13:47.889Z"
   },
   {
    "duration": 2,
    "start_time": "2022-07-26T21:13:47.912Z"
   },
   {
    "duration": 5,
    "start_time": "2022-07-26T21:13:47.916Z"
   },
   {
    "duration": 4,
    "start_time": "2022-07-26T21:13:47.923Z"
   },
   {
    "duration": 6,
    "start_time": "2022-07-26T21:13:47.929Z"
   },
   {
    "duration": 7,
    "start_time": "2022-07-26T21:13:47.936Z"
   },
   {
    "duration": 4,
    "start_time": "2022-07-26T21:13:47.945Z"
   },
   {
    "duration": 4,
    "start_time": "2022-07-26T21:13:47.951Z"
   },
   {
    "duration": 4,
    "start_time": "2022-07-26T21:13:47.957Z"
   },
   {
    "duration": 3,
    "start_time": "2022-07-26T21:13:47.973Z"
   },
   {
    "duration": 5,
    "start_time": "2022-07-26T21:13:47.977Z"
   },
   {
    "duration": 9,
    "start_time": "2022-07-26T21:13:47.985Z"
   },
   {
    "duration": 9,
    "start_time": "2022-07-26T21:13:47.996Z"
   },
   {
    "duration": 11,
    "start_time": "2022-07-26T21:13:48.006Z"
   },
   {
    "duration": 8,
    "start_time": "2022-07-26T21:13:48.019Z"
   },
   {
    "duration": 5,
    "start_time": "2022-07-26T21:13:48.029Z"
   },
   {
    "duration": 6,
    "start_time": "2022-07-26T21:13:48.035Z"
   },
   {
    "duration": 5,
    "start_time": "2022-07-26T21:13:48.042Z"
   },
   {
    "duration": 6,
    "start_time": "2022-07-26T21:13:48.049Z"
   },
   {
    "duration": 16,
    "start_time": "2022-07-26T21:13:48.057Z"
   },
   {
    "duration": 55,
    "start_time": "2022-07-26T21:14:25.963Z"
   },
   {
    "duration": 17,
    "start_time": "2022-07-26T21:14:34.066Z"
   },
   {
    "duration": 13,
    "start_time": "2022-07-26T21:14:43.733Z"
   },
   {
    "duration": 401,
    "start_time": "2022-07-26T21:15:04.641Z"
   },
   {
    "duration": 66,
    "start_time": "2022-07-26T21:15:05.044Z"
   },
   {
    "duration": 20,
    "start_time": "2022-07-26T21:15:05.112Z"
   },
   {
    "duration": 3,
    "start_time": "2022-07-26T21:15:05.133Z"
   },
   {
    "duration": 10,
    "start_time": "2022-07-26T21:15:05.137Z"
   },
   {
    "duration": 16,
    "start_time": "2022-07-26T21:15:05.148Z"
   },
   {
    "duration": 27,
    "start_time": "2022-07-26T21:15:05.165Z"
   },
   {
    "duration": 35,
    "start_time": "2022-07-26T21:15:05.194Z"
   },
   {
    "duration": 11,
    "start_time": "2022-07-26T21:15:05.231Z"
   },
   {
    "duration": 15,
    "start_time": "2022-07-26T21:15:05.244Z"
   },
   {
    "duration": 11,
    "start_time": "2022-07-26T21:15:05.261Z"
   },
   {
    "duration": 6,
    "start_time": "2022-07-26T21:15:05.274Z"
   },
   {
    "duration": 8,
    "start_time": "2022-07-26T21:15:05.282Z"
   },
   {
    "duration": 5,
    "start_time": "2022-07-26T21:15:05.292Z"
   },
   {
    "duration": 10,
    "start_time": "2022-07-26T21:15:05.299Z"
   },
   {
    "duration": 11,
    "start_time": "2022-07-26T21:15:05.311Z"
   },
   {
    "duration": 6,
    "start_time": "2022-07-26T21:15:05.324Z"
   },
   {
    "duration": 14,
    "start_time": "2022-07-26T21:15:05.332Z"
   },
   {
    "duration": 26,
    "start_time": "2022-07-26T21:15:05.348Z"
   },
   {
    "duration": 11,
    "start_time": "2022-07-26T21:15:05.376Z"
   },
   {
    "duration": 28,
    "start_time": "2022-07-26T21:15:05.389Z"
   },
   {
    "duration": 14,
    "start_time": "2022-07-26T21:15:05.419Z"
   },
   {
    "duration": 14,
    "start_time": "2022-07-26T21:15:38.436Z"
   },
   {
    "duration": 10,
    "start_time": "2022-07-26T21:21:13.995Z"
   },
   {
    "duration": 398,
    "start_time": "2022-07-26T21:23:02.958Z"
   },
   {
    "duration": 69,
    "start_time": "2022-07-26T21:23:03.358Z"
   },
   {
    "duration": 19,
    "start_time": "2022-07-26T21:23:03.429Z"
   },
   {
    "duration": 27,
    "start_time": "2022-07-26T21:23:03.450Z"
   },
   {
    "duration": 21,
    "start_time": "2022-07-26T21:23:03.479Z"
   },
   {
    "duration": 20,
    "start_time": "2022-07-26T21:23:03.501Z"
   },
   {
    "duration": 26,
    "start_time": "2022-07-26T21:23:03.522Z"
   },
   {
    "duration": 39,
    "start_time": "2022-07-26T21:23:03.549Z"
   },
   {
    "duration": 12,
    "start_time": "2022-07-26T21:23:03.590Z"
   },
   {
    "duration": 9,
    "start_time": "2022-07-26T21:23:03.604Z"
   },
   {
    "duration": 10,
    "start_time": "2022-07-26T21:23:03.614Z"
   },
   {
    "duration": 9,
    "start_time": "2022-07-26T21:23:03.625Z"
   },
   {
    "duration": 8,
    "start_time": "2022-07-26T21:23:03.635Z"
   },
   {
    "duration": 9,
    "start_time": "2022-07-26T21:23:03.645Z"
   },
   {
    "duration": 7,
    "start_time": "2022-07-26T21:23:03.655Z"
   },
   {
    "duration": 10,
    "start_time": "2022-07-26T21:23:03.663Z"
   },
   {
    "duration": 10,
    "start_time": "2022-07-26T21:23:03.674Z"
   },
   {
    "duration": 7,
    "start_time": "2022-07-26T21:23:03.685Z"
   },
   {
    "duration": 5,
    "start_time": "2022-07-26T21:23:03.693Z"
   },
   {
    "duration": 5,
    "start_time": "2022-07-26T21:23:03.699Z"
   },
   {
    "duration": 4,
    "start_time": "2022-07-26T21:23:03.706Z"
   },
   {
    "duration": 6,
    "start_time": "2022-07-26T21:23:03.712Z"
   },
   {
    "duration": 9,
    "start_time": "2022-07-26T21:24:26.520Z"
   },
   {
    "duration": 345,
    "start_time": "2022-07-26T21:24:36.713Z"
   },
   {
    "duration": 67,
    "start_time": "2022-07-26T21:24:37.060Z"
   },
   {
    "duration": 20,
    "start_time": "2022-07-26T21:24:37.128Z"
   },
   {
    "duration": 14,
    "start_time": "2022-07-26T21:24:37.150Z"
   },
   {
    "duration": 11,
    "start_time": "2022-07-26T21:24:37.165Z"
   },
   {
    "duration": 4,
    "start_time": "2022-07-26T21:24:37.177Z"
   },
   {
    "duration": 9,
    "start_time": "2022-07-26T21:24:37.182Z"
   },
   {
    "duration": 8,
    "start_time": "2022-07-26T21:24:37.192Z"
   },
   {
    "duration": 14,
    "start_time": "2022-07-26T21:24:37.201Z"
   },
   {
    "duration": 5,
    "start_time": "2022-07-26T21:24:37.217Z"
   },
   {
    "duration": 5,
    "start_time": "2022-07-26T21:24:37.223Z"
   },
   {
    "duration": 10,
    "start_time": "2022-07-26T21:24:37.229Z"
   },
   {
    "duration": 13,
    "start_time": "2022-07-26T21:24:37.240Z"
   },
   {
    "duration": 10,
    "start_time": "2022-07-26T21:24:37.254Z"
   },
   {
    "duration": 9,
    "start_time": "2022-07-26T21:24:37.265Z"
   },
   {
    "duration": 8,
    "start_time": "2022-07-26T21:24:37.275Z"
   },
   {
    "duration": 11,
    "start_time": "2022-07-26T21:24:37.285Z"
   },
   {
    "duration": 7,
    "start_time": "2022-07-26T21:24:37.297Z"
   },
   {
    "duration": 15,
    "start_time": "2022-07-26T21:24:37.305Z"
   },
   {
    "duration": 6,
    "start_time": "2022-07-26T21:24:37.322Z"
   },
   {
    "duration": 8,
    "start_time": "2022-07-26T21:24:37.329Z"
   },
   {
    "duration": 10,
    "start_time": "2022-07-26T21:24:37.339Z"
   },
   {
    "duration": 4,
    "start_time": "2022-07-26T21:25:34.008Z"
   },
   {
    "duration": 371,
    "start_time": "2022-07-26T21:25:59.939Z"
   },
   {
    "duration": 66,
    "start_time": "2022-07-26T21:26:00.312Z"
   },
   {
    "duration": 21,
    "start_time": "2022-07-26T21:26:00.380Z"
   },
   {
    "duration": 17,
    "start_time": "2022-07-26T21:26:00.403Z"
   },
   {
    "duration": 72,
    "start_time": "2022-07-26T21:26:00.422Z"
   },
   {
    "duration": 0,
    "start_time": "2022-07-26T21:26:00.496Z"
   },
   {
    "duration": 0,
    "start_time": "2022-07-26T21:26:00.497Z"
   },
   {
    "duration": 0,
    "start_time": "2022-07-26T21:26:00.498Z"
   },
   {
    "duration": 0,
    "start_time": "2022-07-26T21:26:00.498Z"
   },
   {
    "duration": 0,
    "start_time": "2022-07-26T21:26:00.499Z"
   },
   {
    "duration": 0,
    "start_time": "2022-07-26T21:26:00.500Z"
   },
   {
    "duration": 0,
    "start_time": "2022-07-26T21:26:00.501Z"
   },
   {
    "duration": 0,
    "start_time": "2022-07-26T21:26:00.501Z"
   },
   {
    "duration": 0,
    "start_time": "2022-07-26T21:26:00.502Z"
   },
   {
    "duration": 0,
    "start_time": "2022-07-26T21:26:00.504Z"
   },
   {
    "duration": 1,
    "start_time": "2022-07-26T21:26:00.505Z"
   },
   {
    "duration": 0,
    "start_time": "2022-07-26T21:26:00.506Z"
   },
   {
    "duration": 0,
    "start_time": "2022-07-26T21:26:00.507Z"
   },
   {
    "duration": 0,
    "start_time": "2022-07-26T21:26:00.508Z"
   },
   {
    "duration": 0,
    "start_time": "2022-07-26T21:26:00.509Z"
   },
   {
    "duration": 0,
    "start_time": "2022-07-26T21:26:00.510Z"
   },
   {
    "duration": 0,
    "start_time": "2022-07-26T21:26:00.511Z"
   },
   {
    "duration": 9,
    "start_time": "2022-07-26T21:27:20.220Z"
   },
   {
    "duration": 8,
    "start_time": "2022-07-26T21:30:13.645Z"
   },
   {
    "duration": 30,
    "start_time": "2022-07-26T21:36:20.815Z"
   },
   {
    "duration": 18,
    "start_time": "2022-07-26T21:42:56.187Z"
   },
   {
    "duration": 3,
    "start_time": "2022-07-26T21:44:29.728Z"
   },
   {
    "duration": 7,
    "start_time": "2022-07-26T21:46:42.007Z"
   },
   {
    "duration": 3,
    "start_time": "2022-07-26T21:48:02.318Z"
   },
   {
    "duration": 374,
    "start_time": "2022-07-26T22:00:03.469Z"
   },
   {
    "duration": 66,
    "start_time": "2022-07-26T22:00:03.845Z"
   },
   {
    "duration": 21,
    "start_time": "2022-07-26T22:00:03.913Z"
   },
   {
    "duration": 14,
    "start_time": "2022-07-26T22:00:03.936Z"
   },
   {
    "duration": 25,
    "start_time": "2022-07-26T22:00:03.952Z"
   },
   {
    "duration": 28,
    "start_time": "2022-07-26T22:00:03.978Z"
   },
   {
    "duration": 3,
    "start_time": "2022-07-26T22:00:04.007Z"
   },
   {
    "duration": 17,
    "start_time": "2022-07-26T22:00:04.011Z"
   },
   {
    "duration": 3,
    "start_time": "2022-07-26T22:00:04.030Z"
   },
   {
    "duration": 23,
    "start_time": "2022-07-26T22:00:04.035Z"
   },
   {
    "duration": 2,
    "start_time": "2022-07-26T22:00:04.059Z"
   },
   {
    "duration": 5,
    "start_time": "2022-07-26T22:00:04.063Z"
   },
   {
    "duration": 14,
    "start_time": "2022-07-26T22:00:04.073Z"
   },
   {
    "duration": 5,
    "start_time": "2022-07-26T22:00:04.088Z"
   },
   {
    "duration": 5,
    "start_time": "2022-07-26T22:00:04.095Z"
   },
   {
    "duration": 6,
    "start_time": "2022-07-26T22:00:04.101Z"
   },
   {
    "duration": 11,
    "start_time": "2022-07-26T22:00:04.108Z"
   },
   {
    "duration": 10,
    "start_time": "2022-07-26T22:00:04.120Z"
   },
   {
    "duration": 12,
    "start_time": "2022-07-26T22:00:04.131Z"
   },
   {
    "duration": 9,
    "start_time": "2022-07-26T22:00:04.144Z"
   },
   {
    "duration": 9,
    "start_time": "2022-07-26T22:00:04.154Z"
   },
   {
    "duration": 6,
    "start_time": "2022-07-26T22:00:04.165Z"
   },
   {
    "duration": 382,
    "start_time": "2022-07-26T22:05:15.260Z"
   },
   {
    "duration": 65,
    "start_time": "2022-07-26T22:05:15.644Z"
   },
   {
    "duration": 19,
    "start_time": "2022-07-26T22:05:15.710Z"
   },
   {
    "duration": 13,
    "start_time": "2022-07-26T22:05:15.731Z"
   },
   {
    "duration": 8,
    "start_time": "2022-07-26T22:05:15.745Z"
   },
   {
    "duration": 17,
    "start_time": "2022-07-26T22:05:15.773Z"
   },
   {
    "duration": 3,
    "start_time": "2022-07-26T22:05:15.791Z"
   },
   {
    "duration": 10,
    "start_time": "2022-07-26T22:05:15.795Z"
   },
   {
    "duration": 3,
    "start_time": "2022-07-26T22:05:15.807Z"
   },
   {
    "duration": 9,
    "start_time": "2022-07-26T22:05:15.812Z"
   },
   {
    "duration": 5,
    "start_time": "2022-07-26T22:05:15.822Z"
   },
   {
    "duration": 15,
    "start_time": "2022-07-26T22:05:15.828Z"
   },
   {
    "duration": 2,
    "start_time": "2022-07-26T22:05:15.844Z"
   },
   {
    "duration": 6,
    "start_time": "2022-07-26T22:05:15.847Z"
   },
   {
    "duration": 20,
    "start_time": "2022-07-26T22:05:15.854Z"
   },
   {
    "duration": 9,
    "start_time": "2022-07-26T22:05:15.875Z"
   },
   {
    "duration": 7,
    "start_time": "2022-07-26T22:05:15.886Z"
   },
   {
    "duration": 7,
    "start_time": "2022-07-26T22:05:15.894Z"
   },
   {
    "duration": 5,
    "start_time": "2022-07-26T22:05:15.902Z"
   },
   {
    "duration": 5,
    "start_time": "2022-07-26T22:05:15.908Z"
   },
   {
    "duration": 7,
    "start_time": "2022-07-26T22:05:15.914Z"
   },
   {
    "duration": 4,
    "start_time": "2022-07-26T22:05:15.922Z"
   },
   {
    "duration": 368,
    "start_time": "2022-07-26T22:07:05.584Z"
   },
   {
    "duration": 66,
    "start_time": "2022-07-26T22:07:05.954Z"
   },
   {
    "duration": 20,
    "start_time": "2022-07-26T22:07:06.022Z"
   },
   {
    "duration": 14,
    "start_time": "2022-07-26T22:07:06.044Z"
   },
   {
    "duration": 20,
    "start_time": "2022-07-26T22:07:06.060Z"
   },
   {
    "duration": 18,
    "start_time": "2022-07-26T22:07:06.081Z"
   },
   {
    "duration": 3,
    "start_time": "2022-07-26T22:07:06.101Z"
   },
   {
    "duration": 13,
    "start_time": "2022-07-26T22:07:06.106Z"
   },
   {
    "duration": 3,
    "start_time": "2022-07-26T22:07:06.120Z"
   },
   {
    "duration": 9,
    "start_time": "2022-07-26T22:07:06.125Z"
   },
   {
    "duration": 3,
    "start_time": "2022-07-26T22:07:06.136Z"
   },
   {
    "duration": 38,
    "start_time": "2022-07-26T22:07:06.141Z"
   },
   {
    "duration": 2,
    "start_time": "2022-07-26T22:07:06.181Z"
   },
   {
    "duration": 3,
    "start_time": "2022-07-26T22:07:06.186Z"
   },
   {
    "duration": 4,
    "start_time": "2022-07-26T22:07:06.191Z"
   },
   {
    "duration": 4,
    "start_time": "2022-07-26T22:07:06.197Z"
   },
   {
    "duration": 4,
    "start_time": "2022-07-26T22:07:06.203Z"
   },
   {
    "duration": 7,
    "start_time": "2022-07-26T22:07:06.208Z"
   },
   {
    "duration": 7,
    "start_time": "2022-07-26T22:07:06.217Z"
   },
   {
    "duration": 7,
    "start_time": "2022-07-26T22:07:06.225Z"
   },
   {
    "duration": 5,
    "start_time": "2022-07-26T22:07:06.233Z"
   },
   {
    "duration": 4,
    "start_time": "2022-07-26T22:07:06.239Z"
   },
   {
    "duration": 16,
    "start_time": "2022-07-26T22:10:11.902Z"
   },
   {
    "duration": 372,
    "start_time": "2022-07-26T22:11:21.779Z"
   },
   {
    "duration": 65,
    "start_time": "2022-07-26T22:11:22.154Z"
   },
   {
    "duration": 20,
    "start_time": "2022-07-26T22:11:22.221Z"
   },
   {
    "duration": 13,
    "start_time": "2022-07-26T22:11:22.242Z"
   },
   {
    "duration": 22,
    "start_time": "2022-07-26T22:11:22.256Z"
   },
   {
    "duration": 19,
    "start_time": "2022-07-26T22:11:22.279Z"
   },
   {
    "duration": 5,
    "start_time": "2022-07-26T22:11:22.299Z"
   },
   {
    "duration": 20,
    "start_time": "2022-07-26T22:11:22.305Z"
   },
   {
    "duration": 17,
    "start_time": "2022-07-26T22:11:22.326Z"
   },
   {
    "duration": 18,
    "start_time": "2022-07-26T22:11:22.346Z"
   },
   {
    "duration": 31,
    "start_time": "2022-07-26T22:11:22.365Z"
   },
   {
    "duration": 24,
    "start_time": "2022-07-26T22:11:22.397Z"
   },
   {
    "duration": 4,
    "start_time": "2022-07-26T22:11:22.422Z"
   },
   {
    "duration": 6,
    "start_time": "2022-07-26T22:11:22.428Z"
   },
   {
    "duration": 9,
    "start_time": "2022-07-26T22:11:22.435Z"
   },
   {
    "duration": 8,
    "start_time": "2022-07-26T22:11:22.446Z"
   },
   {
    "duration": 7,
    "start_time": "2022-07-26T22:11:22.455Z"
   },
   {
    "duration": 6,
    "start_time": "2022-07-26T22:11:22.463Z"
   },
   {
    "duration": 10,
    "start_time": "2022-07-26T22:11:22.471Z"
   },
   {
    "duration": 7,
    "start_time": "2022-07-26T22:11:22.482Z"
   },
   {
    "duration": 6,
    "start_time": "2022-07-26T22:11:22.490Z"
   },
   {
    "duration": 6,
    "start_time": "2022-07-26T22:11:22.497Z"
   },
   {
    "duration": 14,
    "start_time": "2022-07-26T22:15:19.608Z"
   },
   {
    "duration": 14,
    "start_time": "2022-07-26T22:15:25.897Z"
   },
   {
    "duration": 394,
    "start_time": "2022-07-26T22:15:31.183Z"
   },
   {
    "duration": 69,
    "start_time": "2022-07-26T22:15:31.580Z"
   },
   {
    "duration": 19,
    "start_time": "2022-07-26T22:15:31.650Z"
   },
   {
    "duration": 16,
    "start_time": "2022-07-26T22:15:31.671Z"
   },
   {
    "duration": 20,
    "start_time": "2022-07-26T22:15:31.689Z"
   },
   {
    "duration": 22,
    "start_time": "2022-07-26T22:15:31.711Z"
   },
   {
    "duration": 4,
    "start_time": "2022-07-26T22:15:31.734Z"
   },
   {
    "duration": 11,
    "start_time": "2022-07-26T22:15:31.739Z"
   },
   {
    "duration": 10,
    "start_time": "2022-07-26T22:15:31.752Z"
   },
   {
    "duration": 19,
    "start_time": "2022-07-26T22:15:31.763Z"
   },
   {
    "duration": 13,
    "start_time": "2022-07-26T22:15:31.783Z"
   },
   {
    "duration": 22,
    "start_time": "2022-07-26T22:15:31.797Z"
   },
   {
    "duration": 6,
    "start_time": "2022-07-26T22:15:31.821Z"
   },
   {
    "duration": 5,
    "start_time": "2022-07-26T22:15:31.829Z"
   },
   {
    "duration": 5,
    "start_time": "2022-07-26T22:15:31.835Z"
   },
   {
    "duration": 8,
    "start_time": "2022-07-26T22:15:31.841Z"
   },
   {
    "duration": 12,
    "start_time": "2022-07-26T22:15:31.851Z"
   },
   {
    "duration": 10,
    "start_time": "2022-07-26T22:15:31.864Z"
   },
   {
    "duration": 8,
    "start_time": "2022-07-26T22:15:31.875Z"
   },
   {
    "duration": 22,
    "start_time": "2022-07-26T22:15:31.884Z"
   },
   {
    "duration": 39,
    "start_time": "2022-07-26T22:15:31.907Z"
   },
   {
    "duration": 20,
    "start_time": "2022-07-26T22:15:31.948Z"
   },
   {
    "duration": 398,
    "start_time": "2022-07-26T22:18:31.307Z"
   },
   {
    "duration": 65,
    "start_time": "2022-07-26T22:18:31.708Z"
   },
   {
    "duration": 19,
    "start_time": "2022-07-26T22:18:31.777Z"
   },
   {
    "duration": 20,
    "start_time": "2022-07-26T22:18:31.797Z"
   },
   {
    "duration": 11,
    "start_time": "2022-07-26T22:18:31.819Z"
   },
   {
    "duration": 31,
    "start_time": "2022-07-26T22:18:31.832Z"
   },
   {
    "duration": 4,
    "start_time": "2022-07-26T22:18:31.872Z"
   },
   {
    "duration": 19,
    "start_time": "2022-07-26T22:18:31.877Z"
   },
   {
    "duration": 5,
    "start_time": "2022-07-26T22:18:31.898Z"
   },
   {
    "duration": 14,
    "start_time": "2022-07-26T22:18:31.905Z"
   },
   {
    "duration": 10,
    "start_time": "2022-07-26T22:18:31.920Z"
   },
   {
    "duration": 17,
    "start_time": "2022-07-26T22:18:31.931Z"
   },
   {
    "duration": 3,
    "start_time": "2022-07-26T22:18:31.949Z"
   },
   {
    "duration": 16,
    "start_time": "2022-07-26T22:18:31.953Z"
   },
   {
    "duration": 12,
    "start_time": "2022-07-26T22:18:31.970Z"
   },
   {
    "duration": 12,
    "start_time": "2022-07-26T22:18:31.983Z"
   },
   {
    "duration": 10,
    "start_time": "2022-07-26T22:18:31.997Z"
   },
   {
    "duration": 9,
    "start_time": "2022-07-26T22:18:32.009Z"
   },
   {
    "duration": 11,
    "start_time": "2022-07-26T22:18:32.019Z"
   },
   {
    "duration": 8,
    "start_time": "2022-07-26T22:18:32.031Z"
   },
   {
    "duration": 6,
    "start_time": "2022-07-26T22:18:32.041Z"
   },
   {
    "duration": 8,
    "start_time": "2022-07-26T22:18:32.048Z"
   },
   {
    "duration": 21,
    "start_time": "2022-07-26T22:19:48.191Z"
   },
   {
    "duration": 399,
    "start_time": "2022-07-26T22:19:52.454Z"
   },
   {
    "duration": 66,
    "start_time": "2022-07-26T22:19:52.854Z"
   },
   {
    "duration": 19,
    "start_time": "2022-07-26T22:19:52.922Z"
   },
   {
    "duration": 28,
    "start_time": "2022-07-26T22:19:52.943Z"
   },
   {
    "duration": 11,
    "start_time": "2022-07-26T22:19:52.973Z"
   },
   {
    "duration": 43,
    "start_time": "2022-07-26T22:19:52.986Z"
   },
   {
    "duration": 3,
    "start_time": "2022-07-26T22:19:53.031Z"
   },
   {
    "duration": 32,
    "start_time": "2022-07-26T22:19:53.036Z"
   },
   {
    "duration": 24,
    "start_time": "2022-07-26T22:19:53.070Z"
   },
   {
    "duration": 25,
    "start_time": "2022-07-26T22:19:53.096Z"
   },
   {
    "duration": 31,
    "start_time": "2022-07-26T22:19:53.123Z"
   },
   {
    "duration": 63,
    "start_time": "2022-07-26T22:19:53.156Z"
   },
   {
    "duration": 9,
    "start_time": "2022-07-26T22:19:53.221Z"
   },
   {
    "duration": 31,
    "start_time": "2022-07-26T22:19:53.232Z"
   },
   {
    "duration": 37,
    "start_time": "2022-07-26T22:19:53.265Z"
   },
   {
    "duration": 30,
    "start_time": "2022-07-26T22:19:53.303Z"
   },
   {
    "duration": 36,
    "start_time": "2022-07-26T22:19:53.334Z"
   },
   {
    "duration": 27,
    "start_time": "2022-07-26T22:19:53.371Z"
   },
   {
    "duration": 24,
    "start_time": "2022-07-26T22:19:53.399Z"
   },
   {
    "duration": 23,
    "start_time": "2022-07-26T22:19:53.424Z"
   },
   {
    "duration": 25,
    "start_time": "2022-07-26T22:19:53.449Z"
   },
   {
    "duration": 22,
    "start_time": "2022-07-26T22:19:53.476Z"
   }
  ],
  "colab": {
   "name": "dpp_template_part1.ipynb",
   "provenance": []
  },
  "kernelspec": {
   "display_name": "Python 3 (ipykernel)",
   "language": "python",
   "name": "python3"
  },
  "language_info": {
   "codemirror_mode": {
    "name": "ipython",
    "version": 3
   },
   "file_extension": ".py",
   "mimetype": "text/x-python",
   "name": "python",
   "nbconvert_exporter": "python",
   "pygments_lexer": "ipython3",
   "version": "3.9.5"
  },
  "toc": {
   "base_numbering": 1,
   "nav_menu": {},
   "number_sections": true,
   "sideBar": true,
   "skip_h1_title": true,
   "title_cell": "Table of Contents",
   "title_sidebar": "Contents",
   "toc_cell": false,
   "toc_position": {},
   "toc_section_display": true,
   "toc_window_display": false
  }
 },
 "nbformat": 4,
 "nbformat_minor": 5
}
