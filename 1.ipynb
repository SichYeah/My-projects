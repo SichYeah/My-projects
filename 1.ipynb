{
 "cells": [
  {
   "cell_type": "markdown",
   "metadata": {
    "deletable": false,
    "editable": false,
    "id": "E0vqbgi9ay0H"
   },
   "source": [
    "# Яндекс Музыка"
   ]
  },
  {
   "cell_type": "markdown",
   "metadata": {
    "deletable": false,
    "editable": false,
    "id": "VUC88oWjTJw2"
   },
   "source": [
    "Сравнение Москвы и Петербурга окружено мифами. Например:\n",
    " * Москва — мегаполис, подчинённый жёсткому ритму рабочей недели;\n",
    " * Петербург — культурная столица, со своими вкусами.\n",
    "\n",
    "На данных Яндекс Музыки вы сравните поведение пользователей двух столиц.\n",
    "\n",
    "**Цель исследования** — проверьте три гипотезы:\n",
    "1. Активность пользователей зависит от дня недели. Причём в Москве и Петербурге это проявляется по-разному.\n",
    "2. В понедельник утром в Москве преобладают одни жанры, а в Петербурге — другие. Так же и вечером пятницы преобладают разные жанры — в зависимости от города. \n",
    "3. Москва и Петербург предпочитают разные жанры музыки. В Москве чаще слушают поп-музыку, в Петербурге — русский рэп.\n",
    "\n",
    "**Ход исследования**\n",
    "\n",
    "Данные о поведении пользователей вы получите из файла `yandex_music_project.csv`. О качестве данных ничего не известно. Поэтому перед проверкой гипотез понадобится обзор данных. \n",
    "\n",
    "Вы проверите данные на ошибки и оцените их влияние на исследование. Затем, на этапе предобработки вы поищете возможность исправить самые критичные ошибки данных.\n",
    " \n",
    "Таким образом, исследование пройдёт в три этапа:\n",
    " 1. Обзор данных.\n",
    " 2. Предобработка данных.\n",
    " 3. Проверка гипотез.\n",
    "\n"
   ]
  },
  {
   "cell_type": "markdown",
   "metadata": {
    "deletable": false,
    "editable": false,
    "id": "Ml1hmfXC_Zcs"
   },
   "source": [
    "## Обзор данных\n",
    "\n",
    "Составьте первое представление о данных Яндекс Музыки.\n",
    "\n",
    "\n"
   ]
  },
  {
   "cell_type": "markdown",
   "metadata": {
    "deletable": false,
    "editable": false,
    "id": "57eAOGIz_Zcs",
    "tags": [
     "start_task"
    ]
   },
   "source": [
    "**Задание 1**\n",
    "\n",
    "Основной инструмент аналитика — `pandas`. Импортируйте эту библиотеку."
   ]
  },
  {
   "cell_type": "code",
   "execution_count": 1,
   "metadata": {
    "deletable": false,
    "id": "AXN7PHPN_Zcs"
   },
   "outputs": [],
   "source": [
    "import pandas as pd"
   ]
  },
  {
   "cell_type": "markdown",
   "metadata": {
    "deletable": false,
    "editable": false,
    "id": "SG23P8tt_Zcs",
    "tags": [
     "start_task"
    ]
   },
   "source": [
    "**Задание 2**\n",
    "\n",
    "Прочитайте файл `yandex_music_project.csv` из папки `/datasets` и сохраните его в переменной `df`:"
   ]
  },
  {
   "cell_type": "code",
   "execution_count": 2,
   "metadata": {
    "deletable": false,
    "id": "fFVu7vqh_Zct"
   },
   "outputs": [],
   "source": [
    "df = pd.read_csv(\"/datasets/yandex_music_project.csv\")"
   ]
  },
  {
   "cell_type": "markdown",
   "metadata": {
    "deletable": false,
    "editable": false,
    "id": "rDoOMd3uTqnZ",
    "tags": [
     "start_task"
    ]
   },
   "source": [
    "**Задание 3**\n",
    "\n",
    "\n",
    "Выведите на экран первые десять строк таблицы:"
   ]
  },
  {
   "cell_type": "code",
   "execution_count": 3,
   "metadata": {
    "deletable": false,
    "id": "oWTVX3gW_Zct"
   },
   "outputs": [
    {
     "name": "stdout",
     "output_type": "stream",
     "text": [
      "     userID                        Track            artist   genre  \\\n",
      "0  FFB692EC            Kamigata To Boots  The Mass Missile    rock   \n",
      "1  55204538  Delayed Because of Accident  Andreas Rönnberg    rock   \n",
      "2    20EC38            Funiculì funiculà       Mario Lanza     pop   \n",
      "3  A3DD03C9        Dragons in the Sunset        Fire + Ice    folk   \n",
      "4  E2DC1FAE                  Soul People        Space Echo   dance   \n",
      "5  842029A1                    Преданная         IMPERVTOR  rusrap   \n",
      "6  4CB90AA5                         True      Roman Messer   dance   \n",
      "7  F03E1C1F             Feeling This Way   Polina Griffith   dance   \n",
      "8  8FA1D3BE     И вновь продолжается бой               NaN  ruspop   \n",
      "9  E772D5C0                    Pessimist               NaN   dance   \n",
      "\n",
      "             City        time        Day  \n",
      "0  Saint-Petersburg  20:28:33  Wednesday  \n",
      "1            Moscow  14:07:09     Friday  \n",
      "2  Saint-Petersburg  20:58:07  Wednesday  \n",
      "3  Saint-Petersburg  08:37:09     Monday  \n",
      "4            Moscow  08:34:34     Monday  \n",
      "5  Saint-Petersburg  13:09:41     Friday  \n",
      "6            Moscow  13:00:07  Wednesday  \n",
      "7            Moscow  20:47:49  Wednesday  \n",
      "8            Moscow  09:17:40     Friday  \n",
      "9  Saint-Petersburg  21:20:49  Wednesday  \n"
     ]
    }
   ],
   "source": [
    "print(df.head(10))"
   ]
  },
  {
   "cell_type": "markdown",
   "metadata": {
    "deletable": false,
    "editable": false,
    "id": "EO73Kwic_Zct",
    "tags": [
     "start_task"
    ]
   },
   "source": [
    "**Задание 4**\n",
    "\n",
    "\n",
    "Одной командой получить общую информацию о таблице c помощью метода `info()`:"
   ]
  },
  {
   "cell_type": "code",
   "execution_count": 4,
   "metadata": {
    "deletable": false,
    "id": "DSf2kIb-_Zct"
   },
   "outputs": [
    {
     "name": "stdout",
     "output_type": "stream",
     "text": [
      "<class 'pandas.core.frame.DataFrame'>\n",
      "RangeIndex: 65079 entries, 0 to 65078\n",
      "Data columns (total 7 columns):\n",
      " #   Column    Non-Null Count  Dtype \n",
      "---  ------    --------------  ----- \n",
      " 0     userID  65079 non-null  object\n",
      " 1   Track     63848 non-null  object\n",
      " 2   artist    57876 non-null  object\n",
      " 3   genre     63881 non-null  object\n",
      " 4     City    65079 non-null  object\n",
      " 5   time      65079 non-null  object\n",
      " 6   Day       65079 non-null  object\n",
      "dtypes: object(7)\n",
      "memory usage: 3.5+ MB\n"
     ]
    }
   ],
   "source": [
    "df.info()"
   ]
  },
  {
   "cell_type": "markdown",
   "metadata": {
    "deletable": false,
    "editable": false,
    "id": "TaQ2Iwbr_Zct"
   },
   "source": [
    "Итак, в таблице семь столбцов. Тип данных во всех столбцах — `object`.\n",
    "\n",
    "Согласно документации к данным:\n",
    "* `userID` — идентификатор пользователя;\n",
    "* `Track` — название трека;  \n",
    "* `artist` — имя исполнителя;\n",
    "* `genre` — название жанра;\n",
    "* `City` — город пользователя;\n",
    "* `time` — время начала прослушивания;\n",
    "* `Day` — день недели.\n",
    "\n",
    "Количество значений в столбцах различается. Значит, в данных есть пропущенные значения."
   ]
  },
  {
   "cell_type": "markdown",
   "metadata": {
    "deletable": false,
    "editable": false,
    "id": "rAfziTBDmf2h",
    "tags": [
     "start_task"
    ]
   },
   "source": [
    "**Задание 5**\n",
    "\n",
    "**Вопрос со свободной формой ответа**\n",
    "\n",
    "В названиях колонок видны нарушения стиля:\n",
    "* Строчные буквы сочетаются с прописными.\n",
    "* Встречаются пробелы.\n",
    "\n",
    "Какое третье нарушение?"
   ]
  },
  {
   "cell_type": "code",
   "execution_count": 5,
   "metadata": {
    "id": "jD8EXEIvmf2h"
   },
   "outputs": [],
   "source": [
    "#Желателен змеиный_язык"
   ]
  },
  {
   "cell_type": "markdown",
   "metadata": {
    "deletable": false,
    "editable": false,
    "id": "MCB6-dXG_Zct"
   },
   "source": [
    "**Выводы**\n",
    "\n",
    "В каждой строке таблицы — данные о прослушанном треке. Часть колонок описывает саму композицию: название, исполнителя и жанр. Остальные данные рассказывают о пользователе: из какого он города, когда он слушал музыку. \n",
    "\n",
    "Предварительно можно утверждать, что данных достаточно для проверки гипотез. Но встречаются пропуски в данных, а в названиях колонок — расхождения с хорошим стилем.\n",
    "\n",
    "Чтобы двигаться дальше, нужно устранить проблемы в данных."
   ]
  },
  {
   "cell_type": "markdown",
   "metadata": {
    "deletable": false,
    "editable": false,
    "id": "SjYF6Ub9_Zct"
   },
   "source": [
    "## Предобработка данных\n",
    "Исправьте стиль в заголовках столбцов, исключите пропуски. Затем проверьте данные на дубликаты."
   ]
  },
  {
   "cell_type": "markdown",
   "metadata": {
    "deletable": false,
    "editable": false,
    "id": "dIaKXr29_Zct",
    "tags": [
     "start_task"
    ]
   },
   "source": [
    "### Стиль заголовков\n",
    "\n",
    "**Задание 6**\n",
    "\n",
    "Выведите на экран названия столбцов:"
   ]
  },
  {
   "cell_type": "code",
   "execution_count": 6,
   "metadata": {
    "deletable": false,
    "id": "oKOTdF_Q_Zct"
   },
   "outputs": [
    {
     "name": "stdout",
     "output_type": "stream",
     "text": [
      "Index(['  userID', 'Track', 'artist', 'genre', '  City  ', 'time', 'Day'], dtype='object')\n"
     ]
    }
   ],
   "source": [
    "print(df.columns)"
   ]
  },
  {
   "cell_type": "markdown",
   "metadata": {
    "deletable": false,
    "editable": false,
    "id": "zj5534cv_Zct",
    "tags": [
     "start_task"
    ]
   },
   "source": [
    "**Задание 7**\n",
    "\n",
    "\n",
    "Приведите названия в соответствие с хорошим стилем:\n",
    "* несколько слов в названии запишите в «змеином_регистре»,\n",
    "* все символы сделайте строчными,\n",
    "* устраните пробелы.\n",
    "\n",
    "Для этого переименуйте колонки так:\n",
    "* `'  userID'` → `'user_id'`;\n",
    "* `'Track'` → `'track'`;\n",
    "* `'  City  '` → `'city'`;\n",
    "* `'Day'` → `'day'`."
   ]
  },
  {
   "cell_type": "code",
   "execution_count": 7,
   "metadata": {
    "deletable": false,
    "id": "ISlFqs5y_Zct"
   },
   "outputs": [],
   "source": [
    "df = df.rename(\n",
    "    columns={\n",
    "'  userID' : 'user_id',\n",
    "'Track' : 'track',\n",
    "'  City  ' : 'city',\n",
    "'Day' : 'day'    \n",
    "    }\n",
    ")"
   ]
  },
  {
   "cell_type": "markdown",
   "metadata": {
    "deletable": false,
    "editable": false,
    "id": "1dqbh00J_Zct",
    "tags": [
     "start_task"
    ]
   },
   "source": [
    "**Задание 8**\n",
    "\n",
    "\n",
    "Проверьте результат. Для этого ещё раз выведите на экран названия столбцов:"
   ]
  },
  {
   "cell_type": "code",
   "execution_count": 8,
   "metadata": {
    "deletable": false,
    "id": "d4NOAmTW_Zct"
   },
   "outputs": [
    {
     "name": "stdout",
     "output_type": "stream",
     "text": [
      "Index(['user_id', 'track', 'artist', 'genre', 'city', 'time', 'day'], dtype='object')\n"
     ]
    }
   ],
   "source": [
    "print(df.columns)"
   ]
  },
  {
   "cell_type": "markdown",
   "metadata": {
    "deletable": false,
    "editable": false,
    "id": "5ISfbcfY_Zct",
    "tags": [
     "start_task"
    ]
   },
   "source": [
    "### Пропуски значений\n",
    "\n",
    "**Задание 9**\n",
    "\n",
    "Сначала посчитайте, сколько в таблице пропущенных значений. Для этого достаточно двух методов `pandas`:"
   ]
  },
  {
   "cell_type": "code",
   "execution_count": 9,
   "metadata": {
    "deletable": false,
    "id": "RskX29qr_Zct"
   },
   "outputs": [
    {
     "data": {
      "text/plain": [
       "user_id       0\n",
       "track      1231\n",
       "artist     7203\n",
       "genre      1198\n",
       "city          0\n",
       "time          0\n",
       "day           0\n",
       "dtype: int64"
      ]
     },
     "execution_count": 9,
     "metadata": {},
     "output_type": "execute_result"
    }
   ],
   "source": [
    "df.isna().sum()"
   ]
  },
  {
   "cell_type": "markdown",
   "metadata": {
    "deletable": false,
    "editable": false,
    "id": "qubhgnlO_Zct"
   },
   "source": [
    "Не все пропущенные значения влияют на исследование. Так в `track` и `artist` пропуски не важны для вашей работы. Достаточно заменить их явными обозначениями.\n",
    "\n",
    "Но пропуски в `genre` могут помешать сравнению музыкальных вкусов в Москве и Санкт-Петербурге. На практике было бы правильно установить причину пропусков и восстановить данные. Такой возможности нет в учебном проекте. Придётся:\n",
    "* заполнить и эти пропуски явными обозначениями;\n",
    "* оценить, насколько они повредят расчётам. "
   ]
  },
  {
   "cell_type": "markdown",
   "metadata": {
    "deletable": false,
    "editable": false,
    "id": "fSv2laPA_Zct",
    "tags": [
     "start_task"
    ]
   },
   "source": [
    "**Задание 10**\n",
    "\n",
    "Замените пропущенные значения в столбцах `track`, `artist` и `genre` на строку `'unknown'`. Для этого создайте список `columns_to_replace`, переберите его элементы циклом `for` и для каждого столбца выполните замену пропущенных значений:"
   ]
  },
  {
   "cell_type": "code",
   "execution_count": 10,
   "metadata": {
    "deletable": false,
    "id": "KplB5qWs_Zct"
   },
   "outputs": [],
   "source": [
    "df = df.fillna(\"unknown\")"
   ]
  },
  {
   "cell_type": "markdown",
   "metadata": {
    "deletable": false,
    "editable": false,
    "id": "Ilsm-MZo_Zct",
    "tags": [
     "start_task"
    ]
   },
   "source": [
    "**Задание 11**\n",
    "\n",
    "Убедитесь, что в таблице не осталось пропусков. Для этого ещё раз посчитайте пропущенные значения."
   ]
  },
  {
   "cell_type": "code",
   "execution_count": 11,
   "metadata": {
    "deletable": false,
    "id": "Tq4nYRX4_Zct"
   },
   "outputs": [
    {
     "data": {
      "text/plain": [
       "user_id    0\n",
       "track      0\n",
       "artist     0\n",
       "genre      0\n",
       "city       0\n",
       "time       0\n",
       "day        0\n",
       "dtype: int64"
      ]
     },
     "execution_count": 11,
     "metadata": {},
     "output_type": "execute_result"
    }
   ],
   "source": [
    "df.isna().sum()"
   ]
  },
  {
   "cell_type": "markdown",
   "metadata": {
    "deletable": false,
    "editable": false,
    "id": "BWKRtBJ3_Zct",
    "tags": [
     "start_task"
    ]
   },
   "source": [
    "### Дубликаты\n",
    "\n",
    "**Задание 12**\n",
    "\n",
    "Посчитайте явные дубликаты в таблице одной командой:"
   ]
  },
  {
   "cell_type": "code",
   "execution_count": 12,
   "metadata": {
    "deletable": false,
    "id": "36eES_S0_Zct"
   },
   "outputs": [
    {
     "data": {
      "text/plain": [
       "3826"
      ]
     },
     "execution_count": 12,
     "metadata": {},
     "output_type": "execute_result"
    }
   ],
   "source": [
    "df.duplicated().sum()"
   ]
  },
  {
   "cell_type": "markdown",
   "metadata": {
    "deletable": false,
    "editable": false,
    "id": "Ot25h6XR_Zct",
    "tags": [
     "start_task"
    ]
   },
   "source": [
    "**Задание 13**\n",
    "\n",
    "Вызовите специальный метод `pandas`, чтобы удалить явные дубликаты:"
   ]
  },
  {
   "cell_type": "code",
   "execution_count": 13,
   "metadata": {
    "deletable": false,
    "id": "exFHq6tt_Zct"
   },
   "outputs": [],
   "source": [
    "df = df.drop_duplicates().reset_index(drop=True)"
   ]
  },
  {
   "cell_type": "markdown",
   "metadata": {
    "deletable": false,
    "editable": false,
    "id": "Im2YwBEG_Zct",
    "tags": [
     "start_task"
    ]
   },
   "source": [
    "**Задание 14**\n",
    "\n",
    "Ещё раз посчитайте явные дубликаты в таблице — убедитесь, что полностью от них избавились:"
   ]
  },
  {
   "cell_type": "code",
   "execution_count": 14,
   "metadata": {
    "deletable": false,
    "id": "-8PuNWQ0_Zct"
   },
   "outputs": [
    {
     "data": {
      "text/plain": [
       "0"
      ]
     },
     "execution_count": 14,
     "metadata": {},
     "output_type": "execute_result"
    }
   ],
   "source": [
    "df.duplicated().sum()"
   ]
  },
  {
   "cell_type": "markdown",
   "metadata": {
    "deletable": false,
    "editable": false,
    "id": "QlFBsxAr_Zct"
   },
   "source": [
    "Теперь избавьтесь от неявных дубликатов в колонке `genre`. Например, название одного и того же жанра может быть записано немного по-разному. Такие ошибки тоже повлияют на результат исследования."
   ]
  },
  {
   "cell_type": "markdown",
   "metadata": {
    "deletable": false,
    "editable": false,
    "id": "eSjWwsOh_Zct",
    "tags": [
     "start_task"
    ]
   },
   "source": [
    "**Задание 15**\n",
    "\n",
    "Выведите на экран список уникальных названий жанров, отсортированный в алфавитном порядке. Для этого:\n",
    "1. извлеките нужный столбец датафрейма; \n",
    "2. примените к нему метод сортировки;\n",
    "3. для отсортированного столбца вызовите метод, который вернёт уникальные значения из столбца."
   ]
  },
  {
   "cell_type": "code",
   "execution_count": 15,
   "metadata": {
    "deletable": false,
    "id": "JIUcqzZN_Zct"
   },
   "outputs": [
    {
     "name": "stdout",
     "output_type": "stream",
     "text": [
      "['acid' 'acoustic' 'action' 'adult' 'africa' 'afrikaans' 'alternative'\n",
      " 'alternativepunk' 'ambient' 'americana' 'animated' 'anime' 'arabesk'\n",
      " 'arabic' 'arena' 'argentinetango' 'art' 'audiobook' 'author' 'avantgarde'\n",
      " 'axé' 'baile' 'balkan' 'beats' 'bigroom' 'black' 'bluegrass' 'blues'\n",
      " 'bollywood' 'bossa' 'brazilian' 'breakbeat' 'breaks' 'broadway'\n",
      " 'cantautori' 'cantopop' 'canzone' 'caribbean' 'caucasian' 'celtic'\n",
      " 'chamber' 'chanson' 'children' 'chill' 'chinese' 'choral' 'christian'\n",
      " 'christmas' 'classical' 'classicmetal' 'club' 'colombian' 'comedy'\n",
      " 'conjazz' 'contemporary' 'country' 'cuban' 'dance' 'dancehall' 'dancepop'\n",
      " 'dark' 'death' 'deep' 'deutschrock' 'deutschspr' 'dirty' 'disco' 'dnb'\n",
      " 'documentary' 'downbeat' 'downtempo' 'drum' 'dub' 'dubstep' 'eastern'\n",
      " 'easy' 'electronic' 'electropop' 'emo' 'entehno' 'epicmetal' 'estrada'\n",
      " 'ethnic' 'eurofolk' 'european' 'experimental' 'extrememetal' 'fado'\n",
      " 'fairytail' 'film' 'fitness' 'flamenco' 'folk' 'folklore' 'folkmetal'\n",
      " 'folkrock' 'folktronica' 'forró' 'frankreich' 'französisch' 'french'\n",
      " 'funk' 'future' 'gangsta' 'garage' 'german' 'ghazal' 'gitarre' 'glitch'\n",
      " 'gospel' 'gothic' 'grime' 'grunge' 'gypsy' 'handsup' \"hard'n'heavy\"\n",
      " 'hardcore' 'hardstyle' 'hardtechno' 'hip' 'hip-hop' 'hiphop' 'historisch'\n",
      " 'holiday' 'hop' 'horror' 'house' 'hymn' 'idm' 'independent' 'indian'\n",
      " 'indie' 'indipop' 'industrial' 'inspirational' 'instrumental'\n",
      " 'international' 'irish' 'jam' 'japanese' 'jazz' 'jewish' 'jpop' 'jungle'\n",
      " 'k-pop' 'karadeniz' 'karaoke' 'kayokyoku' 'korean' 'laiko' 'latin'\n",
      " 'latino' 'leftfield' 'local' 'lounge' 'loungeelectronic' 'lovers'\n",
      " 'malaysian' 'mandopop' 'marschmusik' 'meditative' 'mediterranean'\n",
      " 'melodic' 'metal' 'metalcore' 'mexican' 'middle' 'minimal'\n",
      " 'miscellaneous' 'modern' 'mood' 'mpb' 'muslim' 'native' 'neoklassik'\n",
      " 'neue' 'new' 'newage' 'newwave' 'nu' 'nujazz' 'numetal' 'oceania' 'old'\n",
      " 'opera' 'orchestral' 'other' 'piano' 'podcasts' 'pop' 'popdance'\n",
      " 'popelectronic' 'popeurodance' 'poprussian' 'post' 'posthardcore'\n",
      " 'postrock' 'power' 'progmetal' 'progressive' 'psychedelic' 'punjabi'\n",
      " 'punk' 'quebecois' 'ragga' 'ram' 'rancheras' 'rap' 'rave' 'reggae'\n",
      " 'reggaeton' 'regional' 'relax' 'religious' 'retro' 'rhythm' 'rnb' 'rnr'\n",
      " 'rock' 'rockabilly' 'rockalternative' 'rockindie' 'rockother' 'romance'\n",
      " 'roots' 'ruspop' 'rusrap' 'rusrock' 'russian' 'salsa' 'samba' 'scenic'\n",
      " 'schlager' 'self' 'sertanejo' 'shanson' 'shoegazing' 'showtunes' 'singer'\n",
      " 'ska' 'skarock' 'slow' 'smooth' 'soft' 'soul' 'soulful' 'sound'\n",
      " 'soundtrack' 'southern' 'specialty' 'speech' 'spiritual' 'sport'\n",
      " 'stonerrock' 'surf' 'swing' 'synthpop' 'synthrock' 'sängerportrait'\n",
      " 'tango' 'tanzorchester' 'taraftar' 'tatar' 'tech' 'techno' 'teen'\n",
      " 'thrash' 'top' 'traditional' 'tradjazz' 'trance' 'tribal' 'trip'\n",
      " 'triphop' 'tropical' 'türk' 'türkçe' 'ukrrock' 'unknown' 'urban' 'uzbek'\n",
      " 'variété' 'vi' 'videogame' 'vocal' 'western' 'world' 'worldbeat' 'ïîï'\n",
      " 'электроника']\n"
     ]
    }
   ],
   "source": [
    "print(df['genre'].sort_values().unique()) "
   ]
  },
  {
   "cell_type": "markdown",
   "metadata": {
    "deletable": false,
    "editable": false,
    "id": "qej-Qmuo_Zct",
    "tags": [
     "start_task"
    ]
   },
   "source": [
    "**Задание 16**\n",
    "\n",
    "Просмотрите список и найдите неявные дубликаты названия `hiphop`. Это могут быть названия с ошибками или альтернативные названия того же жанра.\n",
    "\n",
    "Вы увидите следующие неявные дубликаты:\n",
    "* *hip*,\n",
    "* *hop*,\n",
    "* *hip-hop*.\n",
    "\n",
    "Чтобы очистить от них таблицу используйте метод `replace()` с двумя аргументами: списком строк-дубликатов (включащий *hip*, *hop* и *hip-hop*) и строкой с правильным значением. Вам нужно исправить колонку `genre` в таблице `df`: заменить каждое значение из списка дубликатов на верное. Вместо `hip`, `hop` и `hip-hop` в таблице должно быть значение `hiphop`:"
   ]
  },
  {
   "cell_type": "code",
   "execution_count": 16,
   "metadata": {
    "deletable": false,
    "id": "ErNDkmns_Zct"
   },
   "outputs": [],
   "source": [
    "to_replace = ['hip', 'hop', 'hip-hop']\n",
    "df['genre'] = df['genre'].replace(to_replace, 'hiphop')"
   ]
  },
  {
   "cell_type": "markdown",
   "metadata": {
    "deletable": false,
    "editable": false,
    "id": "zQKF16_RG15m",
    "tags": [
     "start_task"
    ]
   },
   "source": [
    "**Задание 17**\n",
    "\n",
    "Проверьте, что заменили неправильные названия:\n",
    "\n",
    "*   hip,\n",
    "*   hop,\n",
    "*   hip-hop.\n",
    "\n",
    "Выведите отсортированный список уникальных значений столбца `genre`:"
   ]
  },
  {
   "cell_type": "code",
   "execution_count": 17,
   "metadata": {
    "deletable": false,
    "id": "wvixALnFG15m"
   },
   "outputs": [
    {
     "name": "stdout",
     "output_type": "stream",
     "text": [
      "['acid' 'acoustic' 'action' 'adult' 'africa' 'afrikaans' 'alternative'\n",
      " 'alternativepunk' 'ambient' 'americana' 'animated' 'anime' 'arabesk'\n",
      " 'arabic' 'arena' 'argentinetango' 'art' 'audiobook' 'author' 'avantgarde'\n",
      " 'axé' 'baile' 'balkan' 'beats' 'bigroom' 'black' 'bluegrass' 'blues'\n",
      " 'bollywood' 'bossa' 'brazilian' 'breakbeat' 'breaks' 'broadway'\n",
      " 'cantautori' 'cantopop' 'canzone' 'caribbean' 'caucasian' 'celtic'\n",
      " 'chamber' 'chanson' 'children' 'chill' 'chinese' 'choral' 'christian'\n",
      " 'christmas' 'classical' 'classicmetal' 'club' 'colombian' 'comedy'\n",
      " 'conjazz' 'contemporary' 'country' 'cuban' 'dance' 'dancehall' 'dancepop'\n",
      " 'dark' 'death' 'deep' 'deutschrock' 'deutschspr' 'dirty' 'disco' 'dnb'\n",
      " 'documentary' 'downbeat' 'downtempo' 'drum' 'dub' 'dubstep' 'eastern'\n",
      " 'easy' 'electronic' 'electropop' 'emo' 'entehno' 'epicmetal' 'estrada'\n",
      " 'ethnic' 'eurofolk' 'european' 'experimental' 'extrememetal' 'fado'\n",
      " 'fairytail' 'film' 'fitness' 'flamenco' 'folk' 'folklore' 'folkmetal'\n",
      " 'folkrock' 'folktronica' 'forró' 'frankreich' 'französisch' 'french'\n",
      " 'funk' 'future' 'gangsta' 'garage' 'german' 'ghazal' 'gitarre' 'glitch'\n",
      " 'gospel' 'gothic' 'grime' 'grunge' 'gypsy' 'handsup' \"hard'n'heavy\"\n",
      " 'hardcore' 'hardstyle' 'hardtechno' 'hiphop' 'historisch' 'holiday'\n",
      " 'horror' 'house' 'hymn' 'idm' 'independent' 'indian' 'indie' 'indipop'\n",
      " 'industrial' 'inspirational' 'instrumental' 'international' 'irish' 'jam'\n",
      " 'japanese' 'jazz' 'jewish' 'jpop' 'jungle' 'k-pop' 'karadeniz' 'karaoke'\n",
      " 'kayokyoku' 'korean' 'laiko' 'latin' 'latino' 'leftfield' 'local'\n",
      " 'lounge' 'loungeelectronic' 'lovers' 'malaysian' 'mandopop' 'marschmusik'\n",
      " 'meditative' 'mediterranean' 'melodic' 'metal' 'metalcore' 'mexican'\n",
      " 'middle' 'minimal' 'miscellaneous' 'modern' 'mood' 'mpb' 'muslim'\n",
      " 'native' 'neoklassik' 'neue' 'new' 'newage' 'newwave' 'nu' 'nujazz'\n",
      " 'numetal' 'oceania' 'old' 'opera' 'orchestral' 'other' 'piano' 'podcasts'\n",
      " 'pop' 'popdance' 'popelectronic' 'popeurodance' 'poprussian' 'post'\n",
      " 'posthardcore' 'postrock' 'power' 'progmetal' 'progressive' 'psychedelic'\n",
      " 'punjabi' 'punk' 'quebecois' 'ragga' 'ram' 'rancheras' 'rap' 'rave'\n",
      " 'reggae' 'reggaeton' 'regional' 'relax' 'religious' 'retro' 'rhythm'\n",
      " 'rnb' 'rnr' 'rock' 'rockabilly' 'rockalternative' 'rockindie' 'rockother'\n",
      " 'romance' 'roots' 'ruspop' 'rusrap' 'rusrock' 'russian' 'salsa' 'samba'\n",
      " 'scenic' 'schlager' 'self' 'sertanejo' 'shanson' 'shoegazing' 'showtunes'\n",
      " 'singer' 'ska' 'skarock' 'slow' 'smooth' 'soft' 'soul' 'soulful' 'sound'\n",
      " 'soundtrack' 'southern' 'specialty' 'speech' 'spiritual' 'sport'\n",
      " 'stonerrock' 'surf' 'swing' 'synthpop' 'synthrock' 'sängerportrait'\n",
      " 'tango' 'tanzorchester' 'taraftar' 'tatar' 'tech' 'techno' 'teen'\n",
      " 'thrash' 'top' 'traditional' 'tradjazz' 'trance' 'tribal' 'trip'\n",
      " 'triphop' 'tropical' 'türk' 'türkçe' 'ukrrock' 'unknown' 'urban' 'uzbek'\n",
      " 'variété' 'vi' 'videogame' 'vocal' 'western' 'world' 'worldbeat' 'ïîï'\n",
      " 'электроника']\n"
     ]
    }
   ],
   "source": [
    "print(df['genre'].sort_values().unique())"
   ]
  },
  {
   "cell_type": "markdown",
   "metadata": {
    "deletable": false,
    "editable": false,
    "id": "jz6a9-7HQUDd"
   },
   "source": [
    "**Выводы**\n",
    "\n",
    "Предобработка обнаружила три проблемы в данных:\n",
    "\n",
    "- нарушения в стиле заголовков,\n",
    "- пропущенные значения,\n",
    "- дубликаты — явные и неявные.\n",
    "\n",
    "Вы исправили заголовки, чтобы упростить работу с таблицей. Без дубликатов исследование станет более точным.\n",
    "\n",
    "Пропущенные значения вы заменили на `'unknown'`. Ещё предстоит увидеть, не повредят ли исследованию пропуски в колонке `genre`.\n",
    "\n",
    "Теперь можно перейти к проверке гипотез. "
   ]
  },
  {
   "cell_type": "markdown",
   "metadata": {
    "deletable": false,
    "editable": false,
    "id": "WttZHXH0SqKk"
   },
   "source": [
    "## Проверка гипотез"
   ]
  },
  {
   "cell_type": "markdown",
   "metadata": {
    "deletable": false,
    "editable": false,
    "id": "Im936VVi_Zcu"
   },
   "source": [
    "### Сравнение поведения пользователей двух столиц"
   ]
  },
  {
   "cell_type": "markdown",
   "metadata": {
    "deletable": false,
    "editable": false,
    "id": "nwt_MuaL_Zcu"
   },
   "source": [
    "Первая гипотеза утверждает, что пользователи по-разному слушают музыку в Москве и Санкт-Петербурге. Проверьте это предположение по данным о трёх днях недели — понедельнике, среде и пятнице. Для этого:\n",
    "\n",
    "* Разделите пользователей Москвы и Санкт-Петербурга.\n",
    "* Сравните, сколько треков послушала каждая группа пользователей в понедельник, среду и пятницу.\n"
   ]
  },
  {
   "cell_type": "markdown",
   "metadata": {
    "deletable": false,
    "editable": false,
    "id": "8Dw_YMmT_Zcu",
    "tags": [
     "start_task"
    ]
   },
   "source": [
    "**Задание 18**\n",
    "\n",
    "Для тренировки сначала выполните каждый из расчётов по отдельности. \n",
    "\n",
    "Оцените активность пользователей в каждом городе. Сгруппируйте данные по городу и посчитайте прослушивания в каждой группе.\n",
    "\n"
   ]
  },
  {
   "cell_type": "code",
   "execution_count": 18,
   "metadata": {
    "deletable": false,
    "id": "0_Qs96oh_Zcu"
   },
   "outputs": [
    {
     "data": {
      "text/plain": [
       "city\n",
       "Moscow              42741\n",
       "Saint-Petersburg    18512\n",
       "Name: genre, dtype: int64"
      ]
     },
     "execution_count": 18,
     "metadata": {},
     "output_type": "execute_result"
    }
   ],
   "source": [
    "df.groupby(\"city\")[\"genre\"].count()"
   ]
  },
  {
   "cell_type": "markdown",
   "metadata": {
    "deletable": false,
    "editable": false,
    "id": "dzli3w8o_Zcu",
    "tags": [
     "start_task"
    ]
   },
   "source": [
    "В Москве прослушиваний больше, чем в Петербурге. Из этого не следует, что московские пользователи чаще слушают музыку. Просто самих пользователей в Москве больше.\n",
    "\n",
    "**Задание 19**\n",
    "\n",
    "Теперь сгруппируйте данные по дню недели и посчитайте прослушивания в понедельник, среду и пятницу. Учтите, что в данных есть информация о прослушиваниях только за эти дни.\n"
   ]
  },
  {
   "cell_type": "code",
   "execution_count": 19,
   "metadata": {
    "deletable": false,
    "id": "uZMKjiJz_Zcu"
   },
   "outputs": [
    {
     "data": {
      "text/plain": [
       "day\n",
       "Friday       21840\n",
       "Monday       21354\n",
       "Wednesday    18059\n",
       "Name: day, dtype: int64"
      ]
     },
     "execution_count": 19,
     "metadata": {},
     "output_type": "execute_result"
    }
   ],
   "source": [
    "df.groupby('day')['day'].count()"
   ]
  },
  {
   "cell_type": "markdown",
   "metadata": {
    "deletable": false,
    "editable": false,
    "id": "cC2tNrlL_Zcu"
   },
   "source": [
    "В среднем пользователи из двух городов менее активны по средам. Но картина может измениться, если рассмотреть каждый город в отдельности."
   ]
  },
  {
   "cell_type": "markdown",
   "metadata": {
    "deletable": false,
    "editable": false,
    "id": "POzs8bGa_Zcu",
    "tags": [
     "start_task"
    ]
   },
   "source": [
    "**Задание 20**\n",
    "\n",
    "\n",
    "Вы видели, как работает группировка по городу и по дням недели. Теперь напишите функцию, которая объединит два эти расчёта.\n",
    "\n",
    "Создайте функцию `number_tracks()`, которая посчитает прослушивания для заданного дня и города. Ей понадобятся два параметра:\n",
    "* день недели,\n",
    "* название города.\n",
    "\n",
    "В функции сохраните в переменную строки исходной таблицы, у которых значение:\n",
    "  * в колонке `day` равно параметру `day`,\n",
    "  * в колонке `city` равно параметру `city`.\n",
    "\n",
    "Для этого примените последовательную фильтрацию с логической индексацией (или сложные логические выражения в одну строку, если вы уже знакомы с ними).\n",
    "\n",
    "Затем посчитайте значения в столбце `user_id` получившейся таблицы. Результат сохраните в новую переменную. Верните эту переменную из функции."
   ]
  },
  {
   "cell_type": "code",
   "execution_count": 20,
   "metadata": {
    "deletable": false,
    "id": "Nz3GdQB1_Zcu"
   },
   "outputs": [],
   "source": [
    "# <создание функции number_tracks()>\n",
    "def number_tracks(day, city):# Объявляется функция с двумя параметрами: day, city.\n",
    "    track_list = df[(df[\"day\"] == day) & (df[\"city\"] == city)]\n",
    "    track_list_count = track_list[\"user_id\"].count()\n",
    "    return track_list_count\n",
    "# Объявляется функция с двумя параметрами: day, city.\n",
    "# В переменной track_list сохраняются те строки таблицы df, для которых \n",
    "# значение в столбце 'day' равно параметру day и одновременно значение\n",
    "# в столбце 'city' равно параметру city (используйте последовательную фильтрацию\n",
    "# с помощью логической индексации или сложные логические выражения в одну строку, если вы уже знакомы с ними).\n",
    "# В переменной track_list_count сохраняется число значений столбца 'user_id',\n",
    "# рассчитанное методом count() для таблицы track_list.\n",
    "# Функция возвращает число - значение track_list_count.\n",
    "\n",
    "\n",
    "# Функция для подсчёта прослушиваний для конкретного города и дня.\n",
    "# С помощью последовательной фильтрации с логической индексацией она \n",
    "# сначала получит из исходной таблицы строки с нужным днём,\n",
    "# затем из результата отфильтрует строки с нужным городом,\n",
    "# методом count() посчитает количество значений в колонке user_id. \n",
    "# Это количество функция вернёт в качестве результата"
   ]
  },
  {
   "cell_type": "markdown",
   "metadata": {
    "deletable": false,
    "editable": false,
    "id": "ytf7xFrFJQ2r",
    "tags": [
     "start_task"
    ]
   },
   "source": [
    "**Задание 21**\n",
    "\n",
    "Вызовите `number_tracks()` шесть раз, меняя значение параметров — так, чтобы получить данные для каждого города в каждый из трёх дней."
   ]
  },
  {
   "cell_type": "code",
   "execution_count": 21,
   "metadata": {
    "deletable": false,
    "id": "rJcRATNQ_Zcu"
   },
   "outputs": [
    {
     "data": {
      "text/plain": [
       "15740"
      ]
     },
     "execution_count": 21,
     "metadata": {},
     "output_type": "execute_result"
    }
   ],
   "source": [
    "number_tracks(\"Monday\", \"Moscow\")"
   ]
  },
  {
   "cell_type": "code",
   "execution_count": 22,
   "metadata": {
    "deletable": false,
    "id": "hq_ncZ5T_Zcu"
   },
   "outputs": [
    {
     "data": {
      "text/plain": [
       "5614"
      ]
     },
     "execution_count": 22,
     "metadata": {},
     "output_type": "execute_result"
    }
   ],
   "source": [
    "number_tracks(\"Monday\", \"Saint-Petersburg\")"
   ]
  },
  {
   "cell_type": "code",
   "execution_count": 23,
   "metadata": {
    "deletable": false,
    "id": "_NTy2VPU_Zcu"
   },
   "outputs": [
    {
     "data": {
      "text/plain": [
       "11056"
      ]
     },
     "execution_count": 23,
     "metadata": {},
     "output_type": "execute_result"
    }
   ],
   "source": [
    "number_tracks(\"Wednesday\", \"Moscow\")"
   ]
  },
  {
   "cell_type": "code",
   "execution_count": 24,
   "metadata": {
    "deletable": false,
    "id": "j2y3TAwo_Zcu"
   },
   "outputs": [
    {
     "data": {
      "text/plain": [
       "7003"
      ]
     },
     "execution_count": 24,
     "metadata": {},
     "output_type": "execute_result"
    }
   ],
   "source": [
    "number_tracks(\"Wednesday\", \"Saint-Petersburg\")"
   ]
  },
  {
   "cell_type": "code",
   "execution_count": 25,
   "metadata": {
    "deletable": false,
    "id": "vYDw5u_K_Zcu"
   },
   "outputs": [
    {
     "data": {
      "text/plain": [
       "15945"
      ]
     },
     "execution_count": 25,
     "metadata": {},
     "output_type": "execute_result"
    }
   ],
   "source": [
    "number_tracks(\"Friday\", \"Moscow\")"
   ]
  },
  {
   "cell_type": "code",
   "execution_count": 26,
   "metadata": {
    "deletable": false,
    "id": "8_yzFtW3_Zcu"
   },
   "outputs": [
    {
     "data": {
      "text/plain": [
       "5895"
      ]
     },
     "execution_count": 26,
     "metadata": {},
     "output_type": "execute_result"
    }
   ],
   "source": [
    "number_tracks(\"Friday\", \"Saint-Petersburg\")"
   ]
  },
  {
   "cell_type": "markdown",
   "metadata": {
    "deletable": false,
    "editable": false,
    "id": "7QXffbO-_Zcu",
    "tags": [
     "start_task"
    ]
   },
   "source": [
    "**Задание 22**\n",
    "\n",
    "Создайте c помощью конструктора `pd.DataFrame` таблицу, где\n",
    "* названия колонок — `['city', 'monday', 'wednesday', 'friday']`;\n",
    "* данные — результаты, которые вы получили с помощью `number_tracks`."
   ]
  },
  {
   "cell_type": "code",
   "execution_count": 27,
   "metadata": {
    "deletable": false,
    "id": "APAcLpOr_Zcu"
   },
   "outputs": [],
   "source": [
    "info = pd.DataFrame(data=[[\"Moscow\",'monday', 'wednesday', 'friday'], ['Saint-Petersburg', 'monday', 'wednesday', 'friday']], columns=[['city', 'monday', 'wednesday', 'friday']])\n"
   ]
  },
  {
   "cell_type": "markdown",
   "metadata": {
    "deletable": false,
    "editable": false,
    "id": "-EgPIHYu_Zcu"
   },
   "source": [
    "**Выводы**\n",
    "\n",
    "Данные показывают разницу поведения пользователей:\n",
    "\n",
    "- В Москве пик прослушиваний приходится на понедельник и пятницу, а в среду заметен спад.\n",
    "- В Петербурге, наоборот, больше слушают музыку по средам. Активность в понедельник и пятницу здесь почти в равной мере уступает среде.\n",
    "\n",
    "Значит, данные говорят в пользу первой гипотезы."
   ]
  },
  {
   "cell_type": "markdown",
   "metadata": {
    "deletable": false,
    "editable": false,
    "id": "atZAxtq4_Zcu"
   },
   "source": [
    "### Музыка в начале и в конце недели"
   ]
  },
  {
   "cell_type": "markdown",
   "metadata": {
    "deletable": false,
    "editable": false,
    "id": "eXrQqXFH_Zcu"
   },
   "source": [
    "Согласно второй гипотезе, утром в понедельник в Москве преобладают одни жанры, а в Петербурге — другие. Так же и вечером пятницы преобладают разные жанры — в зависимости от города."
   ]
  },
  {
   "cell_type": "markdown",
   "metadata": {
    "deletable": false,
    "editable": false,
    "id": "S8UcW6Hw_Zcu",
    "tags": [
     "start_task"
    ]
   },
   "source": [
    "**Задание 23**\n",
    "\n",
    "Сохраните таблицы с данными в две переменные:\n",
    "* по Москве — в `moscow_general`;\n",
    "* по Санкт-Петербургу — в `spb_general`."
   ]
  },
  {
   "cell_type": "code",
   "execution_count": 28,
   "metadata": {
    "deletable": false,
    "id": "qeaFfM_P_Zcu"
   },
   "outputs": [],
   "source": [
    "moscow_general = df[df['city'] == 'Moscow']"
   ]
  },
  {
   "cell_type": "code",
   "execution_count": 29,
   "metadata": {
    "deletable": false,
    "id": "ORaVRKto_Zcu"
   },
   "outputs": [],
   "source": [
    "spb_general = df[df['city'] == 'Saint-Petersburg']"
   ]
  },
  {
   "cell_type": "markdown",
   "metadata": {
    "deletable": false,
    "id": "MEJV-CX2_Zcu",
    "tags": [
     "start_task"
    ]
   },
   "source": [
    "**Задание 24**\n",
    "\n",
    "Создайте функцию `genre_weekday()` с четырьмя параметрами:\n",
    "* таблица (датафрейм) с данными,\n",
    "* день недели,\n",
    "* начальная временная метка в формате 'hh:mm', \n",
    "* последняя временная метка в формате 'hh:mm'.\n",
    "\n",
    "Функция должна вернуть информацию о топ-10 жанров тех треков, которые прослушивали в указанный день, в промежутке между двумя отметками времени."
   ]
  },
  {
   "cell_type": "code",
   "execution_count": 30,
   "metadata": {
    "deletable": false,
    "id": "laJT9BYl_Zcu"
   },
   "outputs": [],
   "source": [
    "def genre_weekday(df, day, time1, time2):\n",
    "    \n",
    "# которая возвращает информацию о самых популярных жанрах в указанный день в\n",
    "# заданное время:\n",
    "# 1) в переменную genre_df сохраняются те строки переданного датафрейма table, для\n",
    "#    которых одновременно:\n",
    "#    - значение в столбце day равно значению аргумента day\n",
    "#    - значение в столбце time больше значения аргумента time1\n",
    "#    - значение в столбце time меньше значения аргумента time2\n",
    "#    Используйте последовательную фильтрацию с помощью логической индексации.\n",
    "   \n",
    "    genre_df = df[df['day'] == day]\n",
    "    genre_df = genre_df[genre_df['time'] < time2] \n",
    "    genre_df = genre_df[genre_df['time'] > time1] \n",
    "    \n",
    "    genre_df_grouped = genre_df.groupby('genre')['genre'].count()\n",
    "    \n",
    "# 2) сгруппировать датафрейм genre_df по столбцу genre, взять один из его\n",
    "#    столбцов и посчитать методом count() количество записей для каждого из\n",
    "#    присутствующих жанров, получившийся Series записать в переменную\n",
    "#    genre_df_count\n",
    "\n",
    "    genre_df_sorted = genre_df_grouped.sort_values(ascending = False)\n",
    "# 3) отсортировать genre_df_count по убыванию встречаемости и сохранить\n",
    "#    в переменную genre_df_sorted\n",
    "# 4) вернуть Series из 10 первых значений genre_df_sorted, это будут топ-10\n",
    "#    популярных жанров (в указанный день, в заданное время)\n",
    "\n",
    "    return genre_df_sorted[:10]"
   ]
  },
  {
   "cell_type": "markdown",
   "metadata": {
    "deletable": false,
    "editable": false,
    "id": "la2s2_PF_Zcu",
    "tags": [
     "start_task"
    ]
   },
   "source": [
    "**Задание 25**\n",
    "\n",
    "\n",
    "Cравните результаты функции `genre_weekday()` для Москвы и Санкт-Петербурга в понедельник утром (с 7:00 до 11:00) и в пятницу вечером (с 17:00 до 23:00):"
   ]
  },
  {
   "cell_type": "code",
   "execution_count": 31,
   "metadata": {
    "deletable": false,
    "id": "yz7itPUQ_Zcu"
   },
   "outputs": [
    {
     "data": {
      "text/plain": [
       "genre\n",
       "pop            781\n",
       "dance          549\n",
       "electronic     480\n",
       "rock           474\n",
       "hiphop         286\n",
       "ruspop         186\n",
       "world          181\n",
       "rusrap         175\n",
       "alternative    164\n",
       "unknown        161\n",
       "Name: genre, dtype: int64"
      ]
     },
     "execution_count": 31,
     "metadata": {},
     "output_type": "execute_result"
    }
   ],
   "source": [
    "# вызов функции для утра понедельника в Москве (вместо df — таблица moscow_general)\n",
    "# объекты, хранящие время, являются строками и сравниваются как строки\n",
    "# пример вызова: genre_weekday(moscow_general, 'Monday', '07:00', '11:00')\n",
    "genre_weekday(moscow_general, 'Monday', '07:00', '11:00')"
   ]
  },
  {
   "cell_type": "code",
   "execution_count": 32,
   "metadata": {
    "deletable": false,
    "id": "kwUcHPdy_Zcu"
   },
   "outputs": [
    {
     "data": {
      "text/plain": [
       "genre\n",
       "pop            218\n",
       "dance          182\n",
       "rock           162\n",
       "electronic     147\n",
       "hiphop          80\n",
       "ruspop          64\n",
       "alternative     58\n",
       "rusrap          55\n",
       "jazz            44\n",
       "classical       40\n",
       "Name: genre, dtype: int64"
      ]
     },
     "execution_count": 32,
     "metadata": {},
     "output_type": "execute_result"
    }
   ],
   "source": [
    "genre_weekday(spb_general, 'Monday', '07:00', '11:00')"
   ]
  },
  {
   "cell_type": "code",
   "execution_count": 33,
   "metadata": {
    "deletable": false,
    "id": "EzXVRE1o_Zcu"
   },
   "outputs": [
    {
     "data": {
      "text/plain": [
       "genre\n",
       "pop            713\n",
       "rock           517\n",
       "dance          495\n",
       "electronic     482\n",
       "hiphop         273\n",
       "world          208\n",
       "ruspop         170\n",
       "alternative    163\n",
       "classical      163\n",
       "rusrap         142\n",
       "Name: genre, dtype: int64"
      ]
     },
     "execution_count": 33,
     "metadata": {},
     "output_type": "execute_result"
    }
   ],
   "source": [
    "genre_weekday(moscow_general, 'Friday', '17:00', '23:00')"
   ]
  },
  {
   "cell_type": "code",
   "execution_count": 34,
   "metadata": {
    "deletable": false,
    "id": "JZaEKu5v_Zcu"
   },
   "outputs": [
    {
     "data": {
      "text/plain": [
       "genre\n",
       "pop            256\n",
       "electronic     216\n",
       "rock           216\n",
       "dance          210\n",
       "hiphop          97\n",
       "alternative     63\n",
       "jazz            61\n",
       "classical       60\n",
       "rusrap          59\n",
       "world           54\n",
       "Name: genre, dtype: int64"
      ]
     },
     "execution_count": 34,
     "metadata": {},
     "output_type": "execute_result"
    }
   ],
   "source": [
    "genre_weekday(spb_general, 'Friday', '17:00', '23:00')"
   ]
  },
  {
   "cell_type": "markdown",
   "metadata": {
    "deletable": false,
    "editable": false,
    "id": "wrCe4MNX_Zcu"
   },
   "source": [
    "**Выводы**\n",
    "\n",
    "Если сравнить топ-10 жанров в понедельник утром, можно сделать такие выводы:\n",
    "\n",
    "1. В Москве и Петербурге слушают похожую музыку. Единственное отличие — в московский рейтинг вошёл жанр “world”, а в петербургский — джаз и классика.\n",
    "\n",
    "2. В Москве пропущенных значений оказалось так много, что значение `'unknown'` заняло десятое место среди самых популярных жанров. Значит, пропущенные значения занимают существенную долю в данных и угрожают достоверности исследования.\n",
    "\n",
    "Вечер пятницы не меняет эту картину. Некоторые жанры поднимаются немного выше, другие спускаются, но в целом топ-10 остаётся тем же самым.\n",
    "\n",
    "Таким образом, вторая гипотеза подтвердилась лишь частично:\n",
    "* Пользователи слушают похожую музыку в начале недели и в конце.\n",
    "* Разница между Москвой и Петербургом не слишком выражена. В Москве чаще слушают русскую популярную музыку, в Петербурге — джаз.\n",
    "\n",
    "Однако пропуски в данных ставят под сомнение этот результат. В Москве их так много, что рейтинг топ-10 мог бы выглядеть иначе, если бы не утерянные  данные о жанрах."
   ]
  },
  {
   "cell_type": "markdown",
   "metadata": {
    "deletable": false,
    "editable": false,
    "id": "JolODAqr_Zcu"
   },
   "source": [
    "### Жанровые предпочтения в Москве и Петербурге\n",
    "\n",
    "Гипотеза: Петербург — столица рэпа, музыку этого жанра там слушают чаще, чем в Москве.  А Москва — город контрастов, в котором, тем не менее, преобладает поп-музыка."
   ]
  },
  {
   "cell_type": "markdown",
   "metadata": {
    "deletable": false,
    "editable": false,
    "id": "DlegSvaT_Zcu",
    "tags": [
     "start_task"
    ]
   },
   "source": [
    "**Задание 26**\n",
    "\n",
    "Сгруппируйте таблицу `moscow_general` по жанру и посчитайте прослушивания треков каждого жанра методом `count()`. Затем отсортируйте результат в порядке убывания и сохраните его в таблице `moscow_genres`."
   ]
  },
  {
   "cell_type": "code",
   "execution_count": 35,
   "metadata": {
    "deletable": false,
    "id": "r19lIPke_Zcu"
   },
   "outputs": [],
   "source": [
    "moscow_genres = moscow_general.groupby['genre'].count().sort_values(ascending = False)"
   ]
  },
  {
   "cell_type": "markdown",
   "metadata": {
    "deletable": false,
    "editable": false,
    "id": "6kMuomxTiIr8",
    "tags": [
     "start_task"
    ]
   },
   "source": [
    "**Задание 27**\n",
    "\n",
    "Выведите на экран первые десять строк `moscow_genres`:"
   ]
  },
  {
   "cell_type": "code",
   "execution_count": 36,
   "metadata": {
    "deletable": false,
    "id": "WhCSooF8_Zcv"
   },
   "outputs": [],
   "source": [
    "# просмотр первых 10 строк moscow_genres"
   ]
  },
  {
   "cell_type": "markdown",
   "metadata": {
    "deletable": false,
    "editable": false,
    "id": "cnPG2vnN_Zcv",
    "tags": [
     "start_task"
    ]
   },
   "source": [
    "**Задание 28**\n",
    "\n",
    "\n",
    "Теперь повторите то же и для Петербурга.\n",
    "\n",
    "Сгруппируйте таблицу `spb_general` по жанру. Посчитайте прослушивания треков каждого жанра. Результат отсортируйте в порядке убывания и сохраните в таблице `spb_genres`:\n"
   ]
  },
  {
   "cell_type": "code",
   "execution_count": 37,
   "metadata": {
    "deletable": false,
    "id": "gluLIpE7_Zcv"
   },
   "outputs": [],
   "source": [
    "# одной строкой: группировка таблицы spb_general по столбцу 'genre', \n",
    "# подсчёт числа значений 'genre' в этой группировке методом count(), \n",
    "# сортировка получившегося Series в порядке убывания и сохранение в spb_genres"
   ]
  },
  {
   "cell_type": "markdown",
   "metadata": {
    "deletable": false,
    "editable": false,
    "id": "5Doha_ODgyQ8",
    "tags": [
     "start_task"
    ]
   },
   "source": [
    "**Задание 29**\n",
    "\n",
    "Выведите на экран первые десять строк `spb_genres`:"
   ]
  },
  {
   "cell_type": "code",
   "execution_count": 38,
   "metadata": {
    "deletable": false,
    "id": "uaGJHjVU_Zcv"
   },
   "outputs": [],
   "source": [
    "# просмотр первых 10 строк spb_genres"
   ]
  },
  {
   "cell_type": "markdown",
   "metadata": {
    "deletable": false,
    "editable": false,
    "id": "RY51YJYu_Zcv"
   },
   "source": [
    "**Выводы**"
   ]
  },
  {
   "cell_type": "markdown",
   "metadata": {
    "deletable": false,
    "editable": false,
    "id": "nVhnJEm__Zcv"
   },
   "source": [
    "Гипотеза частично подтвердилась:\n",
    "* Поп-музыка — самый популярный жанр в Москве, как и предполагала гипотеза. Более того, в топ-10 жанров встречается близкий жанр — русская популярная музыка.\n",
    "* Вопреки ожиданиям, рэп одинаково популярен в Москве и Петербурге. \n"
   ]
  },
  {
   "cell_type": "markdown",
   "metadata": {
    "deletable": false,
    "editable": false,
    "id": "ykKQ0N65_Zcv"
   },
   "source": [
    "## Итоги исследования"
   ]
  },
  {
   "cell_type": "markdown",
   "metadata": {
    "deletable": false,
    "editable": false,
    "id": "tjUwbHb3_Zcv"
   },
   "source": [
    "Вы проверили три гипотезы и установили:\n",
    "\n",
    "1. День недели по-разному влияет на активность пользователей в Москве и Петербурге. \n",
    "\n",
    "Первая гипотеза полностью подтвердилась.\n",
    "\n",
    "2. Музыкальные предпочтения не сильно меняются в течение недели — будь то Москва или Петербург. Небольшие различия заметны в начале недели, по понедельникам:\n",
    "* в Москве слушают музыку жанра “world”,\n",
    "* в Петербурге — джаз и классику.\n",
    "\n",
    "Таким образом, вторая гипотеза подтвердилась лишь отчасти. Этот результат мог оказаться иным, если бы не пропуски в данных.\n",
    "\n",
    "3. Во вкусах пользователей Москвы и Петербурга больше общего чем различий. Вопреки ожиданиям, предпочтения жанров в Петербурге напоминают московские.\n",
    "\n",
    "Третья гипотеза не подтвердилась. Если различия в предпочтениях и существуют, на основной массе пользователей они незаметны.\n",
    "\n",
    "**На практике исследования содержат проверки статистических гипотез.**\n",
    "Из данных одного сервиса не всегда можно сделать вывод о всех жителях города.\n",
    "Проверки статистических гипотез покажут, насколько они достоверны, исходя из имеющихся данных. \n",
    "С методами проверок гипотез вы ещё познакомитесь в следующих темах."
   ]
  }
 ],
 "metadata": {
  "ExecuteTimeLog": [
   {
    "duration": 49,
    "start_time": "2022-06-19T15:43:51.188Z"
   },
   {
    "duration": 8,
    "start_time": "2022-06-19T15:44:02.500Z"
   },
   {
    "duration": 458,
    "start_time": "2022-06-19T15:44:05.105Z"
   },
   {
    "duration": 239,
    "start_time": "2022-06-19T15:44:09.712Z"
   },
   {
    "duration": 9,
    "start_time": "2022-06-19T15:44:15.416Z"
   },
   {
    "duration": 31,
    "start_time": "2022-06-19T15:44:18.455Z"
   },
   {
    "duration": 4,
    "start_time": "2022-06-19T15:44:21.204Z"
   },
   {
    "duration": 16,
    "start_time": "2022-06-19T15:44:26.113Z"
   },
   {
    "duration": 41,
    "start_time": "2022-06-19T15:45:25.449Z"
   },
   {
    "duration": 9,
    "start_time": "2022-06-19T15:46:55.288Z"
   },
   {
    "duration": 8,
    "start_time": "2022-06-19T15:46:58.633Z"
   },
   {
    "duration": 4,
    "start_time": "2022-06-19T15:47:09.307Z"
   },
   {
    "duration": 409,
    "start_time": "2022-06-19T15:47:23.864Z"
   },
   {
    "duration": 220,
    "start_time": "2022-06-19T15:47:24.275Z"
   },
   {
    "duration": 9,
    "start_time": "2022-06-19T15:47:24.497Z"
   },
   {
    "duration": 55,
    "start_time": "2022-06-19T15:47:24.508Z"
   },
   {
    "duration": 3,
    "start_time": "2022-06-19T15:47:24.566Z"
   },
   {
    "duration": 105,
    "start_time": "2022-06-19T15:47:24.571Z"
   },
   {
    "duration": 0,
    "start_time": "2022-06-19T15:47:24.679Z"
   },
   {
    "duration": 0,
    "start_time": "2022-06-19T15:47:24.681Z"
   },
   {
    "duration": 0,
    "start_time": "2022-06-19T15:47:24.683Z"
   },
   {
    "duration": 0,
    "start_time": "2022-06-19T15:47:24.684Z"
   },
   {
    "duration": 0,
    "start_time": "2022-06-19T15:47:24.685Z"
   },
   {
    "duration": 0,
    "start_time": "2022-06-19T15:47:24.687Z"
   },
   {
    "duration": 0,
    "start_time": "2022-06-19T15:47:24.687Z"
   },
   {
    "duration": 0,
    "start_time": "2022-06-19T15:47:24.689Z"
   },
   {
    "duration": 0,
    "start_time": "2022-06-19T15:47:24.690Z"
   },
   {
    "duration": 0,
    "start_time": "2022-06-19T15:47:24.690Z"
   },
   {
    "duration": 0,
    "start_time": "2022-06-19T15:47:24.692Z"
   },
   {
    "duration": 0,
    "start_time": "2022-06-19T15:47:24.693Z"
   },
   {
    "duration": 0,
    "start_time": "2022-06-19T15:47:24.693Z"
   },
   {
    "duration": 0,
    "start_time": "2022-06-19T15:47:24.694Z"
   },
   {
    "duration": 0,
    "start_time": "2022-06-19T15:47:24.695Z"
   },
   {
    "duration": 0,
    "start_time": "2022-06-19T15:47:24.696Z"
   },
   {
    "duration": 0,
    "start_time": "2022-06-19T15:47:24.697Z"
   },
   {
    "duration": 0,
    "start_time": "2022-06-19T15:47:24.700Z"
   },
   {
    "duration": 0,
    "start_time": "2022-06-19T15:47:24.701Z"
   },
   {
    "duration": 0,
    "start_time": "2022-06-19T15:47:24.702Z"
   },
   {
    "duration": 0,
    "start_time": "2022-06-19T15:47:24.703Z"
   },
   {
    "duration": 0,
    "start_time": "2022-06-19T15:47:24.704Z"
   },
   {
    "duration": 0,
    "start_time": "2022-06-19T15:47:24.760Z"
   },
   {
    "duration": 0,
    "start_time": "2022-06-19T15:47:24.762Z"
   },
   {
    "duration": 0,
    "start_time": "2022-06-19T15:47:24.763Z"
   },
   {
    "duration": 0,
    "start_time": "2022-06-19T15:47:24.764Z"
   },
   {
    "duration": 0,
    "start_time": "2022-06-19T15:47:24.766Z"
   },
   {
    "duration": 0,
    "start_time": "2022-06-19T15:47:24.767Z"
   },
   {
    "duration": 0,
    "start_time": "2022-06-19T15:47:24.768Z"
   },
   {
    "duration": 0,
    "start_time": "2022-06-19T15:47:24.770Z"
   },
   {
    "duration": 0,
    "start_time": "2022-06-19T15:47:24.775Z"
   },
   {
    "duration": 0,
    "start_time": "2022-06-19T15:47:24.776Z"
   },
   {
    "duration": 7,
    "start_time": "2022-06-19T15:47:37.799Z"
   },
   {
    "duration": 7,
    "start_time": "2022-06-19T15:49:30.135Z"
   },
   {
    "duration": 408,
    "start_time": "2022-06-19T15:49:39.059Z"
   },
   {
    "duration": 167,
    "start_time": "2022-06-19T15:49:39.469Z"
   },
   {
    "duration": 8,
    "start_time": "2022-06-19T15:49:39.638Z"
   },
   {
    "duration": 29,
    "start_time": "2022-06-19T15:49:39.658Z"
   },
   {
    "duration": 2,
    "start_time": "2022-06-19T15:49:39.689Z"
   },
   {
    "duration": 81,
    "start_time": "2022-06-19T15:49:39.693Z"
   },
   {
    "duration": 0,
    "start_time": "2022-06-19T15:49:39.776Z"
   },
   {
    "duration": 0,
    "start_time": "2022-06-19T15:49:39.778Z"
   },
   {
    "duration": 0,
    "start_time": "2022-06-19T15:49:39.779Z"
   },
   {
    "duration": 0,
    "start_time": "2022-06-19T15:49:39.780Z"
   },
   {
    "duration": 0,
    "start_time": "2022-06-19T15:49:39.780Z"
   },
   {
    "duration": 0,
    "start_time": "2022-06-19T15:49:39.781Z"
   },
   {
    "duration": 0,
    "start_time": "2022-06-19T15:49:39.782Z"
   },
   {
    "duration": 0,
    "start_time": "2022-06-19T15:49:39.783Z"
   },
   {
    "duration": 0,
    "start_time": "2022-06-19T15:49:39.785Z"
   },
   {
    "duration": 0,
    "start_time": "2022-06-19T15:49:39.786Z"
   },
   {
    "duration": 0,
    "start_time": "2022-06-19T15:49:39.787Z"
   },
   {
    "duration": 0,
    "start_time": "2022-06-19T15:49:39.789Z"
   },
   {
    "duration": 0,
    "start_time": "2022-06-19T15:49:39.790Z"
   },
   {
    "duration": 0,
    "start_time": "2022-06-19T15:49:39.791Z"
   },
   {
    "duration": 0,
    "start_time": "2022-06-19T15:49:39.792Z"
   },
   {
    "duration": 0,
    "start_time": "2022-06-19T15:49:39.793Z"
   },
   {
    "duration": 0,
    "start_time": "2022-06-19T15:49:39.794Z"
   },
   {
    "duration": 0,
    "start_time": "2022-06-19T15:49:39.795Z"
   },
   {
    "duration": 0,
    "start_time": "2022-06-19T15:49:39.796Z"
   },
   {
    "duration": 0,
    "start_time": "2022-06-19T15:49:39.797Z"
   },
   {
    "duration": 0,
    "start_time": "2022-06-19T15:49:39.799Z"
   },
   {
    "duration": 0,
    "start_time": "2022-06-19T15:49:39.800Z"
   },
   {
    "duration": 0,
    "start_time": "2022-06-19T15:49:39.801Z"
   },
   {
    "duration": 0,
    "start_time": "2022-06-19T15:49:39.802Z"
   },
   {
    "duration": 0,
    "start_time": "2022-06-19T15:49:39.802Z"
   },
   {
    "duration": 0,
    "start_time": "2022-06-19T15:49:39.803Z"
   },
   {
    "duration": 0,
    "start_time": "2022-06-19T15:49:39.804Z"
   },
   {
    "duration": 0,
    "start_time": "2022-06-19T15:49:39.805Z"
   },
   {
    "duration": 0,
    "start_time": "2022-06-19T15:49:39.806Z"
   },
   {
    "duration": 0,
    "start_time": "2022-06-19T15:49:39.807Z"
   },
   {
    "duration": 0,
    "start_time": "2022-06-19T15:49:39.859Z"
   },
   {
    "duration": 0,
    "start_time": "2022-06-19T15:49:39.861Z"
   },
   {
    "duration": 8,
    "start_time": "2022-06-19T15:49:57.384Z"
   },
   {
    "duration": 61,
    "start_time": "2022-06-19T16:12:21.756Z"
   },
   {
    "duration": 453,
    "start_time": "2022-06-19T16:13:18.854Z"
   },
   {
    "duration": 228,
    "start_time": "2022-06-19T16:13:19.309Z"
   },
   {
    "duration": 8,
    "start_time": "2022-06-19T16:13:19.539Z"
   },
   {
    "duration": 42,
    "start_time": "2022-06-19T16:13:19.549Z"
   },
   {
    "duration": 3,
    "start_time": "2022-06-19T16:13:19.592Z"
   },
   {
    "duration": 6,
    "start_time": "2022-06-19T16:13:19.597Z"
   },
   {
    "duration": 32,
    "start_time": "2022-06-19T16:13:19.604Z"
   },
   {
    "duration": 32,
    "start_time": "2022-06-19T16:13:19.638Z"
   },
   {
    "duration": 50,
    "start_time": "2022-06-19T16:13:19.671Z"
   },
   {
    "duration": 49,
    "start_time": "2022-06-19T16:13:19.724Z"
   },
   {
    "duration": 43,
    "start_time": "2022-06-19T16:13:19.774Z"
   },
   {
    "duration": 91,
    "start_time": "2022-06-19T16:13:19.819Z"
   },
   {
    "duration": 121,
    "start_time": "2022-06-19T16:13:19.912Z"
   },
   {
    "duration": 68,
    "start_time": "2022-06-19T16:13:20.035Z"
   },
   {
    "duration": 57,
    "start_time": "2022-06-19T16:13:20.105Z"
   },
   {
    "duration": 2,
    "start_time": "2022-06-19T16:13:20.164Z"
   },
   {
    "duration": 23,
    "start_time": "2022-06-19T16:13:20.168Z"
   },
   {
    "duration": 28,
    "start_time": "2022-06-19T16:13:20.193Z"
   },
   {
    "duration": 21,
    "start_time": "2022-06-19T16:13:20.223Z"
   },
   {
    "duration": 33,
    "start_time": "2022-06-19T16:13:20.246Z"
   },
   {
    "duration": 41,
    "start_time": "2022-06-19T16:13:20.281Z"
   },
   {
    "duration": 40,
    "start_time": "2022-06-19T16:13:20.324Z"
   },
   {
    "duration": 41,
    "start_time": "2022-06-19T16:13:20.366Z"
   },
   {
    "duration": 27,
    "start_time": "2022-06-19T16:13:20.409Z"
   },
   {
    "duration": 44,
    "start_time": "2022-06-19T16:13:20.438Z"
   },
   {
    "duration": 39,
    "start_time": "2022-06-19T16:13:20.484Z"
   },
   {
    "duration": 26,
    "start_time": "2022-06-19T16:13:20.524Z"
   },
   {
    "duration": 43,
    "start_time": "2022-06-19T16:13:20.553Z"
   },
   {
    "duration": 31,
    "start_time": "2022-06-19T16:13:20.598Z"
   },
   {
    "duration": 39,
    "start_time": "2022-06-19T16:13:20.631Z"
   },
   {
    "duration": 0,
    "start_time": "2022-06-19T16:13:20.672Z"
   },
   {
    "duration": 0,
    "start_time": "2022-06-19T16:13:20.674Z"
   },
   {
    "duration": 0,
    "start_time": "2022-06-19T16:13:20.675Z"
   },
   {
    "duration": 0,
    "start_time": "2022-06-19T16:13:20.677Z"
   },
   {
    "duration": 0,
    "start_time": "2022-06-19T16:13:20.678Z"
   },
   {
    "duration": 0,
    "start_time": "2022-06-19T16:13:20.680Z"
   },
   {
    "duration": 0,
    "start_time": "2022-06-19T16:13:20.681Z"
   },
   {
    "duration": 0,
    "start_time": "2022-06-19T16:13:20.683Z"
   },
   {
    "duration": 44,
    "start_time": "2022-06-19T16:14:01.196Z"
   },
   {
    "duration": 42,
    "start_time": "2022-06-19T16:16:06.952Z"
   },
   {
    "duration": 60,
    "start_time": "2022-06-19T16:19:59.360Z"
   },
   {
    "duration": 401,
    "start_time": "2022-06-19T16:20:06.369Z"
   },
   {
    "duration": 182,
    "start_time": "2022-06-19T16:20:06.772Z"
   },
   {
    "duration": 9,
    "start_time": "2022-06-19T16:20:06.956Z"
   },
   {
    "duration": 31,
    "start_time": "2022-06-19T16:20:06.967Z"
   },
   {
    "duration": 2,
    "start_time": "2022-06-19T16:20:07.001Z"
   },
   {
    "duration": 11,
    "start_time": "2022-06-19T16:20:07.005Z"
   },
   {
    "duration": 56,
    "start_time": "2022-06-19T16:20:07.018Z"
   },
   {
    "duration": 9,
    "start_time": "2022-06-19T16:20:07.076Z"
   },
   {
    "duration": 52,
    "start_time": "2022-06-19T16:20:07.087Z"
   },
   {
    "duration": 48,
    "start_time": "2022-06-19T16:20:07.140Z"
   },
   {
    "duration": 29,
    "start_time": "2022-06-19T16:20:07.190Z"
   },
   {
    "duration": 127,
    "start_time": "2022-06-19T16:20:07.221Z"
   },
   {
    "duration": 101,
    "start_time": "2022-06-19T16:20:07.358Z"
   },
   {
    "duration": 81,
    "start_time": "2022-06-19T16:20:07.462Z"
   },
   {
    "duration": 90,
    "start_time": "2022-06-19T16:20:07.545Z"
   },
   {
    "duration": 0,
    "start_time": "2022-06-19T16:20:07.638Z"
   },
   {
    "duration": 0,
    "start_time": "2022-06-19T16:20:07.639Z"
   },
   {
    "duration": 0,
    "start_time": "2022-06-19T16:20:07.641Z"
   },
   {
    "duration": 0,
    "start_time": "2022-06-19T16:20:07.643Z"
   },
   {
    "duration": 0,
    "start_time": "2022-06-19T16:20:07.644Z"
   },
   {
    "duration": 0,
    "start_time": "2022-06-19T16:20:07.659Z"
   },
   {
    "duration": 0,
    "start_time": "2022-06-19T16:20:07.661Z"
   },
   {
    "duration": 0,
    "start_time": "2022-06-19T16:20:07.663Z"
   },
   {
    "duration": 0,
    "start_time": "2022-06-19T16:20:07.664Z"
   },
   {
    "duration": 0,
    "start_time": "2022-06-19T16:20:07.666Z"
   },
   {
    "duration": 0,
    "start_time": "2022-06-19T16:20:07.668Z"
   },
   {
    "duration": 0,
    "start_time": "2022-06-19T16:20:07.669Z"
   },
   {
    "duration": 0,
    "start_time": "2022-06-19T16:20:07.670Z"
   },
   {
    "duration": 0,
    "start_time": "2022-06-19T16:20:07.672Z"
   },
   {
    "duration": 0,
    "start_time": "2022-06-19T16:20:07.674Z"
   },
   {
    "duration": 0,
    "start_time": "2022-06-19T16:20:07.676Z"
   },
   {
    "duration": 0,
    "start_time": "2022-06-19T16:20:07.677Z"
   },
   {
    "duration": 0,
    "start_time": "2022-06-19T16:20:07.678Z"
   },
   {
    "duration": 0,
    "start_time": "2022-06-19T16:20:07.680Z"
   },
   {
    "duration": 0,
    "start_time": "2022-06-19T16:20:07.682Z"
   },
   {
    "duration": 0,
    "start_time": "2022-06-19T16:20:07.684Z"
   },
   {
    "duration": 0,
    "start_time": "2022-06-19T16:20:07.685Z"
   },
   {
    "duration": 0,
    "start_time": "2022-06-19T16:20:07.687Z"
   },
   {
    "duration": 4,
    "start_time": "2022-06-19T16:20:36.765Z"
   },
   {
    "duration": 4,
    "start_time": "2022-06-19T16:20:50.878Z"
   },
   {
    "duration": 9,
    "start_time": "2022-06-19T16:21:10.897Z"
   },
   {
    "duration": 8,
    "start_time": "2022-06-19T16:21:26.188Z"
   },
   {
    "duration": 8,
    "start_time": "2022-06-19T16:25:20.498Z"
   },
   {
    "duration": 9,
    "start_time": "2022-06-19T16:25:36.464Z"
   },
   {
    "duration": 8,
    "start_time": "2022-06-19T16:25:51.745Z"
   },
   {
    "duration": 12,
    "start_time": "2022-06-19T16:28:28.527Z"
   },
   {
    "duration": 379,
    "start_time": "2022-06-19T16:28:40.382Z"
   },
   {
    "duration": 184,
    "start_time": "2022-06-19T16:28:40.764Z"
   },
   {
    "duration": 10,
    "start_time": "2022-06-19T16:28:40.950Z"
   },
   {
    "duration": 33,
    "start_time": "2022-06-19T16:28:40.962Z"
   },
   {
    "duration": 3,
    "start_time": "2022-06-19T16:28:40.997Z"
   },
   {
    "duration": 7,
    "start_time": "2022-06-19T16:28:41.001Z"
   },
   {
    "duration": 15,
    "start_time": "2022-06-19T16:28:41.009Z"
   },
   {
    "duration": 32,
    "start_time": "2022-06-19T16:28:41.026Z"
   },
   {
    "duration": 33,
    "start_time": "2022-06-19T16:28:41.061Z"
   },
   {
    "duration": 32,
    "start_time": "2022-06-19T16:28:41.096Z"
   },
   {
    "duration": 50,
    "start_time": "2022-06-19T16:28:41.129Z"
   },
   {
    "duration": 78,
    "start_time": "2022-06-19T16:28:41.181Z"
   },
   {
    "duration": 87,
    "start_time": "2022-06-19T16:28:41.261Z"
   },
   {
    "duration": 55,
    "start_time": "2022-06-19T16:28:41.360Z"
   },
   {
    "duration": 7,
    "start_time": "2022-06-19T16:28:41.416Z"
   },
   {
    "duration": 3,
    "start_time": "2022-06-19T16:28:41.425Z"
   },
   {
    "duration": 5,
    "start_time": "2022-06-19T16:28:41.430Z"
   },
   {
    "duration": 2,
    "start_time": "2022-06-19T16:28:41.459Z"
   },
   {
    "duration": 4,
    "start_time": "2022-06-19T16:28:41.464Z"
   },
   {
    "duration": 6,
    "start_time": "2022-06-19T16:28:41.470Z"
   },
   {
    "duration": 7,
    "start_time": "2022-06-19T16:28:41.477Z"
   },
   {
    "duration": 7,
    "start_time": "2022-06-19T16:28:41.485Z"
   },
   {
    "duration": 5,
    "start_time": "2022-06-19T16:28:41.493Z"
   },
   {
    "duration": 5,
    "start_time": "2022-06-19T16:28:41.500Z"
   },
   {
    "duration": 7,
    "start_time": "2022-06-19T16:28:41.506Z"
   },
   {
    "duration": 5,
    "start_time": "2022-06-19T16:28:41.514Z"
   },
   {
    "duration": 5,
    "start_time": "2022-06-19T16:28:41.520Z"
   },
   {
    "duration": 38,
    "start_time": "2022-06-19T16:28:41.526Z"
   },
   {
    "duration": 6,
    "start_time": "2022-06-19T16:28:41.566Z"
   },
   {
    "duration": 8,
    "start_time": "2022-06-19T16:28:41.573Z"
   },
   {
    "duration": 0,
    "start_time": "2022-06-19T16:28:41.582Z"
   },
   {
    "duration": 0,
    "start_time": "2022-06-19T16:28:41.583Z"
   },
   {
    "duration": 0,
    "start_time": "2022-06-19T16:28:41.584Z"
   },
   {
    "duration": 0,
    "start_time": "2022-06-19T16:28:41.586Z"
   },
   {
    "duration": 0,
    "start_time": "2022-06-19T16:28:41.587Z"
   },
   {
    "duration": 0,
    "start_time": "2022-06-19T16:28:41.588Z"
   },
   {
    "duration": 0,
    "start_time": "2022-06-19T16:28:41.590Z"
   },
   {
    "duration": 0,
    "start_time": "2022-06-19T16:28:41.591Z"
   },
   {
    "duration": 49,
    "start_time": "2022-06-19T16:32:05.157Z"
   },
   {
    "duration": 99,
    "start_time": "2022-06-19T16:32:53.281Z"
   },
   {
    "duration": 84,
    "start_time": "2022-06-19T16:33:00.176Z"
   },
   {
    "duration": 7,
    "start_time": "2022-06-19T16:33:03.763Z"
   },
   {
    "duration": 7,
    "start_time": "2022-06-19T16:33:11.207Z"
   },
   {
    "duration": 7,
    "start_time": "2022-06-19T16:33:52.847Z"
   },
   {
    "duration": 450,
    "start_time": "2022-06-19T16:34:01.868Z"
   },
   {
    "duration": 177,
    "start_time": "2022-06-19T16:34:02.321Z"
   },
   {
    "duration": 8,
    "start_time": "2022-06-19T16:34:02.500Z"
   },
   {
    "duration": 53,
    "start_time": "2022-06-19T16:34:02.509Z"
   },
   {
    "duration": 11,
    "start_time": "2022-06-19T16:34:02.566Z"
   },
   {
    "duration": 19,
    "start_time": "2022-06-19T16:34:02.579Z"
   },
   {
    "duration": 30,
    "start_time": "2022-06-19T16:34:02.600Z"
   },
   {
    "duration": 23,
    "start_time": "2022-06-19T16:34:02.632Z"
   },
   {
    "duration": 49,
    "start_time": "2022-06-19T16:34:02.657Z"
   },
   {
    "duration": 66,
    "start_time": "2022-06-19T16:34:02.709Z"
   },
   {
    "duration": 33,
    "start_time": "2022-06-19T16:34:02.777Z"
   },
   {
    "duration": 86,
    "start_time": "2022-06-19T16:34:02.812Z"
   },
   {
    "duration": 107,
    "start_time": "2022-06-19T16:34:02.900Z"
   },
   {
    "duration": 87,
    "start_time": "2022-06-19T16:34:03.011Z"
   },
   {
    "duration": 72,
    "start_time": "2022-06-19T16:34:03.100Z"
   },
   {
    "duration": 4,
    "start_time": "2022-06-19T16:34:03.173Z"
   },
   {
    "duration": 12,
    "start_time": "2022-06-19T16:34:03.178Z"
   },
   {
    "duration": 15,
    "start_time": "2022-06-19T16:34:03.192Z"
   },
   {
    "duration": 12,
    "start_time": "2022-06-19T16:34:03.210Z"
   },
   {
    "duration": 12,
    "start_time": "2022-06-19T16:34:03.224Z"
   },
   {
    "duration": 9,
    "start_time": "2022-06-19T16:34:03.238Z"
   },
   {
    "duration": 15,
    "start_time": "2022-06-19T16:34:03.249Z"
   },
   {
    "duration": 21,
    "start_time": "2022-06-19T16:34:03.266Z"
   },
   {
    "duration": 11,
    "start_time": "2022-06-19T16:34:03.289Z"
   },
   {
    "duration": 12,
    "start_time": "2022-06-19T16:34:03.302Z"
   },
   {
    "duration": 6,
    "start_time": "2022-06-19T16:34:03.316Z"
   },
   {
    "duration": 6,
    "start_time": "2022-06-19T16:34:03.324Z"
   },
   {
    "duration": 8,
    "start_time": "2022-06-19T16:34:03.332Z"
   },
   {
    "duration": 15,
    "start_time": "2022-06-19T16:34:03.342Z"
   },
   {
    "duration": 10,
    "start_time": "2022-06-19T16:34:03.359Z"
   },
   {
    "duration": 0,
    "start_time": "2022-06-19T16:34:03.371Z"
   },
   {
    "duration": 0,
    "start_time": "2022-06-19T16:34:03.374Z"
   },
   {
    "duration": 0,
    "start_time": "2022-06-19T16:34:03.375Z"
   },
   {
    "duration": 0,
    "start_time": "2022-06-19T16:34:03.377Z"
   },
   {
    "duration": 0,
    "start_time": "2022-06-19T16:34:03.378Z"
   },
   {
    "duration": 0,
    "start_time": "2022-06-19T16:34:03.379Z"
   },
   {
    "duration": 0,
    "start_time": "2022-06-19T16:34:03.380Z"
   },
   {
    "duration": 0,
    "start_time": "2022-06-19T16:34:03.382Z"
   },
   {
    "duration": 60,
    "start_time": "2022-06-19T16:34:16.438Z"
   },
   {
    "duration": 7,
    "start_time": "2022-06-19T16:34:33.504Z"
   },
   {
    "duration": 9,
    "start_time": "2022-06-19T16:36:16.401Z"
   },
   {
    "duration": 373,
    "start_time": "2022-06-19T16:36:24.719Z"
   },
   {
    "duration": 176,
    "start_time": "2022-06-19T16:36:25.094Z"
   },
   {
    "duration": 11,
    "start_time": "2022-06-19T16:36:25.272Z"
   },
   {
    "duration": 30,
    "start_time": "2022-06-19T16:36:25.285Z"
   },
   {
    "duration": 19,
    "start_time": "2022-06-19T16:36:25.318Z"
   },
   {
    "duration": 21,
    "start_time": "2022-06-19T16:36:25.339Z"
   },
   {
    "duration": 31,
    "start_time": "2022-06-19T16:36:25.362Z"
   },
   {
    "duration": 19,
    "start_time": "2022-06-19T16:36:25.395Z"
   },
   {
    "duration": 49,
    "start_time": "2022-06-19T16:36:25.415Z"
   },
   {
    "duration": 32,
    "start_time": "2022-06-19T16:36:25.466Z"
   },
   {
    "duration": 60,
    "start_time": "2022-06-19T16:36:25.500Z"
   },
   {
    "duration": 73,
    "start_time": "2022-06-19T16:36:25.562Z"
   },
   {
    "duration": 91,
    "start_time": "2022-06-19T16:36:25.637Z"
   },
   {
    "duration": 66,
    "start_time": "2022-06-19T16:36:25.731Z"
   },
   {
    "duration": 60,
    "start_time": "2022-06-19T16:36:25.799Z"
   },
   {
    "duration": 3,
    "start_time": "2022-06-19T16:36:25.861Z"
   },
   {
    "duration": 9,
    "start_time": "2022-06-19T16:36:25.867Z"
   },
   {
    "duration": 7,
    "start_time": "2022-06-19T16:36:25.877Z"
   },
   {
    "duration": 8,
    "start_time": "2022-06-19T16:36:25.886Z"
   },
   {
    "duration": 6,
    "start_time": "2022-06-19T16:36:25.896Z"
   },
   {
    "duration": 12,
    "start_time": "2022-06-19T16:36:25.903Z"
   },
   {
    "duration": 7,
    "start_time": "2022-06-19T16:36:25.917Z"
   },
   {
    "duration": 8,
    "start_time": "2022-06-19T16:36:25.926Z"
   },
   {
    "duration": 10,
    "start_time": "2022-06-19T16:36:25.936Z"
   },
   {
    "duration": 17,
    "start_time": "2022-06-19T16:36:25.948Z"
   },
   {
    "duration": 7,
    "start_time": "2022-06-19T16:36:25.967Z"
   },
   {
    "duration": 22,
    "start_time": "2022-06-19T16:36:25.976Z"
   },
   {
    "duration": 12,
    "start_time": "2022-06-19T16:36:26.000Z"
   },
   {
    "duration": 10,
    "start_time": "2022-06-19T16:36:26.014Z"
   },
   {
    "duration": 9,
    "start_time": "2022-06-19T16:36:26.026Z"
   },
   {
    "duration": 0,
    "start_time": "2022-06-19T16:36:26.037Z"
   },
   {
    "duration": 0,
    "start_time": "2022-06-19T16:36:26.039Z"
   },
   {
    "duration": 0,
    "start_time": "2022-06-19T16:36:26.040Z"
   },
   {
    "duration": 0,
    "start_time": "2022-06-19T16:36:26.041Z"
   },
   {
    "duration": 0,
    "start_time": "2022-06-19T16:36:26.043Z"
   },
   {
    "duration": 0,
    "start_time": "2022-06-19T16:36:26.044Z"
   },
   {
    "duration": 0,
    "start_time": "2022-06-19T16:36:26.045Z"
   },
   {
    "duration": 0,
    "start_time": "2022-06-19T16:36:26.046Z"
   },
   {
    "duration": 117,
    "start_time": "2022-06-19T16:37:16.552Z"
   },
   {
    "duration": 59,
    "start_time": "2022-06-19T16:37:26.905Z"
   },
   {
    "duration": 433,
    "start_time": "2022-06-19T16:37:46.343Z"
   },
   {
    "duration": 164,
    "start_time": "2022-06-19T16:37:46.778Z"
   },
   {
    "duration": 17,
    "start_time": "2022-06-19T16:37:46.943Z"
   },
   {
    "duration": 68,
    "start_time": "2022-06-19T16:37:46.962Z"
   },
   {
    "duration": 6,
    "start_time": "2022-06-19T16:37:47.033Z"
   },
   {
    "duration": 34,
    "start_time": "2022-06-19T16:37:47.040Z"
   },
   {
    "duration": 27,
    "start_time": "2022-06-19T16:37:47.076Z"
   },
   {
    "duration": 37,
    "start_time": "2022-06-19T16:37:47.105Z"
   },
   {
    "duration": 67,
    "start_time": "2022-06-19T16:37:47.144Z"
   },
   {
    "duration": 32,
    "start_time": "2022-06-19T16:37:47.213Z"
   },
   {
    "duration": 32,
    "start_time": "2022-06-19T16:37:47.247Z"
   },
   {
    "duration": 78,
    "start_time": "2022-06-19T16:37:47.281Z"
   },
   {
    "duration": 116,
    "start_time": "2022-06-19T16:37:47.360Z"
   },
   {
    "duration": 86,
    "start_time": "2022-06-19T16:37:47.480Z"
   },
   {
    "duration": 64,
    "start_time": "2022-06-19T16:37:47.569Z"
   },
   {
    "duration": 3,
    "start_time": "2022-06-19T16:37:47.635Z"
   },
   {
    "duration": 24,
    "start_time": "2022-06-19T16:37:47.641Z"
   },
   {
    "duration": 20,
    "start_time": "2022-06-19T16:37:47.666Z"
   },
   {
    "duration": 12,
    "start_time": "2022-06-19T16:37:47.688Z"
   },
   {
    "duration": 25,
    "start_time": "2022-06-19T16:37:47.703Z"
   },
   {
    "duration": 21,
    "start_time": "2022-06-19T16:37:47.730Z"
   },
   {
    "duration": 13,
    "start_time": "2022-06-19T16:37:47.752Z"
   },
   {
    "duration": 10,
    "start_time": "2022-06-19T16:37:47.767Z"
   },
   {
    "duration": 5,
    "start_time": "2022-06-19T16:37:47.779Z"
   },
   {
    "duration": 27,
    "start_time": "2022-06-19T16:37:47.786Z"
   },
   {
    "duration": 18,
    "start_time": "2022-06-19T16:37:47.814Z"
   },
   {
    "duration": 34,
    "start_time": "2022-06-19T16:37:47.834Z"
   },
   {
    "duration": 21,
    "start_time": "2022-06-19T16:37:47.869Z"
   },
   {
    "duration": 11,
    "start_time": "2022-06-19T16:37:47.892Z"
   },
   {
    "duration": 23,
    "start_time": "2022-06-19T16:37:47.905Z"
   },
   {
    "duration": 0,
    "start_time": "2022-06-19T16:37:47.930Z"
   },
   {
    "duration": 0,
    "start_time": "2022-06-19T16:37:47.932Z"
   },
   {
    "duration": 0,
    "start_time": "2022-06-19T16:37:47.933Z"
   },
   {
    "duration": 0,
    "start_time": "2022-06-19T16:37:47.934Z"
   },
   {
    "duration": 0,
    "start_time": "2022-06-19T16:37:47.935Z"
   },
   {
    "duration": 0,
    "start_time": "2022-06-19T16:37:47.935Z"
   },
   {
    "duration": 0,
    "start_time": "2022-06-19T16:37:47.937Z"
   },
   {
    "duration": 0,
    "start_time": "2022-06-19T16:37:47.938Z"
   },
   {
    "duration": 57,
    "start_time": "2022-06-19T16:38:37.928Z"
   },
   {
    "duration": 48,
    "start_time": "2022-06-19T16:38:49.407Z"
   },
   {
    "duration": 387,
    "start_time": "2022-06-19T16:39:02.903Z"
   },
   {
    "duration": 170,
    "start_time": "2022-06-19T16:39:03.293Z"
   },
   {
    "duration": 8,
    "start_time": "2022-06-19T16:39:03.465Z"
   },
   {
    "duration": 35,
    "start_time": "2022-06-19T16:39:03.475Z"
   },
   {
    "duration": 5,
    "start_time": "2022-06-19T16:39:03.511Z"
   },
   {
    "duration": 23,
    "start_time": "2022-06-19T16:39:03.518Z"
   },
   {
    "duration": 24,
    "start_time": "2022-06-19T16:39:03.543Z"
   },
   {
    "duration": 11,
    "start_time": "2022-06-19T16:39:03.569Z"
   },
   {
    "duration": 32,
    "start_time": "2022-06-19T16:39:03.582Z"
   },
   {
    "duration": 49,
    "start_time": "2022-06-19T16:39:03.618Z"
   },
   {
    "duration": 28,
    "start_time": "2022-06-19T16:39:03.668Z"
   },
   {
    "duration": 78,
    "start_time": "2022-06-19T16:39:03.698Z"
   },
   {
    "duration": 101,
    "start_time": "2022-06-19T16:39:03.778Z"
   },
   {
    "duration": 58,
    "start_time": "2022-06-19T16:39:03.880Z"
   },
   {
    "duration": 65,
    "start_time": "2022-06-19T16:39:03.940Z"
   },
   {
    "duration": 3,
    "start_time": "2022-06-19T16:39:04.007Z"
   },
   {
    "duration": 5,
    "start_time": "2022-06-19T16:39:04.011Z"
   },
   {
    "duration": 5,
    "start_time": "2022-06-19T16:39:04.018Z"
   },
   {
    "duration": 11,
    "start_time": "2022-06-19T16:39:04.024Z"
   },
   {
    "duration": 7,
    "start_time": "2022-06-19T16:39:04.036Z"
   },
   {
    "duration": 22,
    "start_time": "2022-06-19T16:39:04.045Z"
   },
   {
    "duration": 7,
    "start_time": "2022-06-19T16:39:04.070Z"
   },
   {
    "duration": 12,
    "start_time": "2022-06-19T16:39:04.079Z"
   },
   {
    "duration": 6,
    "start_time": "2022-06-19T16:39:04.092Z"
   },
   {
    "duration": 9,
    "start_time": "2022-06-19T16:39:04.100Z"
   },
   {
    "duration": 5,
    "start_time": "2022-06-19T16:39:04.111Z"
   },
   {
    "duration": 5,
    "start_time": "2022-06-19T16:39:04.118Z"
   },
   {
    "duration": 5,
    "start_time": "2022-06-19T16:39:04.126Z"
   },
   {
    "duration": 6,
    "start_time": "2022-06-19T16:39:04.132Z"
   },
   {
    "duration": 10,
    "start_time": "2022-06-19T16:39:04.139Z"
   },
   {
    "duration": 0,
    "start_time": "2022-06-19T16:39:04.151Z"
   },
   {
    "duration": 0,
    "start_time": "2022-06-19T16:39:04.152Z"
   },
   {
    "duration": 0,
    "start_time": "2022-06-19T16:39:04.153Z"
   },
   {
    "duration": 0,
    "start_time": "2022-06-19T16:39:04.154Z"
   },
   {
    "duration": 0,
    "start_time": "2022-06-19T16:39:04.155Z"
   },
   {
    "duration": 0,
    "start_time": "2022-06-19T16:39:04.155Z"
   },
   {
    "duration": 0,
    "start_time": "2022-06-19T16:39:04.158Z"
   },
   {
    "duration": 0,
    "start_time": "2022-06-19T16:39:04.159Z"
   },
   {
    "duration": 40,
    "start_time": "2022-06-19T16:40:12.393Z"
   },
   {
    "duration": 441,
    "start_time": "2022-06-19T16:40:19.054Z"
   },
   {
    "duration": 208,
    "start_time": "2022-06-19T16:40:19.498Z"
   },
   {
    "duration": 8,
    "start_time": "2022-06-19T16:40:19.708Z"
   },
   {
    "duration": 48,
    "start_time": "2022-06-19T16:40:19.718Z"
   },
   {
    "duration": 2,
    "start_time": "2022-06-19T16:40:19.769Z"
   },
   {
    "duration": 7,
    "start_time": "2022-06-19T16:40:19.773Z"
   },
   {
    "duration": 22,
    "start_time": "2022-06-19T16:40:19.782Z"
   },
   {
    "duration": 10,
    "start_time": "2022-06-19T16:40:19.807Z"
   },
   {
    "duration": 60,
    "start_time": "2022-06-19T16:40:19.820Z"
   },
   {
    "duration": 50,
    "start_time": "2022-06-19T16:40:19.882Z"
   },
   {
    "duration": 57,
    "start_time": "2022-06-19T16:40:19.935Z"
   },
   {
    "duration": 79,
    "start_time": "2022-06-19T16:40:19.994Z"
   },
   {
    "duration": 103,
    "start_time": "2022-06-19T16:40:20.075Z"
   },
   {
    "duration": 60,
    "start_time": "2022-06-19T16:40:20.181Z"
   },
   {
    "duration": 63,
    "start_time": "2022-06-19T16:40:20.243Z"
   },
   {
    "duration": 2,
    "start_time": "2022-06-19T16:40:20.308Z"
   },
   {
    "duration": 26,
    "start_time": "2022-06-19T16:40:20.312Z"
   },
   {
    "duration": 14,
    "start_time": "2022-06-19T16:40:20.340Z"
   },
   {
    "duration": 33,
    "start_time": "2022-06-19T16:40:20.356Z"
   },
   {
    "duration": 20,
    "start_time": "2022-06-19T16:40:20.391Z"
   },
   {
    "duration": 29,
    "start_time": "2022-06-19T16:40:20.412Z"
   },
   {
    "duration": 28,
    "start_time": "2022-06-19T16:40:20.443Z"
   },
   {
    "duration": 21,
    "start_time": "2022-06-19T16:40:20.473Z"
   },
   {
    "duration": 20,
    "start_time": "2022-06-19T16:40:20.496Z"
   },
   {
    "duration": 19,
    "start_time": "2022-06-19T16:40:20.518Z"
   },
   {
    "duration": 37,
    "start_time": "2022-06-19T16:40:20.539Z"
   },
   {
    "duration": 37,
    "start_time": "2022-06-19T16:40:20.578Z"
   },
   {
    "duration": 11,
    "start_time": "2022-06-19T16:40:20.617Z"
   },
   {
    "duration": 30,
    "start_time": "2022-06-19T16:40:20.630Z"
   },
   {
    "duration": 26,
    "start_time": "2022-06-19T16:40:20.662Z"
   },
   {
    "duration": 0,
    "start_time": "2022-06-19T16:40:20.690Z"
   },
   {
    "duration": 0,
    "start_time": "2022-06-19T16:40:20.691Z"
   },
   {
    "duration": 0,
    "start_time": "2022-06-19T16:40:20.693Z"
   },
   {
    "duration": 0,
    "start_time": "2022-06-19T16:40:20.694Z"
   },
   {
    "duration": 0,
    "start_time": "2022-06-19T16:40:20.696Z"
   },
   {
    "duration": 0,
    "start_time": "2022-06-19T16:40:20.697Z"
   },
   {
    "duration": 0,
    "start_time": "2022-06-19T16:40:20.698Z"
   },
   {
    "duration": 0,
    "start_time": "2022-06-19T16:40:20.700Z"
   },
   {
    "duration": 46,
    "start_time": "2022-06-19T16:40:29.990Z"
   },
   {
    "duration": 48,
    "start_time": "2022-06-19T16:40:31.976Z"
   },
   {
    "duration": 42,
    "start_time": "2022-06-19T16:40:40.504Z"
   },
   {
    "duration": 66,
    "start_time": "2022-06-19T16:40:49.107Z"
   },
   {
    "duration": 408,
    "start_time": "2022-06-19T16:41:04.688Z"
   },
   {
    "duration": 176,
    "start_time": "2022-06-19T16:41:05.099Z"
   },
   {
    "duration": 11,
    "start_time": "2022-06-19T16:41:05.277Z"
   },
   {
    "duration": 33,
    "start_time": "2022-06-19T16:41:05.290Z"
   },
   {
    "duration": 3,
    "start_time": "2022-06-19T16:41:05.325Z"
   },
   {
    "duration": 27,
    "start_time": "2022-06-19T16:41:05.332Z"
   },
   {
    "duration": 14,
    "start_time": "2022-06-19T16:41:05.361Z"
   },
   {
    "duration": 8,
    "start_time": "2022-06-19T16:41:05.377Z"
   },
   {
    "duration": 49,
    "start_time": "2022-06-19T16:41:05.387Z"
   },
   {
    "duration": 69,
    "start_time": "2022-06-19T16:41:05.439Z"
   },
   {
    "duration": 49,
    "start_time": "2022-06-19T16:41:05.511Z"
   },
   {
    "duration": 68,
    "start_time": "2022-06-19T16:41:05.561Z"
   },
   {
    "duration": 122,
    "start_time": "2022-06-19T16:41:05.631Z"
   },
   {
    "duration": 59,
    "start_time": "2022-06-19T16:41:05.758Z"
   },
   {
    "duration": 66,
    "start_time": "2022-06-19T16:41:05.819Z"
   },
   {
    "duration": 3,
    "start_time": "2022-06-19T16:41:05.887Z"
   },
   {
    "duration": 6,
    "start_time": "2022-06-19T16:41:05.892Z"
   },
   {
    "duration": 7,
    "start_time": "2022-06-19T16:41:05.900Z"
   },
   {
    "duration": 17,
    "start_time": "2022-06-19T16:41:05.909Z"
   },
   {
    "duration": 11,
    "start_time": "2022-06-19T16:41:05.928Z"
   },
   {
    "duration": 12,
    "start_time": "2022-06-19T16:41:05.941Z"
   },
   {
    "duration": 10,
    "start_time": "2022-06-19T16:41:05.954Z"
   },
   {
    "duration": 7,
    "start_time": "2022-06-19T16:41:05.966Z"
   },
   {
    "duration": 8,
    "start_time": "2022-06-19T16:41:05.975Z"
   },
   {
    "duration": 11,
    "start_time": "2022-06-19T16:41:05.985Z"
   },
   {
    "duration": 10,
    "start_time": "2022-06-19T16:41:05.998Z"
   },
   {
    "duration": 15,
    "start_time": "2022-06-19T16:41:06.010Z"
   },
   {
    "duration": 7,
    "start_time": "2022-06-19T16:41:06.029Z"
   },
   {
    "duration": 7,
    "start_time": "2022-06-19T16:41:06.038Z"
   },
   {
    "duration": 12,
    "start_time": "2022-06-19T16:41:06.047Z"
   },
   {
    "duration": 0,
    "start_time": "2022-06-19T16:41:06.061Z"
   },
   {
    "duration": 0,
    "start_time": "2022-06-19T16:41:06.063Z"
   },
   {
    "duration": 0,
    "start_time": "2022-06-19T16:41:06.064Z"
   },
   {
    "duration": 0,
    "start_time": "2022-06-19T16:41:06.069Z"
   },
   {
    "duration": 0,
    "start_time": "2022-06-19T16:41:06.073Z"
   },
   {
    "duration": 0,
    "start_time": "2022-06-19T16:41:06.073Z"
   },
   {
    "duration": 0,
    "start_time": "2022-06-19T16:41:06.075Z"
   },
   {
    "duration": 0,
    "start_time": "2022-06-19T16:41:06.076Z"
   },
   {
    "duration": 58,
    "start_time": "2022-06-19T16:46:58.801Z"
   },
   {
    "duration": 492,
    "start_time": "2022-06-19T16:47:17.923Z"
   },
   {
    "duration": 176,
    "start_time": "2022-06-19T16:47:18.417Z"
   },
   {
    "duration": 10,
    "start_time": "2022-06-19T16:47:18.595Z"
   },
   {
    "duration": 64,
    "start_time": "2022-06-19T16:47:18.608Z"
   },
   {
    "duration": 3,
    "start_time": "2022-06-19T16:47:18.675Z"
   },
   {
    "duration": 10,
    "start_time": "2022-06-19T16:47:18.680Z"
   },
   {
    "duration": 23,
    "start_time": "2022-06-19T16:47:18.694Z"
   },
   {
    "duration": 9,
    "start_time": "2022-06-19T16:47:18.719Z"
   },
   {
    "duration": 58,
    "start_time": "2022-06-19T16:47:18.758Z"
   },
   {
    "duration": 57,
    "start_time": "2022-06-19T16:47:18.821Z"
   },
   {
    "duration": 30,
    "start_time": "2022-06-19T16:47:18.880Z"
   },
   {
    "duration": 125,
    "start_time": "2022-06-19T16:47:18.913Z"
   },
   {
    "duration": 151,
    "start_time": "2022-06-19T16:47:19.040Z"
   },
   {
    "duration": 54,
    "start_time": "2022-06-19T16:47:19.194Z"
   },
   {
    "duration": 54,
    "start_time": "2022-06-19T16:47:19.258Z"
   },
   {
    "duration": 13,
    "start_time": "2022-06-19T16:47:19.314Z"
   },
   {
    "duration": 61,
    "start_time": "2022-06-19T16:47:19.331Z"
   },
   {
    "duration": 72,
    "start_time": "2022-06-19T16:47:19.394Z"
   },
   {
    "duration": 3,
    "start_time": "2022-06-19T16:47:19.468Z"
   },
   {
    "duration": 6,
    "start_time": "2022-06-19T16:47:19.473Z"
   },
   {
    "duration": 7,
    "start_time": "2022-06-19T16:47:19.480Z"
   },
   {
    "duration": 5,
    "start_time": "2022-06-19T16:47:19.489Z"
   },
   {
    "duration": 6,
    "start_time": "2022-06-19T16:47:19.496Z"
   },
   {
    "duration": 5,
    "start_time": "2022-06-19T16:47:19.504Z"
   },
   {
    "duration": 8,
    "start_time": "2022-06-19T16:47:19.511Z"
   },
   {
    "duration": 5,
    "start_time": "2022-06-19T16:47:19.521Z"
   },
   {
    "duration": 31,
    "start_time": "2022-06-19T16:47:19.528Z"
   },
   {
    "duration": 3,
    "start_time": "2022-06-19T16:47:19.563Z"
   },
   {
    "duration": 8,
    "start_time": "2022-06-19T16:47:19.567Z"
   },
   {
    "duration": 7,
    "start_time": "2022-06-19T16:47:19.577Z"
   },
   {
    "duration": 0,
    "start_time": "2022-06-19T16:47:19.587Z"
   },
   {
    "duration": 0,
    "start_time": "2022-06-19T16:47:19.588Z"
   },
   {
    "duration": 0,
    "start_time": "2022-06-19T16:47:19.590Z"
   },
   {
    "duration": 0,
    "start_time": "2022-06-19T16:47:19.591Z"
   },
   {
    "duration": 0,
    "start_time": "2022-06-19T16:47:19.592Z"
   },
   {
    "duration": 0,
    "start_time": "2022-06-19T16:47:19.594Z"
   },
   {
    "duration": 0,
    "start_time": "2022-06-19T16:47:19.595Z"
   },
   {
    "duration": 0,
    "start_time": "2022-06-19T16:47:19.597Z"
   },
   {
    "duration": 58,
    "start_time": "2022-06-19T16:47:30.589Z"
   },
   {
    "duration": 96,
    "start_time": "2022-06-19T16:48:34.767Z"
   },
   {
    "duration": 12,
    "start_time": "2022-06-19T16:48:44.222Z"
   },
   {
    "duration": 65,
    "start_time": "2022-06-19T20:11:06.144Z"
   },
   {
    "duration": 3,
    "start_time": "2022-06-19T20:11:24.202Z"
   },
   {
    "duration": 5,
    "start_time": "2022-06-19T20:12:47.687Z"
   },
   {
    "duration": 23,
    "start_time": "2022-06-19T20:18:39.782Z"
   },
   {
    "duration": 4,
    "start_time": "2022-06-19T20:18:55.817Z"
   },
   {
    "duration": 417,
    "start_time": "2022-06-19T20:19:03.034Z"
   },
   {
    "duration": 272,
    "start_time": "2022-06-19T20:19:03.454Z"
   },
   {
    "duration": 9,
    "start_time": "2022-06-19T20:19:03.728Z"
   },
   {
    "duration": 37,
    "start_time": "2022-06-19T20:19:03.740Z"
   },
   {
    "duration": 27,
    "start_time": "2022-06-19T20:19:03.778Z"
   },
   {
    "duration": 8,
    "start_time": "2022-06-19T20:19:03.807Z"
   },
   {
    "duration": 19,
    "start_time": "2022-06-19T20:19:03.817Z"
   },
   {
    "duration": 6,
    "start_time": "2022-06-19T20:19:03.838Z"
   },
   {
    "duration": 47,
    "start_time": "2022-06-19T20:19:03.846Z"
   },
   {
    "duration": 41,
    "start_time": "2022-06-19T20:19:03.896Z"
   },
   {
    "duration": 57,
    "start_time": "2022-06-19T20:19:03.939Z"
   },
   {
    "duration": 71,
    "start_time": "2022-06-19T20:19:03.997Z"
   },
   {
    "duration": 95,
    "start_time": "2022-06-19T20:19:04.070Z"
   },
   {
    "duration": 60,
    "start_time": "2022-06-19T20:19:04.166Z"
   },
   {
    "duration": 63,
    "start_time": "2022-06-19T20:19:04.227Z"
   },
   {
    "duration": 11,
    "start_time": "2022-06-19T20:19:04.292Z"
   },
   {
    "duration": 79,
    "start_time": "2022-06-19T20:19:04.305Z"
   },
   {
    "duration": 13,
    "start_time": "2022-06-19T20:19:04.388Z"
   },
   {
    "duration": 40,
    "start_time": "2022-06-19T20:19:04.402Z"
   },
   {
    "duration": 46,
    "start_time": "2022-06-19T20:19:04.443Z"
   },
   {
    "duration": 77,
    "start_time": "2022-06-19T20:19:04.491Z"
   },
   {
    "duration": 46,
    "start_time": "2022-06-19T20:19:04.574Z"
   },
   {
    "duration": 33,
    "start_time": "2022-06-19T20:19:04.622Z"
   },
   {
    "duration": 29,
    "start_time": "2022-06-19T20:19:04.656Z"
   },
   {
    "duration": 23,
    "start_time": "2022-06-19T20:19:04.693Z"
   },
   {
    "duration": 17,
    "start_time": "2022-06-19T20:19:04.718Z"
   },
   {
    "duration": 89,
    "start_time": "2022-06-19T20:19:04.737Z"
   },
   {
    "duration": 0,
    "start_time": "2022-06-19T20:19:04.828Z"
   },
   {
    "duration": 0,
    "start_time": "2022-06-19T20:19:04.829Z"
   },
   {
    "duration": 0,
    "start_time": "2022-06-19T20:19:04.831Z"
   },
   {
    "duration": 0,
    "start_time": "2022-06-19T20:19:04.832Z"
   },
   {
    "duration": 0,
    "start_time": "2022-06-19T20:19:04.833Z"
   },
   {
    "duration": 0,
    "start_time": "2022-06-19T20:19:04.834Z"
   },
   {
    "duration": 0,
    "start_time": "2022-06-19T20:19:04.834Z"
   },
   {
    "duration": 0,
    "start_time": "2022-06-19T20:19:04.835Z"
   },
   {
    "duration": 0,
    "start_time": "2022-06-19T20:19:04.836Z"
   },
   {
    "duration": 0,
    "start_time": "2022-06-19T20:19:04.837Z"
   },
   {
    "duration": 0,
    "start_time": "2022-06-19T20:19:04.838Z"
   },
   {
    "duration": 12,
    "start_time": "2022-06-19T20:20:06.587Z"
   },
   {
    "duration": 9,
    "start_time": "2022-06-19T20:24:05.783Z"
   },
   {
    "duration": 41,
    "start_time": "2022-06-19T20:42:26.985Z"
   },
   {
    "duration": 4,
    "start_time": "2022-06-19T20:42:35.405Z"
   },
   {
    "duration": 5,
    "start_time": "2022-06-19T20:42:39.932Z"
   },
   {
    "duration": 4,
    "start_time": "2022-06-19T20:44:05.853Z"
   },
   {
    "duration": 394,
    "start_time": "2022-06-19T20:44:13.600Z"
   },
   {
    "duration": 185,
    "start_time": "2022-06-19T20:44:13.999Z"
   },
   {
    "duration": 12,
    "start_time": "2022-06-19T20:44:14.186Z"
   },
   {
    "duration": 42,
    "start_time": "2022-06-19T20:44:14.199Z"
   },
   {
    "duration": 2,
    "start_time": "2022-06-19T20:44:14.243Z"
   },
   {
    "duration": 8,
    "start_time": "2022-06-19T20:44:14.247Z"
   },
   {
    "duration": 57,
    "start_time": "2022-06-19T20:44:14.257Z"
   },
   {
    "duration": 8,
    "start_time": "2022-06-19T20:44:14.316Z"
   },
   {
    "duration": 59,
    "start_time": "2022-06-19T20:44:14.325Z"
   },
   {
    "duration": 54,
    "start_time": "2022-06-19T20:44:14.386Z"
   },
   {
    "duration": 33,
    "start_time": "2022-06-19T20:44:14.441Z"
   },
   {
    "duration": 112,
    "start_time": "2022-06-19T20:44:14.476Z"
   },
   {
    "duration": 105,
    "start_time": "2022-06-19T20:44:14.592Z"
   },
   {
    "duration": 66,
    "start_time": "2022-06-19T20:44:14.703Z"
   },
   {
    "duration": 52,
    "start_time": "2022-06-19T20:44:14.771Z"
   },
   {
    "duration": 12,
    "start_time": "2022-06-19T20:44:14.824Z"
   },
   {
    "duration": 66,
    "start_time": "2022-06-19T20:44:14.837Z"
   },
   {
    "duration": 12,
    "start_time": "2022-06-19T20:44:14.905Z"
   },
   {
    "duration": 11,
    "start_time": "2022-06-19T20:44:14.919Z"
   },
   {
    "duration": 4,
    "start_time": "2022-06-19T20:44:14.932Z"
   },
   {
    "duration": 48,
    "start_time": "2022-06-19T20:44:14.938Z"
   },
   {
    "duration": 25,
    "start_time": "2022-06-19T20:44:14.995Z"
   },
   {
    "duration": 38,
    "start_time": "2022-06-19T20:44:15.022Z"
   },
   {
    "duration": 26,
    "start_time": "2022-06-19T20:44:15.061Z"
   },
   {
    "duration": 44,
    "start_time": "2022-06-19T20:44:15.089Z"
   },
   {
    "duration": 39,
    "start_time": "2022-06-19T20:44:15.134Z"
   },
   {
    "duration": 47,
    "start_time": "2022-06-19T20:44:15.183Z"
   },
   {
    "duration": 16,
    "start_time": "2022-06-19T20:44:15.232Z"
   },
   {
    "duration": 20,
    "start_time": "2022-06-19T20:44:15.250Z"
   },
   {
    "duration": 32,
    "start_time": "2022-06-19T20:44:15.271Z"
   },
   {
    "duration": 10,
    "start_time": "2022-06-19T20:44:15.305Z"
   },
   {
    "duration": 14,
    "start_time": "2022-06-19T20:44:15.316Z"
   },
   {
    "duration": 6,
    "start_time": "2022-06-19T20:44:15.331Z"
   },
   {
    "duration": 6,
    "start_time": "2022-06-19T20:44:15.338Z"
   },
   {
    "duration": 7,
    "start_time": "2022-06-19T20:44:15.346Z"
   },
   {
    "duration": 6,
    "start_time": "2022-06-19T20:44:15.354Z"
   },
   {
    "duration": 47,
    "start_time": "2022-06-19T20:44:15.361Z"
   },
   {
    "duration": 4,
    "start_time": "2022-06-19T20:44:15.410Z"
   },
   {
    "duration": 395,
    "start_time": "2022-06-19T20:50:31.087Z"
   },
   {
    "duration": 202,
    "start_time": "2022-06-19T20:50:31.488Z"
   },
   {
    "duration": 9,
    "start_time": "2022-06-19T20:50:31.692Z"
   },
   {
    "duration": 34,
    "start_time": "2022-06-19T20:50:31.703Z"
   },
   {
    "duration": 4,
    "start_time": "2022-06-19T20:50:31.740Z"
   },
   {
    "duration": 51,
    "start_time": "2022-06-19T20:50:31.745Z"
   },
   {
    "duration": 18,
    "start_time": "2022-06-19T20:50:31.798Z"
   },
   {
    "duration": 6,
    "start_time": "2022-06-19T20:50:31.818Z"
   },
   {
    "duration": 46,
    "start_time": "2022-06-19T20:50:31.826Z"
   },
   {
    "duration": 57,
    "start_time": "2022-06-19T20:50:31.873Z"
   },
   {
    "duration": 41,
    "start_time": "2022-06-19T20:50:31.932Z"
   },
   {
    "duration": 112,
    "start_time": "2022-06-19T20:50:31.975Z"
   },
   {
    "duration": 100,
    "start_time": "2022-06-19T20:50:32.089Z"
   },
   {
    "duration": 88,
    "start_time": "2022-06-19T20:50:32.197Z"
   },
   {
    "duration": 55,
    "start_time": "2022-06-19T20:50:32.287Z"
   },
   {
    "duration": 28,
    "start_time": "2022-06-19T20:50:32.344Z"
   },
   {
    "duration": 80,
    "start_time": "2022-06-19T20:50:32.374Z"
   },
   {
    "duration": 32,
    "start_time": "2022-06-19T20:50:32.456Z"
   },
   {
    "duration": 17,
    "start_time": "2022-06-19T20:50:32.497Z"
   },
   {
    "duration": 6,
    "start_time": "2022-06-19T20:50:32.515Z"
   },
   {
    "duration": 24,
    "start_time": "2022-06-19T20:50:32.522Z"
   },
   {
    "duration": 18,
    "start_time": "2022-06-19T20:50:32.548Z"
   },
   {
    "duration": 57,
    "start_time": "2022-06-19T20:50:32.568Z"
   },
   {
    "duration": 13,
    "start_time": "2022-06-19T20:50:32.627Z"
   },
   {
    "duration": 16,
    "start_time": "2022-06-19T20:50:32.641Z"
   },
   {
    "duration": 23,
    "start_time": "2022-06-19T20:50:32.662Z"
   },
   {
    "duration": 21,
    "start_time": "2022-06-19T20:50:32.687Z"
   },
   {
    "duration": 13,
    "start_time": "2022-06-19T20:50:32.709Z"
   },
   {
    "duration": 13,
    "start_time": "2022-06-19T20:50:32.724Z"
   },
   {
    "duration": 4,
    "start_time": "2022-06-19T20:50:32.738Z"
   },
   {
    "duration": 11,
    "start_time": "2022-06-19T20:50:32.743Z"
   },
   {
    "duration": 53,
    "start_time": "2022-06-19T20:50:32.755Z"
   },
   {
    "duration": 8,
    "start_time": "2022-06-19T20:50:32.810Z"
   },
   {
    "duration": 6,
    "start_time": "2022-06-19T20:50:32.819Z"
   },
   {
    "duration": 8,
    "start_time": "2022-06-19T20:50:32.827Z"
   },
   {
    "duration": 8,
    "start_time": "2022-06-19T20:50:32.836Z"
   },
   {
    "duration": 7,
    "start_time": "2022-06-19T20:50:32.845Z"
   },
   {
    "duration": 5,
    "start_time": "2022-06-19T20:50:32.853Z"
   },
   {
    "duration": 9,
    "start_time": "2022-06-19T20:51:29.786Z"
   },
   {
    "duration": 9,
    "start_time": "2022-06-19T20:51:36.287Z"
   },
   {
    "duration": 4,
    "start_time": "2022-06-19T20:51:37.807Z"
   },
   {
    "duration": 409,
    "start_time": "2022-06-19T21:00:17.541Z"
   },
   {
    "duration": 205,
    "start_time": "2022-06-19T21:00:17.952Z"
   },
   {
    "duration": 19,
    "start_time": "2022-06-19T21:00:18.158Z"
   },
   {
    "duration": 56,
    "start_time": "2022-06-19T21:00:18.179Z"
   },
   {
    "duration": 2,
    "start_time": "2022-06-19T21:00:18.237Z"
   },
   {
    "duration": 12,
    "start_time": "2022-06-19T21:00:18.241Z"
   },
   {
    "duration": 47,
    "start_time": "2022-06-19T21:00:18.254Z"
   },
   {
    "duration": 4,
    "start_time": "2022-06-19T21:00:18.303Z"
   },
   {
    "duration": 34,
    "start_time": "2022-06-19T21:00:18.308Z"
   },
   {
    "duration": 44,
    "start_time": "2022-06-19T21:00:18.344Z"
   },
   {
    "duration": 44,
    "start_time": "2022-06-19T21:00:18.390Z"
   },
   {
    "duration": 81,
    "start_time": "2022-06-19T21:00:18.436Z"
   },
   {
    "duration": 111,
    "start_time": "2022-06-19T21:00:18.519Z"
   },
   {
    "duration": 73,
    "start_time": "2022-06-19T21:00:18.633Z"
   },
   {
    "duration": 37,
    "start_time": "2022-06-19T21:00:18.707Z"
   },
   {
    "duration": 30,
    "start_time": "2022-06-19T21:00:18.746Z"
   },
   {
    "duration": 61,
    "start_time": "2022-06-19T21:00:18.781Z"
   },
   {
    "duration": 10,
    "start_time": "2022-06-19T21:00:18.844Z"
   },
   {
    "duration": 24,
    "start_time": "2022-06-19T21:00:18.856Z"
   },
   {
    "duration": 25,
    "start_time": "2022-06-19T21:00:18.881Z"
   },
   {
    "duration": 24,
    "start_time": "2022-06-19T21:00:18.908Z"
   },
   {
    "duration": 15,
    "start_time": "2022-06-19T21:00:18.933Z"
   },
   {
    "duration": 31,
    "start_time": "2022-06-19T21:00:18.950Z"
   },
   {
    "duration": 22,
    "start_time": "2022-06-19T21:00:18.996Z"
   },
   {
    "duration": 15,
    "start_time": "2022-06-19T21:00:19.020Z"
   },
   {
    "duration": 14,
    "start_time": "2022-06-19T21:00:19.037Z"
   },
   {
    "duration": 5,
    "start_time": "2022-06-19T21:00:19.052Z"
   },
   {
    "duration": 58,
    "start_time": "2022-06-19T21:00:19.058Z"
   },
   {
    "duration": 10,
    "start_time": "2022-06-19T21:00:19.118Z"
   },
   {
    "duration": 6,
    "start_time": "2022-06-19T21:00:19.130Z"
   },
   {
    "duration": 34,
    "start_time": "2022-06-19T21:00:19.137Z"
   },
   {
    "duration": 44,
    "start_time": "2022-06-19T21:00:19.172Z"
   },
   {
    "duration": 17,
    "start_time": "2022-06-19T21:00:19.218Z"
   },
   {
    "duration": 12,
    "start_time": "2022-06-19T21:00:19.237Z"
   },
   {
    "duration": 74,
    "start_time": "2022-06-19T21:00:19.251Z"
   },
   {
    "duration": 0,
    "start_time": "2022-06-19T21:00:19.327Z"
   },
   {
    "duration": 0,
    "start_time": "2022-06-19T21:00:19.328Z"
   },
   {
    "duration": 0,
    "start_time": "2022-06-19T21:00:19.329Z"
   },
   {
    "duration": 7,
    "start_time": "2022-06-19T21:01:39.537Z"
   },
   {
    "duration": 12,
    "start_time": "2022-06-19T21:07:25.586Z"
   },
   {
    "duration": 11,
    "start_time": "2022-06-19T21:07:31.709Z"
   },
   {
    "duration": 471,
    "start_time": "2022-06-19T21:07:37.974Z"
   },
   {
    "duration": 240,
    "start_time": "2022-06-19T21:07:38.448Z"
   },
   {
    "duration": 11,
    "start_time": "2022-06-19T21:07:38.690Z"
   },
   {
    "duration": 61,
    "start_time": "2022-06-19T21:07:38.702Z"
   },
   {
    "duration": 30,
    "start_time": "2022-06-19T21:07:38.780Z"
   },
   {
    "duration": 29,
    "start_time": "2022-06-19T21:07:38.812Z"
   },
   {
    "duration": 14,
    "start_time": "2022-06-19T21:07:38.843Z"
   },
   {
    "duration": 61,
    "start_time": "2022-06-19T21:07:38.861Z"
   },
   {
    "duration": 30,
    "start_time": "2022-06-19T21:07:38.923Z"
   },
   {
    "duration": 67,
    "start_time": "2022-06-19T21:07:38.955Z"
   },
   {
    "duration": 27,
    "start_time": "2022-06-19T21:07:39.025Z"
   },
   {
    "duration": 96,
    "start_time": "2022-06-19T21:07:39.053Z"
   },
   {
    "duration": 121,
    "start_time": "2022-06-19T21:07:39.151Z"
   },
   {
    "duration": 72,
    "start_time": "2022-06-19T21:07:39.277Z"
   },
   {
    "duration": 74,
    "start_time": "2022-06-19T21:07:39.351Z"
   },
   {
    "duration": 19,
    "start_time": "2022-06-19T21:07:39.426Z"
   },
   {
    "duration": 68,
    "start_time": "2022-06-19T21:07:39.446Z"
   },
   {
    "duration": 21,
    "start_time": "2022-06-19T21:07:39.517Z"
   },
   {
    "duration": 25,
    "start_time": "2022-06-19T21:07:39.540Z"
   },
   {
    "duration": 7,
    "start_time": "2022-06-19T21:07:39.579Z"
   },
   {
    "duration": 55,
    "start_time": "2022-06-19T21:07:39.588Z"
   },
   {
    "duration": 13,
    "start_time": "2022-06-19T21:07:39.646Z"
   },
   {
    "duration": 64,
    "start_time": "2022-06-19T21:07:39.661Z"
   },
   {
    "duration": 15,
    "start_time": "2022-06-19T21:07:39.727Z"
   },
   {
    "duration": 17,
    "start_time": "2022-06-19T21:07:39.744Z"
   },
   {
    "duration": 50,
    "start_time": "2022-06-19T21:07:39.762Z"
   },
   {
    "duration": 14,
    "start_time": "2022-06-19T21:07:39.817Z"
   },
   {
    "duration": 14,
    "start_time": "2022-06-19T21:07:39.832Z"
   },
   {
    "duration": 10,
    "start_time": "2022-06-19T21:07:39.848Z"
   },
   {
    "duration": 60,
    "start_time": "2022-06-19T21:07:39.863Z"
   },
   {
    "duration": 23,
    "start_time": "2022-06-19T21:07:39.925Z"
   },
   {
    "duration": 20,
    "start_time": "2022-06-19T21:07:39.950Z"
   },
   {
    "duration": 69,
    "start_time": "2022-06-19T21:07:39.972Z"
   },
   {
    "duration": 13,
    "start_time": "2022-06-19T21:07:40.042Z"
   },
   {
    "duration": 87,
    "start_time": "2022-06-19T21:07:40.056Z"
   },
   {
    "duration": 0,
    "start_time": "2022-06-19T21:07:40.146Z"
   },
   {
    "duration": 0,
    "start_time": "2022-06-19T21:07:40.147Z"
   },
   {
    "duration": 0,
    "start_time": "2022-06-19T21:07:40.148Z"
   },
   {
    "duration": 429,
    "start_time": "2022-06-19T21:19:08.350Z"
   },
   {
    "duration": 207,
    "start_time": "2022-06-19T21:19:08.782Z"
   },
   {
    "duration": 12,
    "start_time": "2022-06-19T21:19:08.997Z"
   },
   {
    "duration": 33,
    "start_time": "2022-06-19T21:19:09.011Z"
   },
   {
    "duration": 3,
    "start_time": "2022-06-19T21:19:09.046Z"
   },
   {
    "duration": 9,
    "start_time": "2022-06-19T21:19:09.051Z"
   },
   {
    "duration": 58,
    "start_time": "2022-06-19T21:19:09.062Z"
   },
   {
    "duration": 8,
    "start_time": "2022-06-19T21:19:09.122Z"
   },
   {
    "duration": 38,
    "start_time": "2022-06-19T21:19:09.131Z"
   },
   {
    "duration": 67,
    "start_time": "2022-06-19T21:19:09.171Z"
   },
   {
    "duration": 40,
    "start_time": "2022-06-19T21:19:09.240Z"
   },
   {
    "duration": 110,
    "start_time": "2022-06-19T21:19:09.282Z"
   },
   {
    "duration": 107,
    "start_time": "2022-06-19T21:19:09.395Z"
   },
   {
    "duration": 56,
    "start_time": "2022-06-19T21:19:09.506Z"
   },
   {
    "duration": 54,
    "start_time": "2022-06-19T21:19:09.569Z"
   },
   {
    "duration": 11,
    "start_time": "2022-06-19T21:19:09.624Z"
   },
   {
    "duration": 76,
    "start_time": "2022-06-19T21:19:09.636Z"
   },
   {
    "duration": 11,
    "start_time": "2022-06-19T21:19:09.714Z"
   },
   {
    "duration": 10,
    "start_time": "2022-06-19T21:19:09.726Z"
   },
   {
    "duration": 24,
    "start_time": "2022-06-19T21:19:09.738Z"
   },
   {
    "duration": 64,
    "start_time": "2022-06-19T21:19:09.764Z"
   },
   {
    "duration": 14,
    "start_time": "2022-06-19T21:19:09.830Z"
   },
   {
    "duration": 24,
    "start_time": "2022-06-19T21:19:09.845Z"
   },
   {
    "duration": 42,
    "start_time": "2022-06-19T21:19:09.871Z"
   },
   {
    "duration": 17,
    "start_time": "2022-06-19T21:19:09.915Z"
   },
   {
    "duration": 14,
    "start_time": "2022-06-19T21:19:09.933Z"
   },
   {
    "duration": 5,
    "start_time": "2022-06-19T21:19:09.949Z"
   },
   {
    "duration": 59,
    "start_time": "2022-06-19T21:19:09.955Z"
   },
   {
    "duration": 13,
    "start_time": "2022-06-19T21:19:10.016Z"
   },
   {
    "duration": 5,
    "start_time": "2022-06-19T21:19:10.031Z"
   },
   {
    "duration": 26,
    "start_time": "2022-06-19T21:19:10.037Z"
   },
   {
    "duration": 50,
    "start_time": "2022-06-19T21:19:10.065Z"
   },
   {
    "duration": 20,
    "start_time": "2022-06-19T21:19:10.116Z"
   },
   {
    "duration": 16,
    "start_time": "2022-06-19T21:19:10.138Z"
   },
   {
    "duration": 18,
    "start_time": "2022-06-19T21:19:10.155Z"
   },
   {
    "duration": 35,
    "start_time": "2022-06-19T21:19:10.174Z"
   },
   {
    "duration": 6,
    "start_time": "2022-06-19T21:19:10.211Z"
   },
   {
    "duration": 4,
    "start_time": "2022-06-19T21:19:10.219Z"
   },
   {
    "duration": 412,
    "start_time": "2022-06-19T21:25:39.197Z"
   },
   {
    "duration": 198,
    "start_time": "2022-06-19T21:25:39.611Z"
   },
   {
    "duration": 9,
    "start_time": "2022-06-19T21:25:39.811Z"
   },
   {
    "duration": 46,
    "start_time": "2022-06-19T21:25:39.822Z"
   },
   {
    "duration": 19,
    "start_time": "2022-06-19T21:25:39.873Z"
   },
   {
    "duration": 17,
    "start_time": "2022-06-19T21:25:39.895Z"
   },
   {
    "duration": 24,
    "start_time": "2022-06-19T21:25:39.913Z"
   },
   {
    "duration": 9,
    "start_time": "2022-06-19T21:25:39.939Z"
   },
   {
    "duration": 59,
    "start_time": "2022-06-19T21:25:39.950Z"
   },
   {
    "duration": 58,
    "start_time": "2022-06-19T21:25:40.011Z"
   },
   {
    "duration": 42,
    "start_time": "2022-06-19T21:25:40.073Z"
   },
   {
    "duration": 85,
    "start_time": "2022-06-19T21:25:40.116Z"
   },
   {
    "duration": 107,
    "start_time": "2022-06-19T21:25:40.203Z"
   },
   {
    "duration": 59,
    "start_time": "2022-06-19T21:25:40.313Z"
   },
   {
    "duration": 53,
    "start_time": "2022-06-19T21:25:40.374Z"
   },
   {
    "duration": 11,
    "start_time": "2022-06-19T21:25:40.428Z"
   },
   {
    "duration": 72,
    "start_time": "2022-06-19T21:25:40.441Z"
   },
   {
    "duration": 11,
    "start_time": "2022-06-19T21:25:40.515Z"
   },
   {
    "duration": 11,
    "start_time": "2022-06-19T21:25:40.528Z"
   },
   {
    "duration": 19,
    "start_time": "2022-06-19T21:25:40.540Z"
   },
   {
    "duration": 52,
    "start_time": "2022-06-19T21:25:40.560Z"
   },
   {
    "duration": 16,
    "start_time": "2022-06-19T21:25:40.613Z"
   },
   {
    "duration": 22,
    "start_time": "2022-06-19T21:25:40.631Z"
   },
   {
    "duration": 19,
    "start_time": "2022-06-19T21:25:40.654Z"
   },
   {
    "duration": 42,
    "start_time": "2022-06-19T21:25:40.677Z"
   },
   {
    "duration": 12,
    "start_time": "2022-06-19T21:25:40.721Z"
   },
   {
    "duration": 4,
    "start_time": "2022-06-19T21:25:40.735Z"
   },
   {
    "duration": 15,
    "start_time": "2022-06-19T21:25:40.741Z"
   },
   {
    "duration": 28,
    "start_time": "2022-06-19T21:25:40.758Z"
   },
   {
    "duration": 36,
    "start_time": "2022-06-19T21:25:40.788Z"
   },
   {
    "duration": 21,
    "start_time": "2022-06-19T21:25:40.826Z"
   },
   {
    "duration": 25,
    "start_time": "2022-06-19T21:25:40.849Z"
   },
   {
    "duration": 26,
    "start_time": "2022-06-19T21:25:40.887Z"
   },
   {
    "duration": 13,
    "start_time": "2022-06-19T21:25:40.914Z"
   },
   {
    "duration": 8,
    "start_time": "2022-06-19T21:25:40.928Z"
   },
   {
    "duration": 2,
    "start_time": "2022-06-19T21:25:40.937Z"
   },
   {
    "duration": 12,
    "start_time": "2022-06-19T21:25:40.941Z"
   },
   {
    "duration": 54,
    "start_time": "2022-06-19T21:25:40.955Z"
   },
   {
    "duration": 447,
    "start_time": "2022-06-19T21:31:38.885Z"
   },
   {
    "duration": 215,
    "start_time": "2022-06-19T21:31:39.334Z"
   },
   {
    "duration": 21,
    "start_time": "2022-06-19T21:31:39.551Z"
   },
   {
    "duration": 63,
    "start_time": "2022-06-19T21:31:39.573Z"
   },
   {
    "duration": 2,
    "start_time": "2022-06-19T21:31:39.639Z"
   },
   {
    "duration": 8,
    "start_time": "2022-06-19T21:31:39.642Z"
   },
   {
    "duration": 24,
    "start_time": "2022-06-19T21:31:39.652Z"
   },
   {
    "duration": 30,
    "start_time": "2022-06-19T21:31:39.678Z"
   },
   {
    "duration": 32,
    "start_time": "2022-06-19T21:31:39.709Z"
   },
   {
    "duration": 40,
    "start_time": "2022-06-19T21:31:39.743Z"
   },
   {
    "duration": 42,
    "start_time": "2022-06-19T21:31:39.790Z"
   },
   {
    "duration": 91,
    "start_time": "2022-06-19T21:31:39.833Z"
   },
   {
    "duration": 132,
    "start_time": "2022-06-19T21:31:39.925Z"
   },
   {
    "duration": 77,
    "start_time": "2022-06-19T21:31:40.063Z"
   },
   {
    "duration": 74,
    "start_time": "2022-06-19T21:31:40.142Z"
   },
   {
    "duration": 14,
    "start_time": "2022-06-19T21:31:40.218Z"
   },
   {
    "duration": 73,
    "start_time": "2022-06-19T21:31:40.234Z"
   },
   {
    "duration": 18,
    "start_time": "2022-06-19T21:31:40.309Z"
   },
   {
    "duration": 15,
    "start_time": "2022-06-19T21:31:40.329Z"
   },
   {
    "duration": 21,
    "start_time": "2022-06-19T21:31:40.346Z"
   },
   {
    "duration": 56,
    "start_time": "2022-06-19T21:31:40.369Z"
   },
   {
    "duration": 21,
    "start_time": "2022-06-19T21:31:40.428Z"
   },
   {
    "duration": 73,
    "start_time": "2022-06-19T21:31:40.451Z"
   },
   {
    "duration": 22,
    "start_time": "2022-06-19T21:31:40.526Z"
   },
   {
    "duration": 32,
    "start_time": "2022-06-19T21:31:40.550Z"
   },
   {
    "duration": 31,
    "start_time": "2022-06-19T21:31:40.588Z"
   },
   {
    "duration": 5,
    "start_time": "2022-06-19T21:31:40.621Z"
   },
   {
    "duration": 15,
    "start_time": "2022-06-19T21:31:40.628Z"
   },
   {
    "duration": 18,
    "start_time": "2022-06-19T21:31:40.644Z"
   },
   {
    "duration": 44,
    "start_time": "2022-06-19T21:31:40.664Z"
   },
   {
    "duration": 22,
    "start_time": "2022-06-19T21:31:40.710Z"
   },
   {
    "duration": 13,
    "start_time": "2022-06-19T21:31:40.734Z"
   },
   {
    "duration": 34,
    "start_time": "2022-06-19T21:31:40.748Z"
   },
   {
    "duration": 48,
    "start_time": "2022-06-19T21:31:40.784Z"
   },
   {
    "duration": 9,
    "start_time": "2022-06-19T21:31:40.834Z"
   },
   {
    "duration": 4,
    "start_time": "2022-06-19T21:31:40.844Z"
   },
   {
    "duration": 6,
    "start_time": "2022-06-19T21:31:40.850Z"
   },
   {
    "duration": 52,
    "start_time": "2022-06-19T21:31:40.858Z"
   }
  ],
  "colab": {
   "collapsed_sections": [
    "E0vqbgi9ay0H",
    "VUC88oWjTJw2"
   ],
   "name": "automatization_template_upd4.ipynb",
   "provenance": []
  },
  "kernelspec": {
   "display_name": "Python 3 (ipykernel)",
   "language": "python",
   "name": "python3"
  },
  "language_info": {
   "codemirror_mode": {
    "name": "ipython",
    "version": 3
   },
   "file_extension": ".py",
   "mimetype": "text/x-python",
   "name": "python",
   "nbconvert_exporter": "python",
   "pygments_lexer": "ipython3",
   "version": "3.9.5"
  },
  "toc": {
   "base_numbering": 1,
   "nav_menu": {
    "height": "215px",
    "width": "403px"
   },
   "number_sections": true,
   "sideBar": true,
   "skip_h1_title": true,
   "title_cell": "Table of Contents",
   "title_sidebar": "Contents",
   "toc_cell": false,
   "toc_position": {
    "height": "calc(100% - 180px)",
    "left": "10px",
    "top": "150px",
    "width": "285.825px"
   },
   "toc_section_display": true,
   "toc_window_display": false
  }
 },
 "nbformat": 4,
 "nbformat_minor": 1
}
