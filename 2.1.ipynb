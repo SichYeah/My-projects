{
 "cells": [
  {
   "cell_type": "markdown",
   "id": "00f49e7e",
   "metadata": {},
   "source": [
    "<div style=\"border:solid purple 2px; padding: 20px\"> \n",
    "\n",
    "Илья, привет! 👋\n",
    "\n",
    "Меня зовут Рустам Муртазин, и я буду делать ревью проектной работы по предобработке данных (точнее ее части). Давай будем общаться на **«ты»**. Если это неприемлемо, обязательно напиши мне в комментариях — мы перейдем на **«вы»**.\n",
    "\n",
    "В любом деле всегда можно можно что-то улучшить. Моя основная цель — не показать, что где-то совершены какие-либо ошибки, а поделиться своим опытом, который поможет тебе в дальнейших работах. Далее в файле ты сможешь увидеть мои комментарии, постарайся учесть их при выполнении следующих заданий.\n",
    "\n",
    "Обрати внимание в первую очередь на те, что помечаны <span style=\"color:red\">красным цветом</span>. После их доработки проект будет принят. <span style=\"color:green\">Зеленым цветом</span> отмечены удачные и элегантные решения, на которые можно опираться в будущих проектах. <span style=\"color:orange\">Оранжевым цветом</span> выделено то, что в следующий раз можно сделать по-другому. Ты можешь учесть эти комментарии при выполнении будущих заданий или доработать проект сейчас (однако это не обязательно). Также в проекте могут быть небольшие «лайфхаки» по Python, не относящиеся к проекту, их я выделил в фиолетовую рамку)\n",
    "\n",
    "Давай работать над проектом в диалоге: если ты **что-то меняешь** в проекте по моим рекомендациям — **пиши об этом**. Выбери для своих комментариев какой-то заметный цвет, так мне будет легче отследить изменения. Пожалуйста, **не перемещай, не изменяй и не удаляй мои комментарии**. Всё это поможет выполнить повторную проверку твоего проекта оперативнее».\n",
    "\n",
    "Мне понравился твой проект, есть пару замечаний, но их не много, я думаю ты быстро справишься. Жду твою работу на повторное ревью :)\n"
   ]
  },
  {
   "cell_type": "markdown",
   "id": "753571a8",
   "metadata": {},
   "source": [
    "<div style=\"border:solid purple 2px; padding: 20px\"> \n",
    "    \n",
    "Рустам привет! Спасибо большое за твое ревью! Исправил замечания, все исправления оставим под <span style=\"color:yellow\">желтым комментарием</span> "
   ]
  },
  {
   "cell_type": "markdown",
   "id": "cc3bcfbc",
   "metadata": {},
   "source": [
    "<div class=\"alert alert-success\">\n",
    "<h2> Комментарий ревьюера v2 ✔️ <a class=\"tocSkip\"> </h2>\n",
    "\n",
    "Спасибо тебе, за классный проект! Надеюсь ты учтешь мои комментарии в последующих работах. Благодарю за старания и интерес и желаю успехов в дальнейших проектах 😊\n",
    "\n",
    "</div>"
   ]
  },
  {
   "cell_type": "markdown",
   "id": "c81daeeb",
   "metadata": {
    "deletable": false,
    "id": "c81daeeb"
   },
   "source": [
    "# Исследование надежности заемщиков\n"
   ]
  },
  {
   "cell_type": "markdown",
   "id": "827c20bf",
   "metadata": {
    "id": "827c20bf"
   },
   "source": [
    "Во второй части проекта вы выполните шаги 3 и 4. Их вручную проверит ревьюер.\n",
    "Чтобы вам не пришлось писать код заново для шагов 1 и 2, мы добавили авторские решения в ячейки с кодом. \n",
    "\n"
   ]
  },
  {
   "cell_type": "markdown",
   "id": "744d7639",
   "metadata": {
    "deletable": false,
    "id": "744d7639"
   },
   "source": [
    "## Откройте таблицу и изучите общую информацию о данных"
   ]
  },
  {
   "cell_type": "markdown",
   "id": "e7a14c31",
   "metadata": {
    "deletable": false,
    "id": "e7a14c31"
   },
   "source": [
    "**Задание 1. Импортируйте библиотеку pandas. Считайте данные из csv-файла в датафрейм и сохраните в переменную `data`. Путь к файлу:**\n",
    "\n",
    "`/datasets/data.csv`"
   ]
  },
  {
   "cell_type": "code",
   "execution_count": 1,
   "id": "7bcf75c9",
   "metadata": {
    "deletable": false,
    "id": "7bcf75c9"
   },
   "outputs": [],
   "source": [
    "import pandas as pd\n",
    "\n",
    "try:\n",
    "    data = pd.read_csv('/datasets/data.csv')\n",
    "except:\n",
    "    data = pd.read_csv('https://code.s3.yandex.net/datasets/data.csv')"
   ]
  },
  {
   "cell_type": "markdown",
   "id": "b8038fe3",
   "metadata": {
    "deletable": false,
    "id": "b8038fe3"
   },
   "source": [
    "**Задание 2. Выведите первые 20 строчек датафрейма `data` на экран.**"
   ]
  },
  {
   "cell_type": "code",
   "execution_count": 2,
   "id": "2a7cab99",
   "metadata": {
    "deletable": false,
    "id": "2a7cab99",
    "outputId": "1a8f3ef2-d323-4ec2-ddf7-89670b5944c4"
   },
   "outputs": [
    {
     "data": {
      "text/html": [
       "<div>\n",
       "<style scoped>\n",
       "    .dataframe tbody tr th:only-of-type {\n",
       "        vertical-align: middle;\n",
       "    }\n",
       "\n",
       "    .dataframe tbody tr th {\n",
       "        vertical-align: top;\n",
       "    }\n",
       "\n",
       "    .dataframe thead th {\n",
       "        text-align: right;\n",
       "    }\n",
       "</style>\n",
       "<table border=\"1\" class=\"dataframe\">\n",
       "  <thead>\n",
       "    <tr style=\"text-align: right;\">\n",
       "      <th></th>\n",
       "      <th>children</th>\n",
       "      <th>days_employed</th>\n",
       "      <th>dob_years</th>\n",
       "      <th>education</th>\n",
       "      <th>education_id</th>\n",
       "      <th>family_status</th>\n",
       "      <th>family_status_id</th>\n",
       "      <th>gender</th>\n",
       "      <th>income_type</th>\n",
       "      <th>debt</th>\n",
       "      <th>total_income</th>\n",
       "      <th>purpose</th>\n",
       "    </tr>\n",
       "  </thead>\n",
       "  <tbody>\n",
       "    <tr>\n",
       "      <th>0</th>\n",
       "      <td>1</td>\n",
       "      <td>-8437.673028</td>\n",
       "      <td>42</td>\n",
       "      <td>высшее</td>\n",
       "      <td>0</td>\n",
       "      <td>женат / замужем</td>\n",
       "      <td>0</td>\n",
       "      <td>F</td>\n",
       "      <td>сотрудник</td>\n",
       "      <td>0</td>\n",
       "      <td>253875.639453</td>\n",
       "      <td>покупка жилья</td>\n",
       "    </tr>\n",
       "    <tr>\n",
       "      <th>1</th>\n",
       "      <td>1</td>\n",
       "      <td>-4024.803754</td>\n",
       "      <td>36</td>\n",
       "      <td>среднее</td>\n",
       "      <td>1</td>\n",
       "      <td>женат / замужем</td>\n",
       "      <td>0</td>\n",
       "      <td>F</td>\n",
       "      <td>сотрудник</td>\n",
       "      <td>0</td>\n",
       "      <td>112080.014102</td>\n",
       "      <td>приобретение автомобиля</td>\n",
       "    </tr>\n",
       "    <tr>\n",
       "      <th>2</th>\n",
       "      <td>0</td>\n",
       "      <td>-5623.422610</td>\n",
       "      <td>33</td>\n",
       "      <td>Среднее</td>\n",
       "      <td>1</td>\n",
       "      <td>женат / замужем</td>\n",
       "      <td>0</td>\n",
       "      <td>M</td>\n",
       "      <td>сотрудник</td>\n",
       "      <td>0</td>\n",
       "      <td>145885.952297</td>\n",
       "      <td>покупка жилья</td>\n",
       "    </tr>\n",
       "    <tr>\n",
       "      <th>3</th>\n",
       "      <td>3</td>\n",
       "      <td>-4124.747207</td>\n",
       "      <td>32</td>\n",
       "      <td>среднее</td>\n",
       "      <td>1</td>\n",
       "      <td>женат / замужем</td>\n",
       "      <td>0</td>\n",
       "      <td>M</td>\n",
       "      <td>сотрудник</td>\n",
       "      <td>0</td>\n",
       "      <td>267628.550329</td>\n",
       "      <td>дополнительное образование</td>\n",
       "    </tr>\n",
       "    <tr>\n",
       "      <th>4</th>\n",
       "      <td>0</td>\n",
       "      <td>340266.072047</td>\n",
       "      <td>53</td>\n",
       "      <td>среднее</td>\n",
       "      <td>1</td>\n",
       "      <td>гражданский брак</td>\n",
       "      <td>1</td>\n",
       "      <td>F</td>\n",
       "      <td>пенсионер</td>\n",
       "      <td>0</td>\n",
       "      <td>158616.077870</td>\n",
       "      <td>сыграть свадьбу</td>\n",
       "    </tr>\n",
       "    <tr>\n",
       "      <th>5</th>\n",
       "      <td>0</td>\n",
       "      <td>-926.185831</td>\n",
       "      <td>27</td>\n",
       "      <td>высшее</td>\n",
       "      <td>0</td>\n",
       "      <td>гражданский брак</td>\n",
       "      <td>1</td>\n",
       "      <td>M</td>\n",
       "      <td>компаньон</td>\n",
       "      <td>0</td>\n",
       "      <td>255763.565419</td>\n",
       "      <td>покупка жилья</td>\n",
       "    </tr>\n",
       "    <tr>\n",
       "      <th>6</th>\n",
       "      <td>0</td>\n",
       "      <td>-2879.202052</td>\n",
       "      <td>43</td>\n",
       "      <td>высшее</td>\n",
       "      <td>0</td>\n",
       "      <td>женат / замужем</td>\n",
       "      <td>0</td>\n",
       "      <td>F</td>\n",
       "      <td>компаньон</td>\n",
       "      <td>0</td>\n",
       "      <td>240525.971920</td>\n",
       "      <td>операции с жильем</td>\n",
       "    </tr>\n",
       "    <tr>\n",
       "      <th>7</th>\n",
       "      <td>0</td>\n",
       "      <td>-152.779569</td>\n",
       "      <td>50</td>\n",
       "      <td>СРЕДНЕЕ</td>\n",
       "      <td>1</td>\n",
       "      <td>женат / замужем</td>\n",
       "      <td>0</td>\n",
       "      <td>M</td>\n",
       "      <td>сотрудник</td>\n",
       "      <td>0</td>\n",
       "      <td>135823.934197</td>\n",
       "      <td>образование</td>\n",
       "    </tr>\n",
       "    <tr>\n",
       "      <th>8</th>\n",
       "      <td>2</td>\n",
       "      <td>-6929.865299</td>\n",
       "      <td>35</td>\n",
       "      <td>ВЫСШЕЕ</td>\n",
       "      <td>0</td>\n",
       "      <td>гражданский брак</td>\n",
       "      <td>1</td>\n",
       "      <td>F</td>\n",
       "      <td>сотрудник</td>\n",
       "      <td>0</td>\n",
       "      <td>95856.832424</td>\n",
       "      <td>на проведение свадьбы</td>\n",
       "    </tr>\n",
       "    <tr>\n",
       "      <th>9</th>\n",
       "      <td>0</td>\n",
       "      <td>-2188.756445</td>\n",
       "      <td>41</td>\n",
       "      <td>среднее</td>\n",
       "      <td>1</td>\n",
       "      <td>женат / замужем</td>\n",
       "      <td>0</td>\n",
       "      <td>M</td>\n",
       "      <td>сотрудник</td>\n",
       "      <td>0</td>\n",
       "      <td>144425.938277</td>\n",
       "      <td>покупка жилья для семьи</td>\n",
       "    </tr>\n",
       "    <tr>\n",
       "      <th>10</th>\n",
       "      <td>2</td>\n",
       "      <td>-4171.483647</td>\n",
       "      <td>36</td>\n",
       "      <td>высшее</td>\n",
       "      <td>0</td>\n",
       "      <td>женат / замужем</td>\n",
       "      <td>0</td>\n",
       "      <td>M</td>\n",
       "      <td>компаньон</td>\n",
       "      <td>0</td>\n",
       "      <td>113943.491460</td>\n",
       "      <td>покупка недвижимости</td>\n",
       "    </tr>\n",
       "    <tr>\n",
       "      <th>11</th>\n",
       "      <td>0</td>\n",
       "      <td>-792.701887</td>\n",
       "      <td>40</td>\n",
       "      <td>среднее</td>\n",
       "      <td>1</td>\n",
       "      <td>женат / замужем</td>\n",
       "      <td>0</td>\n",
       "      <td>F</td>\n",
       "      <td>сотрудник</td>\n",
       "      <td>0</td>\n",
       "      <td>77069.234271</td>\n",
       "      <td>покупка коммерческой недвижимости</td>\n",
       "    </tr>\n",
       "    <tr>\n",
       "      <th>12</th>\n",
       "      <td>0</td>\n",
       "      <td>NaN</td>\n",
       "      <td>65</td>\n",
       "      <td>среднее</td>\n",
       "      <td>1</td>\n",
       "      <td>гражданский брак</td>\n",
       "      <td>1</td>\n",
       "      <td>M</td>\n",
       "      <td>пенсионер</td>\n",
       "      <td>0</td>\n",
       "      <td>NaN</td>\n",
       "      <td>сыграть свадьбу</td>\n",
       "    </tr>\n",
       "    <tr>\n",
       "      <th>13</th>\n",
       "      <td>0</td>\n",
       "      <td>-1846.641941</td>\n",
       "      <td>54</td>\n",
       "      <td>неоконченное высшее</td>\n",
       "      <td>2</td>\n",
       "      <td>женат / замужем</td>\n",
       "      <td>0</td>\n",
       "      <td>F</td>\n",
       "      <td>сотрудник</td>\n",
       "      <td>0</td>\n",
       "      <td>130458.228857</td>\n",
       "      <td>приобретение автомобиля</td>\n",
       "    </tr>\n",
       "    <tr>\n",
       "      <th>14</th>\n",
       "      <td>0</td>\n",
       "      <td>-1844.956182</td>\n",
       "      <td>56</td>\n",
       "      <td>высшее</td>\n",
       "      <td>0</td>\n",
       "      <td>гражданский брак</td>\n",
       "      <td>1</td>\n",
       "      <td>F</td>\n",
       "      <td>компаньон</td>\n",
       "      <td>1</td>\n",
       "      <td>165127.911772</td>\n",
       "      <td>покупка жилой недвижимости</td>\n",
       "    </tr>\n",
       "    <tr>\n",
       "      <th>15</th>\n",
       "      <td>1</td>\n",
       "      <td>-972.364419</td>\n",
       "      <td>26</td>\n",
       "      <td>среднее</td>\n",
       "      <td>1</td>\n",
       "      <td>женат / замужем</td>\n",
       "      <td>0</td>\n",
       "      <td>F</td>\n",
       "      <td>сотрудник</td>\n",
       "      <td>0</td>\n",
       "      <td>116820.904450</td>\n",
       "      <td>строительство собственной недвижимости</td>\n",
       "    </tr>\n",
       "    <tr>\n",
       "      <th>16</th>\n",
       "      <td>0</td>\n",
       "      <td>-1719.934226</td>\n",
       "      <td>35</td>\n",
       "      <td>среднее</td>\n",
       "      <td>1</td>\n",
       "      <td>женат / замужем</td>\n",
       "      <td>0</td>\n",
       "      <td>F</td>\n",
       "      <td>сотрудник</td>\n",
       "      <td>0</td>\n",
       "      <td>289202.704229</td>\n",
       "      <td>недвижимость</td>\n",
       "    </tr>\n",
       "    <tr>\n",
       "      <th>17</th>\n",
       "      <td>0</td>\n",
       "      <td>-2369.999720</td>\n",
       "      <td>33</td>\n",
       "      <td>высшее</td>\n",
       "      <td>0</td>\n",
       "      <td>гражданский брак</td>\n",
       "      <td>1</td>\n",
       "      <td>M</td>\n",
       "      <td>сотрудник</td>\n",
       "      <td>0</td>\n",
       "      <td>90410.586745</td>\n",
       "      <td>строительство недвижимости</td>\n",
       "    </tr>\n",
       "    <tr>\n",
       "      <th>18</th>\n",
       "      <td>0</td>\n",
       "      <td>400281.136913</td>\n",
       "      <td>53</td>\n",
       "      <td>среднее</td>\n",
       "      <td>1</td>\n",
       "      <td>вдовец / вдова</td>\n",
       "      <td>2</td>\n",
       "      <td>F</td>\n",
       "      <td>пенсионер</td>\n",
       "      <td>0</td>\n",
       "      <td>56823.777243</td>\n",
       "      <td>на покупку подержанного автомобиля</td>\n",
       "    </tr>\n",
       "    <tr>\n",
       "      <th>19</th>\n",
       "      <td>0</td>\n",
       "      <td>-10038.818549</td>\n",
       "      <td>48</td>\n",
       "      <td>СРЕДНЕЕ</td>\n",
       "      <td>1</td>\n",
       "      <td>в разводе</td>\n",
       "      <td>3</td>\n",
       "      <td>F</td>\n",
       "      <td>сотрудник</td>\n",
       "      <td>0</td>\n",
       "      <td>242831.107982</td>\n",
       "      <td>на покупку своего автомобиля</td>\n",
       "    </tr>\n",
       "  </tbody>\n",
       "</table>\n",
       "</div>"
      ],
      "text/plain": [
       "    children  days_employed  dob_years            education  education_id  \\\n",
       "0          1   -8437.673028         42               высшее             0   \n",
       "1          1   -4024.803754         36              среднее             1   \n",
       "2          0   -5623.422610         33              Среднее             1   \n",
       "3          3   -4124.747207         32              среднее             1   \n",
       "4          0  340266.072047         53              среднее             1   \n",
       "5          0    -926.185831         27               высшее             0   \n",
       "6          0   -2879.202052         43               высшее             0   \n",
       "7          0    -152.779569         50              СРЕДНЕЕ             1   \n",
       "8          2   -6929.865299         35               ВЫСШЕЕ             0   \n",
       "9          0   -2188.756445         41              среднее             1   \n",
       "10         2   -4171.483647         36               высшее             0   \n",
       "11         0    -792.701887         40              среднее             1   \n",
       "12         0            NaN         65              среднее             1   \n",
       "13         0   -1846.641941         54  неоконченное высшее             2   \n",
       "14         0   -1844.956182         56               высшее             0   \n",
       "15         1    -972.364419         26              среднее             1   \n",
       "16         0   -1719.934226         35              среднее             1   \n",
       "17         0   -2369.999720         33               высшее             0   \n",
       "18         0  400281.136913         53              среднее             1   \n",
       "19         0  -10038.818549         48              СРЕДНЕЕ             1   \n",
       "\n",
       "       family_status  family_status_id gender income_type  debt  \\\n",
       "0    женат / замужем                 0      F   сотрудник     0   \n",
       "1    женат / замужем                 0      F   сотрудник     0   \n",
       "2    женат / замужем                 0      M   сотрудник     0   \n",
       "3    женат / замужем                 0      M   сотрудник     0   \n",
       "4   гражданский брак                 1      F   пенсионер     0   \n",
       "5   гражданский брак                 1      M   компаньон     0   \n",
       "6    женат / замужем                 0      F   компаньон     0   \n",
       "7    женат / замужем                 0      M   сотрудник     0   \n",
       "8   гражданский брак                 1      F   сотрудник     0   \n",
       "9    женат / замужем                 0      M   сотрудник     0   \n",
       "10   женат / замужем                 0      M   компаньон     0   \n",
       "11   женат / замужем                 0      F   сотрудник     0   \n",
       "12  гражданский брак                 1      M   пенсионер     0   \n",
       "13   женат / замужем                 0      F   сотрудник     0   \n",
       "14  гражданский брак                 1      F   компаньон     1   \n",
       "15   женат / замужем                 0      F   сотрудник     0   \n",
       "16   женат / замужем                 0      F   сотрудник     0   \n",
       "17  гражданский брак                 1      M   сотрудник     0   \n",
       "18    вдовец / вдова                 2      F   пенсионер     0   \n",
       "19         в разводе                 3      F   сотрудник     0   \n",
       "\n",
       "     total_income                                 purpose  \n",
       "0   253875.639453                           покупка жилья  \n",
       "1   112080.014102                 приобретение автомобиля  \n",
       "2   145885.952297                           покупка жилья  \n",
       "3   267628.550329              дополнительное образование  \n",
       "4   158616.077870                         сыграть свадьбу  \n",
       "5   255763.565419                           покупка жилья  \n",
       "6   240525.971920                       операции с жильем  \n",
       "7   135823.934197                             образование  \n",
       "8    95856.832424                   на проведение свадьбы  \n",
       "9   144425.938277                 покупка жилья для семьи  \n",
       "10  113943.491460                    покупка недвижимости  \n",
       "11   77069.234271       покупка коммерческой недвижимости  \n",
       "12            NaN                         сыграть свадьбу  \n",
       "13  130458.228857                 приобретение автомобиля  \n",
       "14  165127.911772              покупка жилой недвижимости  \n",
       "15  116820.904450  строительство собственной недвижимости  \n",
       "16  289202.704229                            недвижимость  \n",
       "17   90410.586745              строительство недвижимости  \n",
       "18   56823.777243      на покупку подержанного автомобиля  \n",
       "19  242831.107982            на покупку своего автомобиля  "
      ]
     },
     "execution_count": 2,
     "metadata": {},
     "output_type": "execute_result"
    }
   ],
   "source": [
    "data.head(20)"
   ]
  },
  {
   "cell_type": "markdown",
   "id": "1c12e233",
   "metadata": {
    "deletable": false,
    "id": "1c12e233"
   },
   "source": [
    "**Задание 3. Выведите основную информацию о датафрейме с помощью метода `info()`.**"
   ]
  },
  {
   "cell_type": "code",
   "execution_count": 3,
   "id": "2b757bca",
   "metadata": {
    "deletable": false,
    "id": "2b757bca",
    "outputId": "15376089-8dad-46c9-b520-c05248d43158"
   },
   "outputs": [
    {
     "name": "stdout",
     "output_type": "stream",
     "text": [
      "<class 'pandas.core.frame.DataFrame'>\n",
      "RangeIndex: 21525 entries, 0 to 21524\n",
      "Data columns (total 12 columns):\n",
      " #   Column            Non-Null Count  Dtype  \n",
      "---  ------            --------------  -----  \n",
      " 0   children          21525 non-null  int64  \n",
      " 1   days_employed     19351 non-null  float64\n",
      " 2   dob_years         21525 non-null  int64  \n",
      " 3   education         21525 non-null  object \n",
      " 4   education_id      21525 non-null  int64  \n",
      " 5   family_status     21525 non-null  object \n",
      " 6   family_status_id  21525 non-null  int64  \n",
      " 7   gender            21525 non-null  object \n",
      " 8   income_type       21525 non-null  object \n",
      " 9   debt              21525 non-null  int64  \n",
      " 10  total_income      19351 non-null  float64\n",
      " 11  purpose           21525 non-null  object \n",
      "dtypes: float64(2), int64(5), object(5)\n",
      "memory usage: 2.0+ MB\n"
     ]
    }
   ],
   "source": [
    "data.info()"
   ]
  },
  {
   "cell_type": "markdown",
   "id": "333ec665",
   "metadata": {
    "deletable": false,
    "id": "333ec665"
   },
   "source": [
    "## Предобработка данных"
   ]
  },
  {
   "cell_type": "markdown",
   "id": "02d92d53",
   "metadata": {
    "deletable": false,
    "id": "02d92d53"
   },
   "source": [
    "### Удаление пропусков"
   ]
  },
  {
   "cell_type": "markdown",
   "id": "cd84967c",
   "metadata": {
    "deletable": false,
    "id": "cd84967c"
   },
   "source": [
    "**Задание 4. Выведите количество пропущенных значений для каждого столбца. Используйте комбинацию двух методов.**"
   ]
  },
  {
   "cell_type": "code",
   "execution_count": 4,
   "id": "7f9b2309",
   "metadata": {
    "deletable": false,
    "id": "7f9b2309",
    "outputId": "81f4d817-781c-465c-ed15-91ce4446810d"
   },
   "outputs": [
    {
     "data": {
      "text/plain": [
       "children               0\n",
       "days_employed       2174\n",
       "dob_years              0\n",
       "education              0\n",
       "education_id           0\n",
       "family_status          0\n",
       "family_status_id       0\n",
       "gender                 0\n",
       "income_type            0\n",
       "debt                   0\n",
       "total_income        2174\n",
       "purpose                0\n",
       "dtype: int64"
      ]
     },
     "execution_count": 4,
     "metadata": {},
     "output_type": "execute_result"
    }
   ],
   "source": [
    "data.isna().sum()"
   ]
  },
  {
   "cell_type": "markdown",
   "id": "db86e27b",
   "metadata": {
    "deletable": false,
    "id": "db86e27b"
   },
   "source": [
    "**Задание 5. В двух столбцах есть пропущенные значения. Один из них — `days_employed`. Пропуски в этом столбце вы обработаете на следующем этапе. Другой столбец с пропущенными значениями — `total_income` — хранит данные о доходах. На сумму дохода сильнее всего влияет тип занятости, поэтому заполнить пропуски в этом столбце нужно медианным значением по каждому типу из столбца `income_type`. Например, у человека с типом занятости `сотрудник` пропуск в столбце `total_income` должен быть заполнен медианным доходом среди всех записей с тем же типом.**"
   ]
  },
  {
   "cell_type": "code",
   "execution_count": 5,
   "id": "42006a93",
   "metadata": {
    "deletable": false,
    "id": "42006a93"
   },
   "outputs": [],
   "source": [
    "for t in data['income_type'].unique():\n",
    "    data.loc[(data['income_type'] == t) & (data['total_income'].isna()), 'total_income'] = \\\n",
    "    data.loc[(data['income_type'] == t), 'total_income'].median()"
   ]
  },
  {
   "cell_type": "markdown",
   "id": "89da5ece",
   "metadata": {
    "deletable": false,
    "id": "89da5ece"
   },
   "source": [
    "### Обработка аномальных значений"
   ]
  },
  {
   "cell_type": "markdown",
   "id": "57964554",
   "metadata": {
    "deletable": false,
    "id": "57964554"
   },
   "source": [
    "**Задание 6. В данных могут встречаться артефакты (аномалии) — значения, которые не отражают действительность и появились по какой-то ошибке. таким артефактом будет отрицательное количество дней трудового стажа в столбце `days_employed`. Для реальных данных это нормально. Обработайте значения в этом столбце: замените все отрицательные значения положительными с помощью метода `abs()`.**"
   ]
  },
  {
   "cell_type": "code",
   "execution_count": 6,
   "id": "f6f055bf",
   "metadata": {
    "deletable": false,
    "id": "f6f055bf"
   },
   "outputs": [],
   "source": [
    "data['days_employed'] = data['days_employed'].abs()"
   ]
  },
  {
   "cell_type": "markdown",
   "id": "6107dd2f",
   "metadata": {
    "deletable": false,
    "id": "6107dd2f"
   },
   "source": [
    "**Задание 7. Для каждого типа занятости выведите медианное значение трудового стажа `days_employed` в днях.**"
   ]
  },
  {
   "cell_type": "code",
   "execution_count": 7,
   "id": "85a5faf6",
   "metadata": {
    "deletable": false,
    "id": "85a5faf6",
    "outputId": "801ef80e-522b-4668-f34e-565af7432bcf"
   },
   "outputs": [
    {
     "data": {
      "text/plain": [
       "income_type\n",
       "безработный        366413.652744\n",
       "в декрете            3296.759962\n",
       "госслужащий          2689.368353\n",
       "компаньон            1547.382223\n",
       "пенсионер          365213.306266\n",
       "предприниматель       520.848083\n",
       "сотрудник            1574.202821\n",
       "студент               578.751554\n",
       "Name: days_employed, dtype: float64"
      ]
     },
     "execution_count": 7,
     "metadata": {},
     "output_type": "execute_result"
    }
   ],
   "source": [
    "data.groupby('income_type')['days_employed'].agg('median')"
   ]
  },
  {
   "cell_type": "markdown",
   "id": "38d1a030",
   "metadata": {
    "deletable": false,
    "id": "38d1a030"
   },
   "source": [
    "У двух типов (безработные и пенсионеры) получатся аномально большие значения. Исправить такие значения сложно, поэтому оставьте их как есть. Тем более этот столбец не понадобится вам для исследования."
   ]
  },
  {
   "cell_type": "markdown",
   "id": "d8a9f147",
   "metadata": {
    "deletable": false,
    "id": "d8a9f147"
   },
   "source": [
    "**Задание 8. Выведите перечень уникальных значений столбца `children`.**"
   ]
  },
  {
   "cell_type": "code",
   "execution_count": 8,
   "id": "ef5056eb",
   "metadata": {
    "deletable": false,
    "id": "ef5056eb",
    "outputId": "6975b15c-7f95-4697-d16d-a0c79b657b03"
   },
   "outputs": [
    {
     "data": {
      "text/plain": [
       "array([ 1,  0,  3,  2, -1,  4, 20,  5])"
      ]
     },
     "execution_count": 8,
     "metadata": {},
     "output_type": "execute_result"
    }
   ],
   "source": [
    "data['children'].unique()"
   ]
  },
  {
   "cell_type": "markdown",
   "id": "40b9ebf2",
   "metadata": {
    "deletable": false,
    "id": "40b9ebf2"
   },
   "source": [
    "**Задание 9. В столбце `children` есть два аномальных значения. Удалите строки, в которых встречаются такие аномальные значения из датафрейма `data`.**"
   ]
  },
  {
   "cell_type": "code",
   "execution_count": 9,
   "id": "3ff9801d",
   "metadata": {
    "deletable": false,
    "id": "3ff9801d"
   },
   "outputs": [],
   "source": [
    "data = data[(data['children'] != -1) & (data['children'] != 20)]"
   ]
  },
  {
   "cell_type": "markdown",
   "id": "bbc4d0ce",
   "metadata": {
    "deletable": false,
    "id": "bbc4d0ce"
   },
   "source": [
    "**Задание 10. Ещё раз выведите перечень уникальных значений столбца `children`, чтобы убедиться, что артефакты удалены.**"
   ]
  },
  {
   "cell_type": "code",
   "execution_count": 10,
   "id": "ad4fa8b7",
   "metadata": {
    "deletable": false,
    "id": "ad4fa8b7",
    "outputId": "b2097101-d49d-44d9-901b-32a65c9463d1"
   },
   "outputs": [
    {
     "data": {
      "text/plain": [
       "array([1, 0, 3, 2, 4, 5])"
      ]
     },
     "execution_count": 10,
     "metadata": {},
     "output_type": "execute_result"
    }
   ],
   "source": [
    "data['children'].unique()"
   ]
  },
  {
   "cell_type": "markdown",
   "id": "75440b63",
   "metadata": {
    "deletable": false,
    "id": "75440b63"
   },
   "source": [
    "### Удаление пропусков (продолжение)"
   ]
  },
  {
   "cell_type": "markdown",
   "id": "f4ea573f",
   "metadata": {
    "deletable": false,
    "id": "f4ea573f"
   },
   "source": [
    "**Задание 11. Заполните пропуски в столбце `days_employed` медианными значениями по каждого типа занятости `income_type`.**"
   ]
  },
  {
   "cell_type": "code",
   "execution_count": 11,
   "id": "af6b1a7e",
   "metadata": {
    "deletable": false,
    "id": "af6b1a7e"
   },
   "outputs": [],
   "source": [
    "for t in data['income_type'].unique():\n",
    "    data.loc[(data['income_type'] == t) & (data['days_employed'].isna()), 'days_employed'] = \\\n",
    "    data.loc[(data['income_type'] == t), 'days_employed'].median()"
   ]
  },
  {
   "cell_type": "markdown",
   "id": "2753f40d",
   "metadata": {
    "deletable": false,
    "id": "2753f40d"
   },
   "source": [
    "**Задание 12. Убедитесь, что все пропуски заполнены. Проверьте себя и ещё раз выведите количество пропущенных значений для каждого столбца с помощью двух методов.**"
   ]
  },
  {
   "cell_type": "code",
   "execution_count": 12,
   "id": "55f78bc2",
   "metadata": {
    "deletable": false,
    "id": "55f78bc2",
    "outputId": "8da1e4e1-358e-4e87-98c9-f261bce0a7b2"
   },
   "outputs": [
    {
     "data": {
      "text/plain": [
       "children            0\n",
       "days_employed       0\n",
       "dob_years           0\n",
       "education           0\n",
       "education_id        0\n",
       "family_status       0\n",
       "family_status_id    0\n",
       "gender              0\n",
       "income_type         0\n",
       "debt                0\n",
       "total_income        0\n",
       "purpose             0\n",
       "dtype: int64"
      ]
     },
     "execution_count": 12,
     "metadata": {},
     "output_type": "execute_result"
    }
   ],
   "source": [
    "data.isna().sum()"
   ]
  },
  {
   "cell_type": "markdown",
   "id": "ddc81e43",
   "metadata": {
    "deletable": false,
    "id": "ddc81e43"
   },
   "source": [
    "### Изменение типов данных"
   ]
  },
  {
   "cell_type": "markdown",
   "id": "42d19d24",
   "metadata": {
    "deletable": false,
    "id": "42d19d24"
   },
   "source": [
    "**Задание 13. Замените вещественный тип данных в столбце `total_income` на целочисленный с помощью метода `astype()`.**"
   ]
  },
  {
   "cell_type": "code",
   "execution_count": 13,
   "id": "920b65ad",
   "metadata": {
    "deletable": false,
    "id": "920b65ad"
   },
   "outputs": [],
   "source": [
    "data['total_income'] = data['total_income'].astype(int)"
   ]
  },
  {
   "cell_type": "markdown",
   "id": "80c420ba",
   "metadata": {
    "deletable": false,
    "id": "80c420ba"
   },
   "source": [
    "### Обработка дубликатов"
   ]
  },
  {
   "cell_type": "markdown",
   "id": "dc587695",
   "metadata": {
    "deletable": false,
    "id": "dc587695"
   },
   "source": [
    "**Задание 14. Выведите на экран количество строк-дубликатов в данных. Если такие строки присутствуют, удалите их.**"
   ]
  },
  {
   "cell_type": "code",
   "execution_count": 14,
   "id": "3ee445e4",
   "metadata": {
    "deletable": false,
    "id": "3ee445e4",
    "outputId": "9684deba-1934-42d1-99e1-cda61740f822"
   },
   "outputs": [
    {
     "data": {
      "text/plain": [
       "54"
      ]
     },
     "execution_count": 14,
     "metadata": {},
     "output_type": "execute_result"
    }
   ],
   "source": [
    "data.duplicated().sum()"
   ]
  },
  {
   "cell_type": "code",
   "execution_count": 15,
   "id": "8575fe05",
   "metadata": {
    "deletable": false,
    "id": "8575fe05"
   },
   "outputs": [],
   "source": [
    "data = data.drop_duplicates()"
   ]
  },
  {
   "cell_type": "markdown",
   "id": "9771a76c",
   "metadata": {
    "deletable": false,
    "id": "9771a76c"
   },
   "source": [
    "**Задание 15. Обработайте неявные дубликаты в столбце `education`. В этом столбце есть одни и те же значения, но записанные по-разному: с использованием заглавных и строчных букв. Приведите их к нижнему регистру. Проверьте остальные столбцы.**"
   ]
  },
  {
   "cell_type": "code",
   "execution_count": 16,
   "id": "a9f8e2bf",
   "metadata": {
    "deletable": false,
    "id": "a9f8e2bf"
   },
   "outputs": [],
   "source": [
    "data['education'] = data['education'].str.lower()"
   ]
  },
  {
   "cell_type": "markdown",
   "id": "9904cf55",
   "metadata": {
    "deletable": false,
    "id": "9904cf55"
   },
   "source": [
    "### Категоризация данных"
   ]
  },
  {
   "cell_type": "markdown",
   "id": "72fcc8a2",
   "metadata": {
    "deletable": false,
    "id": "72fcc8a2"
   },
   "source": [
    "**Задание 16. На основании диапазонов, указанных ниже, создайте в датафрейме `data` столбец `total_income_category` с категориями:**\n",
    "\n",
    "- 0–30000 — `'E'`;\n",
    "- 30001–50000 — `'D'`;\n",
    "- 50001–200000 — `'C'`;\n",
    "- 200001–1000000 — `'B'`;\n",
    "- 1000001 и выше — `'A'`.\n",
    "\n",
    "\n",
    "**Например, кредитополучателю с доходом 25000 нужно назначить категорию `'E'`, а клиенту, получающему 235000, — `'B'`. Используйте собственную функцию с именем `categorize_income()` и метод `apply()`.**"
   ]
  },
  {
   "cell_type": "code",
   "execution_count": 17,
   "id": "e1771346",
   "metadata": {
    "deletable": false,
    "id": "e1771346"
   },
   "outputs": [],
   "source": [
    "def categorize_income(income):\n",
    "    try:\n",
    "        if 0 <= income <= 30000:\n",
    "            return 'E'\n",
    "        elif 30001 <= income <= 50000:\n",
    "            return 'D'\n",
    "        elif 50001 <= income <= 200000:\n",
    "            return 'C'\n",
    "        elif 200001 <= income <= 1000000:\n",
    "            return 'B'\n",
    "        elif income >= 1000001:\n",
    "            return 'A'\n",
    "    except:\n",
    "        pass"
   ]
  },
  {
   "cell_type": "code",
   "execution_count": 18,
   "id": "d5f3586d",
   "metadata": {
    "deletable": false,
    "id": "d5f3586d"
   },
   "outputs": [],
   "source": [
    "data['total_income_category'] = data['total_income'].apply(categorize_income)"
   ]
  },
  {
   "cell_type": "markdown",
   "id": "dde49b5c",
   "metadata": {
    "deletable": false,
    "id": "dde49b5c"
   },
   "source": [
    "**Задание 17. Выведите на экран перечень уникальных целей взятия кредита из столбца `purpose`.**"
   ]
  },
  {
   "cell_type": "code",
   "execution_count": 19,
   "id": "f67ce9b3",
   "metadata": {
    "deletable": false,
    "id": "f67ce9b3",
    "outputId": "673c12d9-7d7e-4ae0-9812-c622c89dd244"
   },
   "outputs": [
    {
     "data": {
      "text/plain": [
       "array(['покупка жилья', 'приобретение автомобиля',\n",
       "       'дополнительное образование', 'сыграть свадьбу',\n",
       "       'операции с жильем', 'образование', 'на проведение свадьбы',\n",
       "       'покупка жилья для семьи', 'покупка недвижимости',\n",
       "       'покупка коммерческой недвижимости', 'покупка жилой недвижимости',\n",
       "       'строительство собственной недвижимости', 'недвижимость',\n",
       "       'строительство недвижимости', 'на покупку подержанного автомобиля',\n",
       "       'на покупку своего автомобиля',\n",
       "       'операции с коммерческой недвижимостью',\n",
       "       'строительство жилой недвижимости', 'жилье',\n",
       "       'операции со своей недвижимостью', 'автомобили',\n",
       "       'заняться образованием', 'сделка с подержанным автомобилем',\n",
       "       'получение образования', 'автомобиль', 'свадьба',\n",
       "       'получение дополнительного образования', 'покупка своего жилья',\n",
       "       'операции с недвижимостью', 'получение высшего образования',\n",
       "       'свой автомобиль', 'сделка с автомобилем',\n",
       "       'профильное образование', 'высшее образование',\n",
       "       'покупка жилья для сдачи', 'на покупку автомобиля', 'ремонт жилью',\n",
       "       'заняться высшим образованием'], dtype=object)"
      ]
     },
     "execution_count": 19,
     "metadata": {},
     "output_type": "execute_result"
    }
   ],
   "source": [
    "data['purpose'].unique()"
   ]
  },
  {
   "cell_type": "markdown",
   "id": "85d0aef0",
   "metadata": {
    "deletable": false,
    "id": "85d0aef0"
   },
   "source": [
    "**Задание 18. Создайте функцию, которая на основании данных из столбца `purpose` сформирует новый столбец `purpose_category`, в который войдут следующие категории:**\n",
    "\n",
    "- `'операции с автомобилем'`,\n",
    "- `'операции с недвижимостью'`,\n",
    "- `'проведение свадьбы'`,\n",
    "- `'получение образования'`.\n",
    "\n",
    "**Например, если в столбце `purpose` находится подстрока `'на покупку автомобиля'`, то в столбце `purpose_category` должна появиться строка `'операции с автомобилем'`.**\n",
    "\n",
    "**Используйте собственную функцию с именем `categorize_purpose()` и метод `apply()`. Изучите данные в столбце `purpose` и определите, какие подстроки помогут вам правильно определить категорию.**"
   ]
  },
  {
   "cell_type": "code",
   "execution_count": 20,
   "id": "e149fab4",
   "metadata": {
    "deletable": false,
    "id": "e149fab4"
   },
   "outputs": [],
   "source": [
    "def categorize_purpose(row):\n",
    "    try:\n",
    "        if 'автом' in row:\n",
    "            return 'операции с автомобилем'\n",
    "        elif 'жил' in row or 'недвиж' in row:\n",
    "            return 'операции с недвижимостью'\n",
    "        elif 'свад' in row:\n",
    "            return 'проведение свадьбы'\n",
    "        elif 'образов' in row:\n",
    "            return 'получение образования'\n",
    "    except:\n",
    "        return 'нет категории'"
   ]
  },
  {
   "cell_type": "code",
   "execution_count": 21,
   "id": "bf36e69b",
   "metadata": {
    "deletable": false,
    "id": "bf36e69b"
   },
   "outputs": [],
   "source": [
    "data['purpose_category'] = data['purpose'].apply(categorize_purpose)"
   ]
  },
  {
   "cell_type": "markdown",
   "id": "09b242bf",
   "metadata": {
    "deletable": false,
    "editable": false,
    "id": "09b242bf"
   },
   "source": [
    "## Исследуйте данные и ответьте на вопросы"
   ]
  },
  {
   "cell_type": "markdown",
   "id": "c5d66278",
   "metadata": {
    "deletable": false,
    "editable": false,
    "id": "c5d66278"
   },
   "source": [
    "**Задание 19. Есть ли зависимость между количеством детей и возвратом кредита в срок?**"
   ]
  },
  {
   "cell_type": "code",
   "execution_count": 22,
   "id": "4ce42ee7",
   "metadata": {},
   "outputs": [
    {
     "name": "stdout",
     "output_type": "stream",
     "text": [
      "[1 0 3 2 4 5]\n"
     ]
    }
   ],
   "source": [
    "#Узнаем уникальные значения количества детей у дебитора\n",
    "print(data['children'].unique())   "
   ]
  },
  {
   "cell_type": "code",
   "execution_count": 23,
   "id": "2cacfc4a",
   "metadata": {
    "id": "2cacfc4a"
   },
   "outputs": [],
   "source": [
    "#Сортируем дебиторов на категории по количеству детей  \n",
    "def categorize_children_number(number):\n",
    "    try:\n",
    "        if 0 <= number < 1:\n",
    "            return 'без детей'\n",
    "        elif 1 >= number < 2:\n",
    "            return '1 ребенок'\n",
    "        elif 2 <= number < 3:\n",
    "            return '2 детей'\n",
    "        elif 3 <= number <= 5:\n",
    "            return '3-5 детей'\n",
    "        else:\n",
    "            return 'больше 5 детей'\n",
    "    except:\n",
    "        return (number)  "
   ]
  },
  {
   "cell_type": "code",
   "execution_count": 24,
   "id": "d87595be",
   "metadata": {},
   "outputs": [],
   "source": [
    "#Добавляем полученные значения в новый столбец с категориями по количеству детей\n",
    "data['children_category'] = data['children'].apply(categorize_children_number)"
   ]
  },
  {
   "cell_type": "code",
   "execution_count": 25,
   "id": "973e3fe3",
   "metadata": {},
   "outputs": [
    {
     "data": {
      "text/plain": [
       "без детей    14107\n",
       "1 ребенок     4809\n",
       "2 детей       2052\n",
       "3-5 детей      380\n",
       "Name: children_category, dtype: int64"
      ]
     },
     "execution_count": 25,
     "metadata": {},
     "output_type": "execute_result"
    }
   ],
   "source": [
    "#Считаем количество детей в каждой категории\n",
    "data['children_category'].value_counts()"
   ]
  },
  {
   "cell_type": "code",
   "execution_count": 26,
   "id": "3bbb837f",
   "metadata": {},
   "outputs": [
    {
     "data": {
      "text/html": [
       "<div>\n",
       "<style scoped>\n",
       "    .dataframe tbody tr th:only-of-type {\n",
       "        vertical-align: middle;\n",
       "    }\n",
       "\n",
       "    .dataframe tbody tr th {\n",
       "        vertical-align: top;\n",
       "    }\n",
       "\n",
       "    .dataframe thead th {\n",
       "        text-align: right;\n",
       "    }\n",
       "</style>\n",
       "<table border=\"1\" class=\"dataframe\">\n",
       "  <thead>\n",
       "    <tr style=\"text-align: right;\">\n",
       "      <th></th>\n",
       "      <th>count</th>\n",
       "      <th>sum</th>\n",
       "      <th>mean</th>\n",
       "    </tr>\n",
       "    <tr>\n",
       "      <th>children_category</th>\n",
       "      <th></th>\n",
       "      <th></th>\n",
       "      <th></th>\n",
       "    </tr>\n",
       "  </thead>\n",
       "  <tbody>\n",
       "    <tr>\n",
       "      <th>1 ребенок</th>\n",
       "      <td>4809</td>\n",
       "      <td>444</td>\n",
       "      <td>9.23</td>\n",
       "    </tr>\n",
       "    <tr>\n",
       "      <th>2 детей</th>\n",
       "      <td>2052</td>\n",
       "      <td>194</td>\n",
       "      <td>9.45</td>\n",
       "    </tr>\n",
       "    <tr>\n",
       "      <th>3-5 детей</th>\n",
       "      <td>380</td>\n",
       "      <td>31</td>\n",
       "      <td>8.16</td>\n",
       "    </tr>\n",
       "    <tr>\n",
       "      <th>без детей</th>\n",
       "      <td>14107</td>\n",
       "      <td>1063</td>\n",
       "      <td>7.54</td>\n",
       "    </tr>\n",
       "  </tbody>\n",
       "</table>\n",
       "</div>"
      ],
      "text/plain": [
       "                   count   sum  mean\n",
       "children_category                   \n",
       "1 ребенок           4809   444  9.23\n",
       "2 детей             2052   194  9.45\n",
       "3-5 детей            380    31  8.16\n",
       "без детей          14107  1063  7.54"
      ]
     },
     "metadata": {},
     "output_type": "display_data"
    }
   ],
   "source": [
    "#считаем долю должников в каждой категории\n",
    "grouped_debt_children = data.groupby('children_category').agg({'debt': ['count', 'sum', 'mean']})\n",
    "grouped_debt_children.columns = ['count', 'sum', 'mean']\n",
    "#преобразуем долю в проценты \n",
    "grouped_debt_children['mean'] = grouped_debt_children['mean'] *100\n",
    "#округляем\n",
    "grouped_debt_children = grouped_debt_children.round(2)\n",
    "\n",
    "display(grouped_debt_children)"
   ]
  },
  {
   "cell_type": "markdown",
   "id": "4e2627ae",
   "metadata": {},
   "source": [
    "<div class=\"alert alert-success\">\n",
    "<h2> Комментарий ревьюера ✔️ <a class=\"tocSkip\"> </h2>\n",
    "\n",
    "А вот как можно было украсить решение. Обрати внимание на [style](https://pandas.pydata.org/pandas-docs/stable/user_guide/style.html) библиотеки `pandas`. Там много прикольных штук для того, чтобы сделать датафрейм красивее 😊"
   ]
  },
  {
   "cell_type": "code",
   "execution_count": 27,
   "id": "cec86de1",
   "metadata": {},
   "outputs": [
    {
     "data": {
      "text/html": [
       "<style  type=\"text/css\" >\n",
       "</style><table id=\"T_c783a_\" ><thead>    <tr>        <th class=\"blank level0\" ></th>        <th class=\"col_heading level0 col0\" >Кол-во пользователей</th>        <th class=\"col_heading level0 col1\" >Кол-во должников</th>        <th class=\"col_heading level0 col2\" >% должников</th>        <th class=\"col_heading level0 col3\" >% НЕдолжников</th>    </tr>    <tr>        <th class=\"index_name level0\" >children_group</th>        <th class=\"blank\" ></th>        <th class=\"blank\" ></th>        <th class=\"blank\" ></th>        <th class=\"blank\" ></th>    </tr></thead><tbody>\n",
       "                <tr>\n",
       "                        <th id=\"T_c783a_level0_row0\" class=\"row_heading level0 row0\" >Дети есть</th>\n",
       "                        <td id=\"T_c783a_row0_col0\" class=\"data row0 col0\" >7241</td>\n",
       "                        <td id=\"T_c783a_row0_col1\" class=\"data row0 col1\" >669</td>\n",
       "                        <td id=\"T_c783a_row0_col2\" class=\"data row0 col2\" >9.24%</td>\n",
       "                        <td id=\"T_c783a_row0_col3\" class=\"data row0 col3\" >90.76%</td>\n",
       "            </tr>\n",
       "            <tr>\n",
       "                        <th id=\"T_c783a_level0_row1\" class=\"row_heading level0 row1\" >Нет детей</th>\n",
       "                        <td id=\"T_c783a_row1_col0\" class=\"data row1 col0\" >14107</td>\n",
       "                        <td id=\"T_c783a_row1_col1\" class=\"data row1 col1\" >1063</td>\n",
       "                        <td id=\"T_c783a_row1_col2\" class=\"data row1 col2\" >7.54%</td>\n",
       "                        <td id=\"T_c783a_row1_col3\" class=\"data row1 col3\" >92.46%</td>\n",
       "            </tr>\n",
       "    </tbody></table>"
      ],
      "text/plain": [
       "<pandas.io.formats.style.Styler at 0x7f5285ed00a0>"
      ]
     },
     "execution_count": 27,
     "metadata": {},
     "output_type": "execute_result"
    }
   ],
   "source": [
    "data['children_group'] = data['children'].apply(lambda x: 'Нет детей' if x == 0 else 'Дети есть')\n",
    "\n",
    "df_example = data.groupby('children_group')['debt'].agg(['count', 'sum', 'mean', lambda x: 1 - x.mean()])\n",
    "df_example.columns = ['Кол-во пользователей', 'Кол-во должников', '% должников', '% НЕдолжников']\n",
    "df_example.style.format({'% должников': '{:.2%}', '% НЕдолжников': '{:.2%}'})"
   ]
  },
  {
   "cell_type": "markdown",
   "id": "3a6b99ec",
   "metadata": {
    "deletable": false,
    "id": "3a6b99ec"
   },
   "source": [
    "**Вывод:** Количество должников во всех категориях примерерно одинаковое (максимальная разница 2%), что говорит, что зависимости между количеством детей дебитора и осуществлением возврата кредита в срок - нет "
   ]
  },
  {
   "cell_type": "markdown",
   "id": "10fa193b",
   "metadata": {},
   "source": [
    "<div class=\"alert alert-danger\">\n",
    "<h2> Комментарий ревьюера ❌ <a class=\"tocSkip\"> </h2>\n",
    "\n",
    "На самом деле, 2-3% зачастую для бизнеса - это существенно много. Если на 3% лучше выбирать, кому выдавать кредит, а кому нет, финансовые показатели заметно станут лучше. Т.е очень редко у нас (аналитиков и датасайнтистов) идет борьба за десятки процентов какого-то показателя, обычно мы пытаемся улучшить что-то на какие-то доли. Пересмотри, пожалуйста, результаты более внимательно (комментарий общий, для всего блока)"
   ]
  },
  {
   "cell_type": "markdown",
   "id": "40278bf0",
   "metadata": {},
   "source": [
    "<div class=\"alert alert-warning\">\n",
    "<h2> Комментарий студента 🧩 <a class=\"tocSkip\"> </h2>\n",
    "\n",
    "Новый вывод ниже:"
   ]
  },
  {
   "cell_type": "markdown",
   "id": "f84bd065",
   "metadata": {},
   "source": [
    "Вывод: Наличие детей у дебитора может пагубно оказаться на способности клиента оплатить задолженности по кредиту в срок"
   ]
  },
  {
   "cell_type": "markdown",
   "id": "40596884",
   "metadata": {},
   "source": [
    "<div class=\"alert alert-success\">\n",
    "<h2> Комментарий ревьюера v2 ✔️ <a class=\"tocSkip\"> </h2>\n",
    "\n",
    "Я бы еще цифрами это закрепил"
   ]
  },
  {
   "cell_type": "markdown",
   "id": "97be82ca",
   "metadata": {
    "deletable": false,
    "editable": false,
    "id": "97be82ca"
   },
   "source": [
    "**Задание 20. Есть ли зависимость между семейным положением и возвратом кредита в срок?**"
   ]
  },
  {
   "cell_type": "code",
   "execution_count": 28,
   "id": "dc3f7ee8",
   "metadata": {
    "id": "dc3f7ee8"
   },
   "outputs": [],
   "source": [
    "#Старый код\n",
    "#считаем долю должников в каждой категории\n",
    "#grouped_debt_family_status = data.groupby('family_status').agg({'debt': ['count', 'sum', 'mean']})\n",
    "#grouped_debt_family_status.columns = ['count', 'sum', 'mean']\n",
    "#преобразуем долю в проценты \n",
    "#grouped_debt_family_status['mean'] = grouped_debt_family_status['mean'] *100\n",
    "#округляем\n",
    "#grouped_debt_family_status = grouped_debt_family_status.round(2)\n",
    "\n",
    "#display(grouped_debt_family_status)"
   ]
  },
  {
   "cell_type": "markdown",
   "id": "71fb6e6b",
   "metadata": {},
   "source": [
    "<div class=\"alert alert-danger\">\n",
    "<h2> Комментарий ревьюера ❌ <a class=\"tocSkip\"> </h2>\n",
    "\n",
    "Альтернатива `groupby` - это [pivot_table](https://pandas.pydata.org/pandas-docs/stable/reference/api/pandas.pivot_table.html). Это очень популярный и нужный инструмент, важно иметь его в арсенале, и мне нужно убедиться, что ты умеешь им пользоваться. Реализуй то же самое используя `pivot_table()` и дай комментарии, какой из методов удобнее для тебя."
   ]
  },
  {
   "cell_type": "markdown",
   "id": "dbd2ac4d",
   "metadata": {},
   "source": [
    "<div class=\"alert alert-warning\">\n",
    "<h2> Комментарий студента 🧩 <a class=\"tocSkip\"> </h2>\n",
    " \n",
    "Метод `groupby` мне показался более удобным \n",
    "Новый код ниже :"
   ]
  },
  {
   "cell_type": "markdown",
   "id": "ba76ce0f",
   "metadata": {},
   "source": [
    "<div class=\"alert alert-success\">\n",
    "<h2> Комментарий ревьюера v2 ✔️ <a class=\"tocSkip\"> </h2>\n",
    "\n",
    "Каждому свое)"
   ]
  },
  {
   "cell_type": "code",
   "execution_count": 29,
   "id": "cc0d40dd",
   "metadata": {},
   "outputs": [
    {
     "data": {
      "text/html": [
       "<div>\n",
       "<style scoped>\n",
       "    .dataframe tbody tr th:only-of-type {\n",
       "        vertical-align: middle;\n",
       "    }\n",
       "\n",
       "    .dataframe tbody tr th {\n",
       "        vertical-align: top;\n",
       "    }\n",
       "\n",
       "    .dataframe thead th {\n",
       "        text-align: right;\n",
       "    }\n",
       "</style>\n",
       "<table border=\"1\" class=\"dataframe\">\n",
       "  <thead>\n",
       "    <tr style=\"text-align: right;\">\n",
       "      <th></th>\n",
       "      <th>Кол-во пользователей</th>\n",
       "      <th>Кол-во должников</th>\n",
       "      <th>% должников</th>\n",
       "    </tr>\n",
       "    <tr>\n",
       "      <th>family_status</th>\n",
       "      <th></th>\n",
       "      <th></th>\n",
       "      <th></th>\n",
       "    </tr>\n",
       "  </thead>\n",
       "  <tbody>\n",
       "    <tr>\n",
       "      <th>Не женат / не замужем</th>\n",
       "      <td>2796</td>\n",
       "      <td>273</td>\n",
       "      <td>9.76</td>\n",
       "    </tr>\n",
       "    <tr>\n",
       "      <th>в разводе</th>\n",
       "      <td>1189</td>\n",
       "      <td>84</td>\n",
       "      <td>7.06</td>\n",
       "    </tr>\n",
       "    <tr>\n",
       "      <th>вдовец / вдова</th>\n",
       "      <td>951</td>\n",
       "      <td>63</td>\n",
       "      <td>6.62</td>\n",
       "    </tr>\n",
       "    <tr>\n",
       "      <th>гражданский брак</th>\n",
       "      <td>4146</td>\n",
       "      <td>385</td>\n",
       "      <td>9.29</td>\n",
       "    </tr>\n",
       "    <tr>\n",
       "      <th>женат / замужем</th>\n",
       "      <td>12266</td>\n",
       "      <td>927</td>\n",
       "      <td>7.56</td>\n",
       "    </tr>\n",
       "  </tbody>\n",
       "</table>\n",
       "</div>"
      ],
      "text/plain": [
       "                       Кол-во пользователей  Кол-во должников  % должников\n",
       "family_status                                                             \n",
       "Не женат / не замужем                  2796               273         9.76\n",
       "в разводе                              1189                84         7.06\n",
       "вдовец / вдова                          951                63         6.62\n",
       "гражданский брак                       4146               385         9.29\n",
       "женат / замужем                       12266               927         7.56"
      ]
     },
     "metadata": {},
     "output_type": "display_data"
    }
   ],
   "source": [
    "grouped_debt_family_status = data.pivot_table(index=['family_status'], values='debt', aggfunc= ['count','sum','mean'])\n",
    "grouped_debt_family_status.columns = ['Кол-во пользователей', 'Кол-во должников', '% должников']\n",
    "grouped_debt_family_status['% должников'] = grouped_debt_family_status['% должников'] *100\n",
    "grouped_debt_family_status = grouped_debt_family_status.round(2)\n",
    "\n",
    "display(grouped_debt_family_status)"
   ]
  },
  {
   "cell_type": "markdown",
   "id": "1cef7837",
   "metadata": {
    "deletable": false,
    "id": "1cef7837"
   },
   "source": [
    "**Вывод:** Количество должников во всех категориях примерерно одинаковое (максимальная разница 3%), что говорит, что зависимости между семейным положением дебитора и осуществлением возврата кредита в срок - нет "
   ]
  },
  {
   "cell_type": "markdown",
   "id": "98914440",
   "metadata": {},
   "source": [
    "<div class=\"alert alert-warning\">\n",
    "<h2> Комментарий студента 🧩 <a class=\"tocSkip\"> </h2>\n",
    "\n",
    "Новый вывод ниже:"
   ]
  },
  {
   "cell_type": "markdown",
   "id": "d4994c41",
   "metadata": {},
   "source": [
    "**Вывод:** Семейные пары имеют большие трудности с своевременной выплатой задолженности по кредиту"
   ]
  },
  {
   "cell_type": "markdown",
   "id": "73f655bb",
   "metadata": {},
   "source": [
    "<div class=\"alert alert-success\">\n",
    "<h2> Комментарий ревьюера v2 ✔️ <a class=\"tocSkip\"> </h2>\n",
    "\n",
    "Оставлю еще [ссылку на Medium](https://medium.com/analytics-vidhya/the-ultimate-markdown-guide-for-jupyter-notebook-d5e5abf728fd), там очень круто расписаны Markdown, и еще вот такую [шпаргалку](https://paulradzkov.com/2014/markdown_cheatsheet/), вдруг понадобится 🙂\n",
    "    \n",
    "</div>"
   ]
  },
  {
   "cell_type": "markdown",
   "id": "1e8b2fca",
   "metadata": {
    "deletable": false,
    "editable": false,
    "id": "1e8b2fca"
   },
   "source": [
    "**Задание 21. Есть ли зависимость между уровнем дохода и возвратом кредита в срок?**"
   ]
  },
  {
   "cell_type": "markdown",
   "id": "3c0194e0",
   "metadata": {},
   "source": [
    "Так как уровень дохода у всех дебиторов абсолютно разный разделим их на категории   "
   ]
  },
  {
   "cell_type": "code",
   "execution_count": 30,
   "id": "6ff80275",
   "metadata": {},
   "outputs": [],
   "source": [
    "#Сортируем дебиторов на категории по количеству детей  \n",
    "def total_income_category(income):\n",
    "    try:\n",
    "        if 0 <= income < 30000:\n",
    "            return 'доход до 30к'\n",
    "        elif 30001 >= income < 50000:\n",
    "            return 'доход 30-50к'\n",
    "        elif 50001 <= income < 100000:\n",
    "            return 'доход 50-100к'\n",
    "        elif 100001 <= income <= 200000:\n",
    "            return 'доход 100-200к'\n",
    "        elif 200001 <= income <= 1000000:\n",
    "            return 'доход 200к - 1кк '\n",
    "        else:\n",
    "            return 'больше 1кк'\n",
    "    except:\n",
    "        return (income)  "
   ]
  },
  {
   "cell_type": "markdown",
   "id": "4eb8f401",
   "metadata": {},
   "source": [
    "<div class=\"alert alert-success\">\n",
    "<h2> Комментарий ревьюера ✔️ <a class=\"tocSkip\"> </h2>\n",
    "\n",
    "Здесь, наверное, стоит подумать над другой разбивкой, например, по процентилям. Слишком большая разница в кол-ве пользователей по группам. Тогда можно воспользоваться методами [cut](https://pandas.pydata.org/pandas-docs/stable/reference/api/pandas.cut.html) или [qcut](https://pandas.pydata.org/pandas-docs/stable/reference/api/pandas.qcut.html)(в этом случае деление будет проводиться по проценилям). Обрати внимание, у данного метода есть параметр `labels`, так можно оформить группы красивее 😊"
   ]
  },
  {
   "cell_type": "code",
   "execution_count": 31,
   "id": "34cd5a2e",
   "metadata": {},
   "outputs": [],
   "source": [
    "#Добавляем полученные значения в новый столбец с категориями по уровню дохода\n",
    "data['income_category'] = data['total_income'].apply(total_income_category)"
   ]
  },
  {
   "cell_type": "code",
   "execution_count": 32,
   "id": "2d4fd139",
   "metadata": {
    "id": "cd7e3720"
   },
   "outputs": [
    {
     "data": {
      "text/html": [
       "<div>\n",
       "<style scoped>\n",
       "    .dataframe tbody tr th:only-of-type {\n",
       "        vertical-align: middle;\n",
       "    }\n",
       "\n",
       "    .dataframe tbody tr th {\n",
       "        vertical-align: top;\n",
       "    }\n",
       "\n",
       "    .dataframe thead th {\n",
       "        text-align: right;\n",
       "    }\n",
       "</style>\n",
       "<table border=\"1\" class=\"dataframe\">\n",
       "  <thead>\n",
       "    <tr style=\"text-align: right;\">\n",
       "      <th></th>\n",
       "      <th>count</th>\n",
       "      <th>sum</th>\n",
       "      <th>mean</th>\n",
       "    </tr>\n",
       "    <tr>\n",
       "      <th>income_category</th>\n",
       "      <th></th>\n",
       "      <th></th>\n",
       "      <th></th>\n",
       "    </tr>\n",
       "  </thead>\n",
       "  <tbody>\n",
       "    <tr>\n",
       "      <th>больше 1кк</th>\n",
       "      <td>374</td>\n",
       "      <td>23</td>\n",
       "      <td>6.15</td>\n",
       "    </tr>\n",
       "    <tr>\n",
       "      <th>доход 100-200к</th>\n",
       "      <td>11865</td>\n",
       "      <td>1022</td>\n",
       "      <td>8.61</td>\n",
       "    </tr>\n",
       "    <tr>\n",
       "      <th>доход 200к - 1кк</th>\n",
       "      <td>5014</td>\n",
       "      <td>354</td>\n",
       "      <td>7.06</td>\n",
       "    </tr>\n",
       "    <tr>\n",
       "      <th>доход 50-100к</th>\n",
       "      <td>4073</td>\n",
       "      <td>331</td>\n",
       "      <td>8.13</td>\n",
       "    </tr>\n",
       "    <tr>\n",
       "      <th>доход до 30к</th>\n",
       "      <td>22</td>\n",
       "      <td>2</td>\n",
       "      <td>9.09</td>\n",
       "    </tr>\n",
       "  </tbody>\n",
       "</table>\n",
       "</div>"
      ],
      "text/plain": [
       "                   count   sum  mean\n",
       "income_category                     \n",
       "больше 1кк           374    23  6.15\n",
       "доход 100-200к     11865  1022  8.61\n",
       "доход 200к - 1кк    5014   354  7.06\n",
       "доход 50-100к       4073   331  8.13\n",
       "доход до 30к          22     2  9.09"
      ]
     },
     "metadata": {},
     "output_type": "display_data"
    }
   ],
   "source": [
    "#считаем долю должников в каждой категории\n",
    "grouped_debt_income_category = data.groupby('income_category').agg({'debt': ['count', 'sum', 'mean']})\n",
    "grouped_debt_income_category.columns = ['count', 'sum', 'mean']\n",
    "#преобразуем долю в проценты \n",
    "grouped_debt_income_category['mean'] = grouped_debt_income_category['mean'] *100\n",
    "#округляем\n",
    "grouped_debt_income_category = grouped_debt_income_category.round(2)\n",
    "\n",
    "display(grouped_debt_income_category)"
   ]
  },
  {
   "cell_type": "markdown",
   "id": "e8593def",
   "metadata": {
    "deletable": false,
    "id": "e8593def"
   },
   "source": [
    "**Вывод:** Количество должников во всех категориях примерерно одинаковое (максимальная разница 3%), что говорит, что существенной зависимости между уровнем дохода дебитора и осуществлением возврата кредита в срок - нет"
   ]
  },
  {
   "cell_type": "markdown",
   "id": "beab46bd",
   "metadata": {},
   "source": [
    "<div class=\"alert alert-warning\">\n",
    "<h2> Комментарий студента 🧩 <a class=\"tocSkip\"> </h2>\n",
    "\n",
    "Новый вывод ниже:"
   ]
  },
  {
   "cell_type": "markdown",
   "id": "3afb3f5e",
   "metadata": {},
   "source": [
    "**Вывод:** Наиболее часто берут кредиты клиенты с уровнем дохода от 100 до 200 тысяч, но они же испытывают наибольшие сложности с выплатой в срок, также как и люди с низним уровнем дохода"
   ]
  },
  {
   "cell_type": "markdown",
   "id": "99ecbd1f",
   "metadata": {
    "deletable": false,
    "editable": false,
    "id": "99ecbd1f"
   },
   "source": [
    "**Задание 22. Как разные цели кредита влияют на его возврат в срок?**"
   ]
  },
  {
   "cell_type": "code",
   "execution_count": 33,
   "id": "2b687290",
   "metadata": {
    "id": "2b687290"
   },
   "outputs": [
    {
     "data": {
      "text/html": [
       "<div>\n",
       "<style scoped>\n",
       "    .dataframe tbody tr th:only-of-type {\n",
       "        vertical-align: middle;\n",
       "    }\n",
       "\n",
       "    .dataframe tbody tr th {\n",
       "        vertical-align: top;\n",
       "    }\n",
       "\n",
       "    .dataframe thead th {\n",
       "        text-align: right;\n",
       "    }\n",
       "</style>\n",
       "<table border=\"1\" class=\"dataframe\">\n",
       "  <thead>\n",
       "    <tr style=\"text-align: right;\">\n",
       "      <th></th>\n",
       "      <th>count</th>\n",
       "      <th>sum</th>\n",
       "      <th>mean</th>\n",
       "    </tr>\n",
       "    <tr>\n",
       "      <th>purpose_category</th>\n",
       "      <th></th>\n",
       "      <th></th>\n",
       "      <th></th>\n",
       "    </tr>\n",
       "  </thead>\n",
       "  <tbody>\n",
       "    <tr>\n",
       "      <th>операции с автомобилем</th>\n",
       "      <td>4281</td>\n",
       "      <td>400</td>\n",
       "      <td>9.34</td>\n",
       "    </tr>\n",
       "    <tr>\n",
       "      <th>получение образования</th>\n",
       "      <td>3989</td>\n",
       "      <td>369</td>\n",
       "      <td>9.25</td>\n",
       "    </tr>\n",
       "    <tr>\n",
       "      <th>проведение свадьбы</th>\n",
       "      <td>2324</td>\n",
       "      <td>183</td>\n",
       "      <td>7.87</td>\n",
       "    </tr>\n",
       "    <tr>\n",
       "      <th>операции с недвижимостью</th>\n",
       "      <td>10754</td>\n",
       "      <td>780</td>\n",
       "      <td>7.25</td>\n",
       "    </tr>\n",
       "  </tbody>\n",
       "</table>\n",
       "</div>"
      ],
      "text/plain": [
       "                          count  sum  mean\n",
       "purpose_category                          \n",
       "операции с автомобилем     4281  400  9.34\n",
       "получение образования      3989  369  9.25\n",
       "проведение свадьбы         2324  183  7.87\n",
       "операции с недвижимостью  10754  780  7.25"
      ]
     },
     "metadata": {},
     "output_type": "display_data"
    }
   ],
   "source": [
    "#считаем долю должников в каждой категории\n",
    "#purpose_category определили в 18 задании \n",
    "grouped_debt_purpose = data.groupby('purpose_category').agg({'debt': ['count', 'sum', 'mean']})\n",
    "grouped_debt_purpose.columns = ['count', 'sum', 'mean']\n",
    "#преобразуем долю в проценты \n",
    "grouped_debt_purpose['mean'] = grouped_debt_purpose['mean'] *100\n",
    "#округляем\n",
    "grouped_debt_purpose = grouped_debt_purpose.sort_values(by = 'mean', ascending = False)\n",
    "grouped_debt_purpose = grouped_debt_purpose.round(2)\n",
    "display(grouped_debt_purpose)"
   ]
  },
  {
   "cell_type": "markdown",
   "id": "b4bb2ce6",
   "metadata": {
    "deletable": false,
    "id": "b4bb2ce6"
   },
   "source": [
    "**Вывод:** Количество должников во всех категориях примерерно одинаковое (максимальная разница 3%), что говорит, что существенной зависимости между целью получения кредита и осуществлением возврата в срок - нет"
   ]
  },
  {
   "cell_type": "markdown",
   "id": "cf199068",
   "metadata": {},
   "source": [
    "<div class=\"alert alert-warning\">\n",
    "<h2> Комментарий студента 🧩 <a class=\"tocSkip\"> </h2>\n",
    "\n",
    "Новый вывод ниже:"
   ]
  },
  {
   "cell_type": "markdown",
   "id": "ad9ca2c4",
   "metadata": {},
   "source": [
    "**Вывод:**  Самая популярная цель это \"недвижимость\". По ней так же и меньше всего просрочек с выплатами. Наибольшие сложности с своевременной выплатой испытывают дебиторы, целью кредита которых являлись \"операции с автомобилем\" и \"получение образования\" "
   ]
  },
  {
   "cell_type": "markdown",
   "id": "b8f2368a",
   "metadata": {},
   "source": [
    "<div style=\"border:solid purple 5px; padding: 20px\"> \n",
    "<h2 align=\"center\"> Рубрика «Питонячий лайфхакер» <a class=\"tocSkip\"> </h2>\n",
    "\n",
    "<h3> Широкоформатный Jupyter <a class=\"tocSkip\"> </h3>\n",
    "\n",
    "Расширяем границы, или как сделать работу более комфортной (не всем нравится 😄)\n",
    "\n",
    "    from IPython.core.display import display, HTML\n",
    "    display(HTML(\"<style>.container { width:90% !important; }</style>\"))"
   ]
  },
  {
   "cell_type": "markdown",
   "id": "09c3ac4c",
   "metadata": {
    "deletable": false,
    "editable": false,
    "id": "09c3ac4c"
   },
   "source": [
    "**Задание 23. Приведите возможные причины появления пропусков в исходных данных.**"
   ]
  },
  {
   "cell_type": "markdown",
   "id": "9da2ceda",
   "metadata": {
    "deletable": false,
    "id": "9da2ceda"
   },
   "source": [
    "*Ответ:* Технологические ошибки и человеческий фактор"
   ]
  },
  {
   "cell_type": "markdown",
   "id": "7b0487d6",
   "metadata": {
    "deletable": false,
    "editable": false,
    "id": "7b0487d6"
   },
   "source": [
    "**Задание 24. Объясните, почему заполнить пропуски медианным значением — лучшее решение для количественных переменных.**"
   ]
  },
  {
   "cell_type": "markdown",
   "id": "7ecf2b8e",
   "metadata": {
    "deletable": false,
    "id": "7ecf2b8e"
   },
   "source": [
    "*Ответ:* Медианные значения позволяют выводить результаты сильно не искажая действительности "
   ]
  },
  {
   "cell_type": "markdown",
   "id": "50a75da9",
   "metadata": {},
   "source": [
    "<div class=\"alert alert-success\">\n",
    "<h2> Комментарий ревьюера ✔️ <a class=\"tocSkip\"> </h2>\n",
    "\n",
    "Да, они устойчивы к выбросам"
   ]
  },
  {
   "cell_type": "markdown",
   "id": "6db5255a",
   "metadata": {
    "deletable": false,
    "editable": false,
    "id": "6db5255a"
   },
   "source": [
    "## Общий вывод."
   ]
  },
  {
   "cell_type": "markdown",
   "id": "bad65432",
   "metadata": {
    "id": "bad65432"
   },
   "source": [
    "В результате исследования данных кредитного отдела можно сделать вывод, что существенных факторов, вляющих на осуществление возврата кредита в срок - нет"
   ]
  },
  {
   "cell_type": "markdown",
   "id": "c5571bb3",
   "metadata": {},
   "source": [
    "<div class=\"alert alert-warning\">\n",
    "<h2> Комментарий студента 🧩 <a class=\"tocSkip\"> </h2>\n",
    "\n",
    "Новый вывод ниже:"
   ]
  },
  {
   "cell_type": "markdown",
   "id": "6d6a3458",
   "metadata": {},
   "source": [
    "Были рассмотрены несколько факторов, оказывающих вляение на возможность своевременной выплаты кредита. При оформлении нового кредита с клиентом стоит иметь в ввиду его уровень дохода, наличие детей, семейное положение и поставленные им цели "
   ]
  },
  {
   "cell_type": "markdown",
   "id": "87de36e9",
   "metadata": {},
   "source": [
    "<div class=\"alert alert-warning\">\n",
    "<h2> Комментарий ревьюера v2 ⚠️ <a class=\"tocSkip\"> </h2>\n",
    "\n",
    "Цифры, их не хватает. Слишком общий получается вывод..."
   ]
  },
  {
   "cell_type": "code",
   "execution_count": null,
   "id": "edc50455",
   "metadata": {},
   "outputs": [],
   "source": []
  }
 ],
 "metadata": {
  "ExecuteTimeLog": [
   {
    "duration": 41,
    "start_time": "2022-07-26T23:08:38.441Z"
   },
   {
    "duration": 393,
    "start_time": "2022-07-26T23:08:46.824Z"
   },
   {
    "duration": 18,
    "start_time": "2022-07-26T23:08:47.219Z"
   },
   {
    "duration": 12,
    "start_time": "2022-07-26T23:08:47.239Z"
   },
   {
    "duration": 22,
    "start_time": "2022-07-26T23:08:47.252Z"
   },
   {
    "duration": 29,
    "start_time": "2022-07-26T23:08:47.276Z"
   },
   {
    "duration": 3,
    "start_time": "2022-07-26T23:08:47.306Z"
   },
   {
    "duration": 9,
    "start_time": "2022-07-26T23:08:47.310Z"
   },
   {
    "duration": 3,
    "start_time": "2022-07-26T23:08:47.321Z"
   },
   {
    "duration": 10,
    "start_time": "2022-07-26T23:08:47.325Z"
   },
   {
    "duration": 4,
    "start_time": "2022-07-26T23:08:47.336Z"
   },
   {
    "duration": 54,
    "start_time": "2022-07-26T23:08:47.341Z"
   },
   {
    "duration": 8,
    "start_time": "2022-07-26T23:08:47.397Z"
   },
   {
    "duration": 5,
    "start_time": "2022-07-26T23:08:47.406Z"
   },
   {
    "duration": 17,
    "start_time": "2022-07-26T23:08:47.413Z"
   },
   {
    "duration": 15,
    "start_time": "2022-07-26T23:08:47.431Z"
   },
   {
    "duration": 27,
    "start_time": "2022-07-26T23:08:47.447Z"
   },
   {
    "duration": 6,
    "start_time": "2022-07-26T23:08:47.476Z"
   },
   {
    "duration": 10,
    "start_time": "2022-07-26T23:08:47.483Z"
   },
   {
    "duration": 6,
    "start_time": "2022-07-26T23:08:47.495Z"
   },
   {
    "duration": 4,
    "start_time": "2022-07-26T23:08:47.502Z"
   },
   {
    "duration": 19,
    "start_time": "2022-07-26T23:08:47.507Z"
   },
   {
    "duration": 71,
    "start_time": "2022-07-26T23:08:47.528Z"
   },
   {
    "duration": 0,
    "start_time": "2022-07-26T23:08:47.601Z"
   },
   {
    "duration": 0,
    "start_time": "2022-07-26T23:08:47.602Z"
   },
   {
    "duration": 0,
    "start_time": "2022-07-26T23:08:47.603Z"
   },
   {
    "duration": 0,
    "start_time": "2022-07-26T23:08:47.605Z"
   },
   {
    "duration": 427,
    "start_time": "2022-07-26T23:20:05.494Z"
   },
   {
    "duration": 22,
    "start_time": "2022-07-26T23:20:05.922Z"
   },
   {
    "duration": 16,
    "start_time": "2022-07-26T23:20:05.945Z"
   },
   {
    "duration": 14,
    "start_time": "2022-07-26T23:20:05.962Z"
   },
   {
    "duration": 41,
    "start_time": "2022-07-26T23:20:05.977Z"
   },
   {
    "duration": 4,
    "start_time": "2022-07-26T23:20:06.019Z"
   },
   {
    "duration": 21,
    "start_time": "2022-07-26T23:20:06.024Z"
   },
   {
    "duration": 5,
    "start_time": "2022-07-26T23:20:06.046Z"
   },
   {
    "duration": 21,
    "start_time": "2022-07-26T23:20:06.053Z"
   },
   {
    "duration": 7,
    "start_time": "2022-07-26T23:20:06.077Z"
   },
   {
    "duration": 42,
    "start_time": "2022-07-26T23:20:06.086Z"
   },
   {
    "duration": 9,
    "start_time": "2022-07-26T23:20:06.129Z"
   },
   {
    "duration": 6,
    "start_time": "2022-07-26T23:20:06.139Z"
   },
   {
    "duration": 18,
    "start_time": "2022-07-26T23:20:06.147Z"
   },
   {
    "duration": 15,
    "start_time": "2022-07-26T23:20:06.173Z"
   },
   {
    "duration": 10,
    "start_time": "2022-07-26T23:20:06.189Z"
   },
   {
    "duration": 7,
    "start_time": "2022-07-26T23:20:06.200Z"
   },
   {
    "duration": 15,
    "start_time": "2022-07-26T23:20:06.208Z"
   },
   {
    "duration": 5,
    "start_time": "2022-07-26T23:20:06.224Z"
   },
   {
    "duration": 4,
    "start_time": "2022-07-26T23:20:06.230Z"
   },
   {
    "duration": 11,
    "start_time": "2022-07-26T23:20:06.235Z"
   },
   {
    "duration": 25,
    "start_time": "2022-07-26T23:20:06.248Z"
   },
   {
    "duration": 54,
    "start_time": "2022-07-26T23:20:06.275Z"
   },
   {
    "duration": 0,
    "start_time": "2022-07-26T23:20:06.331Z"
   },
   {
    "duration": 0,
    "start_time": "2022-07-26T23:20:06.332Z"
   },
   {
    "duration": 0,
    "start_time": "2022-07-26T23:20:06.334Z"
   },
   {
    "duration": 0,
    "start_time": "2022-07-26T23:20:06.335Z"
   },
   {
    "duration": 0,
    "start_time": "2022-07-26T23:20:06.336Z"
   },
   {
    "duration": 48,
    "start_time": "2022-07-26T23:20:37.844Z"
   },
   {
    "duration": 469,
    "start_time": "2022-07-26T23:21:06.386Z"
   },
   {
    "duration": 20,
    "start_time": "2022-07-26T23:21:06.857Z"
   },
   {
    "duration": 14,
    "start_time": "2022-07-26T23:21:06.878Z"
   },
   {
    "duration": 8,
    "start_time": "2022-07-26T23:21:06.893Z"
   },
   {
    "duration": 31,
    "start_time": "2022-07-26T23:21:06.902Z"
   },
   {
    "duration": 3,
    "start_time": "2022-07-26T23:21:06.935Z"
   },
   {
    "duration": 12,
    "start_time": "2022-07-26T23:21:06.939Z"
   },
   {
    "duration": 24,
    "start_time": "2022-07-26T23:21:06.952Z"
   },
   {
    "duration": 19,
    "start_time": "2022-07-26T23:21:06.977Z"
   },
   {
    "duration": 4,
    "start_time": "2022-07-26T23:21:06.998Z"
   },
   {
    "duration": 31,
    "start_time": "2022-07-26T23:21:07.003Z"
   },
   {
    "duration": 8,
    "start_time": "2022-07-26T23:21:07.035Z"
   },
   {
    "duration": 29,
    "start_time": "2022-07-26T23:21:07.044Z"
   },
   {
    "duration": 17,
    "start_time": "2022-07-26T23:21:07.074Z"
   },
   {
    "duration": 15,
    "start_time": "2022-07-26T23:21:07.092Z"
   },
   {
    "duration": 10,
    "start_time": "2022-07-26T23:21:07.108Z"
   },
   {
    "duration": 7,
    "start_time": "2022-07-26T23:21:07.119Z"
   },
   {
    "duration": 11,
    "start_time": "2022-07-26T23:21:07.127Z"
   },
   {
    "duration": 34,
    "start_time": "2022-07-26T23:21:07.139Z"
   },
   {
    "duration": 3,
    "start_time": "2022-07-26T23:21:07.175Z"
   },
   {
    "duration": 11,
    "start_time": "2022-07-26T23:21:07.179Z"
   },
   {
    "duration": 9,
    "start_time": "2022-07-26T23:21:07.192Z"
   },
   {
    "duration": 4,
    "start_time": "2022-07-26T23:21:07.202Z"
   },
   {
    "duration": 11,
    "start_time": "2022-07-26T23:21:07.207Z"
   },
   {
    "duration": 6,
    "start_time": "2022-07-26T23:21:07.219Z"
   },
   {
    "duration": 5,
    "start_time": "2022-07-26T23:21:07.226Z"
   },
   {
    "duration": 12,
    "start_time": "2022-07-26T23:21:07.232Z"
   },
   {
    "duration": 9,
    "start_time": "2022-07-26T23:21:07.247Z"
   },
   {
    "duration": 9,
    "start_time": "2022-07-26T23:21:35.403Z"
   },
   {
    "duration": 83,
    "start_time": "2022-07-26T23:21:49.046Z"
   },
   {
    "duration": 13,
    "start_time": "2022-07-26T23:22:27.583Z"
   },
   {
    "duration": 69,
    "start_time": "2022-07-26T23:25:14.389Z"
   },
   {
    "duration": 13,
    "start_time": "2022-07-26T23:25:21.961Z"
   },
   {
    "duration": 45,
    "start_time": "2022-07-27T18:57:52.992Z"
   },
   {
    "duration": 6,
    "start_time": "2022-07-27T19:00:14.379Z"
   },
   {
    "duration": 469,
    "start_time": "2022-07-27T19:00:28.113Z"
   },
   {
    "duration": 22,
    "start_time": "2022-07-27T19:00:28.584Z"
   },
   {
    "duration": 13,
    "start_time": "2022-07-27T19:00:28.608Z"
   },
   {
    "duration": 7,
    "start_time": "2022-07-27T19:00:28.623Z"
   },
   {
    "duration": 34,
    "start_time": "2022-07-27T19:00:28.631Z"
   },
   {
    "duration": 3,
    "start_time": "2022-07-27T19:00:28.667Z"
   },
   {
    "duration": 11,
    "start_time": "2022-07-27T19:00:28.671Z"
   },
   {
    "duration": 4,
    "start_time": "2022-07-27T19:00:28.683Z"
   },
   {
    "duration": 9,
    "start_time": "2022-07-27T19:00:28.688Z"
   },
   {
    "duration": 4,
    "start_time": "2022-07-27T19:00:28.699Z"
   },
   {
    "duration": 51,
    "start_time": "2022-07-27T19:00:28.704Z"
   },
   {
    "duration": 7,
    "start_time": "2022-07-27T19:00:28.757Z"
   },
   {
    "duration": 8,
    "start_time": "2022-07-27T19:00:28.766Z"
   },
   {
    "duration": 17,
    "start_time": "2022-07-27T19:00:28.775Z"
   },
   {
    "duration": 15,
    "start_time": "2022-07-27T19:00:28.793Z"
   },
   {
    "duration": 9,
    "start_time": "2022-07-27T19:00:28.809Z"
   },
   {
    "duration": 5,
    "start_time": "2022-07-27T19:00:28.819Z"
   },
   {
    "duration": 33,
    "start_time": "2022-07-27T19:00:28.825Z"
   },
   {
    "duration": 5,
    "start_time": "2022-07-27T19:00:28.859Z"
   },
   {
    "duration": 6,
    "start_time": "2022-07-27T19:00:28.865Z"
   },
   {
    "duration": 10,
    "start_time": "2022-07-27T19:00:28.872Z"
   },
   {
    "duration": 3,
    "start_time": "2022-07-27T19:00:28.883Z"
   },
   {
    "duration": 5,
    "start_time": "2022-07-27T19:00:28.887Z"
   },
   {
    "duration": 8,
    "start_time": "2022-07-27T19:00:28.893Z"
   },
   {
    "duration": 6,
    "start_time": "2022-07-27T19:00:28.902Z"
   },
   {
    "duration": 86,
    "start_time": "2022-07-27T19:00:28.909Z"
   },
   {
    "duration": 0,
    "start_time": "2022-07-27T19:00:28.996Z"
   },
   {
    "duration": 0,
    "start_time": "2022-07-27T19:00:28.997Z"
   },
   {
    "duration": 0,
    "start_time": "2022-07-27T19:00:28.998Z"
   },
   {
    "duration": 431,
    "start_time": "2022-07-27T19:00:45.694Z"
   },
   {
    "duration": 26,
    "start_time": "2022-07-27T19:00:46.129Z"
   },
   {
    "duration": 15,
    "start_time": "2022-07-27T19:00:46.157Z"
   },
   {
    "duration": 13,
    "start_time": "2022-07-27T19:00:46.174Z"
   },
   {
    "duration": 37,
    "start_time": "2022-07-27T19:00:46.188Z"
   },
   {
    "duration": 4,
    "start_time": "2022-07-27T19:00:46.227Z"
   },
   {
    "duration": 11,
    "start_time": "2022-07-27T19:00:46.253Z"
   },
   {
    "duration": 7,
    "start_time": "2022-07-27T19:00:46.267Z"
   },
   {
    "duration": 9,
    "start_time": "2022-07-27T19:00:46.275Z"
   },
   {
    "duration": 11,
    "start_time": "2022-07-27T19:00:46.286Z"
   },
   {
    "duration": 29,
    "start_time": "2022-07-27T19:00:46.299Z"
   },
   {
    "duration": 23,
    "start_time": "2022-07-27T19:00:46.330Z"
   },
   {
    "duration": 15,
    "start_time": "2022-07-27T19:00:46.355Z"
   },
   {
    "duration": 26,
    "start_time": "2022-07-27T19:00:46.371Z"
   },
   {
    "duration": 19,
    "start_time": "2022-07-27T19:00:46.399Z"
   },
   {
    "duration": 10,
    "start_time": "2022-07-27T19:00:46.419Z"
   },
   {
    "duration": 4,
    "start_time": "2022-07-27T19:00:46.430Z"
   },
   {
    "duration": 19,
    "start_time": "2022-07-27T19:00:46.435Z"
   },
   {
    "duration": 19,
    "start_time": "2022-07-27T19:00:46.455Z"
   },
   {
    "duration": 22,
    "start_time": "2022-07-27T19:00:46.476Z"
   },
   {
    "duration": 25,
    "start_time": "2022-07-27T19:00:46.499Z"
   },
   {
    "duration": 18,
    "start_time": "2022-07-27T19:00:46.525Z"
   },
   {
    "duration": 5,
    "start_time": "2022-07-27T19:00:46.545Z"
   },
   {
    "duration": 23,
    "start_time": "2022-07-27T19:00:46.552Z"
   },
   {
    "duration": 25,
    "start_time": "2022-07-27T19:00:46.577Z"
   },
   {
    "duration": 30,
    "start_time": "2022-07-27T19:00:46.603Z"
   },
   {
    "duration": 3,
    "start_time": "2022-07-27T19:00:46.634Z"
   },
   {
    "duration": 19,
    "start_time": "2022-07-27T19:00:46.638Z"
   },
   {
    "duration": 10,
    "start_time": "2022-07-27T19:00:46.659Z"
   },
   {
    "duration": 22,
    "start_time": "2022-07-27T19:01:34.242Z"
   },
   {
    "duration": 410,
    "start_time": "2022-07-27T19:01:39.386Z"
   },
   {
    "duration": 20,
    "start_time": "2022-07-27T19:01:39.798Z"
   },
   {
    "duration": 13,
    "start_time": "2022-07-27T19:01:39.819Z"
   },
   {
    "duration": 22,
    "start_time": "2022-07-27T19:01:39.833Z"
   },
   {
    "duration": 28,
    "start_time": "2022-07-27T19:01:39.856Z"
   },
   {
    "duration": 3,
    "start_time": "2022-07-27T19:01:39.885Z"
   },
   {
    "duration": 12,
    "start_time": "2022-07-27T19:01:39.890Z"
   },
   {
    "duration": 3,
    "start_time": "2022-07-27T19:01:39.904Z"
   },
   {
    "duration": 8,
    "start_time": "2022-07-27T19:01:39.909Z"
   },
   {
    "duration": 3,
    "start_time": "2022-07-27T19:01:39.919Z"
   },
   {
    "duration": 53,
    "start_time": "2022-07-27T19:01:39.923Z"
   },
   {
    "duration": 8,
    "start_time": "2022-07-27T19:01:39.978Z"
   },
   {
    "duration": 4,
    "start_time": "2022-07-27T19:01:39.987Z"
   },
   {
    "duration": 17,
    "start_time": "2022-07-27T19:01:39.992Z"
   },
   {
    "duration": 15,
    "start_time": "2022-07-27T19:01:40.011Z"
   },
   {
    "duration": 32,
    "start_time": "2022-07-27T19:01:40.027Z"
   },
   {
    "duration": 6,
    "start_time": "2022-07-27T19:01:40.060Z"
   },
   {
    "duration": 11,
    "start_time": "2022-07-27T19:01:40.067Z"
   },
   {
    "duration": 8,
    "start_time": "2022-07-27T19:01:40.079Z"
   },
   {
    "duration": 3,
    "start_time": "2022-07-27T19:01:40.089Z"
   },
   {
    "duration": 11,
    "start_time": "2022-07-27T19:01:40.094Z"
   },
   {
    "duration": 3,
    "start_time": "2022-07-27T19:01:40.106Z"
   },
   {
    "duration": 4,
    "start_time": "2022-07-27T19:01:40.110Z"
   },
   {
    "duration": 8,
    "start_time": "2022-07-27T19:01:40.115Z"
   },
   {
    "duration": 29,
    "start_time": "2022-07-27T19:01:40.125Z"
   },
   {
    "duration": 21,
    "start_time": "2022-07-27T19:01:40.155Z"
   },
   {
    "duration": 3,
    "start_time": "2022-07-27T19:01:40.177Z"
   },
   {
    "duration": 4,
    "start_time": "2022-07-27T19:01:40.182Z"
   },
   {
    "duration": 4,
    "start_time": "2022-07-27T19:01:40.187Z"
   },
   {
    "duration": 430,
    "start_time": "2022-07-27T19:01:47.763Z"
   },
   {
    "duration": 21,
    "start_time": "2022-07-27T19:01:48.195Z"
   },
   {
    "duration": 13,
    "start_time": "2022-07-27T19:01:48.217Z"
   },
   {
    "duration": 21,
    "start_time": "2022-07-27T19:01:48.232Z"
   },
   {
    "duration": 33,
    "start_time": "2022-07-27T19:01:48.255Z"
   },
   {
    "duration": 3,
    "start_time": "2022-07-27T19:01:48.290Z"
   },
   {
    "duration": 12,
    "start_time": "2022-07-27T19:01:48.294Z"
   },
   {
    "duration": 4,
    "start_time": "2022-07-27T19:01:48.308Z"
   },
   {
    "duration": 9,
    "start_time": "2022-07-27T19:01:48.313Z"
   },
   {
    "duration": 28,
    "start_time": "2022-07-27T19:01:48.325Z"
   },
   {
    "duration": 32,
    "start_time": "2022-07-27T19:01:48.355Z"
   },
   {
    "duration": 8,
    "start_time": "2022-07-27T19:01:48.389Z"
   },
   {
    "duration": 8,
    "start_time": "2022-07-27T19:01:48.398Z"
   },
   {
    "duration": 17,
    "start_time": "2022-07-27T19:01:48.407Z"
   },
   {
    "duration": 32,
    "start_time": "2022-07-27T19:01:48.425Z"
   },
   {
    "duration": 10,
    "start_time": "2022-07-27T19:01:48.458Z"
   },
   {
    "duration": 5,
    "start_time": "2022-07-27T19:01:48.469Z"
   },
   {
    "duration": 13,
    "start_time": "2022-07-27T19:01:48.476Z"
   },
   {
    "duration": 5,
    "start_time": "2022-07-27T19:01:48.490Z"
   },
   {
    "duration": 3,
    "start_time": "2022-07-27T19:01:48.496Z"
   },
   {
    "duration": 10,
    "start_time": "2022-07-27T19:01:48.500Z"
   },
   {
    "duration": 2,
    "start_time": "2022-07-27T19:01:48.512Z"
   },
   {
    "duration": 5,
    "start_time": "2022-07-27T19:01:48.515Z"
   },
   {
    "duration": 8,
    "start_time": "2022-07-27T19:01:48.521Z"
   },
   {
    "duration": 24,
    "start_time": "2022-07-27T19:01:48.530Z"
   },
   {
    "duration": 13,
    "start_time": "2022-07-27T19:01:48.555Z"
   },
   {
    "duration": 2,
    "start_time": "2022-07-27T19:01:48.570Z"
   },
   {
    "duration": 3,
    "start_time": "2022-07-27T19:01:48.575Z"
   },
   {
    "duration": 4,
    "start_time": "2022-07-27T19:01:48.580Z"
   },
   {
    "duration": 14,
    "start_time": "2022-07-27T19:09:45.098Z"
   },
   {
    "duration": 1185,
    "start_time": "2022-07-27T19:10:47.125Z"
   },
   {
    "duration": 448,
    "start_time": "2022-07-27T19:17:17.843Z"
   },
   {
    "duration": 20,
    "start_time": "2022-07-27T19:17:18.293Z"
   },
   {
    "duration": 16,
    "start_time": "2022-07-27T19:17:18.315Z"
   },
   {
    "duration": 27,
    "start_time": "2022-07-27T19:17:18.332Z"
   },
   {
    "duration": 30,
    "start_time": "2022-07-27T19:17:18.361Z"
   },
   {
    "duration": 3,
    "start_time": "2022-07-27T19:17:18.393Z"
   },
   {
    "duration": 10,
    "start_time": "2022-07-27T19:17:18.397Z"
   },
   {
    "duration": 4,
    "start_time": "2022-07-27T19:17:18.409Z"
   },
   {
    "duration": 9,
    "start_time": "2022-07-27T19:17:18.414Z"
   },
   {
    "duration": 30,
    "start_time": "2022-07-27T19:17:18.424Z"
   },
   {
    "duration": 34,
    "start_time": "2022-07-27T19:17:18.456Z"
   },
   {
    "duration": 9,
    "start_time": "2022-07-27T19:17:18.491Z"
   },
   {
    "duration": 4,
    "start_time": "2022-07-27T19:17:18.501Z"
   },
   {
    "duration": 20,
    "start_time": "2022-07-27T19:17:18.508Z"
   },
   {
    "duration": 33,
    "start_time": "2022-07-27T19:17:18.530Z"
   },
   {
    "duration": 9,
    "start_time": "2022-07-27T19:17:18.565Z"
   },
   {
    "duration": 8,
    "start_time": "2022-07-27T19:17:18.576Z"
   },
   {
    "duration": 14,
    "start_time": "2022-07-27T19:17:18.585Z"
   },
   {
    "duration": 9,
    "start_time": "2022-07-27T19:17:18.601Z"
   },
   {
    "duration": 4,
    "start_time": "2022-07-27T19:17:18.611Z"
   },
   {
    "duration": 12,
    "start_time": "2022-07-27T19:17:18.617Z"
   },
   {
    "duration": 3,
    "start_time": "2022-07-27T19:17:18.630Z"
   },
   {
    "duration": 3,
    "start_time": "2022-07-27T19:17:18.653Z"
   },
   {
    "duration": 8,
    "start_time": "2022-07-27T19:17:18.658Z"
   },
   {
    "duration": 6,
    "start_time": "2022-07-27T19:17:18.668Z"
   },
   {
    "duration": 1299,
    "start_time": "2022-07-27T19:17:18.675Z"
   },
   {
    "duration": 0,
    "start_time": "2022-07-27T19:17:19.976Z"
   },
   {
    "duration": 0,
    "start_time": "2022-07-27T19:17:19.977Z"
   },
   {
    "duration": 0,
    "start_time": "2022-07-27T19:17:19.978Z"
   },
   {
    "duration": 430,
    "start_time": "2022-07-27T19:20:13.878Z"
   },
   {
    "duration": 20,
    "start_time": "2022-07-27T19:20:14.310Z"
   },
   {
    "duration": 12,
    "start_time": "2022-07-27T19:20:14.331Z"
   },
   {
    "duration": 7,
    "start_time": "2022-07-27T19:20:14.345Z"
   },
   {
    "duration": 30,
    "start_time": "2022-07-27T19:20:14.354Z"
   },
   {
    "duration": 3,
    "start_time": "2022-07-27T19:20:14.385Z"
   },
   {
    "duration": 9,
    "start_time": "2022-07-27T19:20:14.389Z"
   },
   {
    "duration": 10,
    "start_time": "2022-07-27T19:20:14.399Z"
   },
   {
    "duration": 8,
    "start_time": "2022-07-27T19:20:14.411Z"
   },
   {
    "duration": 4,
    "start_time": "2022-07-27T19:20:14.422Z"
   },
   {
    "duration": 49,
    "start_time": "2022-07-27T19:20:14.427Z"
   },
   {
    "duration": 8,
    "start_time": "2022-07-27T19:20:14.477Z"
   },
   {
    "duration": 4,
    "start_time": "2022-07-27T19:20:14.487Z"
   },
   {
    "duration": 17,
    "start_time": "2022-07-27T19:20:14.493Z"
   },
   {
    "duration": 15,
    "start_time": "2022-07-27T19:20:14.511Z"
   },
   {
    "duration": 32,
    "start_time": "2022-07-27T19:20:14.527Z"
   },
   {
    "duration": 5,
    "start_time": "2022-07-27T19:20:14.561Z"
   },
   {
    "duration": 13,
    "start_time": "2022-07-27T19:20:14.567Z"
   },
   {
    "duration": 6,
    "start_time": "2022-07-27T19:20:14.581Z"
   },
   {
    "duration": 4,
    "start_time": "2022-07-27T19:20:14.589Z"
   },
   {
    "duration": 22,
    "start_time": "2022-07-27T19:20:14.594Z"
   },
   {
    "duration": 7,
    "start_time": "2022-07-27T19:20:14.617Z"
   },
   {
    "duration": 6,
    "start_time": "2022-07-27T19:20:14.626Z"
   },
   {
    "duration": 23,
    "start_time": "2022-07-27T19:20:14.633Z"
   },
   {
    "duration": 10,
    "start_time": "2022-07-27T19:20:14.657Z"
   },
   {
    "duration": 2052,
    "start_time": "2022-07-27T19:20:14.668Z"
   },
   {
    "duration": 0,
    "start_time": "2022-07-27T19:20:16.721Z"
   },
   {
    "duration": 0,
    "start_time": "2022-07-27T19:20:16.722Z"
   },
   {
    "duration": 0,
    "start_time": "2022-07-27T19:20:16.723Z"
   },
   {
    "duration": 387,
    "start_time": "2022-07-27T19:24:19.439Z"
   },
   {
    "duration": 21,
    "start_time": "2022-07-27T19:27:02.313Z"
   },
   {
    "duration": 452,
    "start_time": "2022-07-27T19:27:22.144Z"
   },
   {
    "duration": 21,
    "start_time": "2022-07-27T19:27:22.598Z"
   },
   {
    "duration": 13,
    "start_time": "2022-07-27T19:27:22.621Z"
   },
   {
    "duration": 23,
    "start_time": "2022-07-27T19:27:22.636Z"
   },
   {
    "duration": 30,
    "start_time": "2022-07-27T19:27:22.662Z"
   },
   {
    "duration": 4,
    "start_time": "2022-07-27T19:27:22.694Z"
   },
   {
    "duration": 23,
    "start_time": "2022-07-27T19:27:22.700Z"
   },
   {
    "duration": 13,
    "start_time": "2022-07-27T19:27:22.725Z"
   },
   {
    "duration": 17,
    "start_time": "2022-07-27T19:27:22.739Z"
   },
   {
    "duration": 9,
    "start_time": "2022-07-27T19:27:22.757Z"
   },
   {
    "duration": 39,
    "start_time": "2022-07-27T19:27:22.767Z"
   },
   {
    "duration": 8,
    "start_time": "2022-07-27T19:27:22.808Z"
   },
   {
    "duration": 4,
    "start_time": "2022-07-27T19:27:22.817Z"
   },
   {
    "duration": 19,
    "start_time": "2022-07-27T19:27:22.823Z"
   },
   {
    "duration": 22,
    "start_time": "2022-07-27T19:27:22.843Z"
   },
   {
    "duration": 10,
    "start_time": "2022-07-27T19:27:22.866Z"
   },
   {
    "duration": 5,
    "start_time": "2022-07-27T19:27:22.877Z"
   },
   {
    "duration": 16,
    "start_time": "2022-07-27T19:27:22.884Z"
   },
   {
    "duration": 5,
    "start_time": "2022-07-27T19:27:22.902Z"
   },
   {
    "duration": 5,
    "start_time": "2022-07-27T19:27:22.908Z"
   },
   {
    "duration": 10,
    "start_time": "2022-07-27T19:27:22.914Z"
   },
   {
    "duration": 3,
    "start_time": "2022-07-27T19:27:22.925Z"
   },
   {
    "duration": 24,
    "start_time": "2022-07-27T19:27:22.929Z"
   },
   {
    "duration": 9,
    "start_time": "2022-07-27T19:27:22.954Z"
   },
   {
    "duration": 9,
    "start_time": "2022-07-27T19:27:22.964Z"
   },
   {
    "duration": 314,
    "start_time": "2022-07-27T19:27:22.974Z"
   },
   {
    "duration": 0,
    "start_time": "2022-07-27T19:27:23.290Z"
   },
   {
    "duration": 0,
    "start_time": "2022-07-27T19:27:23.291Z"
   },
   {
    "duration": 0,
    "start_time": "2022-07-27T19:27:23.292Z"
   },
   {
    "duration": 12,
    "start_time": "2022-07-27T19:27:38.389Z"
   },
   {
    "duration": 453,
    "start_time": "2022-07-27T19:27:43.829Z"
   },
   {
    "duration": 20,
    "start_time": "2022-07-27T19:27:44.283Z"
   },
   {
    "duration": 13,
    "start_time": "2022-07-27T19:27:44.304Z"
   },
   {
    "duration": 7,
    "start_time": "2022-07-27T19:27:44.319Z"
   },
   {
    "duration": 42,
    "start_time": "2022-07-27T19:27:44.328Z"
   },
   {
    "duration": 3,
    "start_time": "2022-07-27T19:27:44.372Z"
   },
   {
    "duration": 9,
    "start_time": "2022-07-27T19:27:44.376Z"
   },
   {
    "duration": 3,
    "start_time": "2022-07-27T19:27:44.386Z"
   },
   {
    "duration": 6,
    "start_time": "2022-07-27T19:27:44.391Z"
   },
   {
    "duration": 4,
    "start_time": "2022-07-27T19:27:44.400Z"
   },
   {
    "duration": 50,
    "start_time": "2022-07-27T19:27:44.406Z"
   },
   {
    "duration": 8,
    "start_time": "2022-07-27T19:27:44.458Z"
   },
   {
    "duration": 3,
    "start_time": "2022-07-27T19:27:44.467Z"
   },
   {
    "duration": 19,
    "start_time": "2022-07-27T19:27:44.471Z"
   },
   {
    "duration": 13,
    "start_time": "2022-07-27T19:27:44.492Z"
   },
   {
    "duration": 9,
    "start_time": "2022-07-27T19:27:44.507Z"
   },
   {
    "duration": 7,
    "start_time": "2022-07-27T19:27:44.517Z"
   },
   {
    "duration": 33,
    "start_time": "2022-07-27T19:27:44.525Z"
   },
   {
    "duration": 5,
    "start_time": "2022-07-27T19:27:44.559Z"
   },
   {
    "duration": 14,
    "start_time": "2022-07-27T19:27:44.565Z"
   },
   {
    "duration": 18,
    "start_time": "2022-07-27T19:27:44.581Z"
   },
   {
    "duration": 5,
    "start_time": "2022-07-27T19:27:44.601Z"
   },
   {
    "duration": 6,
    "start_time": "2022-07-27T19:27:44.607Z"
   },
   {
    "duration": 12,
    "start_time": "2022-07-27T19:27:44.615Z"
   },
   {
    "duration": 6,
    "start_time": "2022-07-27T19:27:44.629Z"
   },
   {
    "duration": 253,
    "start_time": "2022-07-27T19:27:44.636Z"
   },
   {
    "duration": 3,
    "start_time": "2022-07-27T19:27:44.890Z"
   },
   {
    "duration": 5,
    "start_time": "2022-07-27T19:27:44.895Z"
   },
   {
    "duration": 4,
    "start_time": "2022-07-27T19:27:44.902Z"
   },
   {
    "duration": 10,
    "start_time": "2022-07-27T20:02:49.358Z"
   },
   {
    "duration": 13,
    "start_time": "2022-07-27T20:04:39.837Z"
   },
   {
    "duration": 15,
    "start_time": "2022-07-27T20:04:51.351Z"
   },
   {
    "duration": 10,
    "start_time": "2022-07-27T20:05:01.947Z"
   },
   {
    "duration": 12,
    "start_time": "2022-07-27T20:05:16.515Z"
   },
   {
    "duration": 10,
    "start_time": "2022-07-27T20:05:21.914Z"
   },
   {
    "duration": 11,
    "start_time": "2022-07-27T20:05:27.312Z"
   },
   {
    "duration": 72,
    "start_time": "2022-07-27T20:05:38.171Z"
   },
   {
    "duration": 14,
    "start_time": "2022-07-27T20:05:49.957Z"
   },
   {
    "duration": 13,
    "start_time": "2022-07-27T20:06:01.951Z"
   },
   {
    "duration": 68,
    "start_time": "2022-07-27T20:10:30.391Z"
   },
   {
    "duration": 11,
    "start_time": "2022-07-27T20:10:34.488Z"
   },
   {
    "duration": 14,
    "start_time": "2022-07-27T20:11:17.485Z"
   },
   {
    "duration": 1126,
    "start_time": "2022-07-27T20:12:41.793Z"
   },
   {
    "duration": 20,
    "start_time": "2022-07-27T20:14:31.183Z"
   },
   {
    "duration": 12,
    "start_time": "2022-07-27T20:14:40.305Z"
   },
   {
    "duration": 11,
    "start_time": "2022-07-27T20:14:58.994Z"
   },
   {
    "duration": 12,
    "start_time": "2022-07-27T20:15:09.236Z"
   },
   {
    "duration": 10,
    "start_time": "2022-07-27T20:15:13.816Z"
   },
   {
    "duration": 11,
    "start_time": "2022-07-27T20:15:24.189Z"
   },
   {
    "duration": 11,
    "start_time": "2022-07-27T20:15:29.739Z"
   },
   {
    "duration": 12,
    "start_time": "2022-07-27T20:15:34.504Z"
   },
   {
    "duration": 12,
    "start_time": "2022-07-27T20:27:02.663Z"
   },
   {
    "duration": 21,
    "start_time": "2022-07-27T20:27:18.712Z"
   },
   {
    "duration": 415,
    "start_time": "2022-07-27T20:27:28.792Z"
   },
   {
    "duration": 20,
    "start_time": "2022-07-27T20:27:29.210Z"
   },
   {
    "duration": 12,
    "start_time": "2022-07-27T20:27:29.232Z"
   },
   {
    "duration": 10,
    "start_time": "2022-07-27T20:27:29.246Z"
   },
   {
    "duration": 28,
    "start_time": "2022-07-27T20:27:29.257Z"
   },
   {
    "duration": 2,
    "start_time": "2022-07-27T20:27:29.287Z"
   },
   {
    "duration": 9,
    "start_time": "2022-07-27T20:27:29.291Z"
   },
   {
    "duration": 4,
    "start_time": "2022-07-27T20:27:29.302Z"
   },
   {
    "duration": 8,
    "start_time": "2022-07-27T20:27:29.307Z"
   },
   {
    "duration": 4,
    "start_time": "2022-07-27T20:27:29.318Z"
   },
   {
    "duration": 30,
    "start_time": "2022-07-27T20:27:29.351Z"
   },
   {
    "duration": 7,
    "start_time": "2022-07-27T20:27:29.383Z"
   },
   {
    "duration": 3,
    "start_time": "2022-07-27T20:27:29.392Z"
   },
   {
    "duration": 18,
    "start_time": "2022-07-27T20:27:29.397Z"
   },
   {
    "duration": 39,
    "start_time": "2022-07-27T20:27:29.416Z"
   },
   {
    "duration": 10,
    "start_time": "2022-07-27T20:27:29.456Z"
   },
   {
    "duration": 5,
    "start_time": "2022-07-27T20:27:29.467Z"
   },
   {
    "duration": 11,
    "start_time": "2022-07-27T20:27:29.473Z"
   },
   {
    "duration": 8,
    "start_time": "2022-07-27T20:27:29.485Z"
   },
   {
    "duration": 4,
    "start_time": "2022-07-27T20:27:29.494Z"
   },
   {
    "duration": 14,
    "start_time": "2022-07-27T20:27:29.500Z"
   },
   {
    "duration": 4,
    "start_time": "2022-07-27T20:27:29.515Z"
   },
   {
    "duration": 4,
    "start_time": "2022-07-27T20:27:29.521Z"
   },
   {
    "duration": 10,
    "start_time": "2022-07-27T20:27:29.552Z"
   },
   {
    "duration": 6,
    "start_time": "2022-07-27T20:27:29.563Z"
   },
   {
    "duration": 260,
    "start_time": "2022-07-27T20:27:29.570Z"
   },
   {
    "duration": 2,
    "start_time": "2022-07-27T20:27:29.832Z"
   },
   {
    "duration": 4,
    "start_time": "2022-07-27T20:27:29.836Z"
   },
   {
    "duration": 2,
    "start_time": "2022-07-27T20:27:29.852Z"
   },
   {
    "duration": 12,
    "start_time": "2022-07-27T20:28:06.720Z"
   },
   {
    "duration": 16,
    "start_time": "2022-07-27T20:28:33.629Z"
   },
   {
    "duration": 11,
    "start_time": "2022-07-27T20:29:35.712Z"
   },
   {
    "duration": 13,
    "start_time": "2022-07-27T20:29:59.326Z"
   },
   {
    "duration": 16,
    "start_time": "2022-07-27T20:30:53.981Z"
   },
   {
    "duration": 14,
    "start_time": "2022-07-27T20:31:02.266Z"
   },
   {
    "duration": 412,
    "start_time": "2022-07-27T20:33:44.178Z"
   },
   {
    "duration": 31,
    "start_time": "2022-07-27T20:33:44.592Z"
   },
   {
    "duration": 16,
    "start_time": "2022-07-27T20:33:44.625Z"
   },
   {
    "duration": 9,
    "start_time": "2022-07-27T20:33:44.651Z"
   },
   {
    "duration": 33,
    "start_time": "2022-07-27T20:33:44.662Z"
   },
   {
    "duration": 3,
    "start_time": "2022-07-27T20:33:44.698Z"
   },
   {
    "duration": 12,
    "start_time": "2022-07-27T20:33:44.703Z"
   },
   {
    "duration": 11,
    "start_time": "2022-07-27T20:33:44.717Z"
   },
   {
    "duration": 23,
    "start_time": "2022-07-27T20:33:44.729Z"
   },
   {
    "duration": 5,
    "start_time": "2022-07-27T20:33:44.754Z"
   },
   {
    "duration": 32,
    "start_time": "2022-07-27T20:33:44.760Z"
   },
   {
    "duration": 9,
    "start_time": "2022-07-27T20:33:44.793Z"
   },
   {
    "duration": 4,
    "start_time": "2022-07-27T20:33:44.803Z"
   },
   {
    "duration": 20,
    "start_time": "2022-07-27T20:33:44.809Z"
   },
   {
    "duration": 34,
    "start_time": "2022-07-27T20:33:44.830Z"
   },
   {
    "duration": 9,
    "start_time": "2022-07-27T20:33:44.866Z"
   },
   {
    "duration": 5,
    "start_time": "2022-07-27T20:33:44.876Z"
   },
   {
    "duration": 9,
    "start_time": "2022-07-27T20:33:44.883Z"
   },
   {
    "duration": 6,
    "start_time": "2022-07-27T20:33:44.893Z"
   },
   {
    "duration": 3,
    "start_time": "2022-07-27T20:33:44.900Z"
   },
   {
    "duration": 12,
    "start_time": "2022-07-27T20:33:44.905Z"
   },
   {
    "duration": 3,
    "start_time": "2022-07-27T20:33:44.918Z"
   },
   {
    "duration": 30,
    "start_time": "2022-07-27T20:33:44.922Z"
   },
   {
    "duration": 8,
    "start_time": "2022-07-27T20:33:44.953Z"
   },
   {
    "duration": 6,
    "start_time": "2022-07-27T20:33:44.963Z"
   },
   {
    "duration": 17,
    "start_time": "2022-07-27T20:33:44.970Z"
   },
   {
    "duration": 2,
    "start_time": "2022-07-27T20:33:44.988Z"
   },
   {
    "duration": 5,
    "start_time": "2022-07-27T20:33:44.992Z"
   },
   {
    "duration": 19,
    "start_time": "2022-07-27T20:33:44.998Z"
   },
   {
    "duration": 15,
    "start_time": "2022-07-27T20:34:25.169Z"
   },
   {
    "duration": 17,
    "start_time": "2022-07-27T20:36:06.932Z"
   },
   {
    "duration": 80,
    "start_time": "2022-07-27T20:39:08.036Z"
   },
   {
    "duration": 14,
    "start_time": "2022-07-27T20:43:23.174Z"
   },
   {
    "duration": 9,
    "start_time": "2022-07-27T20:46:43.348Z"
   },
   {
    "duration": 2,
    "start_time": "2022-07-27T20:47:05.935Z"
   },
   {
    "duration": 438,
    "start_time": "2022-07-27T20:56:15.397Z"
   },
   {
    "duration": 19,
    "start_time": "2022-07-27T20:56:15.837Z"
   },
   {
    "duration": 12,
    "start_time": "2022-07-27T20:56:15.858Z"
   },
   {
    "duration": 8,
    "start_time": "2022-07-27T20:56:15.872Z"
   },
   {
    "duration": 31,
    "start_time": "2022-07-27T20:56:15.881Z"
   },
   {
    "duration": 3,
    "start_time": "2022-07-27T20:56:15.913Z"
   },
   {
    "duration": 9,
    "start_time": "2022-07-27T20:56:15.917Z"
   },
   {
    "duration": 24,
    "start_time": "2022-07-27T20:56:15.927Z"
   },
   {
    "duration": 10,
    "start_time": "2022-07-27T20:56:15.952Z"
   },
   {
    "duration": 4,
    "start_time": "2022-07-27T20:56:15.963Z"
   },
   {
    "duration": 33,
    "start_time": "2022-07-27T20:56:15.969Z"
   },
   {
    "duration": 10,
    "start_time": "2022-07-27T20:56:16.004Z"
   },
   {
    "duration": 11,
    "start_time": "2022-07-27T20:56:16.016Z"
   },
   {
    "duration": 47,
    "start_time": "2022-07-27T20:56:16.029Z"
   },
   {
    "duration": 21,
    "start_time": "2022-07-27T20:56:16.078Z"
   },
   {
    "duration": 13,
    "start_time": "2022-07-27T20:56:16.101Z"
   },
   {
    "duration": 9,
    "start_time": "2022-07-27T20:56:16.116Z"
   },
   {
    "duration": 28,
    "start_time": "2022-07-27T20:56:16.127Z"
   },
   {
    "duration": 21,
    "start_time": "2022-07-27T20:56:16.157Z"
   },
   {
    "duration": 7,
    "start_time": "2022-07-27T20:56:16.180Z"
   },
   {
    "duration": 17,
    "start_time": "2022-07-27T20:56:16.189Z"
   },
   {
    "duration": 12,
    "start_time": "2022-07-27T20:56:16.208Z"
   },
   {
    "duration": 8,
    "start_time": "2022-07-27T20:56:16.222Z"
   },
   {
    "duration": 10,
    "start_time": "2022-07-27T20:56:16.232Z"
   },
   {
    "duration": 14,
    "start_time": "2022-07-27T20:56:16.244Z"
   },
   {
    "duration": 35,
    "start_time": "2022-07-27T20:56:16.261Z"
   },
   {
    "duration": 17,
    "start_time": "2022-07-27T20:56:16.298Z"
   },
   {
    "duration": 2,
    "start_time": "2022-07-27T20:56:16.317Z"
   },
   {
    "duration": 6,
    "start_time": "2022-07-27T20:56:16.320Z"
   },
   {
    "duration": 1147,
    "start_time": "2022-07-27T20:56:16.327Z"
   },
   {
    "duration": 0,
    "start_time": "2022-07-27T20:56:17.476Z"
   },
   {
    "duration": 0,
    "start_time": "2022-07-27T20:56:17.477Z"
   },
   {
    "duration": 9,
    "start_time": "2022-07-27T20:56:30.151Z"
   },
   {
    "duration": 15,
    "start_time": "2022-07-27T20:56:32.741Z"
   },
   {
    "duration": 495,
    "start_time": "2022-07-27T20:57:24.936Z"
   },
   {
    "duration": 22,
    "start_time": "2022-07-27T20:57:25.433Z"
   },
   {
    "duration": 13,
    "start_time": "2022-07-27T20:57:25.457Z"
   },
   {
    "duration": 8,
    "start_time": "2022-07-27T20:57:25.472Z"
   },
   {
    "duration": 33,
    "start_time": "2022-07-27T20:57:25.483Z"
   },
   {
    "duration": 3,
    "start_time": "2022-07-27T20:57:25.517Z"
   },
   {
    "duration": 33,
    "start_time": "2022-07-27T20:57:25.522Z"
   },
   {
    "duration": 6,
    "start_time": "2022-07-27T20:57:25.557Z"
   },
   {
    "duration": 9,
    "start_time": "2022-07-27T20:57:25.564Z"
   },
   {
    "duration": 6,
    "start_time": "2022-07-27T20:57:25.574Z"
   },
   {
    "duration": 36,
    "start_time": "2022-07-27T20:57:25.581Z"
   },
   {
    "duration": 34,
    "start_time": "2022-07-27T20:57:25.619Z"
   },
   {
    "duration": 4,
    "start_time": "2022-07-27T20:57:25.655Z"
   },
   {
    "duration": 19,
    "start_time": "2022-07-27T20:57:25.663Z"
   },
   {
    "duration": 17,
    "start_time": "2022-07-27T20:57:25.683Z"
   },
   {
    "duration": 10,
    "start_time": "2022-07-27T20:57:25.702Z"
   },
   {
    "duration": 38,
    "start_time": "2022-07-27T20:57:25.714Z"
   },
   {
    "duration": 12,
    "start_time": "2022-07-27T20:57:25.754Z"
   },
   {
    "duration": 10,
    "start_time": "2022-07-27T20:57:25.767Z"
   },
   {
    "duration": 3,
    "start_time": "2022-07-27T20:57:25.779Z"
   },
   {
    "duration": 11,
    "start_time": "2022-07-27T20:57:25.783Z"
   },
   {
    "duration": 3,
    "start_time": "2022-07-27T20:57:25.796Z"
   },
   {
    "duration": 6,
    "start_time": "2022-07-27T20:57:25.801Z"
   },
   {
    "duration": 9,
    "start_time": "2022-07-27T20:57:25.809Z"
   },
   {
    "duration": 38,
    "start_time": "2022-07-27T20:57:25.820Z"
   },
   {
    "duration": 23,
    "start_time": "2022-07-27T20:57:25.860Z"
   },
   {
    "duration": 18,
    "start_time": "2022-07-27T20:57:25.885Z"
   },
   {
    "duration": 2,
    "start_time": "2022-07-27T20:57:25.905Z"
   },
   {
    "duration": 5,
    "start_time": "2022-07-27T20:57:25.909Z"
   },
   {
    "duration": 53,
    "start_time": "2022-07-27T20:57:25.915Z"
   },
   {
    "duration": 22,
    "start_time": "2022-07-27T20:57:25.970Z"
   },
   {
    "duration": 5,
    "start_time": "2022-07-27T20:57:25.995Z"
   },
   {
    "duration": 23,
    "start_time": "2022-07-27T20:58:22.172Z"
   },
   {
    "duration": 507,
    "start_time": "2022-07-27T20:58:52.330Z"
   },
   {
    "duration": 19,
    "start_time": "2022-07-27T20:58:52.839Z"
   },
   {
    "duration": 13,
    "start_time": "2022-07-27T20:58:52.859Z"
   },
   {
    "duration": 8,
    "start_time": "2022-07-27T20:58:52.874Z"
   },
   {
    "duration": 30,
    "start_time": "2022-07-27T20:58:52.883Z"
   },
   {
    "duration": 3,
    "start_time": "2022-07-27T20:58:52.915Z"
   },
   {
    "duration": 35,
    "start_time": "2022-07-27T20:58:52.919Z"
   },
   {
    "duration": 5,
    "start_time": "2022-07-27T20:58:52.955Z"
   },
   {
    "duration": 7,
    "start_time": "2022-07-27T20:58:52.961Z"
   },
   {
    "duration": 4,
    "start_time": "2022-07-27T20:58:52.971Z"
   },
   {
    "duration": 36,
    "start_time": "2022-07-27T20:58:52.977Z"
   },
   {
    "duration": 9,
    "start_time": "2022-07-27T20:58:53.015Z"
   },
   {
    "duration": 27,
    "start_time": "2022-07-27T20:58:53.026Z"
   },
   {
    "duration": 16,
    "start_time": "2022-07-27T20:58:53.055Z"
   },
   {
    "duration": 15,
    "start_time": "2022-07-27T20:58:53.073Z"
   },
   {
    "duration": 10,
    "start_time": "2022-07-27T20:58:53.089Z"
   },
   {
    "duration": 4,
    "start_time": "2022-07-27T20:58:53.101Z"
   },
   {
    "duration": 15,
    "start_time": "2022-07-27T20:58:53.106Z"
   },
   {
    "duration": 30,
    "start_time": "2022-07-27T20:58:53.123Z"
   },
   {
    "duration": 4,
    "start_time": "2022-07-27T20:58:53.155Z"
   },
   {
    "duration": 14,
    "start_time": "2022-07-27T20:58:53.160Z"
   },
   {
    "duration": 4,
    "start_time": "2022-07-27T20:58:53.175Z"
   },
   {
    "duration": 4,
    "start_time": "2022-07-27T20:58:53.180Z"
   },
   {
    "duration": 12,
    "start_time": "2022-07-27T20:58:53.186Z"
   },
   {
    "duration": 6,
    "start_time": "2022-07-27T20:58:53.200Z"
   },
   {
    "duration": 45,
    "start_time": "2022-07-27T20:58:53.207Z"
   },
   {
    "duration": 15,
    "start_time": "2022-07-27T20:58:53.254Z"
   },
   {
    "duration": 3,
    "start_time": "2022-07-27T20:58:53.271Z"
   },
   {
    "duration": 8,
    "start_time": "2022-07-27T20:58:53.275Z"
   },
   {
    "duration": 12,
    "start_time": "2022-07-27T20:58:53.284Z"
   },
   {
    "duration": 14,
    "start_time": "2022-07-27T20:58:53.298Z"
   },
   {
    "duration": 4,
    "start_time": "2022-07-27T20:58:53.314Z"
   },
   {
    "duration": 19,
    "start_time": "2022-07-27T20:59:58.729Z"
   },
   {
    "duration": 462,
    "start_time": "2022-07-27T21:03:34.786Z"
   },
   {
    "duration": 21,
    "start_time": "2022-07-27T21:03:35.250Z"
   },
   {
    "duration": 12,
    "start_time": "2022-07-27T21:03:35.273Z"
   },
   {
    "duration": 8,
    "start_time": "2022-07-27T21:03:35.286Z"
   },
   {
    "duration": 31,
    "start_time": "2022-07-27T21:03:35.295Z"
   },
   {
    "duration": 3,
    "start_time": "2022-07-27T21:03:35.328Z"
   },
   {
    "duration": 8,
    "start_time": "2022-07-27T21:03:35.352Z"
   },
   {
    "duration": 4,
    "start_time": "2022-07-27T21:03:35.362Z"
   },
   {
    "duration": 9,
    "start_time": "2022-07-27T21:03:35.367Z"
   },
   {
    "duration": 4,
    "start_time": "2022-07-27T21:03:35.378Z"
   },
   {
    "duration": 29,
    "start_time": "2022-07-27T21:03:35.384Z"
   },
   {
    "duration": 39,
    "start_time": "2022-07-27T21:03:35.415Z"
   },
   {
    "duration": 3,
    "start_time": "2022-07-27T21:03:35.456Z"
   },
   {
    "duration": 19,
    "start_time": "2022-07-27T21:03:35.460Z"
   },
   {
    "duration": 14,
    "start_time": "2022-07-27T21:03:35.480Z"
   },
   {
    "duration": 9,
    "start_time": "2022-07-27T21:03:35.496Z"
   },
   {
    "duration": 6,
    "start_time": "2022-07-27T21:03:35.507Z"
   },
   {
    "duration": 13,
    "start_time": "2022-07-27T21:03:35.514Z"
   },
   {
    "duration": 27,
    "start_time": "2022-07-27T21:03:35.528Z"
   },
   {
    "duration": 3,
    "start_time": "2022-07-27T21:03:35.557Z"
   },
   {
    "duration": 9,
    "start_time": "2022-07-27T21:03:35.562Z"
   },
   {
    "duration": 7,
    "start_time": "2022-07-27T21:03:35.572Z"
   },
   {
    "duration": 4,
    "start_time": "2022-07-27T21:03:35.580Z"
   },
   {
    "duration": 12,
    "start_time": "2022-07-27T21:03:35.586Z"
   },
   {
    "duration": 7,
    "start_time": "2022-07-27T21:03:35.600Z"
   },
   {
    "duration": 45,
    "start_time": "2022-07-27T21:03:35.609Z"
   },
   {
    "duration": 18,
    "start_time": "2022-07-27T21:03:35.656Z"
   },
   {
    "duration": 5,
    "start_time": "2022-07-27T21:03:35.677Z"
   },
   {
    "duration": 15,
    "start_time": "2022-07-27T21:03:35.683Z"
   },
   {
    "duration": 17,
    "start_time": "2022-07-27T21:03:35.700Z"
   },
   {
    "duration": 2,
    "start_time": "2022-07-27T21:03:35.719Z"
   },
   {
    "duration": 19,
    "start_time": "2022-07-27T21:05:16.219Z"
   },
   {
    "duration": 17,
    "start_time": "2022-07-27T21:06:31.095Z"
   },
   {
    "duration": 414,
    "start_time": "2022-07-27T21:06:46.471Z"
   },
   {
    "duration": 22,
    "start_time": "2022-07-27T21:06:46.887Z"
   },
   {
    "duration": 18,
    "start_time": "2022-07-27T21:06:46.911Z"
   },
   {
    "duration": 22,
    "start_time": "2022-07-27T21:06:46.931Z"
   },
   {
    "duration": 30,
    "start_time": "2022-07-27T21:06:46.954Z"
   },
   {
    "duration": 13,
    "start_time": "2022-07-27T21:06:46.985Z"
   },
   {
    "duration": 21,
    "start_time": "2022-07-27T21:06:46.999Z"
   },
   {
    "duration": 23,
    "start_time": "2022-07-27T21:06:47.021Z"
   },
   {
    "duration": 23,
    "start_time": "2022-07-27T21:06:47.045Z"
   },
   {
    "duration": 12,
    "start_time": "2022-07-27T21:06:47.072Z"
   },
   {
    "duration": 48,
    "start_time": "2022-07-27T21:06:47.085Z"
   },
   {
    "duration": 8,
    "start_time": "2022-07-27T21:06:47.135Z"
   },
   {
    "duration": 21,
    "start_time": "2022-07-27T21:06:47.144Z"
   },
   {
    "duration": 23,
    "start_time": "2022-07-27T21:06:47.167Z"
   },
   {
    "duration": 21,
    "start_time": "2022-07-27T21:06:47.191Z"
   },
   {
    "duration": 11,
    "start_time": "2022-07-27T21:06:47.214Z"
   },
   {
    "duration": 17,
    "start_time": "2022-07-27T21:06:47.227Z"
   },
   {
    "duration": 33,
    "start_time": "2022-07-27T21:06:47.245Z"
   },
   {
    "duration": 7,
    "start_time": "2022-07-27T21:06:47.280Z"
   },
   {
    "duration": 23,
    "start_time": "2022-07-27T21:06:47.288Z"
   },
   {
    "duration": 22,
    "start_time": "2022-07-27T21:06:47.313Z"
   },
   {
    "duration": 21,
    "start_time": "2022-07-27T21:06:47.337Z"
   },
   {
    "duration": 29,
    "start_time": "2022-07-27T21:06:47.360Z"
   },
   {
    "duration": 18,
    "start_time": "2022-07-27T21:06:47.391Z"
   },
   {
    "duration": 22,
    "start_time": "2022-07-27T21:06:47.411Z"
   },
   {
    "duration": 18,
    "start_time": "2022-07-27T21:06:47.435Z"
   },
   {
    "duration": 24,
    "start_time": "2022-07-27T21:06:47.455Z"
   },
   {
    "duration": 5,
    "start_time": "2022-07-27T21:06:47.482Z"
   },
   {
    "duration": 41,
    "start_time": "2022-07-27T21:06:47.488Z"
   },
   {
    "duration": 37,
    "start_time": "2022-07-27T21:06:47.531Z"
   },
   {
    "duration": 27,
    "start_time": "2022-07-27T21:06:47.570Z"
   },
   {
    "duration": 15,
    "start_time": "2022-07-27T21:07:00.154Z"
   },
   {
    "duration": 467,
    "start_time": "2022-07-27T21:07:03.960Z"
   },
   {
    "duration": 19,
    "start_time": "2022-07-27T21:07:04.429Z"
   },
   {
    "duration": 14,
    "start_time": "2022-07-27T21:07:04.450Z"
   },
   {
    "duration": 8,
    "start_time": "2022-07-27T21:07:04.466Z"
   },
   {
    "duration": 29,
    "start_time": "2022-07-27T21:07:04.475Z"
   },
   {
    "duration": 3,
    "start_time": "2022-07-27T21:07:04.506Z"
   },
   {
    "duration": 17,
    "start_time": "2022-07-27T21:07:04.510Z"
   },
   {
    "duration": 25,
    "start_time": "2022-07-27T21:07:04.528Z"
   },
   {
    "duration": 6,
    "start_time": "2022-07-27T21:07:04.554Z"
   },
   {
    "duration": 4,
    "start_time": "2022-07-27T21:07:04.563Z"
   },
   {
    "duration": 32,
    "start_time": "2022-07-27T21:07:04.568Z"
   },
   {
    "duration": 10,
    "start_time": "2022-07-27T21:07:04.602Z"
   },
   {
    "duration": 28,
    "start_time": "2022-07-27T21:07:04.614Z"
   },
   {
    "duration": 22,
    "start_time": "2022-07-27T21:07:04.644Z"
   },
   {
    "duration": 20,
    "start_time": "2022-07-27T21:07:04.668Z"
   },
   {
    "duration": 15,
    "start_time": "2022-07-27T21:07:04.690Z"
   },
   {
    "duration": 6,
    "start_time": "2022-07-27T21:07:04.707Z"
   },
   {
    "duration": 14,
    "start_time": "2022-07-27T21:07:04.715Z"
   },
   {
    "duration": 25,
    "start_time": "2022-07-27T21:07:04.731Z"
   },
   {
    "duration": 4,
    "start_time": "2022-07-27T21:07:04.758Z"
   },
   {
    "duration": 9,
    "start_time": "2022-07-27T21:07:04.764Z"
   },
   {
    "duration": 4,
    "start_time": "2022-07-27T21:07:04.775Z"
   },
   {
    "duration": 4,
    "start_time": "2022-07-27T21:07:04.781Z"
   },
   {
    "duration": 11,
    "start_time": "2022-07-27T21:07:04.787Z"
   },
   {
    "duration": 10,
    "start_time": "2022-07-27T21:07:04.799Z"
   },
   {
    "duration": 42,
    "start_time": "2022-07-27T21:07:04.811Z"
   },
   {
    "duration": 15,
    "start_time": "2022-07-27T21:07:04.855Z"
   },
   {
    "duration": 4,
    "start_time": "2022-07-27T21:07:04.872Z"
   },
   {
    "duration": 11,
    "start_time": "2022-07-27T21:07:04.878Z"
   },
   {
    "duration": 14,
    "start_time": "2022-07-27T21:07:04.890Z"
   },
   {
    "duration": 14,
    "start_time": "2022-07-27T21:07:04.906Z"
   },
   {
    "duration": 24,
    "start_time": "2022-07-27T21:07:18.282Z"
   },
   {
    "duration": 20,
    "start_time": "2022-07-27T21:07:32.725Z"
   },
   {
    "duration": 18,
    "start_time": "2022-07-27T21:07:49.356Z"
   },
   {
    "duration": 20,
    "start_time": "2022-07-27T21:08:04.686Z"
   },
   {
    "duration": 5,
    "start_time": "2022-07-27T21:12:03.910Z"
   },
   {
    "duration": 15,
    "start_time": "2022-07-27T21:13:19.085Z"
   },
   {
    "duration": 428,
    "start_time": "2022-07-27T21:14:40.173Z"
   },
   {
    "duration": 22,
    "start_time": "2022-07-27T21:14:40.603Z"
   },
   {
    "duration": 17,
    "start_time": "2022-07-27T21:14:40.627Z"
   },
   {
    "duration": 9,
    "start_time": "2022-07-27T21:14:40.651Z"
   },
   {
    "duration": 34,
    "start_time": "2022-07-27T21:14:40.662Z"
   },
   {
    "duration": 3,
    "start_time": "2022-07-27T21:14:40.698Z"
   },
   {
    "duration": 10,
    "start_time": "2022-07-27T21:14:40.703Z"
   },
   {
    "duration": 4,
    "start_time": "2022-07-27T21:14:40.714Z"
   },
   {
    "duration": 8,
    "start_time": "2022-07-27T21:14:40.719Z"
   },
   {
    "duration": 5,
    "start_time": "2022-07-27T21:14:40.751Z"
   },
   {
    "duration": 31,
    "start_time": "2022-07-27T21:14:40.757Z"
   },
   {
    "duration": 8,
    "start_time": "2022-07-27T21:14:40.790Z"
   },
   {
    "duration": 3,
    "start_time": "2022-07-27T21:14:40.800Z"
   },
   {
    "duration": 18,
    "start_time": "2022-07-27T21:14:40.805Z"
   },
   {
    "duration": 41,
    "start_time": "2022-07-27T21:14:40.824Z"
   },
   {
    "duration": 10,
    "start_time": "2022-07-27T21:14:40.867Z"
   },
   {
    "duration": 6,
    "start_time": "2022-07-27T21:14:40.878Z"
   },
   {
    "duration": 11,
    "start_time": "2022-07-27T21:14:40.885Z"
   },
   {
    "duration": 5,
    "start_time": "2022-07-27T21:14:40.898Z"
   },
   {
    "duration": 3,
    "start_time": "2022-07-27T21:14:40.904Z"
   },
   {
    "duration": 9,
    "start_time": "2022-07-27T21:14:40.908Z"
   },
   {
    "duration": 3,
    "start_time": "2022-07-27T21:14:40.919Z"
   },
   {
    "duration": 29,
    "start_time": "2022-07-27T21:14:40.923Z"
   },
   {
    "duration": 9,
    "start_time": "2022-07-27T21:14:40.954Z"
   },
   {
    "duration": 9,
    "start_time": "2022-07-27T21:14:40.965Z"
   },
   {
    "duration": 14,
    "start_time": "2022-07-27T21:14:40.976Z"
   },
   {
    "duration": 11,
    "start_time": "2022-07-27T21:14:40.992Z"
   },
   {
    "duration": 3,
    "start_time": "2022-07-27T21:14:41.005Z"
   },
   {
    "duration": 11,
    "start_time": "2022-07-27T21:14:41.009Z"
   },
   {
    "duration": 41,
    "start_time": "2022-07-27T21:14:41.021Z"
   },
   {
    "duration": 13,
    "start_time": "2022-07-27T21:14:41.064Z"
   },
   {
    "duration": 447,
    "start_time": "2022-07-27T21:35:26.961Z"
   },
   {
    "duration": 21,
    "start_time": "2022-07-27T21:35:27.410Z"
   },
   {
    "duration": 14,
    "start_time": "2022-07-27T21:35:27.432Z"
   },
   {
    "duration": 14,
    "start_time": "2022-07-27T21:35:27.447Z"
   },
   {
    "duration": 40,
    "start_time": "2022-07-27T21:35:27.464Z"
   },
   {
    "duration": 4,
    "start_time": "2022-07-27T21:35:27.505Z"
   },
   {
    "duration": 9,
    "start_time": "2022-07-27T21:35:27.511Z"
   },
   {
    "duration": 5,
    "start_time": "2022-07-27T21:35:27.522Z"
   },
   {
    "duration": 27,
    "start_time": "2022-07-27T21:35:27.528Z"
   },
   {
    "duration": 5,
    "start_time": "2022-07-27T21:35:27.556Z"
   },
   {
    "duration": 30,
    "start_time": "2022-07-27T21:35:27.563Z"
   },
   {
    "duration": 9,
    "start_time": "2022-07-27T21:35:27.594Z"
   },
   {
    "duration": 4,
    "start_time": "2022-07-27T21:35:27.604Z"
   },
   {
    "duration": 43,
    "start_time": "2022-07-27T21:35:27.610Z"
   },
   {
    "duration": 17,
    "start_time": "2022-07-27T21:35:27.654Z"
   },
   {
    "duration": 10,
    "start_time": "2022-07-27T21:35:27.672Z"
   },
   {
    "duration": 4,
    "start_time": "2022-07-27T21:35:27.683Z"
   },
   {
    "duration": 14,
    "start_time": "2022-07-27T21:35:27.689Z"
   },
   {
    "duration": 9,
    "start_time": "2022-07-27T21:35:27.704Z"
   },
   {
    "duration": 5,
    "start_time": "2022-07-27T21:35:27.714Z"
   },
   {
    "duration": 34,
    "start_time": "2022-07-27T21:35:27.720Z"
   },
   {
    "duration": 3,
    "start_time": "2022-07-27T21:35:27.756Z"
   },
   {
    "duration": 7,
    "start_time": "2022-07-27T21:35:27.760Z"
   },
   {
    "duration": 9,
    "start_time": "2022-07-27T21:35:27.768Z"
   },
   {
    "duration": 6,
    "start_time": "2022-07-27T21:35:27.778Z"
   },
   {
    "duration": 19,
    "start_time": "2022-07-27T21:35:27.786Z"
   },
   {
    "duration": 48,
    "start_time": "2022-07-27T21:35:27.806Z"
   },
   {
    "duration": 5,
    "start_time": "2022-07-27T21:35:27.856Z"
   },
   {
    "duration": 17,
    "start_time": "2022-07-27T21:35:27.863Z"
   },
   {
    "duration": 15,
    "start_time": "2022-07-27T21:35:27.882Z"
   },
   {
    "duration": 15,
    "start_time": "2022-07-27T21:35:27.898Z"
   },
   {
    "duration": 442,
    "start_time": "2022-07-28T06:43:27.345Z"
   },
   {
    "duration": 22,
    "start_time": "2022-07-28T06:43:27.789Z"
   },
   {
    "duration": 23,
    "start_time": "2022-07-28T06:43:27.812Z"
   },
   {
    "duration": 17,
    "start_time": "2022-07-28T06:43:27.837Z"
   },
   {
    "duration": 39,
    "start_time": "2022-07-28T06:43:27.856Z"
   },
   {
    "duration": 4,
    "start_time": "2022-07-28T06:43:27.897Z"
   },
   {
    "duration": 30,
    "start_time": "2022-07-28T06:43:27.902Z"
   },
   {
    "duration": 9,
    "start_time": "2022-07-28T06:43:27.933Z"
   },
   {
    "duration": 24,
    "start_time": "2022-07-28T06:43:27.943Z"
   },
   {
    "duration": 21,
    "start_time": "2022-07-28T06:43:27.971Z"
   },
   {
    "duration": 50,
    "start_time": "2022-07-28T06:43:27.993Z"
   },
   {
    "duration": 9,
    "start_time": "2022-07-28T06:43:28.045Z"
   },
   {
    "duration": 13,
    "start_time": "2022-07-28T06:43:28.055Z"
   },
   {
    "duration": 20,
    "start_time": "2022-07-28T06:43:28.070Z"
   },
   {
    "duration": 31,
    "start_time": "2022-07-28T06:43:28.092Z"
   },
   {
    "duration": 10,
    "start_time": "2022-07-28T06:43:28.125Z"
   },
   {
    "duration": 8,
    "start_time": "2022-07-28T06:43:28.137Z"
   },
   {
    "duration": 36,
    "start_time": "2022-07-28T06:43:28.146Z"
   },
   {
    "duration": 13,
    "start_time": "2022-07-28T06:43:28.184Z"
   },
   {
    "duration": 33,
    "start_time": "2022-07-28T06:43:28.198Z"
   },
   {
    "duration": 29,
    "start_time": "2022-07-28T06:43:28.233Z"
   },
   {
    "duration": 20,
    "start_time": "2022-07-28T06:43:28.263Z"
   },
   {
    "duration": 14,
    "start_time": "2022-07-28T06:43:28.285Z"
   },
   {
    "duration": 18,
    "start_time": "2022-07-28T06:43:28.300Z"
   },
   {
    "duration": 20,
    "start_time": "2022-07-28T06:43:28.320Z"
   },
   {
    "duration": 35,
    "start_time": "2022-07-28T06:43:28.342Z"
   },
   {
    "duration": 30,
    "start_time": "2022-07-28T06:43:28.378Z"
   },
   {
    "duration": 4,
    "start_time": "2022-07-28T06:43:28.410Z"
   },
   {
    "duration": 34,
    "start_time": "2022-07-28T06:43:28.416Z"
   },
   {
    "duration": 27,
    "start_time": "2022-07-28T06:43:28.451Z"
   },
   {
    "duration": 29,
    "start_time": "2022-07-28T06:43:28.479Z"
   },
   {
    "duration": 510,
    "start_time": "2022-07-28T06:44:30.169Z"
   },
   {
    "duration": 54,
    "start_time": "2022-07-29T10:27:27.760Z"
   },
   {
    "duration": 1020,
    "start_time": "2022-07-29T10:27:36.970Z"
   },
   {
    "duration": 22,
    "start_time": "2022-07-29T10:27:37.992Z"
   },
   {
    "duration": 20,
    "start_time": "2022-07-29T10:27:38.016Z"
   },
   {
    "duration": 9,
    "start_time": "2022-07-29T10:27:38.039Z"
   },
   {
    "duration": 34,
    "start_time": "2022-07-29T10:27:38.050Z"
   },
   {
    "duration": 13,
    "start_time": "2022-07-29T10:27:38.085Z"
   },
   {
    "duration": 8,
    "start_time": "2022-07-29T10:27:38.100Z"
   },
   {
    "duration": 5,
    "start_time": "2022-07-29T10:27:38.109Z"
   },
   {
    "duration": 9,
    "start_time": "2022-07-29T10:27:38.115Z"
   },
   {
    "duration": 4,
    "start_time": "2022-07-29T10:27:38.127Z"
   },
   {
    "duration": 66,
    "start_time": "2022-07-29T10:27:38.132Z"
   },
   {
    "duration": 9,
    "start_time": "2022-07-29T10:27:38.200Z"
   },
   {
    "duration": 3,
    "start_time": "2022-07-29T10:27:38.211Z"
   },
   {
    "duration": 20,
    "start_time": "2022-07-29T10:27:38.216Z"
   },
   {
    "duration": 17,
    "start_time": "2022-07-29T10:27:38.237Z"
   },
   {
    "duration": 11,
    "start_time": "2022-07-29T10:27:38.256Z"
   },
   {
    "duration": 30,
    "start_time": "2022-07-29T10:27:38.269Z"
   },
   {
    "duration": 22,
    "start_time": "2022-07-29T10:27:38.300Z"
   },
   {
    "duration": 10,
    "start_time": "2022-07-29T10:27:38.324Z"
   },
   {
    "duration": 4,
    "start_time": "2022-07-29T10:27:38.335Z"
   },
   {
    "duration": 12,
    "start_time": "2022-07-29T10:27:38.340Z"
   },
   {
    "duration": 10,
    "start_time": "2022-07-29T10:27:38.353Z"
   },
   {
    "duration": 6,
    "start_time": "2022-07-29T10:27:38.365Z"
   },
   {
    "duration": 11,
    "start_time": "2022-07-29T10:27:38.373Z"
   },
   {
    "duration": 15,
    "start_time": "2022-07-29T10:27:38.386Z"
   },
   {
    "duration": 24,
    "start_time": "2022-07-29T10:27:38.402Z"
   },
   {
    "duration": 486,
    "start_time": "2022-07-29T10:27:38.428Z"
   },
   {
    "duration": 110,
    "start_time": "2022-07-29T10:27:38.919Z"
   },
   {
    "duration": 0,
    "start_time": "2022-07-29T10:27:39.031Z"
   },
   {
    "duration": 0,
    "start_time": "2022-07-29T10:27:39.032Z"
   },
   {
    "duration": 0,
    "start_time": "2022-07-29T10:27:39.033Z"
   },
   {
    "duration": 0,
    "start_time": "2022-07-29T10:27:39.034Z"
   },
   {
    "duration": 465,
    "start_time": "2022-07-29T10:28:45.559Z"
   },
   {
    "duration": 22,
    "start_time": "2022-07-29T10:28:46.026Z"
   },
   {
    "duration": 14,
    "start_time": "2022-07-29T10:28:46.050Z"
   },
   {
    "duration": 10,
    "start_time": "2022-07-29T10:28:46.066Z"
   },
   {
    "duration": 32,
    "start_time": "2022-07-29T10:28:46.098Z"
   },
   {
    "duration": 4,
    "start_time": "2022-07-29T10:28:46.132Z"
   },
   {
    "duration": 22,
    "start_time": "2022-07-29T10:28:46.137Z"
   },
   {
    "duration": 7,
    "start_time": "2022-07-29T10:28:46.160Z"
   },
   {
    "duration": 9,
    "start_time": "2022-07-29T10:28:46.168Z"
   },
   {
    "duration": 17,
    "start_time": "2022-07-29T10:28:46.181Z"
   },
   {
    "duration": 34,
    "start_time": "2022-07-29T10:28:46.200Z"
   },
   {
    "duration": 9,
    "start_time": "2022-07-29T10:28:46.235Z"
   },
   {
    "duration": 10,
    "start_time": "2022-07-29T10:28:46.245Z"
   },
   {
    "duration": 20,
    "start_time": "2022-07-29T10:28:46.256Z"
   },
   {
    "duration": 31,
    "start_time": "2022-07-29T10:28:46.278Z"
   },
   {
    "duration": 13,
    "start_time": "2022-07-29T10:28:46.311Z"
   },
   {
    "duration": 17,
    "start_time": "2022-07-29T10:28:46.325Z"
   },
   {
    "duration": 16,
    "start_time": "2022-07-29T10:28:46.344Z"
   },
   {
    "duration": 10,
    "start_time": "2022-07-29T10:28:46.361Z"
   },
   {
    "duration": 7,
    "start_time": "2022-07-29T10:28:46.373Z"
   },
   {
    "duration": 18,
    "start_time": "2022-07-29T10:28:46.382Z"
   },
   {
    "duration": 3,
    "start_time": "2022-07-29T10:28:46.402Z"
   },
   {
    "duration": 14,
    "start_time": "2022-07-29T10:28:46.407Z"
   },
   {
    "duration": 16,
    "start_time": "2022-07-29T10:28:46.423Z"
   },
   {
    "duration": 11,
    "start_time": "2022-07-29T10:28:46.441Z"
   },
   {
    "duration": 19,
    "start_time": "2022-07-29T10:28:46.453Z"
   },
   {
    "duration": 278,
    "start_time": "2022-07-29T10:28:46.474Z"
   },
   {
    "duration": 2,
    "start_time": "2022-07-29T10:28:46.757Z"
   },
   {
    "duration": 8,
    "start_time": "2022-07-29T10:28:46.761Z"
   },
   {
    "duration": 18,
    "start_time": "2022-07-29T10:28:46.771Z"
   },
   {
    "duration": 21,
    "start_time": "2022-07-29T10:28:46.790Z"
   },
   {
    "duration": 16,
    "start_time": "2022-07-29T10:28:46.813Z"
   },
   {
    "duration": 95,
    "start_time": "2022-07-29T10:35:35.743Z"
   },
   {
    "duration": 16,
    "start_time": "2022-07-29T10:35:46.932Z"
   },
   {
    "duration": 23,
    "start_time": "2022-07-29T10:36:21.308Z"
   },
   {
    "duration": 22,
    "start_time": "2022-07-29T10:36:56.589Z"
   },
   {
    "duration": 16,
    "start_time": "2022-07-29T10:38:39.934Z"
   },
   {
    "duration": 20,
    "start_time": "2022-07-29T10:39:05.435Z"
   },
   {
    "duration": 20,
    "start_time": "2022-07-29T10:39:13.312Z"
   },
   {
    "duration": 25,
    "start_time": "2022-07-29T10:39:52.489Z"
   },
   {
    "duration": 30,
    "start_time": "2022-07-29T10:45:54.364Z"
   },
   {
    "duration": 494,
    "start_time": "2022-07-29T10:45:59.999Z"
   },
   {
    "duration": 23,
    "start_time": "2022-07-29T10:46:00.495Z"
   },
   {
    "duration": 15,
    "start_time": "2022-07-29T10:46:00.519Z"
   },
   {
    "duration": 16,
    "start_time": "2022-07-29T10:46:00.537Z"
   },
   {
    "duration": 53,
    "start_time": "2022-07-29T10:46:00.555Z"
   },
   {
    "duration": 4,
    "start_time": "2022-07-29T10:46:00.610Z"
   },
   {
    "duration": 23,
    "start_time": "2022-07-29T10:46:00.616Z"
   },
   {
    "duration": 9,
    "start_time": "2022-07-29T10:46:00.641Z"
   },
   {
    "duration": 12,
    "start_time": "2022-07-29T10:46:00.652Z"
   },
   {
    "duration": 13,
    "start_time": "2022-07-29T10:46:00.667Z"
   },
   {
    "duration": 36,
    "start_time": "2022-07-29T10:46:00.682Z"
   },
   {
    "duration": 9,
    "start_time": "2022-07-29T10:46:00.720Z"
   },
   {
    "duration": 16,
    "start_time": "2022-07-29T10:46:00.731Z"
   },
   {
    "duration": 22,
    "start_time": "2022-07-29T10:46:00.749Z"
   },
   {
    "duration": 17,
    "start_time": "2022-07-29T10:46:00.773Z"
   },
   {
    "duration": 12,
    "start_time": "2022-07-29T10:46:00.797Z"
   },
   {
    "duration": 17,
    "start_time": "2022-07-29T10:46:00.810Z"
   },
   {
    "duration": 23,
    "start_time": "2022-07-29T10:46:00.829Z"
   },
   {
    "duration": 13,
    "start_time": "2022-07-29T10:46:00.853Z"
   },
   {
    "duration": 14,
    "start_time": "2022-07-29T10:46:00.867Z"
   },
   {
    "duration": 13,
    "start_time": "2022-07-29T10:46:00.882Z"
   },
   {
    "duration": 18,
    "start_time": "2022-07-29T10:46:00.896Z"
   },
   {
    "duration": 18,
    "start_time": "2022-07-29T10:46:00.915Z"
   },
   {
    "duration": 27,
    "start_time": "2022-07-29T10:46:00.935Z"
   },
   {
    "duration": 28,
    "start_time": "2022-07-29T10:46:00.964Z"
   },
   {
    "duration": 28,
    "start_time": "2022-07-29T10:46:00.993Z"
   },
   {
    "duration": 294,
    "start_time": "2022-07-29T10:46:01.023Z"
   },
   {
    "duration": 16,
    "start_time": "2022-07-29T10:46:01.320Z"
   },
   {
    "duration": 40,
    "start_time": "2022-07-29T10:46:01.338Z"
   },
   {
    "duration": 3,
    "start_time": "2022-07-29T10:46:01.380Z"
   },
   {
    "duration": 23,
    "start_time": "2022-07-29T10:46:01.385Z"
   },
   {
    "duration": 21,
    "start_time": "2022-07-29T10:46:01.409Z"
   },
   {
    "duration": 22,
    "start_time": "2022-07-29T10:46:01.432Z"
   },
   {
    "duration": 507,
    "start_time": "2022-07-29T10:46:57.343Z"
   },
   {
    "duration": 25,
    "start_time": "2022-07-29T10:46:57.852Z"
   },
   {
    "duration": 29,
    "start_time": "2022-07-29T10:46:57.878Z"
   },
   {
    "duration": 15,
    "start_time": "2022-07-29T10:46:57.910Z"
   },
   {
    "duration": 70,
    "start_time": "2022-07-29T10:46:57.928Z"
   },
   {
    "duration": 4,
    "start_time": "2022-07-29T10:46:58.000Z"
   },
   {
    "duration": 28,
    "start_time": "2022-07-29T10:46:58.005Z"
   },
   {
    "duration": 8,
    "start_time": "2022-07-29T10:46:58.037Z"
   },
   {
    "duration": 29,
    "start_time": "2022-07-29T10:46:58.047Z"
   },
   {
    "duration": 5,
    "start_time": "2022-07-29T10:46:58.077Z"
   },
   {
    "duration": 36,
    "start_time": "2022-07-29T10:46:58.084Z"
   },
   {
    "duration": 10,
    "start_time": "2022-07-29T10:46:58.121Z"
   },
   {
    "duration": 5,
    "start_time": "2022-07-29T10:46:58.132Z"
   },
   {
    "duration": 22,
    "start_time": "2022-07-29T10:46:58.140Z"
   },
   {
    "duration": 35,
    "start_time": "2022-07-29T10:46:58.164Z"
   },
   {
    "duration": 13,
    "start_time": "2022-07-29T10:46:58.201Z"
   },
   {
    "duration": 7,
    "start_time": "2022-07-29T10:46:58.216Z"
   },
   {
    "duration": 15,
    "start_time": "2022-07-29T10:46:58.225Z"
   },
   {
    "duration": 8,
    "start_time": "2022-07-29T10:46:58.242Z"
   },
   {
    "duration": 4,
    "start_time": "2022-07-29T10:46:58.251Z"
   },
   {
    "duration": 11,
    "start_time": "2022-07-29T10:46:58.256Z"
   },
   {
    "duration": 3,
    "start_time": "2022-07-29T10:46:58.269Z"
   },
   {
    "duration": 26,
    "start_time": "2022-07-29T10:46:58.273Z"
   },
   {
    "duration": 9,
    "start_time": "2022-07-29T10:46:58.301Z"
   },
   {
    "duration": 8,
    "start_time": "2022-07-29T10:46:58.312Z"
   },
   {
    "duration": 19,
    "start_time": "2022-07-29T10:46:58.322Z"
   },
   {
    "duration": 312,
    "start_time": "2022-07-29T10:46:58.343Z"
   },
   {
    "duration": 3,
    "start_time": "2022-07-29T10:46:58.657Z"
   },
   {
    "duration": 42,
    "start_time": "2022-07-29T10:46:58.661Z"
   },
   {
    "duration": 4,
    "start_time": "2022-07-29T10:46:58.705Z"
   },
   {
    "duration": 18,
    "start_time": "2022-07-29T10:46:58.710Z"
   },
   {
    "duration": 19,
    "start_time": "2022-07-29T10:46:58.729Z"
   },
   {
    "duration": 16,
    "start_time": "2022-07-29T10:46:58.749Z"
   },
   {
    "duration": 33,
    "start_time": "2022-07-29T10:53:54.032Z"
   },
   {
    "duration": 26,
    "start_time": "2022-07-29T10:54:14.467Z"
   },
   {
    "duration": 25,
    "start_time": "2022-07-29T10:54:16.908Z"
   },
   {
    "duration": 24,
    "start_time": "2022-07-29T10:56:10.263Z"
   },
   {
    "duration": 26,
    "start_time": "2022-07-29T10:56:42.271Z"
   },
   {
    "duration": 24,
    "start_time": "2022-07-29T10:56:45.901Z"
   },
   {
    "duration": 24,
    "start_time": "2022-07-29T10:56:58.138Z"
   },
   {
    "duration": 5,
    "start_time": "2022-07-29T10:57:29.336Z"
   },
   {
    "duration": 23,
    "start_time": "2022-07-29T10:57:39.148Z"
   },
   {
    "duration": 23,
    "start_time": "2022-07-29T10:58:16.886Z"
   },
   {
    "duration": 60,
    "start_time": "2022-07-29T10:59:16.887Z"
   },
   {
    "duration": 1074,
    "start_time": "2022-07-29T10:59:23.140Z"
   },
   {
    "duration": 498,
    "start_time": "2022-07-29T10:59:32.898Z"
   },
   {
    "duration": 22,
    "start_time": "2022-07-29T10:59:33.398Z"
   },
   {
    "duration": 16,
    "start_time": "2022-07-29T10:59:33.424Z"
   },
   {
    "duration": 10,
    "start_time": "2022-07-29T10:59:33.441Z"
   },
   {
    "duration": 62,
    "start_time": "2022-07-29T10:59:33.453Z"
   },
   {
    "duration": 4,
    "start_time": "2022-07-29T10:59:33.517Z"
   },
   {
    "duration": 11,
    "start_time": "2022-07-29T10:59:33.522Z"
   },
   {
    "duration": 5,
    "start_time": "2022-07-29T10:59:33.534Z"
   },
   {
    "duration": 8,
    "start_time": "2022-07-29T10:59:33.544Z"
   },
   {
    "duration": 8,
    "start_time": "2022-07-29T10:59:33.553Z"
   },
   {
    "duration": 63,
    "start_time": "2022-07-29T10:59:33.562Z"
   },
   {
    "duration": 10,
    "start_time": "2022-07-29T10:59:33.626Z"
   },
   {
    "duration": 4,
    "start_time": "2022-07-29T10:59:33.637Z"
   },
   {
    "duration": 24,
    "start_time": "2022-07-29T10:59:33.643Z"
   },
   {
    "duration": 36,
    "start_time": "2022-07-29T10:59:33.669Z"
   },
   {
    "duration": 12,
    "start_time": "2022-07-29T10:59:33.706Z"
   },
   {
    "duration": 5,
    "start_time": "2022-07-29T10:59:33.719Z"
   },
   {
    "duration": 18,
    "start_time": "2022-07-29T10:59:33.725Z"
   },
   {
    "duration": 12,
    "start_time": "2022-07-29T10:59:33.744Z"
   },
   {
    "duration": 5,
    "start_time": "2022-07-29T10:59:33.758Z"
   },
   {
    "duration": 15,
    "start_time": "2022-07-29T10:59:33.764Z"
   },
   {
    "duration": 5,
    "start_time": "2022-07-29T10:59:33.798Z"
   },
   {
    "duration": 7,
    "start_time": "2022-07-29T10:59:33.805Z"
   },
   {
    "duration": 12,
    "start_time": "2022-07-29T10:59:33.813Z"
   },
   {
    "duration": 18,
    "start_time": "2022-07-29T10:59:33.827Z"
   },
   {
    "duration": 21,
    "start_time": "2022-07-29T10:59:33.847Z"
   },
   {
    "duration": 288,
    "start_time": "2022-07-29T10:59:33.871Z"
   },
   {
    "duration": 15,
    "start_time": "2022-07-29T10:59:34.160Z"
   },
   {
    "duration": 51,
    "start_time": "2022-07-29T10:59:34.177Z"
   },
   {
    "duration": 4,
    "start_time": "2022-07-29T10:59:34.230Z"
   },
   {
    "duration": 16,
    "start_time": "2022-07-29T10:59:34.237Z"
   },
   {
    "duration": 16,
    "start_time": "2022-07-29T10:59:34.255Z"
   },
   {
    "duration": 38,
    "start_time": "2022-07-29T10:59:34.272Z"
   },
   {
    "duration": 535,
    "start_time": "2022-07-29T11:11:05.363Z"
   },
   {
    "duration": 25,
    "start_time": "2022-07-29T11:11:05.901Z"
   },
   {
    "duration": 17,
    "start_time": "2022-07-29T11:11:05.927Z"
   },
   {
    "duration": 12,
    "start_time": "2022-07-29T11:11:05.947Z"
   },
   {
    "duration": 63,
    "start_time": "2022-07-29T11:11:05.960Z"
   },
   {
    "duration": 3,
    "start_time": "2022-07-29T11:11:06.025Z"
   },
   {
    "duration": 11,
    "start_time": "2022-07-29T11:11:06.030Z"
   },
   {
    "duration": 5,
    "start_time": "2022-07-29T11:11:06.042Z"
   },
   {
    "duration": 8,
    "start_time": "2022-07-29T11:11:06.049Z"
   },
   {
    "duration": 4,
    "start_time": "2022-07-29T11:11:06.061Z"
   },
   {
    "duration": 63,
    "start_time": "2022-07-29T11:11:06.067Z"
   },
   {
    "duration": 12,
    "start_time": "2022-07-29T11:11:06.132Z"
   },
   {
    "duration": 9,
    "start_time": "2022-07-29T11:11:06.146Z"
   },
   {
    "duration": 43,
    "start_time": "2022-07-29T11:11:06.157Z"
   },
   {
    "duration": 19,
    "start_time": "2022-07-29T11:11:06.201Z"
   },
   {
    "duration": 12,
    "start_time": "2022-07-29T11:11:06.222Z"
   },
   {
    "duration": 9,
    "start_time": "2022-07-29T11:11:06.236Z"
   },
   {
    "duration": 15,
    "start_time": "2022-07-29T11:11:06.247Z"
   },
   {
    "duration": 14,
    "start_time": "2022-07-29T11:11:06.264Z"
   },
   {
    "duration": 18,
    "start_time": "2022-07-29T11:11:06.281Z"
   },
   {
    "duration": 10,
    "start_time": "2022-07-29T11:11:06.301Z"
   },
   {
    "duration": 4,
    "start_time": "2022-07-29T11:11:06.312Z"
   },
   {
    "duration": 9,
    "start_time": "2022-07-29T11:11:06.317Z"
   },
   {
    "duration": 12,
    "start_time": "2022-07-29T11:11:06.327Z"
   },
   {
    "duration": 9,
    "start_time": "2022-07-29T11:11:06.341Z"
   },
   {
    "duration": 19,
    "start_time": "2022-07-29T11:11:06.352Z"
   },
   {
    "duration": 297,
    "start_time": "2022-07-29T11:11:06.397Z"
   },
   {
    "duration": 17,
    "start_time": "2022-07-29T11:11:06.699Z"
   },
   {
    "duration": 4,
    "start_time": "2022-07-29T11:11:06.717Z"
   },
   {
    "duration": 19,
    "start_time": "2022-07-29T11:11:06.723Z"
   },
   {
    "duration": 21,
    "start_time": "2022-07-29T11:11:06.743Z"
   },
   {
    "duration": 36,
    "start_time": "2022-07-29T11:11:06.765Z"
   },
   {
    "duration": 482,
    "start_time": "2022-07-29T11:11:29.909Z"
   },
   {
    "duration": 23,
    "start_time": "2022-07-29T11:11:30.393Z"
   },
   {
    "duration": 21,
    "start_time": "2022-07-29T11:11:30.418Z"
   },
   {
    "duration": 10,
    "start_time": "2022-07-29T11:11:30.441Z"
   },
   {
    "duration": 47,
    "start_time": "2022-07-29T11:11:30.453Z"
   },
   {
    "duration": 4,
    "start_time": "2022-07-29T11:11:30.501Z"
   },
   {
    "duration": 32,
    "start_time": "2022-07-29T11:11:30.506Z"
   },
   {
    "duration": 15,
    "start_time": "2022-07-29T11:11:30.540Z"
   },
   {
    "duration": 28,
    "start_time": "2022-07-29T11:11:30.556Z"
   },
   {
    "duration": 18,
    "start_time": "2022-07-29T11:11:30.587Z"
   },
   {
    "duration": 41,
    "start_time": "2022-07-29T11:11:30.607Z"
   },
   {
    "duration": 10,
    "start_time": "2022-07-29T11:11:30.650Z"
   },
   {
    "duration": 9,
    "start_time": "2022-07-29T11:11:30.662Z"
   },
   {
    "duration": 47,
    "start_time": "2022-07-29T11:11:30.673Z"
   },
   {
    "duration": 19,
    "start_time": "2022-07-29T11:11:30.722Z"
   },
   {
    "duration": 17,
    "start_time": "2022-07-29T11:11:30.743Z"
   },
   {
    "duration": 22,
    "start_time": "2022-07-29T11:11:30.761Z"
   },
   {
    "duration": 27,
    "start_time": "2022-07-29T11:11:30.785Z"
   },
   {
    "duration": 27,
    "start_time": "2022-07-29T11:11:30.814Z"
   },
   {
    "duration": 15,
    "start_time": "2022-07-29T11:11:30.843Z"
   },
   {
    "duration": 23,
    "start_time": "2022-07-29T11:11:30.860Z"
   },
   {
    "duration": 29,
    "start_time": "2022-07-29T11:11:30.885Z"
   },
   {
    "duration": 30,
    "start_time": "2022-07-29T11:11:30.915Z"
   },
   {
    "duration": 25,
    "start_time": "2022-07-29T11:11:30.946Z"
   },
   {
    "duration": 28,
    "start_time": "2022-07-29T11:11:30.972Z"
   },
   {
    "duration": 27,
    "start_time": "2022-07-29T11:11:31.002Z"
   },
   {
    "duration": 309,
    "start_time": "2022-07-29T11:11:31.031Z"
   },
   {
    "duration": 34,
    "start_time": "2022-07-29T11:11:31.345Z"
   },
   {
    "duration": 18,
    "start_time": "2022-07-29T11:11:31.381Z"
   },
   {
    "duration": 11,
    "start_time": "2022-07-29T11:11:31.402Z"
   },
   {
    "duration": 46,
    "start_time": "2022-07-29T11:11:31.415Z"
   },
   {
    "duration": 18,
    "start_time": "2022-07-29T11:11:31.463Z"
   },
   {
    "duration": 36,
    "start_time": "2022-07-29T11:31:44.122Z"
   },
   {
    "duration": 30,
    "start_time": "2022-07-29T11:32:17.604Z"
   },
   {
    "duration": 30,
    "start_time": "2022-07-29T11:32:23.986Z"
   },
   {
    "duration": 75,
    "start_time": "2022-07-29T11:32:39.914Z"
   },
   {
    "duration": 48,
    "start_time": "2022-07-29T11:33:15.762Z"
   },
   {
    "duration": 29,
    "start_time": "2022-07-29T11:33:22.493Z"
   },
   {
    "duration": 1028,
    "start_time": "2022-07-29T11:36:08.469Z"
   },
   {
    "duration": 443,
    "start_time": "2022-07-29T11:36:17.757Z"
   },
   {
    "duration": 23,
    "start_time": "2022-07-29T11:36:18.202Z"
   },
   {
    "duration": 15,
    "start_time": "2022-07-29T11:36:18.226Z"
   },
   {
    "duration": 9,
    "start_time": "2022-07-29T11:36:18.243Z"
   },
   {
    "duration": 61,
    "start_time": "2022-07-29T11:36:18.254Z"
   },
   {
    "duration": 4,
    "start_time": "2022-07-29T11:36:18.316Z"
   },
   {
    "duration": 27,
    "start_time": "2022-07-29T11:36:18.321Z"
   },
   {
    "duration": 9,
    "start_time": "2022-07-29T11:36:18.350Z"
   },
   {
    "duration": 11,
    "start_time": "2022-07-29T11:36:18.360Z"
   },
   {
    "duration": 5,
    "start_time": "2022-07-29T11:36:18.376Z"
   },
   {
    "duration": 47,
    "start_time": "2022-07-29T11:36:18.383Z"
   },
   {
    "duration": 11,
    "start_time": "2022-07-29T11:36:18.432Z"
   },
   {
    "duration": 4,
    "start_time": "2022-07-29T11:36:18.445Z"
   },
   {
    "duration": 20,
    "start_time": "2022-07-29T11:36:18.451Z"
   },
   {
    "duration": 19,
    "start_time": "2022-07-29T11:36:18.498Z"
   },
   {
    "duration": 11,
    "start_time": "2022-07-29T11:36:18.519Z"
   },
   {
    "duration": 7,
    "start_time": "2022-07-29T11:36:18.532Z"
   },
   {
    "duration": 16,
    "start_time": "2022-07-29T11:36:18.541Z"
   },
   {
    "duration": 14,
    "start_time": "2022-07-29T11:36:18.559Z"
   },
   {
    "duration": 27,
    "start_time": "2022-07-29T11:36:18.574Z"
   },
   {
    "duration": 14,
    "start_time": "2022-07-29T11:36:18.603Z"
   },
   {
    "duration": 8,
    "start_time": "2022-07-29T11:36:18.619Z"
   },
   {
    "duration": 7,
    "start_time": "2022-07-29T11:36:18.628Z"
   },
   {
    "duration": 11,
    "start_time": "2022-07-29T11:36:18.637Z"
   },
   {
    "duration": 6,
    "start_time": "2022-07-29T11:36:18.650Z"
   },
   {
    "duration": 40,
    "start_time": "2022-07-29T11:36:18.658Z"
   },
   {
    "duration": 339,
    "start_time": "2022-07-29T11:36:18.700Z"
   },
   {
    "duration": 24,
    "start_time": "2022-07-29T11:36:19.043Z"
   },
   {
    "duration": 1160,
    "start_time": "2022-07-29T11:36:19.069Z"
   },
   {
    "duration": 0,
    "start_time": "2022-07-29T11:36:20.231Z"
   },
   {
    "duration": 0,
    "start_time": "2022-07-29T11:36:20.231Z"
   },
   {
    "duration": 0,
    "start_time": "2022-07-29T11:36:20.233Z"
   },
   {
    "duration": 0,
    "start_time": "2022-07-29T11:36:20.234Z"
   },
   {
    "duration": 1647,
    "start_time": "2022-07-29T11:36:29.982Z"
   },
   {
    "duration": 28,
    "start_time": "2022-07-29T11:37:11.259Z"
   },
   {
    "duration": 4,
    "start_time": "2022-07-29T11:37:56.425Z"
   },
   {
    "duration": 4,
    "start_time": "2022-07-29T11:38:00.756Z"
   },
   {
    "duration": 4,
    "start_time": "2022-07-29T11:38:05.363Z"
   },
   {
    "duration": 38,
    "start_time": "2022-07-29T11:38:23.455Z"
   },
   {
    "duration": 32,
    "start_time": "2022-07-29T11:38:37.359Z"
   },
   {
    "duration": 54,
    "start_time": "2022-07-29T11:43:19.498Z"
   },
   {
    "duration": 31,
    "start_time": "2022-07-29T11:43:28.812Z"
   },
   {
    "duration": 498,
    "start_time": "2022-07-29T13:00:34.471Z"
   },
   {
    "duration": 21,
    "start_time": "2022-07-29T13:00:34.971Z"
   },
   {
    "duration": 20,
    "start_time": "2022-07-29T13:00:34.993Z"
   },
   {
    "duration": 13,
    "start_time": "2022-07-29T13:00:35.015Z"
   },
   {
    "duration": 36,
    "start_time": "2022-07-29T13:00:35.031Z"
   },
   {
    "duration": 4,
    "start_time": "2022-07-29T13:00:35.069Z"
   },
   {
    "duration": 46,
    "start_time": "2022-07-29T13:00:35.075Z"
   },
   {
    "duration": 5,
    "start_time": "2022-07-29T13:00:35.123Z"
   },
   {
    "duration": 11,
    "start_time": "2022-07-29T13:00:35.129Z"
   },
   {
    "duration": 23,
    "start_time": "2022-07-29T13:00:35.142Z"
   },
   {
    "duration": 41,
    "start_time": "2022-07-29T13:00:35.167Z"
   },
   {
    "duration": 12,
    "start_time": "2022-07-29T13:00:35.210Z"
   },
   {
    "duration": 5,
    "start_time": "2022-07-29T13:00:35.224Z"
   },
   {
    "duration": 21,
    "start_time": "2022-07-29T13:00:35.232Z"
   },
   {
    "duration": 19,
    "start_time": "2022-07-29T13:00:35.254Z"
   },
   {
    "duration": 44,
    "start_time": "2022-07-29T13:00:35.275Z"
   },
   {
    "duration": 5,
    "start_time": "2022-07-29T13:00:35.321Z"
   },
   {
    "duration": 12,
    "start_time": "2022-07-29T13:00:35.327Z"
   },
   {
    "duration": 13,
    "start_time": "2022-07-29T13:00:35.340Z"
   },
   {
    "duration": 4,
    "start_time": "2022-07-29T13:00:35.355Z"
   },
   {
    "duration": 11,
    "start_time": "2022-07-29T13:00:35.361Z"
   },
   {
    "duration": 8,
    "start_time": "2022-07-29T13:00:35.374Z"
   },
   {
    "duration": 24,
    "start_time": "2022-07-29T13:00:35.384Z"
   },
   {
    "duration": 11,
    "start_time": "2022-07-29T13:00:35.410Z"
   },
   {
    "duration": 10,
    "start_time": "2022-07-29T13:00:35.423Z"
   },
   {
    "duration": 27,
    "start_time": "2022-07-29T13:00:35.434Z"
   },
   {
    "duration": 307,
    "start_time": "2022-07-29T13:00:35.463Z"
   },
   {
    "duration": 37,
    "start_time": "2022-07-29T13:00:35.772Z"
   },
   {
    "duration": 39,
    "start_time": "2022-07-29T13:00:35.811Z"
   },
   {
    "duration": 4,
    "start_time": "2022-07-29T13:00:35.851Z"
   },
   {
    "duration": 21,
    "start_time": "2022-07-29T13:00:35.856Z"
   },
   {
    "duration": 32,
    "start_time": "2022-07-29T13:00:35.878Z"
   },
   {
    "duration": 16,
    "start_time": "2022-07-29T13:00:35.912Z"
   },
   {
    "duration": 2,
    "start_time": "2022-07-29T13:01:45.651Z"
   },
   {
    "duration": 66,
    "start_time": "2022-07-29T13:14:49.953Z"
   },
   {
    "duration": 123,
    "start_time": "2022-07-29T13:15:11.649Z"
   },
   {
    "duration": 97,
    "start_time": "2022-07-29T13:15:47.005Z"
   },
   {
    "duration": 555,
    "start_time": "2022-07-29T13:16:53.974Z"
   },
   {
    "duration": 29,
    "start_time": "2022-07-29T13:16:54.532Z"
   },
   {
    "duration": 28,
    "start_time": "2022-07-29T13:16:54.563Z"
   },
   {
    "duration": 17,
    "start_time": "2022-07-29T13:16:54.598Z"
   },
   {
    "duration": 52,
    "start_time": "2022-07-29T13:16:54.618Z"
   },
   {
    "duration": 4,
    "start_time": "2022-07-29T13:16:54.672Z"
   },
   {
    "duration": 26,
    "start_time": "2022-07-29T13:16:54.677Z"
   },
   {
    "duration": 8,
    "start_time": "2022-07-29T13:16:54.705Z"
   },
   {
    "duration": 13,
    "start_time": "2022-07-29T13:16:54.715Z"
   },
   {
    "duration": 6,
    "start_time": "2022-07-29T13:16:54.732Z"
   },
   {
    "duration": 39,
    "start_time": "2022-07-29T13:16:54.740Z"
   },
   {
    "duration": 10,
    "start_time": "2022-07-29T13:16:54.797Z"
   },
   {
    "duration": 4,
    "start_time": "2022-07-29T13:16:54.809Z"
   },
   {
    "duration": 21,
    "start_time": "2022-07-29T13:16:54.815Z"
   },
   {
    "duration": 20,
    "start_time": "2022-07-29T13:16:54.837Z"
   },
   {
    "duration": 12,
    "start_time": "2022-07-29T13:16:54.858Z"
   },
   {
    "duration": 14,
    "start_time": "2022-07-29T13:16:54.897Z"
   },
   {
    "duration": 17,
    "start_time": "2022-07-29T13:16:54.913Z"
   },
   {
    "duration": 8,
    "start_time": "2022-07-29T13:16:54.932Z"
   },
   {
    "duration": 5,
    "start_time": "2022-07-29T13:16:54.942Z"
   },
   {
    "duration": 13,
    "start_time": "2022-07-29T13:16:54.948Z"
   },
   {
    "duration": 7,
    "start_time": "2022-07-29T13:16:54.963Z"
   },
   {
    "duration": 9,
    "start_time": "2022-07-29T13:16:54.972Z"
   },
   {
    "duration": 22,
    "start_time": "2022-07-29T13:16:54.982Z"
   },
   {
    "duration": 36,
    "start_time": "2022-07-29T13:16:55.006Z"
   },
   {
    "duration": 27,
    "start_time": "2022-07-29T13:16:55.044Z"
   },
   {
    "duration": 290,
    "start_time": "2022-07-29T13:16:55.073Z"
   },
   {
    "duration": 2,
    "start_time": "2022-07-29T13:16:55.367Z"
   },
   {
    "duration": 52,
    "start_time": "2022-07-29T13:16:55.371Z"
   },
   {
    "duration": 4,
    "start_time": "2022-07-29T13:16:55.425Z"
   },
   {
    "duration": 12,
    "start_time": "2022-07-29T13:16:55.431Z"
   },
   {
    "duration": 19,
    "start_time": "2022-07-29T13:16:55.445Z"
   },
   {
    "duration": 38,
    "start_time": "2022-07-29T13:16:55.465Z"
   },
   {
    "duration": 472,
    "start_time": "2022-07-29T13:27:15.840Z"
   },
   {
    "duration": 22,
    "start_time": "2022-07-29T13:27:16.316Z"
   },
   {
    "duration": 16,
    "start_time": "2022-07-29T13:27:16.340Z"
   },
   {
    "duration": 11,
    "start_time": "2022-07-29T13:27:16.358Z"
   },
   {
    "duration": 61,
    "start_time": "2022-07-29T13:27:16.371Z"
   },
   {
    "duration": 4,
    "start_time": "2022-07-29T13:27:16.433Z"
   },
   {
    "duration": 10,
    "start_time": "2022-07-29T13:27:16.439Z"
   },
   {
    "duration": 11,
    "start_time": "2022-07-29T13:27:16.451Z"
   },
   {
    "duration": 7,
    "start_time": "2022-07-29T13:27:16.464Z"
   },
   {
    "duration": 5,
    "start_time": "2022-07-29T13:27:16.476Z"
   },
   {
    "duration": 53,
    "start_time": "2022-07-29T13:27:16.500Z"
   },
   {
    "duration": 11,
    "start_time": "2022-07-29T13:27:16.555Z"
   },
   {
    "duration": 8,
    "start_time": "2022-07-29T13:27:16.568Z"
   },
   {
    "duration": 44,
    "start_time": "2022-07-29T13:27:16.577Z"
   },
   {
    "duration": 16,
    "start_time": "2022-07-29T13:27:16.623Z"
   },
   {
    "duration": 13,
    "start_time": "2022-07-29T13:27:16.641Z"
   },
   {
    "duration": 19,
    "start_time": "2022-07-29T13:27:16.655Z"
   },
   {
    "duration": 15,
    "start_time": "2022-07-29T13:27:16.676Z"
   },
   {
    "duration": 32,
    "start_time": "2022-07-29T13:27:16.693Z"
   },
   {
    "duration": 4,
    "start_time": "2022-07-29T13:27:16.727Z"
   },
   {
    "duration": 11,
    "start_time": "2022-07-29T13:27:16.733Z"
   },
   {
    "duration": 7,
    "start_time": "2022-07-29T13:27:16.746Z"
   },
   {
    "duration": 4,
    "start_time": "2022-07-29T13:27:16.754Z"
   },
   {
    "duration": 11,
    "start_time": "2022-07-29T13:27:16.760Z"
   },
   {
    "duration": 10,
    "start_time": "2022-07-29T13:27:16.772Z"
   },
   {
    "duration": 49,
    "start_time": "2022-07-29T13:27:16.783Z"
   },
   {
    "duration": 300,
    "start_time": "2022-07-29T13:27:16.834Z"
   },
   {
    "duration": 3,
    "start_time": "2022-07-29T13:27:17.137Z"
   },
   {
    "duration": 49,
    "start_time": "2022-07-29T13:27:17.141Z"
   },
   {
    "duration": 6,
    "start_time": "2022-07-29T13:27:17.192Z"
   },
   {
    "duration": 19,
    "start_time": "2022-07-29T13:27:17.199Z"
   },
   {
    "duration": 25,
    "start_time": "2022-07-29T13:27:17.220Z"
   },
   {
    "duration": 16,
    "start_time": "2022-07-29T13:27:17.247Z"
   },
   {
    "duration": 56,
    "start_time": "2022-07-29T13:27:17.265Z"
   },
   {
    "duration": 15,
    "start_time": "2022-07-29T13:30:44.070Z"
   },
   {
    "duration": 505,
    "start_time": "2022-07-29T13:32:58.680Z"
   },
   {
    "duration": 32,
    "start_time": "2022-07-29T13:32:59.187Z"
   },
   {
    "duration": 32,
    "start_time": "2022-07-29T13:32:59.221Z"
   },
   {
    "duration": 13,
    "start_time": "2022-07-29T13:32:59.255Z"
   },
   {
    "duration": 44,
    "start_time": "2022-07-29T13:32:59.270Z"
   },
   {
    "duration": 4,
    "start_time": "2022-07-29T13:32:59.315Z"
   },
   {
    "duration": 22,
    "start_time": "2022-07-29T13:32:59.320Z"
   },
   {
    "duration": 12,
    "start_time": "2022-07-29T13:32:59.344Z"
   },
   {
    "duration": 22,
    "start_time": "2022-07-29T13:32:59.357Z"
   },
   {
    "duration": 12,
    "start_time": "2022-07-29T13:32:59.384Z"
   },
   {
    "duration": 66,
    "start_time": "2022-07-29T13:32:59.398Z"
   },
   {
    "duration": 9,
    "start_time": "2022-07-29T13:32:59.465Z"
   },
   {
    "duration": 18,
    "start_time": "2022-07-29T13:32:59.476Z"
   },
   {
    "duration": 36,
    "start_time": "2022-07-29T13:32:59.496Z"
   },
   {
    "duration": 17,
    "start_time": "2022-07-29T13:32:59.533Z"
   },
   {
    "duration": 15,
    "start_time": "2022-07-29T13:32:59.552Z"
   },
   {
    "duration": 16,
    "start_time": "2022-07-29T13:32:59.569Z"
   },
   {
    "duration": 28,
    "start_time": "2022-07-29T13:32:59.586Z"
   },
   {
    "duration": 17,
    "start_time": "2022-07-29T13:32:59.616Z"
   },
   {
    "duration": 7,
    "start_time": "2022-07-29T13:32:59.635Z"
   },
   {
    "duration": 27,
    "start_time": "2022-07-29T13:32:59.643Z"
   },
   {
    "duration": 19,
    "start_time": "2022-07-29T13:32:59.672Z"
   },
   {
    "duration": 20,
    "start_time": "2022-07-29T13:32:59.693Z"
   },
   {
    "duration": 12,
    "start_time": "2022-07-29T13:32:59.715Z"
   },
   {
    "duration": 10,
    "start_time": "2022-07-29T13:32:59.728Z"
   },
   {
    "duration": 23,
    "start_time": "2022-07-29T13:32:59.740Z"
   },
   {
    "duration": 317,
    "start_time": "2022-07-29T13:32:59.765Z"
   },
   {
    "duration": 2,
    "start_time": "2022-07-29T13:33:00.085Z"
   },
   {
    "duration": 93,
    "start_time": "2022-07-29T13:33:00.089Z"
   },
   {
    "duration": 4,
    "start_time": "2022-07-29T13:33:00.184Z"
   },
   {
    "duration": 33,
    "start_time": "2022-07-29T13:33:00.189Z"
   },
   {
    "duration": 25,
    "start_time": "2022-07-29T13:33:00.223Z"
   },
   {
    "duration": 17,
    "start_time": "2022-07-29T13:33:00.250Z"
   },
   {
    "duration": 475,
    "start_time": "2022-07-29T13:37:06.554Z"
   },
   {
    "duration": 36,
    "start_time": "2022-07-29T13:37:07.036Z"
   },
   {
    "duration": 18,
    "start_time": "2022-07-29T13:37:07.074Z"
   },
   {
    "duration": 31,
    "start_time": "2022-07-29T13:37:07.098Z"
   },
   {
    "duration": 55,
    "start_time": "2022-07-29T13:37:07.131Z"
   },
   {
    "duration": 4,
    "start_time": "2022-07-29T13:37:07.188Z"
   },
   {
    "duration": 43,
    "start_time": "2022-07-29T13:37:07.193Z"
   },
   {
    "duration": 6,
    "start_time": "2022-07-29T13:37:07.237Z"
   },
   {
    "duration": 10,
    "start_time": "2022-07-29T13:37:07.245Z"
   },
   {
    "duration": 6,
    "start_time": "2022-07-29T13:37:07.257Z"
   },
   {
    "duration": 57,
    "start_time": "2022-07-29T13:37:07.265Z"
   },
   {
    "duration": 17,
    "start_time": "2022-07-29T13:37:07.325Z"
   },
   {
    "duration": 5,
    "start_time": "2022-07-29T13:37:07.343Z"
   },
   {
    "duration": 31,
    "start_time": "2022-07-29T13:37:07.349Z"
   },
   {
    "duration": 33,
    "start_time": "2022-07-29T13:37:07.382Z"
   },
   {
    "duration": 12,
    "start_time": "2022-07-29T13:37:07.428Z"
   },
   {
    "duration": 6,
    "start_time": "2022-07-29T13:37:07.442Z"
   },
   {
    "duration": 12,
    "start_time": "2022-07-29T13:37:07.450Z"
   },
   {
    "duration": 6,
    "start_time": "2022-07-29T13:37:07.464Z"
   },
   {
    "duration": 7,
    "start_time": "2022-07-29T13:37:07.472Z"
   },
   {
    "duration": 38,
    "start_time": "2022-07-29T13:37:07.481Z"
   },
   {
    "duration": 16,
    "start_time": "2022-07-29T13:37:07.520Z"
   },
   {
    "duration": 5,
    "start_time": "2022-07-29T13:37:07.538Z"
   },
   {
    "duration": 21,
    "start_time": "2022-07-29T13:37:07.544Z"
   },
   {
    "duration": 22,
    "start_time": "2022-07-29T13:37:07.567Z"
   },
   {
    "duration": 43,
    "start_time": "2022-07-29T13:37:07.591Z"
   },
   {
    "duration": 304,
    "start_time": "2022-07-29T13:37:07.636Z"
   },
   {
    "duration": 3,
    "start_time": "2022-07-29T13:37:07.943Z"
   },
   {
    "duration": 42,
    "start_time": "2022-07-29T13:37:07.947Z"
   },
   {
    "duration": 21,
    "start_time": "2022-07-29T13:37:07.991Z"
   },
   {
    "duration": 17,
    "start_time": "2022-07-29T13:37:08.025Z"
   },
   {
    "duration": 18,
    "start_time": "2022-07-29T13:37:08.044Z"
   },
   {
    "duration": 16,
    "start_time": "2022-07-29T13:37:08.064Z"
   }
  ],
  "colab": {
   "name": "dpp_template_part2.ipynb",
   "provenance": []
  },
  "kernelspec": {
   "display_name": "Python 3 (ipykernel)",
   "language": "python",
   "name": "python3"
  },
  "language_info": {
   "codemirror_mode": {
    "name": "ipython",
    "version": 3
   },
   "file_extension": ".py",
   "mimetype": "text/x-python",
   "name": "python",
   "nbconvert_exporter": "python",
   "pygments_lexer": "ipython3",
   "version": "3.9.5"
  },
  "toc": {
   "base_numbering": 1,
   "nav_menu": {},
   "number_sections": true,
   "sideBar": true,
   "skip_h1_title": true,
   "title_cell": "Table of Contents",
   "title_sidebar": "Contents",
   "toc_cell": false,
   "toc_position": {},
   "toc_section_display": true,
   "toc_window_display": false
  }
 },
 "nbformat": 4,
 "nbformat_minor": 5
}
