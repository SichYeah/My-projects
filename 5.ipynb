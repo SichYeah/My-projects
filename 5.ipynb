{
 "cells": [
  {
   "cell_type": "markdown",
   "metadata": {},
   "source": [
    "<div style=\"border:solid blue 3px; padding: 20px\">\n",
    "\n",
    "**Привет, Илья!** 👋\n",
    "\n",
    "Меня зовут Алексей Манелюк, я буду проверять твой проект. Предлагаю общаться на \"ты\" 😉, но если неудобно - скажи и будем на \"вы\".\n",
    "\n",
    "Моя цель - не указать на совершенные тобой ошибки, а поделиться своим опытом и помочь тебе сделать крутой проект, который не стыдно будет положить в твое портфолио.\n",
    "\n",
    "В тексте проекта ты увидишь мои комментарии, пожалуйста, не удаляй, не перемещай и не изменяй их. У комментариев могут быть приписки **V2**, **V3** и т.д., которые соответствуют версии проверки. Я буду использовать цветовую разметку:\n",
    "<p>\n",
    "<div class=\"alert-danger\">\n",
    "<b>Комментарий ревьюера ❌</b>\n",
    "\n",
    "Так выделены самые важные замечания. Без их отработки я не смогу принять проект. </div>\n",
    "\n",
    "<div class=\"alert-warning\">\n",
    "<b>Комментарий ревьюера ⚠️</b>\n",
    "\n",
    "Так выделены небольшие замечания или полезные советы. Постарайся учесть их.</div>\n",
    "<p>\n",
    "<div class=\"alert-success\">\n",
    "<b>Комментарий ревьюера ✔️</b>\n",
    "\n",
    "Так выделены правильные решения.</div>\n",
    "\n",
    "Предлагаю работать в диалоге: если что-то дорабатываешь или отвечаешь на мой комментарий - пиши об этом. Мне будет удобней, если ты выделишь свои комментарии:\n",
    "<p>\n",
    "<div class=\"alert-info\">\n",
    "<b>Комментарий студента</b>\n",
    "\n",
    "Например, так.</div>\n",
    "\n",
    "Все это поможет мне быстрее принять твой проект.</div>"
   ]
  },
  {
   "cell_type": "markdown",
   "metadata": {},
   "source": [
    "<div style=\"border:solid green 2px; padding: 20px\">\n",
    "<div class=\"alert alert-info\"> 🧩<b>Комментарии студента:</b> \n",
    "Привет, Алексей!    \n",
    "Спасибо большое за твоё ревью, постарался исправить замечания </div>    \n"
   ]
  },
  {
   "cell_type": "markdown",
   "metadata": {},
   "source": [
    "# Сборочный проект - 1. Исследование рынка игр"
   ]
  },
  {
   "cell_type": "markdown",
   "metadata": {},
   "source": [
    "## **Описание проекта**"
   ]
  },
  {
   "cell_type": "markdown",
   "metadata": {},
   "source": [
    "Вы работаете в интернет-магазине «Стримчик», который продаёт по всему миру компьютерные игры. Из открытых источников доступны исторические данные о продажах игр, оценки пользователей и экспертов, жанры и платформы (например, Xbox или PlayStation). Вам нужно выявить определяющие успешность игры закономерности. Это позволит сделать ставку на потенциально популярный продукт и спланировать рекламные кампании.\n",
    "Перед вами данные до 2016 года. Представим, что сейчас декабрь 2016 г., и вы планируете кампанию на 2017-й. Нужно отработать принцип работы с данными. Неважно, прогнозируете ли вы продажи на 2017 год по данным 2016-го или же 2027-й — по данным 2026 года.\n",
    "В наборе данных попадается аббревиатура ESRB (Entertainment Software Rating Board) — это ассоциация, определяющая возрастной рейтинг компьютерных игр. ESRB оценивает игровой контент и присваивает ему подходящую возрастную категорию, например, «Для взрослых», «Для детей младшего возраста» или «Для подростков»."
   ]
  },
  {
   "cell_type": "markdown",
   "metadata": {},
   "source": [
    "\n",
    "**Цель исследования** \n",
    "Проанализировать данные для определения зависимости количества продаж от игровой платформы за несколько лет. Выявить потенциально прибыльные платформы, найти закономерности, определить влияние оценок пользователей и критиков на число продаж, узнать предпочтения пользователей разных стран. \n",
    "\n",
    "**Ход исследования**\n",
    "\n",
    "Данные о поведении пользователей получаем из данных предоставленных интернет-магазина. О качестве данных ничего не известно. Поэтому перед проверкой гипотез понадобится обзор данных. \n",
    "\n",
    "Необходимо проверить данные на ошибки, найти аномальные значения и оценить их влияние на исследование. Затем, на этапе предобработки сделать все возможное, чтобы исправить самые критичные ошибки данных.\n",
    " \n",
    "Таким образом, исследование пройдёт в пять этапов:\n",
    " 1. Обзор данных.\n",
    " 2. Предобработка данных.\n",
    " 3. Определение зависимости факторов друг от друга и визуализация данных в виде различных графиков.\n",
    " 4. Составление портрета пользователя\n",
    " 5. Проверка гипотез"
   ]
  },
  {
   "cell_type": "markdown",
   "metadata": {},
   "source": [
    "<div class=\"alert-success\">\n",
    "<b>Комментарий ревьюера ✔️</b>\n",
    "\n",
    "Отлично, что во вступлении пишешь бриф, цели исследования, план работы. 👍</div>"
   ]
  },
  {
   "cell_type": "markdown",
   "metadata": {},
   "source": [
    "<div class=\"alert-warning\">\n",
    "<b>Комментарий ревьюера ⚠️</b>\n",
    "\n",
    "Хорошо бы также добавить и название проекта.</div>"
   ]
  },
  {
   "cell_type": "markdown",
   "metadata": {},
   "source": [
    "<div class=\"alert alert-info\"> 🧩<b>Комментарии студента:</b> \n",
    "Добавил 👍 </div>   "
   ]
  },
  {
   "cell_type": "markdown",
   "metadata": {},
   "source": [
    "<div class=\"alert-success\">\n",
    "<b>Комментарий ревьюера V2 ✔️</b>\n",
    "\n",
    "Отлично!</div>"
   ]
  },
  {
   "cell_type": "markdown",
   "metadata": {},
   "source": [
    "1. Откроем файл с данными и изучим общую информацию."
   ]
  },
  {
   "cell_type": "code",
   "execution_count": 1,
   "metadata": {},
   "outputs": [],
   "source": [
    "import pandas as pd\n",
    "import matplotlib.pyplot as plt\n",
    "import seaborn \n",
    "import numpy as np\n",
    "import seaborn as sns\n",
    "from scipy import stats as st"
   ]
  },
  {
   "cell_type": "code",
   "execution_count": 2,
   "metadata": {
    "scrolled": true
   },
   "outputs": [
    {
     "data": {
      "text/html": [
       "<div>\n",
       "<style scoped>\n",
       "    .dataframe tbody tr th:only-of-type {\n",
       "        vertical-align: middle;\n",
       "    }\n",
       "\n",
       "    .dataframe tbody tr th {\n",
       "        vertical-align: top;\n",
       "    }\n",
       "\n",
       "    .dataframe thead th {\n",
       "        text-align: right;\n",
       "    }\n",
       "</style>\n",
       "<table border=\"1\" class=\"dataframe\">\n",
       "  <thead>\n",
       "    <tr style=\"text-align: right;\">\n",
       "      <th></th>\n",
       "      <th>Name</th>\n",
       "      <th>Platform</th>\n",
       "      <th>Year_of_Release</th>\n",
       "      <th>Genre</th>\n",
       "      <th>NA_sales</th>\n",
       "      <th>EU_sales</th>\n",
       "      <th>JP_sales</th>\n",
       "      <th>Other_sales</th>\n",
       "      <th>Critic_Score</th>\n",
       "      <th>User_Score</th>\n",
       "      <th>Rating</th>\n",
       "    </tr>\n",
       "  </thead>\n",
       "  <tbody>\n",
       "    <tr>\n",
       "      <th>0</th>\n",
       "      <td>Wii Sports</td>\n",
       "      <td>Wii</td>\n",
       "      <td>2006.0</td>\n",
       "      <td>Sports</td>\n",
       "      <td>41.36</td>\n",
       "      <td>28.96</td>\n",
       "      <td>3.77</td>\n",
       "      <td>8.45</td>\n",
       "      <td>76.0</td>\n",
       "      <td>8</td>\n",
       "      <td>E</td>\n",
       "    </tr>\n",
       "    <tr>\n",
       "      <th>1</th>\n",
       "      <td>Super Mario Bros.</td>\n",
       "      <td>NES</td>\n",
       "      <td>1985.0</td>\n",
       "      <td>Platform</td>\n",
       "      <td>29.08</td>\n",
       "      <td>3.58</td>\n",
       "      <td>6.81</td>\n",
       "      <td>0.77</td>\n",
       "      <td>NaN</td>\n",
       "      <td>NaN</td>\n",
       "      <td>NaN</td>\n",
       "    </tr>\n",
       "    <tr>\n",
       "      <th>2</th>\n",
       "      <td>Mario Kart Wii</td>\n",
       "      <td>Wii</td>\n",
       "      <td>2008.0</td>\n",
       "      <td>Racing</td>\n",
       "      <td>15.68</td>\n",
       "      <td>12.76</td>\n",
       "      <td>3.79</td>\n",
       "      <td>3.29</td>\n",
       "      <td>82.0</td>\n",
       "      <td>8.3</td>\n",
       "      <td>E</td>\n",
       "    </tr>\n",
       "    <tr>\n",
       "      <th>3</th>\n",
       "      <td>Wii Sports Resort</td>\n",
       "      <td>Wii</td>\n",
       "      <td>2009.0</td>\n",
       "      <td>Sports</td>\n",
       "      <td>15.61</td>\n",
       "      <td>10.93</td>\n",
       "      <td>3.28</td>\n",
       "      <td>2.95</td>\n",
       "      <td>80.0</td>\n",
       "      <td>8</td>\n",
       "      <td>E</td>\n",
       "    </tr>\n",
       "    <tr>\n",
       "      <th>4</th>\n",
       "      <td>Pokemon Red/Pokemon Blue</td>\n",
       "      <td>GB</td>\n",
       "      <td>1996.0</td>\n",
       "      <td>Role-Playing</td>\n",
       "      <td>11.27</td>\n",
       "      <td>8.89</td>\n",
       "      <td>10.22</td>\n",
       "      <td>1.00</td>\n",
       "      <td>NaN</td>\n",
       "      <td>NaN</td>\n",
       "      <td>NaN</td>\n",
       "    </tr>\n",
       "    <tr>\n",
       "      <th>5</th>\n",
       "      <td>Tetris</td>\n",
       "      <td>GB</td>\n",
       "      <td>1989.0</td>\n",
       "      <td>Puzzle</td>\n",
       "      <td>23.20</td>\n",
       "      <td>2.26</td>\n",
       "      <td>4.22</td>\n",
       "      <td>0.58</td>\n",
       "      <td>NaN</td>\n",
       "      <td>NaN</td>\n",
       "      <td>NaN</td>\n",
       "    </tr>\n",
       "    <tr>\n",
       "      <th>6</th>\n",
       "      <td>New Super Mario Bros.</td>\n",
       "      <td>DS</td>\n",
       "      <td>2006.0</td>\n",
       "      <td>Platform</td>\n",
       "      <td>11.28</td>\n",
       "      <td>9.14</td>\n",
       "      <td>6.50</td>\n",
       "      <td>2.88</td>\n",
       "      <td>89.0</td>\n",
       "      <td>8.5</td>\n",
       "      <td>E</td>\n",
       "    </tr>\n",
       "    <tr>\n",
       "      <th>7</th>\n",
       "      <td>Wii Play</td>\n",
       "      <td>Wii</td>\n",
       "      <td>2006.0</td>\n",
       "      <td>Misc</td>\n",
       "      <td>13.96</td>\n",
       "      <td>9.18</td>\n",
       "      <td>2.93</td>\n",
       "      <td>2.84</td>\n",
       "      <td>58.0</td>\n",
       "      <td>6.6</td>\n",
       "      <td>E</td>\n",
       "    </tr>\n",
       "    <tr>\n",
       "      <th>8</th>\n",
       "      <td>New Super Mario Bros. Wii</td>\n",
       "      <td>Wii</td>\n",
       "      <td>2009.0</td>\n",
       "      <td>Platform</td>\n",
       "      <td>14.44</td>\n",
       "      <td>6.94</td>\n",
       "      <td>4.70</td>\n",
       "      <td>2.24</td>\n",
       "      <td>87.0</td>\n",
       "      <td>8.4</td>\n",
       "      <td>E</td>\n",
       "    </tr>\n",
       "    <tr>\n",
       "      <th>9</th>\n",
       "      <td>Duck Hunt</td>\n",
       "      <td>NES</td>\n",
       "      <td>1984.0</td>\n",
       "      <td>Shooter</td>\n",
       "      <td>26.93</td>\n",
       "      <td>0.63</td>\n",
       "      <td>0.28</td>\n",
       "      <td>0.47</td>\n",
       "      <td>NaN</td>\n",
       "      <td>NaN</td>\n",
       "      <td>NaN</td>\n",
       "    </tr>\n",
       "    <tr>\n",
       "      <th>10</th>\n",
       "      <td>Nintendogs</td>\n",
       "      <td>DS</td>\n",
       "      <td>2005.0</td>\n",
       "      <td>Simulation</td>\n",
       "      <td>9.05</td>\n",
       "      <td>10.95</td>\n",
       "      <td>1.93</td>\n",
       "      <td>2.74</td>\n",
       "      <td>NaN</td>\n",
       "      <td>NaN</td>\n",
       "      <td>NaN</td>\n",
       "    </tr>\n",
       "    <tr>\n",
       "      <th>11</th>\n",
       "      <td>Mario Kart DS</td>\n",
       "      <td>DS</td>\n",
       "      <td>2005.0</td>\n",
       "      <td>Racing</td>\n",
       "      <td>9.71</td>\n",
       "      <td>7.47</td>\n",
       "      <td>4.13</td>\n",
       "      <td>1.90</td>\n",
       "      <td>91.0</td>\n",
       "      <td>8.6</td>\n",
       "      <td>E</td>\n",
       "    </tr>\n",
       "    <tr>\n",
       "      <th>12</th>\n",
       "      <td>Pokemon Gold/Pokemon Silver</td>\n",
       "      <td>GB</td>\n",
       "      <td>1999.0</td>\n",
       "      <td>Role-Playing</td>\n",
       "      <td>9.00</td>\n",
       "      <td>6.18</td>\n",
       "      <td>7.20</td>\n",
       "      <td>0.71</td>\n",
       "      <td>NaN</td>\n",
       "      <td>NaN</td>\n",
       "      <td>NaN</td>\n",
       "    </tr>\n",
       "    <tr>\n",
       "      <th>13</th>\n",
       "      <td>Wii Fit</td>\n",
       "      <td>Wii</td>\n",
       "      <td>2007.0</td>\n",
       "      <td>Sports</td>\n",
       "      <td>8.92</td>\n",
       "      <td>8.03</td>\n",
       "      <td>3.60</td>\n",
       "      <td>2.15</td>\n",
       "      <td>80.0</td>\n",
       "      <td>7.7</td>\n",
       "      <td>E</td>\n",
       "    </tr>\n",
       "    <tr>\n",
       "      <th>14</th>\n",
       "      <td>Kinect Adventures!</td>\n",
       "      <td>X360</td>\n",
       "      <td>2010.0</td>\n",
       "      <td>Misc</td>\n",
       "      <td>15.00</td>\n",
       "      <td>4.89</td>\n",
       "      <td>0.24</td>\n",
       "      <td>1.69</td>\n",
       "      <td>61.0</td>\n",
       "      <td>6.3</td>\n",
       "      <td>E</td>\n",
       "    </tr>\n",
       "    <tr>\n",
       "      <th>15</th>\n",
       "      <td>Wii Fit Plus</td>\n",
       "      <td>Wii</td>\n",
       "      <td>2009.0</td>\n",
       "      <td>Sports</td>\n",
       "      <td>9.01</td>\n",
       "      <td>8.49</td>\n",
       "      <td>2.53</td>\n",
       "      <td>1.77</td>\n",
       "      <td>80.0</td>\n",
       "      <td>7.4</td>\n",
       "      <td>E</td>\n",
       "    </tr>\n",
       "    <tr>\n",
       "      <th>16</th>\n",
       "      <td>Grand Theft Auto V</td>\n",
       "      <td>PS3</td>\n",
       "      <td>2013.0</td>\n",
       "      <td>Action</td>\n",
       "      <td>7.02</td>\n",
       "      <td>9.09</td>\n",
       "      <td>0.98</td>\n",
       "      <td>3.96</td>\n",
       "      <td>97.0</td>\n",
       "      <td>8.2</td>\n",
       "      <td>M</td>\n",
       "    </tr>\n",
       "    <tr>\n",
       "      <th>17</th>\n",
       "      <td>Grand Theft Auto: San Andreas</td>\n",
       "      <td>PS2</td>\n",
       "      <td>2004.0</td>\n",
       "      <td>Action</td>\n",
       "      <td>9.43</td>\n",
       "      <td>0.40</td>\n",
       "      <td>0.41</td>\n",
       "      <td>10.57</td>\n",
       "      <td>95.0</td>\n",
       "      <td>9</td>\n",
       "      <td>M</td>\n",
       "    </tr>\n",
       "    <tr>\n",
       "      <th>18</th>\n",
       "      <td>Super Mario World</td>\n",
       "      <td>SNES</td>\n",
       "      <td>1990.0</td>\n",
       "      <td>Platform</td>\n",
       "      <td>12.78</td>\n",
       "      <td>3.75</td>\n",
       "      <td>3.54</td>\n",
       "      <td>0.55</td>\n",
       "      <td>NaN</td>\n",
       "      <td>NaN</td>\n",
       "      <td>NaN</td>\n",
       "    </tr>\n",
       "    <tr>\n",
       "      <th>19</th>\n",
       "      <td>Brain Age: Train Your Brain in Minutes a Day</td>\n",
       "      <td>DS</td>\n",
       "      <td>2005.0</td>\n",
       "      <td>Misc</td>\n",
       "      <td>4.74</td>\n",
       "      <td>9.20</td>\n",
       "      <td>4.16</td>\n",
       "      <td>2.04</td>\n",
       "      <td>77.0</td>\n",
       "      <td>7.9</td>\n",
       "      <td>E</td>\n",
       "    </tr>\n",
       "  </tbody>\n",
       "</table>\n",
       "</div>"
      ],
      "text/plain": [
       "                                            Name Platform  Year_of_Release  \\\n",
       "0                                     Wii Sports      Wii           2006.0   \n",
       "1                              Super Mario Bros.      NES           1985.0   \n",
       "2                                 Mario Kart Wii      Wii           2008.0   \n",
       "3                              Wii Sports Resort      Wii           2009.0   \n",
       "4                       Pokemon Red/Pokemon Blue       GB           1996.0   \n",
       "5                                         Tetris       GB           1989.0   \n",
       "6                          New Super Mario Bros.       DS           2006.0   \n",
       "7                                       Wii Play      Wii           2006.0   \n",
       "8                      New Super Mario Bros. Wii      Wii           2009.0   \n",
       "9                                      Duck Hunt      NES           1984.0   \n",
       "10                                    Nintendogs       DS           2005.0   \n",
       "11                                 Mario Kart DS       DS           2005.0   \n",
       "12                   Pokemon Gold/Pokemon Silver       GB           1999.0   \n",
       "13                                       Wii Fit      Wii           2007.0   \n",
       "14                            Kinect Adventures!     X360           2010.0   \n",
       "15                                  Wii Fit Plus      Wii           2009.0   \n",
       "16                            Grand Theft Auto V      PS3           2013.0   \n",
       "17                 Grand Theft Auto: San Andreas      PS2           2004.0   \n",
       "18                             Super Mario World     SNES           1990.0   \n",
       "19  Brain Age: Train Your Brain in Minutes a Day       DS           2005.0   \n",
       "\n",
       "           Genre  NA_sales  EU_sales  JP_sales  Other_sales  Critic_Score  \\\n",
       "0         Sports     41.36     28.96      3.77         8.45          76.0   \n",
       "1       Platform     29.08      3.58      6.81         0.77           NaN   \n",
       "2         Racing     15.68     12.76      3.79         3.29          82.0   \n",
       "3         Sports     15.61     10.93      3.28         2.95          80.0   \n",
       "4   Role-Playing     11.27      8.89     10.22         1.00           NaN   \n",
       "5         Puzzle     23.20      2.26      4.22         0.58           NaN   \n",
       "6       Platform     11.28      9.14      6.50         2.88          89.0   \n",
       "7           Misc     13.96      9.18      2.93         2.84          58.0   \n",
       "8       Platform     14.44      6.94      4.70         2.24          87.0   \n",
       "9        Shooter     26.93      0.63      0.28         0.47           NaN   \n",
       "10    Simulation      9.05     10.95      1.93         2.74           NaN   \n",
       "11        Racing      9.71      7.47      4.13         1.90          91.0   \n",
       "12  Role-Playing      9.00      6.18      7.20         0.71           NaN   \n",
       "13        Sports      8.92      8.03      3.60         2.15          80.0   \n",
       "14          Misc     15.00      4.89      0.24         1.69          61.0   \n",
       "15        Sports      9.01      8.49      2.53         1.77          80.0   \n",
       "16        Action      7.02      9.09      0.98         3.96          97.0   \n",
       "17        Action      9.43      0.40      0.41        10.57          95.0   \n",
       "18      Platform     12.78      3.75      3.54         0.55           NaN   \n",
       "19          Misc      4.74      9.20      4.16         2.04          77.0   \n",
       "\n",
       "   User_Score Rating  \n",
       "0           8      E  \n",
       "1         NaN    NaN  \n",
       "2         8.3      E  \n",
       "3           8      E  \n",
       "4         NaN    NaN  \n",
       "5         NaN    NaN  \n",
       "6         8.5      E  \n",
       "7         6.6      E  \n",
       "8         8.4      E  \n",
       "9         NaN    NaN  \n",
       "10        NaN    NaN  \n",
       "11        8.6      E  \n",
       "12        NaN    NaN  \n",
       "13        7.7      E  \n",
       "14        6.3      E  \n",
       "15        7.4      E  \n",
       "16        8.2      M  \n",
       "17          9      M  \n",
       "18        NaN    NaN  \n",
       "19        7.9      E  "
      ]
     },
     "execution_count": 2,
     "metadata": {},
     "output_type": "execute_result"
    }
   ],
   "source": [
    "data = pd.read_csv('/datasets/games.csv')\n",
    "data.head(20)"
   ]
  },
  {
   "cell_type": "markdown",
   "metadata": {},
   "source": [
    "Описание данных:  \n",
    "Name — название игры  \n",
    "Platform — платформа  \n",
    "Year_of_Release — год выпуска  \n",
    "Genre — жанр игры  \n",
    "NA_sales — продажи в Северной Америке (миллионы проданных копий)  \n",
    "EU_sales — продажи в Европе (миллионы проданных копий)  \n",
    "JP_sales — продажи в Японии (миллионы проданных копий)  \n",
    "Other_sales — продажи в других странах (миллионы проданных копий)  \n",
    "Critic_Score — оценка критиков (максимум 100)  \n",
    "User_Score — оценка пользователей (максимум 10)  \n",
    "Rating — рейтинг от организации ESRB (англ. Entertainment Software Rating Board). Эта ассоциация определяет рейтинг компьютерных игр и присваивает им подходящую возрастную категорию.  "
   ]
  },
  {
   "cell_type": "code",
   "execution_count": 3,
   "metadata": {},
   "outputs": [
    {
     "name": "stdout",
     "output_type": "stream",
     "text": [
      "<class 'pandas.core.frame.DataFrame'>\n",
      "RangeIndex: 16715 entries, 0 to 16714\n",
      "Data columns (total 11 columns):\n",
      " #   Column           Non-Null Count  Dtype  \n",
      "---  ------           --------------  -----  \n",
      " 0   Name             16713 non-null  object \n",
      " 1   Platform         16715 non-null  object \n",
      " 2   Year_of_Release  16446 non-null  float64\n",
      " 3   Genre            16713 non-null  object \n",
      " 4   NA_sales         16715 non-null  float64\n",
      " 5   EU_sales         16715 non-null  float64\n",
      " 6   JP_sales         16715 non-null  float64\n",
      " 7   Other_sales      16715 non-null  float64\n",
      " 8   Critic_Score     8137 non-null   float64\n",
      " 9   User_Score       10014 non-null  object \n",
      " 10  Rating           9949 non-null   object \n",
      "dtypes: float64(6), object(5)\n",
      "memory usage: 1.4+ MB\n"
     ]
    }
   ],
   "source": [
    "data.info()"
   ]
  },
  {
   "cell_type": "code",
   "execution_count": 4,
   "metadata": {},
   "outputs": [
    {
     "data": {
      "image/png": "[encoded data removed]",
      "text/plain": [
       "<Figure size 1080x1440 with 6 Axes>"
      ]
     },
     "metadata": {
      "needs_background": "light"
     },
     "output_type": "display_data"
    }
   ],
   "source": [
    "data.hist(figsize=(15, 20))\n",
    "plt.show()"
   ]
  },
  {
   "cell_type": "code",
   "execution_count": 5,
   "metadata": {},
   "outputs": [
    {
     "data": {
      "text/html": [
       "<div>\n",
       "<style scoped>\n",
       "    .dataframe tbody tr th:only-of-type {\n",
       "        vertical-align: middle;\n",
       "    }\n",
       "\n",
       "    .dataframe tbody tr th {\n",
       "        vertical-align: top;\n",
       "    }\n",
       "\n",
       "    .dataframe thead th {\n",
       "        text-align: right;\n",
       "    }\n",
       "</style>\n",
       "<table border=\"1\" class=\"dataframe\">\n",
       "  <thead>\n",
       "    <tr style=\"text-align: right;\">\n",
       "      <th></th>\n",
       "      <th>Year_of_Release</th>\n",
       "      <th>NA_sales</th>\n",
       "      <th>EU_sales</th>\n",
       "      <th>JP_sales</th>\n",
       "      <th>Other_sales</th>\n",
       "      <th>Critic_Score</th>\n",
       "    </tr>\n",
       "  </thead>\n",
       "  <tbody>\n",
       "    <tr>\n",
       "      <th>count</th>\n",
       "      <td>16446.000000</td>\n",
       "      <td>16715.000000</td>\n",
       "      <td>16715.000000</td>\n",
       "      <td>16715.000000</td>\n",
       "      <td>16715.000000</td>\n",
       "      <td>8137.000000</td>\n",
       "    </tr>\n",
       "    <tr>\n",
       "      <th>mean</th>\n",
       "      <td>2006.484616</td>\n",
       "      <td>0.263377</td>\n",
       "      <td>0.145060</td>\n",
       "      <td>0.077617</td>\n",
       "      <td>0.047342</td>\n",
       "      <td>68.967679</td>\n",
       "    </tr>\n",
       "    <tr>\n",
       "      <th>std</th>\n",
       "      <td>5.877050</td>\n",
       "      <td>0.813604</td>\n",
       "      <td>0.503339</td>\n",
       "      <td>0.308853</td>\n",
       "      <td>0.186731</td>\n",
       "      <td>13.938165</td>\n",
       "    </tr>\n",
       "    <tr>\n",
       "      <th>min</th>\n",
       "      <td>1980.000000</td>\n",
       "      <td>0.000000</td>\n",
       "      <td>0.000000</td>\n",
       "      <td>0.000000</td>\n",
       "      <td>0.000000</td>\n",
       "      <td>13.000000</td>\n",
       "    </tr>\n",
       "    <tr>\n",
       "      <th>25%</th>\n",
       "      <td>2003.000000</td>\n",
       "      <td>0.000000</td>\n",
       "      <td>0.000000</td>\n",
       "      <td>0.000000</td>\n",
       "      <td>0.000000</td>\n",
       "      <td>60.000000</td>\n",
       "    </tr>\n",
       "    <tr>\n",
       "      <th>50%</th>\n",
       "      <td>2007.000000</td>\n",
       "      <td>0.080000</td>\n",
       "      <td>0.020000</td>\n",
       "      <td>0.000000</td>\n",
       "      <td>0.010000</td>\n",
       "      <td>71.000000</td>\n",
       "    </tr>\n",
       "    <tr>\n",
       "      <th>75%</th>\n",
       "      <td>2010.000000</td>\n",
       "      <td>0.240000</td>\n",
       "      <td>0.110000</td>\n",
       "      <td>0.040000</td>\n",
       "      <td>0.030000</td>\n",
       "      <td>79.000000</td>\n",
       "    </tr>\n",
       "    <tr>\n",
       "      <th>max</th>\n",
       "      <td>2016.000000</td>\n",
       "      <td>41.360000</td>\n",
       "      <td>28.960000</td>\n",
       "      <td>10.220000</td>\n",
       "      <td>10.570000</td>\n",
       "      <td>98.000000</td>\n",
       "    </tr>\n",
       "  </tbody>\n",
       "</table>\n",
       "</div>"
      ],
      "text/plain": [
       "       Year_of_Release      NA_sales      EU_sales      JP_sales  \\\n",
       "count     16446.000000  16715.000000  16715.000000  16715.000000   \n",
       "mean       2006.484616      0.263377      0.145060      0.077617   \n",
       "std           5.877050      0.813604      0.503339      0.308853   \n",
       "min        1980.000000      0.000000      0.000000      0.000000   \n",
       "25%        2003.000000      0.000000      0.000000      0.000000   \n",
       "50%        2007.000000      0.080000      0.020000      0.000000   \n",
       "75%        2010.000000      0.240000      0.110000      0.040000   \n",
       "max        2016.000000     41.360000     28.960000     10.220000   \n",
       "\n",
       "        Other_sales  Critic_Score  \n",
       "count  16715.000000   8137.000000  \n",
       "mean       0.047342     68.967679  \n",
       "std        0.186731     13.938165  \n",
       "min        0.000000     13.000000  \n",
       "25%        0.000000     60.000000  \n",
       "50%        0.010000     71.000000  \n",
       "75%        0.030000     79.000000  \n",
       "max       10.570000     98.000000  "
      ]
     },
     "execution_count": 5,
     "metadata": {},
     "output_type": "execute_result"
    }
   ],
   "source": [
    "data.describe()"
   ]
  },
  {
   "cell_type": "markdown",
   "metadata": {},
   "source": [
    "<div class=\"alert-warning\">\n",
    "<b>Комментарий ревьюера ⚠️</b>\n",
    "\n",
    "Как можно прокомментировать эти гистограммы? 👆\n",
    "\n",
    "</div>"
   ]
  },
  {
   "cell_type": "markdown",
   "metadata": {},
   "source": [
    "<div class=\"alert alert-info\"> 🧩<b>Комментарии студента:</b> \n",
    "👇</div>   "
   ]
  },
  {
   "cell_type": "markdown",
   "metadata": {},
   "source": [
    "Посмотрев на диаграммы можно увидеть выбивающиеся значения, показатель продаж некоторых игр в разных регионах может быть равен 0, возможно некоторые игры запрещены в определенных регионах, но стоит также проверить нет ли в данных ошибки  \n",
    "Если общий показатель продаж игры будет равен 0 стоит выбросить такой показатель из выборки"
   ]
  },
  {
   "cell_type": "markdown",
   "metadata": {},
   "source": [
    "<div class=\"alert-success\">\n",
    "<b>Комментарий ревьюера V2 ✔️</b>\n",
    "\n",
    "Ок. Конечно, чтобы подробнее сделать вывод о распределении данных, для некоторых гистограмм нужно подобрать более оптимальный диапазон и количество корзин. Например `other_sales`:</div>"
   ]
  },
  {
   "cell_type": "code",
   "execution_count": 56,
   "metadata": {},
   "outputs": [
    {
     "data": {
      "image/png": "[encoded data removed]",
      "text/plain": [
       "<Figure size 432x288 with 1 Axes>"
      ]
     },
     "metadata": {
      "needs_background": "light"
     },
     "output_type": "display_data"
    }
   ],
   "source": [
    "#Код ревьюера\n",
    "data['other_sales'].hist(range = (0,.5), bins = 30);"
   ]
  },
  {
   "cell_type": "markdown",
   "metadata": {},
   "source": [
    "<div class=\"alert-success\">\n",
    "<b>Комментарий ревьюера ✔️</b>\n",
    "\n",
    "Данные загружены верно, получена общая информация о датафрейме. 🚀</div>"
   ]
  },
  {
   "cell_type": "markdown",
   "metadata": {},
   "source": [
    "<div class=\"alert-warning\">\n",
    "<b>Комментарий ревьюера ⚠️</b>\n",
    "\n",
    "Также стоит написать краткий вывод по данному разделу. Например, что из себя представляет датасет, с которым предстоит работать.</div>"
   ]
  },
  {
   "cell_type": "markdown",
   "metadata": {},
   "source": [
    "<div class=\"alert alert-info\"> 🧩<b>Комментарии студента:</b> \n",
    "👇</div>   "
   ]
  },
  {
   "cell_type": "markdown",
   "metadata": {},
   "source": [
    "В результате обзора данных были замечены выбивающиеся значения показателей продаж. Данные имеют множество пропусков, также данные не приведены к единому регистру, что может стать причиной дубликатов.  \n",
    "Требуется предобработка данных. "
   ]
  },
  {
   "cell_type": "markdown",
   "metadata": {},
   "source": [
    "<div class=\"alert-success\">\n",
    "<b>Комментарий ревьюера V2 ✔️</b>\n",
    "\n",
    "Хорошо. Можно также написать из какой размер датафрейма, какие он содержит типы данных.</div>"
   ]
  },
  {
   "cell_type": "markdown",
   "metadata": {},
   "source": [
    "## **Предобработка данных**"
   ]
  },
  {
   "cell_type": "markdown",
   "metadata": {},
   "source": [
    "Заменим названия столбцов (приведем к нижнему регистру);"
   ]
  },
  {
   "cell_type": "code",
   "execution_count": 6,
   "metadata": {},
   "outputs": [],
   "source": [
    "data.columns = ['name', 'platform', 'year_of_release', 'genre', 'na_sales', \n",
    "                'eu_sales', 'jp_sales', 'other_sales', 'critic_score', 'user_score', 'rating']"
   ]
  },
  {
   "cell_type": "markdown",
   "metadata": {},
   "source": [
    "<div class=\"alert-success\">\n",
    "<b>Комментарий ревьюера ✔️</b>\n",
    "\n",
    "📌 Привести названия столбцов к нижнему регистру можно и так: \n",
    "\n",
    "`df.columns = df.columns.str.lower()`</div>"
   ]
  },
  {
   "cell_type": "markdown",
   "metadata": {},
   "source": [
    "Также поступим с самими данными содержащимися в столбцах с текстом"
   ]
  },
  {
   "cell_type": "code",
   "execution_count": 7,
   "metadata": {},
   "outputs": [],
   "source": [
    "data['name'] = data['name'].str.lower()\n",
    "data['platform'] = data['platform'].str.lower()\n",
    "data['genre'] = data['genre'].str.lower()"
   ]
  },
  {
   "cell_type": "code",
   "execution_count": 8,
   "metadata": {
    "scrolled": true
   },
   "outputs": [],
   "source": [
    "#print(data['rating'].unique())\n",
    "#проверил нет ли в рейтинге дубликатов вызванных регистром, рейтинг думаю можно оставить без изменений к одному регистру"
   ]
  },
  {
   "cell_type": "markdown",
   "metadata": {},
   "source": [
    "Рассмотрим отсутствующие данные"
   ]
  },
  {
   "cell_type": "code",
   "execution_count": 9,
   "metadata": {
    "scrolled": true
   },
   "outputs": [
    {
     "name": "stdout",
     "output_type": "stream",
     "text": [
      "critic_score       8578\n",
      "rating             6766\n",
      "user_score         6701\n",
      "year_of_release     269\n",
      "name                  2\n",
      "genre                 2\n",
      "platform              0\n",
      "na_sales              0\n",
      "eu_sales              0\n",
      "jp_sales              0\n",
      "other_sales           0\n",
      "dtype: int64\n"
     ]
    }
   ],
   "source": [
    "print(data.isna().sum().sort_values(ascending=False))"
   ]
  },
  {
   "cell_type": "code",
   "execution_count": 10,
   "metadata": {},
   "outputs": [
    {
     "data": {
      "text/html": [
       "<style  type=\"text/css\" >\n",
       "#T_c81a4_row0_col0,#T_c81a4_row1_col0,#T_c81a4_row3_col0,#T_c81a4_row4_col0,#T_c81a4_row5_col0,#T_c81a4_row6_col0,#T_c81a4_row7_col0{\n",
       "            background-color:  #3b4cc0;\n",
       "            color:  #f1f1f1;\n",
       "        }#T_c81a4_row2_col0{\n",
       "            background-color:  #465ecf;\n",
       "            color:  #f1f1f1;\n",
       "        }#T_c81a4_row8_col0{\n",
       "            background-color:  #b40426;\n",
       "            color:  #f1f1f1;\n",
       "        }#T_c81a4_row9_col0,#T_c81a4_row10_col0{\n",
       "            background-color:  #f08b6e;\n",
       "            color:  #000000;\n",
       "        }</style><table id=\"T_c81a4_\" ><thead>    <tr>        <th class=\"blank level0\" ></th>        <th class=\"col_heading level0 col0\" >0</th>    </tr></thead><tbody>\n",
       "                <tr>\n",
       "                        <th id=\"T_c81a4_level0_row0\" class=\"row_heading level0 row0\" >name</th>\n",
       "                        <td id=\"T_c81a4_row0_col0\" class=\"data row0 col0\" >0.000000</td>\n",
       "            </tr>\n",
       "            <tr>\n",
       "                        <th id=\"T_c81a4_level0_row1\" class=\"row_heading level0 row1\" >platform</th>\n",
       "                        <td id=\"T_c81a4_row1_col0\" class=\"data row1 col0\" >0.000000</td>\n",
       "            </tr>\n",
       "            <tr>\n",
       "                        <th id=\"T_c81a4_level0_row2\" class=\"row_heading level0 row2\" >year_of_release</th>\n",
       "                        <td id=\"T_c81a4_row2_col0\" class=\"data row2 col0\" >2.000000</td>\n",
       "            </tr>\n",
       "            <tr>\n",
       "                        <th id=\"T_c81a4_level0_row3\" class=\"row_heading level0 row3\" >genre</th>\n",
       "                        <td id=\"T_c81a4_row3_col0\" class=\"data row3 col0\" >0.000000</td>\n",
       "            </tr>\n",
       "            <tr>\n",
       "                        <th id=\"T_c81a4_level0_row4\" class=\"row_heading level0 row4\" >na_sales</th>\n",
       "                        <td id=\"T_c81a4_row4_col0\" class=\"data row4 col0\" >0.000000</td>\n",
       "            </tr>\n",
       "            <tr>\n",
       "                        <th id=\"T_c81a4_level0_row5\" class=\"row_heading level0 row5\" >eu_sales</th>\n",
       "                        <td id=\"T_c81a4_row5_col0\" class=\"data row5 col0\" >0.000000</td>\n",
       "            </tr>\n",
       "            <tr>\n",
       "                        <th id=\"T_c81a4_level0_row6\" class=\"row_heading level0 row6\" >jp_sales</th>\n",
       "                        <td id=\"T_c81a4_row6_col0\" class=\"data row6 col0\" >0.000000</td>\n",
       "            </tr>\n",
       "            <tr>\n",
       "                        <th id=\"T_c81a4_level0_row7\" class=\"row_heading level0 row7\" >other_sales</th>\n",
       "                        <td id=\"T_c81a4_row7_col0\" class=\"data row7 col0\" >0.000000</td>\n",
       "            </tr>\n",
       "            <tr>\n",
       "                        <th id=\"T_c81a4_level0_row8\" class=\"row_heading level0 row8\" >critic_score</th>\n",
       "                        <td id=\"T_c81a4_row8_col0\" class=\"data row8 col0\" >51.000000</td>\n",
       "            </tr>\n",
       "            <tr>\n",
       "                        <th id=\"T_c81a4_level0_row9\" class=\"row_heading level0 row9\" >user_score</th>\n",
       "                        <td id=\"T_c81a4_row9_col0\" class=\"data row9 col0\" >40.000000</td>\n",
       "            </tr>\n",
       "            <tr>\n",
       "                        <th id=\"T_c81a4_level0_row10\" class=\"row_heading level0 row10\" >rating</th>\n",
       "                        <td id=\"T_c81a4_row10_col0\" class=\"data row10 col0\" >40.000000</td>\n",
       "            </tr>\n",
       "    </tbody></table>"
      ],
      "text/plain": [
       "<pandas.io.formats.style.Styler at 0x7f219f8af7f0>"
      ]
     },
     "execution_count": 10,
     "metadata": {},
     "output_type": "execute_result"
    }
   ],
   "source": [
    "pd.DataFrame(round(data.isna().mean()*100,)).style.background_gradient('coolwarm')"
   ]
  },
  {
   "cell_type": "markdown",
   "metadata": {},
   "source": [
    "Неизвестный год релизы присуствует примерно в 2% данных, что является неприятной, но не большой потерей для общего анализа данных  \n",
    "Также удалим несколько строк с пустыми значениями названия и жанра. \n"
   ]
  },
  {
   "cell_type": "code",
   "execution_count": 11,
   "metadata": {},
   "outputs": [],
   "source": [
    "data = data.dropna(subset=['name'])\n",
    "data = data.dropna(subset=['year_of_release'])\n",
    "data = data.dropna(subset=['genre'])"
   ]
  },
  {
   "cell_type": "markdown",
   "metadata": {},
   "source": [
    "<div class=\"alert-success\">\n",
    "<b>Комментарий ревьюера ✔️</b>\n",
    "\n",
    "Верное решение удалить записи с пропусками, восстановить которые трудно, если их количество невелико.</div>"
   ]
  },
  {
   "cell_type": "markdown",
   "metadata": {},
   "source": [
    "Заменяем вещественный тип данных на целочисленный, во всех количественных столбцах для удобства просмотра и дальнейшей работы"
   ]
  },
  {
   "cell_type": "code",
   "execution_count": 12,
   "metadata": {},
   "outputs": [],
   "source": [
    "data['year_of_release'] = data['year_of_release'].astype('int')"
   ]
  },
  {
   "cell_type": "markdown",
   "metadata": {},
   "source": [
    "проверим данные на наличие явных дубликатов"
   ]
  },
  {
   "cell_type": "markdown",
   "metadata": {},
   "source": [
    "Оценку заменить медианные или средние значение будет некорректно, также как и оставить эти данные полностью незаполненными \n",
    "Поэтому \"установим заглушку\" в виде временной оценки равной \"-1\"\n"
   ]
  },
  {
   "cell_type": "code",
   "execution_count": 13,
   "metadata": {},
   "outputs": [],
   "source": [
    "data['year_of_release'].fillna(-1, inplace=True)"
   ]
  },
  {
   "cell_type": "markdown",
   "metadata": {},
   "source": [
    "<div class=\"alert-warning\">\n",
    "<b>Комментарий ревьюера ⚠️</b>\n",
    "\n",
    "А зачем этот блок? 👆 Ты уже в предыдущих ячкейках удалил строки с пропусками в столбце `year_of_release` и перевел в целый тип.</div>"
   ]
  },
  {
   "cell_type": "markdown",
   "metadata": {},
   "source": [
    "<div class=\"alert alert-info\"> 🧩<b>Комментарии студента:</b> \n",
    "Виноват, рассматривая ещё раз столбец с годом релиза (чтобы установить заглушку) забыл, что уже перевел в целый тип 😓</div>   "
   ]
  },
  {
   "cell_type": "code",
   "execution_count": 14,
   "metadata": {},
   "outputs": [],
   "source": [
    "for column in ['critic_score', 'rating']:\n",
    "    data.loc[data[column].isna(), column] = -1"
   ]
  },
  {
   "cell_type": "code",
   "execution_count": 15,
   "metadata": {},
   "outputs": [
    {
     "data": {
      "text/plain": [
       "0"
      ]
     },
     "execution_count": 15,
     "metadata": {},
     "output_type": "execute_result"
    }
   ],
   "source": [
    "data.duplicated().sum()"
   ]
  },
  {
   "cell_type": "markdown",
   "metadata": {},
   "source": [
    "<div class=\"alert-warning\">\n",
    "<b>Комментарий ревьюера ⚠️</b>\n",
    "\n",
    "Можно также проверить дубликаты по паре: название игры - платформа.\n",
    "</div>"
   ]
  },
  {
   "cell_type": "markdown",
   "metadata": {},
   "source": [
    "<div class=\"alert alert-info\"> 🧩<b>Комментарии студента:</b> \n",
    "Так будет правильно? 👇</div>   "
   ]
  },
  {
   "cell_type": "code",
   "execution_count": 16,
   "metadata": {},
   "outputs": [
    {
     "data": {
      "text/html": [
       "<div>\n",
       "<style scoped>\n",
       "    .dataframe tbody tr th:only-of-type {\n",
       "        vertical-align: middle;\n",
       "    }\n",
       "\n",
       "    .dataframe tbody tr th {\n",
       "        vertical-align: top;\n",
       "    }\n",
       "\n",
       "    .dataframe thead th {\n",
       "        text-align: right;\n",
       "    }\n",
       "</style>\n",
       "<table border=\"1\" class=\"dataframe\">\n",
       "  <thead>\n",
       "    <tr style=\"text-align: right;\">\n",
       "      <th></th>\n",
       "      <th>name</th>\n",
       "      <th>platform</th>\n",
       "      <th>year_of_release</th>\n",
       "      <th>genre</th>\n",
       "      <th>na_sales</th>\n",
       "      <th>eu_sales</th>\n",
       "      <th>jp_sales</th>\n",
       "      <th>other_sales</th>\n",
       "      <th>critic_score</th>\n",
       "      <th>user_score</th>\n",
       "      <th>rating</th>\n",
       "    </tr>\n",
       "  </thead>\n",
       "  <tbody>\n",
       "    <tr>\n",
       "      <th>0</th>\n",
       "      <td>wii sports</td>\n",
       "      <td>wii</td>\n",
       "      <td>2006</td>\n",
       "      <td>sports</td>\n",
       "      <td>41.36</td>\n",
       "      <td>28.96</td>\n",
       "      <td>3.77</td>\n",
       "      <td>8.45</td>\n",
       "      <td>76.0</td>\n",
       "      <td>8</td>\n",
       "      <td>E</td>\n",
       "    </tr>\n",
       "    <tr>\n",
       "      <th>1</th>\n",
       "      <td>super mario bros.</td>\n",
       "      <td>nes</td>\n",
       "      <td>1985</td>\n",
       "      <td>platform</td>\n",
       "      <td>29.08</td>\n",
       "      <td>3.58</td>\n",
       "      <td>6.81</td>\n",
       "      <td>0.77</td>\n",
       "      <td>-1.0</td>\n",
       "      <td>NaN</td>\n",
       "      <td>-1</td>\n",
       "    </tr>\n",
       "    <tr>\n",
       "      <th>2</th>\n",
       "      <td>mario kart wii</td>\n",
       "      <td>wii</td>\n",
       "      <td>2008</td>\n",
       "      <td>racing</td>\n",
       "      <td>15.68</td>\n",
       "      <td>12.76</td>\n",
       "      <td>3.79</td>\n",
       "      <td>3.29</td>\n",
       "      <td>82.0</td>\n",
       "      <td>8.3</td>\n",
       "      <td>E</td>\n",
       "    </tr>\n",
       "    <tr>\n",
       "      <th>3</th>\n",
       "      <td>wii sports resort</td>\n",
       "      <td>wii</td>\n",
       "      <td>2009</td>\n",
       "      <td>sports</td>\n",
       "      <td>15.61</td>\n",
       "      <td>10.93</td>\n",
       "      <td>3.28</td>\n",
       "      <td>2.95</td>\n",
       "      <td>80.0</td>\n",
       "      <td>8</td>\n",
       "      <td>E</td>\n",
       "    </tr>\n",
       "    <tr>\n",
       "      <th>4</th>\n",
       "      <td>pokemon red/pokemon blue</td>\n",
       "      <td>gb</td>\n",
       "      <td>1996</td>\n",
       "      <td>role-playing</td>\n",
       "      <td>11.27</td>\n",
       "      <td>8.89</td>\n",
       "      <td>10.22</td>\n",
       "      <td>1.00</td>\n",
       "      <td>-1.0</td>\n",
       "      <td>NaN</td>\n",
       "      <td>-1</td>\n",
       "    </tr>\n",
       "    <tr>\n",
       "      <th>...</th>\n",
       "      <td>...</td>\n",
       "      <td>...</td>\n",
       "      <td>...</td>\n",
       "      <td>...</td>\n",
       "      <td>...</td>\n",
       "      <td>...</td>\n",
       "      <td>...</td>\n",
       "      <td>...</td>\n",
       "      <td>...</td>\n",
       "      <td>...</td>\n",
       "      <td>...</td>\n",
       "    </tr>\n",
       "    <tr>\n",
       "      <th>16710</th>\n",
       "      <td>samurai warriors: sanada maru</td>\n",
       "      <td>ps3</td>\n",
       "      <td>2016</td>\n",
       "      <td>action</td>\n",
       "      <td>0.00</td>\n",
       "      <td>0.00</td>\n",
       "      <td>0.01</td>\n",
       "      <td>0.00</td>\n",
       "      <td>-1.0</td>\n",
       "      <td>NaN</td>\n",
       "      <td>-1</td>\n",
       "    </tr>\n",
       "    <tr>\n",
       "      <th>16711</th>\n",
       "      <td>lma manager 2007</td>\n",
       "      <td>x360</td>\n",
       "      <td>2006</td>\n",
       "      <td>sports</td>\n",
       "      <td>0.00</td>\n",
       "      <td>0.01</td>\n",
       "      <td>0.00</td>\n",
       "      <td>0.00</td>\n",
       "      <td>-1.0</td>\n",
       "      <td>NaN</td>\n",
       "      <td>-1</td>\n",
       "    </tr>\n",
       "    <tr>\n",
       "      <th>16712</th>\n",
       "      <td>haitaka no psychedelica</td>\n",
       "      <td>psv</td>\n",
       "      <td>2016</td>\n",
       "      <td>adventure</td>\n",
       "      <td>0.00</td>\n",
       "      <td>0.00</td>\n",
       "      <td>0.01</td>\n",
       "      <td>0.00</td>\n",
       "      <td>-1.0</td>\n",
       "      <td>NaN</td>\n",
       "      <td>-1</td>\n",
       "    </tr>\n",
       "    <tr>\n",
       "      <th>16713</th>\n",
       "      <td>spirits &amp; spells</td>\n",
       "      <td>gba</td>\n",
       "      <td>2003</td>\n",
       "      <td>platform</td>\n",
       "      <td>0.01</td>\n",
       "      <td>0.00</td>\n",
       "      <td>0.00</td>\n",
       "      <td>0.00</td>\n",
       "      <td>-1.0</td>\n",
       "      <td>NaN</td>\n",
       "      <td>-1</td>\n",
       "    </tr>\n",
       "    <tr>\n",
       "      <th>16714</th>\n",
       "      <td>winning post 8 2016</td>\n",
       "      <td>psv</td>\n",
       "      <td>2016</td>\n",
       "      <td>simulation</td>\n",
       "      <td>0.00</td>\n",
       "      <td>0.00</td>\n",
       "      <td>0.01</td>\n",
       "      <td>0.00</td>\n",
       "      <td>-1.0</td>\n",
       "      <td>NaN</td>\n",
       "      <td>-1</td>\n",
       "    </tr>\n",
       "  </tbody>\n",
       "</table>\n",
       "<p>16441 rows × 11 columns</p>\n",
       "</div>"
      ],
      "text/plain": [
       "                                name platform  year_of_release         genre  \\\n",
       "0                         wii sports      wii             2006        sports   \n",
       "1                  super mario bros.      nes             1985      platform   \n",
       "2                     mario kart wii      wii             2008        racing   \n",
       "3                  wii sports resort      wii             2009        sports   \n",
       "4           pokemon red/pokemon blue       gb             1996  role-playing   \n",
       "...                              ...      ...              ...           ...   \n",
       "16710  samurai warriors: sanada maru      ps3             2016        action   \n",
       "16711               lma manager 2007     x360             2006        sports   \n",
       "16712        haitaka no psychedelica      psv             2016     adventure   \n",
       "16713               spirits & spells      gba             2003      platform   \n",
       "16714            winning post 8 2016      psv             2016    simulation   \n",
       "\n",
       "       na_sales  eu_sales  jp_sales  other_sales  critic_score user_score  \\\n",
       "0         41.36     28.96      3.77         8.45          76.0          8   \n",
       "1         29.08      3.58      6.81         0.77          -1.0        NaN   \n",
       "2         15.68     12.76      3.79         3.29          82.0        8.3   \n",
       "3         15.61     10.93      3.28         2.95          80.0          8   \n",
       "4         11.27      8.89     10.22         1.00          -1.0        NaN   \n",
       "...         ...       ...       ...          ...           ...        ...   \n",
       "16710      0.00      0.00      0.01         0.00          -1.0        NaN   \n",
       "16711      0.00      0.01      0.00         0.00          -1.0        NaN   \n",
       "16712      0.00      0.00      0.01         0.00          -1.0        NaN   \n",
       "16713      0.01      0.00      0.00         0.00          -1.0        NaN   \n",
       "16714      0.00      0.00      0.01         0.00          -1.0        NaN   \n",
       "\n",
       "      rating  \n",
       "0          E  \n",
       "1         -1  \n",
       "2          E  \n",
       "3          E  \n",
       "4         -1  \n",
       "...      ...  \n",
       "16710     -1  \n",
       "16711     -1  \n",
       "16712     -1  \n",
       "16713     -1  \n",
       "16714     -1  \n",
       "\n",
       "[16441 rows x 11 columns]"
      ]
     },
     "execution_count": 16,
     "metadata": {},
     "output_type": "execute_result"
    }
   ],
   "source": [
    "data.drop_duplicates(subset=['name', 'platform'], keep='last')"
   ]
  },
  {
   "cell_type": "markdown",
   "metadata": {},
   "source": [
    "<div class=\"alert-warning\">\n",
    "<b>Комментарий ревьюера V2 ⚠️</b>\n",
    "\n",
    "Перед удалением, стоило вывести такие дубликаты и проверить. 🙂</div>"
   ]
  },
  {
   "cell_type": "markdown",
   "metadata": {},
   "source": [
    "Столбец \"user_Score\" имеет тип Object \n",
    "Рассмотрим почему"
   ]
  },
  {
   "cell_type": "code",
   "execution_count": 17,
   "metadata": {
    "scrolled": true
   },
   "outputs": [
    {
     "name": "stdout",
     "output_type": "stream",
     "text": [
      "['8' nan '8.3' '8.5' '6.6' '8.4' '8.6' '7.7' '6.3' '7.4' '8.2' '9' '7.9'\n",
      " '8.1' '8.7' '7.1' '3.4' '5.3' '4.8' '3.2' '8.9' '6.4' '7.8' '7.5' '2.6'\n",
      " '7.2' '9.2' '7' '7.3' '4.3' '7.6' '5.7' '5' '9.1' '6.5' 'tbd' '8.8' '6.9'\n",
      " '9.4' '6.8' '6.1' '6.7' '5.4' '4' '4.9' '4.5' '9.3' '6.2' '4.2' '6' '3.7'\n",
      " '4.1' '5.8' '5.6' '5.5' '4.4' '4.6' '5.9' '3.9' '3.1' '2.9' '5.2' '3.3'\n",
      " '4.7' '5.1' '3.5' '2.5' '1.9' '3' '2.7' '2.2' '2' '9.5' '2.1' '3.6' '2.8'\n",
      " '1.8' '3.8' '0' '1.6' '9.6' '2.4' '1.7' '1.1' '0.3' '1.5' '0.7' '1.2'\n",
      " '2.3' '0.5' '1.3' '0.2' '0.6' '1.4' '0.9' '1' '9.7']\n"
     ]
    }
   ],
   "source": [
    "print(data['user_score'].unique())"
   ]
  },
  {
   "cell_type": "markdown",
   "metadata": {},
   "source": [
    "'tbd' или же 'To Be Determined' означает, что количество отзывов недостаточно для определения оценки\n",
    "по своей сути 'tbd'это и есть 'nan'."
   ]
  },
  {
   "cell_type": "markdown",
   "metadata": {},
   "source": [
    "Уберем 'tbd' и 'nan' при помощи того же \"костыля\" в виде значения \"-1\""
   ]
  },
  {
   "cell_type": "code",
   "execution_count": 18,
   "metadata": {},
   "outputs": [],
   "source": [
    "data.loc[(data['user_score'] == 'tbd') | (data['user_score'].isna()), 'user_score'] = -1\n",
    "data['user_score'] = pd.to_numeric(data['user_score'])"
   ]
  },
  {
   "cell_type": "markdown",
   "metadata": {},
   "source": [
    "<div class=\"alert-success\">\n",
    "<b>Комментарий ревьюера ✔️</b>\n",
    "\n",
    "Замена пропусков в этих столбцах на заглушку - рабочий вариант, главное при дальнейших расчетах не забывать их отфильтровывать.</div>"
   ]
  },
  {
   "cell_type": "code",
   "execution_count": 19,
   "metadata": {},
   "outputs": [],
   "source": [
    "#посчитаем суммарные продажи во всех регионах и запишем их в отдельный столбец\n",
    "data['total_sales'] = data['na_sales'] + data['eu_sales'] + data['jp_sales'] + data['other_sales'] "
   ]
  },
  {
   "cell_type": "code",
   "execution_count": 20,
   "metadata": {},
   "outputs": [],
   "source": [
    "data = data.loc[data['total_sales'] != 0]"
   ]
  },
  {
   "cell_type": "markdown",
   "metadata": {},
   "source": [
    "<div class=\"alert-danger\">\n",
    "<b>Комментарий ревьюера ❌</b>\n",
    "\n",
    "Не все компоненты попали в суммарные продажи.</div>"
   ]
  },
  {
   "cell_type": "markdown",
   "metadata": {},
   "source": [
    "<div class=\"alert alert-info\"> 🧩<b>Комментарии студента:</b> \n",
    "Ох, действительно грубая ошибка, забыл отметить другие страны😓 </div>    "
   ]
  },
  {
   "cell_type": "markdown",
   "metadata": {},
   "source": [
    "<div class=\"alert-success\">\n",
    "<b>Комментарий ревьюера V2 ✔️</b>\n",
    "\n",
    "Теперь суммарные продажи посчитаны правильно. 👍</div>"
   ]
  },
  {
   "cell_type": "markdown",
   "metadata": {},
   "source": [
    "Посмотрим на данные еще раз"
   ]
  },
  {
   "cell_type": "code",
   "execution_count": 21,
   "metadata": {},
   "outputs": [
    {
     "data": {
      "text/html": [
       "<div>\n",
       "<style scoped>\n",
       "    .dataframe tbody tr th:only-of-type {\n",
       "        vertical-align: middle;\n",
       "    }\n",
       "\n",
       "    .dataframe tbody tr th {\n",
       "        vertical-align: top;\n",
       "    }\n",
       "\n",
       "    .dataframe thead th {\n",
       "        text-align: right;\n",
       "    }\n",
       "</style>\n",
       "<table border=\"1\" class=\"dataframe\">\n",
       "  <thead>\n",
       "    <tr style=\"text-align: right;\">\n",
       "      <th></th>\n",
       "      <th>name</th>\n",
       "      <th>platform</th>\n",
       "      <th>year_of_release</th>\n",
       "      <th>genre</th>\n",
       "      <th>na_sales</th>\n",
       "      <th>eu_sales</th>\n",
       "      <th>jp_sales</th>\n",
       "      <th>other_sales</th>\n",
       "      <th>critic_score</th>\n",
       "      <th>user_score</th>\n",
       "      <th>rating</th>\n",
       "      <th>total_sales</th>\n",
       "    </tr>\n",
       "  </thead>\n",
       "  <tbody>\n",
       "    <tr>\n",
       "      <th>0</th>\n",
       "      <td>wii sports</td>\n",
       "      <td>wii</td>\n",
       "      <td>2006</td>\n",
       "      <td>sports</td>\n",
       "      <td>41.36</td>\n",
       "      <td>28.96</td>\n",
       "      <td>3.77</td>\n",
       "      <td>8.45</td>\n",
       "      <td>76.0</td>\n",
       "      <td>8.0</td>\n",
       "      <td>E</td>\n",
       "      <td>82.54</td>\n",
       "    </tr>\n",
       "    <tr>\n",
       "      <th>1</th>\n",
       "      <td>super mario bros.</td>\n",
       "      <td>nes</td>\n",
       "      <td>1985</td>\n",
       "      <td>platform</td>\n",
       "      <td>29.08</td>\n",
       "      <td>3.58</td>\n",
       "      <td>6.81</td>\n",
       "      <td>0.77</td>\n",
       "      <td>-1.0</td>\n",
       "      <td>-1.0</td>\n",
       "      <td>-1</td>\n",
       "      <td>40.24</td>\n",
       "    </tr>\n",
       "    <tr>\n",
       "      <th>2</th>\n",
       "      <td>mario kart wii</td>\n",
       "      <td>wii</td>\n",
       "      <td>2008</td>\n",
       "      <td>racing</td>\n",
       "      <td>15.68</td>\n",
       "      <td>12.76</td>\n",
       "      <td>3.79</td>\n",
       "      <td>3.29</td>\n",
       "      <td>82.0</td>\n",
       "      <td>8.3</td>\n",
       "      <td>E</td>\n",
       "      <td>35.52</td>\n",
       "    </tr>\n",
       "    <tr>\n",
       "      <th>3</th>\n",
       "      <td>wii sports resort</td>\n",
       "      <td>wii</td>\n",
       "      <td>2009</td>\n",
       "      <td>sports</td>\n",
       "      <td>15.61</td>\n",
       "      <td>10.93</td>\n",
       "      <td>3.28</td>\n",
       "      <td>2.95</td>\n",
       "      <td>80.0</td>\n",
       "      <td>8.0</td>\n",
       "      <td>E</td>\n",
       "      <td>32.77</td>\n",
       "    </tr>\n",
       "    <tr>\n",
       "      <th>4</th>\n",
       "      <td>pokemon red/pokemon blue</td>\n",
       "      <td>gb</td>\n",
       "      <td>1996</td>\n",
       "      <td>role-playing</td>\n",
       "      <td>11.27</td>\n",
       "      <td>8.89</td>\n",
       "      <td>10.22</td>\n",
       "      <td>1.00</td>\n",
       "      <td>-1.0</td>\n",
       "      <td>-1.0</td>\n",
       "      <td>-1</td>\n",
       "      <td>31.38</td>\n",
       "    </tr>\n",
       "    <tr>\n",
       "      <th>5</th>\n",
       "      <td>tetris</td>\n",
       "      <td>gb</td>\n",
       "      <td>1989</td>\n",
       "      <td>puzzle</td>\n",
       "      <td>23.20</td>\n",
       "      <td>2.26</td>\n",
       "      <td>4.22</td>\n",
       "      <td>0.58</td>\n",
       "      <td>-1.0</td>\n",
       "      <td>-1.0</td>\n",
       "      <td>-1</td>\n",
       "      <td>30.26</td>\n",
       "    </tr>\n",
       "    <tr>\n",
       "      <th>6</th>\n",
       "      <td>new super mario bros.</td>\n",
       "      <td>ds</td>\n",
       "      <td>2006</td>\n",
       "      <td>platform</td>\n",
       "      <td>11.28</td>\n",
       "      <td>9.14</td>\n",
       "      <td>6.50</td>\n",
       "      <td>2.88</td>\n",
       "      <td>89.0</td>\n",
       "      <td>8.5</td>\n",
       "      <td>E</td>\n",
       "      <td>29.80</td>\n",
       "    </tr>\n",
       "    <tr>\n",
       "      <th>7</th>\n",
       "      <td>wii play</td>\n",
       "      <td>wii</td>\n",
       "      <td>2006</td>\n",
       "      <td>misc</td>\n",
       "      <td>13.96</td>\n",
       "      <td>9.18</td>\n",
       "      <td>2.93</td>\n",
       "      <td>2.84</td>\n",
       "      <td>58.0</td>\n",
       "      <td>6.6</td>\n",
       "      <td>E</td>\n",
       "      <td>28.91</td>\n",
       "    </tr>\n",
       "    <tr>\n",
       "      <th>8</th>\n",
       "      <td>new super mario bros. wii</td>\n",
       "      <td>wii</td>\n",
       "      <td>2009</td>\n",
       "      <td>platform</td>\n",
       "      <td>14.44</td>\n",
       "      <td>6.94</td>\n",
       "      <td>4.70</td>\n",
       "      <td>2.24</td>\n",
       "      <td>87.0</td>\n",
       "      <td>8.4</td>\n",
       "      <td>E</td>\n",
       "      <td>28.32</td>\n",
       "    </tr>\n",
       "    <tr>\n",
       "      <th>9</th>\n",
       "      <td>duck hunt</td>\n",
       "      <td>nes</td>\n",
       "      <td>1984</td>\n",
       "      <td>shooter</td>\n",
       "      <td>26.93</td>\n",
       "      <td>0.63</td>\n",
       "      <td>0.28</td>\n",
       "      <td>0.47</td>\n",
       "      <td>-1.0</td>\n",
       "      <td>-1.0</td>\n",
       "      <td>-1</td>\n",
       "      <td>28.31</td>\n",
       "    </tr>\n",
       "  </tbody>\n",
       "</table>\n",
       "</div>"
      ],
      "text/plain": [
       "                        name platform  year_of_release         genre  \\\n",
       "0                 wii sports      wii             2006        sports   \n",
       "1          super mario bros.      nes             1985      platform   \n",
       "2             mario kart wii      wii             2008        racing   \n",
       "3          wii sports resort      wii             2009        sports   \n",
       "4   pokemon red/pokemon blue       gb             1996  role-playing   \n",
       "5                     tetris       gb             1989        puzzle   \n",
       "6      new super mario bros.       ds             2006      platform   \n",
       "7                   wii play      wii             2006          misc   \n",
       "8  new super mario bros. wii      wii             2009      platform   \n",
       "9                  duck hunt      nes             1984       shooter   \n",
       "\n",
       "   na_sales  eu_sales  jp_sales  other_sales  critic_score  user_score rating  \\\n",
       "0     41.36     28.96      3.77         8.45          76.0         8.0      E   \n",
       "1     29.08      3.58      6.81         0.77          -1.0        -1.0     -1   \n",
       "2     15.68     12.76      3.79         3.29          82.0         8.3      E   \n",
       "3     15.61     10.93      3.28         2.95          80.0         8.0      E   \n",
       "4     11.27      8.89     10.22         1.00          -1.0        -1.0     -1   \n",
       "5     23.20      2.26      4.22         0.58          -1.0        -1.0     -1   \n",
       "6     11.28      9.14      6.50         2.88          89.0         8.5      E   \n",
       "7     13.96      9.18      2.93         2.84          58.0         6.6      E   \n",
       "8     14.44      6.94      4.70         2.24          87.0         8.4      E   \n",
       "9     26.93      0.63      0.28         0.47          -1.0        -1.0     -1   \n",
       "\n",
       "   total_sales  \n",
       "0        82.54  \n",
       "1        40.24  \n",
       "2        35.52  \n",
       "3        32.77  \n",
       "4        31.38  \n",
       "5        30.26  \n",
       "6        29.80  \n",
       "7        28.91  \n",
       "8        28.32  \n",
       "9        28.31  "
      ]
     },
     "execution_count": 21,
     "metadata": {},
     "output_type": "execute_result"
    }
   ],
   "source": [
    "data.head(10)"
   ]
  },
  {
   "cell_type": "code",
   "execution_count": 22,
   "metadata": {},
   "outputs": [
    {
     "name": "stdout",
     "output_type": "stream",
     "text": [
      "<class 'pandas.core.frame.DataFrame'>\n",
      "Int64Index: 16442 entries, 0 to 16714\n",
      "Data columns (total 12 columns):\n",
      " #   Column           Non-Null Count  Dtype  \n",
      "---  ------           --------------  -----  \n",
      " 0   name             16442 non-null  object \n",
      " 1   platform         16442 non-null  object \n",
      " 2   year_of_release  16442 non-null  int64  \n",
      " 3   genre            16442 non-null  object \n",
      " 4   na_sales         16442 non-null  float64\n",
      " 5   eu_sales         16442 non-null  float64\n",
      " 6   jp_sales         16442 non-null  float64\n",
      " 7   other_sales      16442 non-null  float64\n",
      " 8   critic_score     16442 non-null  float64\n",
      " 9   user_score       16442 non-null  float64\n",
      " 10  rating           16442 non-null  object \n",
      " 11  total_sales      16442 non-null  float64\n",
      "dtypes: float64(7), int64(1), object(4)\n",
      "memory usage: 1.6+ MB\n"
     ]
    }
   ],
   "source": [
    "data.info()"
   ]
  },
  {
   "cell_type": "markdown",
   "metadata": {},
   "source": [
    "<div class=\"alert-warning\">\n",
    "<b>Комментарий ревьюера ⚠️</b>\n",
    "\n",
    "В конце предобработки имеет смысл написать краткий вывод: все ли пропуски и дубликаты обработаны, какие типы данных изменены, сравнить первоначальную таблицу с обработанной на предмет того, сколько данных мы выбросили. </div>"
   ]
  },
  {
   "cell_type": "markdown",
   "metadata": {},
   "source": [
    "<div class=\"alert alert-info\"> 🧩<b>Комментарии студента:</b> \n",
    "👇</div>   "
   ]
  },
  {
   "cell_type": "markdown",
   "metadata": {},
   "source": [
    "В результате предобработки из 16713 осталось 16442. Общая потеря данных составляет менее 2%  \n",
    "Но теперь нет пустых значений  \n",
    "\n",
    "Год релиза преобразован в целые числа для удобства дальнейшей работы\n",
    "Оценки критиков также были преобразованы. Из класса \"обьект\" в дробные значения\n",
    "\n"
   ]
  },
  {
   "cell_type": "markdown",
   "metadata": {},
   "source": [
    "Теперь данные готовы к дальнейшему анализу."
   ]
  },
  {
   "cell_type": "markdown",
   "metadata": {},
   "source": [
    "<div class=\"alert-success\">\n",
    "<b>Комментарий ревьюера V2 ✔️</b>\n",
    "\n",
    "Отлично, вывод логически завершает шаг работы.</div>"
   ]
  },
  {
   "cell_type": "markdown",
   "metadata": {},
   "source": [
    "## **Исследовательский анализ данных**"
   ]
  },
  {
   "cell_type": "markdown",
   "metadata": {},
   "source": [
    "Посмотрим, сколько игр выпускалось в разные годы."
   ]
  },
  {
   "cell_type": "code",
   "execution_count": 23,
   "metadata": {},
   "outputs": [
    {
     "data": {
      "image/png": "[encoded data removed]",
      "text/plain": [
       "<Figure size 1224x576 with 1 Axes>"
      ]
     },
     "metadata": {
      "needs_background": "light"
     },
     "output_type": "display_data"
    }
   ],
   "source": [
    "data.pivot_table(index='year_of_release', values='total_sales', aggfunc='count').plot(figsize=(17, 8), style='o-', title='Количество игр в разные годы')\n",
    "plt.show()"
   ]
  },
  {
   "cell_type": "markdown",
   "metadata": {},
   "source": [
    "Резкий скачок по количеству игр, выпущенных в год, произошел в 2002 году \n",
    "Наибольшее количество игр приходятся на 2008-2009 \n",
    "После 2009 произошел резкий спад по количеству выпускаемых игр. "
   ]
  },
  {
   "cell_type": "markdown",
   "metadata": {},
   "source": [
    "<div class=\"alert-success\">\n",
    "<b>Комментарий ревьюера ✔️</b>\n",
    "\n",
    "Верно, до начала 2000-х игр выпускалось крайне мало, этот период можно дальше не учитывать. Для наглядности можно увеличить размер графика параметром `figsize`. </div>"
   ]
  },
  {
   "cell_type": "markdown",
   "metadata": {},
   "source": [
    "Посмотрим, как менялись продажи по платформам"
   ]
  },
  {
   "cell_type": "code",
   "execution_count": 24,
   "metadata": {},
   "outputs": [
    {
     "data": {
      "text/html": [
       "<div>\n",
       "<style scoped>\n",
       "    .dataframe tbody tr th:only-of-type {\n",
       "        vertical-align: middle;\n",
       "    }\n",
       "\n",
       "    .dataframe tbody tr th {\n",
       "        vertical-align: top;\n",
       "    }\n",
       "\n",
       "    .dataframe thead th {\n",
       "        text-align: right;\n",
       "    }\n",
       "</style>\n",
       "<table border=\"1\" class=\"dataframe\">\n",
       "  <thead>\n",
       "    <tr style=\"text-align: right;\">\n",
       "      <th></th>\n",
       "      <th>total_sales</th>\n",
       "    </tr>\n",
       "    <tr>\n",
       "      <th>platform</th>\n",
       "      <th></th>\n",
       "    </tr>\n",
       "  </thead>\n",
       "  <tbody>\n",
       "    <tr>\n",
       "      <th>ps2</th>\n",
       "      <td>1233.56</td>\n",
       "    </tr>\n",
       "    <tr>\n",
       "      <th>x360</th>\n",
       "      <td>961.24</td>\n",
       "    </tr>\n",
       "    <tr>\n",
       "      <th>ps3</th>\n",
       "      <td>931.34</td>\n",
       "    </tr>\n",
       "    <tr>\n",
       "      <th>wii</th>\n",
       "      <td>891.18</td>\n",
       "    </tr>\n",
       "    <tr>\n",
       "      <th>ds</th>\n",
       "      <td>802.78</td>\n",
       "    </tr>\n",
       "    <tr>\n",
       "      <th>ps</th>\n",
       "      <td>727.58</td>\n",
       "    </tr>\n",
       "    <tr>\n",
       "      <th>ps4</th>\n",
       "      <td>314.14</td>\n",
       "    </tr>\n",
       "    <tr>\n",
       "      <th>gba</th>\n",
       "      <td>312.88</td>\n",
       "    </tr>\n",
       "    <tr>\n",
       "      <th>psp</th>\n",
       "      <td>289.53</td>\n",
       "    </tr>\n",
       "    <tr>\n",
       "      <th>3ds</th>\n",
       "      <td>257.81</td>\n",
       "    </tr>\n",
       "    <tr>\n",
       "      <th>pc</th>\n",
       "      <td>255.76</td>\n",
       "    </tr>\n",
       "    <tr>\n",
       "      <th>gb</th>\n",
       "      <td>254.43</td>\n",
       "    </tr>\n",
       "    <tr>\n",
       "      <th>xb</th>\n",
       "      <td>251.57</td>\n",
       "    </tr>\n",
       "    <tr>\n",
       "      <th>nes</th>\n",
       "      <td>251.05</td>\n",
       "    </tr>\n",
       "    <tr>\n",
       "      <th>n64</th>\n",
       "      <td>218.01</td>\n",
       "    </tr>\n",
       "    <tr>\n",
       "      <th>snes</th>\n",
       "      <td>200.04</td>\n",
       "    </tr>\n",
       "    <tr>\n",
       "      <th>gc</th>\n",
       "      <td>196.73</td>\n",
       "    </tr>\n",
       "    <tr>\n",
       "      <th>xone</th>\n",
       "      <td>159.32</td>\n",
       "    </tr>\n",
       "    <tr>\n",
       "      <th>2600</th>\n",
       "      <td>86.48</td>\n",
       "    </tr>\n",
       "    <tr>\n",
       "      <th>wiiu</th>\n",
       "      <td>82.19</td>\n",
       "    </tr>\n",
       "    <tr>\n",
       "      <th>psv</th>\n",
       "      <td>53.81</td>\n",
       "    </tr>\n",
       "    <tr>\n",
       "      <th>sat</th>\n",
       "      <td>33.59</td>\n",
       "    </tr>\n",
       "    <tr>\n",
       "      <th>gen</th>\n",
       "      <td>28.35</td>\n",
       "    </tr>\n",
       "    <tr>\n",
       "      <th>dc</th>\n",
       "      <td>15.95</td>\n",
       "    </tr>\n",
       "    <tr>\n",
       "      <th>scd</th>\n",
       "      <td>1.86</td>\n",
       "    </tr>\n",
       "    <tr>\n",
       "      <th>ng</th>\n",
       "      <td>1.44</td>\n",
       "    </tr>\n",
       "    <tr>\n",
       "      <th>ws</th>\n",
       "      <td>1.42</td>\n",
       "    </tr>\n",
       "    <tr>\n",
       "      <th>tg16</th>\n",
       "      <td>0.16</td>\n",
       "    </tr>\n",
       "    <tr>\n",
       "      <th>3do</th>\n",
       "      <td>0.10</td>\n",
       "    </tr>\n",
       "    <tr>\n",
       "      <th>gg</th>\n",
       "      <td>0.04</td>\n",
       "    </tr>\n",
       "    <tr>\n",
       "      <th>pcfx</th>\n",
       "      <td>0.03</td>\n",
       "    </tr>\n",
       "  </tbody>\n",
       "</table>\n",
       "</div>"
      ],
      "text/plain": [
       "          total_sales\n",
       "platform             \n",
       "ps2           1233.56\n",
       "x360           961.24\n",
       "ps3            931.34\n",
       "wii            891.18\n",
       "ds             802.78\n",
       "ps             727.58\n",
       "ps4            314.14\n",
       "gba            312.88\n",
       "psp            289.53\n",
       "3ds            257.81\n",
       "pc             255.76\n",
       "gb             254.43\n",
       "xb             251.57\n",
       "nes            251.05\n",
       "n64            218.01\n",
       "snes           200.04\n",
       "gc             196.73\n",
       "xone           159.32\n",
       "2600            86.48\n",
       "wiiu            82.19\n",
       "psv             53.81\n",
       "sat             33.59\n",
       "gen             28.35\n",
       "dc              15.95\n",
       "scd              1.86\n",
       "ng               1.44\n",
       "ws               1.42\n",
       "tg16             0.16\n",
       "3do              0.10\n",
       "gg               0.04\n",
       "pcfx             0.03"
      ]
     },
     "execution_count": 24,
     "metadata": {},
     "output_type": "execute_result"
    }
   ],
   "source": [
    "top_platforms = pd.pivot_table(data, index=['platform'], values='total_sales', aggfunc='sum')\n",
    "top_platforms = top_platforms.sort_values('total_sales',ascending=False)\n",
    "top_platforms"
   ]
  },
  {
   "cell_type": "markdown",
   "metadata": {},
   "source": [
    "Рассмотрим ТОП-5 платформ, так как далее количество продаж значительно меньше"
   ]
  },
  {
   "cell_type": "code",
   "execution_count": 25,
   "metadata": {},
   "outputs": [
    {
     "data": {
      "text/plain": [
       "['ps2', 'x360', 'ps3', 'wii', 'ds']"
      ]
     },
     "execution_count": 25,
     "metadata": {},
     "output_type": "execute_result"
    }
   ],
   "source": [
    "top_platforms = list(top_platforms.index[:5])\n",
    "top_platforms"
   ]
  },
  {
   "cell_type": "code",
   "execution_count": 26,
   "metadata": {
    "scrolled": true
   },
   "outputs": [
    {
     "name": "stdout",
     "output_type": "stream",
     "text": [
      "Платформа  ps2\n",
      "                          total_sales\n",
      "platform year_of_release             \n",
      "ps2      2000                   39.17\n",
      "         2001                  166.43\n",
      "         2002                  205.38\n",
      "         2003                  184.31\n",
      "         2004                  211.81\n",
      "         2005                  160.66\n",
      "         2006                  103.42\n",
      "         2007                   75.99\n",
      "         2008                   53.90\n",
      "         2009                   26.40\n",
      "         2010                    5.64\n",
      "         2011                    0.45\n",
      "Платформа  x360\n",
      "                          total_sales\n",
      "platform year_of_release             \n",
      "x360     2005                    8.25\n",
      "         2006                   51.62\n",
      "         2007                   95.41\n",
      "         2008                  135.26\n",
      "         2009                  120.29\n",
      "         2010                  170.03\n",
      "         2011                  143.84\n",
      "         2012                   99.74\n",
      "         2013                   88.58\n",
      "         2014                   34.74\n",
      "         2015                   11.96\n",
      "         2016                    1.52\n",
      "Платформа  ps3\n",
      "                          total_sales\n",
      "platform year_of_release             \n",
      "ps3      2006                   20.96\n",
      "         2007                   73.19\n",
      "         2008                  118.52\n",
      "         2009                  130.93\n",
      "         2010                  142.17\n",
      "         2011                  156.78\n",
      "         2012                  107.36\n",
      "         2013                  113.25\n",
      "         2014                   47.76\n",
      "         2015                   16.82\n",
      "         2016                    3.60\n",
      "Платформа  wii\n",
      "                          total_sales\n",
      "platform year_of_release             \n",
      "wii      2006                  137.15\n",
      "         2007                  152.77\n",
      "         2008                  171.32\n",
      "         2009                  206.97\n",
      "         2010                  127.95\n",
      "         2011                   59.65\n",
      "         2012                   21.71\n",
      "         2013                    8.59\n",
      "         2014                    3.75\n",
      "         2015                    1.14\n",
      "         2016                    0.18\n",
      "Платформа  ds\n",
      "                          total_sales\n",
      "platform year_of_release             \n",
      "ds       1985                    0.02\n",
      "         2004                   17.27\n",
      "         2005                  130.14\n",
      "         2006                  119.81\n",
      "         2007                  146.94\n",
      "         2008                  145.31\n",
      "         2009                  119.54\n",
      "         2010                   85.02\n",
      "         2011                   26.18\n",
      "         2012                   11.01\n",
      "         2013                    1.54\n"
     ]
    }
   ],
   "source": [
    "for platform in top_platforms:\n",
    "    print('Платформа ',platform)\n",
    "    platform_sales_pivot_table = pd.pivot_table(data.query('platform == @platform'), index=['platform','year_of_release'], values='total_sales', aggfunc='sum')\n",
    "    print(platform_sales_pivot_table)"
   ]
  },
  {
   "cell_type": "markdown",
   "metadata": {},
   "source": [
    "<div class=\"alert-warning\">\n",
    "<b>Комментарий ревьюера ⚠️</b>\n",
    "\n",
    "Здесь, помимо таблиц, стоило вывести графики распределения продаж по годам, для наглядности.</div>"
   ]
  },
  {
   "cell_type": "markdown",
   "metadata": {},
   "source": [
    "Жизнедеятельность игровой платформы примерно 10 лет\n",
    "новые платформы набирают популярность в течении 3-4 лет"
   ]
  },
  {
   "cell_type": "markdown",
   "metadata": {},
   "source": [
    "<div class=\"alert-success\">\n",
    "<b>Комментарий ревьюера ✔️</b>\n",
    "\n",
    "Жизненный цикл платформ определен правильно. В среднем, за 10 лет платформа теряет актуальность.</div>"
   ]
  },
  {
   "cell_type": "markdown",
   "metadata": {},
   "source": [
    "Т.к. игры ранее самых популярных платформ к 2012 году практически прекратили свое существование - думаю стоит рассматривать более актуальный период с 2013 по 2016 год и на этом делать прогноз на 2017 \n"
   ]
  },
  {
   "cell_type": "code",
   "execution_count": 27,
   "metadata": {},
   "outputs": [],
   "source": [
    "actual_data = data.query('year_of_release > 2012')\n"
   ]
  },
  {
   "cell_type": "markdown",
   "metadata": {},
   "source": [
    "<div class=\"alert-success\">\n",
    "<b>Комментарий ревьюера ✔️</b>\n",
    "\n",
    "Актуальный период выбран правильно. Брать для прогноза данные более чем за 5 лет для такой динамичной индустрии как видеоигры - нецелесообразно, можно захватить уходящие тренды.</div>"
   ]
  },
  {
   "cell_type": "markdown",
   "metadata": {},
   "source": [
    "Рассмотрим какие платформы пользуются популярность с 2013 года"
   ]
  },
  {
   "cell_type": "code",
   "execution_count": 28,
   "metadata": {},
   "outputs": [],
   "source": [
    "actual_top_platforms = (actual_data\n",
    "        .pivot_table(index = 'platform', values='total_sales', aggfunc=['sum'])\n",
    "        .sort_values(by=('sum','total_sales'), ascending=False))  "
   ]
  },
  {
   "cell_type": "code",
   "execution_count": 29,
   "metadata": {},
   "outputs": [
    {
     "data": {
      "text/html": [
       "<div>\n",
       "<style scoped>\n",
       "    .dataframe tbody tr th:only-of-type {\n",
       "        vertical-align: middle;\n",
       "    }\n",
       "\n",
       "    .dataframe tbody tr th {\n",
       "        vertical-align: top;\n",
       "    }\n",
       "\n",
       "    .dataframe thead tr th {\n",
       "        text-align: left;\n",
       "    }\n",
       "</style>\n",
       "<table border=\"1\" class=\"dataframe\">\n",
       "  <thead>\n",
       "    <tr>\n",
       "      <th></th>\n",
       "      <th>platform</th>\n",
       "      <th>sum</th>\n",
       "    </tr>\n",
       "    <tr>\n",
       "      <th></th>\n",
       "      <th></th>\n",
       "      <th>total_sales</th>\n",
       "    </tr>\n",
       "  </thead>\n",
       "  <tbody>\n",
       "    <tr>\n",
       "      <th>0</th>\n",
       "      <td>ps4</td>\n",
       "      <td>314.14</td>\n",
       "    </tr>\n",
       "    <tr>\n",
       "      <th>1</th>\n",
       "      <td>ps3</td>\n",
       "      <td>181.43</td>\n",
       "    </tr>\n",
       "    <tr>\n",
       "      <th>2</th>\n",
       "      <td>xone</td>\n",
       "      <td>159.32</td>\n",
       "    </tr>\n",
       "    <tr>\n",
       "      <th>3</th>\n",
       "      <td>3ds</td>\n",
       "      <td>143.25</td>\n",
       "    </tr>\n",
       "    <tr>\n",
       "      <th>4</th>\n",
       "      <td>x360</td>\n",
       "      <td>136.80</td>\n",
       "    </tr>\n",
       "    <tr>\n",
       "      <th>5</th>\n",
       "      <td>wiiu</td>\n",
       "      <td>64.63</td>\n",
       "    </tr>\n",
       "    <tr>\n",
       "      <th>6</th>\n",
       "      <td>pc</td>\n",
       "      <td>39.43</td>\n",
       "    </tr>\n",
       "    <tr>\n",
       "      <th>7</th>\n",
       "      <td>psv</td>\n",
       "      <td>32.99</td>\n",
       "    </tr>\n",
       "    <tr>\n",
       "      <th>8</th>\n",
       "      <td>wii</td>\n",
       "      <td>13.66</td>\n",
       "    </tr>\n",
       "    <tr>\n",
       "      <th>9</th>\n",
       "      <td>psp</td>\n",
       "      <td>3.50</td>\n",
       "    </tr>\n",
       "    <tr>\n",
       "      <th>10</th>\n",
       "      <td>ds</td>\n",
       "      <td>1.54</td>\n",
       "    </tr>\n",
       "  </tbody>\n",
       "</table>\n",
       "</div>"
      ],
      "text/plain": [
       "   platform         sum\n",
       "            total_sales\n",
       "0       ps4      314.14\n",
       "1       ps3      181.43\n",
       "2      xone      159.32\n",
       "3       3ds      143.25\n",
       "4      x360      136.80\n",
       "5      wiiu       64.63\n",
       "6        pc       39.43\n",
       "7       psv       32.99\n",
       "8       wii       13.66\n",
       "9       psp        3.50\n",
       "10       ds        1.54"
      ]
     },
     "metadata": {},
     "output_type": "display_data"
    }
   ],
   "source": [
    "actual_top_platforms.reset_index(inplace=True)\n",
    "actual_top_platforms.columns\n",
    "display(actual_top_platforms)\n",
    "actual_top_platforms_names = actual_top_platforms.loc[:, 'platform']"
   ]
  },
  {
   "cell_type": "markdown",
   "metadata": {},
   "source": [
    "Далее рассмотри как количество продаж на различных платформах менялось в течении исследуемого периода времени "
   ]
  },
  {
   "cell_type": "code",
   "execution_count": 30,
   "metadata": {},
   "outputs": [
    {
     "name": "stdout",
     "output_type": "stream",
     "text": [
      "year_of_release\n",
      "2013     25.99\n",
      "2014    100.00\n",
      "2015    118.90\n",
      "2016     69.25\n",
      "Name: total_sales, dtype: float64\n",
      "year_of_release\n",
      "2013    113.25\n",
      "2014     47.76\n",
      "2015     16.82\n",
      "2016      3.60\n",
      "Name: total_sales, dtype: float64\n",
      "year_of_release\n",
      "2013    18.96\n",
      "2014    54.07\n",
      "2015    60.14\n",
      "2016    26.15\n",
      "Name: total_sales, dtype: float64\n",
      "year_of_release\n",
      "2013    56.57\n",
      "2014    43.76\n",
      "2015    27.78\n",
      "2016    15.14\n",
      "Name: total_sales, dtype: float64\n",
      "year_of_release\n",
      "2013    88.58\n",
      "2014    34.74\n",
      "2015    11.96\n",
      "2016     1.52\n",
      "Name: total_sales, dtype: float64\n",
      "year_of_release\n",
      "2013    21.65\n",
      "2014    22.03\n",
      "2015    16.35\n",
      "2016     4.60\n",
      "Name: total_sales, dtype: float64\n",
      "year_of_release\n",
      "2013    12.38\n",
      "2014    13.28\n",
      "2015     8.52\n",
      "2016     5.25\n",
      "Name: total_sales, dtype: float64\n",
      "year_of_release\n",
      "2013    10.59\n",
      "2014    11.90\n",
      "2015     6.25\n",
      "2016     4.25\n",
      "Name: total_sales, dtype: float64\n",
      "year_of_release\n",
      "2013    8.59\n",
      "2014    3.75\n",
      "2015    1.14\n",
      "2016    0.18\n",
      "Name: total_sales, dtype: float64\n",
      "year_of_release\n",
      "2013    3.14\n",
      "2014    0.24\n",
      "2015    0.12\n",
      "Name: total_sales, dtype: float64\n",
      "year_of_release\n",
      "2013    1.54\n",
      "Name: total_sales, dtype: float64\n"
     ]
    },
    {
     "data": {
      "image/png": "[encoded data removed]",
      "text/plain": [
       "<Figure size 1080x2160 with 11 Axes>"
      ]
     },
     "metadata": {
      "needs_background": "light"
     },
     "output_type": "display_data"
    }
   ],
   "source": [
    "actual_top_platforms_len = actual_top_platforms_names.size # узнаем количество платформ\n",
    "fig, axs = plt.subplots(actual_top_platforms_len, sharex=True, sharey=False, figsize=(15, 30))\n",
    "for index, platform in enumerate(actual_top_platforms_names):\n",
    "    platform_sales = actual_data[actual_data['platform'] == platform].groupby('year_of_release')['total_sales'].agg('sum')\n",
    "    print(platform_sales)\n",
    "    axs[index].plot(platform_sales.index.tolist(), platform_sales.values, marker='o', label=platform)\n",
    "    axs[index].set_xlabel('Год')  # Добавляем к оси Х подпись \n",
    "    axs[index].set_ylabel('Продажи')  # Добавляем к оси У подпись \n",
    "    axs[index].legend()\n"
   ]
  },
  {
   "cell_type": "markdown",
   "metadata": {},
   "source": [
    "<div class=\"alert-warning\">\n",
    "<b>Комментарий ревьюера ⚠️</b>\n",
    "\n",
    "Для сравнения динамики общих продаж, стоит вывести все платформы на один график.</div>"
   ]
  },
  {
   "cell_type": "markdown",
   "metadata": {},
   "source": [
    "Лидируют по продажам ps4 и xone, однако эти платформы появились в 2013 году и как мы видим в 2016 году на них уже начинает падать спрос, что говорит о необходимости разработки новых платформ. \n",
    "Продажи игр остальных платформ также идут на спад, на psp и ds вообще прекратились продажи\n"
   ]
  },
  {
   "cell_type": "markdown",
   "metadata": {},
   "source": [
    "Потенциально прибыльными платформами можно считать ps4 и xone"
   ]
  },
  {
   "cell_type": "markdown",
   "metadata": {},
   "source": [
    "<div class=\"alert-warning\">\n",
    "<b>Комментарий ревьюера ⚠️</b>\n",
    "\n",
    "Если я правильно понял, ты определяешь платформы PS4 и XOne как потенциально прибыльные?</div>"
   ]
  },
  {
   "cell_type": "markdown",
   "metadata": {},
   "source": [
    "<div class=\"alert alert-info\"> 🧩<b>Комментарии студента:</b> \n",
    "Да </div>   "
   ]
  },
  {
   "cell_type": "markdown",
   "metadata": {},
   "source": [
    "Построим график «ящик с усами» по глобальным продажам игр в разбивке по платформам."
   ]
  },
  {
   "cell_type": "code",
   "execution_count": 31,
   "metadata": {},
   "outputs": [
    {
     "data": {
      "image/png": "[encoded data removed]",
      "text/plain": [
       "<Figure size 1166.4x432 with 1 Axes>"
      ]
     },
     "metadata": {
      "needs_background": "light"
     },
     "output_type": "display_data"
    }
   ],
   "source": [
    "sns.catplot(x=\"platform\", \n",
    "            y='total_sales', \n",
    "            kind=\"box\", \n",
    "            data=actual_data, \n",
    "            orient='v', \n",
    "            height=6, \n",
    "            aspect=2.7)\n",
    "_ = plt.ylim(0, 2)\n"
   ]
  },
  {
   "cell_type": "code",
   "execution_count": 32,
   "metadata": {},
   "outputs": [
    {
     "name": "stdout",
     "output_type": "stream",
     "text": [
      "count    345.000000\n",
      "mean       0.525884\n",
      "std        1.451939\n",
      "min        0.010000\n",
      "25%        0.040000\n",
      "50%        0.150000\n",
      "75%        0.510000\n",
      "max       21.050000\n",
      "Name: total_sales, dtype: float64\n",
      "count    186.000000\n",
      "mean       0.735484\n",
      "std        1.663275\n",
      "min        0.010000\n",
      "25%        0.080000\n",
      "50%        0.265000\n",
      "75%        0.795000\n",
      "max       16.270000\n",
      "Name: total_sales, dtype: float64\n",
      "count    392.000000\n",
      "mean       0.801378\n",
      "std        1.609456\n",
      "min        0.010000\n",
      "25%        0.060000\n",
      "50%        0.200000\n",
      "75%        0.730000\n",
      "max       14.630000\n",
      "Name: total_sales, dtype: float64\n",
      "count    303.000000\n",
      "mean       0.472772\n",
      "std        1.381347\n",
      "min        0.010000\n",
      "25%        0.040000\n",
      "50%        0.090000\n",
      "75%        0.280000\n",
      "max       14.600000\n",
      "Name: total_sales, dtype: float64\n",
      "count    247.000000\n",
      "mean       0.645020\n",
      "std        1.036139\n",
      "min        0.010000\n",
      "25%        0.060000\n",
      "50%        0.220000\n",
      "75%        0.685000\n",
      "max        7.390000\n",
      "Name: total_sales, dtype: float64\n",
      "count    0.0\n",
      "mean     NaN\n",
      "std      NaN\n",
      "min      NaN\n",
      "25%      NaN\n",
      "50%      NaN\n",
      "75%      NaN\n",
      "max      NaN\n",
      "Name: total_sales, dtype: float64\n",
      "count    23.000000\n",
      "mean      0.593913\n",
      "std       0.915432\n",
      "min       0.010000\n",
      "25%       0.045000\n",
      "50%       0.180000\n",
      "75%       0.755000\n",
      "max       3.580000\n",
      "Name: total_sales, dtype: float64\n",
      "count    189.000000\n",
      "mean       0.208624\n",
      "std        0.352304\n",
      "min        0.010000\n",
      "25%        0.030000\n",
      "50%        0.080000\n",
      "75%        0.230000\n",
      "max        3.050000\n",
      "Name: total_sales, dtype: float64\n",
      "count    358.000000\n",
      "mean       0.092151\n",
      "std        0.153816\n",
      "min        0.010000\n",
      "25%        0.020000\n",
      "50%        0.040000\n",
      "75%        0.110000\n",
      "max        1.960000\n",
      "Name: total_sales, dtype: float64\n",
      "count    8.000000\n",
      "mean     0.192500\n",
      "std      0.172026\n",
      "min      0.030000\n",
      "25%      0.067500\n",
      "50%      0.150000\n",
      "75%      0.252500\n",
      "max      0.510000\n",
      "Name: total_sales, dtype: float64\n"
     ]
    }
   ],
   "source": [
    "print(actual_data[actual_data['platform'] == 'ps3']['total_sales'].describe())\n",
    "print(actual_data[actual_data['platform'] == 'x360']['total_sales'].describe())\n",
    "print(actual_data[actual_data['platform'] == 'ps4']['total_sales'].describe())\n",
    "print(actual_data[actual_data['platform'] == '3ds']['total_sales'].describe())\n",
    "print(actual_data[actual_data['platform'] == 'xone']['total_sales'].describe())\n",
    "print(actual_data[actual_data['platform'] == 'wii u']['total_sales'].describe())\n",
    "print(actual_data[actual_data['platform'] == 'wii']['total_sales'].describe())\n",
    "print(actual_data[actual_data['platform'] == 'pc']['total_sales'].describe())\n",
    "print(actual_data[actual_data['platform'] == 'psv']['total_sales'].describe())\n",
    "print(actual_data[actual_data['platform'] == 'ds']['total_sales'].describe())"
   ]
  },
  {
   "cell_type": "markdown",
   "metadata": {},
   "source": [
    "<div class=\"alert-warning\">\n",
    "<b>Комментарий ревьюера ⚠️</b>\n",
    "\n",
    "Вот такую операцию стоит завернуть в цикл, составив список платформ, к которым нужно применить один и тот же метод.</div>"
   ]
  },
  {
   "cell_type": "markdown",
   "metadata": {},
   "source": [
    "Лидерами по средним продажам относятся x360, xone, wiiu и wii."
   ]
  },
  {
   "cell_type": "markdown",
   "metadata": {},
   "source": [
    "<div class=\"alert-success\">\n",
    "<b>Комментарий ревьюера ✔️</b>\n",
    "\n",
    "График \"ящики с усами\" построен верно. А как ты прокомментируешь выбросы?</div>"
   ]
  },
  {
   "cell_type": "markdown",
   "metadata": {},
   "source": [
    "Также стоит обратить внимание на выбросы, в игровой сфере это довольно частое явление, когда игра обретает огромную популярность "
   ]
  },
  {
   "cell_type": "markdown",
   "metadata": {},
   "source": [
    "<div class=\"alert-success\">\n",
    "<b>Комментарий ревьюера V2 ✔️</b>\n",
    "\n",
    "Верно! 👌</div>"
   ]
  },
  {
   "cell_type": "markdown",
   "metadata": {},
   "source": [
    "Рассмотрим влияние оценок пользователей и критиков на показатели продаж игр на 10 популярнейших платформах"
   ]
  },
  {
   "cell_type": "markdown",
   "metadata": {},
   "source": [
    "<div class=\"alert-warning\">\n",
    "<b>Комментарий ревьюера ⚠️</b>\n",
    "\n",
    "Было бы здорово выделить подзаголовки в соответствии с пунктами задания.\n",
    "\n",
    "Уровни подзаголовков определяются количеством `#`:\n",
    "\n",
    "- `#`\n",
    "- `##`\n",
    "- `###`\n",
    "\n",
    "Так у тебя должно автоматически сформироваться оглавление.</div>"
   ]
  },
  {
   "cell_type": "code",
   "execution_count": 33,
   "metadata": {},
   "outputs": [
    {
     "name": "stdout",
     "output_type": "stream",
     "text": [
      "\n",
      "ps4\n",
      "Коэффициент корреляции между суммой продаж и оценками критиков: 0.40589480145836687\n",
      "Коэффициент корреляции между суммой продаж и оценками пользователей: -0.03362497596528878\n",
      "Коэффициент корреляции между оценками критиков и оценками пользователей: 0.5576539782764632\n",
      "\n",
      "ps3\n",
      "Коэффициент корреляции между суммой продаж и оценками критиков: 0.3338066356506173\n",
      "Коэффициент корреляции между суммой продаж и оценками пользователей: 0.02269094327112414\n",
      "Коэффициент корреляции между оценками критиков и оценками пользователей: 0.5999201741887453\n",
      "\n",
      "xone\n",
      "Коэффициент корреляции между суммой продаж и оценками критиков: 0.4104220356129637\n",
      "Коэффициент корреляции между суммой продаж и оценками пользователей: -0.09400318326920852\n",
      "Коэффициент корреляции между оценками критиков и оценками пользователей: 0.4724621124165801\n",
      "\n",
      "3ds\n",
      "Коэффициент корреляции между суммой продаж и оценками критиков: 0.33923492878531464\n",
      "Коэффициент корреляции между суммой продаж и оценками пользователей: 0.2729904366942444\n",
      "Коэффициент корреляции между оценками критиков и оценками пользователей: 0.7695355450006136\n",
      "\n",
      "x360\n",
      "Коэффициент корреляции между суммой продаж и оценками критиков: 0.3503445460228664\n",
      "Коэффициент корреляции между суммой продаж и оценками пользователей: -0.006238179532306317\n",
      "Коэффициент корреляции между оценками критиков и оценками пользователей: 0.5209459400876189\n",
      "\n",
      "wiiu\n",
      "Коэффициент корреляции между суммой продаж и оценками критиков: 0.37950449899784144\n",
      "Коэффициент корреляции между суммой продаж и оценками пользователей: 0.4086917438492647\n",
      "Коэффициент корреляции между оценками критиков и оценками пользователей: 0.7213130180560434\n",
      "\n",
      "pc\n",
      "Коэффициент корреляции между суммой продаж и оценками критиков: 0.19412407903472953\n",
      "Коэффициент корреляции между суммой продаж и оценками пользователей: -0.1092350273617178\n",
      "Коэффициент корреляции между оценками критиков и оценками пользователей: 0.4295616681469711\n",
      "\n",
      "psv\n",
      "Коэффициент корреляции между суммой продаж и оценками критиков: 0.2540997021864078\n",
      "Коэффициент корреляции между суммой продаж и оценками пользователей: 0.2654782720509426\n",
      "Коэффициент корреляции между оценками критиков и оценками пользователей: 0.611520984312139\n",
      "\n",
      "wii\n",
      "Коэффициент корреляции между суммой продаж и оценками критиков: nan\n",
      "Коэффициент корреляции между суммой продаж и оценками пользователей: nan\n",
      "Коэффициент корреляции между оценками критиков и оценками пользователей: nan\n",
      "\n",
      "psp\n",
      "Коэффициент корреляции между суммой продаж и оценками критиков: nan\n",
      "Коэффициент корреляции между суммой продаж и оценками пользователей: nan\n",
      "Коэффициент корреляции между оценками критиков и оценками пользователей: nan\n"
     ]
    },
    {
     "name": "stderr",
     "output_type": "stream",
     "text": [
      "/opt/conda/lib/python3.9/site-packages/numpy/lib/function_base.py:2683: RuntimeWarning: Degrees of freedom <= 0 for slice\n",
      "  c = cov(x, y, rowvar, dtype=dtype)\n",
      "/opt/conda/lib/python3.9/site-packages/numpy/lib/function_base.py:2542: RuntimeWarning: divide by zero encountered in true_divide\n",
      "  c *= np.true_divide(1, fact)\n"
     ]
    },
    {
     "data": {
      "image/png": "[encoded data removed]",
      "text/plain": [
       "<Figure size 432x288 with 1 Axes>"
      ]
     },
     "metadata": {
      "needs_background": "light"
     },
     "output_type": "display_data"
    },
    {
     "data": {
      "image/png": "[encoded data removed]",
      "text/plain": [
       "<Figure size 432x288 with 1 Axes>"
      ]
     },
     "metadata": {
      "needs_background": "light"
     },
     "output_type": "display_data"
    },
    {
     "data": {
      "image/png": "[encoded data removed]",
      "text/plain": [
       "<Figure size 432x288 with 1 Axes>"
      ]
     },
     "metadata": {
      "needs_background": "light"
     },
     "output_type": "display_data"
    },
    {
     "data": {
      "image/png": "[encoded data removed]",
      "text/plain": [
       "<Figure size 432x288 with 1 Axes>"
      ]
     },
     "metadata": {
      "needs_background": "light"
     },
     "output_type": "display_data"
    },
    {
     "data": {
      "image/png": "[encoded data removed]",
      "text/plain": [
       "<Figure size 432x288 with 1 Axes>"
      ]
     },
     "metadata": {
      "needs_background": "light"
     },
     "output_type": "display_data"
    },
    {
     "data": {
      "image/png": "[encoded data removed]",
      "text/plain": [
       "<Figure size 432x288 with 1 Axes>"
      ]
     },
     "metadata": {
      "needs_background": "light"
     },
     "output_type": "display_data"
    },
    {
     "data": {
      "image/png": "[encoded data removed]",
      "text/plain": [
       "<Figure size 432x288 with 1 Axes>"
      ]
     },
     "metadata": {
      "needs_background": "light"
     },
     "output_type": "display_data"
    },
    {
     "data": {
      "image/png": "[encoded data removed]",
      "text/plain": [
       "<Figure size 432x288 with 1 Axes>"
      ]
     },
     "metadata": {
      "needs_background": "light"
     },
     "output_type": "display_data"
    },
    {
     "data": {
      "image/png": "[encoded data removed]",
      "text/plain": [
       "<Figure size 432x288 with 1 Axes>"
      ]
     },
     "metadata": {
      "needs_background": "light"
     },
     "output_type": "display_data"
    },
    {
     "data": {
      "image/png": "[encoded data removed]",
      "text/plain": [
       "<Figure size 432x288 with 1 Axes>"
      ]
     },
     "metadata": {
      "needs_background": "light"
     },
     "output_type": "display_data"
    },
    {
     "data": {
      "image/png": "[encoded data removed]",
      "text/plain": [
       "<Figure size 432x288 with 1 Axes>"
      ]
     },
     "metadata": {
      "needs_background": "light"
     },
     "output_type": "display_data"
    },
    {
     "data": {
      "image/png": "[encoded data removed]",
      "text/plain": [
       "<Figure size 432x288 with 1 Axes>"
      ]
     },
     "metadata": {
      "needs_background": "light"
     },
     "output_type": "display_data"
    },
    {
     "data": {
      "image/png": "[encoded data removed]",
      "text/plain": [
       "<Figure size 432x288 with 1 Axes>"
      ]
     },
     "metadata": {
      "needs_background": "light"
     },
     "output_type": "display_data"
    },
    {
     "data": {
      "image/png": "[encoded data removed]",
      "text/plain": [
       "<Figure size 432x288 with 1 Axes>"
      ]
     },
     "metadata": {
      "needs_background": "light"
     },
     "output_type": "display_data"
    },
    {
     "data": {
      "image/png": "[encoded data removed]",
      "text/plain": [
       "<Figure size 432x288 with 1 Axes>"
      ]
     },
     "metadata": {
      "needs_background": "light"
     },
     "output_type": "display_data"
    },
    {
     "data": {
      "image/png": "[encoded data removed]",
      "text/plain": [
       "<Figure size 432x288 with 1 Axes>"
      ]
     },
     "metadata": {
      "needs_background": "light"
     },
     "output_type": "display_data"
    },
    {
     "data": {
      "image/png": "[encoded data removed]",
      "text/plain": [
       "<Figure size 432x288 with 1 Axes>"
      ]
     },
     "metadata": {
      "needs_background": "light"
     },
     "output_type": "display_data"
    },
    {
     "data": {
      "image/png": "[encoded data removed]",
      "text/plain": [
       "<Figure size 432x288 with 1 Axes>"
      ]
     },
     "metadata": {
      "needs_background": "light"
     },
     "output_type": "display_data"
    },
    {
     "data": {
      "image/png": "[encoded data removed]",
      "text/plain": [
       "<Figure size 432x288 with 1 Axes>"
      ]
     },
     "metadata": {
      "needs_background": "light"
     },
     "output_type": "display_data"
    },
    {
     "data": {
      "image/png": "[encoded data removed]",
      "text/plain": [
       "<Figure size 432x288 with 1 Axes>"
      ]
     },
     "metadata": {
      "needs_background": "light"
     },
     "output_type": "display_data"
    }
   ],
   "source": [
    "def platform_scatter(platform):\n",
    "    platform_data = actual_data.query('platform == @platform and total_sales == total_sales and critic_score == critic_score and user_score == user_score')\n",
    "    platform_data = platform_data[(platform_data['user_score'] != -1) & (platform_data['critic_score'] != -1)] #уберем заглушки\n",
    "    platform_data.plot(x='critic_score', y='total_sales', kind='scatter', label=platform)\n",
    "    platform_data.plot(x='user_score', y='total_sales', kind='scatter',  label=platform)\n",
    "    print('')\n",
    "    \n",
    "    print(platform)\n",
    "    print('Коэффициент корреляции между суммой продаж и оценками критиков:', platform_data['total_sales'].corr(platform_data['critic_score'])) # оценка критика влияет на продажи\n",
    "    print('Коэффициент корреляции между суммой продаж и оценками пользователей:', platform_data['total_sales'].corr(platform_data['user_score'])) # оценка пользователей мало влияет на первоначальные продажи\n",
    "    print('Коэффициент корреляции между оценками критиков и оценками пользователей:', platform_data['critic_score'].corr(platform_data['user_score'])) # оценка критика влияет на оценку юзера\n",
    "platform_names = actual_top_platforms.loc[:, 'platform']\n",
    "for platform in actual_top_platforms_names[:10]:\n",
    "    platform_scatter(platform)    "
   ]
  },
  {
   "cell_type": "markdown",
   "metadata": {},
   "source": [
    "Чем выше оценка критиков, тем выше уровень продаж.  \n",
    "корреляция положительная, но не очень большая, что говорит, что оценка немного увеличивает уровень продаж  \n",
    "Судить по оценкам пользователей невозможно, на разных платформах это приносит разный результат для продаж  \n",
    "Корреляция между оценками критиков и пользователей в большинстве своем больше 0,5, что говорит о том, что оценки критиков и пользователей чаще всего сходятся"
   ]
  },
  {
   "cell_type": "markdown",
   "metadata": {},
   "source": [
    "<div class=\"alert-danger\">\n",
    "<b>Комментарий ревьюера ❌</b>\n",
    "\n",
    "В расчет корреляций попали заглушки, которыми ты заменял пропуски на этапе предобработки. Нужно расчитать корреляцию на исходных данных по оценкам.</div>"
   ]
  },
  {
   "cell_type": "markdown",
   "metadata": {},
   "source": [
    "<div class=\"alert alert-info\"> 🧩<b>Комментарии студента:</b> \n",
    "Удалил из расчета кореляции заглушки</div>   "
   ]
  },
  {
   "cell_type": "markdown",
   "metadata": {},
   "source": [
    "<div class=\"alert-success\">\n",
    "<b>Комментарий ревьюера V2 ✔️</b>\n",
    "\n",
    "Теперь корреляция расчитана правильно. На большинстве платформ (кроме японских) оценки критиков сильнее влияют на успешность игры, хотя сильной эту корреляцию назвать нельзя.</div>"
   ]
  },
  {
   "cell_type": "markdown",
   "metadata": {},
   "source": [
    "<div class=\"alert-warning\">\n",
    "<b>Комментарий ревьюера ⚠️</b>\n",
    "\n",
    "Этот подзаголовок 👆 не соответствует содержанию.</div>"
   ]
  },
  {
   "cell_type": "markdown",
   "metadata": {},
   "source": [
    "<div class=\"alert alert-info\"> 🧩<b>Комментарии студента:</b> \n",
    "Перенес не туда( </div>   "
   ]
  },
  {
   "cell_type": "code",
   "execution_count": 34,
   "metadata": {},
   "outputs": [
    {
     "data": {
      "text/plain": [
       "Text(0.5, 1.0, 'Продажи по жанрам за всю историю')"
      ]
     },
     "execution_count": 34,
     "metadata": {},
     "output_type": "execute_result"
    },
    {
     "data": {
      "image/png": "[encoded data removed]",
      "text/plain": [
       "<Figure size 432x288 with 1 Axes>"
      ]
     },
     "metadata": {
      "needs_background": "light"
     },
     "output_type": "display_data"
    }
   ],
   "source": [
    "#топ жанров за весь период\n",
    "data.groupby(by='genre').agg({'total_sales':'sum'}).sort_values(by='total_sales', ascending=False).plot(kind='bar', label='Весь мир').legend()\n",
    "plt.title('Продажи по жанрам за всю историю')"
   ]
  },
  {
   "cell_type": "code",
   "execution_count": 35,
   "metadata": {},
   "outputs": [
    {
     "data": {
      "text/plain": [
       "Text(0.5, 1.0, 'Продажи по жанрам за 2013-2016')"
      ]
     },
     "execution_count": 35,
     "metadata": {},
     "output_type": "execute_result"
    },
    {
     "data": {
      "image/png": "[encoded data removed]",
      "text/plain": [
       "<Figure size 432x288 with 1 Axes>"
      ]
     },
     "metadata": {
      "needs_background": "light"
     },
     "output_type": "display_data"
    }
   ],
   "source": [
    "#топ жанров за актуальный период\n",
    "actual_data.groupby(by='genre').agg({'total_sales':'sum'}).sort_values(by='total_sales', ascending=False).plot(kind='bar', label='Весь мир').legend()\n",
    "plt.title('Продажи по жанрам за 2013-2016')"
   ]
  },
  {
   "cell_type": "markdown",
   "metadata": {},
   "source": [
    "Самым популярными жанрами за все время является actiont sport b role-playing \n",
    "в последние годы популярность жанра shooter вытеснила с тройки лидеров жанр sport \n",
    "Самыми непопулярными являются strategy и puzzle"
   ]
  },
  {
   "cell_type": "markdown",
   "metadata": {},
   "source": [
    "Продажи игр жанра action сильно отличается в миллионы долларов от остальных \n",
    "Начиная с 5 места в топе прибыль компаний за продажи игр значительно уменьшилось"
   ]
  },
  {
   "cell_type": "markdown",
   "metadata": {},
   "source": [
    "<div class=\"alert-danger\">\n",
    "<b>Комментарий ревьюера ❌</b>\n",
    "    \n",
    "Помимо лидеров и аутсайдеров продаж, по заданию нужно определить еще и самый прибыльный жанр.\n",
    "\n",
    "Обрати внимание, что общие продажи - плохая метрика для поиска наиболее прибыльного жанра. За высокими показателями общих продаж может скрываться множество мелких игр с низкими продажами. Или 2-3 звезды и куча провалов. Лучше найти жанр, где игры стабильно приносят высокий доход - для этого стоит рассмотреть средние или медианные продажи.</div>"
   ]
  },
  {
   "cell_type": "markdown",
   "metadata": {},
   "source": [
    "<div class=\"alert alert-info\"> 🧩<b>Комментарии студента:</b> \n",
    "👇</div>   "
   ]
  },
  {
   "cell_type": "markdown",
   "metadata": {},
   "source": [
    "Для того, чтобы найти самый самый прибыльный жанр построим \"график с усами\" для всех платформ в актуальном периоде времени"
   ]
  },
  {
   "cell_type": "code",
   "execution_count": 36,
   "metadata": {},
   "outputs": [
    {
     "data": {
      "image/png": "[encoded data removed]",
      "text/plain": [
       "<Figure size 1166.4x432 with 1 Axes>"
      ]
     },
     "metadata": {
      "needs_background": "light"
     },
     "output_type": "display_data"
    }
   ],
   "source": [
    "sns.catplot(x=\"genre\", \n",
    "            y='total_sales', \n",
    "            kind=\"box\", \n",
    "            data=actual_data, \n",
    "            orient='v', \n",
    "            height=6, \n",
    "            aspect=2.7)\n",
    "_ = plt.ylim(0, 2)\n"
   ]
  },
  {
   "cell_type": "markdown",
   "metadata": {},
   "source": [
    "По данному графику видно, что самым прибыльным жанром является shooter  \n",
    "но также стоит отметить жанр platform, не смотря на отставания по показателю продаж - это один из самых недорогих для создания игр жанров"
   ]
  },
  {
   "cell_type": "markdown",
   "metadata": {},
   "source": [
    "<div class=\"alert-success\">\n",
    "<b>Комментарий ревьюера V2 ✔️</b>\n",
    "\n",
    "Совершенно верно, по продажам на одну игру лидирует Shooter.</div>"
   ]
  },
  {
   "cell_type": "markdown",
   "metadata": {},
   "source": [
    "## **Составление портрета пользователя**"
   ]
  },
  {
   "cell_type": "code",
   "execution_count": 37,
   "metadata": {},
   "outputs": [
    {
     "data": {
      "text/plain": [
       "Text(0.5, 1.0, 'Продажи по жанрам в Японии за всю историю')"
      ]
     },
     "execution_count": 37,
     "metadata": {},
     "output_type": "execute_result"
    },
    {
     "data": {
      "image/png": "[encoded data removed]",
      "text/plain": [
       "<Figure size 432x288 with 1 Axes>"
      ]
     },
     "metadata": {
      "needs_background": "light"
     },
     "output_type": "display_data"
    }
   ],
   "source": [
    "#топ-5 предпочтительных жанров в Японии за всю историю\n",
    "data.groupby(by='genre').agg({'jp_sales':'sum'}).sort_values(by='jp_sales', ascending=False).head(5).plot(kind='bar', label='Япония').legend()\n",
    "plt.title('Продажи по жанрам в Японии за всю историю')"
   ]
  },
  {
   "cell_type": "code",
   "execution_count": 38,
   "metadata": {},
   "outputs": [
    {
     "data": {
      "text/plain": [
       "Text(0.5, 1.0, 'Продажи по жанрам в Японии за актуальный период')"
      ]
     },
     "execution_count": 38,
     "metadata": {},
     "output_type": "execute_result"
    },
    {
     "data": {
      "image/png": "[encoded data removed]",
      "text/plain": [
       "<Figure size 432x288 with 1 Axes>"
      ]
     },
     "metadata": {
      "needs_background": "light"
     },
     "output_type": "display_data"
    }
   ],
   "source": [
    "#топ-5 предпочтительных жанров в Японии за актуальный период\n",
    "actual_data.groupby(by='genre').agg({'jp_sales':'sum'}).sort_values(by='jp_sales', ascending=False).head(5).plot(kind='bar', label='Япония').legend()\n",
    "plt.title('Продажи по жанрам в Японии за актуальный период')"
   ]
  },
  {
   "cell_type": "markdown",
   "metadata": {},
   "source": [
    "В японии:\n",
    "action и role-playing по прежнему лидируют по продажам,  \n",
    "по остальным жанрам предпочтения изменились "
   ]
  },
  {
   "cell_type": "code",
   "execution_count": 39,
   "metadata": {},
   "outputs": [
    {
     "data": {
      "text/plain": [
       "Text(0.5, 1.0, 'Продажи по жанрам в Европе за всю историю')"
      ]
     },
     "execution_count": 39,
     "metadata": {},
     "output_type": "execute_result"
    },
    {
     "data": {
      "image/png": "[encoded data removed]",
      "text/plain": [
       "<Figure size 432x288 with 1 Axes>"
      ]
     },
     "metadata": {
      "needs_background": "light"
     },
     "output_type": "display_data"
    }
   ],
   "source": [
    "#топ-5 предпочтительных жанров в Европе за всю историю\n",
    "data.groupby(by='genre').agg({'eu_sales':'sum'}).sort_values(by='eu_sales', ascending=False).head(5).plot(kind='bar', label='Европа').legend()\n",
    "plt.title('Продажи по жанрам в Европе за всю историю')"
   ]
  },
  {
   "cell_type": "code",
   "execution_count": 40,
   "metadata": {},
   "outputs": [
    {
     "data": {
      "text/plain": [
       "Text(0.5, 1.0, 'Продажи по жанрам в Европе за актуальный период')"
      ]
     },
     "execution_count": 40,
     "metadata": {},
     "output_type": "execute_result"
    },
    {
     "data": {
      "image/png": "[encoded data removed]",
      "text/plain": [
       "<Figure size 432x288 with 1 Axes>"
      ]
     },
     "metadata": {
      "needs_background": "light"
     },
     "output_type": "display_data"
    }
   ],
   "source": [
    "#топ-5 предпочтительных жанров в Европе за актуальный период\n",
    "actual_data.groupby(by='genre').agg({'eu_sales':'sum'}).sort_values(by='eu_sales', ascending=False).head(5).plot(kind='bar', label='Европа').legend()\n",
    "plt.title('Продажи по жанрам в Европе за актуальный период')"
   ]
  },
  {
   "cell_type": "markdown",
   "metadata": {},
   "source": [
    "В Европе:\n",
    "shooter обогнал sports по количеству продаж  \n",
    "racing стал менее популярным, но все еще остается в ТОП-е  \n",
    "role-playing вытеснил из топа misc "
   ]
  },
  {
   "cell_type": "code",
   "execution_count": 41,
   "metadata": {},
   "outputs": [
    {
     "data": {
      "text/plain": [
       "Text(0.5, 1.0, 'Продажи по жанрам в Северной Америке за всю историю')"
      ]
     },
     "execution_count": 41,
     "metadata": {},
     "output_type": "execute_result"
    },
    {
     "data": {
      "image/png": "[encoded data removed]",
      "text/plain": [
       "<Figure size 432x288 with 1 Axes>"
      ]
     },
     "metadata": {
      "needs_background": "light"
     },
     "output_type": "display_data"
    }
   ],
   "source": [
    "#топ-5 предпочтительных жанров в Северной Америке за всю историю\n",
    "data.groupby(by='genre').agg({'na_sales':'sum'}).sort_values(by='na_sales', ascending=False).head(5).plot(kind='bar', label='Америка').legend()\n",
    "plt.title('Продажи по жанрам в Северной Америке за всю историю')"
   ]
  },
  {
   "cell_type": "code",
   "execution_count": 42,
   "metadata": {},
   "outputs": [
    {
     "data": {
      "text/plain": [
       "Text(0.5, 1.0, 'Продажи по жанрам в Северной Америке за актуальный период')"
      ]
     },
     "execution_count": 42,
     "metadata": {},
     "output_type": "execute_result"
    },
    {
     "data": {
      "image/png": "[encoded data removed]",
      "text/plain": [
       "<Figure size 432x288 with 1 Axes>"
      ]
     },
     "metadata": {
      "needs_background": "light"
     },
     "output_type": "display_data"
    }
   ],
   "source": [
    "#топ-5 предпочтительных жанров в Северной Америке за актуальный период\n",
    "actual_data.groupby(by='genre').agg({'na_sales':'sum'}).sort_values(by='na_sales', ascending=False).head(5).plot(kind='bar', label='Америка').legend()\n",
    "plt.title('Продажи по жанрам в Северной Америке за актуальный период')"
   ]
  },
  {
   "cell_type": "markdown",
   "metadata": {},
   "source": [
    "В Северной Америке:  \n",
    "action, sport и shooter остаются в ТОП-е  \n",
    "role-playing занял свое место, вместо platform  "
   ]
  },
  {
   "cell_type": "markdown",
   "metadata": {},
   "source": [
    "Рассмотрим влияние рейтинга ESRB в различных регионах"
   ]
  },
  {
   "cell_type": "code",
   "execution_count": 43,
   "metadata": {},
   "outputs": [],
   "source": [
    "# до \n",
    "#na_actual_data = actual_data.query('na_sales > 0' and 'rating != -1')\n",
    "#eu_actual_data = actual_data.query('eu_sales > 0' and 'rating != -1')\n",
    "#jp_actual_data = actual_data.query('jp_sales > 0' and 'rating != -1')\n",
    "# Игры без определенного рейтинга '-1' рассматривать не будем "
   ]
  },
  {
   "cell_type": "code",
   "execution_count": 44,
   "metadata": {},
   "outputs": [],
   "source": [
    "na_actual_data = actual_data.query('na_sales > 0')\n",
    "eu_actual_data = actual_data.query('eu_sales > 0')\n",
    "jp_actual_data = actual_data.query('jp_sales > 0')"
   ]
  },
  {
   "cell_type": "code",
   "execution_count": 45,
   "metadata": {},
   "outputs": [
    {
     "data": {
      "text/html": [
       "<div>\n",
       "<style scoped>\n",
       "    .dataframe tbody tr th:only-of-type {\n",
       "        vertical-align: middle;\n",
       "    }\n",
       "\n",
       "    .dataframe tbody tr th {\n",
       "        vertical-align: top;\n",
       "    }\n",
       "\n",
       "    .dataframe thead th {\n",
       "        text-align: right;\n",
       "    }\n",
       "</style>\n",
       "<table border=\"1\" class=\"dataframe\">\n",
       "  <thead>\n",
       "    <tr style=\"text-align: right;\">\n",
       "      <th></th>\n",
       "      <th>na_sales</th>\n",
       "    </tr>\n",
       "    <tr>\n",
       "      <th>rating</th>\n",
       "      <th></th>\n",
       "    </tr>\n",
       "  </thead>\n",
       "  <tbody>\n",
       "    <tr>\n",
       "      <th>M</th>\n",
       "      <td>165.21</td>\n",
       "    </tr>\n",
       "    <tr>\n",
       "      <th>-1</th>\n",
       "      <td>89.42</td>\n",
       "    </tr>\n",
       "    <tr>\n",
       "      <th>E</th>\n",
       "      <td>79.05</td>\n",
       "    </tr>\n",
       "    <tr>\n",
       "      <th>E10+</th>\n",
       "      <td>54.24</td>\n",
       "    </tr>\n",
       "    <tr>\n",
       "      <th>T</th>\n",
       "      <td>49.79</td>\n",
       "    </tr>\n",
       "  </tbody>\n",
       "</table>\n",
       "</div>"
      ],
      "text/plain": [
       "        na_sales\n",
       "rating          \n",
       "M         165.21\n",
       "-1         89.42\n",
       "E          79.05\n",
       "E10+       54.24\n",
       "T          49.79"
      ]
     },
     "metadata": {},
     "output_type": "display_data"
    },
    {
     "data": {
      "text/html": [
       "<div>\n",
       "<style scoped>\n",
       "    .dataframe tbody tr th:only-of-type {\n",
       "        vertical-align: middle;\n",
       "    }\n",
       "\n",
       "    .dataframe tbody tr th {\n",
       "        vertical-align: top;\n",
       "    }\n",
       "\n",
       "    .dataframe thead th {\n",
       "        text-align: right;\n",
       "    }\n",
       "</style>\n",
       "<table border=\"1\" class=\"dataframe\">\n",
       "  <thead>\n",
       "    <tr style=\"text-align: right;\">\n",
       "      <th></th>\n",
       "      <th>eu_sales</th>\n",
       "    </tr>\n",
       "    <tr>\n",
       "      <th>rating</th>\n",
       "      <th></th>\n",
       "    </tr>\n",
       "  </thead>\n",
       "  <tbody>\n",
       "    <tr>\n",
       "      <th>M</th>\n",
       "      <td>145.32</td>\n",
       "    </tr>\n",
       "    <tr>\n",
       "      <th>E</th>\n",
       "      <td>83.36</td>\n",
       "    </tr>\n",
       "    <tr>\n",
       "      <th>-1</th>\n",
       "      <td>78.91</td>\n",
       "    </tr>\n",
       "    <tr>\n",
       "      <th>E10+</th>\n",
       "      <td>42.69</td>\n",
       "    </tr>\n",
       "    <tr>\n",
       "      <th>T</th>\n",
       "      <td>41.95</td>\n",
       "    </tr>\n",
       "  </tbody>\n",
       "</table>\n",
       "</div>"
      ],
      "text/plain": [
       "        eu_sales\n",
       "rating          \n",
       "M         145.32\n",
       "E          83.36\n",
       "-1         78.91\n",
       "E10+       42.69\n",
       "T          41.95"
      ]
     },
     "metadata": {},
     "output_type": "display_data"
    },
    {
     "data": {
      "text/html": [
       "<div>\n",
       "<style scoped>\n",
       "    .dataframe tbody tr th:only-of-type {\n",
       "        vertical-align: middle;\n",
       "    }\n",
       "\n",
       "    .dataframe tbody tr th {\n",
       "        vertical-align: top;\n",
       "    }\n",
       "\n",
       "    .dataframe thead th {\n",
       "        text-align: right;\n",
       "    }\n",
       "</style>\n",
       "<table border=\"1\" class=\"dataframe\">\n",
       "  <thead>\n",
       "    <tr style=\"text-align: right;\">\n",
       "      <th></th>\n",
       "      <th>jp_sales</th>\n",
       "    </tr>\n",
       "    <tr>\n",
       "      <th>rating</th>\n",
       "      <th></th>\n",
       "    </tr>\n",
       "  </thead>\n",
       "  <tbody>\n",
       "    <tr>\n",
       "      <th>-1</th>\n",
       "      <td>85.05</td>\n",
       "    </tr>\n",
       "    <tr>\n",
       "      <th>T</th>\n",
       "      <td>20.59</td>\n",
       "    </tr>\n",
       "    <tr>\n",
       "      <th>E</th>\n",
       "      <td>15.14</td>\n",
       "    </tr>\n",
       "    <tr>\n",
       "      <th>M</th>\n",
       "      <td>14.11</td>\n",
       "    </tr>\n",
       "    <tr>\n",
       "      <th>E10+</th>\n",
       "      <td>5.89</td>\n",
       "    </tr>\n",
       "  </tbody>\n",
       "</table>\n",
       "</div>"
      ],
      "text/plain": [
       "        jp_sales\n",
       "rating          \n",
       "-1         85.05\n",
       "T          20.59\n",
       "E          15.14\n",
       "M          14.11\n",
       "E10+        5.89"
      ]
     },
     "metadata": {},
     "output_type": "display_data"
    }
   ],
   "source": [
    "na_rating_pivot_table = pd.pivot_table(na_actual_data, index='rating', values='na_sales',\n",
    "                                        aggfunc='sum').sort_values('na_sales', ascending=False)\n",
    "\n",
    "eu_rating_pivot_table = pd.pivot_table(eu_actual_data, index='rating', values='eu_sales',\n",
    "                                        aggfunc='sum').sort_values('eu_sales', ascending=False)\n",
    "\n",
    "jp_rating_pivot_table = pd.pivot_table(jp_actual_data, index='rating', values='jp_sales',\n",
    "                                        aggfunc='sum').sort_values('jp_sales', ascending=False)\n",
    "\n",
    "\n",
    "display(na_rating_pivot_table, eu_rating_pivot_table,jp_rating_pivot_table)\n"
   ]
  },
  {
   "cell_type": "markdown",
   "metadata": {},
   "source": [
    "В Европе и Северной Америке предпочтения похожи. \n",
    "Самые популярными играми в Европе и Северной Америке являются игры с большим возрастным рейтингом (17+). Далее с небольшой разницей идут игры без определенного возрастного рейтинга и игры с категорией \"Для всех\"\n",
    "В Японии более популярны игры без определенного возрастного рейтинга и игры для подростков"
   ]
  },
  {
   "cell_type": "markdown",
   "metadata": {},
   "source": [
    "<div class=\"alert-danger\">\n",
    "<b>Комментарий ревьюера ❌</b>\n",
    "\n",
    "При твоем способе подсчета игры без рейтинга оказываются полностью исключенными из анализа. Но продажи именно этих игр могут указать на ключевое различие в регионах.\n",
    "\n",
    "Кроме того, в конце раздела по составлению портретов, нужно написать итоговый вывод: какие платформы, жанры и рейтинги популярны среди игроков различных регионов. Эта информация понадобится для рекомендаций заказчику для рекламных активностей на различных рынках.</div>"
   ]
  },
  {
   "cell_type": "markdown",
   "metadata": {},
   "source": [
    "<div class=\"alert alert-info\"> 🧩<b>Комментарии студента:</b> \n",
    "Мне показалось странным оценивать игры без рейтинга. Как эта информация может понадобится заказчику?\n",
    "\"Рекомендуем делать игры без определенного возрвастного рейтинга\"?\n",
    "Кажется я чего-то не понимаю( </div>   "
   ]
  },
  {
   "cell_type": "markdown",
   "metadata": {},
   "source": [
    "<div class=\"alert-success\">\n",
    "<b>Комментарий ревьюера V2 ✔️</b>\n",
    "\n",
    "Исходя из анализа, можно утверждать, что в Японии не котируется рейтинг ESRB вообще, так как там возможно своя национальная система рейтингов, это может быть важным инсайтом для продвижения игр на локальных рынках. </div>"
   ]
  },
  {
   "cell_type": "markdown",
   "metadata": {},
   "source": [
    "**5. Проверим гипотезы**"
   ]
  },
  {
   "cell_type": "markdown",
   "metadata": {},
   "source": [
    "<div class=\"alert-warning\">\n",
    "<b>Комментарий ревьюера ⚠️</b>\n",
    "\n",
    "Все использованные в проекте библиотеки стоит собрать в одном блоке в самом начале работы.</div>"
   ]
  },
  {
   "cell_type": "markdown",
   "metadata": {},
   "source": [
    "<div class=\"alert alert-info\"><b>Комментарии студента:</b> \n",
    "👍</div>   "
   ]
  },
  {
   "cell_type": "code",
   "execution_count": 46,
   "metadata": {},
   "outputs": [],
   "source": [
    "data_xboxone = actual_data.query('platform == \"xone\" and user_score == user_score!=-1') # Делаем срез данных по платформе Xbox One\n",
    "data_pc = actual_data.query('platform == \"pc\" and user_score == user_score!=-1') # Делаем срез данных по PC"
   ]
  },
  {
   "cell_type": "markdown",
   "metadata": {},
   "source": [
    "<div class=\"alert-danger\">\n",
    "<b>Комментарий ревьюера ❌</b>\n",
    "\n",
    "Перед проверкой гипотезы нужно сформулировать нулевую и альтернативную гипотезы.</div>"
   ]
  },
  {
   "cell_type": "markdown",
   "metadata": {},
   "source": [
    "<div class=\"alert alert-info\"><b>Комментарии студента:</b> \n",
    "👇</div>   "
   ]
  },
  {
   "cell_type": "markdown",
   "metadata": {},
   "source": [
    "Формулировка нулевой и альтернативной гипотезы № 1:\n",
    "\n",
    "H0 = средние пользовательские рейтинги платформ Xbox One и PC равны между собой;\n",
    "H1 = средние пользовательские рейтинги платформ Xbox One и PC не равны между собой.\n"
   ]
  },
  {
   "cell_type": "markdown",
   "metadata": {},
   "source": [
    "<div class=\"alert-success\">\n",
    "<b>Комментарий ревьюера V2 ✔️</b>\n",
    "\n",
    "Отлично! Нулевая и альтернативная гипотезы сформулированы верно.</div>"
   ]
  },
  {
   "cell_type": "code",
   "execution_count": 47,
   "metadata": {},
   "outputs": [
    {
     "name": "stdout",
     "output_type": "stream",
     "text": [
      "p-значение: 0.14759594013430463\n",
      "Средние пользовательские рейтинги платформ Xbox One и PC различаются\n"
     ]
    }
   ],
   "source": [
    "sample_1 = data_xboxone['user_score']\n",
    "sample_2 = data_pc['user_score']\n",
    "\n",
    "alpha = .05 # критический уровень статистической значимости\n",
    "            # если p-value окажется меньше него - отвергнем гипотезу\n",
    "\n",
    "results = st.ttest_ind(\n",
    "    sample_1, \n",
    "    sample_2, equal_var = False)\n",
    "\n",
    "print('p-значение:', results.pvalue)\n",
    "\n",
    "if (results.pvalue < alpha):\n",
    "    print(\"Средние пользовательские рейтинги платформ Xbox One и PC одинаковые\")\n",
    "else:\n",
    "    print(\"Средние пользовательские рейтинги платформ Xbox One и PC различаются\") "
   ]
  },
  {
   "cell_type": "markdown",
   "metadata": {},
   "source": [
    "<div class=\"alert-warning\">\n",
    "<b>Комментарий ревьюера V2 ⚠️</b>\n",
    "\n",
    "Ты не обратил внимание, на то что я написал про p-value. Ты же сам пишешь в комментарии к пороговому значению:\n",
    "\n",
    "_если p-value окажется меньше него - отвергнем гипотезу_\n",
    "    \n",
    "Проверка гипотезы должна выглядеть так: 👇 Поправь пожалуйста в финальной версии, перед тем как выкладывать в портфолио.</div>"
   ]
  },
  {
   "cell_type": "code",
   "execution_count": 58,
   "metadata": {},
   "outputs": [
    {
     "name": "stdout",
     "output_type": "stream",
     "text": [
      "p-значение: 0.15\n",
      "Не удалось отвергнуть нулевую гипотезу\n"
     ]
    }
   ],
   "source": [
    "#Код ревьюера\n",
    "alpha = .05\n",
    "\n",
    "results = st.ttest_ind(\n",
    "    actual_data.query('platform == \"xone\" & user_score > 0')['user_score'], \n",
    "    actual_data.query('platform == \"pc\" & user_score > 0')['user_score'], \n",
    "    equal_var = False)\n",
    "\n",
    "print('p-значение:', results.pvalue.round(2))\n",
    "\n",
    "if (results.pvalue < alpha):\n",
    "    print(\"Отвергаем нулевую гипотезу\")\n",
    "else:\n",
    "    print(\"Не удалось отвергнуть нулевую гипотезу\") "
   ]
  },
  {
   "cell_type": "markdown",
   "metadata": {},
   "source": [
    "Формулировка нулевой и альтернативной гипотезы № 2:\n",
    "\n",
    "H0 = средние пользовательские рейтинги жанров Action и Sports равны между собой;\n",
    "H1 = средние пользовательские рейтинги жанров Action и Sports не равны между собой."
   ]
  },
  {
   "cell_type": "code",
   "execution_count": 48,
   "metadata": {},
   "outputs": [],
   "source": [
    "data_action = actual_data.query('genre == \"action\" and user_score == user_score !=-1') # Делаем срез данных по жанру Sports\n",
    "data_sports = actual_data.query('genre == \"sports\" and user_score == user_score !=-1') # Делаем срез данных по жанру Action"
   ]
  },
  {
   "cell_type": "code",
   "execution_count": 49,
   "metadata": {},
   "outputs": [
    {
     "name": "stdout",
     "output_type": "stream",
     "text": [
      "p-значение: 1.4460039700704315e-20\n",
      "Средние пользовательские рейтинги жанров Action и Sports одинаковые\n"
     ]
    }
   ],
   "source": [
    "sample_1 = data_action['user_score']\n",
    "sample_2 = data_sports['user_score']\n",
    "\n",
    "alpha = .05 # критический уровень статистической значимости\n",
    "            # если p-value окажется меньше него - отвергнем гипотезу\n",
    "\n",
    "results = st.ttest_ind(\n",
    "    sample_1, \n",
    "    sample_2, equal_var = False)\n",
    "\n",
    "print('p-значение:', results.pvalue)\n",
    "\n",
    "if (results.pvalue < alpha):\n",
    "    print(\"Средние пользовательские рейтинги жанров Action и Sports одинаковые\")\n",
    "else:\n",
    "    print(\"Средние пользовательские рейтинги жанров Action и Sports различаются\") "
   ]
  },
  {
   "cell_type": "markdown",
   "metadata": {},
   "source": [
    "<div class=\"alert-danger\">\n",
    "<b>Комментарий ревьюера ❌</b>\n",
    "\n",
    "Метод проверки гипотез выбран правильно. Но, чем меньше p-value - тем сильнее разница в выборках. При твоем расчете - все наоборот. И второй момент - в выборки попали оценки-заглушки.👇 А проверять гипотезы нужно на чистых данных.</div>"
   ]
  },
  {
   "cell_type": "markdown",
   "metadata": {},
   "source": [
    "<div class=\"alert-warning\">\n",
    "<b>Комментарий ревьюера V2 ⚠️</b>\n",
    "\n",
    "Аналогично и здесь - вывод с точностью до наоборот.</div>"
   ]
  },
  {
   "cell_type": "markdown",
   "metadata": {},
   "source": [
    "<div class=\"alert alert-info\"><b>Комментарии студента:</b> \n",
    "👇</div>   "
   ]
  },
  {
   "cell_type": "markdown",
   "metadata": {},
   "source": [
    "средние пользовательские рейтинги платформ Xbox One и PC достоверно не различаются.\n",
    "средние пользовательские рейтинги жанров Action и Sports достоверно различаются."
   ]
  },
  {
   "cell_type": "markdown",
   "metadata": {},
   "source": [
    "<div class=\"alert-warning\">\n",
    "<b>Комментарий ревьюера V2 ⚠️</b>\n",
    "\n",
    "Этот абзац правильный, но результат твоего статистического теста говорит об обратном 🤔</div>"
   ]
  },
  {
   "cell_type": "code",
   "execution_count": 50,
   "metadata": {},
   "outputs": [
    {
     "data": {
      "image/png": "[encoded data removed]",
      "text/plain": [
       "<Figure size 432x288 with 1 Axes>"
      ]
     },
     "metadata": {
      "needs_background": "light"
     },
     "output_type": "display_data"
    }
   ],
   "source": [
    "#Код ревьюера\n",
    "sample_1.hist();"
   ]
  },
  {
   "cell_type": "markdown",
   "metadata": {},
   "source": [
    "В результате проверки гипотез установили, что средние пользовательские рейтинги платформ xbox one и pc достоверно не различаются.\n",
    "В результате проверки гипотез установили, что средние пользовательские рейтинги жанров action и sports достоверно различаются."
   ]
  },
  {
   "cell_type": "markdown",
   "metadata": {},
   "source": [
    "## **Общий вывод**"
   ]
  },
  {
   "cell_type": "markdown",
   "metadata": {},
   "source": [
    "Целью проекта было проведение анализа данных для определения зависимостей и закономерностей показателей продаж игр от различных факторов за несколько лет.\n",
    "\n",
    "Результатом предобработки данных стало: Обработка пропущенных значений, заполнение возможных пропусков, изменены типы данных для проведения анализа.Был выбран актуальный промежуток времени для прогноза 2017 года. В данном проекте были проанализированы данные для определения зависимости продаж игр от различных факторов за несколько лет.\n",
    "\n",
    "По итогам исследования можно сделать следующие выводы:\n",
    "1. Резкий скачок по количеству игр, выпущенных в год, произошел в 2002 году Наибольшее количество игр приходятся на 2008-2009 После 2009 произошел резкий спад по количеству выпускаемых игр.  \n",
    "2. Жизнедеятельность игровой платформы примерно 10 лет. Новые платформы набирают популярность в течении 3-4 лет  \n",
    "3. Лидируют по продажам ps4 и xone, однако эти платформы появились в 2013 году и как мы видим в 2016 году на них уже начинает падать спрос, что говорит о необходимости разработки новых платформ. Продажи игр остальных платформ также идут на спад, на psp и ds вообще прекратились продажи. К лидерами по средним продажам относятся x360, xone, wiiu и wii. Потенциально прибыльными платформами можно считать ps4 и xone\n",
    "4. Чем выше оценка критиков, тем выше уровень продаж. Корреляция положительная, но не очень большая, что говорит, что оценка немного увеличивает уровень продаж. Судить по оценкам пользователей невозможно, на разных платформах это приносит разный результат для продаж. Корреляция между оценками критиков и пользователей в большинстве своем больше 0,5, что говорит о том, что оценки критиков и пользователей чаще всего сходятся \n",
    "5. Самым популярными жанрами за все время является actiont sport b role-playing в последние годы популярность жанра shooter вытеснила с тройки лидеров жанр sport Самыми непопулярными являются strategy и puzzle. Продажи игр жанра action сильно отличается в миллионы долларов от остальных Начиная с 5 места в топе прибыль компаний за продажи игр значительно уменьшилось\n",
    "В японии:  \n",
    "action и role-playing по прежнему лидируют по продажам,\n",
    "по остальным жанрам предпочтения изменились\n",
    "В Европе:  \n",
    "shooter обогнал sports по количеству продаж\n",
    "racing стал менее популярным, но все еще остается в ТОП-е\n",
    "role-playing вытеснил из топа misc\n",
    "В Северной Америке:  \n",
    "action, sport и shooter остаются в ТОП-е\n",
    "role-playing занял свое место, вместо platform\n",
    "6. В Европе и Северной Америке предпочтения похожи. Самые популярными играми в Европе и Северной Америке являются игры с большим возрастным рейтингом (17+). Далее с небольшой разницей идут игры без определенного возрастного рейтинга и игры с категорией \"Для всех\" В Японии более популярны игры без определенного возрастного рейтинга и игры для подростков\n",
    "7. В результате проверки гипотез установили, что средние пользовательские рейтинги платформ xbox one и pc достоверно не различаются. Средние пользовательские рейтинги жанров action и sports достоверно различаются.\n",
    "\n",
    "Планирование рекламной компании\n",
    "\n",
    "Делать приоритет на актуальные игры актуальных платформ - на PS4, XOne. \n",
    "Выставлять на прилавки популярные жанры - action, shooter.\n",
    "Делать приоритет на взрослую аудиторию 17+ "
   ]
  },
  {
   "cell_type": "markdown",
   "metadata": {},
   "source": [
    "<div class=\"alert-warning\">\n",
    "<b>Комментарий ревьюера ⚠️</b>\n",
    "\n",
    "В целом, правильный общий вывод.\n",
    "\n",
    "Отдельные пункты вывода надо будет немного скорректировать после внесения изменений в работу.\n",
    "\n",
    "Также, нужно не забыть дать рекомендации интернет-магазину для проведения рекламной кампании - это основная цель задания.</div>"
   ]
  },
  {
   "cell_type": "markdown",
   "metadata": {},
   "source": [
    "<div class=\"alert alert-info\"><b>Комментарии студента:</b> \n",
    "Скорректировал и добавил рекомендации для рекламной компании </div>   "
   ]
  },
  {
   "cell_type": "markdown",
   "metadata": {},
   "source": [
    "<div class=\"alert-success\">\n",
    "<b>Комментарий ревьюера V2 ✔️</b>\n",
    "\n",
    "Очень хороший вывод и рекомендация. 👌</div>"
   ]
  },
  {
   "cell_type": "markdown",
   "metadata": {},
   "source": [
    "<div style=\"border:solid blue 3px; padding: 20px\">\n",
    "<b>Общий комментарий ревьюера:</b>\n",
    "\n",
    "Ты проделал большую работу, но нужно кое-что поправить чтобы я ее принял.\n",
    "    \n",
    "Есть несколько критических замечаний:\n",
    "- по подсчету суммарных продаж\n",
    "- по определению корреляций оценок и продаж\n",
    "- по оценке прибыльности жанров\n",
    "- по играм без рейтинга и портретам игроков различных регионов\n",
    "- по проверке гипотез\n",
    "    \n",
    "    \n",
    "Также, постарайся отработать желтые комментарии.\n",
    "    \n",
    "Буду ждать твой доработанный проект. ⌛️</div>"
   ]
  },
  {
   "cell_type": "markdown",
   "metadata": {},
   "source": [
    "<div style=\"border:solid blue 3px; padding: 20px\">\n",
    "<b>Общий комментарий ревьюера V2</b>\n",
    "\n",
    "Спасибо, что доработал проект. Критических замечаний больше нет. Поправь только блок с проверкой гипотез для версии, которую будешь выкладывать в свое портфолио. Я оставил подсказку, как это правильно сделать.\n",
    "\n",
    "Успехов в дальнейшем обучении!🤝\n",
    "\n",
    "</div>"
   ]
  },
  {
   "cell_type": "code",
   "execution_count": null,
   "metadata": {},
   "outputs": [],
   "source": []
  }
 ],
 "metadata": {
  "ExecuteTimeLog": [
   {
    "duration": 47,
    "start_time": "2022-08-17T23:16:27.219Z"
   },
   {
    "duration": 413,
    "start_time": "2022-08-17T23:16:30.216Z"
   },
   {
    "duration": 151,
    "start_time": "2022-08-17T23:16:31.653Z"
   },
   {
    "duration": 20,
    "start_time": "2022-08-17T23:17:47.375Z"
   },
   {
    "duration": 1103,
    "start_time": "2022-08-17T23:18:21.523Z"
   },
   {
    "duration": 1116,
    "start_time": "2022-08-17T23:18:46.654Z"
   },
   {
    "duration": 86,
    "start_time": "2022-08-17T23:18:47.771Z"
   },
   {
    "duration": 18,
    "start_time": "2022-08-17T23:18:47.859Z"
   },
   {
    "duration": 779,
    "start_time": "2022-08-17T23:18:47.879Z"
   },
   {
    "duration": 9,
    "start_time": "2022-08-17T23:19:28.653Z"
   },
   {
    "duration": 16,
    "start_time": "2022-08-17T23:20:40.815Z"
   },
   {
    "duration": 88,
    "start_time": "2022-08-17T23:25:51.587Z"
   },
   {
    "duration": 1160,
    "start_time": "2022-08-17T23:28:35.115Z"
   },
   {
    "duration": 122,
    "start_time": "2022-08-17T23:28:36.278Z"
   },
   {
    "duration": 25,
    "start_time": "2022-08-17T23:28:36.402Z"
   },
   {
    "duration": 800,
    "start_time": "2022-08-17T23:28:36.429Z"
   },
   {
    "duration": 3,
    "start_time": "2022-08-17T23:28:37.231Z"
   },
   {
    "duration": 24,
    "start_time": "2022-08-17T23:28:37.236Z"
   },
   {
    "duration": 9,
    "start_time": "2022-08-17T23:28:37.261Z"
   },
   {
    "duration": 40,
    "start_time": "2022-08-17T23:28:37.271Z"
   },
   {
    "duration": 17,
    "start_time": "2022-08-17T23:28:37.313Z"
   },
   {
    "duration": 96,
    "start_time": "2022-08-18T00:17:09.670Z"
   },
   {
    "duration": 1071,
    "start_time": "2022-08-18T00:23:51.951Z"
   },
   {
    "duration": 77,
    "start_time": "2022-08-18T00:23:53.024Z"
   },
   {
    "duration": 22,
    "start_time": "2022-08-18T00:23:53.102Z"
   },
   {
    "duration": 775,
    "start_time": "2022-08-18T00:23:53.126Z"
   },
   {
    "duration": 4,
    "start_time": "2022-08-18T00:23:53.906Z"
   },
   {
    "duration": 28,
    "start_time": "2022-08-18T00:23:53.914Z"
   },
   {
    "duration": 28,
    "start_time": "2022-08-18T00:23:53.944Z"
   },
   {
    "duration": 48,
    "start_time": "2022-08-18T00:23:53.973Z"
   },
   {
    "duration": 78,
    "start_time": "2022-08-18T00:23:54.023Z"
   },
   {
    "duration": 17,
    "start_time": "2022-08-18T00:23:54.106Z"
   },
   {
    "duration": 8,
    "start_time": "2022-08-18T00:23:54.124Z"
   },
   {
    "duration": 41,
    "start_time": "2022-08-18T00:23:54.133Z"
   },
   {
    "duration": 1436,
    "start_time": "2022-08-18T00:26:58.538Z"
   },
   {
    "duration": 1115,
    "start_time": "2022-08-18T00:27:14.852Z"
   },
   {
    "duration": 89,
    "start_time": "2022-08-18T00:27:15.969Z"
   },
   {
    "duration": 15,
    "start_time": "2022-08-18T00:27:16.060Z"
   },
   {
    "duration": 854,
    "start_time": "2022-08-18T00:27:16.077Z"
   },
   {
    "duration": 4,
    "start_time": "2022-08-18T00:27:16.934Z"
   },
   {
    "duration": 21,
    "start_time": "2022-08-18T00:27:16.940Z"
   },
   {
    "duration": 2,
    "start_time": "2022-08-18T00:27:16.963Z"
   },
   {
    "duration": 21,
    "start_time": "2022-08-18T00:27:16.987Z"
   },
   {
    "duration": 56,
    "start_time": "2022-08-18T00:27:17.009Z"
   },
   {
    "duration": 33,
    "start_time": "2022-08-18T00:27:17.066Z"
   },
   {
    "duration": 5,
    "start_time": "2022-08-18T00:27:17.106Z"
   },
   {
    "duration": 46,
    "start_time": "2022-08-18T00:27:17.115Z"
   },
   {
    "duration": 1116,
    "start_time": "2022-08-18T00:27:17.163Z"
   },
   {
    "duration": 4,
    "start_time": "2022-08-18T00:27:25.236Z"
   },
   {
    "duration": 6,
    "start_time": "2022-08-18T00:30:26.792Z"
   },
   {
    "duration": 1102,
    "start_time": "2022-08-18T00:33:37.772Z"
   },
   {
    "duration": 83,
    "start_time": "2022-08-18T00:33:38.876Z"
   },
   {
    "duration": 13,
    "start_time": "2022-08-18T00:33:38.961Z"
   },
   {
    "duration": 757,
    "start_time": "2022-08-18T00:33:38.976Z"
   },
   {
    "duration": 3,
    "start_time": "2022-08-18T00:33:39.735Z"
   },
   {
    "duration": 24,
    "start_time": "2022-08-18T00:33:39.739Z"
   },
   {
    "duration": 2,
    "start_time": "2022-08-18T00:33:39.765Z"
   },
   {
    "duration": 37,
    "start_time": "2022-08-18T00:33:39.769Z"
   },
   {
    "duration": 61,
    "start_time": "2022-08-18T00:33:39.807Z"
   },
   {
    "duration": 15,
    "start_time": "2022-08-18T00:33:39.870Z"
   },
   {
    "duration": 14,
    "start_time": "2022-08-18T00:33:39.898Z"
   },
   {
    "duration": 21,
    "start_time": "2022-08-18T00:33:39.914Z"
   },
   {
    "duration": 4,
    "start_time": "2022-08-18T00:33:39.936Z"
   },
   {
    "duration": 6,
    "start_time": "2022-08-18T00:33:39.942Z"
   },
   {
    "duration": 28,
    "start_time": "2022-08-18T00:33:39.949Z"
   },
   {
    "duration": 1139,
    "start_time": "2022-08-18T00:58:12.615Z"
   },
   {
    "duration": 87,
    "start_time": "2022-08-18T00:58:13.756Z"
   },
   {
    "duration": 14,
    "start_time": "2022-08-18T00:58:13.844Z"
   },
   {
    "duration": 837,
    "start_time": "2022-08-18T00:58:13.859Z"
   },
   {
    "duration": 4,
    "start_time": "2022-08-18T00:58:14.701Z"
   },
   {
    "duration": 27,
    "start_time": "2022-08-18T00:58:14.709Z"
   },
   {
    "duration": 4,
    "start_time": "2022-08-18T00:58:14.737Z"
   },
   {
    "duration": 12,
    "start_time": "2022-08-18T00:58:14.743Z"
   },
   {
    "duration": 62,
    "start_time": "2022-08-18T00:58:14.756Z"
   },
   {
    "duration": 14,
    "start_time": "2022-08-18T00:58:14.820Z"
   },
   {
    "duration": 4,
    "start_time": "2022-08-18T00:58:14.836Z"
   },
   {
    "duration": 114,
    "start_time": "2022-08-18T00:58:14.841Z"
   },
   {
    "duration": 0,
    "start_time": "2022-08-18T00:58:14.956Z"
   },
   {
    "duration": 0,
    "start_time": "2022-08-18T00:58:14.957Z"
   },
   {
    "duration": 0,
    "start_time": "2022-08-18T00:58:14.958Z"
   },
   {
    "duration": 0,
    "start_time": "2022-08-18T00:58:14.960Z"
   },
   {
    "duration": 0,
    "start_time": "2022-08-18T00:58:14.961Z"
   },
   {
    "duration": 0,
    "start_time": "2022-08-18T00:58:14.962Z"
   },
   {
    "duration": 1112,
    "start_time": "2022-08-18T00:58:39.401Z"
   },
   {
    "duration": 73,
    "start_time": "2022-08-18T00:58:40.515Z"
   },
   {
    "duration": 18,
    "start_time": "2022-08-18T00:58:40.607Z"
   },
   {
    "duration": 747,
    "start_time": "2022-08-18T00:58:40.626Z"
   },
   {
    "duration": 3,
    "start_time": "2022-08-18T00:58:41.374Z"
   },
   {
    "duration": 43,
    "start_time": "2022-08-18T00:58:41.388Z"
   },
   {
    "duration": 13,
    "start_time": "2022-08-18T00:58:41.433Z"
   },
   {
    "duration": 19,
    "start_time": "2022-08-18T00:58:41.448Z"
   },
   {
    "duration": 64,
    "start_time": "2022-08-18T00:58:41.469Z"
   },
   {
    "duration": 15,
    "start_time": "2022-08-18T00:58:41.535Z"
   },
   {
    "duration": 4,
    "start_time": "2022-08-18T00:58:41.551Z"
   },
   {
    "duration": 5,
    "start_time": "2022-08-18T00:58:41.556Z"
   },
   {
    "duration": 26,
    "start_time": "2022-08-18T00:58:41.562Z"
   },
   {
    "duration": 20,
    "start_time": "2022-08-18T00:58:41.589Z"
   },
   {
    "duration": 11,
    "start_time": "2022-08-18T00:58:41.612Z"
   },
   {
    "duration": 6,
    "start_time": "2022-08-18T00:58:41.624Z"
   },
   {
    "duration": 14,
    "start_time": "2022-08-18T00:58:41.631Z"
   },
   {
    "duration": 4,
    "start_time": "2022-08-18T00:58:41.646Z"
   },
   {
    "duration": 1235,
    "start_time": "2022-08-18T01:00:41.778Z"
   },
   {
    "duration": 87,
    "start_time": "2022-08-18T01:00:43.015Z"
   },
   {
    "duration": 16,
    "start_time": "2022-08-18T01:00:43.110Z"
   },
   {
    "duration": 755,
    "start_time": "2022-08-18T01:00:43.128Z"
   },
   {
    "duration": 4,
    "start_time": "2022-08-18T01:00:43.890Z"
   },
   {
    "duration": 40,
    "start_time": "2022-08-18T01:00:43.896Z"
   },
   {
    "duration": 3,
    "start_time": "2022-08-18T01:00:43.938Z"
   },
   {
    "duration": 14,
    "start_time": "2022-08-18T01:00:43.942Z"
   },
   {
    "duration": 61,
    "start_time": "2022-08-18T01:00:43.958Z"
   },
   {
    "duration": 17,
    "start_time": "2022-08-18T01:00:44.021Z"
   },
   {
    "duration": 4,
    "start_time": "2022-08-18T01:00:44.040Z"
   },
   {
    "duration": 5,
    "start_time": "2022-08-18T01:00:44.046Z"
   },
   {
    "duration": 7,
    "start_time": "2022-08-18T01:00:44.052Z"
   },
   {
    "duration": 45,
    "start_time": "2022-08-18T01:00:44.061Z"
   },
   {
    "duration": 6,
    "start_time": "2022-08-18T01:00:44.112Z"
   },
   {
    "duration": 15,
    "start_time": "2022-08-18T01:00:44.119Z"
   },
   {
    "duration": 4,
    "start_time": "2022-08-18T01:00:44.136Z"
   },
   {
    "duration": 1178,
    "start_time": "2022-08-18T01:04:06.925Z"
   },
   {
    "duration": 74,
    "start_time": "2022-08-18T01:04:08.109Z"
   },
   {
    "duration": 28,
    "start_time": "2022-08-18T01:04:08.185Z"
   },
   {
    "duration": 788,
    "start_time": "2022-08-18T01:04:08.215Z"
   },
   {
    "duration": 4,
    "start_time": "2022-08-18T01:04:09.005Z"
   },
   {
    "duration": 23,
    "start_time": "2022-08-18T01:04:09.011Z"
   },
   {
    "duration": 3,
    "start_time": "2022-08-18T01:04:09.035Z"
   },
   {
    "duration": 18,
    "start_time": "2022-08-18T01:04:09.039Z"
   },
   {
    "duration": 59,
    "start_time": "2022-08-18T01:04:09.059Z"
   },
   {
    "duration": 15,
    "start_time": "2022-08-18T01:04:09.120Z"
   },
   {
    "duration": 4,
    "start_time": "2022-08-18T01:04:09.136Z"
   },
   {
    "duration": 7,
    "start_time": "2022-08-18T01:04:09.141Z"
   },
   {
    "duration": 10,
    "start_time": "2022-08-18T01:04:09.149Z"
   },
   {
    "duration": 34,
    "start_time": "2022-08-18T01:04:09.160Z"
   },
   {
    "duration": 8,
    "start_time": "2022-08-18T01:04:09.195Z"
   },
   {
    "duration": 23,
    "start_time": "2022-08-18T01:04:09.209Z"
   },
   {
    "duration": 4,
    "start_time": "2022-08-18T01:04:09.234Z"
   },
   {
    "duration": 170,
    "start_time": "2022-08-18T01:07:44.951Z"
   },
   {
    "duration": 149,
    "start_time": "2022-08-18T01:08:39.601Z"
   },
   {
    "duration": 230,
    "start_time": "2022-08-18T02:06:49.218Z"
   },
   {
    "duration": 139,
    "start_time": "2022-08-18T02:06:58.709Z"
   },
   {
    "duration": 19,
    "start_time": "2022-08-18T02:16:59.816Z"
   },
   {
    "duration": 19,
    "start_time": "2022-08-18T02:17:42.935Z"
   },
   {
    "duration": 14,
    "start_time": "2022-08-18T02:18:02.581Z"
   },
   {
    "duration": 10,
    "start_time": "2022-08-18T02:27:25.913Z"
   },
   {
    "duration": 1043,
    "start_time": "2022-08-18T02:27:50.521Z"
   },
   {
    "duration": 71,
    "start_time": "2022-08-18T02:27:51.566Z"
   },
   {
    "duration": 12,
    "start_time": "2022-08-18T02:27:51.639Z"
   },
   {
    "duration": 665,
    "start_time": "2022-08-18T02:27:51.653Z"
   },
   {
    "duration": 3,
    "start_time": "2022-08-18T02:27:52.320Z"
   },
   {
    "duration": 21,
    "start_time": "2022-08-18T02:27:52.324Z"
   },
   {
    "duration": 2,
    "start_time": "2022-08-18T02:27:52.346Z"
   },
   {
    "duration": 9,
    "start_time": "2022-08-18T02:27:52.350Z"
   },
   {
    "duration": 65,
    "start_time": "2022-08-18T02:27:52.360Z"
   },
   {
    "duration": 13,
    "start_time": "2022-08-18T02:27:52.427Z"
   },
   {
    "duration": 4,
    "start_time": "2022-08-18T02:27:52.442Z"
   },
   {
    "duration": 5,
    "start_time": "2022-08-18T02:27:52.447Z"
   },
   {
    "duration": 6,
    "start_time": "2022-08-18T02:27:52.454Z"
   },
   {
    "duration": 34,
    "start_time": "2022-08-18T02:27:52.462Z"
   },
   {
    "duration": 4,
    "start_time": "2022-08-18T02:27:52.497Z"
   },
   {
    "duration": 14,
    "start_time": "2022-08-18T02:27:52.502Z"
   },
   {
    "duration": 4,
    "start_time": "2022-08-18T02:27:52.518Z"
   },
   {
    "duration": 156,
    "start_time": "2022-08-18T02:27:52.523Z"
   },
   {
    "duration": 50,
    "start_time": "2022-08-18T02:27:52.681Z"
   },
   {
    "duration": 0,
    "start_time": "2022-08-18T02:27:52.732Z"
   },
   {
    "duration": 92,
    "start_time": "2022-08-18T02:28:00.114Z"
   },
   {
    "duration": 9,
    "start_time": "2022-08-18T02:28:30.591Z"
   },
   {
    "duration": 44,
    "start_time": "2022-08-18T15:11:41.764Z"
   },
   {
    "duration": 1335,
    "start_time": "2022-08-18T15:11:46.851Z"
   },
   {
    "duration": 118,
    "start_time": "2022-08-18T15:11:48.188Z"
   },
   {
    "duration": 15,
    "start_time": "2022-08-18T15:11:48.308Z"
   },
   {
    "duration": 742,
    "start_time": "2022-08-18T15:11:48.324Z"
   },
   {
    "duration": 4,
    "start_time": "2022-08-18T15:11:49.068Z"
   },
   {
    "duration": 27,
    "start_time": "2022-08-18T15:11:49.073Z"
   },
   {
    "duration": 6,
    "start_time": "2022-08-18T15:11:49.102Z"
   },
   {
    "duration": 11,
    "start_time": "2022-08-18T15:11:49.109Z"
   },
   {
    "duration": 64,
    "start_time": "2022-08-18T15:11:49.122Z"
   },
   {
    "duration": 14,
    "start_time": "2022-08-18T15:11:49.187Z"
   },
   {
    "duration": 4,
    "start_time": "2022-08-18T15:11:49.202Z"
   },
   {
    "duration": 7,
    "start_time": "2022-08-18T15:11:49.207Z"
   },
   {
    "duration": 10,
    "start_time": "2022-08-18T15:11:49.215Z"
   },
   {
    "duration": 16,
    "start_time": "2022-08-18T15:11:49.228Z"
   },
   {
    "duration": 6,
    "start_time": "2022-08-18T15:11:49.246Z"
   },
   {
    "duration": 12,
    "start_time": "2022-08-18T15:11:49.285Z"
   },
   {
    "duration": 4,
    "start_time": "2022-08-18T15:11:49.298Z"
   },
   {
    "duration": 23,
    "start_time": "2022-08-18T15:11:49.304Z"
   },
   {
    "duration": 187,
    "start_time": "2022-08-18T15:11:49.329Z"
   },
   {
    "duration": 104,
    "start_time": "2022-08-18T15:50:38.750Z"
   },
   {
    "duration": 10,
    "start_time": "2022-08-18T15:52:18.697Z"
   },
   {
    "duration": 11,
    "start_time": "2022-08-18T15:52:34.470Z"
   },
   {
    "duration": 14,
    "start_time": "2022-08-18T15:52:55.908Z"
   },
   {
    "duration": 18,
    "start_time": "2022-08-18T15:53:32.705Z"
   },
   {
    "duration": 33,
    "start_time": "2022-08-18T15:53:39.128Z"
   },
   {
    "duration": 26,
    "start_time": "2022-08-18T15:54:13.183Z"
   },
   {
    "duration": 45,
    "start_time": "2022-08-18T15:54:19.302Z"
   },
   {
    "duration": 13,
    "start_time": "2022-08-18T15:54:58.710Z"
   },
   {
    "duration": 19,
    "start_time": "2022-08-18T15:57:59.037Z"
   },
   {
    "duration": 17,
    "start_time": "2022-08-18T15:58:37.516Z"
   },
   {
    "duration": 197,
    "start_time": "2022-08-18T15:59:59.251Z"
   },
   {
    "duration": 4,
    "start_time": "2022-08-18T16:00:45.916Z"
   },
   {
    "duration": 66,
    "start_time": "2022-08-18T16:17:17.509Z"
   },
   {
    "duration": 1162,
    "start_time": "2022-08-18T16:20:32.501Z"
   },
   {
    "duration": 77,
    "start_time": "2022-08-18T16:20:33.665Z"
   },
   {
    "duration": 13,
    "start_time": "2022-08-18T16:20:33.744Z"
   },
   {
    "duration": 849,
    "start_time": "2022-08-18T16:20:33.759Z"
   },
   {
    "duration": 6,
    "start_time": "2022-08-18T16:20:34.611Z"
   },
   {
    "duration": 35,
    "start_time": "2022-08-18T16:20:34.618Z"
   },
   {
    "duration": 19,
    "start_time": "2022-08-18T16:20:34.655Z"
   },
   {
    "duration": 14,
    "start_time": "2022-08-18T16:20:34.677Z"
   },
   {
    "duration": 90,
    "start_time": "2022-08-18T16:20:34.693Z"
   },
   {
    "duration": 25,
    "start_time": "2022-08-18T16:20:34.786Z"
   },
   {
    "duration": 4,
    "start_time": "2022-08-18T16:20:34.812Z"
   },
   {
    "duration": 11,
    "start_time": "2022-08-18T16:20:34.817Z"
   },
   {
    "duration": 8,
    "start_time": "2022-08-18T16:20:34.829Z"
   },
   {
    "duration": 14,
    "start_time": "2022-08-18T16:20:34.839Z"
   },
   {
    "duration": 4,
    "start_time": "2022-08-18T16:20:34.854Z"
   },
   {
    "duration": 37,
    "start_time": "2022-08-18T16:20:34.859Z"
   },
   {
    "duration": 6,
    "start_time": "2022-08-18T16:20:34.898Z"
   },
   {
    "duration": 18,
    "start_time": "2022-08-18T16:20:34.906Z"
   },
   {
    "duration": 178,
    "start_time": "2022-08-18T16:20:34.926Z"
   },
   {
    "duration": 114,
    "start_time": "2022-08-18T16:20:35.106Z"
   },
   {
    "duration": 0,
    "start_time": "2022-08-18T16:20:35.222Z"
   },
   {
    "duration": 0,
    "start_time": "2022-08-18T16:20:35.224Z"
   },
   {
    "duration": 18,
    "start_time": "2022-08-18T16:20:48.419Z"
   },
   {
    "duration": 1141,
    "start_time": "2022-08-18T16:20:54.229Z"
   },
   {
    "duration": 86,
    "start_time": "2022-08-18T16:20:55.372Z"
   },
   {
    "duration": 14,
    "start_time": "2022-08-18T16:20:55.459Z"
   },
   {
    "duration": 795,
    "start_time": "2022-08-18T16:20:55.475Z"
   },
   {
    "duration": 14,
    "start_time": "2022-08-18T16:20:56.272Z"
   },
   {
    "duration": 23,
    "start_time": "2022-08-18T16:20:56.289Z"
   },
   {
    "duration": 2,
    "start_time": "2022-08-18T16:20:56.314Z"
   },
   {
    "duration": 13,
    "start_time": "2022-08-18T16:20:56.317Z"
   },
   {
    "duration": 75,
    "start_time": "2022-08-18T16:20:56.332Z"
   },
   {
    "duration": 15,
    "start_time": "2022-08-18T16:20:56.409Z"
   },
   {
    "duration": 5,
    "start_time": "2022-08-18T16:20:56.425Z"
   },
   {
    "duration": 5,
    "start_time": "2022-08-18T16:20:56.431Z"
   },
   {
    "duration": 8,
    "start_time": "2022-08-18T16:20:56.438Z"
   },
   {
    "duration": 53,
    "start_time": "2022-08-18T16:20:56.447Z"
   },
   {
    "duration": 4,
    "start_time": "2022-08-18T16:20:56.502Z"
   },
   {
    "duration": 13,
    "start_time": "2022-08-18T16:20:56.508Z"
   },
   {
    "duration": 11,
    "start_time": "2022-08-18T16:20:56.523Z"
   },
   {
    "duration": 33,
    "start_time": "2022-08-18T16:20:56.536Z"
   },
   {
    "duration": 166,
    "start_time": "2022-08-18T16:20:56.571Z"
   },
   {
    "duration": 16,
    "start_time": "2022-08-18T16:20:56.739Z"
   },
   {
    "duration": 116,
    "start_time": "2022-08-18T16:20:56.757Z"
   },
   {
    "duration": 0,
    "start_time": "2022-08-18T16:20:56.876Z"
   },
   {
    "duration": 6,
    "start_time": "2022-08-18T16:21:05.583Z"
   },
   {
    "duration": 69,
    "start_time": "2022-08-18T16:21:07.746Z"
   },
   {
    "duration": 14,
    "start_time": "2022-08-18T16:35:27.826Z"
   },
   {
    "duration": 14,
    "start_time": "2022-08-18T16:43:19.700Z"
   },
   {
    "duration": 64,
    "start_time": "2022-08-18T16:44:36.565Z"
   },
   {
    "duration": 62,
    "start_time": "2022-08-18T16:44:55.954Z"
   },
   {
    "duration": 1155,
    "start_time": "2022-08-18T16:45:51.147Z"
   },
   {
    "duration": 77,
    "start_time": "2022-08-18T16:45:52.304Z"
   },
   {
    "duration": 25,
    "start_time": "2022-08-18T16:45:52.383Z"
   },
   {
    "duration": 761,
    "start_time": "2022-08-18T16:45:52.409Z"
   },
   {
    "duration": 3,
    "start_time": "2022-08-18T16:45:53.173Z"
   },
   {
    "duration": 34,
    "start_time": "2022-08-18T16:45:53.184Z"
   },
   {
    "duration": 3,
    "start_time": "2022-08-18T16:45:53.219Z"
   },
   {
    "duration": 18,
    "start_time": "2022-08-18T16:45:53.223Z"
   },
   {
    "duration": 61,
    "start_time": "2022-08-18T16:45:53.242Z"
   },
   {
    "duration": 17,
    "start_time": "2022-08-18T16:45:53.305Z"
   },
   {
    "duration": 12,
    "start_time": "2022-08-18T16:45:53.324Z"
   },
   {
    "duration": 28,
    "start_time": "2022-08-18T16:45:53.337Z"
   },
   {
    "duration": 14,
    "start_time": "2022-08-18T16:45:53.367Z"
   },
   {
    "duration": 37,
    "start_time": "2022-08-18T16:45:53.386Z"
   },
   {
    "duration": 4,
    "start_time": "2022-08-18T16:45:53.426Z"
   },
   {
    "duration": 26,
    "start_time": "2022-08-18T16:45:53.432Z"
   },
   {
    "duration": 18,
    "start_time": "2022-08-18T16:45:53.460Z"
   },
   {
    "duration": 36,
    "start_time": "2022-08-18T16:45:53.480Z"
   },
   {
    "duration": 177,
    "start_time": "2022-08-18T16:45:53.518Z"
   },
   {
    "duration": 16,
    "start_time": "2022-08-18T16:45:53.700Z"
   },
   {
    "duration": 3,
    "start_time": "2022-08-18T16:45:53.718Z"
   },
   {
    "duration": 67,
    "start_time": "2022-08-18T16:45:53.723Z"
   },
   {
    "duration": 16,
    "start_time": "2022-08-18T16:45:53.791Z"
   },
   {
    "duration": 13,
    "start_time": "2022-08-18T16:45:53.809Z"
   },
   {
    "duration": 100,
    "start_time": "2022-08-18T16:47:25.200Z"
   },
   {
    "duration": 26,
    "start_time": "2022-08-18T16:47:31.518Z"
   },
   {
    "duration": 14,
    "start_time": "2022-08-19T00:03:44.870Z"
   },
   {
    "duration": 11,
    "start_time": "2022-08-19T00:07:52.239Z"
   },
   {
    "duration": 22,
    "start_time": "2022-08-19T00:08:20.880Z"
   },
   {
    "duration": 1273,
    "start_time": "2022-08-19T00:08:37.765Z"
   },
   {
    "duration": 1021,
    "start_time": "2022-08-19T00:09:05.967Z"
   },
   {
    "duration": 18,
    "start_time": "2022-08-19T00:11:15.491Z"
   },
   {
    "duration": 1229,
    "start_time": "2022-08-19T00:11:28.539Z"
   },
   {
    "duration": 74,
    "start_time": "2022-08-19T00:11:29.770Z"
   },
   {
    "duration": 13,
    "start_time": "2022-08-19T00:11:29.845Z"
   },
   {
    "duration": 767,
    "start_time": "2022-08-19T00:11:29.860Z"
   },
   {
    "duration": 3,
    "start_time": "2022-08-19T00:11:30.629Z"
   },
   {
    "duration": 38,
    "start_time": "2022-08-19T00:11:30.634Z"
   },
   {
    "duration": 26,
    "start_time": "2022-08-19T00:11:30.675Z"
   },
   {
    "duration": 19,
    "start_time": "2022-08-19T00:11:30.703Z"
   },
   {
    "duration": 66,
    "start_time": "2022-08-19T00:11:30.725Z"
   },
   {
    "duration": 22,
    "start_time": "2022-08-19T00:11:30.794Z"
   },
   {
    "duration": 10,
    "start_time": "2022-08-19T00:11:30.818Z"
   },
   {
    "duration": 11,
    "start_time": "2022-08-19T00:11:30.830Z"
   },
   {
    "duration": 48,
    "start_time": "2022-08-19T00:11:30.842Z"
   },
   {
    "duration": 48,
    "start_time": "2022-08-19T00:11:30.895Z"
   },
   {
    "duration": 11,
    "start_time": "2022-08-19T00:11:30.945Z"
   },
   {
    "duration": 26,
    "start_time": "2022-08-19T00:11:30.957Z"
   },
   {
    "duration": 40,
    "start_time": "2022-08-19T00:11:30.984Z"
   },
   {
    "duration": 45,
    "start_time": "2022-08-19T00:11:31.026Z"
   },
   {
    "duration": 213,
    "start_time": "2022-08-19T00:11:31.072Z"
   },
   {
    "duration": 20,
    "start_time": "2022-08-19T00:11:31.290Z"
   },
   {
    "duration": 38,
    "start_time": "2022-08-19T00:11:31.312Z"
   },
   {
    "duration": 85,
    "start_time": "2022-08-19T00:11:31.352Z"
   },
   {
    "duration": 18,
    "start_time": "2022-08-19T00:11:31.440Z"
   },
   {
    "duration": 41,
    "start_time": "2022-08-19T00:11:31.460Z"
   },
   {
    "duration": 29,
    "start_time": "2022-08-19T00:11:31.505Z"
   },
   {
    "duration": 130,
    "start_time": "2022-08-19T00:11:31.536Z"
   },
   {
    "duration": 12,
    "start_time": "2022-08-19T00:12:26.352Z"
   },
   {
    "duration": 17,
    "start_time": "2022-08-19T00:12:52.073Z"
   },
   {
    "duration": 35,
    "start_time": "2022-08-19T00:13:15.682Z"
   },
   {
    "duration": 32,
    "start_time": "2022-08-19T00:15:16.403Z"
   },
   {
    "duration": 1187,
    "start_time": "2022-08-19T00:19:24.476Z"
   },
   {
    "duration": 94,
    "start_time": "2022-08-19T00:19:25.665Z"
   },
   {
    "duration": 13,
    "start_time": "2022-08-19T00:19:25.760Z"
   },
   {
    "duration": 713,
    "start_time": "2022-08-19T00:19:25.774Z"
   },
   {
    "duration": 11,
    "start_time": "2022-08-19T00:19:26.491Z"
   },
   {
    "duration": 32,
    "start_time": "2022-08-19T00:19:26.504Z"
   },
   {
    "duration": 3,
    "start_time": "2022-08-19T00:19:26.538Z"
   },
   {
    "duration": 11,
    "start_time": "2022-08-19T00:19:26.542Z"
   },
   {
    "duration": 70,
    "start_time": "2022-08-19T00:19:26.554Z"
   },
   {
    "duration": 14,
    "start_time": "2022-08-19T00:19:26.626Z"
   },
   {
    "duration": 4,
    "start_time": "2022-08-19T00:19:26.641Z"
   },
   {
    "duration": 11,
    "start_time": "2022-08-19T00:19:26.646Z"
   },
   {
    "duration": 7,
    "start_time": "2022-08-19T00:19:26.659Z"
   },
   {
    "duration": 36,
    "start_time": "2022-08-19T00:19:26.668Z"
   },
   {
    "duration": 6,
    "start_time": "2022-08-19T00:19:26.706Z"
   },
   {
    "duration": 18,
    "start_time": "2022-08-19T00:19:26.714Z"
   },
   {
    "duration": 4,
    "start_time": "2022-08-19T00:19:26.734Z"
   },
   {
    "duration": 19,
    "start_time": "2022-08-19T00:19:26.740Z"
   },
   {
    "duration": 180,
    "start_time": "2022-08-19T00:19:26.761Z"
   },
   {
    "duration": 16,
    "start_time": "2022-08-19T00:19:26.943Z"
   },
   {
    "duration": 4,
    "start_time": "2022-08-19T00:19:26.961Z"
   },
   {
    "duration": 81,
    "start_time": "2022-08-19T00:19:26.967Z"
   },
   {
    "duration": 14,
    "start_time": "2022-08-19T00:19:27.050Z"
   },
   {
    "duration": 41,
    "start_time": "2022-08-19T00:19:27.066Z"
   },
   {
    "duration": 21,
    "start_time": "2022-08-19T00:19:27.109Z"
   },
   {
    "duration": 1098,
    "start_time": "2022-08-19T00:25:55.740Z"
   },
   {
    "duration": 79,
    "start_time": "2022-08-19T00:25:56.840Z"
   },
   {
    "duration": 14,
    "start_time": "2022-08-19T00:25:56.921Z"
   },
   {
    "duration": 776,
    "start_time": "2022-08-19T00:25:56.936Z"
   },
   {
    "duration": 3,
    "start_time": "2022-08-19T00:25:57.714Z"
   },
   {
    "duration": 22,
    "start_time": "2022-08-19T00:25:57.719Z"
   },
   {
    "duration": 4,
    "start_time": "2022-08-19T00:25:57.743Z"
   },
   {
    "duration": 14,
    "start_time": "2022-08-19T00:25:57.748Z"
   },
   {
    "duration": 74,
    "start_time": "2022-08-19T00:25:57.785Z"
   },
   {
    "duration": 31,
    "start_time": "2022-08-19T00:25:57.861Z"
   },
   {
    "duration": 5,
    "start_time": "2022-08-19T00:25:57.902Z"
   },
   {
    "duration": 5,
    "start_time": "2022-08-19T00:25:57.909Z"
   },
   {
    "duration": 8,
    "start_time": "2022-08-19T00:25:57.915Z"
   },
   {
    "duration": 14,
    "start_time": "2022-08-19T00:25:57.925Z"
   },
   {
    "duration": 6,
    "start_time": "2022-08-19T00:25:57.941Z"
   },
   {
    "duration": 20,
    "start_time": "2022-08-19T00:25:57.948Z"
   },
   {
    "duration": 16,
    "start_time": "2022-08-19T00:25:57.986Z"
   },
   {
    "duration": 18,
    "start_time": "2022-08-19T00:25:58.004Z"
   },
   {
    "duration": 184,
    "start_time": "2022-08-19T00:25:58.024Z"
   },
   {
    "duration": 16,
    "start_time": "2022-08-19T00:25:58.209Z"
   },
   {
    "duration": 4,
    "start_time": "2022-08-19T00:25:58.227Z"
   },
   {
    "duration": 85,
    "start_time": "2022-08-19T00:25:58.232Z"
   },
   {
    "duration": 15,
    "start_time": "2022-08-19T00:25:58.318Z"
   },
   {
    "duration": 14,
    "start_time": "2022-08-19T00:25:58.334Z"
   },
   {
    "duration": 48,
    "start_time": "2022-08-19T00:25:58.350Z"
   },
   {
    "duration": 29,
    "start_time": "2022-08-19T00:25:58.400Z"
   },
   {
    "duration": 107,
    "start_time": "2022-08-19T00:25:58.431Z"
   },
   {
    "duration": 18,
    "start_time": "2022-08-19T00:27:14.765Z"
   },
   {
    "duration": 21,
    "start_time": "2022-08-19T00:27:21.106Z"
   },
   {
    "duration": 904,
    "start_time": "2022-08-19T00:29:11.435Z"
   },
   {
    "duration": 921,
    "start_time": "2022-08-19T00:29:27.615Z"
   },
   {
    "duration": 1539,
    "start_time": "2022-08-19T00:29:50.885Z"
   },
   {
    "duration": 1105,
    "start_time": "2022-08-19T00:30:33.245Z"
   },
   {
    "duration": 1577,
    "start_time": "2022-08-19T00:30:57.645Z"
   },
   {
    "duration": 1793,
    "start_time": "2022-08-19T00:31:52.586Z"
   },
   {
    "duration": 1839,
    "start_time": "2022-08-19T00:32:04.836Z"
   },
   {
    "duration": 1837,
    "start_time": "2022-08-19T00:32:19.116Z"
   },
   {
    "duration": 1591,
    "start_time": "2022-08-19T00:32:37.237Z"
   },
   {
    "duration": 1375,
    "start_time": "2022-08-19T00:33:30.575Z"
   },
   {
    "duration": 1289,
    "start_time": "2022-08-20T10:04:55.486Z"
   },
   {
    "duration": 111,
    "start_time": "2022-08-20T10:04:56.777Z"
   },
   {
    "duration": 15,
    "start_time": "2022-08-20T10:04:56.890Z"
   },
   {
    "duration": 656,
    "start_time": "2022-08-20T10:04:56.906Z"
   },
   {
    "duration": 2,
    "start_time": "2022-08-20T10:04:57.564Z"
   },
   {
    "duration": 21,
    "start_time": "2022-08-20T10:04:57.567Z"
   },
   {
    "duration": 2,
    "start_time": "2022-08-20T10:04:57.590Z"
   },
   {
    "duration": 7,
    "start_time": "2022-08-20T10:04:57.598Z"
   },
   {
    "duration": 50,
    "start_time": "2022-08-20T10:04:57.607Z"
   },
   {
    "duration": 12,
    "start_time": "2022-08-20T10:04:57.659Z"
   },
   {
    "duration": 25,
    "start_time": "2022-08-20T10:04:57.673Z"
   },
   {
    "duration": 5,
    "start_time": "2022-08-20T10:04:57.700Z"
   },
   {
    "duration": 5,
    "start_time": "2022-08-20T10:04:57.707Z"
   },
   {
    "duration": 13,
    "start_time": "2022-08-20T10:04:57.714Z"
   },
   {
    "duration": 3,
    "start_time": "2022-08-20T10:04:57.729Z"
   },
   {
    "duration": 10,
    "start_time": "2022-08-20T10:04:57.734Z"
   },
   {
    "duration": 3,
    "start_time": "2022-08-20T10:04:57.745Z"
   },
   {
    "duration": 15,
    "start_time": "2022-08-20T10:04:57.750Z"
   },
   {
    "duration": 172,
    "start_time": "2022-08-20T10:04:57.766Z"
   },
   {
    "duration": 20,
    "start_time": "2022-08-20T10:04:57.939Z"
   },
   {
    "duration": 4,
    "start_time": "2022-08-20T10:04:57.960Z"
   },
   {
    "duration": 78,
    "start_time": "2022-08-20T10:04:57.965Z"
   },
   {
    "duration": 13,
    "start_time": "2022-08-20T10:04:58.045Z"
   },
   {
    "duration": 12,
    "start_time": "2022-08-20T10:04:58.059Z"
   },
   {
    "duration": 29,
    "start_time": "2022-08-20T10:04:58.073Z"
   },
   {
    "duration": 11,
    "start_time": "2022-08-20T10:04:58.103Z"
   },
   {
    "duration": 918,
    "start_time": "2022-08-20T10:04:58.116Z"
   },
   {
    "duration": 1306,
    "start_time": "2022-08-20T10:05:19.283Z"
   },
   {
    "duration": 10,
    "start_time": "2022-08-20T10:08:28.524Z"
   },
   {
    "duration": 1073,
    "start_time": "2022-08-20T10:08:32.561Z"
   },
   {
    "duration": 71,
    "start_time": "2022-08-20T10:08:33.635Z"
   },
   {
    "duration": 13,
    "start_time": "2022-08-20T10:08:33.707Z"
   },
   {
    "duration": 665,
    "start_time": "2022-08-20T10:08:33.722Z"
   },
   {
    "duration": 3,
    "start_time": "2022-08-20T10:08:34.391Z"
   },
   {
    "duration": 28,
    "start_time": "2022-08-20T10:08:34.398Z"
   },
   {
    "duration": 11,
    "start_time": "2022-08-20T10:08:34.428Z"
   },
   {
    "duration": 25,
    "start_time": "2022-08-20T10:08:34.441Z"
   },
   {
    "duration": 65,
    "start_time": "2022-08-20T10:08:34.468Z"
   },
   {
    "duration": 17,
    "start_time": "2022-08-20T10:08:34.535Z"
   },
   {
    "duration": 14,
    "start_time": "2022-08-20T10:08:34.553Z"
   },
   {
    "duration": 10,
    "start_time": "2022-08-20T10:08:34.569Z"
   },
   {
    "duration": 12,
    "start_time": "2022-08-20T10:08:34.581Z"
   },
   {
    "duration": 16,
    "start_time": "2022-08-20T10:08:34.596Z"
   },
   {
    "duration": 3,
    "start_time": "2022-08-20T10:08:34.614Z"
   },
   {
    "duration": 10,
    "start_time": "2022-08-20T10:08:34.619Z"
   },
   {
    "duration": 4,
    "start_time": "2022-08-20T10:08:34.630Z"
   },
   {
    "duration": 16,
    "start_time": "2022-08-20T10:08:34.635Z"
   },
   {
    "duration": 152,
    "start_time": "2022-08-20T10:08:34.653Z"
   },
   {
    "duration": 15,
    "start_time": "2022-08-20T10:08:34.806Z"
   },
   {
    "duration": 4,
    "start_time": "2022-08-20T10:08:34.822Z"
   },
   {
    "duration": 70,
    "start_time": "2022-08-20T10:08:34.828Z"
   },
   {
    "duration": 13,
    "start_time": "2022-08-20T10:08:34.900Z"
   },
   {
    "duration": 14,
    "start_time": "2022-08-20T10:08:34.915Z"
   },
   {
    "duration": 18,
    "start_time": "2022-08-20T10:08:34.930Z"
   },
   {
    "duration": 15,
    "start_time": "2022-08-20T10:08:34.950Z"
   },
   {
    "duration": 133,
    "start_time": "2022-08-20T10:08:34.966Z"
   },
   {
    "duration": 818,
    "start_time": "2022-08-20T10:08:47.014Z"
   },
   {
    "duration": 1315,
    "start_time": "2022-08-20T10:10:42.554Z"
   },
   {
    "duration": 12,
    "start_time": "2022-08-20T10:21:44.406Z"
   },
   {
    "duration": 1067,
    "start_time": "2022-08-20T10:22:01.785Z"
   },
   {
    "duration": 68,
    "start_time": "2022-08-20T10:22:02.854Z"
   },
   {
    "duration": 12,
    "start_time": "2022-08-20T10:22:02.923Z"
   },
   {
    "duration": 661,
    "start_time": "2022-08-20T10:22:02.936Z"
   },
   {
    "duration": 3,
    "start_time": "2022-08-20T10:22:03.599Z"
   },
   {
    "duration": 17,
    "start_time": "2022-08-20T10:22:03.604Z"
   },
   {
    "duration": 5,
    "start_time": "2022-08-20T10:22:03.623Z"
   },
   {
    "duration": 10,
    "start_time": "2022-08-20T10:22:03.630Z"
   },
   {
    "duration": 67,
    "start_time": "2022-08-20T10:22:03.642Z"
   },
   {
    "duration": 14,
    "start_time": "2022-08-20T10:22:03.710Z"
   },
   {
    "duration": 3,
    "start_time": "2022-08-20T10:22:03.726Z"
   },
   {
    "duration": 14,
    "start_time": "2022-08-20T10:22:03.730Z"
   },
   {
    "duration": 6,
    "start_time": "2022-08-20T10:22:03.745Z"
   },
   {
    "duration": 18,
    "start_time": "2022-08-20T10:22:03.753Z"
   },
   {
    "duration": 3,
    "start_time": "2022-08-20T10:22:03.773Z"
   },
   {
    "duration": 26,
    "start_time": "2022-08-20T10:22:03.778Z"
   },
   {
    "duration": 4,
    "start_time": "2022-08-20T10:22:03.805Z"
   },
   {
    "duration": 17,
    "start_time": "2022-08-20T10:22:03.810Z"
   },
   {
    "duration": 155,
    "start_time": "2022-08-20T10:22:03.828Z"
   },
   {
    "duration": 20,
    "start_time": "2022-08-20T10:22:03.985Z"
   },
   {
    "duration": 4,
    "start_time": "2022-08-20T10:22:04.006Z"
   },
   {
    "duration": 50,
    "start_time": "2022-08-20T10:22:04.011Z"
   },
   {
    "duration": 35,
    "start_time": "2022-08-20T10:22:04.063Z"
   },
   {
    "duration": 13,
    "start_time": "2022-08-20T10:22:04.100Z"
   },
   {
    "duration": 10,
    "start_time": "2022-08-20T10:22:04.115Z"
   },
   {
    "duration": 13,
    "start_time": "2022-08-20T10:22:04.127Z"
   },
   {
    "duration": 1456,
    "start_time": "2022-08-20T10:22:04.141Z"
   },
   {
    "duration": 420,
    "start_time": "2022-08-20T10:22:05.599Z"
   },
   {
    "duration": 394,
    "start_time": "2022-08-20T10:22:33.814Z"
   },
   {
    "duration": 519,
    "start_time": "2022-08-20T10:50:09.511Z"
   },
   {
    "duration": 415,
    "start_time": "2022-08-20T10:50:17.127Z"
   },
   {
    "duration": 23,
    "start_time": "2022-08-20T10:50:28.395Z"
   },
   {
    "duration": 34,
    "start_time": "2022-08-20T10:52:20.372Z"
   },
   {
    "duration": 4,
    "start_time": "2022-08-20T11:05:26.531Z"
   },
   {
    "duration": 10,
    "start_time": "2022-08-20T11:05:36.950Z"
   },
   {
    "duration": 11,
    "start_time": "2022-08-20T11:06:04.377Z"
   },
   {
    "duration": 1521,
    "start_time": "2022-08-20T11:07:03.530Z"
   },
   {
    "duration": 2688,
    "start_time": "2022-08-20T11:07:55.515Z"
   },
   {
    "duration": 164,
    "start_time": "2022-08-20T12:23:50.419Z"
   },
   {
    "duration": 171,
    "start_time": "2022-08-20T12:24:00.439Z"
   },
   {
    "duration": 10,
    "start_time": "2022-08-20T12:24:39.158Z"
   },
   {
    "duration": 11,
    "start_time": "2022-08-20T12:24:43.520Z"
   },
   {
    "duration": 5,
    "start_time": "2022-08-20T12:24:46.356Z"
   },
   {
    "duration": 165,
    "start_time": "2022-08-20T12:25:18.569Z"
   },
   {
    "duration": 4,
    "start_time": "2022-08-20T12:26:37.866Z"
   },
   {
    "duration": 165,
    "start_time": "2022-08-20T12:26:56.190Z"
   },
   {
    "duration": 154,
    "start_time": "2022-08-20T12:27:26.758Z"
   },
   {
    "duration": 165,
    "start_time": "2022-08-20T12:28:18.053Z"
   },
   {
    "duration": 1048,
    "start_time": "2022-08-20T12:33:11.725Z"
   },
   {
    "duration": 71,
    "start_time": "2022-08-20T12:33:12.775Z"
   },
   {
    "duration": 12,
    "start_time": "2022-08-20T12:33:12.848Z"
   },
   {
    "duration": 671,
    "start_time": "2022-08-20T12:33:12.862Z"
   },
   {
    "duration": 3,
    "start_time": "2022-08-20T12:33:13.535Z"
   },
   {
    "duration": 23,
    "start_time": "2022-08-20T12:33:13.539Z"
   },
   {
    "duration": 2,
    "start_time": "2022-08-20T12:33:13.564Z"
   },
   {
    "duration": 9,
    "start_time": "2022-08-20T12:33:13.567Z"
   },
   {
    "duration": 63,
    "start_time": "2022-08-20T12:33:13.577Z"
   },
   {
    "duration": 13,
    "start_time": "2022-08-20T12:33:13.641Z"
   },
   {
    "duration": 3,
    "start_time": "2022-08-20T12:33:13.655Z"
   },
   {
    "duration": 7,
    "start_time": "2022-08-20T12:33:13.660Z"
   },
   {
    "duration": 4,
    "start_time": "2022-08-20T12:33:13.669Z"
   },
   {
    "duration": 30,
    "start_time": "2022-08-20T12:33:13.676Z"
   },
   {
    "duration": 4,
    "start_time": "2022-08-20T12:33:13.707Z"
   },
   {
    "duration": 12,
    "start_time": "2022-08-20T12:33:13.712Z"
   },
   {
    "duration": 4,
    "start_time": "2022-08-20T12:33:13.726Z"
   },
   {
    "duration": 16,
    "start_time": "2022-08-20T12:33:13.731Z"
   },
   {
    "duration": 168,
    "start_time": "2022-08-20T12:33:13.749Z"
   },
   {
    "duration": 14,
    "start_time": "2022-08-20T12:33:13.919Z"
   },
   {
    "duration": 3,
    "start_time": "2022-08-20T12:33:13.934Z"
   },
   {
    "duration": 64,
    "start_time": "2022-08-20T12:33:13.939Z"
   },
   {
    "duration": 13,
    "start_time": "2022-08-20T12:33:14.005Z"
   },
   {
    "duration": 13,
    "start_time": "2022-08-20T12:33:14.020Z"
   },
   {
    "duration": 12,
    "start_time": "2022-08-20T12:33:14.035Z"
   },
   {
    "duration": 14,
    "start_time": "2022-08-20T12:33:14.048Z"
   },
   {
    "duration": 1550,
    "start_time": "2022-08-20T12:33:14.063Z"
   },
   {
    "duration": 401,
    "start_time": "2022-08-20T12:33:15.615Z"
   },
   {
    "duration": 38,
    "start_time": "2022-08-20T12:33:16.017Z"
   },
   {
    "duration": 2715,
    "start_time": "2022-08-20T12:33:16.056Z"
   },
   {
    "duration": 203,
    "start_time": "2022-08-20T12:33:18.773Z"
   },
   {
    "duration": 173,
    "start_time": "2022-08-20T12:33:18.977Z"
   },
   {
    "duration": 128,
    "start_time": "2022-08-20T12:35:17.675Z"
   },
   {
    "duration": 125,
    "start_time": "2022-08-20T12:35:19.357Z"
   },
   {
    "duration": 123,
    "start_time": "2022-08-20T12:36:13.153Z"
   },
   {
    "duration": 130,
    "start_time": "2022-08-20T12:36:15.415Z"
   },
   {
    "duration": 109,
    "start_time": "2022-08-20T12:37:46.665Z"
   },
   {
    "duration": 1152,
    "start_time": "2022-08-20T12:38:43.490Z"
   },
   {
    "duration": 71,
    "start_time": "2022-08-20T12:38:44.644Z"
   },
   {
    "duration": 13,
    "start_time": "2022-08-20T12:38:44.716Z"
   },
   {
    "duration": 692,
    "start_time": "2022-08-20T12:38:44.731Z"
   },
   {
    "duration": 3,
    "start_time": "2022-08-20T12:38:45.425Z"
   },
   {
    "duration": 20,
    "start_time": "2022-08-20T12:38:45.429Z"
   },
   {
    "duration": 2,
    "start_time": "2022-08-20T12:38:45.450Z"
   },
   {
    "duration": 9,
    "start_time": "2022-08-20T12:38:45.454Z"
   },
   {
    "duration": 72,
    "start_time": "2022-08-20T12:38:45.464Z"
   },
   {
    "duration": 13,
    "start_time": "2022-08-20T12:38:45.538Z"
   },
   {
    "duration": 4,
    "start_time": "2022-08-20T12:38:45.552Z"
   },
   {
    "duration": 6,
    "start_time": "2022-08-20T12:38:45.558Z"
   },
   {
    "duration": 10,
    "start_time": "2022-08-20T12:38:45.565Z"
   },
   {
    "duration": 30,
    "start_time": "2022-08-20T12:38:45.577Z"
   },
   {
    "duration": 4,
    "start_time": "2022-08-20T12:38:45.608Z"
   },
   {
    "duration": 20,
    "start_time": "2022-08-20T12:38:45.614Z"
   },
   {
    "duration": 4,
    "start_time": "2022-08-20T12:38:45.636Z"
   },
   {
    "duration": 21,
    "start_time": "2022-08-20T12:38:45.642Z"
   },
   {
    "duration": 167,
    "start_time": "2022-08-20T12:38:45.665Z"
   },
   {
    "duration": 15,
    "start_time": "2022-08-20T12:38:45.834Z"
   },
   {
    "duration": 4,
    "start_time": "2022-08-20T12:38:45.850Z"
   },
   {
    "duration": 69,
    "start_time": "2022-08-20T12:38:45.856Z"
   },
   {
    "duration": 13,
    "start_time": "2022-08-20T12:38:45.927Z"
   },
   {
    "duration": 20,
    "start_time": "2022-08-20T12:38:45.942Z"
   },
   {
    "duration": 18,
    "start_time": "2022-08-20T12:38:45.963Z"
   },
   {
    "duration": 12,
    "start_time": "2022-08-20T12:38:45.998Z"
   },
   {
    "duration": 1390,
    "start_time": "2022-08-20T12:38:46.011Z"
   },
   {
    "duration": 419,
    "start_time": "2022-08-20T12:38:47.405Z"
   },
   {
    "duration": 35,
    "start_time": "2022-08-20T12:38:47.826Z"
   },
   {
    "duration": 2762,
    "start_time": "2022-08-20T12:38:47.862Z"
   },
   {
    "duration": 169,
    "start_time": "2022-08-20T12:38:50.625Z"
   },
   {
    "duration": 172,
    "start_time": "2022-08-20T12:38:50.798Z"
   },
   {
    "duration": 147,
    "start_time": "2022-08-20T12:38:50.973Z"
   },
   {
    "duration": 136,
    "start_time": "2022-08-20T12:38:51.122Z"
   },
   {
    "duration": 141,
    "start_time": "2022-08-20T12:38:51.259Z"
   },
   {
    "duration": 128,
    "start_time": "2022-08-20T12:38:51.402Z"
   },
   {
    "duration": 131,
    "start_time": "2022-08-20T12:39:33.751Z"
   },
   {
    "duration": 136,
    "start_time": "2022-08-20T12:42:04.683Z"
   },
   {
    "duration": 133,
    "start_time": "2022-08-20T12:42:06.958Z"
   },
   {
    "duration": 8,
    "start_time": "2022-08-20T12:48:51.315Z"
   },
   {
    "duration": 12,
    "start_time": "2022-08-20T12:49:03.146Z"
   },
   {
    "duration": 14,
    "start_time": "2022-08-20T12:49:05.336Z"
   },
   {
    "duration": 10,
    "start_time": "2022-08-20T12:50:02.391Z"
   },
   {
    "duration": 11,
    "start_time": "2022-08-20T12:50:12.544Z"
   },
   {
    "duration": 12,
    "start_time": "2022-08-20T12:50:24.924Z"
   },
   {
    "duration": 10,
    "start_time": "2022-08-20T12:50:26.781Z"
   },
   {
    "duration": 28,
    "start_time": "2022-08-20T12:50:45.541Z"
   },
   {
    "duration": 24,
    "start_time": "2022-08-20T12:51:15.964Z"
   },
   {
    "duration": 23,
    "start_time": "2022-08-20T12:51:34.065Z"
   },
   {
    "duration": 17,
    "start_time": "2022-08-20T12:52:06.996Z"
   },
   {
    "duration": 17,
    "start_time": "2022-08-20T12:52:12.859Z"
   },
   {
    "duration": 1008,
    "start_time": "2022-08-20T12:52:52.955Z"
   },
   {
    "duration": 71,
    "start_time": "2022-08-20T12:52:53.967Z"
   },
   {
    "duration": 13,
    "start_time": "2022-08-20T12:52:54.040Z"
   },
   {
    "duration": 772,
    "start_time": "2022-08-20T12:52:54.054Z"
   },
   {
    "duration": 3,
    "start_time": "2022-08-20T12:52:54.827Z"
   },
   {
    "duration": 21,
    "start_time": "2022-08-20T12:52:54.832Z"
   },
   {
    "duration": 2,
    "start_time": "2022-08-20T12:52:54.854Z"
   },
   {
    "duration": 13,
    "start_time": "2022-08-20T12:52:54.858Z"
   },
   {
    "duration": 66,
    "start_time": "2022-08-20T12:52:54.904Z"
   },
   {
    "duration": 15,
    "start_time": "2022-08-20T12:52:54.972Z"
   },
   {
    "duration": 11,
    "start_time": "2022-08-20T12:52:54.989Z"
   },
   {
    "duration": 6,
    "start_time": "2022-08-20T12:52:55.001Z"
   },
   {
    "duration": 8,
    "start_time": "2022-08-20T12:52:55.009Z"
   },
   {
    "duration": 16,
    "start_time": "2022-08-20T12:52:55.019Z"
   },
   {
    "duration": 4,
    "start_time": "2022-08-20T12:52:55.037Z"
   },
   {
    "duration": 19,
    "start_time": "2022-08-20T12:52:55.043Z"
   },
   {
    "duration": 5,
    "start_time": "2022-08-20T12:52:55.063Z"
   },
   {
    "duration": 38,
    "start_time": "2022-08-20T12:52:55.070Z"
   },
   {
    "duration": 161,
    "start_time": "2022-08-20T12:52:55.109Z"
   },
   {
    "duration": 27,
    "start_time": "2022-08-20T12:52:55.272Z"
   },
   {
    "duration": 4,
    "start_time": "2022-08-20T12:52:55.300Z"
   },
   {
    "duration": 50,
    "start_time": "2022-08-20T12:52:55.306Z"
   },
   {
    "duration": 11,
    "start_time": "2022-08-20T12:52:55.357Z"
   },
   {
    "duration": 42,
    "start_time": "2022-08-20T12:52:55.370Z"
   },
   {
    "duration": 11,
    "start_time": "2022-08-20T12:52:55.413Z"
   },
   {
    "duration": 11,
    "start_time": "2022-08-20T12:52:55.425Z"
   },
   {
    "duration": 1422,
    "start_time": "2022-08-20T12:52:55.439Z"
   },
   {
    "duration": 461,
    "start_time": "2022-08-20T12:52:56.863Z"
   },
   {
    "duration": 36,
    "start_time": "2022-08-20T12:52:57.326Z"
   },
   {
    "duration": 2801,
    "start_time": "2022-08-20T12:52:57.364Z"
   },
   {
    "duration": 185,
    "start_time": "2022-08-20T12:53:00.166Z"
   },
   {
    "duration": 187,
    "start_time": "2022-08-20T12:53:00.353Z"
   },
   {
    "duration": 148,
    "start_time": "2022-08-20T12:53:00.542Z"
   },
   {
    "duration": 159,
    "start_time": "2022-08-20T12:53:00.693Z"
   },
   {
    "duration": 147,
    "start_time": "2022-08-20T12:53:00.854Z"
   },
   {
    "duration": 149,
    "start_time": "2022-08-20T12:53:01.002Z"
   },
   {
    "duration": 138,
    "start_time": "2022-08-20T12:53:01.153Z"
   },
   {
    "duration": 152,
    "start_time": "2022-08-20T12:53:01.293Z"
   },
   {
    "duration": 9,
    "start_time": "2022-08-20T12:53:01.447Z"
   },
   {
    "duration": 45,
    "start_time": "2022-08-20T12:53:01.458Z"
   },
   {
    "duration": 131,
    "start_time": "2022-08-20T12:53:01.505Z"
   },
   {
    "duration": 0,
    "start_time": "2022-08-20T12:53:01.638Z"
   },
   {
    "duration": 12,
    "start_time": "2022-08-20T12:53:20.727Z"
   },
   {
    "duration": 23,
    "start_time": "2022-08-20T12:53:24.431Z"
   },
   {
    "duration": 13,
    "start_time": "2022-08-20T12:53:36.070Z"
   },
   {
    "duration": 12,
    "start_time": "2022-08-20T12:54:01.020Z"
   },
   {
    "duration": 18,
    "start_time": "2022-08-20T12:54:09.990Z"
   },
   {
    "duration": 21,
    "start_time": "2022-08-20T12:54:35.091Z"
   },
   {
    "duration": 29,
    "start_time": "2022-08-20T12:55:03.073Z"
   },
   {
    "duration": 1084,
    "start_time": "2022-08-20T13:01:49.680Z"
   },
   {
    "duration": 70,
    "start_time": "2022-08-20T13:01:50.766Z"
   },
   {
    "duration": 13,
    "start_time": "2022-08-20T13:01:50.837Z"
   },
   {
    "duration": 662,
    "start_time": "2022-08-20T13:01:50.851Z"
   },
   {
    "duration": 3,
    "start_time": "2022-08-20T13:01:51.515Z"
   },
   {
    "duration": 20,
    "start_time": "2022-08-20T13:01:51.519Z"
   },
   {
    "duration": 2,
    "start_time": "2022-08-20T13:01:51.541Z"
   },
   {
    "duration": 9,
    "start_time": "2022-08-20T13:01:51.544Z"
   },
   {
    "duration": 68,
    "start_time": "2022-08-20T13:01:51.554Z"
   },
   {
    "duration": 13,
    "start_time": "2022-08-20T13:01:51.623Z"
   },
   {
    "duration": 3,
    "start_time": "2022-08-20T13:01:51.638Z"
   },
   {
    "duration": 4,
    "start_time": "2022-08-20T13:01:51.643Z"
   },
   {
    "duration": 5,
    "start_time": "2022-08-20T13:01:51.648Z"
   },
   {
    "duration": 14,
    "start_time": "2022-08-20T13:01:51.656Z"
   },
   {
    "duration": 4,
    "start_time": "2022-08-20T13:01:51.698Z"
   },
   {
    "duration": 12,
    "start_time": "2022-08-20T13:01:51.704Z"
   },
   {
    "duration": 4,
    "start_time": "2022-08-20T13:01:51.717Z"
   },
   {
    "duration": 19,
    "start_time": "2022-08-20T13:01:51.722Z"
   },
   {
    "duration": 157,
    "start_time": "2022-08-20T13:01:51.743Z"
   },
   {
    "duration": 15,
    "start_time": "2022-08-20T13:01:51.902Z"
   },
   {
    "duration": 4,
    "start_time": "2022-08-20T13:01:51.918Z"
   },
   {
    "duration": 53,
    "start_time": "2022-08-20T13:01:51.923Z"
   },
   {
    "duration": 13,
    "start_time": "2022-08-20T13:01:51.997Z"
   },
   {
    "duration": 11,
    "start_time": "2022-08-20T13:01:52.011Z"
   },
   {
    "duration": 12,
    "start_time": "2022-08-20T13:01:52.024Z"
   },
   {
    "duration": 11,
    "start_time": "2022-08-20T13:01:52.037Z"
   },
   {
    "duration": 1393,
    "start_time": "2022-08-20T13:01:52.049Z"
   },
   {
    "duration": 429,
    "start_time": "2022-08-20T13:01:53.443Z"
   },
   {
    "duration": 40,
    "start_time": "2022-08-20T13:01:53.874Z"
   },
   {
    "duration": 2764,
    "start_time": "2022-08-20T13:01:53.916Z"
   },
   {
    "duration": 178,
    "start_time": "2022-08-20T13:01:56.681Z"
   },
   {
    "duration": 174,
    "start_time": "2022-08-20T13:01:56.861Z"
   },
   {
    "duration": 139,
    "start_time": "2022-08-20T13:01:57.037Z"
   },
   {
    "duration": 129,
    "start_time": "2022-08-20T13:01:57.177Z"
   },
   {
    "duration": 133,
    "start_time": "2022-08-20T13:01:57.307Z"
   },
   {
    "duration": 139,
    "start_time": "2022-08-20T13:01:57.441Z"
   },
   {
    "duration": 126,
    "start_time": "2022-08-20T13:01:57.581Z"
   },
   {
    "duration": 136,
    "start_time": "2022-08-20T13:01:57.709Z"
   },
   {
    "duration": 8,
    "start_time": "2022-08-20T13:01:57.847Z"
   },
   {
    "duration": 45,
    "start_time": "2022-08-20T13:01:57.857Z"
   },
   {
    "duration": 1046,
    "start_time": "2022-08-20T13:03:40.614Z"
   },
   {
    "duration": 73,
    "start_time": "2022-08-20T13:03:41.661Z"
   },
   {
    "duration": 13,
    "start_time": "2022-08-20T13:03:41.735Z"
   },
   {
    "duration": 703,
    "start_time": "2022-08-20T13:03:41.750Z"
   },
   {
    "duration": 4,
    "start_time": "2022-08-20T13:03:42.454Z"
   },
   {
    "duration": 20,
    "start_time": "2022-08-20T13:03:42.459Z"
   },
   {
    "duration": 3,
    "start_time": "2022-08-20T13:03:42.480Z"
   },
   {
    "duration": 10,
    "start_time": "2022-08-20T13:03:42.504Z"
   },
   {
    "duration": 53,
    "start_time": "2022-08-20T13:03:42.516Z"
   },
   {
    "duration": 13,
    "start_time": "2022-08-20T13:03:42.572Z"
   },
   {
    "duration": 9,
    "start_time": "2022-08-20T13:03:42.599Z"
   },
   {
    "duration": 5,
    "start_time": "2022-08-20T13:03:42.609Z"
   },
   {
    "duration": 9,
    "start_time": "2022-08-20T13:03:42.616Z"
   },
   {
    "duration": 15,
    "start_time": "2022-08-20T13:03:42.626Z"
   },
   {
    "duration": 4,
    "start_time": "2022-08-20T13:03:42.642Z"
   },
   {
    "duration": 10,
    "start_time": "2022-08-20T13:03:42.648Z"
   },
   {
    "duration": 4,
    "start_time": "2022-08-20T13:03:42.659Z"
   },
   {
    "duration": 47,
    "start_time": "2022-08-20T13:03:42.664Z"
   },
   {
    "duration": 146,
    "start_time": "2022-08-20T13:03:42.713Z"
   },
   {
    "duration": 15,
    "start_time": "2022-08-20T13:03:42.861Z"
   },
   {
    "duration": 4,
    "start_time": "2022-08-20T13:03:42.877Z"
   },
   {
    "duration": 68,
    "start_time": "2022-08-20T13:03:42.882Z"
   },
   {
    "duration": 12,
    "start_time": "2022-08-20T13:03:42.952Z"
   },
   {
    "duration": 12,
    "start_time": "2022-08-20T13:03:42.965Z"
   },
   {
    "duration": 33,
    "start_time": "2022-08-20T13:03:42.979Z"
   },
   {
    "duration": 18,
    "start_time": "2022-08-20T13:03:43.013Z"
   },
   {
    "duration": 1534,
    "start_time": "2022-08-20T13:03:43.032Z"
   },
   {
    "duration": 462,
    "start_time": "2022-08-20T13:03:44.570Z"
   },
   {
    "duration": 39,
    "start_time": "2022-08-20T13:03:45.033Z"
   },
   {
    "duration": 2801,
    "start_time": "2022-08-20T13:03:45.074Z"
   },
   {
    "duration": 194,
    "start_time": "2022-08-20T13:03:47.876Z"
   },
   {
    "duration": 175,
    "start_time": "2022-08-20T13:03:48.071Z"
   },
   {
    "duration": 139,
    "start_time": "2022-08-20T13:03:48.248Z"
   },
   {
    "duration": 138,
    "start_time": "2022-08-20T13:03:48.389Z"
   },
   {
    "duration": 133,
    "start_time": "2022-08-20T13:03:48.528Z"
   },
   {
    "duration": 149,
    "start_time": "2022-08-20T13:03:48.662Z"
   },
   {
    "duration": 128,
    "start_time": "2022-08-20T13:03:48.813Z"
   },
   {
    "duration": 136,
    "start_time": "2022-08-20T13:03:48.943Z"
   },
   {
    "duration": 112,
    "start_time": "2022-08-20T13:03:49.080Z"
   },
   {
    "duration": 0,
    "start_time": "2022-08-20T13:03:49.198Z"
   },
   {
    "duration": 8,
    "start_time": "2022-08-20T13:04:03.068Z"
   },
   {
    "duration": 29,
    "start_time": "2022-08-20T13:04:05.519Z"
   },
   {
    "duration": 11,
    "start_time": "2022-08-20T13:04:17.697Z"
   },
   {
    "duration": 30,
    "start_time": "2022-08-20T13:04:20.030Z"
   },
   {
    "duration": 9,
    "start_time": "2022-08-20T13:17:20.668Z"
   },
   {
    "duration": 7,
    "start_time": "2022-08-20T13:17:32.122Z"
   },
   {
    "duration": 9,
    "start_time": "2022-08-20T13:17:33.848Z"
   },
   {
    "duration": 3,
    "start_time": "2022-08-20T13:19:13.022Z"
   },
   {
    "duration": 12,
    "start_time": "2022-08-20T13:19:14.425Z"
   },
   {
    "duration": 1072,
    "start_time": "2022-08-20T13:19:24.550Z"
   },
   {
    "duration": 70,
    "start_time": "2022-08-20T13:19:25.624Z"
   },
   {
    "duration": 21,
    "start_time": "2022-08-20T13:19:25.696Z"
   },
   {
    "duration": 695,
    "start_time": "2022-08-20T13:19:25.720Z"
   },
   {
    "duration": 3,
    "start_time": "2022-08-20T13:19:26.417Z"
   },
   {
    "duration": 19,
    "start_time": "2022-08-20T13:19:26.421Z"
   },
   {
    "duration": 2,
    "start_time": "2022-08-20T13:19:26.442Z"
   },
   {
    "duration": 11,
    "start_time": "2022-08-20T13:19:26.445Z"
   },
   {
    "duration": 65,
    "start_time": "2022-08-20T13:19:26.457Z"
   },
   {
    "duration": 18,
    "start_time": "2022-08-20T13:19:26.524Z"
   },
   {
    "duration": 4,
    "start_time": "2022-08-20T13:19:26.544Z"
   },
   {
    "duration": 7,
    "start_time": "2022-08-20T13:19:26.550Z"
   },
   {
    "duration": 7,
    "start_time": "2022-08-20T13:19:26.558Z"
   },
   {
    "duration": 38,
    "start_time": "2022-08-20T13:19:26.566Z"
   },
   {
    "duration": 6,
    "start_time": "2022-08-20T13:19:26.605Z"
   },
   {
    "duration": 14,
    "start_time": "2022-08-20T13:19:26.613Z"
   },
   {
    "duration": 6,
    "start_time": "2022-08-20T13:19:26.629Z"
   },
   {
    "duration": 22,
    "start_time": "2022-08-20T13:19:26.636Z"
   },
   {
    "duration": 156,
    "start_time": "2022-08-20T13:19:26.660Z"
   },
   {
    "duration": 15,
    "start_time": "2022-08-20T13:19:26.818Z"
   },
   {
    "duration": 3,
    "start_time": "2022-08-20T13:19:26.834Z"
   },
   {
    "duration": 65,
    "start_time": "2022-08-20T13:19:26.839Z"
   },
   {
    "duration": 13,
    "start_time": "2022-08-20T13:19:26.906Z"
   },
   {
    "duration": 15,
    "start_time": "2022-08-20T13:19:26.921Z"
   },
   {
    "duration": 10,
    "start_time": "2022-08-20T13:19:26.937Z"
   },
   {
    "duration": 16,
    "start_time": "2022-08-20T13:19:26.948Z"
   },
   {
    "duration": 1368,
    "start_time": "2022-08-20T13:19:26.965Z"
   },
   {
    "duration": 401,
    "start_time": "2022-08-20T13:19:28.336Z"
   },
   {
    "duration": 34,
    "start_time": "2022-08-20T13:19:28.739Z"
   },
   {
    "duration": 2795,
    "start_time": "2022-08-20T13:19:28.774Z"
   },
   {
    "duration": 180,
    "start_time": "2022-08-20T13:19:31.571Z"
   },
   {
    "duration": 164,
    "start_time": "2022-08-20T13:19:31.752Z"
   },
   {
    "duration": 155,
    "start_time": "2022-08-20T13:19:31.918Z"
   },
   {
    "duration": 137,
    "start_time": "2022-08-20T13:19:32.075Z"
   },
   {
    "duration": 162,
    "start_time": "2022-08-20T13:19:32.214Z"
   },
   {
    "duration": 139,
    "start_time": "2022-08-20T13:19:32.378Z"
   },
   {
    "duration": 130,
    "start_time": "2022-08-20T13:19:32.518Z"
   },
   {
    "duration": 145,
    "start_time": "2022-08-20T13:19:32.650Z"
   },
   {
    "duration": 17,
    "start_time": "2022-08-20T13:19:32.797Z"
   },
   {
    "duration": 33,
    "start_time": "2022-08-20T13:19:32.816Z"
   },
   {
    "duration": 3,
    "start_time": "2022-08-20T13:19:32.850Z"
   },
   {
    "duration": 12,
    "start_time": "2022-08-20T13:19:32.855Z"
   },
   {
    "duration": 8,
    "start_time": "2022-08-20T13:19:32.869Z"
   },
   {
    "duration": 1110,
    "start_time": "2022-08-20T13:21:03.838Z"
   },
   {
    "duration": 74,
    "start_time": "2022-08-20T13:21:04.950Z"
   },
   {
    "duration": 13,
    "start_time": "2022-08-20T13:21:05.025Z"
   },
   {
    "duration": 699,
    "start_time": "2022-08-20T13:21:05.039Z"
   },
   {
    "duration": 3,
    "start_time": "2022-08-20T13:21:05.741Z"
   },
   {
    "duration": 21,
    "start_time": "2022-08-20T13:21:05.745Z"
   },
   {
    "duration": 2,
    "start_time": "2022-08-20T13:21:05.768Z"
   },
   {
    "duration": 14,
    "start_time": "2022-08-20T13:21:05.771Z"
   },
   {
    "duration": 56,
    "start_time": "2022-08-20T13:21:05.787Z"
   },
   {
    "duration": 13,
    "start_time": "2022-08-20T13:21:05.844Z"
   },
   {
    "duration": 4,
    "start_time": "2022-08-20T13:21:05.858Z"
   },
   {
    "duration": 8,
    "start_time": "2022-08-20T13:21:05.863Z"
   },
   {
    "duration": 7,
    "start_time": "2022-08-20T13:21:05.872Z"
   },
   {
    "duration": 16,
    "start_time": "2022-08-20T13:21:05.908Z"
   },
   {
    "duration": 3,
    "start_time": "2022-08-20T13:21:05.926Z"
   },
   {
    "duration": 10,
    "start_time": "2022-08-20T13:21:05.931Z"
   },
   {
    "duration": 3,
    "start_time": "2022-08-20T13:21:05.943Z"
   },
   {
    "duration": 26,
    "start_time": "2022-08-20T13:21:05.947Z"
   },
   {
    "duration": 162,
    "start_time": "2022-08-20T13:21:05.975Z"
   },
   {
    "duration": 16,
    "start_time": "2022-08-20T13:21:06.138Z"
   },
   {
    "duration": 4,
    "start_time": "2022-08-20T13:21:06.155Z"
   },
   {
    "duration": 69,
    "start_time": "2022-08-20T13:21:06.160Z"
   },
   {
    "duration": 13,
    "start_time": "2022-08-20T13:21:06.230Z"
   },
   {
    "duration": 12,
    "start_time": "2022-08-20T13:21:06.244Z"
   },
   {
    "duration": 10,
    "start_time": "2022-08-20T13:21:06.258Z"
   },
   {
    "duration": 35,
    "start_time": "2022-08-20T13:21:06.269Z"
   },
   {
    "duration": 1356,
    "start_time": "2022-08-20T13:21:06.305Z"
   },
   {
    "duration": 448,
    "start_time": "2022-08-20T13:21:07.663Z"
   },
   {
    "duration": 33,
    "start_time": "2022-08-20T13:21:08.112Z"
   },
   {
    "duration": 2698,
    "start_time": "2022-08-20T13:21:08.147Z"
   },
   {
    "duration": 172,
    "start_time": "2022-08-20T13:21:10.846Z"
   },
   {
    "duration": 159,
    "start_time": "2022-08-20T13:21:11.019Z"
   },
   {
    "duration": 138,
    "start_time": "2022-08-20T13:21:11.179Z"
   },
   {
    "duration": 134,
    "start_time": "2022-08-20T13:21:11.318Z"
   },
   {
    "duration": 126,
    "start_time": "2022-08-20T13:21:11.454Z"
   },
   {
    "duration": 138,
    "start_time": "2022-08-20T13:21:11.581Z"
   },
   {
    "duration": 118,
    "start_time": "2022-08-20T13:21:11.721Z"
   },
   {
    "duration": 148,
    "start_time": "2022-08-20T13:21:11.840Z"
   },
   {
    "duration": 21,
    "start_time": "2022-08-20T13:21:11.989Z"
   },
   {
    "duration": 56,
    "start_time": "2022-08-20T13:21:12.012Z"
   },
   {
    "duration": 9,
    "start_time": "2022-08-20T13:21:12.071Z"
   },
   {
    "duration": 26,
    "start_time": "2022-08-20T13:21:12.082Z"
   },
   {
    "duration": 31,
    "start_time": "2022-08-20T13:21:12.111Z"
   },
   {
    "duration": 152,
    "start_time": "2022-08-20T13:21:12.143Z"
   },
   {
    "duration": 0,
    "start_time": "2022-08-20T13:21:12.298Z"
   },
   {
    "duration": 7,
    "start_time": "2022-08-20T13:21:28.076Z"
   },
   {
    "duration": 5,
    "start_time": "2022-08-20T13:21:29.238Z"
   },
   {
    "duration": 1053,
    "start_time": "2022-08-20T13:21:37.120Z"
   },
   {
    "duration": 79,
    "start_time": "2022-08-20T13:21:38.175Z"
   },
   {
    "duration": 13,
    "start_time": "2022-08-20T13:21:38.255Z"
   },
   {
    "duration": 681,
    "start_time": "2022-08-20T13:21:38.269Z"
   },
   {
    "duration": 3,
    "start_time": "2022-08-20T13:21:38.952Z"
   },
   {
    "duration": 18,
    "start_time": "2022-08-20T13:21:38.956Z"
   },
   {
    "duration": 2,
    "start_time": "2022-08-20T13:21:38.976Z"
   },
   {
    "duration": 24,
    "start_time": "2022-08-20T13:21:38.979Z"
   },
   {
    "duration": 50,
    "start_time": "2022-08-20T13:21:39.008Z"
   },
   {
    "duration": 16,
    "start_time": "2022-08-20T13:21:39.059Z"
   },
   {
    "duration": 4,
    "start_time": "2022-08-20T13:21:39.077Z"
   },
   {
    "duration": 26,
    "start_time": "2022-08-20T13:21:39.083Z"
   },
   {
    "duration": 7,
    "start_time": "2022-08-20T13:21:39.110Z"
   },
   {
    "duration": 13,
    "start_time": "2022-08-20T13:21:39.120Z"
   },
   {
    "duration": 4,
    "start_time": "2022-08-20T13:21:39.134Z"
   },
   {
    "duration": 11,
    "start_time": "2022-08-20T13:21:39.140Z"
   },
   {
    "duration": 3,
    "start_time": "2022-08-20T13:21:39.153Z"
   },
   {
    "duration": 18,
    "start_time": "2022-08-20T13:21:39.158Z"
   },
   {
    "duration": 166,
    "start_time": "2022-08-20T13:21:39.177Z"
   },
   {
    "duration": 15,
    "start_time": "2022-08-20T13:21:39.344Z"
   },
   {
    "duration": 3,
    "start_time": "2022-08-20T13:21:39.361Z"
   },
   {
    "duration": 76,
    "start_time": "2022-08-20T13:21:39.365Z"
   },
   {
    "duration": 11,
    "start_time": "2022-08-20T13:21:39.443Z"
   },
   {
    "duration": 12,
    "start_time": "2022-08-20T13:21:39.455Z"
   },
   {
    "duration": 11,
    "start_time": "2022-08-20T13:21:39.468Z"
   },
   {
    "duration": 31,
    "start_time": "2022-08-20T13:21:39.480Z"
   },
   {
    "duration": 1412,
    "start_time": "2022-08-20T13:21:39.513Z"
   },
   {
    "duration": 388,
    "start_time": "2022-08-20T13:21:40.927Z"
   },
   {
    "duration": 41,
    "start_time": "2022-08-20T13:21:41.316Z"
   },
   {
    "duration": 2708,
    "start_time": "2022-08-20T13:21:41.358Z"
   },
   {
    "duration": 169,
    "start_time": "2022-08-20T13:21:44.068Z"
   },
   {
    "duration": 174,
    "start_time": "2022-08-20T13:21:44.239Z"
   },
   {
    "duration": 160,
    "start_time": "2022-08-20T13:21:44.416Z"
   },
   {
    "duration": 143,
    "start_time": "2022-08-20T13:21:44.577Z"
   },
   {
    "duration": 117,
    "start_time": "2022-08-20T13:21:44.721Z"
   },
   {
    "duration": 146,
    "start_time": "2022-08-20T13:21:44.840Z"
   },
   {
    "duration": 144,
    "start_time": "2022-08-20T13:21:44.988Z"
   },
   {
    "duration": 147,
    "start_time": "2022-08-20T13:21:45.133Z"
   },
   {
    "duration": 27,
    "start_time": "2022-08-20T13:21:45.282Z"
   },
   {
    "duration": 27,
    "start_time": "2022-08-20T13:21:45.310Z"
   },
   {
    "duration": 2,
    "start_time": "2022-08-20T13:21:45.340Z"
   },
   {
    "duration": 8,
    "start_time": "2022-08-20T13:21:45.344Z"
   },
   {
    "duration": 6,
    "start_time": "2022-08-20T13:21:45.354Z"
   },
   {
    "duration": 9,
    "start_time": "2022-08-20T13:21:45.361Z"
   },
   {
    "duration": 5,
    "start_time": "2022-08-20T13:21:45.372Z"
   },
   {
    "duration": 1040,
    "start_time": "2022-08-20T13:59:40.128Z"
   },
   {
    "duration": 68,
    "start_time": "2022-08-20T13:59:41.170Z"
   },
   {
    "duration": 12,
    "start_time": "2022-08-20T13:59:41.239Z"
   },
   {
    "duration": 655,
    "start_time": "2022-08-20T13:59:41.253Z"
   },
   {
    "duration": 3,
    "start_time": "2022-08-20T13:59:41.910Z"
   },
   {
    "duration": 17,
    "start_time": "2022-08-20T13:59:41.915Z"
   },
   {
    "duration": 3,
    "start_time": "2022-08-20T13:59:41.933Z"
   },
   {
    "duration": 11,
    "start_time": "2022-08-20T13:59:41.937Z"
   },
   {
    "duration": 78,
    "start_time": "2022-08-20T13:59:41.950Z"
   },
   {
    "duration": 13,
    "start_time": "2022-08-20T13:59:42.030Z"
   },
   {
    "duration": 4,
    "start_time": "2022-08-20T13:59:42.045Z"
   },
   {
    "duration": 7,
    "start_time": "2022-08-20T13:59:42.050Z"
   },
   {
    "duration": 12,
    "start_time": "2022-08-20T13:59:42.058Z"
   },
   {
    "duration": 13,
    "start_time": "2022-08-20T13:59:42.072Z"
   },
   {
    "duration": 4,
    "start_time": "2022-08-20T13:59:42.098Z"
   },
   {
    "duration": 11,
    "start_time": "2022-08-20T13:59:42.103Z"
   },
   {
    "duration": 4,
    "start_time": "2022-08-20T13:59:42.116Z"
   },
   {
    "duration": 20,
    "start_time": "2022-08-20T13:59:42.122Z"
   },
   {
    "duration": 162,
    "start_time": "2022-08-20T13:59:42.143Z"
   },
   {
    "duration": 15,
    "start_time": "2022-08-20T13:59:42.307Z"
   },
   {
    "duration": 3,
    "start_time": "2022-08-20T13:59:42.324Z"
   },
   {
    "duration": 52,
    "start_time": "2022-08-20T13:59:42.329Z"
   },
   {
    "duration": 6,
    "start_time": "2022-08-20T13:59:42.398Z"
   },
   {
    "duration": 16,
    "start_time": "2022-08-20T13:59:42.405Z"
   },
   {
    "duration": 11,
    "start_time": "2022-08-20T13:59:42.422Z"
   },
   {
    "duration": 1326,
    "start_time": "2022-08-20T13:59:42.435Z"
   },
   {
    "duration": 424,
    "start_time": "2022-08-20T13:59:43.763Z"
   },
   {
    "duration": 39,
    "start_time": "2022-08-20T13:59:44.191Z"
   },
   {
    "duration": 2730,
    "start_time": "2022-08-20T13:59:44.232Z"
   },
   {
    "duration": 171,
    "start_time": "2022-08-20T13:59:46.964Z"
   },
   {
    "duration": 163,
    "start_time": "2022-08-20T13:59:47.137Z"
   },
   {
    "duration": 136,
    "start_time": "2022-08-20T13:59:47.302Z"
   },
   {
    "duration": 133,
    "start_time": "2022-08-20T13:59:47.439Z"
   },
   {
    "duration": 124,
    "start_time": "2022-08-20T13:59:47.574Z"
   },
   {
    "duration": 138,
    "start_time": "2022-08-20T13:59:47.699Z"
   },
   {
    "duration": 130,
    "start_time": "2022-08-20T13:59:47.839Z"
   },
   {
    "duration": 148,
    "start_time": "2022-08-20T13:59:47.971Z"
   },
   {
    "duration": 9,
    "start_time": "2022-08-20T13:59:48.120Z"
   },
   {
    "duration": 30,
    "start_time": "2022-08-20T13:59:48.130Z"
   },
   {
    "duration": 2,
    "start_time": "2022-08-20T13:59:48.161Z"
   },
   {
    "duration": 10,
    "start_time": "2022-08-20T13:59:48.164Z"
   },
   {
    "duration": 103,
    "start_time": "2022-08-20T13:59:48.198Z"
   },
   {
    "duration": 0,
    "start_time": "2022-08-20T13:59:48.302Z"
   },
   {
    "duration": 0,
    "start_time": "2022-08-20T13:59:48.303Z"
   },
   {
    "duration": 5,
    "start_time": "2022-08-20T13:59:57.792Z"
   },
   {
    "duration": 9,
    "start_time": "2022-08-20T14:00:02.447Z"
   },
   {
    "duration": 6,
    "start_time": "2022-08-20T14:00:03.599Z"
   },
   {
    "duration": 5,
    "start_time": "2022-08-20T14:01:25.148Z"
   },
   {
    "duration": 4,
    "start_time": "2022-08-20T14:02:57.354Z"
   },
   {
    "duration": 1025,
    "start_time": "2022-08-20T14:17:32.333Z"
   },
   {
    "duration": 70,
    "start_time": "2022-08-20T14:17:33.360Z"
   },
   {
    "duration": 13,
    "start_time": "2022-08-20T14:17:33.432Z"
   },
   {
    "duration": 685,
    "start_time": "2022-08-20T14:17:33.447Z"
   },
   {
    "duration": 3,
    "start_time": "2022-08-20T14:17:34.134Z"
   },
   {
    "duration": 29,
    "start_time": "2022-08-20T14:17:34.138Z"
   },
   {
    "duration": 4,
    "start_time": "2022-08-20T14:17:34.169Z"
   },
   {
    "duration": 11,
    "start_time": "2022-08-20T14:17:34.174Z"
   },
   {
    "duration": 83,
    "start_time": "2022-08-20T14:17:34.186Z"
   },
   {
    "duration": 27,
    "start_time": "2022-08-20T14:17:34.271Z"
   },
   {
    "duration": 4,
    "start_time": "2022-08-20T14:17:34.300Z"
   },
   {
    "duration": 5,
    "start_time": "2022-08-20T14:17:34.305Z"
   },
   {
    "duration": 6,
    "start_time": "2022-08-20T14:17:34.311Z"
   },
   {
    "duration": 16,
    "start_time": "2022-08-20T14:17:34.319Z"
   },
   {
    "duration": 4,
    "start_time": "2022-08-20T14:17:34.336Z"
   },
   {
    "duration": 13,
    "start_time": "2022-08-20T14:17:34.341Z"
   },
   {
    "duration": 4,
    "start_time": "2022-08-20T14:17:34.355Z"
   },
   {
    "duration": 53,
    "start_time": "2022-08-20T14:17:34.360Z"
   },
   {
    "duration": 198,
    "start_time": "2022-08-20T14:17:34.415Z"
   },
   {
    "duration": 22,
    "start_time": "2022-08-20T14:17:34.615Z"
   },
   {
    "duration": 5,
    "start_time": "2022-08-20T14:17:34.639Z"
   },
   {
    "duration": 79,
    "start_time": "2022-08-20T14:17:34.646Z"
   },
   {
    "duration": 5,
    "start_time": "2022-08-20T14:17:34.727Z"
   },
   {
    "duration": 12,
    "start_time": "2022-08-20T14:17:34.733Z"
   },
   {
    "duration": 14,
    "start_time": "2022-08-20T14:17:34.747Z"
   },
   {
    "duration": 1487,
    "start_time": "2022-08-20T14:17:34.763Z"
   },
   {
    "duration": 439,
    "start_time": "2022-08-20T14:17:36.251Z"
   },
   {
    "duration": 39,
    "start_time": "2022-08-20T14:17:36.692Z"
   },
   {
    "duration": 2783,
    "start_time": "2022-08-20T14:17:36.733Z"
   },
   {
    "duration": 192,
    "start_time": "2022-08-20T14:17:39.518Z"
   },
   {
    "duration": 173,
    "start_time": "2022-08-20T14:17:39.712Z"
   },
   {
    "duration": 149,
    "start_time": "2022-08-20T14:17:39.887Z"
   },
   {
    "duration": 133,
    "start_time": "2022-08-20T14:17:40.038Z"
   },
   {
    "duration": 158,
    "start_time": "2022-08-20T14:17:40.173Z"
   },
   {
    "duration": 167,
    "start_time": "2022-08-20T14:17:40.333Z"
   },
   {
    "duration": 123,
    "start_time": "2022-08-20T14:17:40.501Z"
   },
   {
    "duration": 148,
    "start_time": "2022-08-20T14:17:40.625Z"
   },
   {
    "duration": 10,
    "start_time": "2022-08-20T14:17:40.775Z"
   },
   {
    "duration": 44,
    "start_time": "2022-08-20T14:17:40.786Z"
   },
   {
    "duration": 2,
    "start_time": "2022-08-20T14:17:40.832Z"
   },
   {
    "duration": 11,
    "start_time": "2022-08-20T14:17:40.837Z"
   },
   {
    "duration": 6,
    "start_time": "2022-08-20T14:17:40.849Z"
   },
   {
    "duration": 12,
    "start_time": "2022-08-20T14:17:40.857Z"
   },
   {
    "duration": 33,
    "start_time": "2022-08-20T14:17:40.871Z"
   },
   {
    "duration": 1235,
    "start_time": "2022-08-20T18:06:25.007Z"
   },
   {
    "duration": 112,
    "start_time": "2022-08-20T18:06:26.246Z"
   },
   {
    "duration": 12,
    "start_time": "2022-08-20T18:06:26.360Z"
   },
   {
    "duration": 725,
    "start_time": "2022-08-20T18:06:26.374Z"
   },
   {
    "duration": 3,
    "start_time": "2022-08-20T18:06:27.101Z"
   },
   {
    "duration": 19,
    "start_time": "2022-08-20T18:06:27.106Z"
   },
   {
    "duration": 2,
    "start_time": "2022-08-20T18:06:27.127Z"
   },
   {
    "duration": 13,
    "start_time": "2022-08-20T18:06:27.130Z"
   },
   {
    "duration": 67,
    "start_time": "2022-08-20T18:06:27.145Z"
   },
   {
    "duration": 13,
    "start_time": "2022-08-20T18:06:27.215Z"
   },
   {
    "duration": 4,
    "start_time": "2022-08-20T18:06:27.229Z"
   },
   {
    "duration": 4,
    "start_time": "2022-08-20T18:06:27.235Z"
   },
   {
    "duration": 7,
    "start_time": "2022-08-20T18:06:27.241Z"
   },
   {
    "duration": 15,
    "start_time": "2022-08-20T18:06:27.249Z"
   },
   {
    "duration": 22,
    "start_time": "2022-08-20T18:06:27.265Z"
   },
   {
    "duration": 11,
    "start_time": "2022-08-20T18:06:27.299Z"
   },
   {
    "duration": 10,
    "start_time": "2022-08-20T18:06:27.311Z"
   },
   {
    "duration": 17,
    "start_time": "2022-08-20T18:06:27.322Z"
   },
   {
    "duration": 146,
    "start_time": "2022-08-20T18:06:27.340Z"
   },
   {
    "duration": 15,
    "start_time": "2022-08-20T18:06:27.495Z"
   },
   {
    "duration": 16,
    "start_time": "2022-08-20T18:06:27.512Z"
   },
   {
    "duration": 60,
    "start_time": "2022-08-20T18:06:27.529Z"
   },
   {
    "duration": 9,
    "start_time": "2022-08-20T18:06:27.591Z"
   },
   {
    "duration": 14,
    "start_time": "2022-08-20T18:06:27.602Z"
   },
   {
    "duration": 18,
    "start_time": "2022-08-20T18:06:27.618Z"
   },
   {
    "duration": 1483,
    "start_time": "2022-08-20T18:06:27.637Z"
   },
   {
    "duration": 426,
    "start_time": "2022-08-20T18:06:29.121Z"
   },
   {
    "duration": 48,
    "start_time": "2022-08-20T18:06:29.550Z"
   },
   {
    "duration": 3079,
    "start_time": "2022-08-20T18:06:29.600Z"
   },
   {
    "duration": 226,
    "start_time": "2022-08-20T18:06:32.686Z"
   },
   {
    "duration": 219,
    "start_time": "2022-08-20T18:06:32.914Z"
   },
   {
    "duration": 167,
    "start_time": "2022-08-20T18:06:33.134Z"
   },
   {
    "duration": 139,
    "start_time": "2022-08-20T18:06:33.303Z"
   },
   {
    "duration": 126,
    "start_time": "2022-08-20T18:06:33.443Z"
   },
   {
    "duration": 141,
    "start_time": "2022-08-20T18:06:33.570Z"
   },
   {
    "duration": 135,
    "start_time": "2022-08-20T18:06:33.712Z"
   },
   {
    "duration": 160,
    "start_time": "2022-08-20T18:06:33.849Z"
   },
   {
    "duration": 10,
    "start_time": "2022-08-20T18:06:34.011Z"
   },
   {
    "duration": 27,
    "start_time": "2022-08-20T18:06:34.022Z"
   },
   {
    "duration": 2,
    "start_time": "2022-08-20T18:06:34.051Z"
   },
   {
    "duration": 30,
    "start_time": "2022-08-20T18:06:34.055Z"
   },
   {
    "duration": 9,
    "start_time": "2022-08-20T18:06:34.100Z"
   },
   {
    "duration": 13,
    "start_time": "2022-08-20T18:06:34.111Z"
   },
   {
    "duration": 12,
    "start_time": "2022-08-20T18:06:34.126Z"
   },
   {
    "duration": 85,
    "start_time": "2022-08-20T18:07:28.012Z"
   },
   {
    "duration": 126,
    "start_time": "2022-08-20T18:38:08.545Z"
   },
   {
    "duration": 116,
    "start_time": "2022-08-20T18:38:24.213Z"
   },
   {
    "duration": 42,
    "start_time": "2022-08-20T19:57:46.524Z"
   },
   {
    "duration": 1221,
    "start_time": "2022-08-20T19:57:53.139Z"
   },
   {
    "duration": 120,
    "start_time": "2022-08-20T19:57:54.362Z"
   },
   {
    "duration": 15,
    "start_time": "2022-08-20T19:57:54.483Z"
   },
   {
    "duration": 737,
    "start_time": "2022-08-20T19:57:54.500Z"
   },
   {
    "duration": 8,
    "start_time": "2022-08-20T19:57:55.239Z"
   },
   {
    "duration": 3,
    "start_time": "2022-08-20T19:57:55.249Z"
   },
   {
    "duration": 38,
    "start_time": "2022-08-20T19:57:55.253Z"
   },
   {
    "duration": 2,
    "start_time": "2022-08-20T19:57:55.293Z"
   },
   {
    "duration": 9,
    "start_time": "2022-08-20T19:57:55.296Z"
   },
   {
    "duration": 50,
    "start_time": "2022-08-20T19:57:55.307Z"
   },
   {
    "duration": 34,
    "start_time": "2022-08-20T19:57:55.359Z"
   },
   {
    "duration": 3,
    "start_time": "2022-08-20T19:57:55.395Z"
   },
   {
    "duration": 5,
    "start_time": "2022-08-20T19:57:55.399Z"
   },
   {
    "duration": 5,
    "start_time": "2022-08-20T19:57:55.407Z"
   },
   {
    "duration": 17,
    "start_time": "2022-08-20T19:57:55.413Z"
   },
   {
    "duration": 3,
    "start_time": "2022-08-20T19:57:55.432Z"
   },
   {
    "duration": 13,
    "start_time": "2022-08-20T19:57:55.437Z"
   },
   {
    "duration": 34,
    "start_time": "2022-08-20T19:57:55.451Z"
   },
   {
    "duration": 16,
    "start_time": "2022-08-20T19:57:55.486Z"
   },
   {
    "duration": 166,
    "start_time": "2022-08-20T19:57:55.503Z"
   },
   {
    "duration": 24,
    "start_time": "2022-08-20T19:57:55.671Z"
   },
   {
    "duration": 3,
    "start_time": "2022-08-20T19:57:55.697Z"
   },
   {
    "duration": 57,
    "start_time": "2022-08-20T19:57:55.702Z"
   },
   {
    "duration": 26,
    "start_time": "2022-08-20T19:57:55.760Z"
   },
   {
    "duration": 10,
    "start_time": "2022-08-20T19:57:55.787Z"
   },
   {
    "duration": 14,
    "start_time": "2022-08-20T19:57:55.798Z"
   },
   {
    "duration": 1411,
    "start_time": "2022-08-20T19:57:55.814Z"
   },
   {
    "duration": 511,
    "start_time": "2022-08-20T19:57:57.226Z"
   },
   {
    "duration": 35,
    "start_time": "2022-08-20T19:57:57.738Z"
   },
   {
    "duration": 2956,
    "start_time": "2022-08-20T19:57:57.784Z"
   },
   {
    "duration": 189,
    "start_time": "2022-08-20T19:58:00.742Z"
   },
   {
    "duration": 182,
    "start_time": "2022-08-20T19:58:00.932Z"
   },
   {
    "duration": 172,
    "start_time": "2022-08-20T19:58:01.115Z"
   },
   {
    "duration": 141,
    "start_time": "2022-08-20T19:58:01.288Z"
   },
   {
    "duration": 136,
    "start_time": "2022-08-20T19:58:01.431Z"
   },
   {
    "duration": 224,
    "start_time": "2022-08-20T19:58:01.569Z"
   },
   {
    "duration": 132,
    "start_time": "2022-08-20T19:58:01.794Z"
   },
   {
    "duration": 140,
    "start_time": "2022-08-20T19:58:01.927Z"
   },
   {
    "duration": 9,
    "start_time": "2022-08-20T19:58:02.068Z"
   },
   {
    "duration": 32,
    "start_time": "2022-08-20T19:58:02.085Z"
   },
   {
    "duration": 3,
    "start_time": "2022-08-20T19:58:02.121Z"
   },
   {
    "duration": 47,
    "start_time": "2022-08-20T19:58:02.125Z"
   },
   {
    "duration": 7,
    "start_time": "2022-08-20T19:58:02.173Z"
   },
   {
    "duration": 14,
    "start_time": "2022-08-20T19:58:02.182Z"
   },
   {
    "duration": 9,
    "start_time": "2022-08-20T19:58:02.197Z"
   },
   {
    "duration": 122,
    "start_time": "2022-08-20T19:58:02.207Z"
   },
   {
    "duration": 983,
    "start_time": "2022-08-20T20:01:47.659Z"
   },
   {
    "duration": 1010,
    "start_time": "2022-08-20T20:01:58.141Z"
   },
   {
    "duration": 70,
    "start_time": "2022-08-20T20:01:59.153Z"
   },
   {
    "duration": 15,
    "start_time": "2022-08-20T20:01:59.226Z"
   },
   {
    "duration": 700,
    "start_time": "2022-08-20T20:01:59.242Z"
   },
   {
    "duration": 8,
    "start_time": "2022-08-20T20:01:59.944Z"
   },
   {
    "duration": 23,
    "start_time": "2022-08-20T20:01:59.953Z"
   },
   {
    "duration": 3,
    "start_time": "2022-08-20T20:01:59.978Z"
   },
   {
    "duration": 17,
    "start_time": "2022-08-20T20:01:59.982Z"
   },
   {
    "duration": 3,
    "start_time": "2022-08-20T20:02:00.000Z"
   },
   {
    "duration": 18,
    "start_time": "2022-08-20T20:02:00.004Z"
   },
   {
    "duration": 51,
    "start_time": "2022-08-20T20:02:00.023Z"
   },
   {
    "duration": 15,
    "start_time": "2022-08-20T20:02:00.076Z"
   },
   {
    "duration": 4,
    "start_time": "2022-08-20T20:02:00.092Z"
   },
   {
    "duration": 10,
    "start_time": "2022-08-20T20:02:00.098Z"
   },
   {
    "duration": 14,
    "start_time": "2022-08-20T20:02:00.109Z"
   },
   {
    "duration": 18,
    "start_time": "2022-08-20T20:02:00.124Z"
   },
   {
    "duration": 4,
    "start_time": "2022-08-20T20:02:00.144Z"
   },
   {
    "duration": 25,
    "start_time": "2022-08-20T20:02:00.149Z"
   },
   {
    "duration": 25,
    "start_time": "2022-08-20T20:02:00.175Z"
   },
   {
    "duration": 27,
    "start_time": "2022-08-20T20:02:00.201Z"
   },
   {
    "duration": 200,
    "start_time": "2022-08-20T20:02:00.229Z"
   },
   {
    "duration": 68,
    "start_time": "2022-08-20T20:02:00.430Z"
   },
   {
    "duration": 18,
    "start_time": "2022-08-20T20:02:00.500Z"
   },
   {
    "duration": 74,
    "start_time": "2022-08-20T20:02:00.520Z"
   },
   {
    "duration": 5,
    "start_time": "2022-08-20T20:02:00.596Z"
   },
   {
    "duration": 25,
    "start_time": "2022-08-20T20:02:00.603Z"
   },
   {
    "duration": 31,
    "start_time": "2022-08-20T20:02:00.630Z"
   },
   {
    "duration": 1367,
    "start_time": "2022-08-20T20:02:00.662Z"
   },
   {
    "duration": 400,
    "start_time": "2022-08-20T20:02:02.030Z"
   },
   {
    "duration": 55,
    "start_time": "2022-08-20T20:02:02.432Z"
   },
   {
    "duration": 2996,
    "start_time": "2022-08-20T20:02:02.488Z"
   },
   {
    "duration": 182,
    "start_time": "2022-08-20T20:02:05.486Z"
   },
   {
    "duration": 185,
    "start_time": "2022-08-20T20:02:05.669Z"
   },
   {
    "duration": 145,
    "start_time": "2022-08-20T20:02:05.856Z"
   },
   {
    "duration": 158,
    "start_time": "2022-08-20T20:02:06.003Z"
   },
   {
    "duration": 145,
    "start_time": "2022-08-20T20:02:06.162Z"
   },
   {
    "duration": 179,
    "start_time": "2022-08-20T20:02:06.309Z"
   },
   {
    "duration": 163,
    "start_time": "2022-08-20T20:02:06.490Z"
   },
   {
    "duration": 150,
    "start_time": "2022-08-20T20:02:06.654Z"
   },
   {
    "duration": 10,
    "start_time": "2022-08-20T20:02:06.806Z"
   },
   {
    "duration": 31,
    "start_time": "2022-08-20T20:02:06.820Z"
   },
   {
    "duration": 33,
    "start_time": "2022-08-20T20:02:06.853Z"
   },
   {
    "duration": 11,
    "start_time": "2022-08-20T20:02:06.888Z"
   },
   {
    "duration": 10,
    "start_time": "2022-08-20T20:02:06.900Z"
   },
   {
    "duration": 11,
    "start_time": "2022-08-20T20:02:06.912Z"
   },
   {
    "duration": 7,
    "start_time": "2022-08-20T20:02:06.925Z"
   },
   {
    "duration": 127,
    "start_time": "2022-08-20T20:02:06.933Z"
   },
   {
    "duration": 951,
    "start_time": "2022-08-20T20:02:14.265Z"
   },
   {
    "duration": 30,
    "start_time": "2022-08-20T20:03:21.237Z"
   },
   {
    "duration": 1046,
    "start_time": "2022-08-20T20:05:48.207Z"
   },
   {
    "duration": 1024,
    "start_time": "2022-08-20T20:05:52.936Z"
   },
   {
    "duration": 74,
    "start_time": "2022-08-20T20:05:53.962Z"
   },
   {
    "duration": 15,
    "start_time": "2022-08-20T20:05:54.037Z"
   },
   {
    "duration": 825,
    "start_time": "2022-08-20T20:05:54.054Z"
   },
   {
    "duration": 30,
    "start_time": "2022-08-20T20:05:54.880Z"
   },
   {
    "duration": 21,
    "start_time": "2022-08-20T20:05:54.912Z"
   },
   {
    "duration": 3,
    "start_time": "2022-08-20T20:05:54.935Z"
   },
   {
    "duration": 9,
    "start_time": "2022-08-20T20:05:54.939Z"
   },
   {
    "duration": 4,
    "start_time": "2022-08-20T20:05:54.949Z"
   },
   {
    "duration": 9,
    "start_time": "2022-08-20T20:05:54.957Z"
   },
   {
    "duration": 47,
    "start_time": "2022-08-20T20:05:54.985Z"
   },
   {
    "duration": 10,
    "start_time": "2022-08-20T20:05:55.034Z"
   },
   {
    "duration": 6,
    "start_time": "2022-08-20T20:05:55.045Z"
   },
   {
    "duration": 37,
    "start_time": "2022-08-20T20:05:55.052Z"
   },
   {
    "duration": 7,
    "start_time": "2022-08-20T20:05:55.090Z"
   },
   {
    "duration": 13,
    "start_time": "2022-08-20T20:05:55.098Z"
   },
   {
    "duration": 4,
    "start_time": "2022-08-20T20:05:55.112Z"
   },
   {
    "duration": 7,
    "start_time": "2022-08-20T20:05:55.118Z"
   },
   {
    "duration": 6,
    "start_time": "2022-08-20T20:05:55.127Z"
   },
   {
    "duration": 19,
    "start_time": "2022-08-20T20:05:55.134Z"
   },
   {
    "duration": 176,
    "start_time": "2022-08-20T20:05:55.155Z"
   },
   {
    "duration": 15,
    "start_time": "2022-08-20T20:05:55.332Z"
   },
   {
    "duration": 7,
    "start_time": "2022-08-20T20:05:55.348Z"
   },
   {
    "duration": 65,
    "start_time": "2022-08-20T20:05:55.356Z"
   },
   {
    "duration": 5,
    "start_time": "2022-08-20T20:05:55.423Z"
   },
   {
    "duration": 11,
    "start_time": "2022-08-20T20:05:55.430Z"
   },
   {
    "duration": 15,
    "start_time": "2022-08-20T20:05:55.443Z"
   },
   {
    "duration": 983,
    "start_time": "2022-08-20T20:05:55.484Z"
   },
   {
    "duration": 400,
    "start_time": "2022-08-20T20:05:56.469Z"
   },
   {
    "duration": 46,
    "start_time": "2022-08-20T20:05:56.871Z"
   },
   {
    "duration": 1972,
    "start_time": "2022-08-20T20:05:56.919Z"
   },
   {
    "duration": 198,
    "start_time": "2022-08-20T20:05:58.893Z"
   },
   {
    "duration": 283,
    "start_time": "2022-08-20T20:05:59.093Z"
   },
   {
    "duration": 148,
    "start_time": "2022-08-20T20:05:59.377Z"
   },
   {
    "duration": 142,
    "start_time": "2022-08-20T20:05:59.526Z"
   },
   {
    "duration": 152,
    "start_time": "2022-08-20T20:05:59.671Z"
   },
   {
    "duration": 156,
    "start_time": "2022-08-20T20:05:59.824Z"
   },
   {
    "duration": 170,
    "start_time": "2022-08-20T20:05:59.984Z"
   },
   {
    "duration": 177,
    "start_time": "2022-08-20T20:06:00.156Z"
   },
   {
    "duration": 9,
    "start_time": "2022-08-20T20:06:00.334Z"
   },
   {
    "duration": 46,
    "start_time": "2022-08-20T20:06:00.345Z"
   },
   {
    "duration": 3,
    "start_time": "2022-08-20T20:06:00.392Z"
   },
   {
    "duration": 14,
    "start_time": "2022-08-20T20:06:00.396Z"
   },
   {
    "duration": 10,
    "start_time": "2022-08-20T20:06:00.411Z"
   },
   {
    "duration": 21,
    "start_time": "2022-08-20T20:06:00.422Z"
   },
   {
    "duration": 10,
    "start_time": "2022-08-20T20:06:00.444Z"
   },
   {
    "duration": 114,
    "start_time": "2022-08-20T20:06:00.455Z"
   },
   {
    "duration": 930,
    "start_time": "2022-08-20T20:08:04.760Z"
   },
   {
    "duration": 30,
    "start_time": "2022-08-20T20:10:37.215Z"
   },
   {
    "duration": 1083,
    "start_time": "2022-08-20T20:19:21.459Z"
   },
   {
    "duration": 70,
    "start_time": "2022-08-20T20:19:22.544Z"
   },
   {
    "duration": 13,
    "start_time": "2022-08-20T20:19:22.616Z"
   },
   {
    "duration": 819,
    "start_time": "2022-08-20T20:19:22.631Z"
   },
   {
    "duration": 33,
    "start_time": "2022-08-20T20:19:23.452Z"
   },
   {
    "duration": 10,
    "start_time": "2022-08-20T20:19:23.487Z"
   },
   {
    "duration": 4,
    "start_time": "2022-08-20T20:19:23.498Z"
   },
   {
    "duration": 9,
    "start_time": "2022-08-20T20:19:23.504Z"
   },
   {
    "duration": 4,
    "start_time": "2022-08-20T20:19:23.514Z"
   },
   {
    "duration": 8,
    "start_time": "2022-08-20T20:19:23.519Z"
   },
   {
    "duration": 80,
    "start_time": "2022-08-20T20:19:23.529Z"
   },
   {
    "duration": 9,
    "start_time": "2022-08-20T20:19:23.611Z"
   },
   {
    "duration": 3,
    "start_time": "2022-08-20T20:19:23.622Z"
   },
   {
    "duration": 4,
    "start_time": "2022-08-20T20:19:23.628Z"
   },
   {
    "duration": 7,
    "start_time": "2022-08-20T20:19:23.633Z"
   },
   {
    "duration": 8,
    "start_time": "2022-08-20T20:19:23.641Z"
   },
   {
    "duration": 36,
    "start_time": "2022-08-20T20:19:23.650Z"
   },
   {
    "duration": 7,
    "start_time": "2022-08-20T20:19:23.688Z"
   },
   {
    "duration": 6,
    "start_time": "2022-08-20T20:19:23.696Z"
   },
   {
    "duration": 18,
    "start_time": "2022-08-20T20:19:23.703Z"
   },
   {
    "duration": 173,
    "start_time": "2022-08-20T20:19:23.722Z"
   },
   {
    "duration": 13,
    "start_time": "2022-08-20T20:19:23.897Z"
   },
   {
    "duration": 9,
    "start_time": "2022-08-20T20:19:23.911Z"
   },
   {
    "duration": 69,
    "start_time": "2022-08-20T20:19:23.922Z"
   },
   {
    "duration": 5,
    "start_time": "2022-08-20T20:19:23.992Z"
   },
   {
    "duration": 17,
    "start_time": "2022-08-20T20:19:23.999Z"
   },
   {
    "duration": 13,
    "start_time": "2022-08-20T20:19:24.018Z"
   },
   {
    "duration": 1073,
    "start_time": "2022-08-20T20:19:24.033Z"
   },
   {
    "duration": 355,
    "start_time": "2022-08-20T20:19:25.108Z"
   },
   {
    "duration": 45,
    "start_time": "2022-08-20T20:19:25.465Z"
   },
   {
    "duration": 1986,
    "start_time": "2022-08-20T20:19:25.511Z"
   },
   {
    "duration": 194,
    "start_time": "2022-08-20T20:19:27.499Z"
   },
   {
    "duration": 290,
    "start_time": "2022-08-20T20:19:27.695Z"
   },
   {
    "duration": 224,
    "start_time": "2022-08-20T20:19:27.987Z"
   },
   {
    "duration": 147,
    "start_time": "2022-08-20T20:19:28.213Z"
   },
   {
    "duration": 175,
    "start_time": "2022-08-20T20:19:28.362Z"
   },
   {
    "duration": 161,
    "start_time": "2022-08-20T20:19:28.539Z"
   },
   {
    "duration": 150,
    "start_time": "2022-08-20T20:19:28.701Z"
   },
   {
    "duration": 150,
    "start_time": "2022-08-20T20:19:28.852Z"
   },
   {
    "duration": 8,
    "start_time": "2022-08-20T20:19:29.004Z"
   },
   {
    "duration": 31,
    "start_time": "2022-08-20T20:19:29.016Z"
   },
   {
    "duration": 3,
    "start_time": "2022-08-20T20:19:29.048Z"
   },
   {
    "duration": 39,
    "start_time": "2022-08-20T20:19:29.053Z"
   },
   {
    "duration": 7,
    "start_time": "2022-08-20T20:19:29.094Z"
   },
   {
    "duration": 9,
    "start_time": "2022-08-20T20:19:29.103Z"
   },
   {
    "duration": 6,
    "start_time": "2022-08-20T20:19:29.114Z"
   },
   {
    "duration": 137,
    "start_time": "2022-08-20T20:19:29.122Z"
   },
   {
    "duration": 4,
    "start_time": "2022-08-20T20:22:25.119Z"
   },
   {
    "duration": 53,
    "start_time": "2022-08-20T20:28:20.769Z"
   },
   {
    "duration": 45,
    "start_time": "2022-08-20T20:29:15.839Z"
   },
   {
    "duration": 45,
    "start_time": "2022-08-20T20:36:45.439Z"
   },
   {
    "duration": 104,
    "start_time": "2022-08-20T20:36:52.038Z"
   },
   {
    "duration": 23,
    "start_time": "2022-08-20T20:36:59.349Z"
   },
   {
    "duration": 13,
    "start_time": "2022-08-20T20:37:13.249Z"
   },
   {
    "duration": 1174,
    "start_time": "2022-08-20T20:37:49.080Z"
   },
   {
    "duration": 74,
    "start_time": "2022-08-20T20:37:50.256Z"
   },
   {
    "duration": 13,
    "start_time": "2022-08-20T20:37:50.332Z"
   },
   {
    "duration": 768,
    "start_time": "2022-08-20T20:37:50.347Z"
   },
   {
    "duration": 30,
    "start_time": "2022-08-20T20:37:51.117Z"
   },
   {
    "duration": 8,
    "start_time": "2022-08-20T20:37:51.149Z"
   },
   {
    "duration": 4,
    "start_time": "2022-08-20T20:37:51.158Z"
   },
   {
    "duration": 7,
    "start_time": "2022-08-20T20:37:51.186Z"
   },
   {
    "duration": 4,
    "start_time": "2022-08-20T20:37:51.195Z"
   },
   {
    "duration": 7,
    "start_time": "2022-08-20T20:37:51.201Z"
   },
   {
    "duration": 45,
    "start_time": "2022-08-20T20:37:51.209Z"
   },
   {
    "duration": 10,
    "start_time": "2022-08-20T20:37:51.284Z"
   },
   {
    "duration": 3,
    "start_time": "2022-08-20T20:37:51.296Z"
   },
   {
    "duration": 6,
    "start_time": "2022-08-20T20:37:51.302Z"
   },
   {
    "duration": 6,
    "start_time": "2022-08-20T20:37:51.309Z"
   },
   {
    "duration": 7,
    "start_time": "2022-08-20T20:37:51.317Z"
   },
   {
    "duration": 12,
    "start_time": "2022-08-20T20:37:51.325Z"
   },
   {
    "duration": 4,
    "start_time": "2022-08-20T20:37:51.339Z"
   },
   {
    "duration": 6,
    "start_time": "2022-08-20T20:37:51.385Z"
   },
   {
    "duration": 7,
    "start_time": "2022-08-20T20:37:51.392Z"
   },
   {
    "duration": 18,
    "start_time": "2022-08-20T20:37:51.400Z"
   },
   {
    "duration": 160,
    "start_time": "2022-08-20T20:37:51.420Z"
   },
   {
    "duration": 17,
    "start_time": "2022-08-20T20:37:51.581Z"
   },
   {
    "duration": 6,
    "start_time": "2022-08-20T20:37:51.600Z"
   },
   {
    "duration": 52,
    "start_time": "2022-08-20T20:37:51.608Z"
   },
   {
    "duration": 6,
    "start_time": "2022-08-20T20:37:51.686Z"
   },
   {
    "duration": 12,
    "start_time": "2022-08-20T20:37:51.693Z"
   },
   {
    "duration": 12,
    "start_time": "2022-08-20T20:37:51.707Z"
   },
   {
    "duration": 979,
    "start_time": "2022-08-20T20:37:51.720Z"
   },
   {
    "duration": 384,
    "start_time": "2022-08-20T20:37:52.701Z"
   },
   {
    "duration": 36,
    "start_time": "2022-08-20T20:37:53.086Z"
   },
   {
    "duration": 2041,
    "start_time": "2022-08-20T20:37:53.124Z"
   },
   {
    "duration": 176,
    "start_time": "2022-08-20T20:37:55.167Z"
   },
   {
    "duration": 203,
    "start_time": "2022-08-20T20:37:55.345Z"
   },
   {
    "duration": 251,
    "start_time": "2022-08-20T20:37:55.550Z"
   },
   {
    "duration": 141,
    "start_time": "2022-08-20T20:37:55.802Z"
   },
   {
    "duration": 144,
    "start_time": "2022-08-20T20:37:55.944Z"
   },
   {
    "duration": 157,
    "start_time": "2022-08-20T20:37:56.089Z"
   },
   {
    "duration": 154,
    "start_time": "2022-08-20T20:37:56.247Z"
   },
   {
    "duration": 160,
    "start_time": "2022-08-20T20:37:56.403Z"
   },
   {
    "duration": 17,
    "start_time": "2022-08-20T20:37:56.568Z"
   },
   {
    "duration": 33,
    "start_time": "2022-08-20T20:37:56.586Z"
   },
   {
    "duration": 3,
    "start_time": "2022-08-20T20:37:56.621Z"
   },
   {
    "duration": 9,
    "start_time": "2022-08-20T20:37:56.626Z"
   },
   {
    "duration": 5,
    "start_time": "2022-08-20T20:37:56.637Z"
   },
   {
    "duration": 8,
    "start_time": "2022-08-20T20:37:56.685Z"
   },
   {
    "duration": 7,
    "start_time": "2022-08-20T20:37:56.695Z"
   },
   {
    "duration": 129,
    "start_time": "2022-08-20T20:37:56.703Z"
   },
   {
    "duration": 22,
    "start_time": "2022-08-20T20:40:16.530Z"
   },
   {
    "duration": 14,
    "start_time": "2022-08-20T20:40:33.499Z"
   },
   {
    "duration": 22,
    "start_time": "2022-08-20T20:42:14.713Z"
   },
   {
    "duration": 33,
    "start_time": "2022-08-20T20:43:39.742Z"
   },
   {
    "duration": 1249,
    "start_time": "2022-08-20T20:44:02.858Z"
   },
   {
    "duration": 72,
    "start_time": "2022-08-20T20:44:04.109Z"
   },
   {
    "duration": 14,
    "start_time": "2022-08-20T20:44:04.182Z"
   },
   {
    "duration": 758,
    "start_time": "2022-08-20T20:44:04.198Z"
   },
   {
    "duration": 42,
    "start_time": "2022-08-20T20:44:04.959Z"
   },
   {
    "duration": 8,
    "start_time": "2022-08-20T20:44:05.003Z"
   },
   {
    "duration": 4,
    "start_time": "2022-08-20T20:44:05.012Z"
   },
   {
    "duration": 13,
    "start_time": "2022-08-20T20:44:05.017Z"
   },
   {
    "duration": 15,
    "start_time": "2022-08-20T20:44:05.032Z"
   },
   {
    "duration": 21,
    "start_time": "2022-08-20T20:44:05.048Z"
   },
   {
    "duration": 54,
    "start_time": "2022-08-20T20:44:05.070Z"
   },
   {
    "duration": 10,
    "start_time": "2022-08-20T20:44:05.125Z"
   },
   {
    "duration": 4,
    "start_time": "2022-08-20T20:44:05.136Z"
   },
   {
    "duration": 5,
    "start_time": "2022-08-20T20:44:05.143Z"
   },
   {
    "duration": 7,
    "start_time": "2022-08-20T20:44:05.149Z"
   },
   {
    "duration": 32,
    "start_time": "2022-08-20T20:44:05.157Z"
   },
   {
    "duration": 20,
    "start_time": "2022-08-20T20:44:05.191Z"
   },
   {
    "duration": 3,
    "start_time": "2022-08-20T20:44:05.213Z"
   },
   {
    "duration": 8,
    "start_time": "2022-08-20T20:44:05.218Z"
   },
   {
    "duration": 7,
    "start_time": "2022-08-20T20:44:05.227Z"
   },
   {
    "duration": 51,
    "start_time": "2022-08-20T20:44:05.235Z"
   },
   {
    "duration": 33,
    "start_time": "2022-08-20T20:44:05.288Z"
   },
   {
    "duration": 164,
    "start_time": "2022-08-20T20:44:05.323Z"
   },
   {
    "duration": 16,
    "start_time": "2022-08-20T20:44:05.488Z"
   },
   {
    "duration": 4,
    "start_time": "2022-08-20T20:44:05.505Z"
   },
   {
    "duration": 83,
    "start_time": "2022-08-20T20:44:05.510Z"
   },
   {
    "duration": 5,
    "start_time": "2022-08-20T20:44:05.594Z"
   },
   {
    "duration": 13,
    "start_time": "2022-08-20T20:44:05.601Z"
   },
   {
    "duration": 16,
    "start_time": "2022-08-20T20:44:05.616Z"
   },
   {
    "duration": 1067,
    "start_time": "2022-08-20T20:44:05.634Z"
   },
   {
    "duration": 353,
    "start_time": "2022-08-20T20:44:06.703Z"
   },
   {
    "duration": 46,
    "start_time": "2022-08-20T20:44:07.058Z"
   },
   {
    "duration": 2027,
    "start_time": "2022-08-20T20:44:07.105Z"
   },
   {
    "duration": 201,
    "start_time": "2022-08-20T20:44:09.133Z"
   },
   {
    "duration": 190,
    "start_time": "2022-08-20T20:44:09.336Z"
   },
   {
    "duration": 236,
    "start_time": "2022-08-20T20:44:09.528Z"
   },
   {
    "duration": 140,
    "start_time": "2022-08-20T20:44:09.766Z"
   },
   {
    "duration": 139,
    "start_time": "2022-08-20T20:44:09.907Z"
   },
   {
    "duration": 157,
    "start_time": "2022-08-20T20:44:10.048Z"
   },
   {
    "duration": 185,
    "start_time": "2022-08-20T20:44:10.207Z"
   },
   {
    "duration": 180,
    "start_time": "2022-08-20T20:44:10.396Z"
   },
   {
    "duration": 10,
    "start_time": "2022-08-20T20:44:10.578Z"
   },
   {
    "duration": 32,
    "start_time": "2022-08-20T20:44:10.590Z"
   },
   {
    "duration": 3,
    "start_time": "2022-08-20T20:44:10.624Z"
   },
   {
    "duration": 10,
    "start_time": "2022-08-20T20:44:10.629Z"
   },
   {
    "duration": 48,
    "start_time": "2022-08-20T20:44:10.641Z"
   },
   {
    "duration": 11,
    "start_time": "2022-08-20T20:44:10.691Z"
   },
   {
    "duration": 18,
    "start_time": "2022-08-20T20:44:10.704Z"
   },
   {
    "duration": 128,
    "start_time": "2022-08-20T20:44:10.724Z"
   },
   {
    "duration": 1119,
    "start_time": "2022-08-20T20:44:41.982Z"
   },
   {
    "duration": 80,
    "start_time": "2022-08-20T20:44:43.103Z"
   },
   {
    "duration": 15,
    "start_time": "2022-08-20T20:44:43.185Z"
   },
   {
    "duration": 724,
    "start_time": "2022-08-20T20:44:43.202Z"
   },
   {
    "duration": 27,
    "start_time": "2022-08-20T20:44:43.927Z"
   },
   {
    "duration": 15,
    "start_time": "2022-08-20T20:44:43.956Z"
   },
   {
    "duration": 13,
    "start_time": "2022-08-20T20:44:43.972Z"
   },
   {
    "duration": 8,
    "start_time": "2022-08-20T20:44:43.987Z"
   },
   {
    "duration": 17,
    "start_time": "2022-08-20T20:44:43.996Z"
   },
   {
    "duration": 9,
    "start_time": "2022-08-20T20:44:44.015Z"
   },
   {
    "duration": 59,
    "start_time": "2022-08-20T20:44:44.026Z"
   },
   {
    "duration": 9,
    "start_time": "2022-08-20T20:44:44.086Z"
   },
   {
    "duration": 8,
    "start_time": "2022-08-20T20:44:44.097Z"
   },
   {
    "duration": 7,
    "start_time": "2022-08-20T20:44:44.107Z"
   },
   {
    "duration": 12,
    "start_time": "2022-08-20T20:44:44.115Z"
   },
   {
    "duration": 12,
    "start_time": "2022-08-20T20:44:44.129Z"
   },
   {
    "duration": 2,
    "start_time": "2022-08-20T20:44:44.143Z"
   },
   {
    "duration": 6,
    "start_time": "2022-08-20T20:44:44.146Z"
   },
   {
    "duration": 36,
    "start_time": "2022-08-20T20:44:44.153Z"
   },
   {
    "duration": 8,
    "start_time": "2022-08-20T20:44:44.190Z"
   },
   {
    "duration": 22,
    "start_time": "2022-08-20T20:44:44.199Z"
   },
   {
    "duration": 31,
    "start_time": "2022-08-20T20:44:44.223Z"
   },
   {
    "duration": 170,
    "start_time": "2022-08-20T20:44:44.256Z"
   },
   {
    "duration": 18,
    "start_time": "2022-08-20T20:44:44.428Z"
   },
   {
    "duration": 9,
    "start_time": "2022-08-20T20:44:44.448Z"
   },
   {
    "duration": 80,
    "start_time": "2022-08-20T20:44:44.459Z"
   },
   {
    "duration": 6,
    "start_time": "2022-08-20T20:44:44.541Z"
   },
   {
    "duration": 21,
    "start_time": "2022-08-20T20:44:44.550Z"
   },
   {
    "duration": 21,
    "start_time": "2022-08-20T20:44:44.572Z"
   },
   {
    "duration": 1007,
    "start_time": "2022-08-20T20:44:44.595Z"
   },
   {
    "duration": 360,
    "start_time": "2022-08-20T20:44:45.603Z"
   },
   {
    "duration": 46,
    "start_time": "2022-08-20T20:44:45.965Z"
   },
   {
    "duration": 1964,
    "start_time": "2022-08-20T20:44:46.013Z"
   },
   {
    "duration": 176,
    "start_time": "2022-08-20T20:44:47.984Z"
   },
   {
    "duration": 293,
    "start_time": "2022-08-20T20:44:48.161Z"
   },
   {
    "duration": 163,
    "start_time": "2022-08-20T20:44:48.456Z"
   },
   {
    "duration": 147,
    "start_time": "2022-08-20T20:44:48.621Z"
   },
   {
    "duration": 153,
    "start_time": "2022-08-20T20:44:48.769Z"
   },
   {
    "duration": 152,
    "start_time": "2022-08-20T20:44:48.924Z"
   },
   {
    "duration": 168,
    "start_time": "2022-08-20T20:44:49.078Z"
   },
   {
    "duration": 158,
    "start_time": "2022-08-20T20:44:49.247Z"
   },
   {
    "duration": 8,
    "start_time": "2022-08-20T20:44:49.406Z"
   },
   {
    "duration": 30,
    "start_time": "2022-08-20T20:44:49.416Z"
   },
   {
    "duration": 2,
    "start_time": "2022-08-20T20:44:49.447Z"
   },
   {
    "duration": 36,
    "start_time": "2022-08-20T20:44:49.451Z"
   },
   {
    "duration": 7,
    "start_time": "2022-08-20T20:44:49.488Z"
   },
   {
    "duration": 12,
    "start_time": "2022-08-20T20:44:49.496Z"
   },
   {
    "duration": 7,
    "start_time": "2022-08-20T20:44:49.510Z"
   },
   {
    "duration": 136,
    "start_time": "2022-08-20T20:44:49.518Z"
   },
   {
    "duration": 10,
    "start_time": "2022-08-20T20:46:35.266Z"
   },
   {
    "duration": 4,
    "start_time": "2022-08-20T20:54:55.397Z"
   },
   {
    "duration": 1093,
    "start_time": "2022-08-20T20:55:04.915Z"
   },
   {
    "duration": 70,
    "start_time": "2022-08-20T20:55:06.010Z"
   },
   {
    "duration": 19,
    "start_time": "2022-08-20T20:55:06.082Z"
   },
   {
    "duration": 746,
    "start_time": "2022-08-20T20:55:06.104Z"
   },
   {
    "duration": 36,
    "start_time": "2022-08-20T20:55:06.852Z"
   },
   {
    "duration": 11,
    "start_time": "2022-08-20T20:55:06.890Z"
   },
   {
    "duration": 20,
    "start_time": "2022-08-20T20:55:06.903Z"
   },
   {
    "duration": 2,
    "start_time": "2022-08-20T20:55:06.924Z"
   },
   {
    "duration": 9,
    "start_time": "2022-08-20T20:55:06.927Z"
   },
   {
    "duration": 71,
    "start_time": "2022-08-20T20:55:06.939Z"
   },
   {
    "duration": 15,
    "start_time": "2022-08-20T20:55:07.012Z"
   },
   {
    "duration": 4,
    "start_time": "2022-08-20T20:55:07.029Z"
   },
   {
    "duration": 5,
    "start_time": "2022-08-20T20:55:07.035Z"
   },
   {
    "duration": 7,
    "start_time": "2022-08-20T20:55:07.042Z"
   },
   {
    "duration": 53,
    "start_time": "2022-08-20T20:55:07.050Z"
   },
   {
    "duration": 2,
    "start_time": "2022-08-20T20:55:07.105Z"
   },
   {
    "duration": 8,
    "start_time": "2022-08-20T20:55:07.109Z"
   },
   {
    "duration": 12,
    "start_time": "2022-08-20T20:55:07.119Z"
   },
   {
    "duration": 4,
    "start_time": "2022-08-20T20:55:07.132Z"
   },
   {
    "duration": 8,
    "start_time": "2022-08-20T20:55:07.137Z"
   },
   {
    "duration": 48,
    "start_time": "2022-08-20T20:55:07.146Z"
   },
   {
    "duration": 20,
    "start_time": "2022-08-20T20:55:07.197Z"
   },
   {
    "duration": 161,
    "start_time": "2022-08-20T20:55:07.218Z"
   },
   {
    "duration": 24,
    "start_time": "2022-08-20T20:55:07.380Z"
   },
   {
    "duration": 7,
    "start_time": "2022-08-20T20:55:07.405Z"
   },
   {
    "duration": 54,
    "start_time": "2022-08-20T20:55:07.413Z"
   },
   {
    "duration": 7,
    "start_time": "2022-08-20T20:55:07.484Z"
   },
   {
    "duration": 25,
    "start_time": "2022-08-20T20:55:07.496Z"
   },
   {
    "duration": 17,
    "start_time": "2022-08-20T20:55:07.523Z"
   },
   {
    "duration": 1606,
    "start_time": "2022-08-20T20:55:07.541Z"
   },
   {
    "duration": 486,
    "start_time": "2022-08-20T20:55:09.149Z"
   },
   {
    "duration": 52,
    "start_time": "2022-08-20T20:55:09.637Z"
   },
   {
    "duration": 3211,
    "start_time": "2022-08-20T20:55:09.690Z"
   },
   {
    "duration": 219,
    "start_time": "2022-08-20T20:55:12.903Z"
   },
   {
    "duration": 204,
    "start_time": "2022-08-20T20:55:13.124Z"
   },
   {
    "duration": 171,
    "start_time": "2022-08-20T20:55:13.329Z"
   },
   {
    "duration": 152,
    "start_time": "2022-08-20T20:55:13.502Z"
   },
   {
    "duration": 154,
    "start_time": "2022-08-20T20:55:13.656Z"
   },
   {
    "duration": 151,
    "start_time": "2022-08-20T20:55:13.811Z"
   },
   {
    "duration": 168,
    "start_time": "2022-08-20T20:55:13.964Z"
   },
   {
    "duration": 168,
    "start_time": "2022-08-20T20:55:14.133Z"
   },
   {
    "duration": 9,
    "start_time": "2022-08-20T20:55:14.303Z"
   },
   {
    "duration": 30,
    "start_time": "2022-08-20T20:55:14.314Z"
   },
   {
    "duration": 3,
    "start_time": "2022-08-20T20:55:14.345Z"
   },
   {
    "duration": 52,
    "start_time": "2022-08-20T20:55:14.350Z"
   },
   {
    "duration": 17,
    "start_time": "2022-08-20T20:55:14.404Z"
   },
   {
    "duration": 21,
    "start_time": "2022-08-20T20:55:14.423Z"
   },
   {
    "duration": 10,
    "start_time": "2022-08-20T20:55:14.446Z"
   },
   {
    "duration": 171,
    "start_time": "2022-08-20T20:55:14.458Z"
   },
   {
    "duration": 1057,
    "start_time": "2022-08-20T21:04:30.916Z"
   },
   {
    "duration": 73,
    "start_time": "2022-08-20T21:04:31.975Z"
   },
   {
    "duration": 13,
    "start_time": "2022-08-20T21:04:32.050Z"
   },
   {
    "duration": 769,
    "start_time": "2022-08-20T21:04:32.065Z"
   },
   {
    "duration": 48,
    "start_time": "2022-08-20T21:04:32.836Z"
   },
   {
    "duration": 4,
    "start_time": "2022-08-20T21:04:32.886Z"
   },
   {
    "duration": 26,
    "start_time": "2022-08-20T21:04:32.891Z"
   },
   {
    "duration": 2,
    "start_time": "2022-08-20T21:04:32.919Z"
   },
   {
    "duration": 12,
    "start_time": "2022-08-20T21:04:32.923Z"
   },
   {
    "duration": 74,
    "start_time": "2022-08-20T21:04:32.936Z"
   },
   {
    "duration": 13,
    "start_time": "2022-08-20T21:04:33.012Z"
   },
   {
    "duration": 3,
    "start_time": "2022-08-20T21:04:33.027Z"
   },
   {
    "duration": 6,
    "start_time": "2022-08-20T21:04:33.032Z"
   },
   {
    "duration": 8,
    "start_time": "2022-08-20T21:04:33.040Z"
   },
   {
    "duration": 36,
    "start_time": "2022-08-20T21:04:33.050Z"
   },
   {
    "duration": 24,
    "start_time": "2022-08-20T21:04:33.087Z"
   },
   {
    "duration": 4,
    "start_time": "2022-08-20T21:04:33.112Z"
   },
   {
    "duration": 11,
    "start_time": "2022-08-20T21:04:33.118Z"
   },
   {
    "duration": 4,
    "start_time": "2022-08-20T21:04:33.131Z"
   },
   {
    "duration": 8,
    "start_time": "2022-08-20T21:04:33.136Z"
   },
   {
    "duration": 54,
    "start_time": "2022-08-20T21:04:33.145Z"
   },
   {
    "duration": 16,
    "start_time": "2022-08-20T21:04:33.200Z"
   },
   {
    "duration": 163,
    "start_time": "2022-08-20T21:04:33.217Z"
   },
   {
    "duration": 16,
    "start_time": "2022-08-20T21:04:33.381Z"
   },
   {
    "duration": 4,
    "start_time": "2022-08-20T21:04:33.398Z"
   },
   {
    "duration": 53,
    "start_time": "2022-08-20T21:04:33.403Z"
   },
   {
    "duration": 5,
    "start_time": "2022-08-20T21:04:33.484Z"
   },
   {
    "duration": 10,
    "start_time": "2022-08-20T21:04:33.491Z"
   },
   {
    "duration": 12,
    "start_time": "2022-08-20T21:04:33.502Z"
   },
   {
    "duration": 1518,
    "start_time": "2022-08-20T21:04:33.515Z"
   },
   {
    "duration": 472,
    "start_time": "2022-08-20T21:04:35.036Z"
   },
   {
    "duration": 43,
    "start_time": "2022-08-20T21:04:35.509Z"
   },
   {
    "duration": 2918,
    "start_time": "2022-08-20T21:04:35.554Z"
   },
   {
    "duration": 177,
    "start_time": "2022-08-20T21:04:38.473Z"
   },
   {
    "duration": 181,
    "start_time": "2022-08-20T21:04:38.651Z"
   },
   {
    "duration": 151,
    "start_time": "2022-08-20T21:04:38.834Z"
   },
   {
    "duration": 151,
    "start_time": "2022-08-20T21:04:38.986Z"
   },
   {
    "duration": 139,
    "start_time": "2022-08-20T21:04:39.139Z"
   },
   {
    "duration": 143,
    "start_time": "2022-08-20T21:04:39.284Z"
   },
   {
    "duration": 139,
    "start_time": "2022-08-20T21:04:39.429Z"
   },
   {
    "duration": 144,
    "start_time": "2022-08-20T21:04:39.572Z"
   },
   {
    "duration": 8,
    "start_time": "2022-08-20T21:04:39.718Z"
   },
   {
    "duration": 30,
    "start_time": "2022-08-20T21:04:39.728Z"
   },
   {
    "duration": 3,
    "start_time": "2022-08-20T21:04:39.785Z"
   },
   {
    "duration": 10,
    "start_time": "2022-08-20T21:04:39.789Z"
   },
   {
    "duration": 7,
    "start_time": "2022-08-20T21:04:39.800Z"
   },
   {
    "duration": 13,
    "start_time": "2022-08-20T21:04:39.808Z"
   },
   {
    "duration": 5,
    "start_time": "2022-08-20T21:04:39.823Z"
   },
   {
    "duration": 133,
    "start_time": "2022-08-20T21:04:39.829Z"
   },
   {
    "duration": 63,
    "start_time": "2022-08-20T21:07:56.655Z"
   },
   {
    "duration": 85,
    "start_time": "2022-08-20T21:09:09.485Z"
   },
   {
    "duration": 86,
    "start_time": "2022-08-20T21:09:18.155Z"
   },
   {
    "duration": 153,
    "start_time": "2022-08-20T21:10:46.966Z"
   },
   {
    "duration": 145,
    "start_time": "2022-08-20T21:10:53.877Z"
   },
   {
    "duration": 137,
    "start_time": "2022-08-20T21:11:02.096Z"
   },
   {
    "duration": 244,
    "start_time": "2022-08-20T21:11:27.665Z"
   },
   {
    "duration": 300,
    "start_time": "2022-08-20T21:11:39.276Z"
   },
   {
    "duration": 170,
    "start_time": "2022-08-20T21:11:48.125Z"
   },
   {
    "duration": 180,
    "start_time": "2022-08-20T21:11:56.805Z"
   },
   {
    "duration": 47,
    "start_time": "2022-08-20T21:15:38.677Z"
   },
   {
    "duration": 2977,
    "start_time": "2022-08-20T21:19:19.237Z"
   },
   {
    "duration": 57,
    "start_time": "2022-08-20T21:19:59.128Z"
   },
   {
    "duration": 2756,
    "start_time": "2022-08-20T21:20:11.987Z"
   },
   {
    "duration": 2964,
    "start_time": "2022-08-20T21:21:03.427Z"
   },
   {
    "duration": 1014,
    "start_time": "2022-08-20T21:22:30.920Z"
   },
   {
    "duration": 2926,
    "start_time": "2022-08-20T21:23:07.306Z"
   },
   {
    "duration": 3117,
    "start_time": "2022-08-20T21:31:32.604Z"
   },
   {
    "duration": 301,
    "start_time": "2022-08-20T21:33:11.265Z"
   },
   {
    "duration": 1221,
    "start_time": "2022-08-20T21:33:21.044Z"
   },
   {
    "duration": 1075,
    "start_time": "2022-08-20T21:33:30.546Z"
   },
   {
    "duration": 1175,
    "start_time": "2022-08-20T21:33:39.406Z"
   },
   {
    "duration": 3002,
    "start_time": "2022-08-20T21:34:37.020Z"
   },
   {
    "duration": 3017,
    "start_time": "2022-08-20T21:35:22.586Z"
   },
   {
    "duration": 1058,
    "start_time": "2022-08-20T21:35:38.033Z"
   },
   {
    "duration": 71,
    "start_time": "2022-08-20T21:35:39.093Z"
   },
   {
    "duration": 13,
    "start_time": "2022-08-20T21:35:39.166Z"
   },
   {
    "duration": 679,
    "start_time": "2022-08-20T21:35:39.181Z"
   },
   {
    "duration": 42,
    "start_time": "2022-08-20T21:35:39.862Z"
   },
   {
    "duration": 5,
    "start_time": "2022-08-20T21:35:39.906Z"
   },
   {
    "duration": 28,
    "start_time": "2022-08-20T21:35:39.913Z"
   },
   {
    "duration": 3,
    "start_time": "2022-08-20T21:35:39.943Z"
   },
   {
    "duration": 13,
    "start_time": "2022-08-20T21:35:39.947Z"
   },
   {
    "duration": 84,
    "start_time": "2022-08-20T21:35:39.961Z"
   },
   {
    "duration": 15,
    "start_time": "2022-08-20T21:35:40.047Z"
   },
   {
    "duration": 22,
    "start_time": "2022-08-20T21:35:40.064Z"
   },
   {
    "duration": 15,
    "start_time": "2022-08-20T21:35:40.088Z"
   },
   {
    "duration": 6,
    "start_time": "2022-08-20T21:35:40.106Z"
   },
   {
    "duration": 20,
    "start_time": "2022-08-20T21:35:40.113Z"
   },
   {
    "duration": 51,
    "start_time": "2022-08-20T21:35:40.135Z"
   },
   {
    "duration": 5,
    "start_time": "2022-08-20T21:35:40.188Z"
   },
   {
    "duration": 20,
    "start_time": "2022-08-20T21:35:40.195Z"
   },
   {
    "duration": 6,
    "start_time": "2022-08-20T21:35:40.217Z"
   },
   {
    "duration": 9,
    "start_time": "2022-08-20T21:35:40.225Z"
   },
   {
    "duration": 17,
    "start_time": "2022-08-20T21:35:40.236Z"
   },
   {
    "duration": 17,
    "start_time": "2022-08-20T21:35:40.285Z"
   },
   {
    "duration": 217,
    "start_time": "2022-08-20T21:35:40.304Z"
   },
   {
    "duration": 16,
    "start_time": "2022-08-20T21:35:40.523Z"
   },
   {
    "duration": 3,
    "start_time": "2022-08-20T21:35:40.541Z"
   },
   {
    "duration": 83,
    "start_time": "2022-08-20T21:35:40.546Z"
   },
   {
    "duration": 6,
    "start_time": "2022-08-20T21:35:40.630Z"
   },
   {
    "duration": 12,
    "start_time": "2022-08-20T21:35:40.637Z"
   },
   {
    "duration": 40,
    "start_time": "2022-08-20T21:35:40.650Z"
   },
   {
    "duration": 1471,
    "start_time": "2022-08-20T21:35:40.692Z"
   },
   {
    "duration": 438,
    "start_time": "2022-08-20T21:35:42.164Z"
   },
   {
    "duration": 39,
    "start_time": "2022-08-20T21:35:42.603Z"
   },
   {
    "duration": 3134,
    "start_time": "2022-08-20T21:35:42.644Z"
   },
   {
    "duration": 187,
    "start_time": "2022-08-20T21:35:45.780Z"
   },
   {
    "duration": 190,
    "start_time": "2022-08-20T21:35:45.969Z"
   },
   {
    "duration": 149,
    "start_time": "2022-08-20T21:35:46.161Z"
   },
   {
    "duration": 143,
    "start_time": "2022-08-20T21:35:46.312Z"
   },
   {
    "duration": 141,
    "start_time": "2022-08-20T21:35:46.456Z"
   },
   {
    "duration": 145,
    "start_time": "2022-08-20T21:35:46.599Z"
   },
   {
    "duration": 129,
    "start_time": "2022-08-20T21:35:46.746Z"
   },
   {
    "duration": 157,
    "start_time": "2022-08-20T21:35:46.879Z"
   },
   {
    "duration": 10,
    "start_time": "2022-08-20T21:35:47.038Z"
   },
   {
    "duration": 46,
    "start_time": "2022-08-20T21:35:47.049Z"
   },
   {
    "duration": 3,
    "start_time": "2022-08-20T21:35:47.097Z"
   },
   {
    "duration": 10,
    "start_time": "2022-08-20T21:35:47.102Z"
   },
   {
    "duration": 9,
    "start_time": "2022-08-20T21:35:47.113Z"
   },
   {
    "duration": 9,
    "start_time": "2022-08-20T21:35:47.124Z"
   },
   {
    "duration": 8,
    "start_time": "2022-08-20T21:35:47.134Z"
   },
   {
    "duration": 154,
    "start_time": "2022-08-20T21:35:47.144Z"
   },
   {
    "duration": 2930,
    "start_time": "2022-08-20T21:37:23.519Z"
   },
   {
    "duration": 2894,
    "start_time": "2022-08-20T21:37:39.002Z"
   },
   {
    "duration": 1044,
    "start_time": "2022-08-20T21:45:14.325Z"
   },
   {
    "duration": 67,
    "start_time": "2022-08-20T21:45:15.370Z"
   },
   {
    "duration": 12,
    "start_time": "2022-08-20T21:45:15.438Z"
   },
   {
    "duration": 664,
    "start_time": "2022-08-20T21:45:15.452Z"
   },
   {
    "duration": 28,
    "start_time": "2022-08-20T21:45:16.119Z"
   },
   {
    "duration": 14,
    "start_time": "2022-08-20T21:45:16.148Z"
   },
   {
    "duration": 25,
    "start_time": "2022-08-20T21:45:16.163Z"
   },
   {
    "duration": 2,
    "start_time": "2022-08-20T21:45:16.189Z"
   },
   {
    "duration": 13,
    "start_time": "2022-08-20T21:45:16.192Z"
   },
   {
    "duration": 58,
    "start_time": "2022-08-20T21:45:16.206Z"
   },
   {
    "duration": 31,
    "start_time": "2022-08-20T21:45:16.265Z"
   },
   {
    "duration": 4,
    "start_time": "2022-08-20T21:45:16.297Z"
   },
   {
    "duration": 8,
    "start_time": "2022-08-20T21:45:16.302Z"
   },
   {
    "duration": 9,
    "start_time": "2022-08-20T21:45:16.312Z"
   },
   {
    "duration": 17,
    "start_time": "2022-08-20T21:45:16.322Z"
   },
   {
    "duration": 45,
    "start_time": "2022-08-20T21:45:16.340Z"
   },
   {
    "duration": 4,
    "start_time": "2022-08-20T21:45:16.387Z"
   },
   {
    "duration": 16,
    "start_time": "2022-08-20T21:45:16.392Z"
   },
   {
    "duration": 4,
    "start_time": "2022-08-20T21:45:16.409Z"
   },
   {
    "duration": 10,
    "start_time": "2022-08-20T21:45:16.415Z"
   },
   {
    "duration": 15,
    "start_time": "2022-08-20T21:45:16.426Z"
   },
   {
    "duration": 16,
    "start_time": "2022-08-20T21:45:16.443Z"
   },
   {
    "duration": 214,
    "start_time": "2022-08-20T21:45:16.460Z"
   },
   {
    "duration": 18,
    "start_time": "2022-08-20T21:45:16.676Z"
   },
   {
    "duration": 4,
    "start_time": "2022-08-20T21:45:16.695Z"
   },
   {
    "duration": 56,
    "start_time": "2022-08-20T21:45:16.701Z"
   },
   {
    "duration": 6,
    "start_time": "2022-08-20T21:45:16.784Z"
   },
   {
    "duration": 20,
    "start_time": "2022-08-20T21:45:16.791Z"
   },
   {
    "duration": 18,
    "start_time": "2022-08-20T21:45:16.813Z"
   },
   {
    "duration": 1420,
    "start_time": "2022-08-20T21:45:16.832Z"
   },
   {
    "duration": 460,
    "start_time": "2022-08-20T21:45:18.254Z"
   },
   {
    "duration": 41,
    "start_time": "2022-08-20T21:45:18.716Z"
   },
   {
    "duration": 2956,
    "start_time": "2022-08-20T21:45:18.758Z"
   },
   {
    "duration": 173,
    "start_time": "2022-08-20T21:45:21.715Z"
   },
   {
    "duration": 172,
    "start_time": "2022-08-20T21:45:21.890Z"
   },
   {
    "duration": 152,
    "start_time": "2022-08-20T21:45:22.064Z"
   },
   {
    "duration": 140,
    "start_time": "2022-08-20T21:45:22.217Z"
   },
   {
    "duration": 141,
    "start_time": "2022-08-20T21:45:22.358Z"
   },
   {
    "duration": 141,
    "start_time": "2022-08-20T21:45:22.500Z"
   },
   {
    "duration": 130,
    "start_time": "2022-08-20T21:45:22.642Z"
   },
   {
    "duration": 164,
    "start_time": "2022-08-20T21:45:22.784Z"
   },
   {
    "duration": 12,
    "start_time": "2022-08-20T21:45:22.950Z"
   },
   {
    "duration": 51,
    "start_time": "2022-08-20T21:45:22.964Z"
   },
   {
    "duration": 3,
    "start_time": "2022-08-20T21:45:23.017Z"
   },
   {
    "duration": 12,
    "start_time": "2022-08-20T21:45:23.022Z"
   },
   {
    "duration": 11,
    "start_time": "2022-08-20T21:45:23.035Z"
   },
   {
    "duration": 40,
    "start_time": "2022-08-20T21:45:23.048Z"
   },
   {
    "duration": 5,
    "start_time": "2022-08-20T21:45:23.090Z"
   },
   {
    "duration": 134,
    "start_time": "2022-08-20T21:45:23.096Z"
   },
   {
    "duration": 1532,
    "start_time": "2022-08-20T21:47:08.918Z"
   },
   {
    "duration": 2974,
    "start_time": "2022-08-20T21:47:58.437Z"
   },
   {
    "duration": 474,
    "start_time": "2022-08-20T22:37:00.233Z"
   },
   {
    "duration": 1081,
    "start_time": "2022-08-20T22:38:55.072Z"
   },
   {
    "duration": 67,
    "start_time": "2022-08-20T22:38:56.154Z"
   },
   {
    "duration": 13,
    "start_time": "2022-08-20T22:38:56.222Z"
   },
   {
    "duration": 715,
    "start_time": "2022-08-20T22:38:56.236Z"
   },
   {
    "duration": 38,
    "start_time": "2022-08-20T22:38:56.953Z"
   },
   {
    "duration": 2,
    "start_time": "2022-08-20T22:38:56.993Z"
   },
   {
    "duration": 20,
    "start_time": "2022-08-20T22:38:56.997Z"
   },
   {
    "duration": 2,
    "start_time": "2022-08-20T22:38:57.019Z"
   },
   {
    "duration": 10,
    "start_time": "2022-08-20T22:38:57.022Z"
   },
   {
    "duration": 73,
    "start_time": "2022-08-20T22:38:57.034Z"
   },
   {
    "duration": 14,
    "start_time": "2022-08-20T22:38:57.109Z"
   },
   {
    "duration": 4,
    "start_time": "2022-08-20T22:38:57.124Z"
   },
   {
    "duration": 8,
    "start_time": "2022-08-20T22:38:57.129Z"
   },
   {
    "duration": 12,
    "start_time": "2022-08-20T22:38:57.140Z"
   },
   {
    "duration": 31,
    "start_time": "2022-08-20T22:38:57.154Z"
   },
   {
    "duration": 22,
    "start_time": "2022-08-20T22:38:57.186Z"
   },
   {
    "duration": 4,
    "start_time": "2022-08-20T22:38:57.210Z"
   },
   {
    "duration": 12,
    "start_time": "2022-08-20T22:38:57.215Z"
   },
   {
    "duration": 4,
    "start_time": "2022-08-20T22:38:57.228Z"
   },
   {
    "duration": 11,
    "start_time": "2022-08-20T22:38:57.233Z"
   },
   {
    "duration": 42,
    "start_time": "2022-08-20T22:38:57.246Z"
   },
   {
    "duration": 15,
    "start_time": "2022-08-20T22:38:57.290Z"
   },
   {
    "duration": 204,
    "start_time": "2022-08-20T22:38:57.307Z"
   },
   {
    "duration": 17,
    "start_time": "2022-08-20T22:38:57.513Z"
   },
   {
    "duration": 5,
    "start_time": "2022-08-20T22:38:57.531Z"
   },
   {
    "duration": 80,
    "start_time": "2022-08-20T22:38:57.537Z"
   },
   {
    "duration": 4,
    "start_time": "2022-08-20T22:38:57.619Z"
   },
   {
    "duration": 10,
    "start_time": "2022-08-20T22:38:57.625Z"
   },
   {
    "duration": 12,
    "start_time": "2022-08-20T22:38:57.636Z"
   },
   {
    "duration": 1386,
    "start_time": "2022-08-20T22:38:57.650Z"
   },
   {
    "duration": 456,
    "start_time": "2022-08-20T22:38:59.038Z"
   },
   {
    "duration": 44,
    "start_time": "2022-08-20T22:38:59.496Z"
   },
   {
    "duration": 3067,
    "start_time": "2022-08-20T22:38:59.542Z"
   },
   {
    "duration": 199,
    "start_time": "2022-08-20T22:39:02.610Z"
   },
   {
    "duration": 192,
    "start_time": "2022-08-20T22:39:02.811Z"
   },
   {
    "duration": 417,
    "start_time": "2022-08-20T22:39:03.004Z"
   },
   {
    "duration": 143,
    "start_time": "2022-08-20T22:39:03.423Z"
   },
   {
    "duration": 137,
    "start_time": "2022-08-20T22:39:03.567Z"
   },
   {
    "duration": 136,
    "start_time": "2022-08-20T22:39:03.705Z"
   },
   {
    "duration": 150,
    "start_time": "2022-08-20T22:39:03.843Z"
   },
   {
    "duration": 151,
    "start_time": "2022-08-20T22:39:03.998Z"
   },
   {
    "duration": 161,
    "start_time": "2022-08-20T22:39:04.150Z"
   },
   {
    "duration": 10,
    "start_time": "2022-08-20T22:39:04.312Z"
   },
   {
    "duration": 32,
    "start_time": "2022-08-20T22:39:04.324Z"
   },
   {
    "duration": 28,
    "start_time": "2022-08-20T22:39:04.358Z"
   },
   {
    "duration": 14,
    "start_time": "2022-08-20T22:39:04.388Z"
   },
   {
    "duration": 18,
    "start_time": "2022-08-20T22:39:04.404Z"
   },
   {
    "duration": 17,
    "start_time": "2022-08-20T22:39:04.424Z"
   },
   {
    "duration": 15,
    "start_time": "2022-08-20T22:39:04.443Z"
   },
   {
    "duration": 148,
    "start_time": "2022-08-20T22:39:04.460Z"
   },
   {
    "duration": 48,
    "start_time": "2022-08-20T22:41:49.131Z"
   },
   {
    "duration": 68,
    "start_time": "2022-08-20T22:51:44.531Z"
   },
   {
    "duration": 9,
    "start_time": "2022-08-20T22:59:12.472Z"
   },
   {
    "duration": 6,
    "start_time": "2022-08-20T22:59:16.283Z"
   },
   {
    "duration": 113,
    "start_time": "2022-08-20T22:59:20.032Z"
   },
   {
    "duration": 9,
    "start_time": "2022-08-20T22:59:52.232Z"
   },
   {
    "duration": 6,
    "start_time": "2022-08-20T22:59:53.817Z"
   },
   {
    "duration": 5,
    "start_time": "2022-08-20T23:00:01.404Z"
   },
   {
    "duration": 1085,
    "start_time": "2022-08-20T23:00:16.374Z"
   },
   {
    "duration": 69,
    "start_time": "2022-08-20T23:00:17.460Z"
   },
   {
    "duration": 13,
    "start_time": "2022-08-20T23:00:17.530Z"
   },
   {
    "duration": 689,
    "start_time": "2022-08-20T23:00:17.545Z"
   },
   {
    "duration": 29,
    "start_time": "2022-08-20T23:00:18.237Z"
   },
   {
    "duration": 20,
    "start_time": "2022-08-20T23:00:18.267Z"
   },
   {
    "duration": 20,
    "start_time": "2022-08-20T23:00:18.289Z"
   },
   {
    "duration": 2,
    "start_time": "2022-08-20T23:00:18.311Z"
   },
   {
    "duration": 10,
    "start_time": "2022-08-20T23:00:18.314Z"
   },
   {
    "duration": 73,
    "start_time": "2022-08-20T23:00:18.326Z"
   },
   {
    "duration": 16,
    "start_time": "2022-08-20T23:00:18.400Z"
   },
   {
    "duration": 4,
    "start_time": "2022-08-20T23:00:18.418Z"
   },
   {
    "duration": 8,
    "start_time": "2022-08-20T23:00:18.424Z"
   },
   {
    "duration": 6,
    "start_time": "2022-08-20T23:00:18.434Z"
   },
   {
    "duration": 44,
    "start_time": "2022-08-20T23:00:18.442Z"
   },
   {
    "duration": 24,
    "start_time": "2022-08-20T23:00:18.487Z"
   },
   {
    "duration": 4,
    "start_time": "2022-08-20T23:00:18.513Z"
   },
   {
    "duration": 11,
    "start_time": "2022-08-20T23:00:18.518Z"
   },
   {
    "duration": 4,
    "start_time": "2022-08-20T23:00:18.531Z"
   },
   {
    "duration": 7,
    "start_time": "2022-08-20T23:00:18.536Z"
   },
   {
    "duration": 51,
    "start_time": "2022-08-20T23:00:18.544Z"
   },
   {
    "duration": 14,
    "start_time": "2022-08-20T23:00:18.597Z"
   },
   {
    "duration": 197,
    "start_time": "2022-08-20T23:00:18.613Z"
   },
   {
    "duration": 15,
    "start_time": "2022-08-20T23:00:18.811Z"
   },
   {
    "duration": 3,
    "start_time": "2022-08-20T23:00:18.828Z"
   },
   {
    "duration": 67,
    "start_time": "2022-08-20T23:00:18.832Z"
   },
   {
    "duration": 5,
    "start_time": "2022-08-20T23:00:18.900Z"
   },
   {
    "duration": 15,
    "start_time": "2022-08-20T23:00:18.906Z"
   },
   {
    "duration": 12,
    "start_time": "2022-08-20T23:00:18.922Z"
   },
   {
    "duration": 1425,
    "start_time": "2022-08-20T23:00:18.935Z"
   },
   {
    "duration": 459,
    "start_time": "2022-08-20T23:00:20.361Z"
   },
   {
    "duration": 42,
    "start_time": "2022-08-20T23:00:20.822Z"
   },
   {
    "duration": 3021,
    "start_time": "2022-08-20T23:00:20.865Z"
   },
   {
    "duration": 188,
    "start_time": "2022-08-20T23:00:23.887Z"
   },
   {
    "duration": 210,
    "start_time": "2022-08-20T23:00:24.077Z"
   },
   {
    "duration": 451,
    "start_time": "2022-08-20T23:00:24.288Z"
   },
   {
    "duration": 130,
    "start_time": "2022-08-20T23:00:24.740Z"
   },
   {
    "duration": 134,
    "start_time": "2022-08-20T23:00:24.871Z"
   },
   {
    "duration": 135,
    "start_time": "2022-08-20T23:00:25.007Z"
   },
   {
    "duration": 148,
    "start_time": "2022-08-20T23:00:25.143Z"
   },
   {
    "duration": 141,
    "start_time": "2022-08-20T23:00:25.294Z"
   },
   {
    "duration": 150,
    "start_time": "2022-08-20T23:00:25.436Z"
   },
   {
    "duration": 9,
    "start_time": "2022-08-20T23:00:25.588Z"
   },
   {
    "duration": 28,
    "start_time": "2022-08-20T23:00:25.598Z"
   },
   {
    "duration": 8,
    "start_time": "2022-08-20T23:00:25.627Z"
   },
   {
    "duration": 13,
    "start_time": "2022-08-20T23:00:25.636Z"
   },
   {
    "duration": 40,
    "start_time": "2022-08-20T23:00:25.650Z"
   },
   {
    "duration": 11,
    "start_time": "2022-08-20T23:00:25.691Z"
   },
   {
    "duration": 127,
    "start_time": "2022-08-20T23:00:25.703Z"
   },
   {
    "duration": 1017,
    "start_time": "2022-08-20T23:09:09.141Z"
   },
   {
    "duration": 67,
    "start_time": "2022-08-20T23:09:10.159Z"
   },
   {
    "duration": 17,
    "start_time": "2022-08-20T23:09:10.227Z"
   },
   {
    "duration": 701,
    "start_time": "2022-08-20T23:09:10.246Z"
   },
   {
    "duration": 38,
    "start_time": "2022-08-20T23:09:10.948Z"
   },
   {
    "duration": 3,
    "start_time": "2022-08-20T23:09:10.987Z"
   },
   {
    "duration": 18,
    "start_time": "2022-08-20T23:09:10.992Z"
   },
   {
    "duration": 2,
    "start_time": "2022-08-20T23:09:11.011Z"
   },
   {
    "duration": 14,
    "start_time": "2022-08-20T23:09:11.014Z"
   },
   {
    "duration": 69,
    "start_time": "2022-08-20T23:09:11.031Z"
   },
   {
    "duration": 14,
    "start_time": "2022-08-20T23:09:11.101Z"
   },
   {
    "duration": 7,
    "start_time": "2022-08-20T23:09:11.116Z"
   },
   {
    "duration": 4,
    "start_time": "2022-08-20T23:09:11.124Z"
   },
   {
    "duration": 7,
    "start_time": "2022-08-20T23:09:11.129Z"
   },
   {
    "duration": 16,
    "start_time": "2022-08-20T23:09:11.137Z"
   },
   {
    "duration": 23,
    "start_time": "2022-08-20T23:09:11.184Z"
   },
   {
    "duration": 4,
    "start_time": "2022-08-20T23:09:11.209Z"
   },
   {
    "duration": 12,
    "start_time": "2022-08-20T23:09:11.215Z"
   },
   {
    "duration": 4,
    "start_time": "2022-08-20T23:09:11.228Z"
   },
   {
    "duration": 12,
    "start_time": "2022-08-20T23:09:11.233Z"
   },
   {
    "duration": 45,
    "start_time": "2022-08-20T23:09:11.247Z"
   },
   {
    "duration": 21,
    "start_time": "2022-08-20T23:09:11.293Z"
   },
   {
    "duration": 192,
    "start_time": "2022-08-20T23:09:11.316Z"
   },
   {
    "duration": 16,
    "start_time": "2022-08-20T23:09:11.510Z"
   },
   {
    "duration": 4,
    "start_time": "2022-08-20T23:09:11.528Z"
   },
   {
    "duration": 74,
    "start_time": "2022-08-20T23:09:11.533Z"
   },
   {
    "duration": 6,
    "start_time": "2022-08-20T23:09:11.609Z"
   },
   {
    "duration": 9,
    "start_time": "2022-08-20T23:09:11.619Z"
   },
   {
    "duration": 12,
    "start_time": "2022-08-20T23:09:11.630Z"
   },
   {
    "duration": 1461,
    "start_time": "2022-08-20T23:09:11.644Z"
   },
   {
    "duration": 397,
    "start_time": "2022-08-20T23:09:13.107Z"
   },
   {
    "duration": 36,
    "start_time": "2022-08-20T23:09:13.506Z"
   },
   {
    "duration": 2959,
    "start_time": "2022-08-20T23:09:13.544Z"
   },
   {
    "duration": 201,
    "start_time": "2022-08-20T23:09:16.505Z"
   },
   {
    "duration": 180,
    "start_time": "2022-08-20T23:09:16.708Z"
   },
   {
    "duration": 439,
    "start_time": "2022-08-20T23:09:16.890Z"
   },
   {
    "duration": 143,
    "start_time": "2022-08-20T23:09:17.331Z"
   },
   {
    "duration": 137,
    "start_time": "2022-08-20T23:09:17.484Z"
   },
   {
    "duration": 139,
    "start_time": "2022-08-20T23:09:17.622Z"
   },
   {
    "duration": 146,
    "start_time": "2022-08-20T23:09:17.762Z"
   },
   {
    "duration": 130,
    "start_time": "2022-08-20T23:09:17.909Z"
   },
   {
    "duration": 146,
    "start_time": "2022-08-20T23:09:18.040Z"
   },
   {
    "duration": 8,
    "start_time": "2022-08-20T23:09:18.188Z"
   },
   {
    "duration": 28,
    "start_time": "2022-08-20T23:09:18.197Z"
   },
   {
    "duration": 8,
    "start_time": "2022-08-20T23:09:18.226Z"
   },
   {
    "duration": 9,
    "start_time": "2022-08-20T23:09:18.235Z"
   },
   {
    "duration": 44,
    "start_time": "2022-08-20T23:09:18.246Z"
   },
   {
    "duration": 7,
    "start_time": "2022-08-20T23:09:18.292Z"
   },
   {
    "duration": 138,
    "start_time": "2022-08-20T23:09:18.301Z"
   },
   {
    "duration": 9,
    "start_time": "2022-08-20T23:20:21.539Z"
   },
   {
    "duration": 1020,
    "start_time": "2022-08-20T23:20:27.241Z"
   },
   {
    "duration": 68,
    "start_time": "2022-08-20T23:20:28.262Z"
   },
   {
    "duration": 13,
    "start_time": "2022-08-20T23:20:28.332Z"
   },
   {
    "duration": 707,
    "start_time": "2022-08-20T23:20:28.347Z"
   },
   {
    "duration": 33,
    "start_time": "2022-08-20T23:20:29.056Z"
   },
   {
    "duration": 2,
    "start_time": "2022-08-20T23:20:29.091Z"
   },
   {
    "duration": 20,
    "start_time": "2022-08-20T23:20:29.095Z"
   },
   {
    "duration": 2,
    "start_time": "2022-08-20T23:20:29.116Z"
   },
   {
    "duration": 11,
    "start_time": "2022-08-20T23:20:29.119Z"
   },
   {
    "duration": 77,
    "start_time": "2022-08-20T23:20:29.133Z"
   },
   {
    "duration": 13,
    "start_time": "2022-08-20T23:20:29.211Z"
   },
   {
    "duration": 3,
    "start_time": "2022-08-20T23:20:29.226Z"
   },
   {
    "duration": 4,
    "start_time": "2022-08-20T23:20:29.231Z"
   },
   {
    "duration": 7,
    "start_time": "2022-08-20T23:20:29.236Z"
   },
   {
    "duration": 42,
    "start_time": "2022-08-20T23:20:29.244Z"
   },
   {
    "duration": 23,
    "start_time": "2022-08-20T23:20:29.287Z"
   },
   {
    "duration": 4,
    "start_time": "2022-08-20T23:20:29.312Z"
   },
   {
    "duration": 11,
    "start_time": "2022-08-20T23:20:29.318Z"
   },
   {
    "duration": 6,
    "start_time": "2022-08-20T23:20:29.331Z"
   },
   {
    "duration": 10,
    "start_time": "2022-08-20T23:20:29.339Z"
   },
   {
    "duration": 46,
    "start_time": "2022-08-20T23:20:29.350Z"
   },
   {
    "duration": 12,
    "start_time": "2022-08-20T23:20:29.398Z"
   },
   {
    "duration": 209,
    "start_time": "2022-08-20T23:20:29.412Z"
   },
   {
    "duration": 15,
    "start_time": "2022-08-20T23:20:29.623Z"
   },
   {
    "duration": 4,
    "start_time": "2022-08-20T23:20:29.639Z"
   },
   {
    "duration": 81,
    "start_time": "2022-08-20T23:20:29.644Z"
   },
   {
    "duration": 5,
    "start_time": "2022-08-20T23:20:29.727Z"
   },
   {
    "duration": 12,
    "start_time": "2022-08-20T23:20:29.735Z"
   },
   {
    "duration": 12,
    "start_time": "2022-08-20T23:20:29.748Z"
   },
   {
    "duration": 1479,
    "start_time": "2022-08-20T23:20:29.784Z"
   },
   {
    "duration": 422,
    "start_time": "2022-08-20T23:20:31.264Z"
   },
   {
    "duration": 41,
    "start_time": "2022-08-20T23:20:31.688Z"
   },
   {
    "duration": 3106,
    "start_time": "2022-08-20T23:20:31.731Z"
   },
   {
    "duration": 176,
    "start_time": "2022-08-20T23:20:34.838Z"
   },
   {
    "duration": 187,
    "start_time": "2022-08-20T23:20:35.016Z"
   },
   {
    "duration": 437,
    "start_time": "2022-08-20T23:20:35.204Z"
   },
   {
    "duration": 142,
    "start_time": "2022-08-20T23:20:35.643Z"
   },
   {
    "duration": 137,
    "start_time": "2022-08-20T23:20:35.786Z"
   },
   {
    "duration": 133,
    "start_time": "2022-08-20T23:20:35.924Z"
   },
   {
    "duration": 154,
    "start_time": "2022-08-20T23:20:36.059Z"
   },
   {
    "duration": 142,
    "start_time": "2022-08-20T23:20:36.214Z"
   },
   {
    "duration": 149,
    "start_time": "2022-08-20T23:20:36.358Z"
   },
   {
    "duration": 2,
    "start_time": "2022-08-20T23:20:36.509Z"
   },
   {
    "duration": 13,
    "start_time": "2022-08-20T23:20:36.513Z"
   },
   {
    "duration": 39,
    "start_time": "2022-08-20T23:20:36.528Z"
   },
   {
    "duration": 10,
    "start_time": "2022-08-20T23:20:36.584Z"
   },
   {
    "duration": 8,
    "start_time": "2022-08-20T23:20:36.596Z"
   },
   {
    "duration": 9,
    "start_time": "2022-08-20T23:20:36.606Z"
   },
   {
    "duration": 7,
    "start_time": "2022-08-20T23:20:36.616Z"
   },
   {
    "duration": 143,
    "start_time": "2022-08-20T23:20:36.625Z"
   },
   {
    "duration": 1042,
    "start_time": "2022-08-20T23:45:08.318Z"
   },
   {
    "duration": 72,
    "start_time": "2022-08-20T23:45:09.362Z"
   },
   {
    "duration": 14,
    "start_time": "2022-08-20T23:45:09.435Z"
   },
   {
    "duration": 723,
    "start_time": "2022-08-20T23:45:09.451Z"
   },
   {
    "duration": 29,
    "start_time": "2022-08-20T23:45:10.176Z"
   },
   {
    "duration": 14,
    "start_time": "2022-08-20T23:45:10.207Z"
   },
   {
    "duration": 25,
    "start_time": "2022-08-20T23:45:10.223Z"
   },
   {
    "duration": 11,
    "start_time": "2022-08-20T23:45:10.249Z"
   },
   {
    "duration": 36,
    "start_time": "2022-08-20T23:45:10.261Z"
   },
   {
    "duration": 51,
    "start_time": "2022-08-20T23:45:10.300Z"
   },
   {
    "duration": 35,
    "start_time": "2022-08-20T23:45:10.353Z"
   },
   {
    "duration": 4,
    "start_time": "2022-08-20T23:45:10.390Z"
   },
   {
    "duration": 6,
    "start_time": "2022-08-20T23:45:10.395Z"
   },
   {
    "duration": 10,
    "start_time": "2022-08-20T23:45:10.402Z"
   },
   {
    "duration": 15,
    "start_time": "2022-08-20T23:45:10.414Z"
   },
   {
    "duration": 61,
    "start_time": "2022-08-20T23:45:10.431Z"
   },
   {
    "duration": 4,
    "start_time": "2022-08-20T23:45:10.494Z"
   },
   {
    "duration": 14,
    "start_time": "2022-08-20T23:45:10.500Z"
   },
   {
    "duration": 5,
    "start_time": "2022-08-20T23:45:10.515Z"
   },
   {
    "duration": 9,
    "start_time": "2022-08-20T23:45:10.522Z"
   },
   {
    "duration": 15,
    "start_time": "2022-08-20T23:45:10.532Z"
   },
   {
    "duration": 46,
    "start_time": "2022-08-20T23:45:10.549Z"
   },
   {
    "duration": 206,
    "start_time": "2022-08-20T23:45:10.597Z"
   },
   {
    "duration": 19,
    "start_time": "2022-08-20T23:45:10.805Z"
   },
   {
    "duration": 5,
    "start_time": "2022-08-20T23:45:10.826Z"
   },
   {
    "duration": 83,
    "start_time": "2022-08-20T23:45:10.833Z"
   },
   {
    "duration": 7,
    "start_time": "2022-08-20T23:45:10.918Z"
   },
   {
    "duration": 12,
    "start_time": "2022-08-20T23:45:10.929Z"
   },
   {
    "duration": 12,
    "start_time": "2022-08-20T23:45:10.943Z"
   },
   {
    "duration": 1482,
    "start_time": "2022-08-20T23:45:10.957Z"
   },
   {
    "duration": 493,
    "start_time": "2022-08-20T23:45:12.441Z"
   },
   {
    "duration": 65,
    "start_time": "2022-08-20T23:45:12.936Z"
   },
   {
    "duration": 3078,
    "start_time": "2022-08-20T23:45:13.003Z"
   },
   {
    "duration": 187,
    "start_time": "2022-08-20T23:45:16.084Z"
   },
   {
    "duration": 198,
    "start_time": "2022-08-20T23:45:16.273Z"
   },
   {
    "duration": 468,
    "start_time": "2022-08-20T23:45:16.472Z"
   },
   {
    "duration": 165,
    "start_time": "2022-08-20T23:45:16.942Z"
   },
   {
    "duration": 157,
    "start_time": "2022-08-20T23:45:17.109Z"
   },
   {
    "duration": 147,
    "start_time": "2022-08-20T23:45:17.268Z"
   },
   {
    "duration": 160,
    "start_time": "2022-08-20T23:45:17.417Z"
   },
   {
    "duration": 153,
    "start_time": "2022-08-20T23:45:17.584Z"
   },
   {
    "duration": 184,
    "start_time": "2022-08-20T23:45:17.740Z"
   },
   {
    "duration": 2,
    "start_time": "2022-08-20T23:45:17.926Z"
   },
   {
    "duration": 14,
    "start_time": "2022-08-20T23:45:17.930Z"
   },
   {
    "duration": 52,
    "start_time": "2022-08-20T23:45:17.946Z"
   },
   {
    "duration": 8,
    "start_time": "2022-08-20T23:45:18.000Z"
   },
   {
    "duration": 5,
    "start_time": "2022-08-20T23:45:18.010Z"
   },
   {
    "duration": 13,
    "start_time": "2022-08-20T23:45:18.016Z"
   },
   {
    "duration": 7,
    "start_time": "2022-08-20T23:45:18.031Z"
   },
   {
    "duration": 168,
    "start_time": "2022-08-20T23:45:18.039Z"
   },
   {
    "duration": 1094,
    "start_time": "2022-08-21T06:53:04.548Z"
   },
   {
    "duration": 73,
    "start_time": "2022-08-21T06:53:05.643Z"
   },
   {
    "duration": 15,
    "start_time": "2022-08-21T06:53:05.718Z"
   },
   {
    "duration": 733,
    "start_time": "2022-08-21T06:53:05.736Z"
   },
   {
    "duration": 35,
    "start_time": "2022-08-21T06:53:06.471Z"
   },
   {
    "duration": 3,
    "start_time": "2022-08-21T06:53:06.508Z"
   },
   {
    "duration": 19,
    "start_time": "2022-08-21T06:53:06.514Z"
   },
   {
    "duration": 2,
    "start_time": "2022-08-21T06:53:06.535Z"
   },
   {
    "duration": 9,
    "start_time": "2022-08-21T06:53:06.539Z"
   },
   {
    "duration": 75,
    "start_time": "2022-08-21T06:53:06.551Z"
   },
   {
    "duration": 14,
    "start_time": "2022-08-21T06:53:06.628Z"
   },
   {
    "duration": 4,
    "start_time": "2022-08-21T06:53:06.644Z"
   },
   {
    "duration": 13,
    "start_time": "2022-08-21T06:53:06.650Z"
   },
   {
    "duration": 23,
    "start_time": "2022-08-21T06:53:06.665Z"
   },
   {
    "duration": 15,
    "start_time": "2022-08-21T06:53:06.690Z"
   },
   {
    "duration": 25,
    "start_time": "2022-08-21T06:53:06.707Z"
   },
   {
    "duration": 4,
    "start_time": "2022-08-21T06:53:06.734Z"
   },
   {
    "duration": 14,
    "start_time": "2022-08-21T06:53:06.739Z"
   },
   {
    "duration": 7,
    "start_time": "2022-08-21T06:53:06.754Z"
   },
   {
    "duration": 28,
    "start_time": "2022-08-21T06:53:06.762Z"
   },
   {
    "duration": 16,
    "start_time": "2022-08-21T06:53:06.793Z"
   },
   {
    "duration": 18,
    "start_time": "2022-08-21T06:53:06.811Z"
   },
   {
    "duration": 213,
    "start_time": "2022-08-21T06:53:06.831Z"
   },
   {
    "duration": 17,
    "start_time": "2022-08-21T06:53:07.046Z"
   },
   {
    "duration": 22,
    "start_time": "2022-08-21T06:53:07.065Z"
   },
   {
    "duration": 51,
    "start_time": "2022-08-21T06:53:07.089Z"
   },
   {
    "duration": 4,
    "start_time": "2022-08-21T06:53:07.142Z"
   },
   {
    "duration": 9,
    "start_time": "2022-08-21T06:53:07.149Z"
   },
   {
    "duration": 29,
    "start_time": "2022-08-21T06:53:07.160Z"
   },
   {
    "duration": 1409,
    "start_time": "2022-08-21T06:53:07.191Z"
   },
   {
    "duration": 424,
    "start_time": "2022-08-21T06:53:08.601Z"
   },
   {
    "duration": 39,
    "start_time": "2022-08-21T06:53:09.027Z"
   },
   {
    "duration": 2907,
    "start_time": "2022-08-21T06:53:09.068Z"
   },
   {
    "duration": 180,
    "start_time": "2022-08-21T06:53:11.977Z"
   },
   {
    "duration": 188,
    "start_time": "2022-08-21T06:53:12.158Z"
   },
   {
    "duration": 482,
    "start_time": "2022-08-21T06:53:12.348Z"
   },
   {
    "duration": 158,
    "start_time": "2022-08-21T06:53:12.832Z"
   },
   {
    "duration": 158,
    "start_time": "2022-08-21T06:53:12.991Z"
   },
   {
    "duration": 143,
    "start_time": "2022-08-21T06:53:13.150Z"
   },
   {
    "duration": 146,
    "start_time": "2022-08-21T06:53:13.294Z"
   },
   {
    "duration": 145,
    "start_time": "2022-08-21T06:53:13.442Z"
   },
   {
    "duration": 144,
    "start_time": "2022-08-21T06:53:13.589Z"
   },
   {
    "duration": 3,
    "start_time": "2022-08-21T06:53:13.734Z"
   },
   {
    "duration": 13,
    "start_time": "2022-08-21T06:53:13.738Z"
   },
   {
    "duration": 45,
    "start_time": "2022-08-21T06:53:13.752Z"
   },
   {
    "duration": 9,
    "start_time": "2022-08-21T06:53:13.798Z"
   },
   {
    "duration": 8,
    "start_time": "2022-08-21T06:53:13.808Z"
   },
   {
    "duration": 9,
    "start_time": "2022-08-21T06:53:13.817Z"
   },
   {
    "duration": 6,
    "start_time": "2022-08-21T06:53:13.827Z"
   },
   {
    "duration": 143,
    "start_time": "2022-08-21T06:53:13.834Z"
   },
   {
    "duration": 131,
    "start_time": "2022-08-21T06:56:01.995Z"
   },
   {
    "duration": 254,
    "start_time": "2022-08-21T06:56:21.636Z"
   },
   {
    "duration": 198,
    "start_time": "2022-08-21T06:56:32.248Z"
   },
   {
    "duration": 161,
    "start_time": "2022-08-21T06:56:43.186Z"
   },
   {
    "duration": 131,
    "start_time": "2022-08-21T06:56:56.726Z"
   },
   {
    "duration": 126,
    "start_time": "2022-08-21T06:57:24.223Z"
   },
   {
    "duration": 251,
    "start_time": "2022-08-21T07:14:26.203Z"
   },
   {
    "duration": 12,
    "start_time": "2022-08-21T07:14:58.218Z"
   }
  ],
  "kernelspec": {
   "display_name": "Python 3 (ipykernel)",
   "language": "python",
   "name": "python3"
  },
  "language_info": {
   "codemirror_mode": {
    "name": "ipython",
    "version": 3
   },
   "file_extension": ".py",
   "mimetype": "text/x-python",
   "name": "python",
   "nbconvert_exporter": "python",
   "pygments_lexer": "ipython3",
   "version": "3.9.5"
  },
  "toc": {
   "base_numbering": 1,
   "nav_menu": {},
   "number_sections": true,
   "sideBar": true,
   "skip_h1_title": true,
   "title_cell": "Table of Contents",
   "title_sidebar": "Contents",
   "toc_cell": false,
   "toc_position": {},
   "toc_section_display": true,
   "toc_window_display": false
  }
 },
 "nbformat": 4,
 "nbformat_minor": 2
}
