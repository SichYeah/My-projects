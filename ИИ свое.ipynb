{
  "nbformat": 4,
  "nbformat_minor": 0,
  "metadata": {
    "colab": {
      "provenance": []
    },
    "kernelspec": {
      "name": "python3",
      "display_name": "Python 3"
    },
    "accelerator": "GPU"
  },
  "cells": [
    {
      "cell_type": "code",
      "metadata": {
        "id": "T6hmBuIyjRUu"
      },
      "source": [
        "import os\n",
        "import numpy as np\n",
        "import tensorflow as tf\n",
        "from tensorflow.keras.models import Sequential\n",
        "from tensorflow.keras.layers import Conv2D, MaxPooling2D, Dense, Flatten, Dropout\n",
        "from tensorflow.keras import utils\n",
        "from tensorflow.keras.preprocessing import image\n",
        "from tensorflow.keras.preprocessing import image_dataset_from_directory\n",
        "import matplotlib.pyplot as plt\n",
        "from google.colab import files\n",
        "%matplotlib inline"
      ],
      "execution_count": null,
      "outputs": []
    },
    {
      "cell_type": "markdown",
      "metadata": {
        "id": "xW1S04zYCPtc"
      },
      "source": [
        "## Загружаем данные"
      ]
    },
    {
      "cell_type": "code",
      "metadata": {
        "id": "aUmBByJl_nGX",
        "colab": {
          "base_uri": "https://localhost:8080/"
        },
        "outputId": "7e8925fa-cebe-499a-9802-a240c4f88322"
      },
      "source": [
        "!wget !wget https://github.com/SichYeah/Metall_Dataset_test/archive/master.zip -O master.zip"
      ],
      "execution_count": null,
      "outputs": [
        {
          "output_type": "stream",
          "name": "stdout",
          "text": [
            "--2022-07-10 13:19:08--  http://!wget/\n",
            "Resolving !wget (!wget)... failed: Name or service not known.\n",
            "wget: unable to resolve host address ‘!wget’\n",
            "--2022-07-10 13:19:09--  https://github.com/SichYeah/Metall_Dataset_test/archive/master.zip\n",
            "Resolving github.com (github.com)... 140.82.114.3\n",
            "Connecting to github.com (github.com)|140.82.114.3|:443... connected.\n",
            "HTTP request sent, awaiting response... 302 Found\n",
            "Location: https://codeload.github.com/SichYeah/Metall_Dataset_test/zip/main [following]\n",
            "--2022-07-10 13:19:09--  https://codeload.github.com/SichYeah/Metall_Dataset_test/zip/main\n",
            "Resolving codeload.github.com (codeload.github.com)... 140.82.114.10\n",
            "Connecting to codeload.github.com (codeload.github.com)|140.82.114.10|:443... connected.\n",
            "HTTP request sent, awaiting response... 200 OK\n",
            "Length: unspecified [application/zip]\n",
            "Saving to: ‘master.zip’\n",
            "\n",
            "master.zip              [ <=>                ]   2.37M  12.7MB/s    in 0.2s    \n",
            "\n",
            "2022-07-10 13:19:09 (12.7 MB/s) - ‘master.zip’ saved [2481330]\n",
            "\n",
            "FINISHED --2022-07-10 13:19:09--\n",
            "Total wall clock time: 0.6s\n",
            "Downloaded: 1 files, 2.4M in 0.2s (12.7 MB/s)\n"
          ]
        }
      ]
    },
    {
      "cell_type": "code",
      "source": [
        "!unzip master.zip"
      ],
      "metadata": {
        "id": "wbk8Lw7RZvGW",
        "colab": {
          "base_uri": "https://localhost:8080/"
        },
        "outputId": "92bef44e-e753-4199-f60b-16e42957cd76"
      },
      "execution_count": null,
      "outputs": [
        {
          "output_type": "stream",
          "name": "stdout",
          "text": [
            "Archive:  master.zip\n",
            "a0014da367e94b2e50cda0cf885552350a87a589\n",
            "   creating: Metall_Dataset_test-main/\n",
            "   creating: Metall_Dataset_test-main/Test/\n",
            "   creating: Metall_Dataset_test-main/Test/defect/\n",
            "  inflating: Metall_Dataset_test-main/Test/defect/11 советов_ как избавиться от ржавчины на металле_y.jpg  \n",
            "  inflating: Metall_Dataset_test-main/Test/defect/8 бытовых продуктов_ которые могут очистить ржавчину_yythk.jpg  \n",
            "  inflating: Metall_Dataset_test-main/Test/defect/Free Белый металл ржавчина 1 Stock Photo _ F.jpg  \n",
            "  inflating: Metall_Dataset_test-main/Test/defect/Texture Rusty metal Surface painted Paint cracked B.jpg  \n",
            "  inflating: Metall_Dataset_test-main/Test/defect/Арт ржавчины металла текстура фон. _174726550 - Лар.jpg  \n",
            "  inflating: Metall_Dataset_test-main/Test/defect/Атмосферная коррозия_ виды_ особенности_ защита от коррози.jpg  \n",
            "  inflating: Metall_Dataset_test-main/Test/defect/Бесплатная текстура металла с ржавчиной и краской.jpg  \n",
            "  inflating: Metall_Dataset_test-main/Test/defect/Бесплатное изображение_ металл_ сталь_ ржавчины_ железо_ с.jpg  \n",
            "  inflating: Metall_Dataset_test-main/Test/defect/Бесплатное изображение_ отказаться_ кран_ металл_ Старый_.jpg  \n",
            "  inflating: Metall_Dataset_test-main/Test/defect/Бесплатное изображение_ ржавчина_ металл_ железо_ гранж_ т.jpg  \n",
            "  inflating: Metall_Dataset_test-main/Test/defect/Виды оборудования для лазерной очистки металла.jpeg  \n",
            "  inflating: Metall_Dataset_test-main/Test/defect/Декоративная Ржавчина METALLO ARRUGGINITO — El_ser-dekor (1).jpg  \n",
            "  inflating: Metall_Dataset_test-main/Test/defect/Декоративная Ржавчина METALLO ARRUGGINITO — El_ser-dekor (2).jpg  \n",
            "  inflating: Metall_Dataset_test-main/Test/defect/Декоративная Ржавчина METALLO ARRUGGINITO — El_ser-dekor.jpg  \n",
            "  inflating: Metall_Dataset_test-main/Test/defect/Декоративные панели под металл и ржавчину Metallic (1).jpg  \n",
            "  inflating: Metall_Dataset_test-main/Test/defect/Декоративные панели под металл и ржавчину Metallic (2).jpg  \n",
            "  inflating: Metall_Dataset_test-main/Test/defect/Декоративные панели под металл и ржавчину Metallic.jpg  \n",
            "  inflating: Metall_Dataset_test-main/Test/defect/Декоративные покрытия с эффектом ржавчины и оксидов_yythkg (1).jpg  \n",
            "  inflating: Metall_Dataset_test-main/Test/defect/Декоративные покрытия с эффектом ржавчины и оксидов_yythkg (2).jpg  \n",
            "  inflating: Metall_Dataset_test-main/Test/defect/Декоративные покрытия с эффектом ржавчины и оксидов_yythkg.jpg  \n",
            "  inflating: Metall_Dataset_test-main/Test/defect/Закаленная ржавчина металлическая абстрактная текстура фон__yythk.jpg  \n",
            "  inflating: Metall_Dataset_test-main/Test/defect/Заржавленный металл - Demiart Photoshop.jpg  \n",
            "  inflating: Metall_Dataset_test-main/Test/defect/Защита от коррозии металла_ виды_ способы_ процесс.jpg  \n",
            "  inflating: Metall_Dataset_test-main/Test/defect/Защита от ржавчины_ как защитить металл от коррозии.jpg  \n",
            "  inflating: Metall_Dataset_test-main/Test/defect/Зеленый металл и ржавый старый металл железо ржавчи.jpg  \n",
            "  inflating: Metall_Dataset_test-main/Test/defect/Как бороться со ржавчиной на автомобиле - советы_yy.jpg  \n",
            "  inflating: Metall_Dataset_test-main/Test/defect/Как заржавить металл_ создание естественной ржавчины и_yyt.jpg  \n",
            "  inflating: Metall_Dataset_test-main/Test/defect/бесплатная загрузка _ металл_ краска_ ржавчина_ HD.jpg  \n",
            "  inflating: Metall_Dataset_test-main/Test/defect/железо ржавчина фон_ металл_ Ржавчина_ Текстура фон_yythkg.jpg  \n",
            "  inflating: Metall_Dataset_test-main/Test/defect/☆ 𝙼𝚢𝚛𝚊 𝙼𝚞𝚜𝚎 _ Rust paint_ Metal texture__yy.jpg  \n",
            "   creating: Metall_Dataset_test-main/Test/good/\n",
            "  inflating: Metall_Dataset_test-main/Test/good/Инокс 300 AGT текстура.jpg  \n",
            "  inflating: Metall_Dataset_test-main/Test/good/Лист AISI 321 шлифованная.jpg  \n",
            " extracting: Metall_Dataset_test-main/Test/good/Металл текстура бесшовная для 3d Max.jpg  \n",
            "  inflating: Metall_Dataset_test-main/Test/good/Металлик Сильвер.jpg  \n",
            "  inflating: Metall_Dataset_test-main/Test/good/Металлическая поверхность (1).jpg  \n",
            " extracting: Metall_Dataset_test-main/Test/good/Металлическая поверхность (2).jpg  \n",
            "  inflating: Metall_Dataset_test-main/Test/good/Металлическая поверхность.jpg  \n",
            " extracting: Metall_Dataset_test-main/Test/good/Металлическая текстура (1).jpg  \n",
            " extracting: Metall_Dataset_test-main/Test/good/Металлическая текстура (2).jpg  \n",
            "  inflating: Metall_Dataset_test-main/Test/good/Металлическая текстура (3).jpg  \n",
            " extracting: Metall_Dataset_test-main/Test/good/Металлическая текстура (4).jpg  \n",
            "  inflating: Metall_Dataset_test-main/Test/good/Металлическая текстура (5).jpg  \n",
            "  inflating: Metall_Dataset_test-main/Test/good/Металлическая текстура.jpg  \n",
            "  inflating: Metall_Dataset_test-main/Test/good/Металлический фон (1).jpg  \n",
            "  inflating: Metall_Dataset_test-main/Test/good/Металлический фон (2).jpg  \n",
            "  inflating: Metall_Dataset_test-main/Test/good/Металлический фон (3).jpg  \n",
            "  inflating: Metall_Dataset_test-main/Test/good/Металлический фон с заклепками.jpg  \n",
            "  inflating: Metall_Dataset_test-main/Test/good/Металлический фон.jpg  \n",
            " extracting: Metall_Dataset_test-main/Test/good/Металлический цвет.jpg  \n",
            " extracting: Metall_Dataset_test-main/Test/good/Нержавейка матовая и шлифованная.jpg  \n",
            "  inflating: Metall_Dataset_test-main/Test/good/Сатин платина 19235.jpg  \n",
            "  inflating: Metall_Dataset_test-main/Test/good/Текстура металла (1).jpg  \n",
            "  inflating: Metall_Dataset_test-main/Test/good/Текстура металла (2).jpg  \n",
            "  inflating: Metall_Dataset_test-main/Test/good/Текстура металла (3).jpg  \n",
            "  inflating: Metall_Dataset_test-main/Test/good/Текстура металла (4).jpg  \n",
            " extracting: Metall_Dataset_test-main/Test/good/Текстура металла (5).jpg  \n",
            " extracting: Metall_Dataset_test-main/Test/good/Текстура металла.jpg  \n",
            " extracting: Metall_Dataset_test-main/Test/good/Фактура металла (1).jpg  \n",
            "  inflating: Metall_Dataset_test-main/Test/good/Фактура металла.jpg  \n",
            "  inflating: Metall_Dataset_test-main/Test/good/Фактура металла.png  \n",
            "   creating: Metall_Dataset_test-main/Training/\n",
            "   creating: Metall_Dataset_test-main/Training/defect/\n",
            "  inflating: Metall_Dataset_test-main/Training/defect/38 качественных текстур ржавчины.jpg  \n",
            "  inflating: Metall_Dataset_test-main/Training/defect/3d текстура - Ржавчина (1).jpg  \n",
            "  inflating: Metall_Dataset_test-main/Training/defect/3d текстура - Ржавчина (2).jpg  \n",
            "  inflating: Metall_Dataset_test-main/Training/defect/3d текстура - Ржавчина (3).jpg  \n",
            "  inflating: Metall_Dataset_test-main/Training/defect/3d текстура - Ржавчина.jpg  \n",
            "  inflating: Metall_Dataset_test-main/Training/defect/Free Краски и ржавчины текстура Stock Photo __yythk.jpg  \n",
            "  inflating: Metall_Dataset_test-main/Training/defect/Free Ржавчина текстуры _1 Stock Photo _ FreeImages.jpg  \n",
            "  inflating: Metall_Dataset_test-main/Training/defect/Free Ржавчины текстура 01 Stock Photo _ FreeImages.jpg  \n",
            "  inflating: Metall_Dataset_test-main/Training/defect/Free Ржавчины текстура 02 Stock Photo _ FreeImages.jpg  \n",
            "  inflating: Metall_Dataset_test-main/Training/defect/Free Ржавчины текстура 1 Stock Photo _ FreeImages (1).jpg  \n",
            "  inflating: Metall_Dataset_test-main/Training/defect/Free Ржавчины текстура 1 Stock Photo _ FreeImages.jpg  \n",
            "  inflating: Metall_Dataset_test-main/Training/defect/Free Ржавчины текстура 2 Stock Photo _ FreeImages.jpg  \n",
            "  inflating: Metall_Dataset_test-main/Training/defect/Free Текстуры ржавчины Stock Photo _ FreeImages.jpg  \n",
            "  inflating: Metall_Dataset_test-main/Training/defect/Free ржавчины текстура Stock Photo _ FreeImages (1).jpg  \n",
            "  inflating: Metall_Dataset_test-main/Training/defect/Free ржавчины текстура Stock Photo _ FreeImages.jpg  \n",
            "  inflating: Metall_Dataset_test-main/Training/defect/Free текстуры - ржавчины автомобилей 1 Stock Photo_.jpg  \n",
            "  inflating: Metall_Dataset_test-main/Training/defect/Metal rust plate Изображения_ стоковые фотографии и_yythkg (1).jpg  \n",
            "  inflating: Metall_Dataset_test-main/Training/defect/Metal rust plate Изображения_ стоковые фотографии и_yythkg.jpg  \n",
            "  inflating: Metall_Dataset_test-main/Training/defect/PhotoshopSunduchok - Текстура ржавчины для фотошопа (1).jpg  \n",
            "  inflating: Metall_Dataset_test-main/Training/defect/PhotoshopSunduchok - Текстура ржавчины для фотошопа.jpg  \n",
            "  inflating: Metall_Dataset_test-main/Training/defect/Rust Textures _ Ржавчина - текстуры » Территория_yy.jpg  \n",
            "  inflating: Metall_Dataset_test-main/Training/defect/Rust _ さび _ Rouille _ ржавчина _ Ruggine_yyt.jpg  \n",
            "  inflating: Metall_Dataset_test-main/Training/defect/Zinc Изображения_ стоковые фотографии и картинки Zinc.jpg  \n",
            "  inflating: Metall_Dataset_test-main/Training/defect/Безшовная шелушась текстура ржавчины Стоковое Фото -_yythk.jpg  \n",
            "  inflating: Metall_Dataset_test-main/Training/defect/Бесплатное изображение_ Крепеж_ стена_ Старый_ ржавчина_ д.jpg  \n",
            "  inflating: Metall_Dataset_test-main/Training/defect/Бесплатное изображение_ краска_ ржавчина_ старый_ темный_.jpg  \n",
            "  inflating: Metall_Dataset_test-main/Training/defect/Бесплатное изображение_ краска_ ржавчины_ аннотация_ текстуру__yy.jpg  \n",
            "  inflating: Metall_Dataset_test-main/Training/defect/Бесплатное изображение_ металл_ краска_ текст_ крупным пла.jpg  \n",
            "  inflating: Metall_Dataset_test-main/Training/defect/Бесплатное изображение_ металл_ сталь_ ржавчины_ железо_ с.jpg  \n",
            "  inflating: Metall_Dataset_test-main/Training/defect/Бесплатное изображение_ металлик_ грязные_ металл_ грязь_.jpg  \n",
            "  inflating: Metall_Dataset_test-main/Training/defect/Бесплатное изображение_ номер_ ржавчина_ старый_ металл_ д.jpg  \n",
            "  inflating: Metall_Dataset_test-main/Training/defect/Бесплатное изображение_ ржавчина_ металл_ железо_ гранж_ т.jpg  \n",
            "  inflating: Metall_Dataset_test-main/Training/defect/Бесплатное изображение_ ржавчина_ металл_ светло-коричневый_ винт.jpg  \n",
            "  inflating: Metall_Dataset_test-main/Training/defect/Бесплатное изображение_ текстуры_ структура_ ржавчины_ металл__yy.jpg  \n",
            "  inflating: Metall_Dataset_test-main/Training/defect/Бесплатное изображение_ чугуна_ металл_ Текстура_ ржавчина__yythk.jpg  \n",
            "  inflating: Metall_Dataset_test-main/Training/defect/Бесшовная ржавая текстура. Ржавчина _ Артикул_ 334785854_y.jpg  \n",
            "  inflating: Metall_Dataset_test-main/Training/defect/Бесшовные гранжевые текстуры - ржавчина.jpg  \n",
            "  inflating: Metall_Dataset_test-main/Training/defect/Бесшовные ржавчины текстуры _ Фото большого размера_yythkg.jpg  \n",
            "  inflating: Metall_Dataset_test-main/Training/defect/Гранж Старый Металлический Фон Текстура Ржавчины Чугуна_yy.jpg  \n",
            "  inflating: Metall_Dataset_test-main/Training/defect/Грязный металл текстура - 29 фото - картинки_yythkg.jpg  \n",
            "  inflating: Metall_Dataset_test-main/Training/defect/Железная ржавая текстура текстуры фона_ ржавый_ Ржавчина__.jpg  \n",
            "  inflating: Metall_Dataset_test-main/Training/defect/Задний план_ texture._ ржавчина_ бесшовный. Металл_ бесшов.jpg  \n",
            "  inflating: Metall_Dataset_test-main/Training/defect/Закаленная ржавчина металлическая абстрактная текстура фон__yythk.jpg  \n",
            "  inflating: Metall_Dataset_test-main/Training/defect/Идеи на тему «Металл» (14) _ текстуры_ металл__yyth.jpg  \n",
            "  inflating: Metall_Dataset_test-main/Training/defect/Идеи на тему «Ржавчина» (500) _ ржавчина_ ржавый_yy (1).jpg  \n",
            "  inflating: Metall_Dataset_test-main/Training/defect/Идеи на тему «Ржавчина» (500) _ ржавчина_ ржавый_yy.jpg  \n",
            "  inflating: Metall_Dataset_test-main/Training/defect/Изображение ржавчины на поверхности текстура _ Обои_yythkg.jpg  \n",
            "  inflating: Metall_Dataset_test-main/Training/defect/Изображения Rust Texture _ Бесплатные векторы_ стоковые_yy.jpg  \n",
            "  inflating: Metall_Dataset_test-main/Training/defect/Картинка на телефон_ Текстуры_ Поверхность_ Ржавчина_ Желе.jpg  \n",
            "  inflating: Metall_Dataset_test-main/Training/defect/Классные картинка на телефон широкоформатные - Ржавчина__y.jpg  \n",
            "  inflating: Metall_Dataset_test-main/Training/defect/Коррозионная текстура _267964044 - Ларасток.jpg  \n",
            "  inflating: Metall_Dataset_test-main/Training/defect/Коррозия текстуры металла ржавчины фон_ коррозия_ металл__.jpg  \n",
            "  inflating: Metall_Dataset_test-main/Training/defect/Красивая_ старый_ ржавчина_ текстура. Красивая_ старый_ кр.jpg  \n",
            "  inflating: Metall_Dataset_test-main/Training/defect/Магнитный пазл 27x18см._Железо_ ржавчина_ текстура_ на хол.jpg  \n",
            "  inflating: Metall_Dataset_test-main/Training/defect/Магнитный пазл 27x18см._Ржавчина_ текстура_ справочная информация.jpg  \n",
            "  inflating: Metall_Dataset_test-main/Training/defect/Металл_ ржавчина_ текстура. Коричневый_ пластина_ металл_.jpg  \n",
            "  inflating: Metall_Dataset_test-main/Training/defect/Металл_ ржавчина_ текстура. Синий_ rust._ покрасить_ абстр.jpg  \n",
            "  inflating: Metall_Dataset_test-main/Training/defect/Металлическая Ржавчина Фон Металл Ржавчина Текстура Ржавчи.jpg  \n",
            "  inflating: Metall_Dataset_test-main/Training/defect/Металлическая ржавчина гранж ржавые текстуры фона_ металл_.jpg  \n",
            "  inflating: Metall_Dataset_test-main/Training/defect/Металлическая ржавчина гранж текстуры абстрактный фон_ Мет.jpg  \n",
            "  inflating: Metall_Dataset_test-main/Training/defect/Металлическая ржавчина текстура текстура фон_ металлический_yythk.jpg  \n",
            "  inflating: Metall_Dataset_test-main/Training/defect/Металлическая ржавчина фон металлическая ржавчина текстура_yythkg.jpg  \n",
            "  inflating: Metall_Dataset_test-main/Training/defect/Металлический Фон Ржавчины Разлагающаяся Сталь Металлическая_yyth.jpg  \n",
            "  inflating: Metall_Dataset_test-main/Training/defect/Обои «ржавчина_ поверхность_ текстура_ металл_ пятна» для_.jpg  \n",
            "  inflating: Metall_Dataset_test-main/Training/defect/Обои ветвь_ текстура_ ржавчина_ металл_ дерево 4K U.jpg  \n",
            "  inflating: Metall_Dataset_test-main/Training/defect/Обои дерево_ ржавчина_ клепки_ _железо картинки на.jpg  \n",
            "  inflating: Metall_Dataset_test-main/Training/defect/Обои для рабочего стола_ на рабочий стол темный__yy.jpg  \n",
            "  inflating: Metall_Dataset_test-main/Training/defect/Обои для телефона ржавчина текстура ржавый оранжевый_yythk.jpg  \n",
            "  inflating: Metall_Dataset_test-main/Training/defect/Обои краска_ текстура_ ржавчина картинки на рабочий_yythkg.jpg  \n",
            "  inflating: Metall_Dataset_test-main/Training/defect/Обои металл_ ржавчина_ рыжий_ текстуры картинки на.jpg  \n",
            "  inflating: Metall_Dataset_test-main/Training/defect/Обои металл_ ржавчина_ узор_ текстура_ рисование для_yythk.jpg  \n",
            "  inflating: Metall_Dataset_test-main/Training/defect/Обои на телефон_ Текстура_ Текстуры_ Поверхность_ Металлич.jpg  \n",
            "  inflating: Metall_Dataset_test-main/Training/defect/Обои на телефон_ Цифры_ Разноцветный_ Ржавчина_ Текстуры__.jpg  \n",
            "  inflating: Metall_Dataset_test-main/Training/defect/Обои поверхность_ металл_ текстура_ ржавчина_ орнамент кар.jpg  \n",
            "  inflating: Metall_Dataset_test-main/Training/defect/Обои поверхность_ металл_ текстура_ ржавчина_ пятна картин.jpg  \n",
            "  inflating: Metall_Dataset_test-main/Training/defect/Обои ржавчина_ металл_ коррозия_ текстура_ железо Full_yyt.jpg  \n",
            "  inflating: Metall_Dataset_test-main/Training/defect/Обои ржавчина_ морилка_ стена_ древесина_ узор - ка.jpg  \n",
            "  inflating: Metall_Dataset_test-main/Training/defect/Обои ржавчина_ наложение текстуры_ металл_ железо_ коричне.jpg  \n",
            "  inflating: Metall_Dataset_test-main/Training/defect/Обои ржавчина_ разное_ текстуры_ коричневый_ рыжий картинк.jpg  \n",
            "  inflating: Metall_Dataset_test-main/Training/defect/Обои сетки_ металл_ ржавчина_ текстура_ забор HD_ ш.jpg  \n",
            "  inflating: Metall_Dataset_test-main/Training/defect/Обои стена_ ржавчина_ железо_ металл_ текстура - ка.jpg  \n",
            "  inflating: Metall_Dataset_test-main/Training/defect/Обои текстура_ Апельсин_ ржавчина_ живопись_ акриловая кра (1).jpg  \n",
            "  inflating: Metall_Dataset_test-main/Training/defect/Обои текстура_ Апельсин_ ржавчина_ живопись_ акриловая кра.jpg  \n",
            "  inflating: Metall_Dataset_test-main/Training/defect/Обои текстура_ древесина_ рок_ геология_ ржавчина на_yythk.jpg  \n",
            "  inflating: Metall_Dataset_test-main/Training/defect/Обои текстура_ коричневый цвет_ древесина_ ржавчина_ бетон.jpg  \n",
            "  inflating: Metall_Dataset_test-main/Training/defect/Обои текстура_ коричневый цвет_ древесина_ ржавчина_ искус (1).jpg  \n",
            "  inflating: Metall_Dataset_test-main/Training/defect/Обои текстура_ коричневый цвет_ древесина_ ржавчина_ искус.jpg  \n",
            "  inflating: Metall_Dataset_test-main/Training/defect/Обои текстура_ ржавчина_ древесина Full HD_ HDTV_ 1.jpg  \n",
            "  inflating: Metall_Dataset_test-main/Training/defect/Обои фон_ текстура_ ржавчина картинки на рабочий ст (1).jpg  \n",
            "  inflating: Metall_Dataset_test-main/Training/defect/Обои фон_ текстура_ ржавчина картинки на рабочий ст (2).jpg  \n",
            "  inflating: Metall_Dataset_test-main/Training/defect/Обои фон_ текстура_ ржавчина картинки на рабочий ст (3).jpg  \n",
            "  inflating: Metall_Dataset_test-main/Training/defect/Обои фон_ текстура_ ржавчина картинки на рабочий ст (4).jpg  \n",
            "  inflating: Metall_Dataset_test-main/Training/defect/Обои фон_ текстура_ ржавчина картинки на рабочий ст.jpg  \n",
            "  inflating: Metall_Dataset_test-main/Training/defect/Пластина из металла ржавчины на всем фоне_ со_yythk.jpg  \n",
            "  inflating: Metall_Dataset_test-main/Training/defect/Пластина_ ржавчина_ старый_ металл_ текстура. Пластина_ ст.jpg  \n",
            "  inflating: Metall_Dataset_test-main/Training/defect/Пользователь «ВКонтакте» превращает снимки ржавчины и обле.jpg  \n",
            "  inflating: Metall_Dataset_test-main/Training/defect/Предпосылка ржавчины металла_ старая текстура ржавчины утю (1).jpg  \n",
            "  inflating: Metall_Dataset_test-main/Training/defect/Предпосылка ржавчины металла_ старая текстура ржавчины утю (2).jpg  \n",
            "  inflating: Metall_Dataset_test-main/Training/defect/Предпосылка ржавчины металла_ старая текстура ржавчины утю.jpg  \n",
            "  inflating: Metall_Dataset_test-main/Training/defect/Промышленные_ гранж_ железо_ стена_ шаблон_ металл_ тексту.jpg  \n",
            "  inflating: Metall_Dataset_test-main/Training/defect/Ржавая металлическая поверхность. Может использоваться в к.jpg  \n",
            "  inflating: Metall_Dataset_test-main/Training/defect/Ржавая металлическая текстура_ ржавчина и окисленный метал.jpg  \n",
            "  inflating: Metall_Dataset_test-main/Training/defect/Ржавая металлическая текстура_ ржавчина проходит через кра.jpg  \n",
            "  inflating: Metall_Dataset_test-main/Training/defect/Ржавая текстура - 49 фото - картинки и рисун.jpg  \n",
            "  inflating: Metall_Dataset_test-main/Training/defect/Ржавая текстура - фото и картинки abrakadabra.fun.jpg  \n",
            "  inflating: Metall_Dataset_test-main/Training/defect/Ржавая текстура Изображения_ стоковые фотографии и картинк (1).jpg  \n",
            "  inflating: Metall_Dataset_test-main/Training/defect/Ржавая текстура Изображения_ стоковые фотографии и картинк (2).jpg  \n",
            "  inflating: Metall_Dataset_test-main/Training/defect/Ржавая текстура Изображения_ стоковые фотографии и картинк (3).jpg  \n",
            "  inflating: Metall_Dataset_test-main/Training/defect/Ржавая текстура Изображения_ стоковые фотографии и картинк.jpg  \n",
            "  inflating: Metall_Dataset_test-main/Training/defect/Ржавая текстура металла_ ржавчина и окисленный металлическ.jpg  \n",
            "  inflating: Metall_Dataset_test-main/Training/defect/Ржавое золото текстура - 30 фото - картинки.jpg  \n",
            "  inflating: Metall_Dataset_test-main/Training/defect/Ржавчина Коррозия _ Ржавчина_ Текстуры_ Штукатурка.jpg  \n",
            "  inflating: Metall_Dataset_test-main/Training/defect/Ржавчина На Металлической Поверхности Текстура Железа Част.jpg  \n",
            "  inflating: Metall_Dataset_test-main/Training/defect/Ржавчина Текстура Бесшовная.jpg  \n",
            "  inflating: Metall_Dataset_test-main/Training/defect/Ржавчина Текстура Фон Крупный План Грязь Металлические_yyt (6).jpg  \n",
            "  inflating: Metall_Dataset_test-main/Training/defect/Ржавчина Текстура Фон Крупный План Грязь Металлические_yyt.jpg  \n",
            "  inflating: Metall_Dataset_test-main/Training/defect/Ржавчина и окисленный металлический фон. промышленная мета.jpg  \n",
            "  inflating: Metall_Dataset_test-main/Training/defect/Ржавчина на листовом металле - бесшовная текстура..jpg  \n",
            "  inflating: Metall_Dataset_test-main/Training/defect/Ржавчина на металле_ старая обшарпанная металлическая стен.jpg  \n",
            "  inflating: Metall_Dataset_test-main/Training/defect/Ржавчина обои Изображения_ стоковые фотографии и картинки_.jpg  \n",
            "  inflating: Metall_Dataset_test-main/Training/defect/Ржавчина обои_ ржавчина HD картинки_ фото скачать б.jpg  \n",
            "  inflating: Metall_Dataset_test-main/Training/defect/Ржавчина текстура - 45 фото - картинки и рис.jpg  \n",
            "  inflating: Metall_Dataset_test-main/Training/defect/Ржавчина текстура бесшовная - 25 фото - картинки_yy.jpg  \n",
            "  inflating: Metall_Dataset_test-main/Training/defect/Ржавчина текстура на железе_ фон _403350496 - Ларас.jpg  \n",
            "  inflating: Metall_Dataset_test-main/Training/defect/Ржавчина текстура фон крупным планом грязь металлические_y (1).jpg  \n",
            "  inflating: Metall_Dataset_test-main/Training/defect/Ржавчина текстура фон крупным планом грязь металлические_y (2).jpg  \n",
            "  inflating: Metall_Dataset_test-main/Training/defect/Ржавчина текстура фон крупным планом грязь металлические_y (3).jpg  \n",
            "  inflating: Metall_Dataset_test-main/Training/defect/Ржавчина текстура фон крупным планом грязь металлические_y (4).jpg  \n",
            "  inflating: Metall_Dataset_test-main/Training/defect/Ржавчина текстура фон крупным планом грязь металлические_y (5).jpg  \n",
            "  inflating: Metall_Dataset_test-main/Training/defect/Ржавчина текстура фон крупным планом грязь металлические_y (6).jpg  \n",
            "  inflating: Metall_Dataset_test-main/Training/defect/Ржавчина текстура фон крупным планом грязь металлические_y.jpg  \n",
            "  inflating: Metall_Dataset_test-main/Training/defect/Ржавчина текстура_ фон_ скачать изображение фото ржавчины.jpg  \n",
            "  inflating: Metall_Dataset_test-main/Training/defect/Ржавчина текстуры » Территория дизайнера и веб-мастера_yyt.jpg  \n",
            "  inflating: Metall_Dataset_test-main/Training/defect/Ржавчина фон - 33 фото для презентаций и кар.jpg  \n",
            "  inflating: Metall_Dataset_test-main/Training/defect/Ржавчина_ rusted_ металл_ поверхность_ текстура. Быть_ исп.jpg  \n",
            "  inflating: Metall_Dataset_test-main/Training/defect/Ржавчина_ Текстура_ Оксид_ Бак_ Металл_ Аннотация_ Фоны__y.jpg  \n",
            "  inflating: Metall_Dataset_test-main/Training/defect/Ржавчина_ бесшовный_ текстура. Rusted_ металл_ бесшовный_ (1).jpg  \n",
            "  inflating: Metall_Dataset_test-main/Training/defect/Ржавчина_ бесшовный_ текстура. Rusted_ металл_ бесшовный_.jpg  \n",
            "  inflating: Metall_Dataset_test-main/Training/defect/Ржавчина_ окисление _ Текстуры_ Ржавчина_ Фон.jpg  \n",
            "  inflating: Metall_Dataset_test-main/Training/defect/Ржавчина_ текстура. _ CanStock (1).jpg  \n",
            "  inflating: Metall_Dataset_test-main/Training/defect/Ржавчина_ текстура. _ CanStock.jpg  \n",
            "  inflating: Metall_Dataset_test-main/Training/defect/Ржавчина_ текстура. Абстрактные_ очищенные_ металл_ поверхность__.jpg  \n",
            "  inflating: Metall_Dataset_test-main/Training/defect/Ржавчины Текстура В Виде Металлической Пластинкой —_yythkg.jpg  \n",
            "  inflating: Metall_Dataset_test-main/Training/defect/Ржавчины Текстура Стоковые Фотографии _ FreeImages.jpg  \n",
            "  inflating: Metall_Dataset_test-main/Training/defect/Ржавчины металла - Металл - 3D Модель.jpg  \n",
            "  inflating: Metall_Dataset_test-main/Training/defect/Ржавые текстуры_ ржавчина_ царапина_ Текстура фон картинки.jpg  \n",
            "  inflating: Metall_Dataset_test-main/Training/defect/Ржавый гранж металл_ ржавчина_ окисленная стальная текстур.jpg  \n",
            "  inflating: Metall_Dataset_test-main/Training/defect/Ржавый металл - 32 фото.jpg  \n",
            "  inflating: Metall_Dataset_test-main/Training/defect/Ржавый металл текстура бесшовная - 23 фото -_yythkg.jpg  \n",
            "  inflating: Metall_Dataset_test-main/Training/defect/Ржавый металлический фон текстуры_ ржавчина_ материал_ мет.jpg  \n",
            "  inflating: Metall_Dataset_test-main/Training/defect/Рука Нарисованные Оранжевый Цвет Ржавчины Текстура —_yythk.jpg  \n",
            "  inflating: Metall_Dataset_test-main/Training/defect/Синий_ окрашенный_ металл_ ржавчина_ текстура. Синий_ окра.jpg  \n",
            "  inflating: Metall_Dataset_test-main/Training/defect/Скачать 1280x1024 краска_ ржавчина_ текстура_ трещины_ гра.jpg  \n",
            "  inflating: Metall_Dataset_test-main/Training/defect/Скачать 1600x900 ржавчина_ поверхность_ железо_ текстура_.jpg  \n",
            "  inflating: Metall_Dataset_test-main/Training/defect/Скачать 240x320 металл_ металлический_ ржавчина_ текстура.jpg  \n",
            "  inflating: Metall_Dataset_test-main/Training/defect/Скачать 2560x1024 пятна_ краска_ ржавчина_ текстура_ повер.jpg  \n",
            "  inflating: Metall_Dataset_test-main/Training/defect/Скачать 3840x2400 металл_ металлический_ ржавчина_ текстура_yythk.jpg  \n",
            "  inflating: Metall_Dataset_test-main/Training/defect/Скачать 3840x2400 поверхность_ металл_ ржавчина_ текстура__yythkg.jpg  \n",
            "  inflating: Metall_Dataset_test-main/Training/defect/Скачать 3876 Фоновая Ржавчина Photos - Envato Eleme (1).jpg  \n",
            "  inflating: Metall_Dataset_test-main/Training/defect/Скачать 3876 Фоновая Ржавчина Photos - Envato Eleme.jpg  \n",
            "  inflating: Metall_Dataset_test-main/Training/defect/Скачать 800x1420 поверхность_ разноцветный_ ржавчина_ текстура_yy.jpg  \n",
            "  inflating: Metall_Dataset_test-main/Training/defect/Скачать бесплатно текстуры сплошной ржавчины металла для_y.jpg  \n",
            "  inflating: Metall_Dataset_test-main/Training/defect/Скачать обои текстура_ стена_ ржавчина_ етекстура_ oxidati.jpg  \n",
            "  inflating: Metall_Dataset_test-main/Training/defect/Скачать текстуру в высоком разрешении_ Ржавчина текстура__ (1).jpg  \n",
            "  inflating: Metall_Dataset_test-main/Training/defect/Скачать текстуру в высоком разрешении_ Ржавчина текстура__ (10).jpg  \n",
            "  inflating: Metall_Dataset_test-main/Training/defect/Скачать текстуру в высоком разрешении_ Ржавчина текстура__ (11).jpg  \n",
            "  inflating: Metall_Dataset_test-main/Training/defect/Скачать текстуру в высоком разрешении_ Ржавчина текстура__ (2).jpg  \n",
            "  inflating: Metall_Dataset_test-main/Training/defect/Скачать текстуру в высоком разрешении_ Ржавчина текстура__ (3).jpg  \n",
            "  inflating: Metall_Dataset_test-main/Training/defect/Скачать текстуру в высоком разрешении_ Ржавчина текстура__ (4).jpg  \n",
            "  inflating: Metall_Dataset_test-main/Training/defect/Скачать текстуру в высоком разрешении_ Ржавчина текстура__ (5).jpg  \n",
            "  inflating: Metall_Dataset_test-main/Training/defect/Скачать текстуру в высоком разрешении_ Ржавчина текстура__ (6).jpg  \n",
            "  inflating: Metall_Dataset_test-main/Training/defect/Скачать текстуру в высоком разрешении_ Ржавчина текстура__ (7).jpg  \n",
            "  inflating: Metall_Dataset_test-main/Training/defect/Скачать текстуру в высоком разрешении_ Ржавчина текстура__ (8).jpg  \n",
            "  inflating: Metall_Dataset_test-main/Training/defect/Скачать текстуру в высоком разрешении_ Ржавчина текстура__ (9).jpg  \n",
            "  inflating: Metall_Dataset_test-main/Training/defect/Скачать текстуру в высоком разрешении_ Ржавчина текстура__.jpg  \n",
            "  inflating: Metall_Dataset_test-main/Training/defect/Скачать экстремальные текстуры ржавчины и коррозии больших.jpg  \n",
            "  inflating: Metall_Dataset_test-main/Training/defect/Создать мем _stone_ петроглифы байкала_ ржавчина текстура_.jpg  \n",
            "  inflating: Metall_Dataset_test-main/Training/defect/Состаренный металл текстура - 29 фото - картинки_yy.jpg  \n",
            "  inflating: Metall_Dataset_test-main/Training/defect/Стальная Ржавчина Стальная Текстура Текстура Ржавчины Ржав.jpg  \n",
            "  inflating: Metall_Dataset_test-main/Training/defect/Старая краска на металлическом фоне_ ржавчина текстуры_yyt.jpg  \n",
            "  inflating: Metall_Dataset_test-main/Training/defect/Старая ржавчина текстура ржавого металла коричнева Справоч.jpg  \n",
            "  inflating: Metall_Dataset_test-main/Training/defect/Старые деревянные доски с потрескавшейся изумрудной краско.jpg  \n",
            "  inflating: Metall_Dataset_test-main/Training/defect/Старый Металлический Чугуна Ржавчины Текстура Фон —_yythkg (1).jpg  \n",
            "  inflating: Metall_Dataset_test-main/Training/defect/Старый Металлический Чугуна Ржавчины Текстура Фон —_yythkg.jpg  \n",
            "  inflating: Metall_Dataset_test-main/Training/defect/Старый Оранжевый Цвет Ржавчины Текстура Фон С Стары.jpg  \n",
            "  inflating: Metall_Dataset_test-main/Training/defect/Старый Ржавый Стальrusty Metal Textureцвет Ржавчины Тексту.jpg  \n",
            "  inflating: Metall_Dataset_test-main/Training/defect/Стена_ stains_ камень_ ржавчина_ текстура. _ CanStock.jpg  \n",
            "  inflating: Metall_Dataset_test-main/Training/defect/Стоковое фото пользователя Kentoh _ Ржавчина_ Текстуры__yy.jpg  \n",
            "  inflating: Metall_Dataset_test-main/Training/defect/Страница 2 _ фотографии Текстура ржавчины _ Pxfuel.jpg  \n",
            "  inflating: Metall_Dataset_test-main/Training/defect/Текстура Ржавчина - AVATAN PLUS (1).jpg  \n",
            "  inflating: Metall_Dataset_test-main/Training/defect/Текстура Ржавчины На Чтото Металлическое — стоковые_yythkg.jpg  \n",
            "  inflating: Metall_Dataset_test-main/Training/defect/Текстура Цинка Цинковый Фон Цинковая Ржавчина Фоновая_yyth.jpg  \n",
            "  inflating: Metall_Dataset_test-main/Training/defect/Текстура грязного металла - 26 фото - картинки_yyth.jpg  \n",
            "  inflating: Metall_Dataset_test-main/Training/defect/Текстура покрашенного металла - 26 фото - картинки_.jpg  \n",
            "  inflating: Metall_Dataset_test-main/Training/defect/Текстура ржавчина - AVATAN PLUS.jpg  \n",
            "  inflating: Metall_Dataset_test-main/Training/defect/Текстура ржавчины 350.jpg  \n",
            "  inflating: Metall_Dataset_test-main/Training/defect/Текстура ржавчины и краски стоковое фото. изображение_yyth.jpg  \n",
            "  inflating: Metall_Dataset_test-main/Training/defect/Текстура ржавчины изображение_Фото номер 500945460_JPG Формат_yyt.jpg  \n",
            "  inflating: Metall_Dataset_test-main/Training/defect/Текстура ржавчины изображение_Фото номер 500945475_JPG Формат_yyt.jpg  \n",
            "  inflating: Metall_Dataset_test-main/Training/defect/Текстура ржавчины металла _333609924 - Ларасток.jpg  \n",
            "  inflating: Metall_Dataset_test-main/Training/defect/Текстура ржавчины металла предпосылки ржавчины металла_ рж (1).jpg  \n",
            "  inflating: Metall_Dataset_test-main/Training/defect/Текстура ржавчины металла предпосылки ржавчины металла_ рж.jpg  \n",
            "  inflating: Metall_Dataset_test-main/Training/defect/Текстура ржавчины на металлическом листе Стоковое Фото_yyt.jpg  \n",
            "  inflating: Metall_Dataset_test-main/Training/defect/Текстура ржавчины с метками сварки - Free Image_yyt.jpg  \n",
            "  inflating: Metall_Dataset_test-main/Training/defect/Текстура ржавчины старого металла. _ Премиум Фото.jpg  \n",
            "  inflating: Metall_Dataset_test-main/Training/defect/Текстура ржавчины. Старый металл. Абстрактная разрушанная.jpg  \n",
            "  inflating: Metall_Dataset_test-main/Training/defect/Текстура старого металла - 56 фото - картинки_yythk.jpg  \n",
            "  inflating: Metall_Dataset_test-main/Training/defect/Текстура старой краски на металле - 23 фото.jpg  \n",
            "  inflating: Metall_Dataset_test-main/Training/defect/Текстура улыбки ржавчины. Как культурообразующий фактор за.jpg  \n",
            "  inflating: Metall_Dataset_test-main/Training/defect/Текстура_ rusted_ металл_ задний план_ красный_ ржавчина._.jpg  \n",
            "  inflating: Metall_Dataset_test-main/Training/defect/Текстуры - Металл_ Ржавчина - Страница 8 (1).jpg  \n",
            "  inflating: Metall_Dataset_test-main/Training/defect/Текстуры - Металл_ Ржавчина - Страница 8 (2).jpg  \n",
            "  inflating: Metall_Dataset_test-main/Training/defect/Текстуры - Металл_ Ржавчина - Страница 8 (3).jpg  \n",
            "  inflating: Metall_Dataset_test-main/Training/defect/Текстуры - Металл_ Ржавчина - Страница 8 (5).jpg  \n",
            "  inflating: Metall_Dataset_test-main/Training/defect/Текстуры - Металл_ Ржавчина - Страница 8 (6).jpg  \n",
            "  inflating: Metall_Dataset_test-main/Training/defect/Текстуры - Металл_ Ржавчина - Страница 8 (8).jpg  \n",
            "  inflating: Metall_Dataset_test-main/Training/defect/Текстуры - Металл_ Ржавчина - Страница 8 (9).jpg  \n",
            "  inflating: Metall_Dataset_test-main/Training/defect/Текстуры - Металл_ Ржавчина - Страница 8.jpg  \n",
            "  inflating: Metall_Dataset_test-main/Training/defect/Текстуры на тему покрашенная ржавая металлическая стена_yy (1).jpg  \n",
            "  inflating: Metall_Dataset_test-main/Training/defect/Текстуры на тему покрашенная ржавая металлическая стена_yy (10).jpg  \n",
            "  inflating: Metall_Dataset_test-main/Training/defect/Текстуры на тему покрашенная ржавая металлическая стена_yy (11).jpg  \n",
            "  inflating: Metall_Dataset_test-main/Training/defect/Текстуры на тему покрашенная ржавая металлическая стена_yy (12).jpg  \n",
            "  inflating: Metall_Dataset_test-main/Training/defect/Текстуры на тему покрашенная ржавая металлическая стена_yy (2).jpg  \n",
            "  inflating: Metall_Dataset_test-main/Training/defect/Текстуры на тему покрашенная ржавая металлическая стена_yy (3).jpg  \n",
            "  inflating: Metall_Dataset_test-main/Training/defect/Текстуры на тему покрашенная ржавая металлическая стена_yy (4).jpg  \n",
            "  inflating: Metall_Dataset_test-main/Training/defect/Текстуры на тему покрашенная ржавая металлическая стена_yy (5).jpg  \n",
            "  inflating: Metall_Dataset_test-main/Training/defect/Текстуры на тему покрашенная ржавая металлическая стена_yy (6).jpg  \n",
            "  inflating: Metall_Dataset_test-main/Training/defect/Текстуры на тему покрашенная ржавая металлическая стена_yy (7).jpg  \n",
            "  inflating: Metall_Dataset_test-main/Training/defect/Текстуры на тему покрашенная ржавая металлическая стена_yy (8).jpg  \n",
            "  inflating: Metall_Dataset_test-main/Training/defect/Текстуры на тему покрашенная ржавая металлическая стена_yy (9).jpg  \n",
            "  inflating: Metall_Dataset_test-main/Training/defect/бесшовная текстура ржавчины на фоне ржавого металла_yythkg (1).jpg  \n",
            "  inflating: Metall_Dataset_test-main/Training/defect/бесшовная текстура ржавчины на фоне ржавого металла_yythkg (2).jpg  \n",
            "  inflating: Metall_Dataset_test-main/Training/defect/бесшовная текстура ржавчины на фоне ржавого металла_yythkg.jpg  \n",
            "  inflating: Metall_Dataset_test-main/Training/defect/гранж_ ржавчина_ текстура_ металл_ старый_ развалины_ фоны.jpg  \n",
            "  inflating: Metall_Dataset_test-main/Training/defect/железо ржавчина фон_ металл_ Ржавчина_ Текстура фон_yythkg (1).jpg  \n",
            "  inflating: Metall_Dataset_test-main/Training/defect/железо ржавчина фон_ металл_ Ржавчина_ Текстура фон_yythkg.jpg  \n",
            "  inflating: Metall_Dataset_test-main/Training/defect/железо_ ржавчина_ текстура_ покрасить_ рамки_ Рисование_ ц.jpg  \n",
            "  inflating: Metall_Dataset_test-main/Training/defect/картинки _ дерево_ кожа_ текстура_ ржавчина_ цвет_.jpg  \n",
            "  inflating: Metall_Dataset_test-main/Training/defect/картинки _ дерево_ лес_ камень_ творческий_ состав__yythkg.jpg  \n",
            "  inflating: Metall_Dataset_test-main/Training/defect/картинки _ дерево_ текстура_ лист_ хобот_ старый_ с.jpg  \n",
            "  inflating: Metall_Dataset_test-main/Training/defect/картинки _ дерево_ текстура_ пол_ ржавчина_ Лед_ Ме.jpg  \n",
            "  inflating: Metall_Dataset_test-main/Training/defect/картинки _ дерево_ шероховатый_ текстура_ лист_ ржавчина__.jpg  \n",
            "  inflating: Metall_Dataset_test-main/Training/defect/картинки _ море_ дерево_ текстура_ окно_ стена_ пир.jpg  \n",
            "  inflating: Metall_Dataset_test-main/Training/defect/картинки _ текстура_ ржавчина_ Металл_ почва_ Материал__yy.jpg  \n",
            "  inflating: Metall_Dataset_test-main/Training/defect/картинки _ текстура_ ржавчина_ Размышления_ Осень_ Металл_.jpg  \n",
            "  inflating: Metall_Dataset_test-main/Training/defect/картинки _ текстура_ стали_ ржавчина_ шаблон_ Красный__yyt.jpg  \n",
            "  inflating: Metall_Dataset_test-main/Training/defect/картинки _ текстура_ стена_ ржавчина_ Металл_ почва__yythk.jpg  \n",
            "  inflating: Metall_Dataset_test-main/Training/defect/картинки _ текстура_ стена_ ржавчина_ граффити_ Материал__.jpg  \n",
            "  inflating: Metall_Dataset_test-main/Training/defect/картинки _ шероховатый_ античный_ пол_ старый_ ржавчина__y.jpg  \n",
            "  inflating: Metall_Dataset_test-main/Training/defect/картинки _ шероховатый_ дерево_ текстура_ окно_ стена__yyt.jpg  \n",
            "  inflating: Metall_Dataset_test-main/Training/defect/коррозия и ржавчина на фоне цинкового листа и_yythk.jpg  \n",
            "  inflating: Metall_Dataset_test-main/Training/defect/красная ржавчина_ текстура_ заброшенный_ ухудшение_ гранж__yythkg.jpg  \n",
            "  inflating: Metall_Dataset_test-main/Training/defect/металл_ облезлый_ ржавчина_ краска_ текстура_ поверхность.jpg  \n",
            "  inflating: Metall_Dataset_test-main/Training/defect/металл_ ржавчина_ ржавый_ синий_ покрасить_ текстура_ ресу.jpg  \n",
            "  inflating: Metall_Dataset_test-main/Training/defect/металлическая текстура с синей краской и ржавчиной.jpg  \n",
            "  inflating: Metall_Dataset_test-main/Training/defect/ностальгический ветер ржавчина текстура фон _ Фон P.jpg  \n",
            "  inflating: Metall_Dataset_test-main/Training/defect/обои _ 2560x1440 px_ оранжевый_ ржавчина_ Текстура__yythkg.jpg  \n",
            "  inflating: Metall_Dataset_test-main/Training/defect/обои _ Белое_ Черный_ Руки_ Италия_ архитектура_ жу.jpg  \n",
            "  inflating: Metall_Dataset_test-main/Training/defect/обои _ Иллюстрация_ текст_ ржавчина_ Текстура_ круг__yythk.jpg  \n",
            "  inflating: Metall_Dataset_test-main/Training/defect/обои _ Пища_ камень_ дерево_ Коричневый_ стали_ ржа.jpg  \n",
            "  inflating: Metall_Dataset_test-main/Training/defect/обои _ Старый_ Размышления_ небо_ дерево_ вечер_ рж.jpg  \n",
            "  inflating: Metall_Dataset_test-main/Training/defect/обои _ Старый_ окно_ Древний_ Городской_ здание_ Ст.jpg  \n",
            "  inflating: Metall_Dataset_test-main/Training/defect/обои _ Стена_ Кирпичи_ ржавчина_ Текстура_ IPhone_.jpg  \n",
            "  inflating: Metall_Dataset_test-main/Training/defect/обои _ Черный_ камень_ Стена_ дерево_ Коричневый_ р.jpg  \n",
            "  inflating: Metall_Dataset_test-main/Training/defect/обои _ ржавчина_ Текстура_ Nine Inch Nails_ Формиро.jpg  \n",
            "  inflating: Metall_Dataset_test-main/Training/defect/оранжевый текстиль_ фон_ абстрактный_ абстрактный фон_ ора.jpg  \n",
            "  inflating: Metall_Dataset_test-main/Training/defect/пятна_ краска_ ржавчина_ текстура_ поверхность - скачать_y.jpg  \n",
            "  inflating: Metall_Dataset_test-main/Training/defect/ржавчина - Все шаблоны - Создать мем - Meme-.jpg  \n",
            "  inflating: Metall_Dataset_test-main/Training/defect/ржавчина металлическая текстура - стоковое фото _ C (1).jpg  \n",
            "  inflating: Metall_Dataset_test-main/Training/defect/ржавчина металлическая текстура - стоковое фото _ C.jpg  \n",
            "  inflating: Metall_Dataset_test-main/Training/defect/ржавчина пятнистая текстура фон _ Фон PSD Бесплатна.jpg  \n",
            "  inflating: Metall_Dataset_test-main/Training/defect/ржавчина сталь металлическая текстура с заклепками_ стоков.jpg  \n",
            "  inflating: Metall_Dataset_test-main/Training/defect/ржавчина текстура - стоковое фото _ Crushpixel (1).jpg  \n",
            "  inflating: Metall_Dataset_test-main/Training/defect/ржавчина текстура - стоковое фото _ Crushpixel.jpg  \n",
            "  inflating: Metall_Dataset_test-main/Training/defect/ржавчина фон_ 56 картинки Фото и HD рисунок (1).jpg  \n",
            "  inflating: Metall_Dataset_test-main/Training/defect/ржавчина фон_ 56 картинки Фото и HD рисунок.jpg  \n",
            "  inflating: Metall_Dataset_test-main/Training/defect/ржавчина_ Ржавый_ текстура_ шаблон_ Металл_ сталь_ железо_.jpg  \n",
            "  inflating: Metall_Dataset_test-main/Training/defect/ржавчина_ металл_ старый_ гранж_ текстура_ в возрасте__yyt.jpg  \n",
            "  inflating: Metall_Dataset_test-main/Training/defect/ржавчина_ ржавый_ железо_ старый_ текстура_ металл_ состав.jpg  \n",
            "  inflating: Metall_Dataset_test-main/Training/defect/ржавчина_ текстура_ Металл_ Поверхность_ сталь_ ржавый_ Ра.jpg  \n",
            "  inflating: Metall_Dataset_test-main/Training/defect/ржавчина_ текстура_ лист_ ржавый_ структура_ железо_ сталь.jpg  \n",
            "  inflating: Metall_Dataset_test-main/Training/defect/ржавчина_ текстура_ металл_ ржавый металл_ старый металл__.jpg  \n",
            "  inflating: Metall_Dataset_test-main/Training/defect/ржавчина_ текстура_ поверхность - скачать картинку.jpg  \n",
            "  inflating: Metall_Dataset_test-main/Training/defect/ржавчина_ текстура_ поверхность_ сломанная краска_ белый _.jpg  \n",
            "  inflating: Metall_Dataset_test-main/Training/defect/ржавый металл ржавая железная старая металлическая ржавчин (1).jpg  \n",
            "  inflating: Metall_Dataset_test-main/Training/defect/ржавый металл ржавая железная старая металлическая ржавчин (2).jpg  \n",
            "  inflating: Metall_Dataset_test-main/Training/defect/ржавый металл ржавая железная старая металлическая ржавчин (3).jpg  \n",
            "  inflating: Metall_Dataset_test-main/Training/defect/ржавый металл ржавая железная старая металлическая ржавчин.jpg  \n",
            "  inflating: Metall_Dataset_test-main/Training/defect/робот глаза страница ржавый металл ржавчина железо.jpg  \n",
            "  inflating: Metall_Dataset_test-main/Training/defect/рустикальный фон ржавчина текстура Стоковое Изображение -_.jpg  \n",
            "  inflating: Metall_Dataset_test-main/Training/defect/старый_ Металл_ Оксид_ ржавчина_ текстура_ Гранж_ Металлич.jpg  \n",
            "  inflating: Metall_Dataset_test-main/Training/defect/текстура ржавчины HD обои скачать бесплатно _ Wallp.jpg  \n",
            "  inflating: Metall_Dataset_test-main/Training/defect/текстура ржавчины безшовная Стоковое Фото - изображение_yy (1).jpg  \n",
            "  inflating: Metall_Dataset_test-main/Training/defect/текстура ржавчины безшовная Стоковое Фото - изображение_yy.jpg  \n",
            "  inflating: Metall_Dataset_test-main/Training/defect/текстура ржавчины стоковое фото. изображение насчитывающей_yythkg.jpg  \n",
            "  inflating: Metall_Dataset_test-main/Training/defect/текстура_ гранж_ ржавчина_ металл_ окислять_ коричневый_ ж.jpg  \n",
            "  inflating: Metall_Dataset_test-main/Training/defect/текстура_ металл_ бочка_ ржавчина_ Аннотация_ бак __yythkg.jpg  \n",
            "  inflating: Metall_Dataset_test-main/Training/defect/текстура_ металл_ картина_ ржавчина_ ржавый_ сталь __yythk.jpg  \n",
            "  inflating: Metall_Dataset_test-main/Training/defect/текстура_ металл_ ржавчина_ поверхность_ простынь_ материал__yyth.jpg  \n",
            "  inflating: Metall_Dataset_test-main/Training/defect/текстура_ узор_ аннотация_ справочная информация_ металл_.jpg  \n",
            "   creating: Metall_Dataset_test-main/Training/good/\n",
            "  inflating: Metall_Dataset_test-main/Training/good/No 4 Stainless Steel Coil Supplier _ Huaxiao_yythkg.jpg  \n",
            "  inflating: Metall_Dataset_test-main/Training/good/Stainless steel_ metal_ texture by znamenski _ Meta.jpg  \n",
            "  inflating: Metall_Dataset_test-main/Training/good/Бесплатное изображение_ алюминий_ сталь_ железо_ текстуры__yythkg.jpg  \n",
            "  inflating: Metall_Dataset_test-main/Training/good/Бесплатное изображение_ материал_ Группа_ шаблон_ Текстура__yythk.jpg  \n",
            "  inflating: Metall_Dataset_test-main/Training/good/Бесплатное изображение_ отверстие_ Нержавеющая сталь_ хром__yythk.jpg  \n",
            "  inflating: Metall_Dataset_test-main/Training/good/Брашированный металл текстура - 32 фото - картинки_.jpg  \n",
            "  inflating: Metall_Dataset_test-main/Training/good/Бриллиант_ задний план_ стали_ текстура_ металл_ лист._yyt.jpg  \n",
            "  inflating: Metall_Dataset_test-main/Training/good/Винтажные металлические текстуры крупным планом_ поверхность_yyth.jpg  \n",
            "  inflating: Metall_Dataset_test-main/Training/good/Вороненая сталь текстура - 32 фото - картинки_yythk.jpg  \n",
            "  inflating: Metall_Dataset_test-main/Training/good/Выпуклость Текстуры Из Нержавеющей Стали Фон Широкий_yythk.jpg  \n",
            "  inflating: Metall_Dataset_test-main/Training/good/Высокая_ щеткой_ качественный_ металл_ текстура. Щеткой_ м.jpg  \n",
            "  inflating: Metall_Dataset_test-main/Training/good/Гладкий металл текстура - 34 фото - картинки_yythkg.jpg  \n",
            "  inflating: Metall_Dataset_test-main/Training/good/Золотая нержавеющая сталь волосяного покрова Сияющее сусал.jpg  \n",
            "  inflating: Metall_Dataset_test-main/Training/good/Изготовленная сталь или алюминиевая металлическая текстура_yythkg.jpg  \n",
            "  inflating: Metall_Dataset_test-main/Training/good/Кортен текстура - фото и картинки abrakadabra.fun.jpg  \n",
            "  inflating: Metall_Dataset_test-main/Training/good/Купить смеситель omoikiri takamatsu 4994085 для мойки__yyt.jpg  \n",
            "  inflating: Metall_Dataset_test-main/Training/good/Кухонная мойка Omoikiri Mizu 78-LB IN Нержавеющая с.jpg  \n",
            "  inflating: Metall_Dataset_test-main/Training/good/Металл нержавейка текстура - 34 фото - картинки_yyt.jpg  \n",
            "  inflating: Metall_Dataset_test-main/Training/good/Металл_ Нержавеющая Сталь Текстура Стоковые Фотографии __y.jpg  \n",
            "  inflating: Metall_Dataset_test-main/Training/good/Металлическая текстура из нержавеющей стали фон _ Ф.jpg  \n",
            "  inflating: Metall_Dataset_test-main/Training/good/Металлические пластины. Стальная пластина_ хромированная бирка__y.jpg  \n",
            "  inflating: Metall_Dataset_test-main/Training/good/Металлические текстуры - 54 фото.jpg  \n",
            "  inflating: Metall_Dataset_test-main/Training/good/Металлические фоны (77 фото).jpg  \n",
            "  inflating: Metall_Dataset_test-main/Training/good/Металлический фон полированная сталь текстура_ вектор._ ст (1).jpg  \n",
            "  inflating: Metall_Dataset_test-main/Training/good/Металлический фон полированная сталь текстура_ вектор._ ст.jpg  \n",
            "  inflating: Metall_Dataset_test-main/Training/good/Металлический_ полированный_ текстура_ стали. Текстура_ вектор__y (1).jpg  \n",
            "  inflating: Metall_Dataset_test-main/Training/good/Металлический_ полированный_ текстура_ стали. Текстура_ вектор__y (2).jpg  \n",
            "  inflating: Metall_Dataset_test-main/Training/good/Металлический_ полированный_ текстура_ стали. Текстура_ вектор__y.jpg  \n",
            "  inflating: Metall_Dataset_test-main/Training/good/Нержавеющая Сталь Алюминия Круговой Щеткой Металлической Т.jpg  \n",
            "  inflating: Metall_Dataset_test-main/Training/good/Нержавеющая Стальстальнойсеребряный Фоновая Текстура Хром —_yythk (1).jpg  \n",
            "  inflating: Metall_Dataset_test-main/Training/good/Нержавеющая Стальстальнойсеребряный Фоновая Текстура Хром —_yythk (2).jpg  \n",
            "  inflating: Metall_Dataset_test-main/Training/good/Нержавеющая Стальстальнойсеребряный Фоновая Текстура Хром —_yythk (3).jpg  \n",
            "  inflating: Metall_Dataset_test-main/Training/good/Нержавеющая Стальстальнойсеребряный Фоновая Текстура Хром —_yythk.jpg  \n",
            "  inflating: Metall_Dataset_test-main/Training/good/Нержавеющая сталь индустрий текстуры металла поверхностная_yythkg.jpg  \n",
            "  inflating: Metall_Dataset_test-main/Training/good/Нержавеющая сталь матовый металл Фон_ серый_ простой__yyth.jpg  \n",
            "  inflating: Metall_Dataset_test-main/Training/good/Нержавеющая сталь с предпосылкой текстуры много точек_yyth (1).jpg  \n",
            "  inflating: Metall_Dataset_test-main/Training/good/Нержавеющая сталь с предпосылкой текстуры много точек_yyth.jpg  \n",
            "  inflating: Metall_Dataset_test-main/Training/good/Нержавеющая сталь текстура - 32 фото - картинки_yyt (1).jpg  \n",
            "  inflating: Metall_Dataset_test-main/Training/good/Нержавеющая сталь текстура - 32 фото - картинки_yyt (2).jpg  \n",
            "  inflating: Metall_Dataset_test-main/Training/good/Нержавеющая сталь текстура - 32 фото - картинки_yyt.jpg  \n",
            "  inflating: Metall_Dataset_test-main/Training/good/Нержавеющая сталь текстура - фото и картинки abraka (1).jpg  \n",
            "  inflating: Metall_Dataset_test-main/Training/good/Нержавеющая сталь текстура - фото и картинки abraka.jpg  \n",
            "  inflating: Metall_Dataset_test-main/Training/good/Нержавеющая сталь текстура бесшовная - фото и карти.jpg  \n",
            "  inflating: Metall_Dataset_test-main/Training/good/Обои Матовый металл_ металл_ сталь_ текстура_ черный_yythk (1).jpg  \n",
            "  inflating: Metall_Dataset_test-main/Training/good/Обои Матовый металл_ металл_ сталь_ текстура_ черный_yythk (2).jpg  \n",
            "  inflating: Metall_Dataset_test-main/Training/good/Обои Матовый металл_ металл_ сталь_ текстура_ черный_yythk.jpg  \n",
            "  inflating: Metall_Dataset_test-main/Training/good/Обои блики_ сталь_ блеск_ текстура_ Металл_ грани_.jpg  \n",
            "  inflating: Metall_Dataset_test-main/Training/good/Обои металл_ сталь_ текстура картинки на рабочий ст.jpg  \n",
            "  inflating: Metall_Dataset_test-main/Training/good/Отполированная фон текстуры металла стальной или нержавеющ.jpg  \n",
            "  inflating: Metall_Dataset_test-main/Training/good/Оцинкованная сталь текстура - 29 фото - картинки_yy (1).jpg  \n",
            "  inflating: Metall_Dataset_test-main/Training/good/Оцинкованная сталь текстура - 29 фото - картинки_yy (2).jpg  \n",
            "  inflating: Metall_Dataset_test-main/Training/good/Оцинкованная сталь текстура - 29 фото - картинки_yy (3).jpg  \n",
            "  inflating: Metall_Dataset_test-main/Training/good/Оцинкованная сталь текстура - 29 фото - картинки_yy.jpg  \n",
            "  inflating: Metall_Dataset_test-main/Training/good/Полированная сталь текстура - 32 фото - картинки_yy (1).jpg  \n",
            "  inflating: Metall_Dataset_test-main/Training/good/Полированная сталь текстура - 32 фото - картинки_yy (2).jpg  \n",
            "  inflating: Metall_Dataset_test-main/Training/good/Полированная сталь текстура - 32 фото - картинки_yy (3).jpg  \n",
            "  inflating: Metall_Dataset_test-main/Training/good/Полированная сталь текстура - 32 фото - картинки_yy.jpg  \n",
            "  inflating: Metall_Dataset_test-main/Training/good/Полированный металл текстура - 27 фото - картинки_y (1).jpg  \n",
            "  inflating: Metall_Dataset_test-main/Training/good/Полированный металл текстура - 27 фото - картинки_y.jpg  \n",
            "  inflating: Metall_Dataset_test-main/Training/good/Поцарапанный металлический фон из нержавеющей стали_ царап.jpg  \n",
            "  inflating: Metall_Dataset_test-main/Training/good/Поцарапанный серый металл_ сталь_ алюминиевая текстура пли.jpg  \n",
            "  inflating: Metall_Dataset_test-main/Training/good/Почищенная щеткой нержавеющей сталью предпосылка металла_.jpg  \n",
            "  inflating: Metall_Dataset_test-main/Training/good/Предпосылка стальной пластины текстуры металла Стоковое Из.jpg  \n",
            "  inflating: Metall_Dataset_test-main/Training/good/Предпосылка_ нержавеющая сталь Стоковое Изображение - изоб.jpg  \n",
            "  inflating: Metall_Dataset_test-main/Training/good/Радиальная текстура стали (стального листа_ металла) в_yyt.jpg  \n",
            "  inflating: Metall_Dataset_test-main/Training/good/Рифлёная Сталь Амортизированным Металлической Текстуры — с.jpg  \n",
            "  inflating: Metall_Dataset_test-main/Training/good/Рифлёная Сталь Бесшовная Текстура — стоковые фотографии_yy.jpg  \n",
            "  inflating: Metall_Dataset_test-main/Training/good/Серый Металлический Фон С Рисунком Текстуры Серый М.jpg  \n",
            "  inflating: Metall_Dataset_test-main/Training/good/Серый рельефный стальной металлический фон текстуры __yyth.jpg  \n",
            "  inflating: Metall_Dataset_test-main/Training/good/Создание и наложение пользовательской текстуры _ Inventor_.jpg  \n",
            "  inflating: Metall_Dataset_test-main/Training/good/Стали_ металл_ backgrounds_ текстура. Стали_ textures_ bac.jpg  \n",
            "  inflating: Metall_Dataset_test-main/Training/good/Стали_ металл_ текстура_ задний план. Стали_ металл__yythk.jpg  \n",
            "  inflating: Metall_Dataset_test-main/Training/good/Стали_ полированный_ текстура_ металлический. Стали_ полированный.jpg  \n",
            "  inflating: Metall_Dataset_test-main/Training/good/Сталь Изображения_ стоковые фотографии и картинки Сталь.jpg  \n",
            "  inflating: Metall_Dataset_test-main/Training/good/Сталь текстура - 61 фото - картинки и рисунк.jpg  \n",
            "  inflating: Metall_Dataset_test-main/Training/good/Сталь текстура - фото и картинки abrakadabra.fun.jpg  \n",
            "  inflating: Metall_Dataset_test-main/Training/good/Сталь текстура бесшовная - 34 фото - картинки_yythk.jpg  \n",
            "  inflating: Metall_Dataset_test-main/Training/good/Сталь-металл или алюминиевая полированная текстура Стоковое_yythk.jpg  \n",
            "  inflating: Metall_Dataset_test-main/Training/good/Сталь-металл или алюминиевая текстура с высоким разрешение.jpg  \n",
            "  inflating: Metall_Dataset_test-main/Training/good/Стоковая фотография 560989579_ Фон текстуры металла или_yy.jpg  \n",
            "  inflating: Metall_Dataset_test-main/Training/good/Текстура - сталь стоковое изображение. изображение насчиты.jpg  \n",
            "  inflating: Metall_Dataset_test-main/Training/good/Текстура Из Нержавеющей Стали Металлическая — стоковая_yyt.jpg  \n",
            "  inflating: Metall_Dataset_test-main/Training/good/Текстура Из Нержавеющей Стали Стоковые Фотографии __yythkg.jpg  \n",
            "  inflating: Metall_Dataset_test-main/Training/good/Текстура алюминия бесшовная - 31 фото - картинки_yy.jpg  \n",
            "  inflating: Metall_Dataset_test-main/Training/good/Текстура из нержавеющей стали или текстуры_ стоковая_yythk (1).jpg  \n",
            "  inflating: Metall_Dataset_test-main/Training/good/Текстура из нержавеющей стали или текстуры_ стоковая_yythk.jpg  \n",
            "  inflating: Metall_Dataset_test-main/Training/good/Текстура нержавейки бесшовная - фото и картинки abr.jpg  \n",
            "  inflating: Metall_Dataset_test-main/Training/good/Текстура нержавеющей стали бесшовная - фото и карти (1).jpg  \n",
            "  inflating: Metall_Dataset_test-main/Training/good/Текстура нержавеющей стали бесшовная - фото и карти.jpg  \n",
            "  inflating: Metall_Dataset_test-main/Training/good/Текстура хромированного металла - фото и картинки a.jpg  \n",
            "  inflating: Metall_Dataset_test-main/Training/good/Текстурный Деревянный Стальной Лист - Buy Деревянные_yythk.jpg  \n",
            "  inflating: Metall_Dataset_test-main/Training/good/ТигМет.jpg  \n",
            "  inflating: Metall_Dataset_test-main/Training/good/Фон металл - 61 фото.jpg  \n",
            "  inflating: Metall_Dataset_test-main/Training/good/Фон металлик - 60 фото.jpg  \n",
            "  inflating: Metall_Dataset_test-main/Training/good/Шлифованная сталь текстура - 35 фото - картинки_yyt (1).jpg  \n",
            "  inflating: Metall_Dataset_test-main/Training/good/Шлифованная сталь текстура - 35 фото - картинки_yyt.jpg  \n",
            "  inflating: Metall_Dataset_test-main/Training/good/алюминиевая текстура стоковое изображение. изображение насчитываю.jpg  \n",
            "  inflating: Metall_Dataset_test-main/Training/good/матовая нержавеющая сталь фоновое изображение _ Фон_yythkg.jpg  \n",
            "  inflating: Metall_Dataset_test-main/Training/good/метал X цифровые обои_ металл_ текстура_ фон_ гранж.jpg  \n",
            "  inflating: Metall_Dataset_test-main/Training/good/металл_ текстура_ нержавеющая сталь _ Pikist.jpg  \n",
            "  inflating: Metall_Dataset_test-main/Training/good/металлический хром_ железо_ нержавеющая сталь_ серебро -_y.jpg  \n",
            "  inflating: Metall_Dataset_test-main/Training/good/нержавеющая · сталь · текстуры · серый · анн.jpg  \n",
            "  inflating: Metall_Dataset_test-main/Training/good/нержавеющая сталь листовой_ отверстие_ Текстура_ фон фон_y.jpg  \n",
            "  inflating: Metall_Dataset_test-main/Training/good/нержавеющая сталь наклонный фон текстуры плиты Иллюстрация.jpg  \n",
            "  inflating: Metall_Dataset_test-main/Training/good/нержавеющая сталь стоковое изображение. изображение насчитывающей.jpg  \n",
            "  inflating: Metall_Dataset_test-main/Training/good/нержавеющая сталь темноты предпосылки Стоковое Фото -_yyth.jpg  \n",
            "  inflating: Metall_Dataset_test-main/Training/good/нержавеющая сталь_ металл_ отображение текстуры.jpg  \n",
            "  inflating: Metall_Dataset_test-main/Training/good/предпосылка металла текстуры почищенной щеткой стальной пл.jpg  \n",
            "  inflating: Metall_Dataset_test-main/Training/good/серый блестящий стальной металлический фон - стоковое_yyth (1).jpg  \n",
            "  inflating: Metall_Dataset_test-main/Training/good/серый блестящий стальной металлический фон - стоковое_yyth (2).jpg  \n",
            "  inflating: Metall_Dataset_test-main/Training/good/серый блестящий стальной металлический фон - стоковое_yyth.jpg  \n",
            "  inflating: Metall_Dataset_test-main/Training/good/синий текстиль_ металл_ текстура_ нержавеющая сталь_ фоны_.jpg  \n",
            "  inflating: Metall_Dataset_test-main/Training/good/старая черно-серая сталь из черного металла имеет н.jpg  \n",
            "  inflating: Metall_Dataset_test-main/Training/good/текстура из нержавеющей стали - стоковое фото __yyt.jpg  \n",
            "  inflating: Metall_Dataset_test-main/Training/good/текстура из нержавеющей стали_ фон_ металл и отраже.jpg  \n"
          ]
        }
      ]
    },
    {
      "cell_type": "markdown",
      "metadata": {
        "id": "rPN6v-9vxMqc"
      },
      "source": [
        "## Создаем Tensorflow Dataset'ы"
      ]
    },
    {
      "cell_type": "code",
      "metadata": {
        "id": "F64hcaQPx_fN"
      },
      "source": [
        "batch_size=256\n",
        "image_size=(100, 100)"
      ],
      "execution_count": null,
      "outputs": []
    },
    {
      "cell_type": "markdown",
      "metadata": {
        "id": "u51q8mc1CxY1"
      },
      "source": [
        "**Набор данных для обучения**"
      ]
    },
    {
      "cell_type": "code",
      "metadata": {
        "id": "AH3dDLUQAHo7",
        "colab": {
          "base_uri": "https://localhost:8080/"
        },
        "outputId": "71e8d14f-4c4c-4639-9c3c-aaded2b438b5"
      },
      "source": [
        "train_dataset = image_dataset_from_directory('Metall_Dataset_test-main/Training',\n",
        "                                             subset='training',\n",
        "                                             seed=42,\n",
        "                                             validation_split=0.1,\n",
        "                                             batch_size=batch_size,\n",
        "                                             image_size=image_size)"
      ],
      "execution_count": null,
      "outputs": [
        {
          "output_type": "stream",
          "name": "stdout",
          "text": [
            "Found 415 files belonging to 2 classes.\n",
            "Using 374 files for training.\n"
          ]
        }
      ]
    },
    {
      "cell_type": "markdown",
      "metadata": {
        "id": "35H5bgtTxYc8"
      },
      "source": [
        "**Проверочный набор данных**"
      ]
    },
    {
      "cell_type": "code",
      "metadata": {
        "id": "spLBXS39Lhra",
        "colab": {
          "base_uri": "https://localhost:8080/"
        },
        "outputId": "f18a23cd-880e-41fe-9fbc-c4a5e7324964"
      },
      "source": [
        "validation_dataset = image_dataset_from_directory('Metall_Dataset_test-main/Training',\n",
        "                                             subset='validation',\n",
        "                                             seed=42,\n",
        "                                             validation_split=0.1,\n",
        "                                             batch_size=batch_size,\n",
        "                                             image_size=image_size)"
      ],
      "execution_count": null,
      "outputs": [
        {
          "output_type": "stream",
          "name": "stdout",
          "text": [
            "Found 415 files belonging to 2 classes.\n",
            "Using 41 files for validation.\n"
          ]
        }
      ]
    },
    {
      "cell_type": "markdown",
      "metadata": {
        "id": "8klxjiS1xfzM"
      },
      "source": [
        "Названия классов в наборах данных."
      ]
    },
    {
      "cell_type": "code",
      "metadata": {
        "id": "D3Thtg-IDaWy",
        "colab": {
          "base_uri": "https://localhost:8080/"
        },
        "outputId": "a6a874a6-9542-404e-8d3e-35ea138d74af"
      },
      "source": [
        "class_names = train_dataset.class_names\n",
        "class_names"
      ],
      "execution_count": null,
      "outputs": [
        {
          "output_type": "execute_result",
          "data": {
            "text/plain": [
              "['defect', 'good']"
            ]
          },
          "metadata": {},
          "execution_count": 7
        }
      ]
    },
    {
      "cell_type": "markdown",
      "metadata": {
        "id": "VMNZ9fF8xkZq"
      },
      "source": [
        "**Примеры изображений**"
      ]
    },
    {
      "cell_type": "code",
      "metadata": {
        "id": "CxnwoDynDYbc",
        "colab": {
          "base_uri": "https://localhost:8080/",
          "height": 175
        },
        "outputId": "02af342f-6162-44d1-806b-b040cf3baf0b"
      },
      "source": [
        "plt.figure(figsize=(8, 8))\n",
        "for images, labels in train_dataset.take(1):\n",
        "  for i in range(2):\n",
        "    ax = plt.subplot(3, 3, i + 1)\n",
        "    plt.imshow(images[i].numpy().astype(\"uint8\"))\n",
        "    plt.title(class_names[labels[i]])\n",
        "    plt.axis(\"off\")"
      ],
      "execution_count": null,
      "outputs": [
        {
          "output_type": "display_data",
          "data": {
            "text/plain": [
              "<Figure size 576x576 with 2 Axes>"
            ],
            "image/png": "[encoded data removed]"
          },
          "metadata": {
            "needs_background": "light"
          }
        }
      ]
    },
    {
      "cell_type": "markdown",
      "metadata": {
        "id": "-sAk0diLC6jC"
      },
      "source": [
        "**Набор данных для тестирования**"
      ]
    },
    {
      "cell_type": "code",
      "metadata": {
        "id": "QmiYmGFhDP8s",
        "colab": {
          "base_uri": "https://localhost:8080/"
        },
        "outputId": "6072ad55-9276-4348-a6e5-8748c605c94c"
      },
      "source": [
        "test_dataset = image_dataset_from_directory('Metall_Dataset_test-main/Test',\n",
        "                                             batch_size=batch_size,\n",
        "                                             image_size=image_size)"
      ],
      "execution_count": null,
      "outputs": [
        {
          "output_type": "stream",
          "name": "stdout",
          "text": [
            "Found 60 files belonging to 2 classes.\n"
          ]
        }
      ]
    },
    {
      "cell_type": "code",
      "metadata": {
        "id": "9H9MnpTaDry6",
        "colab": {
          "base_uri": "https://localhost:8080/"
        },
        "outputId": "5f8f8dda-14c4-400e-f419-d2d43f8612aa"
      },
      "source": [
        "test_dataset.class_names"
      ],
      "execution_count": null,
      "outputs": [
        {
          "output_type": "execute_result",
          "data": {
            "text/plain": [
              "['defect', 'good']"
            ]
          },
          "metadata": {},
          "execution_count": 10
        }
      ]
    },
    {
      "cell_type": "markdown",
      "metadata": {
        "id": "YXTvZP4cyScr"
      },
      "source": [
        "## Настраиваем производительность TensorFlow DataSet'ов"
      ]
    },
    {
      "cell_type": "code",
      "metadata": {
        "id": "6viec98IMC74"
      },
      "source": [
        "AUTOTUNE = tf.data.experimental.AUTOTUNE\n",
        "\n",
        "train_dataset = train_dataset.prefetch(buffer_size=AUTOTUNE)\n",
        "validation_dataset = validation_dataset.prefetch(buffer_size=AUTOTUNE)\n",
        "test_dataset = test_dataset.prefetch(buffer_size=AUTOTUNE)"
      ],
      "execution_count": null,
      "outputs": []
    },
    {
      "cell_type": "markdown",
      "metadata": {
        "id": "mnT8h77PFLXu"
      },
      "source": [
        "## Создаем нейронную сеть"
      ]
    },
    {
      "cell_type": "code",
      "metadata": {
        "id": "I4tHAyyF_Q2h"
      },
      "source": [
        "# Создаем последовательную модель\n",
        "model = Sequential()\n",
        "# Сверточный слой\n",
        "model.add(Conv2D(16, (5, 5), padding='same',\n",
        "                 input_shape=(100, 100, 3), activation='relu'))\n",
        "# Слой подвыборки\n",
        "model.add(MaxPooling2D(pool_size=(2, 2)))\n",
        "# Сверточный слой\n",
        "model.add(Conv2D(32, (5, 5), activation='relu', padding='same'))\n",
        "# Слой подвыборки\n",
        "model.add(MaxPooling2D(pool_size=(2, 2)))\n",
        "# Сверточный слой\n",
        "model.add(Conv2D(64, (5, 5), activation='relu', padding='same'))\n",
        "# Слой подвыборки\n",
        "model.add(MaxPooling2D(pool_size=(2, 2)))\n",
        "# Сверточный слой\n",
        "model.add(Conv2D(128, (5, 5), activation='relu', padding='same'))\n",
        "# Слой подвыборки\n",
        "model.add(MaxPooling2D(pool_size=(2, 2)))\n",
        "# Полносвязная часть нейронной сети для классификации\n",
        "model.add(Flatten())\n",
        "model.add(Dense(1024, activation='relu'))\n",
        "model.add(Dropout(0.2))\n",
        "model.add(Dense(256, activation='relu'))\n",
        "model.add(Dropout(0.2))\n",
        "# Выходной слой, 131 нейрон по количеству классов\n",
        "model.add(Dense(131, activation='softmax'))"
      ],
      "execution_count": null,
      "outputs": []
    },
    {
      "cell_type": "markdown",
      "metadata": {
        "id": "iZ8E1aF0FS1s"
      },
      "source": [
        "**Компилируем модель**"
      ]
    },
    {
      "cell_type": "code",
      "metadata": {
        "id": "VyVlJMdGkrv-"
      },
      "source": [
        "model.compile(loss='sparse_categorical_crossentropy',\n",
        "              optimizer=\"adam\",\n",
        "              metrics=['accuracy'])"
      ],
      "execution_count": null,
      "outputs": []
    },
    {
      "cell_type": "markdown",
      "metadata": {
        "id": "Aq23si1YFYhF"
      },
      "source": [
        "## Обучаем нейронную сеть"
      ]
    },
    {
      "cell_type": "code",
      "metadata": {
        "id": "kyH5Ec9RkznF",
        "colab": {
          "base_uri": "https://localhost:8080/"
        },
        "outputId": "41dc134e-1ea5-4d2b-dc9d-d6232682a5de"
      },
      "source": [
        "history = model.fit(train_dataset,\n",
        "                    validation_data=validation_dataset,\n",
        "                    epochs=10,\n",
        "                    verbose=2)"
      ],
      "execution_count": null,
      "outputs": [
        {
          "output_type": "stream",
          "name": "stdout",
          "text": [
            "Epoch 1/10\n",
            "2/2 - 14s - loss: 33.7940 - accuracy: 0.2166 - val_loss: 13.2342 - val_accuracy: 0.2927 - 14s/epoch - 7s/step\n",
            "Epoch 2/10\n",
            "2/2 - 0s - loss: 8.7155 - accuracy: 0.4332 - val_loss: 0.7221 - val_accuracy: 0.7073 - 315ms/epoch - 158ms/step\n",
            "Epoch 3/10\n",
            "2/2 - 0s - loss: 0.8584 - accuracy: 0.7406 - val_loss: 0.5964 - val_accuracy: 0.6829 - 309ms/epoch - 155ms/step\n",
            "Epoch 4/10\n",
            "2/2 - 0s - loss: 0.6609 - accuracy: 0.7193 - val_loss: 0.3358 - val_accuracy: 0.7073 - 291ms/epoch - 145ms/step\n",
            "Epoch 5/10\n",
            "2/2 - 0s - loss: 0.5572 - accuracy: 0.7460 - val_loss: 0.2758 - val_accuracy: 0.9756 - 282ms/epoch - 141ms/step\n",
            "Epoch 6/10\n",
            "2/2 - 0s - loss: 0.4185 - accuracy: 0.8422 - val_loss: 0.2584 - val_accuracy: 0.9756 - 272ms/epoch - 136ms/step\n",
            "Epoch 7/10\n",
            "2/2 - 0s - loss: 0.3639 - accuracy: 0.8529 - val_loss: 0.2123 - val_accuracy: 0.9512 - 265ms/epoch - 133ms/step\n",
            "Epoch 8/10\n",
            "2/2 - 0s - loss: 0.3197 - accuracy: 0.8529 - val_loss: 0.4513 - val_accuracy: 0.7073 - 266ms/epoch - 133ms/step\n",
            "Epoch 9/10\n",
            "2/2 - 0s - loss: 0.5074 - accuracy: 0.7914 - val_loss: 0.2366 - val_accuracy: 0.9268 - 259ms/epoch - 130ms/step\n",
            "Epoch 10/10\n",
            "2/2 - 0s - loss: 0.4539 - accuracy: 0.8021 - val_loss: 0.2127 - val_accuracy: 0.9756 - 267ms/epoch - 133ms/step\n"
          ]
        }
      ]
    },
    {
      "cell_type": "markdown",
      "metadata": {
        "id": "bHssPqMqF9sv"
      },
      "source": [
        "## Оцениваем качетсво обучения сети"
      ]
    },
    {
      "cell_type": "code",
      "metadata": {
        "id": "5y4AHwlNou5y",
        "colab": {
          "base_uri": "https://localhost:8080/"
        },
        "outputId": "bddb89ae-1d11-43e0-9a2a-9074545861f1"
      },
      "source": [
        "# Оцениваем качество обучения модели на тестовых данных\n",
        "scores = model.evaluate(test_dataset, verbose=1)"
      ],
      "execution_count": null,
      "outputs": [
        {
          "output_type": "stream",
          "name": "stdout",
          "text": [
            "1/1 [==============================] - 0s 146ms/step - loss: 0.3530 - accuracy: 0.9000\n"
          ]
        }
      ]
    },
    {
      "cell_type": "code",
      "metadata": {
        "id": "fd1Xgsc77dOa",
        "colab": {
          "base_uri": "https://localhost:8080/"
        },
        "outputId": "be1da1f0-93dd-4150-cb1b-8eeb0eb01c3d"
      },
      "source": [
        "print(\"Доля верных ответов на тестовых данных, в процентах:\", round(scores[1] * 100, 4))"
      ],
      "execution_count": null,
      "outputs": [
        {
          "output_type": "stream",
          "name": "stdout",
          "text": [
            "Доля верных ответов на тестовых данных, в процентах: 90.0\n"
          ]
        }
      ]
    },
    {
      "cell_type": "code",
      "metadata": {
        "id": "laDVE2Zx5adS",
        "colab": {
          "base_uri": "https://localhost:8080/",
          "height": 280
        },
        "outputId": "e720c19a-22ce-4303-f9f8-58e0dc5eca87"
      },
      "source": [
        "plt.plot(history.history['accuracy'],\n",
        "         label='Доля верных ответов на обучающем наборе')\n",
        "plt.plot(history.history['val_accuracy'],\n",
        "         label='Доля верных ответов на проверочном наборе')\n",
        "plt.xlabel('Эпоха обучения')\n",
        "plt.ylabel('Доля верных ответов')\n",
        "plt.legend()\n",
        "plt.show()"
      ],
      "execution_count": null,
      "outputs": [
        {
          "output_type": "display_data",
          "data": {
            "text/plain": [
              "<Figure size 432x288 with 1 Axes>"
            ],
            "image/png": "[encoded data removed]"
          },
          "metadata": {
            "needs_background": "light"
          }
        }
      ]
    },
    {
      "cell_type": "code",
      "metadata": {
        "id": "wkFdAaRO5rlr",
        "colab": {
          "base_uri": "https://localhost:8080/",
          "height": 281
        },
        "outputId": "ed4e18b5-e211-4ca0-b0a3-b38d655feebc"
      },
      "source": [
        "plt.plot(history.history['loss'],\n",
        "         label='Ошибка на обучающем наборе')\n",
        "plt.plot(history.history['val_loss'],\n",
        "         label='Ошибка на проверочном наборе')\n",
        "plt.xlabel('Эпоха обучения')\n",
        "plt.ylabel('Ошибка')\n",
        "plt.legend()\n",
        "plt.show()"
      ],
      "execution_count": null,
      "outputs": [
        {
          "output_type": "display_data",
          "data": {
            "text/plain": [
              "<Figure size 432x288 with 1 Axes>"
            ],
            "image/png": "[encoded data removed]"
          },
          "metadata": {
            "needs_background": "light"
          }
        }
      ]
    },
    {
      "cell_type": "markdown",
      "metadata": {
        "id": "9Ax2lw6hRDlm"
      },
      "source": [
        "## Сохраняем обученную нейронную сеть"
      ]
    },
    {
      "cell_type": "code",
      "metadata": {
        "id": "uQhkelwPQ_PE"
      },
      "source": [
        "model.save(\"metal_model.h5\")"
      ],
      "execution_count": null,
      "outputs": []
    },
    {
      "cell_type": "markdown",
      "metadata": {
        "id": "V5rJhacl6isx"
      },
      "source": [
        "Сохраняем модель на локальный компьютер"
      ]
    },
    {
      "cell_type": "code",
      "metadata": {
        "id": "rV8R1WhKVpZK",
        "colab": {
          "base_uri": "https://localhost:8080/",
          "height": 34
        },
        "outputId": "1bf714b9-0e16-4e32-ab3f-4409b5ef8fca"
      },
      "source": [
        "files.download(\"metal_model.h5\")"
      ],
      "execution_count": null,
      "outputs": [
        {
          "output_type": "display_data",
          "data": {
            "text/plain": [
              "<IPython.core.display.Javascript object>"
            ],
            "application/javascript": [
              "\n",
              "    async function download(id, filename, size) {\n",
              "      if (!google.colab.kernel.accessAllowed) {\n",
              "        return;\n",
              "      }\n",
              "      const div = document.createElement('div');\n",
              "      const label = document.createElement('label');\n",
              "      label.textContent = `Downloading \"${filename}\": `;\n",
              "      div.appendChild(label);\n",
              "      const progress = document.createElement('progress');\n",
              "      progress.max = size;\n",
              "      div.appendChild(progress);\n",
              "      document.body.appendChild(div);\n",
              "\n",
              "      const buffers = [];\n",
              "      let downloaded = 0;\n",
              "\n",
              "      const channel = await google.colab.kernel.comms.open(id);\n",
              "      // Send a message to notify the kernel that we're ready.\n",
              "      channel.send({})\n",
              "\n",
              "      for await (const message of channel.messages) {\n",
              "        // Send a message to notify the kernel that we're ready.\n",
              "        channel.send({})\n",
              "        if (message.buffers) {\n",
              "          for (const buffer of message.buffers) {\n",
              "            buffers.push(buffer);\n",
              "            downloaded += buffer.byteLength;\n",
              "            progress.value = downloaded;\n",
              "          }\n",
              "        }\n",
              "      }\n",
              "      const blob = new Blob(buffers, {type: 'application/binary'});\n",
              "      const a = document.createElement('a');\n",
              "      a.href = window.URL.createObjectURL(blob);\n",
              "      a.download = filename;\n",
              "      div.appendChild(a);\n",
              "      a.click();\n",
              "      div.remove();\n",
              "    }\n",
              "  "
            ]
          },
          "metadata": {}
        },
        {
          "output_type": "display_data",
          "data": {
            "text/plain": [
              "<IPython.core.display.Javascript object>"
            ],
            "application/javascript": [
              "download(\"download_e0f5b41f-1281-425d-b675-7520a047d6fc\", \"metal_model.h5\", 63504384)"
            ]
          },
          "metadata": {}
        }
      ]
    }
  ]
}